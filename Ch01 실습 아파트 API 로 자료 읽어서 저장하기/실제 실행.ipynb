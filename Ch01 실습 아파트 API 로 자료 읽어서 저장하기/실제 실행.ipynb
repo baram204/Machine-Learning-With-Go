{
 "cells": [
  {
   "cell_type": "markdown",
   "metadata": {},
   "source": [
    "# 최종 정리"
   ]
  },
  {
   "cell_type": "markdown",
   "metadata": {},
   "source": [
    "## 요구사항"
   ]
  },
  {
   "cell_type": "markdown",
   "metadata": {
    "ExecuteTime": {
     "end_time": "Z",
     "start_time": "2018-03-17T14:56:55.152Z"
    }
   },
   "source": [
    "이 것을 왜 하냐? 계속 구글 스프레스 시트로 반복 작업을 하고 싶지 않았기 때문이다.\n",
    "\n",
    "- Ajax 로 특정 시군구 긁어오기\n",
    "- 정렬, 복사, 붙여넣기 등\n",
    "- 스프레트 시트에 지역-탭 별로 나누기\n",
    "\n",
    "이 정보의 최종 활용자는? 50대 컴퓨터에 익숙치 않은 어른. 그가 이 프로그램을 조작하진 않는다. 그리고 난 그에게 엑셀 파일만 주면 된다.\n",
    "\n",
    "몇 개의 필드를 숨기거나 하는 작업을 해도 된다. 그렇지만, 자료를 업데이트할 때마다 매번 자료의 형태를 가공해야하는 작업이 싫다.\n",
    "\n",
    "즉, 최종적으로 나는\n",
    "\n",
    "1. 내가 원하는 지역 경기도, 인천, 서울의 모든 아파트 정보를\n",
    "    - 각 페이지에\n",
    "    - 함수 한 번으로 가져오고\n",
    "    - 저장한 다음에\n",
    "    - 이것을 아래의 형태로 가공해서 각 부천,시흥시,광명시,구로구,양천구,부평구 페이지에 저장한다.\n",
    "    - 양식을 붙여넣을 수 있기 때문에.\n",
    "\n",
    "2. 최신 정보를 갱신할 때는.\n",
    "    - 기존의 정보의 명칭과 새로 받아온 것의 명칭을 비교해서\n",
    "    - 정보가 틀릴 때는 최신 것으로 업데이트하고\n",
    "    - 정보가 없을 때는 새로 추가하며\n",
    "    - 정보가 같을 때는 아무일도 하지 않는다.\n",
    "\n",
    "그렇게 되면 나는 이미 가공된 자료의 필드 몇개를 숨기거나 양식을 붙여넣는 수준으로 작업을 편하게 할 수 있다.\n",
    "\n",
    "연번|명칭|법정동|난방|관리사무실|팩스|준공일|방식|연차|동수|방광|요일|시간|금액|선입|문어|매수|1차|2차|비고\n",
    "--|--|--|--|--|--|--|--|--|--|--|--|--|--|--|--|--|--|--|--|--\n",
    "ㅇ|"
   ]
  },
  {
   "cell_type": "markdown",
   "metadata": {},
   "source": [
    "## 피드백"
   ]
  },
  {
   "cell_type": "markdown",
   "metadata": {},
   "source": [
    "비판과 재비판을 함 해보려고 한다.\n",
    "\n",
    "**원하는 지역의 아파트 코드만 가져온다**\n",
    "\n",
    "1. 필요한 건 오직 특정 시군구 정보 뿐이다.\n",
    " - 아니다. 특정 시군구 법정코드와 아파트 코드가 필요하다.\n",
    "2. 특정 시군구 아파트 코드만 필요하다\n",
    " - 가능하려면 2.x 메가짜리 파일에서 특정 동을 검색해서 그부분만 잘라서 xml 로 만든 뒤에 매번 csv 임포트 해줘야 한다.\n",
    "\n",
    "즉, sql 에 현재 가진 모든 법정코드와 주소를 테이블로 넣어두고 아파트 정보가 디테일하게 담긴 테이블에 정보를 넣어두는 것이 좋다.\n",
    "\n",
    "**아파트 코드만 얻어오면 아파트 정보를 얻을 수 있다.**\n",
    "\n",
    "- 그러나 읽어온 아파트 정보는 처리가 필요하다.\n",
    "- 게다가 영문으로 된 정보가 한글로 무엇인지 번역될 필요가 있다.\n",
    "\n",
    "```\n",
    "http://www.k-apt.go.kr/kaptinfo/getKaptInfo_detail.do?kapt_code=A10027255\n",
    "```"
   ]
  },
  {
   "cell_type": "code",
   "execution_count": null,
   "metadata": {
    "ExecuteTime": {
     "end_time": "Z",
     "start_time": "2018-03-17T23:37:13.214Z"
    },
    "scrolled": true
   },
   "outputs": [
    {
     "name": "stdout",
     "output_type": "stream",
     "text": [
      "{\"resultMap_match\":{\"KAPT_CODE\":\"A10027255\",\"TOWN_CODE\":20306348},\"resultMap_kapt\":{\"CODE_HEAT\":\"지역난방\",\"SUBWAY_STATION\":\"-\",\"SUBWAY_LINE\":\"7호선, 인천선\",\"KAPT_PE1AREA\":0,\"KAPT_PE2AREA\":0,\"KAPT_PE3AREA\":0,\"KAPT_PEAREA\":0,\"KAPT_PE4AREA\":0,\"DISPOSAL_TYPE\":\"분무식\",\"KAPT_PE5AREA\":0,\"KAP\n",
      "301\n",
      "<nil>\n"
     ]
    }
   ],
   "source": [
    "  import ( \"io/ioutil\";\"net/http\";\"strings\";\"fmt\";\"bytes\" )\n",
    "\n",
    "    res, err := http.Get(\"http://www.k-apt.go.kr/kaptinfo/getKaptInfo_detail.do?kapt_code=A10027255\")\n",
    "    defer res.Body.Close()\n",
    "    body, err := ioutil.ReadAll(res.Body); buf := bytes.NewBuffer(body); json := buf.String(); fmt.Println(json[:300])\n",
    "  \t"
   ]
  },
  {
   "cell_type": "markdown",
   "metadata": {},
   "source": [
    "# 구현 "
   ]
  },
  {
   "cell_type": "markdown",
   "metadata": {
    "heading_collapsed": true
   },
   "source": [
    "## 모든 행정동 코드 정보를 테이블에 넣기"
   ]
  },
  {
   "cell_type": "markdown",
   "metadata": {
    "heading_collapsed": true,
    "hidden": true
   },
   "source": [
    "### 파일을 읽어서 존재하는 정보만 배열로 준비하기"
   ]
  },
  {
   "cell_type": "code",
   "execution_count": 4,
   "metadata": {
    "ExecuteTime": {
     "end_time": "Z",
     "start_time": "2018-03-17T22:00:45.225Z"
    },
    "hidden": true
   },
   "outputs": [
    {
     "name": "stdout",
     "output_type": "stream",
     "text": [
      "[[1100000000 서울특별시] [1111000000 서울특별시 종로구] [1111010100 서울특별시 종로구 청운동] [1111010200 서울특별시 종로구 신교동]]\n",
      "168\n",
      "<nil>\n"
     ]
    }
   ],
   "source": [
    "import (\"encoding/csv\"; \"fmt\"; \"os\"; \"github.com/kniren/gota/dataframe\";)\n",
    "\n",
    "// 접속 생성 및  닫기 지연 걸기\n",
    " csvFile, err := os.Open(\"./법정동코드_전체자료.txt\")\n",
    " defer csvFile.Close()\n",
    "\n",
    "// 일단 리더생성 후 쉼표 옵션 기호를 탭으로 설정\n",
    " reader := csv.NewReader(csvFile)\n",
    " reader.Comma = '\\t' // Use tab-delimited instead of comma <---- here!\n",
    " reader.FieldsPerRecord = -1\n",
    "\n",
    "// 모두 읽어제껴버림\n",
    " arrayData, err := reader.ReadAll()\n",
    "\n",
    "// 헤더를 제외한 데이터만 배열에 담기\n",
    "var bjdArrData [][]string\n",
    "ind := 0\n",
    "for index, row := range arrayData{\n",
    "  \n",
    "    if (index == 0){\n",
    "        // bjdArrData = append(filteredArrData, row[:2])\n",
    "        // index가 0 이면 다시 for 룹 시작으로 가서 index 1 부터 처리\n",
    "        // 즉 헤더 빼고 데이터처리만 하라는 말\n",
    "        continue\n",
    "    }else if(row[2]==\"존재\"){\n",
    "        bjdArrData = append(bjdArrData, row[:2])\n",
    "    }\n",
    "}\n",
    "\n",
    "fmt.Println(bjdArrData[:4])"
   ]
  },
  {
   "cell_type": "markdown",
   "metadata": {
    "hidden": true
   },
   "source": [
    "### 테이블 생성 후 배열 자료를 추가하기 "
   ]
  },
  {
   "cell_type": "markdown",
   "metadata": {
    "hidden": true
   },
   "source": [
    "생성"
   ]
  },
  {
   "cell_type": "code",
   "execution_count": 16,
   "metadata": {
    "ExecuteTime": {
     "end_time": "Z",
     "start_time": "2018-03-17T22:09:58.025Z"
    },
    "hidden": true
   },
   "outputs": [],
   "source": [
    "import (\n",
    "\t\"database/sql\"\n",
    "\t\"log\"\n",
    "\t\"os\"\n",
    "    \"fmt\"\n",
    "    \n",
    "    pg \"github.com/lib/pq\"\n",
    ")\n",
    "\n",
    "    _ = pg.Efatal\n",
    "\n",
    "const (\n",
    "    DB_USER     = \"gopher\"\n",
    "    DB_PASSWORD = \"1111\"\n",
    "    DB_NAME     = \"gopher\" // postgres create DB named created user's\n",
    "    DB_HOST        = \"db\"\n",
    ")\n",
    " \n",
    "dbinfo := fmt.Sprintf(\"user=%s password=%s dbname=%s host=%s sslmode=disable\",\n",
    "    DB_USER, DB_PASSWORD, DB_NAME, DB_HOST)\n",
    "\n",
    "db, err := sql.Open(\"postgres\", dbinfo)\n",
    "\n",
    "if err != nil {\n",
    "    log.Println(err)\n",
    "}\n",
    "defer db.Close()\n",
    "\n",
    "createtable:= `CREATE TABLE 법정동 (\n",
    "                법정동코드 bigint NOT NULL DEFAULT 0,\n",
    "                법정동명 varchar(30)  NOT NULL DEFAULT ''\n",
    "              )`\n",
    "\n",
    "// 쿼리 날릴 준비를 하고 실행한다.\n",
    "stmt, err1 := db.Prepare(createtable)\n",
    "\n",
    "defer stmt.Close()\n",
    "\n",
    "\n",
    "_, err = stmt.Exec()\n",
    "if err != nil {\n",
    "    fmt.Println(err.Error())\n",
    "}"
   ]
  },
  {
   "cell_type": "markdown",
   "metadata": {
    "hidden": true
   },
   "source": [
    "벌크 임포트(대량 가져오기) https://godoc.org/github.com/lib/pq#hdr-Bulk_imports\n",
    "\n",
    "prepared statement http://go-database-sql.org/prepared.html\n"
   ]
  },
  {
   "cell_type": "code",
   "execution_count": 17,
   "metadata": {
    "ExecuteTime": {
     "end_time": "Z",
     "start_time": "2018-03-17T22:10:40.874Z"
    },
    "hidden": true
   },
   "outputs": [],
   "source": [
    "// 접속\n",
    "db, err := sql.Open(\"postgres\", dbinfo)\n",
    "defer db.Close()\n",
    "\n",
    "\n",
    "txn, err := db.Begin()\n",
    "if err != nil {\n",
    "\tfmt.Println(err)\n",
    "}\n",
    "// func CopyIn(table string, columns ...string) string\n",
    "stmt, err := txn.Prepare(pg.CopyIn(\"법정동\", \"법정동코드\", \"법정동명\"))\n",
    "if err != nil {\n",
    "\tfmt.Println(err)\n",
    "}\n",
    "\n",
    "for _, bjd := range bjdArrData {\n",
    "//     _, err = stmt.Exec(int64(bjd[0]), string(bjd[1]))\n",
    "        _, err = stmt.Exec(bjd[0], bjd[1])\n",
    "\tif err != nil {\n",
    "\t\tfmt.Println(err)\n",
    "\t}\n",
    "}\n",
    "\n",
    "_, err = stmt.Exec()\n",
    "if err != nil {\n",
    "\tfmt.Println(err)\n",
    "}\n",
    "\n",
    "err = stmt.Close()\n",
    "if err != nil {\n",
    "\tfmt.Println(err)\n",
    "}\n",
    "\n",
    "err = txn.Commit()\n",
    "if err != nil {\n",
    "\tfmt.Println(err)\n",
    "}"
   ]
  },
  {
   "cell_type": "markdown",
   "metadata": {
    "heading_collapsed": true
   },
   "source": [
    "## 특정 키워드를 입력하면 해당하는 모든 법정동 코드 가져오는 함수 만들기"
   ]
  },
  {
   "cell_type": "markdown",
   "metadata": {
    "hidden": true
   },
   "source": [
    "### 함수 설계 (mock)"
   ]
  },
  {
   "cell_type": "code",
   "execution_count": 42,
   "metadata": {
    "ExecuteTime": {
     "end_time": "Z",
     "start_time": "2018-03-17T23:04:39.568Z"
    },
    "hidden": true
   },
   "outputs": [
    {
     "name": "stdout",
     "output_type": "stream",
     "text": [
      "[1001 1002 1003]\n",
      "17\n",
      "<nil>\n"
     ]
    }
   ],
   "source": [
    "func getBjd(areaName string) []int {\n",
    "    \n",
    "    법정동코드결과 := []int{}\n",
    "    \n",
    "    // areaName Like 쿼리 결과 를 법정동 코드결과 변수에 append 로 넣는다.\n",
    "    \n",
    "    법정동코드결과 = append(법정동코드결과, 1001, 1002, 1003)\n",
    "    \n",
    "    return 법정동코드결과\n",
    "}\n",
    "\n",
    "fmt.Println(getBjd(\"지역키워드\"))"
   ]
  },
  {
   "cell_type": "markdown",
   "metadata": {
    "hidden": true
   },
   "source": [
    "### 쿼리 설계"
   ]
  },
  {
   "cell_type": "code",
   "execution_count": 46,
   "metadata": {
    "ExecuteTime": {
     "end_time": "Z",
     "start_time": "2018-03-17T23:10:45.728Z"
    },
    "hidden": true
   },
   "outputs": [
    {
     "name": "stderr",
     "output_type": "stream",
     "text": [
      "28:58: cannot use 코드하나 (variable of type int) as string value in argument to append\n"
     ]
    }
   ],
   "source": [
    "// db 접속 포인터를 얻고\n",
    "db, err := sql.Open(\"postgres\", dbinfo)\n",
    "\n",
    "if err != nil { log.Println(err)}\n",
    "defer db.Close()\n",
    "\n",
    "// Query the database.\n",
    "rows, err := db.Query(`\n",
    "    SELECT 법정동코드\n",
    "    FROM 법정동\n",
    "    WHERE 법정동명 LIKE $1\n",
    "    `, \"%서울%\")\n",
    "\n",
    "if err != nil { log.Println(err)}\n",
    "defer rows.Close()\n",
    "    \n",
    "fmt.Println(\"질의 날리기\")\n",
    "\n",
    "법정동코드결과 := []string{}\n",
    "\n",
    "for rows.Next() {\n",
    "    \n",
    "    코드하나 := 0\n",
    "\n",
    "if err := rows.Scan(&코드하나); err != nil {\n",
    "log.Println(err)}\n",
    " \n",
    "   법정동코드결과 =  append(법정동코드결과,코드하나)\n",
    "// fmt.Printf(\"%.2d, \\n\", 법정동코드)\n",
    "}\n",
    "    \n",
    "fmt.Println(\"출력하기\", 법정동코드결과[:4])\n",
    "    "
   ]
  },
  {
   "cell_type": "markdown",
   "metadata": {
    "hidden": true
   },
   "source": [
    "### 지역 키워드에 따라 법정동 코드를 가져오는 함수 완성"
   ]
  },
  {
   "cell_type": "code",
   "execution_count": 45,
   "metadata": {
    "ExecuteTime": {
     "end_time": "Z",
     "start_time": "2018-03-17T23:07:55.312Z"
    },
    "hidden": true
   },
   "outputs": [
    {
     "name": "stdout",
     "output_type": "stream",
     "text": [
      "[4155034021 4471038027 4481033026 4673000000 4673025000 4673025021 4673025022 4673025023 4673025024 4673025025 4673025026 4673025027 4673025028 4673025029 4673025030 4673031000 4673031021 4673031022 4673031023 4673031024 4673032000 4673032021 4673032022 4673032023 4673032024 4673032025 4673032026 4673032027 4673032028 4673032029 4673033000 4673033021 4673033022 4673033023 4673033024 4673033025 4673033026 4673033027 4673033028 4673033029 4673033030 4673034000 4673034021 4673034022 4673034023 4673034024 4673034025 4673034026 4673035000 4673035021 4673035022 4673035023 4673035024 4673035025 4673035026 4673035027 4673035028 4673036000 4673036021 4673036022 4673036023 4673036024 4673036025 4673036026 4673036027 4673037000 4673037021 4673037022 4673037023 4673037024 4673037025 4673037026 4673037027 4673037028 4673037029 4673037030 4673037031 4673037032 4673037033 4673037034 4673037035 4679034035 4715036027]\n",
      "915\n",
      "<nil>\n"
     ]
    }
   ],
   "source": [
    "func getBjd(areaName string) []int {\n",
    "    \n",
    "    법정동코드결과 := []int{}\n",
    "    \n",
    "    // areaName Like 쿼리 결과 를 법정동 코드결과 변수에 append 로 넣는다.\n",
    "    db, err := sql.Open(\"postgres\", dbinfo)\n",
    "    if err != nil { log.Println(err)}\n",
    "    defer db.Close()\n",
    "    \n",
    "    // Query the database.\n",
    "    rows, err := db.Query(`SELECT 법정동코드 FROM 법정동 WHERE 법정동명 LIKE $1`,\n",
    "                      \"%\"+ areaName +\"%\")\n",
    "    for rows.Next() {    \n",
    "        코드하나 := 0\n",
    "        if err := rows.Scan(&코드하나); err != nil {log.Println(err)}\n",
    "        법정동코드결과 =  append(법정동코드결과,코드하나)\n",
    "    }\n",
    "    \n",
    "    return 법정동코드결과\n",
    "}\n",
    "\n",
    "fmt.Println(getBjd(\"구례\"))"
   ]
  },
  {
   "cell_type": "markdown",
   "metadata": {},
   "source": [
    "## 아파트 기본 정보 담을 테이블 생성하기"
   ]
  },
  {
   "cell_type": "markdown",
   "metadata": {},
   "source": [
    "### xml 정보 확인"
   ]
  },
  {
   "cell_type": "markdown",
   "metadata": {},
   "source": [
    "https://tutorialedge.net/golang/parsing-xml-with-golang/\n",
    "\n",
    "https://www.thepolyglotdeveloper.com/2017/03/parse-xml-data-in-a-golang-application/\n",
    "\n",
    "response body 만 xml 로 바꿔서 xml 파싱한다."
   ]
  },
  {
   "cell_type": "markdown",
   "metadata": {},
   "source": [
    "### 헤더 테이블 매칭 관계 파악"
   ]
  },
  {
   "cell_type": "markdown",
   "metadata": {},
   "source": [
    "https://www.data.go.kr/subMain.jsp#/L3B1YnIvcG90L215cC9Jcm9zTXlQYWdlL29wZW5EZXZHdWlkZVBhZ2UkQF4wMTIkQF5wdWJsaWNEYXRhRGV0YWlsUGs9dWRkaTphMTJjNmU3Ni04OTgyLTRlM2UtYWZlMi05NDQxMmM3ZDBhNzkkQF5tYWluRmxhZz10cnVl"
   ]
  },
  {
   "cell_type": "markdown",
   "metadata": {},
   "source": [
    "### xml 구조 생성"
   ]
  },
  {
   "cell_type": "markdown",
   "metadata": {},
   "source": [
    "https://tutorialedge.net/golang/parsing-xml-with-golang/"
   ]
  },
  {
   "cell_type": "code",
   "execution_count": null,
   "metadata": {},
   "outputs": [],
   "source": [
    "import (\n",
    "\t\"encoding/xml\"\n",
    "\t\"fmt\"\n",
    "\t\"io/ioutil\"\n",
    "\t\"os\"\n",
    ")\n",
    "\n",
    "type ResMsg struct {\n",
    "\tXMLName xml.Name `xml:\"result\"`\n",
    "    결과코드 xml.Name `xml:\"resultCode\"`\n",
    "    결과메시지 xml.Name `xml:\"resultMag\"`\n",
    "\tItems   []Item   `xml:\"Items\"`\n",
    "}\n",
    "\n",
    "type Item struct {\n",
    "    Items   []Item   `xml:\"Items\"`\n",
    "    결과코드 string `xml:\"resultCode\"`\n",
    "    결과메시지 string `xml:\"resultMag\"`\n",
    "    아파트코드\tstring `xml:\"kaptCode\"`\n",
    "    아파트명\tstring `xml:\"kaptName\"`\n",
    "    법정동주소\tstring `xml:\"kaptAddr\"`\n",
    "    분양형태\tstring `xml:\"codeSaleNm\"`\n",
    "    난방방식\tstringe `xml:\"codeHeatNm\"`\n",
    "    건축물대장상 연면적\tstring `xml:\"kaptTarea\"`\n",
    "    동수\tstring `xml:\"kaptDongCnt\"`\n",
    "    세대수\tstring `xml:\"kaptdaCnt\"`\n",
    "    시공사\tstring `xml:\"kaptBcompany\"`\n",
    "    시행사\tstringe `xml:\"kaptAcompany\"`\n",
    "    관리사무소연락처\tstring `xml:\"kaptTel\"`\n",
    "    관리사무소팩스\tstring `xml:\"kaptFax\"`\n",
    "    홈페이지주소\tstringe `xml:\"kaptUrl\"`\n",
    "    단지분류\tstringe `xml:\"codeAptNm\"`\n",
    "    도로명주소\tstring `xml:\"doroJuso\"`\n",
    "    호수\tstring `xml:\"hoCnt\"`\n",
    "    관리방식\tstring `xml:\"codeMgrNm\"`\n",
    "    복도유형\txml.Name `xml:\"codeHallNm\"`\n",
    "    사용승인일\txml.Name `xml:\"kaptUsedate\"`\n",
    "    관리비부과면적\txml.Name `xml:\"kaptMarea\"`\n",
    "    전용면적별 세대현황\txml.Name `xml:\"kaptMparea_60\"`\n",
    "    전용면적별 세대현황\txml.Name `xml:\"kaptMparea_85\"`\n",
    "    전용면적별 세대현황\txml.Name `xml:\"kaptMparea_135\"`\n",
    "    전용면적별 세대현황\txml.Name `xml:\"kaptMparea_136\"`\n",
    "}\n"
   ]
  },
  {
   "cell_type": "markdown",
   "metadata": {},
   "source": []
  }
 ],
 "metadata": {
  "hide_input": false,
  "kernelspec": {
   "display_name": "Go (lgo)",
   "language": "go",
   "name": "lgo"
  },
  "language_info": {
   "file_extension": "",
   "mimetype": "",
   "name": "go",
   "version": ""
  },
  "latex_envs": {
   "LaTeX_envs_menu_present": true,
   "autoclose": false,
   "autocomplete": true,
   "bibliofile": "biblio.bib",
   "cite_by": "apalike",
   "current_citInitial": 1.0,
   "eqLabelWithNumbers": true,
   "eqNumInitial": 1.0,
   "hotkeys": {
    "equation": "Ctrl-E",
    "itemize": "Ctrl-I"
   },
   "labels_anchors": false,
   "latex_user_defs": false,
   "report_style_numbering": false,
   "user_envs_cfg": false
  },
  "toc": {
   "nav_menu": {},
   "number_sections": true,
   "sideBar": true,
   "skip_h1_title": false,
   "title_cell": "Table of Contents",
   "title_sidebar": "Contents",
   "toc_cell": false,
   "toc_position": {},
   "toc_section_display": true,
   "toc_window_display": false
  }
 },
 "nbformat": 4,
 "nbformat_minor": 2
}
