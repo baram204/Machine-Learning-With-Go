{
 "cells": [
  {
   "cell_type": "markdown",
   "metadata": {},
   "source": [
    "# 최종 정리"
   ]
  },
  {
   "cell_type": "markdown",
   "metadata": {
    "heading_collapsed": true
   },
   "source": [
    "## 요구사항"
   ]
  },
  {
   "cell_type": "markdown",
   "metadata": {
    "ExecuteTime": {
     "end_time": "Z",
     "start_time": "2018-03-17T14:56:55.152Z"
    },
    "hidden": true
   },
   "source": [
    "이 것을 왜 하냐? 계속 구글 스프레스 시트로 반복 작업을 하고 싶지 않았기 때문이다.\n",
    "\n",
    "- Ajax 로 특정 시군구 긁어오기\n",
    "- 정렬, 복사, 붙여넣기 등\n",
    "- 스프레트 시트에 지역-탭 별로 나누기\n",
    "\n",
    "이 정보의 최종 활용자는? 50대 컴퓨터에 익숙치 않은 어른. 그가 이 프로그램을 조작하진 않는다. 그리고 난 그에게 엑셀 파일만 주면 된다.\n",
    "\n",
    "몇 개의 필드를 숨기거나 하는 작업을 해도 된다. 그렇지만, 자료를 업데이트할 때마다 매번 자료의 형태를 가공해야하는 작업이 싫다.\n",
    "\n",
    "즉, 최종적으로 나는\n",
    "\n",
    "1. 내가 원하는 지역 경기도, 인천, 서울의 모든 아파트 정보를\n",
    "    - 각 페이지에\n",
    "    - 함수 한 번으로 가져오고\n",
    "    - 저장한 다음에\n",
    "    - 이것을 아래의 형태로 가공해서 각 부천,시흥시,광명시,구로구,양천구,부평구 페이지에 저장한다.\n",
    "    - 양식을 붙여넣을 수 있기 때문에.\n",
    "\n",
    "2. 최신 정보를 갱신할 때는.\n",
    "    - 기존의 정보의 명칭과 새로 받아온 것의 명칭을 비교해서\n",
    "    - 정보가 틀릴 때는 최신 것으로 업데이트하고\n",
    "    - 정보가 없을 때는 새로 추가하며\n",
    "    - 정보가 같을 때는 아무일도 하지 않는다.\n",
    "\n",
    "그렇게 되면 나는 이미 가공된 자료의 필드 몇개를 숨기거나 양식을 붙여넣는 수준으로 작업을 편하게 할 수 있다.\n",
    "\n",
    "연번|명칭|법정동|난방|관리사무실|팩스|준공일|방식|연차|동수|방광|요일|시간|금액|선입|문어|매수|1차|2차|비고\n",
    "--|--|--|--|--|--|--|--|--|--|--|--|--|--|--|--|--|--|--|--|--\n",
    "ㅇ|"
   ]
  },
  {
   "cell_type": "markdown",
   "metadata": {
    "heading_collapsed": true
   },
   "source": [
    "## 피드백"
   ]
  },
  {
   "cell_type": "markdown",
   "metadata": {
    "hidden": true
   },
   "source": [
    "비판과 재비판을 함 해보려고 한다.\n",
    "\n",
    "**원하는 지역의 아파트 코드만 가져온다**\n",
    "\n",
    "1. 필요한 건 오직 특정 시군구 정보 뿐이다.\n",
    " - 아니다. 특정 시군구 법정코드와 아파트 코드가 필요하다.\n",
    "2. 특정 시군구 아파트 코드만 필요하다\n",
    " - 가능하려면 2.x 메가짜리 파일에서 특정 동을 검색해서 그부분만 잘라서 xml 로 만든 뒤에 매번 csv 임포트 해줘야 한다.\n",
    "\n",
    "즉, sql 에 현재 가진 모든 법정코드와 주소를 테이블로 넣어두고 아파트 정보가 디테일하게 담긴 테이블에 정보를 넣어두는 것이 좋다.\n",
    "\n",
    "**아파트 코드만 얻어오면 아파트 정보를 얻을 수 있다.**\n",
    "\n",
    "- 그러나 읽어온 아파트 정보는 처리가 필요하다.\n",
    "- 게다가 영문으로 된 정보가 한글로 무엇인지 번역될 필요가 있다.\n",
    "\n",
    "```\n",
    "http://www.k-apt.go.kr/kaptinfo/getKaptInfo_detail.do?kapt_code=A10027255\n",
    "```"
   ]
  },
  {
   "cell_type": "code",
   "execution_count": 2,
   "metadata": {
    "ExecuteTime": {
     "end_time": "Z",
     "start_time": "2018-03-18T15:20:07.435Z"
    },
    "hidden": true,
    "scrolled": true
   },
   "outputs": [
    {
     "name": "stdout",
     "output_type": "stream",
     "text": [
      "{\"resultMap_match\":{\"KAPT_CODE\":\"A10027255\",\"TOWN_CODE\":20306348},\"resultMap_kapt\":{\"CODE_HEAT\":\"지역난방\",\"SUBWAY_STATION\":\"-\",\"SUBWAY_LINE\":\"7호선, 인천선\",\"KAPT_PE1AREA\":0,\"KAPT_PE2AREA\":0,\"KAPT_PE3AREA\":0,\"KAPT_PEAREA\":0,\"KAPT_PE4AREA\":0,\"DISPOSAL_TYPE\":\"분무식\",\"KAPT_PE5AREA\":0,\"KAP\n",
      "301\n",
      "<nil>\n"
     ]
    }
   ],
   "source": [
    "  import ( \"io/ioutil\";\"net/http\";\"strings\";\"fmt\";\"bytes\" )\n",
    "\n",
    "    res, err := http.Get(\"http://www.k-apt.go.kr/kaptinfo/getKaptInfo_detail.do?kapt_code=A10027255\")\n",
    "    defer res.Body.Close()\n",
    "    body, err := ioutil.ReadAll(res.Body); buf := bytes.NewBuffer(body); json := buf.String(); fmt.Println(json[:300])\n",
    "  \t"
   ]
  },
  {
   "cell_type": "markdown",
   "metadata": {},
   "source": [
    "# 구현 "
   ]
  },
  {
   "cell_type": "markdown",
   "metadata": {},
   "source": [
    "## 모든 행정동 코드 정보를 테이블에 넣기"
   ]
  },
  {
   "cell_type": "markdown",
   "metadata": {},
   "source": [
    "### 파일을 읽어서 존재하는 정보만 배열로 준비하기"
   ]
  },
  {
   "cell_type": "code",
   "execution_count": 1,
   "metadata": {
    "ExecuteTime": {
     "end_time": "Z",
     "start_time": "2018-03-22T16:07:47.461Z"
    },
    "init_cell": true
   },
   "outputs": [
    {
     "name": "stdout",
     "output_type": "stream",
     "text": [
      "[[1100000000 서울특별시] [1111000000 서울특별시 종로구] [1111010100 서울특별시 종로구 청운동] [1111010200 서울특별시 종로구 신교동]]\n",
      "168\n",
      "<nil>\n"
     ]
    }
   ],
   "source": [
    "import (\"encoding/csv\"; \"fmt\"; \"os\"; \"github.com/kniren/gota/dataframe\";)\n",
    "\n",
    "// 접속 생성 및  닫기 지연 걸기\n",
    " csvFile, err := os.Open(\"./법정동코드_전체자료.txt\")\n",
    " defer csvFile.Close()\n",
    "\n",
    "// 일단 리더생성 후 쉼표 옵션 기호를 탭으로 설정\n",
    " reader := csv.NewReader(csvFile)\n",
    " reader.Comma = '\\t' // Use tab-delimited instead of comma <---- here!\n",
    " reader.FieldsPerRecord = -1\n",
    "\n",
    "// 모두 읽어제껴버림\n",
    " arrayData, err := reader.ReadAll()\n",
    "\n",
    "// 헤더를 제외한 데이터만 배열에 담기\n",
    "var bjdArrData [][]string\n",
    "ind := 0\n",
    "for index, row := range arrayData{\n",
    "  \n",
    "    if (index == 0){\n",
    "        // bjdArrData = append(filteredArrData, row[:2])\n",
    "        // index가 0 이면 다시 for 룹 시작으로 가서 index 1 부터 처리\n",
    "        // 즉 헤더 빼고 데이터처리만 하라는 말\n",
    "        continue\n",
    "    }else if(row[2]==\"존재\"){\n",
    "        bjdArrData = append(bjdArrData, row[:2])\n",
    "    }\n",
    "}\n",
    "\n",
    "fmt.Println(bjdArrData[:4])"
   ]
  },
  {
   "cell_type": "markdown",
   "metadata": {},
   "source": [
    "### 테이블 생성 후 배열 자료를 추가하기 "
   ]
  },
  {
   "cell_type": "markdown",
   "metadata": {},
   "source": [
    "생성"
   ]
  },
  {
   "cell_type": "code",
   "execution_count": 2,
   "metadata": {
    "ExecuteTime": {
     "end_time": "Z",
     "start_time": "2018-03-22T16:07:47.464Z"
    },
    "init_cell": true
   },
   "outputs": [
    {
     "name": "stdout",
     "output_type": "stream",
     "text": [
      "pq: relation \"법정동\" already exists\n"
     ]
    }
   ],
   "source": [
    "import (\n",
    "\t\"database/sql\"\n",
    "\t\"log\"\n",
    "\t\"os\"\n",
    "    \"fmt\"\n",
    "    \n",
    "    pg \"github.com/lib/pq\"\n",
    ")\n",
    "\n",
    "    _ = pg.Efatal\n",
    "\n",
    "const (\n",
    "    DB_USER     = \"gopher\"\n",
    "    DB_PASSWORD = \"1111\"\n",
    "    DB_NAME     = \"gopher\" // postgres create DB named created user's\n",
    "    DB_HOST        = \"db\"\n",
    ")\n",
    " \n",
    "dbinfo := fmt.Sprintf(\"user=%s password=%s dbname=%s host=%s sslmode=disable\",\n",
    "    DB_USER, DB_PASSWORD, DB_NAME, DB_HOST)\n",
    "\n",
    "db, err := sql.Open(\"postgres\", dbinfo)\n",
    "\n",
    "if err != nil {\n",
    "    log.Println(err)\n",
    "}\n",
    "defer db.Close()\n",
    "\n",
    "createtable:= `CREATE TABLE 법정동 (\n",
    "                법정동코드 bigint NOT NULL DEFAULT 0,\n",
    "                법정동명 varchar(30)  NOT NULL DEFAULT ''\n",
    "              )`\n",
    "\n",
    "// 쿼리 날릴 준비를 하고 실행한다.\n",
    "stmt, err1 := db.Prepare(createtable)\n",
    "\n",
    "defer stmt.Close()\n",
    "\n",
    "\n",
    "_, err = stmt.Exec()\n",
    "if err != nil {\n",
    "    fmt.Println(err.Error())\n",
    "}"
   ]
  },
  {
   "cell_type": "markdown",
   "metadata": {},
   "source": [
    "벌크 임포트(대량 가져오기) https://godoc.org/github.com/lib/pq#hdr-Bulk_imports\n",
    "\n",
    "prepared statement http://go-database-sql.org/prepared.html\n"
   ]
  },
  {
   "cell_type": "code",
   "execution_count": 3,
   "metadata": {
    "ExecuteTime": {
     "end_time": "Z",
     "start_time": "2018-03-22T16:07:47.465Z"
    },
    "init_cell": true
   },
   "outputs": [],
   "source": [
    "// 접속\n",
    "db, err := sql.Open(\"postgres\", dbinfo)\n",
    "defer db.Close()\n",
    "\n",
    "\n",
    "txn, err := db.Begin()\n",
    "if err != nil {\n",
    "\tfmt.Println(err)\n",
    "}\n",
    "// func CopyIn(table string, columns ...string) string\n",
    "stmt, err := txn.Prepare(pg.CopyIn(\"법정동\", \"법정동코드\", \"법정동명\"))\n",
    "if err != nil {\n",
    "\tfmt.Println(err)\n",
    "}\n",
    "\n",
    "for _, bjd := range bjdArrData {\n",
    "//     _, err = stmt.Exec(int64(bjd[0]), string(bjd[1]))\n",
    "        _, err = stmt.Exec(bjd[0], bjd[1])\n",
    "\tif err != nil {\n",
    "\t\tfmt.Println(err)\n",
    "\t}\n",
    "}\n",
    "\n",
    "_, err = stmt.Exec()\n",
    "if err != nil {\n",
    "\tfmt.Println(err)\n",
    "}\n",
    "\n",
    "err = stmt.Close()\n",
    "if err != nil {\n",
    "\tfmt.Println(err)\n",
    "}\n",
    "\n",
    "err = txn.Commit()\n",
    "if err != nil {\n",
    "\tfmt.Println(err)\n",
    "}"
   ]
  },
  {
   "cell_type": "markdown",
   "metadata": {},
   "source": [
    "## 특정 키워드를 입력하면 해당하는 모든 법정동 코드 가져오는 함수 만들기"
   ]
  },
  {
   "cell_type": "markdown",
   "metadata": {
    "heading_collapsed": true
   },
   "source": [
    "### 함수 설계 (mock)"
   ]
  },
  {
   "cell_type": "code",
   "execution_count": 33,
   "metadata": {
    "ExecuteTime": {
     "end_time": "Z",
     "start_time": "2018-03-19T07:06:39.751Z"
    },
    "hidden": true
   },
   "outputs": [
    {
     "name": "stdout",
     "output_type": "stream",
     "text": [
      "[1001 1002 1003]\n",
      "17\n",
      "<nil>\n"
     ]
    }
   ],
   "source": [
    "func getBjd(areaName string) []int {\n",
    "    \n",
    "    법정동코드결과 := []int{}\n",
    "    \n",
    "    // areaName Like 쿼리 결과 를 법정동 코드결과 변수에 append 로 넣는다.\n",
    "    \n",
    "    법정동코드결과 = append(법정동코드결과, 1001, 1002, 1003)\n",
    "    \n",
    "    return 법정동코드결과\n",
    "}\n",
    "\n",
    "fmt.Println(getBjd(\"지역키워드\"))"
   ]
  },
  {
   "cell_type": "markdown",
   "metadata": {
    "heading_collapsed": true
   },
   "source": [
    "### 쿼리 설계"
   ]
  },
  {
   "cell_type": "code",
   "execution_count": 36,
   "metadata": {
    "ExecuteTime": {
     "end_time": "Z",
     "start_time": "2018-03-19T07:08:10.411Z"
    },
    "hidden": true
   },
   "outputs": [
    {
     "name": "stdout",
     "output_type": "stream",
     "text": [
      "질의 날리기\n",
      "출력하기 [1100000000 1111000000 1111010100 1111010200]\n",
      "59\n",
      "<nil>\n"
     ]
    }
   ],
   "source": [
    "// db 접속 포인터를 얻고\n",
    "db, err := sql.Open(\"postgres\", dbinfo)\n",
    "\n",
    "if err != nil { log.Println(err)}\n",
    "defer db.Close()\n",
    "\n",
    "// Query the database.\n",
    "rows, err := db.Query(`\n",
    "    SELECT 법정동코드\n",
    "    FROM 법정동\n",
    "    WHERE 법정동명 LIKE $1\n",
    "    `, \"%서울%\")\n",
    "\n",
    "if err != nil { log.Println(err)}\n",
    "defer rows.Close()\n",
    "    \n",
    "fmt.Println(\"질의 날리기\")\n",
    "\n",
    "법정동코드결과 := []string{}\n",
    "\n",
    "for rows.Next() {\n",
    "    \n",
    "    코드하나 := \"\"\n",
    "\n",
    "if err := rows.Scan(&코드하나); err != nil {\n",
    "log.Println(err)}\n",
    " \n",
    "   법정동코드결과 =  append(법정동코드결과,코드하나)\n",
    "// fmt.Printf(\"%.2d, \\n\", 법정동코드)\n",
    "}\n",
    "    \n",
    "fmt.Println(\"출력하기\", 법정동코드결과[:4])\n",
    "    "
   ]
  },
  {
   "cell_type": "markdown",
   "metadata": {},
   "source": [
    "### 지역 키워드에 따라 법정동 코드를 가져오는 함수 완성"
   ]
  },
  {
   "cell_type": "code",
   "execution_count": 4,
   "metadata": {
    "ExecuteTime": {
     "end_time": "Z",
     "start_time": "2018-03-22T16:07:47.467Z"
    },
    "init_cell": true
   },
   "outputs": [
    {
     "name": "stdout",
     "output_type": "stream",
     "text": [
      "[46730250 46730310 46730320 46730330]\n",
      "38\n",
      "<nil>\n"
     ]
    }
   ],
   "source": [
    "import (\n",
    "\t\"database/sql\"\n",
    "\t\"log\"\n",
    "\t\"os\"\n",
    "    \"fmt\"\n",
    "    \n",
    "    pg \"github.com/lib/pq\"\n",
    ")\n",
    "\n",
    "    _ = pg.Efatal\n",
    "\n",
    "const (\n",
    "    DB_USER     = \"gopher\"\n",
    "    DB_PASSWORD = \"1111\"\n",
    "    DB_NAME     = \"gopher\" // postgres create DB named created user's\n",
    "    DB_HOST        = \"db\"\n",
    ")\n",
    " \n",
    "dbinfo := fmt.Sprintf(\"user=%s password=%s dbname=%s host=%s sslmode=disable\",\n",
    "    DB_USER, DB_PASSWORD, DB_NAME, DB_HOST)\n",
    "\n",
    "func getBjd(areaName string) []int {\n",
    "    \n",
    "    법정동코드결과 := []int{}\n",
    "    \n",
    "    // areaName Like 쿼리 결과 를 법정동 코드결과 변수에 append 로 넣는다.\n",
    "    db, err := sql.Open(\"postgres\", dbinfo)\n",
    "    if err != nil { log.Println(err)}\n",
    "    defer db.Close()\n",
    "    \n",
    "    // Query the database.\n",
    "    rows, err := db.Query(`SELECT 법정동코드 FROM 법정동 WHERE 법정동명 LIKE $1`,\n",
    "                      \"%\"+ areaName +\"%\")\n",
    "    for rows.Next() {    \n",
    "        코드하나 := 0\n",
    "        if err := rows.Scan(&코드하나); err != nil {log.Println(err)}\n",
    "        법정동코드결과 =  append(법정동코드결과,코드하나)\n",
    "    }\n",
    "    \n",
    "    return 법정동코드결과\n",
    "}\n",
    "\n",
    "fmt.Println(getBjd(\"구례\")[:4])"
   ]
  },
  {
   "cell_type": "markdown",
   "metadata": {},
   "source": [
    "## 법정동을 주면 아파트 코드를 가져오는 함수 작성"
   ]
  },
  {
   "cell_type": "markdown",
   "metadata": {
    "heading_collapsed": true
   },
   "source": [
    "### 함수 설계 - Mock"
   ]
  },
  {
   "cell_type": "code",
   "execution_count": 5,
   "metadata": {
    "ExecuteTime": {
     "end_time": "Z",
     "start_time": "2018-03-18T15:20:52.754Z"
    },
    "hidden": true
   },
   "outputs": [
    {
     "name": "stdout",
     "output_type": "stream",
     "text": [
      "[A1001 A1002 A1003]\n",
      "20\n",
      "<nil>\n"
     ]
    }
   ],
   "source": [
    "func getAptCode(bjdCode int) []string {\n",
    "    \n",
    "    아파트코드결과 := []string{}\n",
    "    \n",
    "    // get 요청으로 반환받은 결과 값을 아파트 코드결과 변수에 append 로 넣는다.\n",
    "    \n",
    "    아파트코드결과 = append(아파트코드결과, \"A1001\", \"A1002\", \"A1003\")\n",
    "    \n",
    "    return 아파트코드결과\n",
    "}\n",
    "\n",
    "fmt.Println(getAptCode(263802006002))"
   ]
  },
  {
   "cell_type": "markdown",
   "metadata": {},
   "source": [
    "### get 요청과 처리 설계"
   ]
  },
  {
   "cell_type": "markdown",
   "metadata": {},
   "source": [
    "#### 요청 주소 만들기"
   ]
  },
  {
   "cell_type": "code",
   "execution_count": 5,
   "metadata": {
    "ExecuteTime": {
     "end_time": "Z",
     "start_time": "2018-03-22T16:07:47.468Z"
    },
    "init_cell": true
   },
   "outputs": [
    {
     "name": "stdout",
     "output_type": "stream",
     "text": [
      "9sfZOPVes/SD+woe/T+hLuNcrJUi0XE/LEf76rL2wuipBUT0GLQD4kEs4DISzyoOTkaRn4Ap52qnkpCUwElILg==\n",
      "http://apis.data.go.kr/1611000/AptListService/getRoadnameAptList?ServiceKey=9sfZOPVes%2FSD%2Bwoe%2FT%2BhLuNcrJUi0XE%2FLEf76rL2wuipBUT0GLQD4kEs4DISzyoOTkaRn4Ap52qnkpCUwElILg%3D%3D&loadCode=263802006002\n"
     ]
    }
   ],
   "source": [
    "import (\n",
    "    \"fmt\"\n",
    "    \"log\"\n",
    "    \"net/http\"\n",
    "    \"os\"\n",
    " \"net\"\n",
    "  \"net/url\"\n",
    "    \"strconv\"\n",
    ")\n",
    "\n",
    "// 인증키 디코딩\n",
    "s := \"http://apis.data.go.kr/1611000/AptListService/getRoadnameAptList?loadCode=263802006002&ServiceKey=9sfZOPVes%2FSD%2Bwoe%2FT%2BhLuNcrJUi0XE%2FLEf76rL2wuipBUT0GLQD4kEs4DISzyoOTkaRn4Ap52qnkpCUwElILg%3D%3D\"\n",
    "u, err := url.Parse(s)\n",
    "m, _ := url.ParseQuery(u.RawQuery)\n",
    "serviceKey := m[\"ServiceKey\"][0]\n",
    "fmt.Println(serviceKey)\n",
    "\n",
    "// 인증키를 넘기면 쿼리 주소를 반환\n",
    "func getAptlistUrl(targetUrl string, serviceKey string, bjdCode int) string{\n",
    "    \n",
    "    req, err := http.NewRequest(\"GET\", targetUrl, nil)\n",
    "    if err != nil {\n",
    "        log.Print(err)\n",
    "        //os.Exit(1)\n",
    "    }\n",
    "\n",
    "    bjdCodeStr := strconv.Itoa(bjdCode)\n",
    "    q := req.URL.Query()\n",
    "    q.Add(\"ServiceKey\", serviceKey)    \n",
    "    q.Add(\"loadCode\",bjdCodeStr) \n",
    "    req.URL.RawQuery = q.Encode()\n",
    "    url := req.URL.String()\n",
    "    fmt.Println(req.URL.String())\n",
    "    return  url   \n",
    "}\n",
    "bjdCode := 263802006002\n",
    "aptListurl := \"http://apis.data.go.kr/1611000/AptListService/getRoadnameAptList\"\n",
    "queryUrl := getAptlistUrl(aptListurl, serviceKey, bjdCode)"
   ]
  },
  {
   "cell_type": "markdown",
   "metadata": {},
   "source": [
    "#### 주소 요청 결과로 구조체 만들기"
   ]
  },
  {
   "cell_type": "markdown",
   "metadata": {},
   "source": [
    "위 주소를 받아서 xml 로 언마셜한 다음에 json 으로 마셜한다."
   ]
  },
  {
   "cell_type": "code",
   "execution_count": 6,
   "metadata": {
    "ExecuteTime": {
     "end_time": "Z",
     "start_time": "2018-03-22T16:07:47.469Z"
    },
    "init_cell": true,
    "scrolled": true
   },
   "outputs": [
    {
     "name": "stdout",
     "output_type": "stream",
     "text": [
      "<?xml version=\"1.0\" encoding=\"UTF-8\" standalone=\"yes\"?><response><header><resultCode>00</resultCode><resultMsg>NORMAL SERVICE.</resultMsg></header><body><items><item><kaptCode>A10027875</kaptCode><kaptName>괴정 경성스마트W아파트</kaptName></item><item><kaptCode>A60470801</kaptCode><kaptName>괴정엔스타</kaptName></item><item><kaptCode>A60473407</kaptCode><kaptName>신동양</kaptName></item><item><kaptCode>A60481303</kaptCode><kaptName>괴정일동지에닌아파트</kaptName></item><item><kaptCode>A60485510</kaptCode><kaptName>자유</kaptName></item></items><numOfRows>10</numOfRows><pageNo>1</pageNo><totalCount>5</totalCount></body></response>\n"
     ]
    }
   ],
   "source": [
    "import(\n",
    "    \"encoding/json\"\n",
    "    \"encoding/xml\"\n",
    "    \"io/ioutil\"\n",
    "    \"bytes\"\n",
    "    \"net/http\"\n",
    "    \"reflect\"\n",
    "    \"log\"\n",
    "    \"fmt\"\n",
    ")\n",
    "\n",
    "func getXmlResponse(queryUrl string) []uint8{\n",
    "\n",
    "    response, err := http.Get(queryUrl)\n",
    "    if err != nil {\n",
    "        log.Fatal(err)\n",
    "    }\n",
    "\n",
    "    defer response.Body.Close()\n",
    "\n",
    "    body, err := ioutil.ReadAll(response.Body)\n",
    "    if err != nil {\n",
    "        log.Fatal(err)\n",
    "    }\n",
    "    \n",
    "    // fmt.Println(reflect.TypeOf(body)) \n",
    "    // []uint8\n",
    "   \n",
    "    strBody := bytes.NewBuffer(body)\n",
    "\n",
    "    fmt.Println(strBody.String())\n",
    "    \n",
    "    return body\n",
    "}\n",
    "\n",
    "respBody := getXmlResponse(queryUrl)\n"
   ]
  },
  {
   "cell_type": "markdown",
   "metadata": {},
   "source": [
    "구조는 다음과 같다."
   ]
  },
  {
   "cell_type": "code",
   "execution_count": null,
   "metadata": {},
   "outputs": [],
   "source": [
    "<?xml version=\"1.0\" encoding=\"UTF-8\" standalone=\"yes\"?>\n",
    "    <response>\n",
    "        <header>\n",
    "            <resultCode>00</resultCode>\n",
    "            <resultMsg>NORMAL SERVICE.</resultMsg>\n",
    "        </header>\n",
    "        <body>\n",
    "            <items>\n",
    "                <item>\n",
    "                    <kaptCode>A10027875</kaptCode>\n",
    "                    <kaptName>괴정 경성스마트W아파트</kaptName>\n",
    "                </item>\n",
    "                <item><kaptCode>A60470801</kaptCode><kaptName>괴정엔스타</kaptName></item>\n",
    "                <item><kaptCode>A60473407</kaptCode><kaptName>신동양</kaptName></item>\n",
    "                <item><kaptCode>A60481303</kaptCode><kaptName>괴정일동지에닌아파트</kaptName></item>\n",
    "                <item><kaptCode>A60485510</kaptCode><kaptName>자유</kaptName></item>\n",
    "            </items>\n",
    "            <numOfRows>10</numOfRows>\n",
    "            <pageNo>1</pageNo>\n",
    "            <totalCount>5</totalCount>\n",
    "        </body>\n",
    "    </response>\n",
    "668\n",
    "<nil>"
   ]
  },
  {
   "cell_type": "markdown",
   "metadata": {},
   "source": [
    "구조체는 다음과 같음..  \n",
    "\n",
    "https://www.thepolyglotdeveloper.com/2017/03/parse-xml-data-in-a-golang-application/\n",
    "\n",
    "네스티드로 구조체 짤 수도 있다.\n",
    "https://stackoverflow.com/questions/32125816/parsing-xml-in-golang-unmarshaling"
   ]
  },
  {
   "cell_type": "code",
   "execution_count": 7,
   "metadata": {
    "ExecuteTime": {
     "end_time": "Z",
     "start_time": "2018-03-22T16:07:47.472Z"
    },
    "init_cell": true,
    "scrolled": false
   },
   "outputs": [
    {
     "name": "stdout",
     "output_type": "stream",
     "text": [
      "{{ response} {{ header} 0 NORMAL SERVICE.} {{{ items} [{{ item} A10027875 괴정 경성스마트W아파트} {{ item} A60470801 괴정엔스타} {{ item} A60473407 신동양} {{ item} A60481303 괴정일동지에닌아파트} {{ item} A60485510 자유}]} { body} 10 1 5}}\n"
     ]
    }
   ],
   "source": [
    "import(\n",
    "    \"encoding/json\"\n",
    "    \"encoding/xml\"\n",
    "    \"bytes\"\n",
    "\"reflect\")\n",
    "\n",
    "\n",
    "type AptCodeResponse struct {\n",
    "    XMLName xml.Name `xml:\"response\" json:\"-\"`\n",
    "    Header AptCodeHeader  `xml:\"header\" json:\"header\"`\n",
    "    Body AptCodeBody `xml:\"body\" json:\"body\"`\n",
    "}\n",
    "\n",
    "type AptCodeHeader struct{\n",
    "    XMLName xml.Name `xml:\"header\" json:\"-\"`\n",
    "    ResultCode int  `xml:\"resultCode\" json:\"resultCode\"`\n",
    "    ResultMsg string `xml:\"resultMsg\" json:\"resultMsg\"`\n",
    "}\n",
    "\n",
    "type AptCodeBody struct {\n",
    "    Items AptCodeItems `xml:\"items\" json:\"items\"`\n",
    "    XMLName xml.Name `xml:\"body\" json:\"-\"`\n",
    "    NumOfRows int  `xml:\"numOfRows\" json:\"numOfRows\"`\n",
    "    PageNo int `xml:\"pageNo\" json:\"pageNo\"`    \n",
    "    TotalCount int `xml:\"totalCount\" json:\"totalCount\"`    \n",
    "}\n",
    "// 아래처럼 하위 구조를 직접 파도 되고\n",
    "//     ItemList struct{\n",
    "//         Item []struct{\n",
    "//             KaptCode string  `xml:\"kaptCode\" json:\"kaptCode\"`\n",
    "//             KaptName string  `xml:\"kaptName\" json:\"kaptName\"`\n",
    "//         }`xml:\"item\" json:\"item\"`\n",
    "//     }`xml:\"items\" json:\"items\"`\n",
    "// }\n",
    "\n",
    "// items 밑에 여러 item 을 만들어도 된다.\n",
    "type AptCodeItems struct {\n",
    "    XMLName xml.Name `xml:\"items\" json:\"-\"`\n",
    "    ItemList []AptCodeItem `xml:\"item\" json:\"item\"`\n",
    "}\n",
    "\n",
    "\n",
    "type AptCodeItem struct {\n",
    "    XMLName xml.Name `xml:\"item\" json:\"-\"`\n",
    "    KaptCode string  `xml:\"kaptCode\" json:\"kaptCode\"`\n",
    "    KaptName string  `xml:\"kaptName\" json:\"kaptName\"`\n",
    "}\n",
    "\n",
    "\n",
    "func unMarshalAptXml(responseBody []byte) AptCodeResponse {\n",
    "    \n",
    "    var data AptCodeResponse\n",
    "    xml.Unmarshal([]byte(responseBody), &data)\n",
    "    fmt.Println(data)\n",
    "    // jsonData, _ := json.Marshal(data)\n",
    "    // fmt.Println(string(jsonData))\n",
    "\n",
    " return data\n",
    "}\n",
    "\n",
    "xmlData := unMarshalAptXml(respBody)\n"
   ]
  },
  {
   "cell_type": "markdown",
   "metadata": {},
   "source": [
    "#### XML 로부터 아파트 코드 추출하기"
   ]
  },
  {
   "cell_type": "code",
   "execution_count": 8,
   "metadata": {
    "ExecuteTime": {
     "end_time": "Z",
     "start_time": "2018-03-22T16:07:47.473Z"
    },
    "init_cell": true
   },
   "outputs": [
    {
     "name": "stdout",
     "output_type": "stream",
     "text": [
      "[A10027875 A60470801 A60473407 A60481303 A60485510]\n",
      "52\n",
      "<nil>\n"
     ]
    }
   ],
   "source": [
    "import(\n",
    "    \"encoding/json\"\n",
    "    \"encoding/xml\"\n",
    "    \"bytes\"\n",
    "\"reflect\"\n",
    "\"fmt\")\n",
    "\n",
    "serviceKey := \"9sfZOPVes/SD+woe/T+hLuNcrJUi0XE/LEf76rL2wuipBUT0GLQD4kEs4DISzyoOTkaRn4Ap52qnkpCUwElILg==\"\n",
    "\n",
    "//     queryUrl := getQueryUrl(serviceKey)\n",
    "//     respBody := getXmlResponse(queryUrl)\n",
    "//     xmlData := unMarshalXml(respBody)\n",
    "// fmt.Println(xmlData.Body.Items)\n",
    "\n",
    "func getAptCode(aptXmlData AptCodeResponse) []string {\n",
    "        \n",
    "    아파트코드결과 := []string{}\n",
    "    \n",
    "    // get 요청으로 반환받은 결과 값을 아파트 코드결과 변수에 append 로 넣는다.\n",
    "    \n",
    "    items := xmlData.Body.Items.ItemList\n",
    "    \n",
    "    for _,v := range items{\n",
    "        // fmt.Println(k,v)\n",
    "        아파트코드결과 = append(아파트코드결과, v.KaptCode )\n",
    "    }\n",
    "    \n",
    "    \n",
    "    \n",
    "    return 아파트코드결과\n",
    "}\n",
    "aptCodes := getAptCode(xmlData)\n",
    "fmt.Println(aptCodes)"
   ]
  },
  {
   "cell_type": "markdown",
   "metadata": {},
   "source": [
    "## 아파트 기본 정보 담을 테이블 생성하기"
   ]
  },
  {
   "cell_type": "markdown",
   "metadata": {},
   "source": [
    "### 아파트 기본 정보 xml 정보 확인 + 쿼리 작성 + 테이블 생성"
   ]
  },
  {
   "cell_type": "markdown",
   "metadata": {},
   "source": [
    "\n",
    "response body 만 xml 로 바꿔서 xml 파싱한다.\n",
    "https://tutorialedge.net/golang/parsing-xml-with-golang/\n",
    "\n",
    "https://www.thepolyglotdeveloper.com/2017/03/parse-xml-data-in-a-golang-application/\n",
    "\n",
    "\n",
    "받게되는 정보에 관한 설명\n",
    "https://www.data.go.kr/subMain.jsp#/L3B1YnIvcG90L215cC9Jcm9zTXlQYWdlL29wZW5EZXZHdWlkZVBhZ2UkQF4wMTIkQF5wdWJsaWNEYXRhRGV0YWlsUGs9dWRkaTphMTJjNmU3Ni04OTgyLTRlM2UtYWZlMi05NDQxMmM3ZDBhNzkkQF5tYWluRmxhZz10cnVl"
   ]
  },
  {
   "cell_type": "code",
   "execution_count": 9,
   "metadata": {
    "ExecuteTime": {
     "end_time": "Z",
     "start_time": "2018-03-22T16:07:47.475Z"
    },
    "init_cell": true
   },
   "outputs": [],
   "source": [
    "import(\n",
    "    \"encoding/json\"\n",
    "    \"encoding/xml\"\n",
    "    \"io/ioutil\"\n",
    "    \"bytes\"\n",
    "    \"net/http\"\n",
    "    \"reflect\"\n",
    "    \"log\"\n",
    "    \"fmt\"\n",
    ")\n",
    "\n",
    "serviceKey := \"9sfZOPVes/SD+woe/T+hLuNcrJUi0XE/LEf76rL2wuipBUT0GLQD4kEs4DISzyoOTkaRn4Ap52qnkpCUwElILg==\"\n",
    "\n",
    "func getAptDetailtUrl(targetUrl string, serviceKey string, kaptCode string) string{\n",
    "    \n",
    "    req, err := http.NewRequest(\"GET\", targetUrl, nil)\n",
    "    if err != nil {\n",
    "        log.Print(err)\n",
    "        //os.Exit(1)\n",
    "    }\n",
    "\n",
    "    q := req.URL.Query()\n",
    "    q.Add(\"ServiceKey\", serviceKey)    \n",
    "    q.Add(\"kaptCode\",  kaptCode)\n",
    "    req.URL.RawQuery = q.Encode()\n",
    "    url := req.URL.String()\n",
    "    // fmt.Println(req.URL.String())\n",
    "    return  url   \n",
    "}\n",
    "\n",
    "kaptCode := \"A10027875\"\n",
    "aptListurl := \"http://apis.data.go.kr/1611000/AptBasisInfoService/getAphusBassInfo\"\n",
    "queryUrl := getAptDetailtUrl(aptListurl, serviceKey, kaptCode)"
   ]
  },
  {
   "cell_type": "code",
   "execution_count": 10,
   "metadata": {
    "ExecuteTime": {
     "end_time": "Z",
     "start_time": "2018-03-22T16:07:47.477Z"
    },
    "init_cell": true
   },
   "outputs": [
    {
     "name": "stdout",
     "output_type": "stream",
     "text": [
      "<?xml version=\"1.0\" encoding=\"UTF-8\" standalone=\"yes\"?><response><header><resultCode>00</resultCode><resultMsg>NORMAL SERVICE.</resultMsg></header><body><item><bjdCode>2638010100</bjdCode><codeAptNm>아파트</codeAptNm><codeHallNm>혼합식</codeHallNm><codeHeatNm>개별난방</codeHeatNm><codeMgrNm>위탁관리</codeMgrNm><codeSaleNm>분양</codeSaleNm><hoCnt>182</hoCnt><kaptAcompany>(주)경성리츠</kaptAcompany><kaptAddr>부산광역시 사하구 괴정동 258 괴정 경성스마트W아파트</kaptAddr><kaptBcompany>(주)경성리츠</kaptBcompany><kaptCode>A10027875</kaptCode><kaptDongCnt>3</kaptDongCnt><kaptFax>051-294-9364</kaptFax><kaptMarea>15040.1634</kaptMarea><kaptMparea_135>0</kaptMparea_135><kaptMparea_136>0</kaptMparea_136><kaptMparea_60>182</kaptMparea_60><kaptMparea_85>0</kaptMparea_85><kaptName>괴정 경성스마트W아파트</kaptName><kaptTarea>19324.6751</kaptTarea><kaptTel>051-294-9363</kaptTel><kaptUrl> </kaptUrl><kaptUsedate>20150806</kaptUsedate><kaptdaCnt>182</kaptdaCnt><privArea>9014.0338</privArea></item></body></response>\n"
     ]
    }
   ],
   "source": [
    "respBody := getXmlResponse(queryUrl)"
   ]
  },
  {
   "cell_type": "code",
   "execution_count": 11,
   "metadata": {
    "ExecuteTime": {
     "end_time": "Z",
     "start_time": "2018-03-22T16:07:47.478Z"
    },
    "init_cell": true
   },
   "outputs": [],
   "source": [
    "type AptDetailResponse struct {\n",
    "    XMLName xml.Name `xml:\"response\" json:\"-\"`\n",
    "    Header AptDetailHeader  `xml:\"header\" json:\"header\"`\n",
    "    Body AptDetailBody `xml:\"body\" json:\"body\"`\n",
    "}\n",
    "\n",
    "type AptDetailHeader struct{\n",
    "    XMLName xml.Name `xml:\"header\" json:\"-\"`\n",
    "    ResultCode int  `xml:\"resultCode\" json:\"resultCode\"`\n",
    "    ResultMsg string `xml:\"resultMsg\" json:\"resultMsg\"`\n",
    "}\n",
    "\n",
    "type AptDetailBody struct {\n",
    "    XMLName xml.Name `xml:\"body\" json:\"-\"`\n",
    "    Item AptDetailItem `xml:\"item\" json:\"item\"`\n",
    "}\n",
    "\n",
    "type AptDetailItem struct {\n",
    "    XMLName xml.Name `xml:\"item\" json:\"-\"`\n",
    "    법정동코드 int  `xml:\"bjdCode\" json:\"bjdCode\"`\n",
    "    아파트코드\tstring `xml:\"kaptCode\" json:\"kaptCode\"`\n",
    "    아파트명\tstring `xml:\"kaptName\" json:\"kaptName\"`\n",
    "    법정동주소\tstring `xml:\"kaptAddr\" json:\"kaptAddr\"`\n",
    "    분양형태\tstring `xml:\"codeSaleNm\" json:\"codeSaleNm\"`\n",
    "    난방방식\tstring `xml:\"codeHeatNm\" json:\"codeHeatNm\"`\n",
    "    건축물대장상연면적\tfloat64 `xml:\"kaptTarea\" json:\"kaptTarea\"`\n",
    "    동수\tint `xml:\"kaptDongCnt\" json:\"kaptDongCnt\"`\n",
    "    세대수\tint `xml:\"kaptdaCnt\" json:\"kaptdaCnt\"`\n",
    "    시공사\tstring `xml:\"kaptBcompany\" json:\"kaptBcompany\"`\n",
    "    시행사\tstring `xml:\"kaptAcompany\" json:\"kaptAcompany\"`\n",
    "    관리사무소연락처\tstring `xml:\"kaptTel\" json:\"kaptTel\"`\n",
    "    관리사무소팩스\tstring `xml:\"kaptFax\" json:\"kaptFax\"`\n",
    "    홈페이지주소\tstring `xml:\"kaptUrl\" json:\"kaptUrl\"`\n",
    "    단지분류\tstring `xml:\"codeAptNm\" json:\"codeAptNm\"`\n",
    "    도로명주소\tstring `xml:\"doroJuso\" json:\"doroJuso\"`\n",
    "    호수\tstring `xml:\"hoCnt\" json:\"hoCnt\"`\n",
    "    관리방식\tstring `xml:\"codeMgrNm\" json:\"codeMgrNm\"`\n",
    "    복도유형\tstring `xml:\"codeHallNm\" json:\"codeHallNm\"`\n",
    "    사용승인일\tint `xml:\"kaptUsedate\" json:\"kaptUsedate\"`\n",
    "    관리비부과면적\tfloat64 `xml:\"kaptMarea\" json:\"kaptMarea\"`\n",
    "    전용면적별세대현황60\tint `xml:\"kaptMparea_60\" json:\"kaptMparea_60\"`\n",
    "    전용면적별세대현황85\tint `xml:\"kaptMparea_85\" json:\"kaptMparea_85\"`\n",
    "    전용면적별세대현황135\tint `xml:\"kaptMparea_135\" json:\"kaptMparea_135\"`\n",
    "    전용면적별세대현황136\tint `xml:\"kaptMparea_136\" json:\"kaptMparea_136\"`\n",
    "    단지전용면적합 float64 `xml:\"privArea\" json:\"privArea\"`\n",
    " }\n",
    "\n",
    "func unMarshalBjdXml(responseBody []byte) AptDetailResponse {\n",
    "    \n",
    "    var data AptDetailResponse\n",
    "    xml.Unmarshal([]byte(responseBody), &data)\n",
    "    // fmt.Println(data)\n",
    "    // jsonData, _ := json.Marshal(data)\n",
    "    // fmt.Println(string(jsonData))\n",
    "\n",
    " return data\n",
    "}\n",
    "\n",
    "xmlData := unMarshalBjdXml(respBody)"
   ]
  },
  {
   "cell_type": "markdown",
   "metadata": {},
   "source": [
    "## 특정 주소 키워드를 주면 지역 내 아파트정보를 반환하는 함수 만들기"
   ]
  },
  {
   "cell_type": "code",
   "execution_count": null,
   "metadata": {
    "ExecuteTime": {
     "start_time": "2018-03-19T18:31:48.121Z"
    }
   },
   "outputs": [
    {
     "name": "stdout",
     "output_type": "stream",
     "text": [
      "법정동 목록 시작 -----------\n",
      "[1156000000 1156010100 1156010200 1156010300 1156010400 1156010500 1156010600 1156010700 1156010800 1156010900 1156011000 1156011100 1156011200 1156011300 1156011400 1156011500 1156011600 1156011700 1156011800 1156011900 1156012000 1156012100 1156012200 1156012300 1156012400 1156012500 1156012600 1156012700 1156012800 1156012900 1156013000 1156013100 1156013200 1156013300 1156013400 1156000000 1156010100 1156010200 1156010300 1156010400 1156010500 1156010600 1156010700 1156010800 1156010900 1156011000 1156011100 1156011200 1156011300 1156011400 1156011500 1156011600 1156011700 1156011800 1156011900 1156012000 1156012100 1156012200 1156012300 1156012400 1156012500 1156012600 1156012700 1156012800 1156012900 1156013000 1156013100 1156013200 1156013300 1156013400 1156000000 1156010100 1156010200 1156010300 1156010400 1156010500 1156010600 1156010700 1156010800 1156010900 1156011000 1156011100 1156011200 1156011300 1156011400 1156011500 1156011600 1156011700 1156011800 1156011900 1156012000 1156012100 1156012200 1156012300 1156012400 1156012500 1156012600 1156012700 1156012800 1156012900 1156013000 1156013100 1156013200 1156013300 1156013400]\n",
      "법정동 목록 완료 -----------\n",
      "1156000000 아파트 목록 조회 시작 -----------\n",
      "http://apis.data.go.kr/1611000/AptListService/getRoadnameAptList?ServiceKey=9sfZOPVes%2FSD%2Bwoe%2FT%2BhLuNcrJUi0XE%2FLEf76rL2wuipBUT0GLQD4kEs4DISzyoOTkaRn4Ap52qnkpCUwElILg%3D%3D&loadCode=1156000000\n",
      "<?xml version=\"1.0\" encoding=\"UTF-8\" standalone=\"yes\"?><response><header><resultCode>00</resultCode><resultMsg>NORMAL SERVICE.</resultMsg></header><body><items/><numOfRows>10</numOfRows><pageNo>1</pageNo><totalCount>0</totalCount></body></response>\n",
      "0 처리 완료\n",
      "1156010100 아파트 목록 조회 시작 -----------\n",
      "http://apis.data.go.kr/1611000/AptListService/getRoadnameAptList?ServiceKey=9sfZOPVes%2FSD%2Bwoe%2FT%2BhLuNcrJUi0XE%2FLEf76rL2wuipBUT0GLQD4kEs4DISzyoOTkaRn4Ap52qnkpCUwElILg%3D%3D&loadCode=1156010100\n",
      "<?xml version=\"1.0\" encoding=\"UTF-8\" standalone=\"yes\"?><response><header><resultCode>00</resultCode><resultMsg>NORMAL SERVICE.</resultMsg></header><body><items/><numOfRows>10</numOfRows><pageNo>1</pageNo><totalCount>0</totalCount></body></response>\n",
      "0 처리 완료\n",
      "1156010200 아파트 목록 조회 시작 -----------\n",
      "http://apis.data.go.kr/1611000/AptListService/getRoadnameAptList?ServiceKey=9sfZOPVes%2FSD%2Bwoe%2FT%2BhLuNcrJUi0XE%2FLEf76rL2wuipBUT0GLQD4kEs4DISzyoOTkaRn4Ap52qnkpCUwElILg%3D%3D&loadCode=1156010200\n",
      "<?xml version=\"1.0\" encoding=\"UTF-8\" standalone=\"yes\"?><response><header><resultCode>00</resultCode><resultMsg>NORMAL SERVICE.</resultMsg></header><body><items/><numOfRows>10</numOfRows><pageNo>1</pageNo><totalCount>0</totalCount></body></response>\n",
      "0 처리 완료\n",
      "1156010300 아파트 목록 조회 시작 -----------\n",
      "http://apis.data.go.kr/1611000/AptListService/getRoadnameAptList?ServiceKey=9sfZOPVes%2FSD%2Bwoe%2FT%2BhLuNcrJUi0XE%2FLEf76rL2wuipBUT0GLQD4kEs4DISzyoOTkaRn4Ap52qnkpCUwElILg%3D%3D&loadCode=1156010300\n",
      "<?xml version=\"1.0\" encoding=\"UTF-8\" standalone=\"yes\"?><response><header><resultCode>00</resultCode><resultMsg>NORMAL SERVICE.</resultMsg></header><body><items/><numOfRows>10</numOfRows><pageNo>1</pageNo><totalCount>0</totalCount></body></response>\n",
      "0 처리 완료\n",
      "1156010400 아파트 목록 조회 시작 -----------\n",
      "http://apis.data.go.kr/1611000/AptListService/getRoadnameAptList?ServiceKey=9sfZOPVes%2FSD%2Bwoe%2FT%2BhLuNcrJUi0XE%2FLEf76rL2wuipBUT0GLQD4kEs4DISzyoOTkaRn4Ap52qnkpCUwElILg%3D%3D&loadCode=1156010400\n",
      "<?xml version=\"1.0\" encoding=\"UTF-8\" standalone=\"yes\"?><response><header><resultCode>00</resultCode><resultMsg>NORMAL SERVICE.</resultMsg></header><body><items/><numOfRows>10</numOfRows><pageNo>1</pageNo><totalCount>0</totalCount></body></response>\n",
      "0 처리 완료\n",
      "1156010500 아파트 목록 조회 시작 -----------\n",
      "http://apis.data.go.kr/1611000/AptListService/getRoadnameAptList?ServiceKey=9sfZOPVes%2FSD%2Bwoe%2FT%2BhLuNcrJUi0XE%2FLEf76rL2wuipBUT0GLQD4kEs4DISzyoOTkaRn4Ap52qnkpCUwElILg%3D%3D&loadCode=1156010500\n",
      "<?xml version=\"1.0\" encoding=\"UTF-8\" standalone=\"yes\"?><response><header><resultCode>00</resultCode><resultMsg>NORMAL SERVICE.</resultMsg></header><body><items/><numOfRows>10</numOfRows><pageNo>1</pageNo><totalCount>0</totalCount></body></response>\n",
      "0 처리 완료\n",
      "1156010600 아파트 목록 조회 시작 -----------\n",
      "http://apis.data.go.kr/1611000/AptListService/getRoadnameAptList?ServiceKey=9sfZOPVes%2FSD%2Bwoe%2FT%2BhLuNcrJUi0XE%2FLEf76rL2wuipBUT0GLQD4kEs4DISzyoOTkaRn4Ap52qnkpCUwElILg%3D%3D&loadCode=1156010600\n",
      "<?xml version=\"1.0\" encoding=\"UTF-8\" standalone=\"yes\"?><response><header><resultCode>00</resultCode><resultMsg>NORMAL SERVICE.</resultMsg></header><body><items/><numOfRows>10</numOfRows><pageNo>1</pageNo><totalCount>0</totalCount></body></response>\n",
      "0 처리 완료\n",
      "1156010700 아파트 목록 조회 시작 -----------\n",
      "http://apis.data.go.kr/1611000/AptListService/getRoadnameAptList?ServiceKey=9sfZOPVes%2FSD%2Bwoe%2FT%2BhLuNcrJUi0XE%2FLEf76rL2wuipBUT0GLQD4kEs4DISzyoOTkaRn4Ap52qnkpCUwElILg%3D%3D&loadCode=1156010700\n",
      "<?xml version=\"1.0\" encoding=\"UTF-8\" standalone=\"yes\"?><response><header><resultCode>00</resultCode><resultMsg>NORMAL SERVICE.</resultMsg></header><body><items/><numOfRows>10</numOfRows><pageNo>1</pageNo><totalCount>0</totalCount></body></response>\n",
      "0 처리 완료\n",
      "1156010800 아파트 목록 조회 시작 -----------\n",
      "http://apis.data.go.kr/1611000/AptListService/getRoadnameAptList?ServiceKey=9sfZOPVes%2FSD%2Bwoe%2FT%2BhLuNcrJUi0XE%2FLEf76rL2wuipBUT0GLQD4kEs4DISzyoOTkaRn4Ap52qnkpCUwElILg%3D%3D&loadCode=1156010800\n",
      "<?xml version=\"1.0\" encoding=\"UTF-8\" standalone=\"yes\"?><response><header><resultCode>00</resultCode><resultMsg>NORMAL SERVICE.</resultMsg></header><body><items/><numOfRows>10</numOfRows><pageNo>1</pageNo><totalCount>0</totalCount></body></response>\n",
      "0 처리 완료\n",
      "1156010900 아파트 목록 조회 시작 -----------\n",
      "http://apis.data.go.kr/1611000/AptListService/getRoadnameAptList?ServiceKey=9sfZOPVes%2FSD%2Bwoe%2FT%2BhLuNcrJUi0XE%2FLEf76rL2wuipBUT0GLQD4kEs4DISzyoOTkaRn4Ap52qnkpCUwElILg%3D%3D&loadCode=1156010900\n",
      "<?xml version=\"1.0\" encoding=\"UTF-8\" standalone=\"yes\"?><response><header><resultCode>00</resultCode><resultMsg>NORMAL SERVICE.</resultMsg></header><body><items/><numOfRows>10</numOfRows><pageNo>1</pageNo><totalCount>0</totalCount></body></response>\n",
      "0 처리 완료\n",
      "1156011000 아파트 목록 조회 시작 -----------\n",
      "http://apis.data.go.kr/1611000/AptListService/getRoadnameAptList?ServiceKey=9sfZOPVes%2FSD%2Bwoe%2FT%2BhLuNcrJUi0XE%2FLEf76rL2wuipBUT0GLQD4kEs4DISzyoOTkaRn4Ap52qnkpCUwElILg%3D%3D&loadCode=1156011000\n",
      "<?xml version=\"1.0\" encoding=\"UTF-8\" standalone=\"yes\"?><response><header><resultCode>00</resultCode><resultMsg>NORMAL SERVICE.</resultMsg></header><body><items/><numOfRows>10</numOfRows><pageNo>1</pageNo><totalCount>0</totalCount></body></response>\n",
      "0 처리 완료\n",
      "1156011100 아파트 목록 조회 시작 -----------\n",
      "http://apis.data.go.kr/1611000/AptListService/getRoadnameAptList?ServiceKey=9sfZOPVes%2FSD%2Bwoe%2FT%2BhLuNcrJUi0XE%2FLEf76rL2wuipBUT0GLQD4kEs4DISzyoOTkaRn4Ap52qnkpCUwElILg%3D%3D&loadCode=1156011100\n",
      "<?xml version=\"1.0\" encoding=\"UTF-8\" standalone=\"yes\"?><response><header><resultCode>00</resultCode><resultMsg>NORMAL SERVICE.</resultMsg></header><body><items/><numOfRows>10</numOfRows><pageNo>1</pageNo><totalCount>0</totalCount></body></response>\n",
      "0 처리 완료\n",
      "1156011200 아파트 목록 조회 시작 -----------\n",
      "http://apis.data.go.kr/1611000/AptListService/getRoadnameAptList?ServiceKey=9sfZOPVes%2FSD%2Bwoe%2FT%2BhLuNcrJUi0XE%2FLEf76rL2wuipBUT0GLQD4kEs4DISzyoOTkaRn4Ap52qnkpCUwElILg%3D%3D&loadCode=1156011200\n",
      "<?xml version=\"1.0\" encoding=\"UTF-8\" standalone=\"yes\"?><response><header><resultCode>00</resultCode><resultMsg>NORMAL SERVICE.</resultMsg></header><body><items/><numOfRows>10</numOfRows><pageNo>1</pageNo><totalCount>0</totalCount></body></response>\n",
      "0 처리 완료\n",
      "1156011300 아파트 목록 조회 시작 -----------\n",
      "http://apis.data.go.kr/1611000/AptListService/getRoadnameAptList?ServiceKey=9sfZOPVes%2FSD%2Bwoe%2FT%2BhLuNcrJUi0XE%2FLEf76rL2wuipBUT0GLQD4kEs4DISzyoOTkaRn4Ap52qnkpCUwElILg%3D%3D&loadCode=1156011300\n",
      "<?xml version=\"1.0\" encoding=\"UTF-8\" standalone=\"yes\"?><response><header><resultCode>00</resultCode><resultMsg>NORMAL SERVICE.</resultMsg></header><body><items/><numOfRows>10</numOfRows><pageNo>1</pageNo><totalCount>0</totalCount></body></response>\n",
      "0 처리 완료\n",
      "1156011400 아파트 목록 조회 시작 -----------\n",
      "http://apis.data.go.kr/1611000/AptListService/getRoadnameAptList?ServiceKey=9sfZOPVes%2FSD%2Bwoe%2FT%2BhLuNcrJUi0XE%2FLEf76rL2wuipBUT0GLQD4kEs4DISzyoOTkaRn4Ap52qnkpCUwElILg%3D%3D&loadCode=1156011400\n"
     ]
    },
    {
     "name": "stdout",
     "output_type": "stream",
     "text": [
      "<?xml version=\"1.0\" encoding=\"UTF-8\" standalone=\"yes\"?><response><header><resultCode>00</resultCode><resultMsg>NORMAL SERVICE.</resultMsg></header><body><items/><numOfRows>10</numOfRows><pageNo>1</pageNo><totalCount>0</totalCount></body></response>\n",
      "0 처리 완료\n",
      "1156011500 아파트 목록 조회 시작 -----------\n",
      "http://apis.data.go.kr/1611000/AptListService/getRoadnameAptList?ServiceKey=9sfZOPVes%2FSD%2Bwoe%2FT%2BhLuNcrJUi0XE%2FLEf76rL2wuipBUT0GLQD4kEs4DISzyoOTkaRn4Ap52qnkpCUwElILg%3D%3D&loadCode=1156011500\n",
      "<?xml version=\"1.0\" encoding=\"UTF-8\" standalone=\"yes\"?><response><header><resultCode>00</resultCode><resultMsg>NORMAL SERVICE.</resultMsg></header><body><items/><numOfRows>10</numOfRows><pageNo>1</pageNo><totalCount>0</totalCount></body></response>\n",
      "0 처리 완료\n",
      "1156011600 아파트 목록 조회 시작 -----------\n",
      "http://apis.data.go.kr/1611000/AptListService/getRoadnameAptList?ServiceKey=9sfZOPVes%2FSD%2Bwoe%2FT%2BhLuNcrJUi0XE%2FLEf76rL2wuipBUT0GLQD4kEs4DISzyoOTkaRn4Ap52qnkpCUwElILg%3D%3D&loadCode=1156011600\n",
      "<?xml version=\"1.0\" encoding=\"UTF-8\" standalone=\"yes\"?><response><header><resultCode>00</resultCode><resultMsg>NORMAL SERVICE.</resultMsg></header><body><items/><numOfRows>10</numOfRows><pageNo>1</pageNo><totalCount>0</totalCount></body></response>\n",
      "0 처리 완료\n",
      "1156011700 아파트 목록 조회 시작 -----------\n",
      "http://apis.data.go.kr/1611000/AptListService/getRoadnameAptList?ServiceKey=9sfZOPVes%2FSD%2Bwoe%2FT%2BhLuNcrJUi0XE%2FLEf76rL2wuipBUT0GLQD4kEs4DISzyoOTkaRn4Ap52qnkpCUwElILg%3D%3D&loadCode=1156011700\n",
      "<?xml version=\"1.0\" encoding=\"UTF-8\" standalone=\"yes\"?><response><header><resultCode>00</resultCode><resultMsg>NORMAL SERVICE.</resultMsg></header><body><items/><numOfRows>10</numOfRows><pageNo>1</pageNo><totalCount>0</totalCount></body></response>\n",
      "0 처리 완료\n",
      "1156011800 아파트 목록 조회 시작 -----------\n",
      "http://apis.data.go.kr/1611000/AptListService/getRoadnameAptList?ServiceKey=9sfZOPVes%2FSD%2Bwoe%2FT%2BhLuNcrJUi0XE%2FLEf76rL2wuipBUT0GLQD4kEs4DISzyoOTkaRn4Ap52qnkpCUwElILg%3D%3D&loadCode=1156011800\n",
      "<?xml version=\"1.0\" encoding=\"UTF-8\" standalone=\"yes\"?><response><header><resultCode>00</resultCode><resultMsg>NORMAL SERVICE.</resultMsg></header><body><items/><numOfRows>10</numOfRows><pageNo>1</pageNo><totalCount>0</totalCount></body></response>\n",
      "0 처리 완료\n",
      "1156011900 아파트 목록 조회 시작 -----------\n",
      "http://apis.data.go.kr/1611000/AptListService/getRoadnameAptList?ServiceKey=9sfZOPVes%2FSD%2Bwoe%2FT%2BhLuNcrJUi0XE%2FLEf76rL2wuipBUT0GLQD4kEs4DISzyoOTkaRn4Ap52qnkpCUwElILg%3D%3D&loadCode=1156011900\n",
      "<?xml version=\"1.0\" encoding=\"UTF-8\" standalone=\"yes\"?><response><header><resultCode>00</resultCode><resultMsg>NORMAL SERVICE.</resultMsg></header><body><items/><numOfRows>10</numOfRows><pageNo>1</pageNo><totalCount>0</totalCount></body></response>\n",
      "0 처리 완료\n",
      "1156012000 아파트 목록 조회 시작 -----------\n",
      "http://apis.data.go.kr/1611000/AptListService/getRoadnameAptList?ServiceKey=9sfZOPVes%2FSD%2Bwoe%2FT%2BhLuNcrJUi0XE%2FLEf76rL2wuipBUT0GLQD4kEs4DISzyoOTkaRn4Ap52qnkpCUwElILg%3D%3D&loadCode=1156012000\n",
      "<?xml version=\"1.0\" encoding=\"UTF-8\" standalone=\"yes\"?><response><header><resultCode>00</resultCode><resultMsg>NORMAL SERVICE.</resultMsg></header><body><items/><numOfRows>10</numOfRows><pageNo>1</pageNo><totalCount>0</totalCount></body></response>\n",
      "0 처리 완료\n",
      "1156012100 아파트 목록 조회 시작 -----------\n",
      "http://apis.data.go.kr/1611000/AptListService/getRoadnameAptList?ServiceKey=9sfZOPVes%2FSD%2Bwoe%2FT%2BhLuNcrJUi0XE%2FLEf76rL2wuipBUT0GLQD4kEs4DISzyoOTkaRn4Ap52qnkpCUwElILg%3D%3D&loadCode=1156012100\n",
      "<?xml version=\"1.0\" encoding=\"UTF-8\" standalone=\"yes\"?><response><header><resultCode>00</resultCode><resultMsg>NORMAL SERVICE.</resultMsg></header><body><items/><numOfRows>10</numOfRows><pageNo>1</pageNo><totalCount>0</totalCount></body></response>\n",
      "0 처리 완료\n",
      "1156012200 아파트 목록 조회 시작 -----------\n",
      "http://apis.data.go.kr/1611000/AptListService/getRoadnameAptList?ServiceKey=9sfZOPVes%2FSD%2Bwoe%2FT%2BhLuNcrJUi0XE%2FLEf76rL2wuipBUT0GLQD4kEs4DISzyoOTkaRn4Ap52qnkpCUwElILg%3D%3D&loadCode=1156012200\n",
      "<?xml version=\"1.0\" encoding=\"UTF-8\" standalone=\"yes\"?><response><header><resultCode>00</resultCode><resultMsg>NORMAL SERVICE.</resultMsg></header><body><items/><numOfRows>10</numOfRows><pageNo>1</pageNo><totalCount>0</totalCount></body></response>\n",
      "0 처리 완료\n",
      "1156012300 아파트 목록 조회 시작 -----------\n",
      "http://apis.data.go.kr/1611000/AptListService/getRoadnameAptList?ServiceKey=9sfZOPVes%2FSD%2Bwoe%2FT%2BhLuNcrJUi0XE%2FLEf76rL2wuipBUT0GLQD4kEs4DISzyoOTkaRn4Ap52qnkpCUwElILg%3D%3D&loadCode=1156012300\n",
      "<?xml version=\"1.0\" encoding=\"UTF-8\" standalone=\"yes\"?><response><header><resultCode>00</resultCode><resultMsg>NORMAL SERVICE.</resultMsg></header><body><items/><numOfRows>10</numOfRows><pageNo>1</pageNo><totalCount>0</totalCount></body></response>\n",
      "0 처리 완료\n",
      "1156012400 아파트 목록 조회 시작 -----------\n",
      "http://apis.data.go.kr/1611000/AptListService/getRoadnameAptList?ServiceKey=9sfZOPVes%2FSD%2Bwoe%2FT%2BhLuNcrJUi0XE%2FLEf76rL2wuipBUT0GLQD4kEs4DISzyoOTkaRn4Ap52qnkpCUwElILg%3D%3D&loadCode=1156012400\n",
      "<?xml version=\"1.0\" encoding=\"UTF-8\" standalone=\"yes\"?><response><header><resultCode>00</resultCode><resultMsg>NORMAL SERVICE.</resultMsg></header><body><items/><numOfRows>10</numOfRows><pageNo>1</pageNo><totalCount>0</totalCount></body></response>\n",
      "0 처리 완료\n",
      "1156012500 아파트 목록 조회 시작 -----------\n",
      "http://apis.data.go.kr/1611000/AptListService/getRoadnameAptList?ServiceKey=9sfZOPVes%2FSD%2Bwoe%2FT%2BhLuNcrJUi0XE%2FLEf76rL2wuipBUT0GLQD4kEs4DISzyoOTkaRn4Ap52qnkpCUwElILg%3D%3D&loadCode=1156012500\n",
      "<?xml version=\"1.0\" encoding=\"UTF-8\" standalone=\"yes\"?><response><header><resultCode>00</resultCode><resultMsg>NORMAL SERVICE.</resultMsg></header><body><items/><numOfRows>10</numOfRows><pageNo>1</pageNo><totalCount>0</totalCount></body></response>\n",
      "0 처리 완료\n",
      "1156012600 아파트 목록 조회 시작 -----------\n",
      "http://apis.data.go.kr/1611000/AptListService/getRoadnameAptList?ServiceKey=9sfZOPVes%2FSD%2Bwoe%2FT%2BhLuNcrJUi0XE%2FLEf76rL2wuipBUT0GLQD4kEs4DISzyoOTkaRn4Ap52qnkpCUwElILg%3D%3D&loadCode=1156012600\n",
      "<?xml version=\"1.0\" encoding=\"UTF-8\" standalone=\"yes\"?><response><header><resultCode>00</resultCode><resultMsg>NORMAL SERVICE.</resultMsg></header><body><items/><numOfRows>10</numOfRows><pageNo>1</pageNo><totalCount>0</totalCount></body></response>\n",
      "0 처리 완료\n",
      "1156012700 아파트 목록 조회 시작 -----------\n",
      "http://apis.data.go.kr/1611000/AptListService/getRoadnameAptList?ServiceKey=9sfZOPVes%2FSD%2Bwoe%2FT%2BhLuNcrJUi0XE%2FLEf76rL2wuipBUT0GLQD4kEs4DISzyoOTkaRn4Ap52qnkpCUwElILg%3D%3D&loadCode=1156012700\n",
      "<?xml version=\"1.0\" encoding=\"UTF-8\" standalone=\"yes\"?><response><header><resultCode>00</resultCode><resultMsg>NORMAL SERVICE.</resultMsg></header><body><items/><numOfRows>10</numOfRows><pageNo>1</pageNo><totalCount>0</totalCount></body></response>\n",
      "0 처리 완료\n",
      "1156012800 아파트 목록 조회 시작 -----------\n",
      "http://apis.data.go.kr/1611000/AptListService/getRoadnameAptList?ServiceKey=9sfZOPVes%2FSD%2Bwoe%2FT%2BhLuNcrJUi0XE%2FLEf76rL2wuipBUT0GLQD4kEs4DISzyoOTkaRn4Ap52qnkpCUwElILg%3D%3D&loadCode=1156012800\n",
      "<?xml version=\"1.0\" encoding=\"UTF-8\" standalone=\"yes\"?><response><header><resultCode>00</resultCode><resultMsg>NORMAL SERVICE.</resultMsg></header><body><items/><numOfRows>10</numOfRows><pageNo>1</pageNo><totalCount>0</totalCount></body></response>\n",
      "0 처리 완료\n",
      "1156012900 아파트 목록 조회 시작 -----------\n",
      "http://apis.data.go.kr/1611000/AptListService/getRoadnameAptList?ServiceKey=9sfZOPVes%2FSD%2Bwoe%2FT%2BhLuNcrJUi0XE%2FLEf76rL2wuipBUT0GLQD4kEs4DISzyoOTkaRn4Ap52qnkpCUwElILg%3D%3D&loadCode=1156012900\n",
      "<OpenAPI_ServiceResponse>\n",
      "\t<cmmMsgHeader>\n",
      "\t\t<returnCode>500</returnCode>\n",
      "\t\t<errMsg>게이트웨이 내부 서비스 오류</errMsg>\n",
      "\t</cmmMsgHeader>\n",
      "</OpenAPI_ServiceResponse>\n",
      "0 처리 완료\n",
      "1156013000 아파트 목록 조회 시작 -----------\n",
      "http://apis.data.go.kr/1611000/AptListService/getRoadnameAptList?ServiceKey=9sfZOPVes%2FSD%2Bwoe%2FT%2BhLuNcrJUi0XE%2FLEf76rL2wuipBUT0GLQD4kEs4DISzyoOTkaRn4Ap52qnkpCUwElILg%3D%3D&loadCode=1156013000\n"
     ]
    }
   ],
   "source": [
    "import \"strconv\"\n",
    "\n",
    "// 지역 키워드를 주면, 아파트 정보들을 반환한다.\n",
    "func getAptBaseInfo(areaKeyword string) []AptDetailItem {\n",
    "    \n",
    "    // prepare const\n",
    "    serviceKey := \"9sfZOPVes/SD+woe/T+hLuNcrJUi0XE/LEf76rL2wuipBUT0GLQD4kEs4DISzyoOTkaRn4Ap52qnkpCUwElILg==\"\n",
    "    aptListurl := \"http://apis.data.go.kr/1611000/AptListService/getRoadnameAptList\"\n",
    "    //aptDetailurl := \"http://apis.data.go.kr/1611000/AptBasisInfoService/getAphusBassInfo\"\n",
    "    \n",
    "    // bucket\n",
    "    var aptInformations []AptDetailItem\n",
    "    \n",
    "    \n",
    "    fmt.Println(\"법정동 목록 시작\",\"-----------\")\n",
    "    \n",
    "    // 법정동 주소의 목록을 반환\n",
    "    법정동목록 := getBjd(areaKeyword)\n",
    "    \n",
    "    fmt.Println(법정동목록)\n",
    "    \n",
    "    fmt.Println(\"법정동 목록 완료\",\"-----------\")\n",
    "    \n",
    "    // 법정동 하나씩 마다\n",
    "    for _, bjdCode := range 법정동목록{\n",
    "        \n",
    "        \n",
    "        fmt.Println(bjdCode,\"아파트 목록 조회 시작\",\"-----------\")\n",
    "        \n",
    "        queryUrl := getAptlistUrl(aptListurl, serviceKey, bjdCode)\n",
    "        respBody := getXmlResponse(queryUrl)\n",
    "        _ = respBody\n",
    "        //xmlData := unMarshalAptXml(respBody)\n",
    "        // _ = xmlData\n",
    "        \n",
    "//         fmt.Println(\"아파트 목록 조회 완료\",\"-----------\")\n",
    "        \n",
    "//         fmt.Println(\"아파트 목록 마샬링 시작\",\"-----------\")\n",
    "        \n",
    "//         // 여러 아파트 코드를 알아내서\n",
    "//         aptCodes := getAptCode(xmlData)\n",
    "\n",
    "        \n",
    "//         fmt.Println(\"아파트 목록 마샬링 완료\",\"-----------\")\n",
    "        \n",
    "//         // 아파트 코드 하나마다\n",
    "        \n",
    "//         fmt.Println(\"아파트 정보 조회 시작\",\"-----------\")\n",
    "//         for _, kaptCode := range aptCodes{\n",
    "//             queryUrl := getAptDetailtUrl(aptDetailurl, serviceKey, kaptCode)\n",
    "//             respBody := getXmlResponse(queryUrl)\n",
    "//             xmlData := unMarshalBjdXml(respBody)\n",
    "            \n",
    "//             // 정보를 알아낸 다음 차곡차곡 끼워 넣는다.\n",
    "//             aptInformations = append(aptInformations, xmlData.Body.Item)\n",
    "//             fmt.Println(xmlData.Body.Item.아파트명, \"처리완료\")\n",
    "//         }\n",
    "        \n",
    "        fmt.Println(len(aptInformations),\"처리 완료\")\n",
    "    }\n",
    "\n",
    "    return aptInformations\n",
    "}\n",
    "\n",
    "x := getAptBaseInfo(\"영등포구\")\n",
    "fmt.Println(x)"
   ]
  },
  {
   "cell_type": "code",
   "execution_count": 12,
   "metadata": {
    "ExecuteTime": {
     "end_time": "Z",
     "start_time": "2018-03-19T15:15:07.882Z"
    }
   },
   "outputs": [],
   "source": [
    "// 법정동 주소의 목록을 반환\n",
    "법정동목록 := getBjd(\"전라남도 구례군 구례읍 봉동리\")"
   ]
  },
  {
   "cell_type": "code",
   "execution_count": 13,
   "metadata": {
    "ExecuteTime": {
     "end_time": "Z",
     "start_time": "2018-03-19T15:15:12.961Z"
    }
   },
   "outputs": [
    {
     "name": "stdout",
     "output_type": "stream",
     "text": [
      "http://apis.data.go.kr/1611000/AptListService/getRoadnameAptList?ServiceKey=9sfZOPVes%2FSD%2Bwoe%2FT%2BhLuNcrJUi0XE%2FLEf76rL2wuipBUT0GLQD4kEs4DISzyoOTkaRn4Ap52qnkpCUwElILg%3D%3D&loadCode=4673025021\n"
     ]
    }
   ],
   "source": [
    "// 서비스키를 가지고 URL 생성\n",
    "serviceKey := \"9sfZOPVes/SD+woe/T+hLuNcrJUi0XE/LEf76rL2wuipBUT0GLQD4kEs4DISzyoOTkaRn4Ap52qnkpCUwElILg==\"\n",
    "aptListurl := \"http://apis.data.go.kr/1611000/AptListService/getRoadnameAptList\"\n",
    "bjdCode := 4673025021\n",
    "queryUrl := getAptlistUrl(aptListurl, serviceKey, bjdCode)"
   ]
  },
  {
   "cell_type": "code",
   "execution_count": null,
   "metadata": {
    "ExecuteTime": {
     "start_time": "2018-03-19T15:15:17.546Z"
    }
   },
   "outputs": [],
   "source": [
    "// url 에서 응답 반환\n",
    "respBody := getXmlResponse(queryUrl)\n",
    "xmlData := unMarshalAptXml(respBody)\n",
    "// aptCodes := getAptCode(xmlData)\n",
    "\n",
    "fmt.Println(aptCodes)"
   ]
  },
  {
   "cell_type": "code",
   "execution_count": 22,
   "metadata": {
    "ExecuteTime": {
     "end_time": "Z",
     "start_time": "2018-03-19T11:42:53.444Z"
    }
   },
   "outputs": [
    {
     "name": "stdout",
     "output_type": "stream",
     "text": [
      "http://apis.data.go.kr/1611000/AptBasisInfoService/getAphusBassInfo?ServiceKey=9sfZOPVes%2FSD%2Bwoe%2FT%2BhLuNcrJUi0XE%2FLEf76rL2wuipBUT0GLQD4kEs4DISzyoOTkaRn4Ap52qnkpCUwElILg%3D%3D&kaptCode=A10027875\n",
      "{{ response} {{ header} 0 NORMAL SERVICE.} {{ body} {{ item} 2638010100 A10027875 괴정 경성스마트W아파트 부산광역시 사하구 괴정동 258 괴정 경성스마트W아파트 분양 지역난방 19324.6751 3 182 (주)경성리츠 (주)경성리츠 051-294-9363 051-294-9364   아파트  182 위탁관리 혼합식 20150806 15040.1634 182 0 0 0 9014.0338}}}\n",
      "lgo_exec.AptDetailItem\n"
     ]
    }
   ],
   "source": [
    "kaptCode := aptCodes[0]\n",
    "aptDetailurl := \"http://apis.data.go.kr/1611000/AptBasisInfoService/getAphusBassInfo\"\n",
    "queryUrl := getAptDetailtUrl(aptListurl, serviceKey, kaptCode)\n",
    "\n",
    "xmlData := unMarshalBjdXml(respBody)\n",
    "\n",
    "import \"reflect\"\n",
    "reflect.TypeOf(xmlData.Body.Item)"
   ]
  },
  {
   "cell_type": "code",
   "execution_count": null,
   "metadata": {},
   "outputs": [],
   "source": []
  }
 ],
 "metadata": {
  "celltoolbar": "Initialization Cell",
  "hide_input": false,
  "kernelspec": {
   "display_name": "Go (lgo)",
   "language": "go",
   "name": "lgo"
  },
  "language_info": {
   "file_extension": "",
   "mimetype": "",
   "name": "go",
   "version": ""
  },
  "latex_envs": {
   "LaTeX_envs_menu_present": true,
   "autoclose": false,
   "autocomplete": true,
   "bibliofile": "biblio.bib",
   "cite_by": "apalike",
   "current_citInitial": 1,
   "eqLabelWithNumbers": true,
   "eqNumInitial": 1,
   "hotkeys": {
    "equation": "Ctrl-E",
    "itemize": "Ctrl-I"
   },
   "labels_anchors": false,
   "latex_user_defs": false,
   "report_style_numbering": false,
   "user_envs_cfg": false
  },
  "toc": {
   "nav_menu": {},
   "number_sections": true,
   "sideBar": true,
   "skip_h1_title": false,
   "title_cell": "Table of Contents",
   "title_sidebar": "Contents",
   "toc_cell": false,
   "toc_position": {},
   "toc_section_display": true,
   "toc_window_display": true
  }
 },
 "nbformat": 4,
 "nbformat_minor": 2
}
