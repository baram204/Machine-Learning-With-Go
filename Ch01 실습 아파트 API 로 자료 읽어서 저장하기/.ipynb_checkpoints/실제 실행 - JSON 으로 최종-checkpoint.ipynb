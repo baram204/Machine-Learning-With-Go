{
 "cells": [
  {
   "cell_type": "markdown",
   "metadata": {},
   "source": [
    "# 최종 정리"
   ]
  },
  {
   "cell_type": "markdown",
   "metadata": {
    "heading_collapsed": true
   },
   "source": [
    "## 요구사항"
   ]
  },
  {
   "cell_type": "markdown",
   "metadata": {
    "ExecuteTime": {
     "end_time": "Z",
     "start_time": "2018-03-17T14:56:55.152Z"
    },
    "hidden": true
   },
   "source": [
    "이 것을 왜 하냐? 계속 구글 스프레스 시트로 반복 작업을 하고 싶지 않았기 때문이다.\n",
    "\n",
    "- Ajax 로 특정 시군구 긁어오기\n",
    "- 정렬, 복사, 붙여넣기 등\n",
    "- 스프레트 시트에 지역-탭 별로 나누기\n",
    "\n",
    "이 정보의 최종 활용자는? 50대 컴퓨터에 익숙치 않은 어른. 그가 이 프로그램을 조작하진 않는다. 그리고 난 그에게 엑셀 파일만 주면 된다.\n",
    "\n",
    "몇 개의 필드를 숨기거나 하는 작업을 해도 된다. 그렇지만, 자료를 업데이트할 때마다 매번 자료의 형태를 가공해야하는 작업이 싫다.\n",
    "\n",
    "즉, 최종적으로 나는\n",
    "\n",
    "1. 내가 원하는 지역 경기도, 인천, 서울의 모든 아파트 정보를\n",
    "    - 각 페이지에\n",
    "    - 함수 한 번으로 가져오고\n",
    "    - 저장한 다음에\n",
    "    - 이것을 아래의 형태로 가공해서 각 부천,시흥시,광명시,구로구,양천구,부평구 페이지에 저장한다.\n",
    "    - 양식을 붙여넣을 수 있기 때문에.\n",
    "\n",
    "2. 최신 정보를 갱신할 때는.\n",
    "    - 기존의 정보의 명칭과 새로 받아온 것의 명칭을 비교해서\n",
    "    - 정보가 틀릴 때는 최신 것으로 업데이트하고\n",
    "    - 정보가 없을 때는 새로 추가하며\n",
    "    - 정보가 같을 때는 아무일도 하지 않는다.\n",
    "\n",
    "그렇게 되면 나는 이미 가공된 자료의 필드 몇개를 숨기거나 양식을 붙여넣는 수준으로 작업을 편하게 할 수 있다.\n",
    "\n",
    "연번|명칭|법정동|난방|관리사무실|팩스|준공일|방식|연차|동수|방광|요일|시간|금액|선입|문어|매수|1차|2차|비고\n",
    "--|--|--|--|--|--|--|--|--|--|--|--|--|--|--|--|--|--|--|--|--\n",
    "ㅇ|"
   ]
  },
  {
   "cell_type": "markdown",
   "metadata": {
    "heading_collapsed": true
   },
   "source": [
    "## 피드백"
   ]
  },
  {
   "cell_type": "markdown",
   "metadata": {
    "hidden": true
   },
   "source": [
    "비판과 재비판을 함 해보려고 한다.\n",
    "\n",
    "**원하는 지역의 아파트 코드만 가져온다**\n",
    "\n",
    "1. 필요한 건 오직 특정 시군구 정보 뿐이다.\n",
    " - 아니다. 특정 시군구 법정코드와 아파트 코드가 필요하다.\n",
    "2. 특정 시군구 아파트 코드만 필요하다\n",
    " - 가능하려면 2.x 메가짜리 파일에서 특정 동을 검색해서 그부분만 잘라서 xml 로 만든 뒤에 매번 csv 임포트 해줘야 한다.\n",
    "\n",
    "즉, sql 에 현재 가진 모든 법정코드와 주소를 테이블로 넣어두고 아파트 정보가 디테일하게 담긴 테이블에 정보를 넣어두는 것이 좋다.\n",
    "\n",
    "**아파트 코드만 얻어오면 아파트 정보를 얻을 수 있다.**\n",
    "\n",
    "- 그러나 읽어온 아파트 정보는 처리가 필요하다.\n",
    "- 게다가 영문으로 된 정보가 한글로 무엇인지 번역될 필요가 있다.\n",
    "\n",
    "```\n",
    "http://www.k-apt.go.kr/kaptinfo/getKaptInfo_detail.do?kapt_code=A10027255\n",
    "```"
   ]
  },
  {
   "cell_type": "code",
   "execution_count": 2,
   "metadata": {
    "ExecuteTime": {
     "end_time": "Z",
     "start_time": "2018-03-18T15:20:07.435Z"
    },
    "hidden": true,
    "scrolled": true
   },
   "outputs": [
    {
     "name": "stdout",
     "output_type": "stream",
     "text": [
      "{\"resultMap_match\":{\"KAPT_CODE\":\"A10027255\",\"TOWN_CODE\":20306348},\"resultMap_kapt\":{\"CODE_HEAT\":\"지역난방\",\"SUBWAY_STATION\":\"-\",\"SUBWAY_LINE\":\"7호선, 인천선\",\"KAPT_PE1AREA\":0,\"KAPT_PE2AREA\":0,\"KAPT_PE3AREA\":0,\"KAPT_PEAREA\":0,\"KAPT_PE4AREA\":0,\"DISPOSAL_TYPE\":\"분무식\",\"KAPT_PE5AREA\":0,\"KAP\n",
      "301\n",
      "<nil>\n"
     ]
    }
   ],
   "source": [
    "  import ( \"io/ioutil\";\"net/http\";\"strings\";\"fmt\";\"bytes\" )\n",
    "\n",
    "    res, err := http.Get(\"http://www.k-apt.go.kr/kaptinfo/getKaptInfo_detail.do?kapt_code=A10027255\")\n",
    "    defer res.Body.Close()\n",
    "    body, err := ioutil.ReadAll(res.Body); buf := bytes.NewBuffer(body); json := buf.String(); fmt.Println(json[:300])\n",
    "  \t"
   ]
  },
  {
   "cell_type": "markdown",
   "metadata": {},
   "source": [
    "# 구현 "
   ]
  },
  {
   "cell_type": "markdown",
   "metadata": {},
   "source": [
    "## 모든 법정동 코드 정보를 테이블에 넣기"
   ]
  },
  {
   "cell_type": "markdown",
   "metadata": {
    "heading_collapsed": true
   },
   "source": [
    "### 파일을 읽어서 존재하는 정보만 배열로 준비하기"
   ]
  },
  {
   "cell_type": "markdown",
   "metadata": {
    "hidden": true
   },
   "source": [
    "1. 존재하는 법정동 정보 중\n",
    "2. 코드 뒤 두자리가 00이면서\n",
    "3. 이름이 00동인 것만 추려서\n",
    "4. 코드 앞 8자리와 법정동명을 추출한다."
   ]
  },
  {
   "cell_type": "code",
   "execution_count": 1,
   "metadata": {
    "ExecuteTime": {
     "end_time": "Z",
     "start_time": "2018-03-22T21:16:09.121Z"
    },
    "hidden": true,
    "init_cell": true
   },
   "outputs": [
    {
     "name": "stdout",
     "output_type": "stream",
     "text": [
      "[[11110101 서울특별시 종로구 청운동] [11110102 서울특별시 종로구 신교동] [11110103 서울특별시 종로구 궁정동] [11110104 서울특별시 종로구 효자동] [11110105 서울특별시 종로구 창성동] [11110106 서울특별시 종로구 통의동] [11110107 서울특별시 종로구 적선동] [11110108 서울특별시 종로구 통인동] [11110109 서울특별시 종로구 누상동] [11110110 서울특별시 종로구 누하동] [11110111 서울특별시 종로구 옥인동] [11110112 서울특별시 종로구 체부동] [11110113 서울특별시 종로구 필운동] [11110114 서울특별시 종로구 내자동] [11110115 서울특별시 종로구 사직동] [11110116 서울특별시 종로구 도렴동] [11110117 서울특별시 종로구 당주동] [11110118 서울특별시 종로구 내수동] [11110119 서울특별시 종로구 세종로] [11110120 서울특별시 종로구 신문로1가] [11110121 서울특별시 종로구 신문로2가] [11110122 서울특별시 종로구 청진동] [11110123 서울특별시 종로구 서린동] [11110124 서울특별시 종로구 수송동] [11110125 서울특별시 종로구 중학동] [11110126 서울특별시 종로구 종로1가] [11110127 서울특별시 종로구 공평동] [11110128 서울특별시 종로구 관훈동] [11110129 서울특별시 종로구 견지동] [11110130 서울특별시 종로구 와룡동] [11110131 서울특별시 종로구 권농동] [11110132 서울특별시 종로구 운니동] [11110133 서울특별시 종로구 익선동] [11110134 서울특별시 종로구 경운동] [11110135 서울특별시 종로구 관철동] [11110136 서울특별시 종로구 인사동] [11110137 서울특별시 종로구 낙원동] [11110138 서울특별시 종로구 종로2가] [11110139 서울특별시 종로구 팔판동] [11110140 서울특별시 종로구 삼청동] [11110141 서울특별시 종로구 안국동] [11110142 서울특별시 종로구 소격동] [11110143 서울특별시 종로구 화동] [11110144 서울특별시 종로구 사간동] [11110145 서울특별시 종로구 송현동] [11110146 서울특별시 종로구 가회동] [11110147 서울특별시 종로구 재동] [11110148 서울특별시 종로구 계동] [11110149 서울특별시 종로구 원서동] [11110150 서울특별시 종로구 훈정동]]\n",
      "2353\n",
      "<nil>\n"
     ]
    }
   ],
   "source": [
    "import (\"encoding/csv\"; \"fmt\"; \"os\"; \"github.com/kniren/gota/dataframe\";\n",
    "       \"bytes\";\"regexp\";\"strings\")\n",
    "\n",
    "// 접속 생성 및  닫기 지연 걸기\n",
    " csvFile, err := os.Open(\"./법정동코드_전체자료.txt\")\n",
    " defer csvFile.Close()\n",
    "\n",
    "// 일단 리더생성 후 쉼표 옵션 기호를 탭으로 설정\n",
    " reader := csv.NewReader(csvFile)\n",
    " reader.Comma = '\\t' // Use tab-delimited instead of comma <---- here!\n",
    " reader.FieldsPerRecord = -1\n",
    "\n",
    "// 모두 읽어제껴버림\n",
    " arrayData, err := reader.ReadAll()\n",
    "\n",
    "// 헤더를 제외한 데이터만 배열에 담기\n",
    "bjdArrData := [][]string{}\n",
    "ind := 0\n",
    "\n",
    "// 패턴 매칭 숫자 8개, 0 두개\n",
    "r, _ := regexp.Compile(\"[0-9]{8}00\")\n",
    "\n",
    "for index, row := range arrayData{\n",
    "    \n",
    "    법정동코드 := row[0][:8]\n",
    "    법정동명 := row[1]\n",
    "    빈배열 := []string{법정동코드,법정동명 }\n",
    "    존재여부 := row[2]\n",
    "    숫자패턴 := r.MatchString(row[0])\n",
    "    주소묶음 := strings.Fields(row[1])\n",
    "    \n",
    "                         \n",
    "    if (index == 0){\n",
    "        // bjdArrData = append(filteredArrData, row[:2])\n",
    "        // index가 0 이면 다시 for 룹 시작으로 가서 index 1 부터 처리\n",
    "        // 즉 헤더 빼고 데이터처리만 하라는 말\n",
    "        continue\n",
    "    }else if( 존재여부 == \"존재\" && 숫자패턴 && len(주소묶음) == 3 ){\n",
    "        bjdArrData = append(bjdArrData, 빈배열)\n",
    "    }\n",
    "}\n",
    "\n",
    "fmt.Println(bjdArrData[:50])"
   ]
  },
  {
   "cell_type": "markdown",
   "metadata": {
    "heading_collapsed": true
   },
   "source": [
    "### 테이블 생성 후 배열 자료를 추가하기 "
   ]
  },
  {
   "cell_type": "markdown",
   "metadata": {
    "hidden": true
   },
   "source": [
    "생성"
   ]
  },
  {
   "cell_type": "code",
   "execution_count": 2,
   "metadata": {
    "ExecuteTime": {
     "end_time": "Z",
     "start_time": "2018-03-22T21:16:09.122Z"
    },
    "hidden": true,
    "init_cell": true
   },
   "outputs": [],
   "source": [
    "import (\n",
    "\t\"database/sql\"\n",
    "\t\"log\"\n",
    "\t\"os\"\n",
    "    \"fmt\"\n",
    "    \n",
    "    pg \"github.com/lib/pq\"\n",
    ")\n",
    "\n",
    "    _ = pg.Efatal\n",
    "\n",
    "const (\n",
    "    DB_USER     = \"gopher\"\n",
    "    DB_PASSWORD = \"1111\"\n",
    "    DB_NAME     = \"gopher\" // postgres create DB named created user's\n",
    "    DB_HOST        = \"db\"\n",
    ")\n",
    " \n",
    "dbinfo := fmt.Sprintf(\"user=%s password=%s dbname=%s host=%s sslmode=disable\",\n",
    "    DB_USER, DB_PASSWORD, DB_NAME, DB_HOST)\n",
    "\n",
    "db, err := sql.Open(\"postgres\", dbinfo)\n",
    "\n",
    "if err != nil {\n",
    "    log.Println(err)\n",
    "}\n",
    "defer db.Close()\n",
    "\n",
    "droptable := `DROP TABLE IF EXISTS 법정동, 아파트정보;`\n",
    "\n",
    "createtable:= `CREATE TABLE 법정동 (\n",
    "                법정동코드 bigint NOT NULL DEFAULT 0,\n",
    "                법정동명 varchar(30)  NOT NULL DEFAULT ''\n",
    "              )`\n",
    "\n",
    "// 쿼리 날릴 준비를 하고 실행한다.\n",
    "stmt, err1 := db.Prepare(createtable)\n",
    "// 쿼리 날릴 준비를 하고 실행한다.\n",
    "stmt2, err1 := db.Prepare(droptable)\n",
    "\n",
    "\n",
    "\n",
    "_, err = stmt2.Exec()\n",
    "if err != nil {\n",
    "    fmt.Println(err.Error())\n",
    "}\n",
    "defer stmt2.Close()\n",
    "\n",
    "_, err = stmt.Exec()\n",
    "if err != nil {\n",
    "    fmt.Println(err.Error())\n",
    "}\n",
    "defer stmt.Close()"
   ]
  },
  {
   "cell_type": "markdown",
   "metadata": {
    "hidden": true
   },
   "source": [
    "벌크 임포트(대량 가져오기) https://godoc.org/github.com/lib/pq#hdr-Bulk_imports\n",
    "\n",
    "prepared statement http://go-database-sql.org/prepared.html\n"
   ]
  },
  {
   "cell_type": "code",
   "execution_count": 3,
   "metadata": {
    "ExecuteTime": {
     "end_time": "Z",
     "start_time": "2018-03-22T21:16:09.124Z"
    },
    "hidden": true,
    "init_cell": true
   },
   "outputs": [],
   "source": [
    "// 접속\n",
    "db, err := sql.Open(\"postgres\", dbinfo)\n",
    "defer db.Close()\n",
    "\n",
    "\n",
    "txn, err := db.Begin()\n",
    "if err != nil {\n",
    "\tfmt.Println(err)\n",
    "}\n",
    "// func CopyIn(table string, columns ...string) string\n",
    "stmt, err := txn.Prepare(pg.CopyIn(\"법정동\", \"법정동코드\", \"법정동명\"))\n",
    "if err != nil {\n",
    "\tfmt.Println(err)\n",
    "}\n",
    "\n",
    "for _, bjd := range bjdArrData {\n",
    "//     _, err = stmt.Exec(int64(bjd[0]), string(bjd[1]))\n",
    "        _, err = stmt.Exec(bjd[0], bjd[1])\n",
    "\tif err != nil {\n",
    "\t\tfmt.Println(err)\n",
    "\t}\n",
    "}\n",
    "\n",
    "_, err = stmt.Exec()\n",
    "if err != nil {\n",
    "\tfmt.Println(err)\n",
    "}\n",
    "\n",
    "err = stmt.Close()\n",
    "if err != nil {\n",
    "\tfmt.Println(err)\n",
    "}\n",
    "\n",
    "err = txn.Commit()\n",
    "if err != nil {\n",
    "\tfmt.Println(err)\n",
    "}"
   ]
  },
  {
   "cell_type": "markdown",
   "metadata": {},
   "source": [
    "## 특정 키워드를 입력하면 해당하는 모든 법정동 코드 가져오는 함수 만들기"
   ]
  },
  {
   "cell_type": "markdown",
   "metadata": {
    "heading_collapsed": true
   },
   "source": [
    "### 함수 설계 (mock)"
   ]
  },
  {
   "cell_type": "code",
   "execution_count": 33,
   "metadata": {
    "ExecuteTime": {
     "end_time": "Z",
     "start_time": "2018-03-19T07:06:39.751Z"
    },
    "hidden": true
   },
   "outputs": [
    {
     "name": "stdout",
     "output_type": "stream",
     "text": [
      "[1001 1002 1003]\n",
      "17\n",
      "<nil>\n"
     ]
    }
   ],
   "source": [
    "func getBjd(areaName string) []int {\n",
    "    \n",
    "    법정동코드결과 := []int{}\n",
    "    \n",
    "    // areaName Like 쿼리 결과 를 법정동 코드결과 변수에 append 로 넣는다.\n",
    "    \n",
    "    법정동코드결과 = append(법정동코드결과, 1001, 1002, 1003)\n",
    "    \n",
    "    return 법정동코드결과\n",
    "}\n",
    "\n",
    "fmt.Println(getBjd(\"지역키워드\"))"
   ]
  },
  {
   "cell_type": "markdown",
   "metadata": {
    "heading_collapsed": true
   },
   "source": [
    "### 쿼리 설계"
   ]
  },
  {
   "cell_type": "code",
   "execution_count": 36,
   "metadata": {
    "ExecuteTime": {
     "end_time": "Z",
     "start_time": "2018-03-19T07:08:10.411Z"
    },
    "hidden": true
   },
   "outputs": [
    {
     "name": "stdout",
     "output_type": "stream",
     "text": [
      "질의 날리기\n",
      "출력하기 [1100000000 1111000000 1111010100 1111010200]\n",
      "59\n",
      "<nil>\n"
     ]
    }
   ],
   "source": [
    "// db 접속 포인터를 얻고\n",
    "db, err := sql.Open(\"postgres\", dbinfo)\n",
    "\n",
    "if err != nil { log.Println(err)}\n",
    "defer db.Close()\n",
    "\n",
    "// Query the database.\n",
    "rows, err := db.Query(`\n",
    "    SELECT 법정동코드\n",
    "    FROM 법정동\n",
    "    WHERE 법정동명 LIKE $1\n",
    "    `, \"%서울%\")\n",
    "\n",
    "if err != nil { log.Println(err)}\n",
    "defer rows.Close()\n",
    "    \n",
    "fmt.Println(\"질의 날리기\")\n",
    "\n",
    "법정동코드결과 := []string{}\n",
    "\n",
    "for rows.Next() {\n",
    "    \n",
    "    코드하나 := \"\"\n",
    "\n",
    "if err := rows.Scan(&코드하나); err != nil {\n",
    "log.Println(err)}\n",
    " \n",
    "   법정동코드결과 =  append(법정동코드결과,코드하나)\n",
    "// fmt.Printf(\"%.2d, \\n\", 법정동코드)\n",
    "}\n",
    "    \n",
    "fmt.Println(\"출력하기\", 법정동코드결과[:4])\n",
    "    "
   ]
  },
  {
   "cell_type": "markdown",
   "metadata": {},
   "source": [
    "### 지역 키워드에 따라 법정동 코드를 가져오는 함수 완성"
   ]
  },
  {
   "cell_type": "code",
   "execution_count": 4,
   "metadata": {
    "ExecuteTime": {
     "end_time": "Z",
     "start_time": "2018-03-22T21:16:09.126Z"
    },
    "init_cell": true
   },
   "outputs": [],
   "source": [
    "import (\n",
    "\t\"database/sql\"\n",
    "\t\"log\"\n",
    "\t\"os\"\n",
    "    \"fmt\"\n",
    "    \n",
    "    pg \"github.com/lib/pq\"\n",
    ")\n",
    "\n",
    "    _ = pg.Efatal\n",
    "\n",
    "const (\n",
    "    DB_USER     = \"gopher\"\n",
    "    DB_PASSWORD = \"1111\"\n",
    "    DB_NAME     = \"gopher\" // postgres create DB named created user's\n",
    "    DB_HOST        = \"db\"\n",
    ")\n",
    " \n",
    "dbinfo := fmt.Sprintf(\"user=%s password=%s dbname=%s host=%s sslmode=disable\",\n",
    "    DB_USER, DB_PASSWORD, DB_NAME, DB_HOST)\n",
    "\n",
    "func getBjd(areaName string) [][]string {\n",
    "    \n",
    "    법정동코드결과 := [][]string{}\n",
    "    \n",
    "    // areaName Like 쿼리 결과 를 법정동 코드결과 변수에 append 로 넣는다.\n",
    "    db, err := sql.Open(\"postgres\", dbinfo)\n",
    "    if err != nil { log.Println(err)}\n",
    "    defer db.Close()\n",
    "    \n",
    "    // Query the database.\n",
    "    rows, err := db.Query(`SELECT 법정동코드,법정동명 FROM 법정동 WHERE 법정동명 LIKE $1`,\n",
    "                      \"%\"+ areaName+\"%\")\n",
    "    index := 0\n",
    "    for rows.Next() {    \n",
    "        코드하나 := \"\"\n",
    "        이름하나 := \"\"\n",
    "        if err := rows.Scan(&코드하나,&이름하나); err != nil {log.Println(err)}\n",
    "        한줄 := []string{코드하나,이름하나}\n",
    "        법정동코드결과 =  append(법정동코드결과, 한줄)\n",
    "        index += 1\n",
    "    }\n",
    "    \n",
    "    return 법정동코드결과\n",
    "}"
   ]
  },
  {
   "cell_type": "markdown",
   "metadata": {},
   "source": [
    "## 법정동을 주면 아파트 코드를 가져오는 함수 작성"
   ]
  },
  {
   "cell_type": "markdown",
   "metadata": {
    "heading_collapsed": true
   },
   "source": [
    "### 함수 설계 - Mock"
   ]
  },
  {
   "cell_type": "code",
   "execution_count": 5,
   "metadata": {
    "ExecuteTime": {
     "end_time": "Z",
     "start_time": "2018-03-18T15:20:52.754Z"
    },
    "hidden": true
   },
   "outputs": [
    {
     "name": "stdout",
     "output_type": "stream",
     "text": [
      "[A1001 A1002 A1003]\n",
      "20\n",
      "<nil>\n"
     ]
    }
   ],
   "source": [
    "func getAptCode(bjdCode int) []string {\n",
    "    \n",
    "    아파트코드결과 := []string{}\n",
    "    \n",
    "    // get 요청으로 반환받은 결과 값을 아파트 코드결과 변수에 append 로 넣는다.\n",
    "    \n",
    "    아파트코드결과 = append(아파트코드결과, \"A1001\", \"A1002\", \"A1003\")\n",
    "    \n",
    "    return 아파트코드결과\n",
    "}\n",
    "\n",
    "fmt.Println(getAptCode(263802006002))"
   ]
  },
  {
   "cell_type": "markdown",
   "metadata": {},
   "source": [
    "### get 요청과 처리 설계"
   ]
  },
  {
   "cell_type": "markdown",
   "metadata": {},
   "source": [
    "계속 timeout 오류가 나서 내가 뭘 잘못했나. Timeout 시간까지 늘렸는데... 집 네트워크가 이상해서 그랬다. 현재 lte 네트워크로 작업하니 슉슉 잘 됨."
   ]
  },
  {
   "cell_type": "markdown",
   "metadata": {},
   "source": [
    "#### 요청 주소 만들고 GET 호출하기"
   ]
  },
  {
   "cell_type": "markdown",
   "metadata": {
    "ExecuteTime": {
     "end_time": "Z",
     "start_time": "2018-03-20T05:45:05.596Z"
    }
   },
   "source": [
    "직접 Get 을 썼다가. 아래처럼 request 요청으로 바꿈.\n",
    "http://golang.site/go/article/102-HTTP-GET-호출\n",
    "\n",
    "고 기본 get 은 실패시 재시도 기능이 없다.\n",
    "https://github.com/sethgrid/pester"
   ]
  },
  {
   "cell_type": "code",
   "execution_count": 5,
   "metadata": {
    "ExecuteTime": {
     "end_time": "Z",
     "start_time": "2018-03-22T21:16:09.127Z"
    },
    "init_cell": true
   },
   "outputs": [],
   "source": [
    "import (\n",
    "    \"fmt\"\n",
    "    \"log\"\n",
    "    \"net/http\"\n",
    "    \"os\"\n",
    " \"net\"\n",
    "  \"net/url\"\n",
    "    \"strconv\"\n",
    "    \"time\"\n",
    "    \"io/ioutil\"\n",
    "    \"github.com/sethgrid/pester\"\n",
    ")\n",
    "\n",
    "func getAptlistRsp(bjdCode string) []uint8{\n",
    "    \n",
    "    aptListurl := \"http://www.k-apt.go.kr/kaptinfo/getKaptList.do\"\n",
    "    req, err := http.NewRequest(\"GET\", aptListurl, nil)\n",
    "    if err != nil {\n",
    "        log.Print(err)\n",
    "    }\n",
    "\n",
    "    q := req.URL.Query()   \n",
    "    q.Add(\"bjd_code\",bjdCode) \n",
    "    req.URL.RawQuery = q.Encode()\n",
    "    \n",
    "    // url := req.URL.String()\n",
    "    // fmt.Println(req.URL.String())\n",
    "    \n",
    "    \n",
    "    // Client객체에서 Request 실행\n",
    "//     client := &http.Client{Timeout: 40 * time.Second,}\n",
    "//     resp, err := client.Do(req)\n",
    "    \n",
    "    // pester 사용\n",
    "    resp, err := pester.Do(req)\n",
    "    if err != nil {\n",
    "        log.Println(\"error GETing example.com\", err)\n",
    "    }\n",
    "    defer resp.Body.Close()\n",
    "    log.Printf(\"example.com %s\", resp.Status)\n",
    " \n",
    "    // 결과 출력\n",
    "    bytes, _ := ioutil.ReadAll(resp.Body)\n",
    "    // str := string(bytes) //바이트를 문자열로\n",
    "     // fmt.Println(str[:100])\n",
    "    \n",
    "    \n",
    "    return  bytes\n",
    "}"
   ]
  },
  {
   "cell_type": "markdown",
   "metadata": {},
   "source": [
    "#### 주소 요청 결과로 구조체 만들기"
   ]
  },
  {
   "cell_type": "markdown",
   "metadata": {},
   "source": [
    "구조는 다음과 같다."
   ]
  },
  {
   "cell_type": "code",
   "execution_count": null,
   "metadata": {},
   "outputs": [],
   "source": [
    "{\n",
    "  \"resultList\": [\n",
    "    {\n",
    "      \"KAPT_USEDATE\": \"199701\",\n",
    "      \"BJD_CODE\": \"1135010500\",\n",
    "      \"KAPT_NAME\": \"노원현대아파트\",\n",
    "      \"OPEN_TERM\": null, \n",
    "      \"KAPT_CODE\": \"A13981604\",\n",
    "      \"OCCU_FIRST_DATE\": \"199702\",\n",
    "      \"X\": 205515.315,\n",
    "      \"Y\": 461795.5,\n",
    "      \"ENERGY_B_COUNT\": 0,\n",
    "      \"BJD_NAME\": \"서울특별시 노원구 상계동\"\n",
    "    },\n",
    "      ...\n",
    "}"
   ]
  },
  {
   "cell_type": "markdown",
   "metadata": {},
   "source": [
    "구조체는 다음과 같음..  \n",
    "\n",
    "https://www.thepolyglotdeveloper.com/2017/03/parse-xml-data-in-a-golang-application/\n",
    "\n",
    "네스티드로 구조체 짤 수도 있다.\n",
    "https://stackoverflow.com/questions/32125816/parsing-xml-in-golang-unmarshaling"
   ]
  },
  {
   "cell_type": "code",
   "execution_count": 6,
   "metadata": {
    "ExecuteTime": {
     "end_time": "Z",
     "start_time": "2018-03-22T21:16:09.129Z"
    },
    "init_cell": true,
    "scrolled": false
   },
   "outputs": [],
   "source": [
    "import(\n",
    "    \"encoding/json\"\n",
    "    \"bytes\"\n",
    "\"reflect\")\n",
    "\n",
    "\n",
    "type AptBasicResultList struct {\n",
    "     결과목록 []AptBasicResult  `json:\"resultList\"`\n",
    "}\n",
    "\n",
    "type AptBasicResult struct{\n",
    "    아파트사용일 string `json:\"KAPT_USEDATE\"`\n",
    "    법정동코드 string  `json:\"BJD_CODE\"`\n",
    "    아파트이름 string `json:\"KAPT_NAME\"`\n",
    "    OPEN_TERM string `json:\"OPEN_TERM\"` // null 값을 타입으로 받을 수 있나?\n",
    "    아파트코드 string `json:\"KAPT_CODE\"`\n",
    "    완공첫날 int `json:\"OCCU_FIRST_DATE\"`\n",
    "    x좌표 float32 `json:\"X\"`\n",
    "    y좌표 float32 `json:\"Y\"`\n",
    "    에너지_B_횟수 int `json:\"ENERGY_B_COUNT\"`\n",
    "    법정동명 string  `json:\"BJD_NAME\"`\n",
    "}\n",
    "\n",
    "\n",
    "func unMarshalAptJson(responseBody []byte) AptBasicResultList {\n",
    "    \n",
    "    var data AptBasicResultList\n",
    "    json.Unmarshal(responseBody, &data)\n",
    "\n",
    "    fmt.Println(data.결과목록)\n",
    "     jsonData, _ := json.Marshal(data)\n",
    "     fmt.Println(string(jsonData))\n",
    "\n",
    " return data\n",
    "}\n"
   ]
  },
  {
   "cell_type": "markdown",
   "metadata": {},
   "source": [
    "#### XML 로부터 아파트 코드 추출하기"
   ]
  },
  {
   "cell_type": "code",
   "execution_count": 7,
   "metadata": {
    "ExecuteTime": {
     "end_time": "Z",
     "start_time": "2018-03-22T21:16:09.131Z"
    },
    "init_cell": true
   },
   "outputs": [],
   "source": [
    "import(\n",
    "    \"encoding/json\"\n",
    "    \"encoding/xml\"\n",
    "    \"bytes\"\n",
    "\"reflect\"\n",
    "\"fmt\")\n",
    "\n",
    "\n",
    "func getAptCode(aptXmlData AptBasicResultList) []string {\n",
    "        \n",
    "    아파트코드결과 := []string{}\n",
    "    \n",
    "    // get 요청으로 반환받은 결과 값을 아파트 코드결과 변수에 append 로 넣는다.\n",
    "    \n",
    "    items := aptXmlData.결과목록\n",
    "    \n",
    "    for _,v := range items{\n",
    "        // fmt.Println(k,v)\n",
    "        아파트코드결과 = append(아파트코드결과, v.아파트코드 )\n",
    "    }\n",
    "    // fmt.Println(아파트코드결과[:10])\n",
    "    \n",
    "    return 아파트코드결과\n",
    "}\n"
   ]
  },
  {
   "cell_type": "markdown",
   "metadata": {},
   "source": [
    "## 아파트 기본 정보 담을 테이블 생성하기"
   ]
  },
  {
   "cell_type": "markdown",
   "metadata": {},
   "source": [
    "### 아파트 기본 정보 xml 정보 확인"
   ]
  },
  {
   "cell_type": "markdown",
   "metadata": {},
   "source": [
    "\n",
    "response body 만 xml 로 바꿔서 xml 파싱한다.\n",
    "https://tutorialedge.net/golang/parsing-xml-with-golang/\n",
    "\n",
    "https://www.thepolyglotdeveloper.com/2017/03/parse-xml-data-in-a-golang-application/\n",
    "\n",
    "\n",
    "받게되는 정보에 관한 설명\n",
    "https://www.data.go.kr/subMain.jsp#/L3B1YnIvcG90L215cC9Jcm9zTXlQYWdlL29wZW5EZXZHdWlkZVBhZ2UkQF4wMTIkQF5wdWJsaWNEYXRhRGV0YWlsUGs9dWRkaTphMTJjNmU3Ni04OTgyLTRlM2UtYWZlMi05NDQxMmM3ZDBhNzkkQF5tYWluRmxhZz10cnVl"
   ]
  },
  {
   "cell_type": "code",
   "execution_count": 8,
   "metadata": {
    "ExecuteTime": {
     "end_time": "Z",
     "start_time": "2018-03-22T21:16:09.132Z"
    },
    "init_cell": true
   },
   "outputs": [],
   "source": [
    "import(\n",
    "    \"encoding/json\"\n",
    "    \"encoding/xml\"\n",
    "    \"io/ioutil\"\n",
    "    \"bytes\"\n",
    "    \"net/http\"\n",
    "    \"reflect\"\n",
    "    \"log\"\n",
    "    \"fmt\"\n",
    "    \"github.com/sethgrid/pester\"\n",
    ")\n",
    "\n",
    "func getAptDetailtRsp(kaptCode string) []byte{\n",
    "    \n",
    "    aptinfourl := \"http://www.k-apt.go.kr/kaptinfo/getKaptInfo_detail.do\"\n",
    "    req, err := http.NewRequest(\"GET\", aptinfourl, nil)\n",
    "    if err != nil {\n",
    "        log.Print(err)\n",
    "        //os.Exit(1)\n",
    "    }\n",
    "\n",
    "    q := req.URL.Query()  \n",
    "    q.Add(\"kapt_code\",  kaptCode)\n",
    "    req.URL.RawQuery = q.Encode()\n",
    "    // url := req.URL.String()\n",
    "//     fmt.Println(req.URL.String())\n",
    "//     return  url   \n",
    "    \n",
    "        // Client객체에서 Request 실행\n",
    "//     client := &http.Client{Timeout: 40 * time.Second,}\n",
    "//     resp, err := client.Do(req)\n",
    "    \n",
    "    // pester 사용\n",
    "    resp, err := pester.Do(req)\n",
    "    if err != nil {\n",
    "        log.Println(\"error GETing example.com\", err)\n",
    "    }\n",
    "    defer resp.Body.Close()\n",
    "    log.Printf(\"example.com %s\", resp.Status)\n",
    " \n",
    "    // 결과 출력\n",
    "    bytes, _ := ioutil.ReadAll(resp.Body)\n",
    "    str := string(bytes) //바이트를 문자열로\n",
    "    fmt.Println(str)\n",
    "    \n",
    "    \n",
    "    return  bytes\n",
    "    \n",
    "}"
   ]
  },
  {
   "cell_type": "code",
   "execution_count": 9,
   "metadata": {
    "ExecuteTime": {
     "end_time": "Z",
     "start_time": "2018-03-22T21:16:09.133Z"
    },
    "init_cell": true
   },
   "outputs": [],
   "source": [
    "type AptDetailResponse struct {\n",
    "    매치정보 AptDetailItemMatch `json:\"resultMap_match\"`\n",
    "    세부정보 AptDetailItem `json:\"resultMap_kapt\"`\n",
    "    세대정보 []AptDetailSedae `json:\"resultMap_kapt_areacnt\"`\n",
    "    주소정보 []AptDetailAddress`json:\"resultMap_kapt_addrList\"`\n",
    "}\n",
    "\n",
    "type AptDetailItemMatch struct {\n",
    "    아파트코드 string `json:\"KAPT_CODE\"`\n",
    "    마을코드 int `json:\"TOWN_CODE\"`\n",
    "}\n",
    "\n",
    "type AptDetailSedae struct {\n",
    "    세대수 int `json:\"KAPTDA_CNT\"`\n",
    "    전용면적구분 int `json:\"AREA_GBN\"`// 60㎡ 이하: 60㎡ ~ 85㎡ 이하: 85㎡ ~ 135㎡ 이하: 135㎡ 초과:\n",
    "    아파트코드 string `json:\"KAPT_CODE\"`\n",
    "}\n",
    "\n",
    "type AptDetailAddress struct {\n",
    "    법정동주소 string `json:\"ADDR\"`\n",
    "    아파트코드 string `json:\"KAPT_CODE\"`\n",
    "    주소구분 string `json:\"ADDR_GBN\"`\n",
    "}\n",
    "\n",
    "type AptDetailItem struct {\n",
    "    아파트이름 \tstring `json:\"KAPT_NAME\"`\n",
    "    분양형태\tstring `json:\"CODE_SALE\"`\n",
    "    난방방식\tstring `json:\"CODE_HEAT\"`\n",
    "    연면적\tfloat64 `json:\"KAPT_TAREA\"`\n",
    "    동수 string `json:\"KAPT_DONG_CNT\"`\n",
    "    시공사 string `json:\"KAPT_BCOMPANY\"`\n",
    "    시행사 string `json:\"KAPT_ACOMPANY\"`\n",
    "    관리사무소연락처\tstring `json:\"KAPT_TEL\"`\n",
    "    관리사무소팩스\tstring `json:\"KAPT_FAX\"`\n",
    "    홈페이지주소\tstring `json:\"KAPT_URL\"`\n",
    "    단지분류\tstring `json:\"CODE_APT\"`\n",
    "    \n",
    "    일반관리방식 string `json:\"CODE_MGR\"`\n",
    "    일반관리인원 \tstring `json:\"KAPT_MGR_CNT\"`\n",
    "    일반관리계약업체  \tstring `json:\"KAPT_CCOMPANY\"` \n",
    "    \n",
    "    경비관리방식\tstring `json:\"CODE_SEC\"`\n",
    "    경비관리인원\tstring `json:\"KAPTD_SCNT\"`\n",
    "    경비관리계약업체 \tstring `json:\"KAPTD_SEC_COM\"`\n",
    "\n",
    "    청소관리방식\tstring `json:\"CODE_CLEAN\"`\n",
    "    청소관리인원\tstring `json:\"KAPTD_CLCNT\"`\n",
    "    음식물처리방법 \tstring `json:\"CODE_GARBAGE\"`\n",
    "    \n",
    "    소독관리방식\tstring `json:\"CODE_DISINF\"`\n",
    "    연간소독횟수 \tstring `json:\"KAPTD_DCNT\"`\n",
    "    소독방법\tstring `json:\"DISPOSAL_TYPE\"`\n",
    "    \n",
    "    지상주차장대수 string `json:\"KAPTD_PCNT\"`\n",
    "    지하주차장대수 string `json:\"KAPTD_PCNTU\"`\n",
    "    \n",
    "    cctv대수  string `json:\"KAPTD_CCCNT\"`\n",
    "    부대복리시설  string `json:\"WELFARE_FACILITY\"`\n",
    "    수전용량  string `json:\"KAPTD_ECAPA\"`\n",
    "    전기안전관리자법정선임여부  \tstring `json:\"CODE_EMGR\"`\n",
    "    급수방식  string `json:\"CODE_WSUPPLY\"`\n",
    "    \n",
    "        건물구조  string `json:\"CODE_STR\"`\n",
    "    세대전기계약방식 string `json:\"CODE_ECON\"`\n",
    "    화재수신반방식  string `json:\"CODE_FALARM\"`\n",
    "    \n",
    "    승강기관리형태  string `json:\"CODE_ELEV\"`\n",
    "    // 승객용승강기  string `json:\"KAPTD_ECNTP\"`\n",
    "    //화물용승강기  string `json:\"KAPTD_PCNT\"`\n",
    "    //비상승강기 string `json:\"KAPTD_DCNT\"`\n",
    "\n",
    "    주차관제홈네트워크  \tstring `json:\"CODE_NET\"`\n",
    "    \n",
    "    버스정류장 \tstring `json:\"KAPTD_WTIMEBUS\"`\n",
    "    편의시설  \tstring `json:\"CONVENIENT_FACILITY\"`\n",
    "    교육시설  \tstring `json:\"EDUCATION_FACILITY\"`\n",
    "    \n",
    "    복도유형\tstring `json:\"CODE_HALL\"`\n",
    "    사용승인일\tstring `json:\"KAPT_USEDATE\"`\n",
    "    주거전용면적 float64 `json:\"KAPT_MAREA\"`\n",
    "    \n",
    "    인근지하철역\tstring `json:\"SUBWAY_STATION\"`\n",
    "    인근지하철호선\tstring `json:\"SUBWAY_LINE\"`\n",
    "    지하철까지시간 \tstring `json:\"KAPTD_WTIMESUB\"`\n",
    "    아파트코드\tstring `json:\"KAPT_CODE\"`\n",
    "    \n",
    " }\n",
    "\n",
    "\n",
    "func unMarshalAptDetail(responseBody []byte) AptDetailResponse {\n",
    "    \n",
    "    var data AptDetailResponse\n",
    "    json.Unmarshal([]byte(responseBody), &data)\n",
    "    \n",
    "     // fmt.Println(data.세부정보.명칭)\n",
    "    jsonData, _ := json.Marshal(data)\n",
    "    fmt.Println(string(jsonData))\n",
    "\n",
    " return data\n",
    "}"
   ]
  },
  {
   "cell_type": "markdown",
   "metadata": {},
   "source": [
    "### 쿼리 작성 + 테이블 생성"
   ]
  },
  {
   "cell_type": "code",
   "execution_count": 10,
   "metadata": {
    "ExecuteTime": {
     "end_time": "Z",
     "start_time": "2018-03-22T21:16:09.134Z"
    },
    "init_cell": true
   },
   "outputs": [],
   "source": [
    "createAptTableScript := \n",
    "`CREATE TABLE 아파트정보 (\n",
    "              \n",
    "    아파트코드 varchar(10)  NOT NULL DEFAULT '',\n",
    "    아파트이름 \tvarchar(51)  NOT NULL DEFAULT '',\n",
    "    마을코드 bigint NOT NULL DEFAULT 0,\n",
    "    법정동주소 varchar(200) NOT NULL DEFAULT 0,\n",
    "    도로명주소 varchar(200) NOT NULL DEFAULT 0,\n",
    "    \n",
    "    단지분류\tvarchar(51)  NOT NULL DEFAULT '',\n",
    "    \n",
    "    동수 varchar(101)  NOT NULL DEFAULT '',    \n",
    "    세대수 bigint NOT NULL DEFAULT 0,\n",
    "    \n",
    "    전용면적60이하아파트코드 varchar(52)  NOT NULL DEFAULT '',\n",
    "    전용면적60이하세대수  bigint NOT NULL DEFAULT 0,\n",
    "    전용면적60이상85이하아파트코드 varchar(52)  NOT NULL DEFAULT '',\n",
    "    전용면적60이상85이하세대수  bigint NOT NULL DEFAULT 0,\n",
    "    전용면적85이상135이하아파트코드 varchar(52)  NOT NULL DEFAULT '',\n",
    "    전용면적85이상135이하세대수  bigint NOT NULL DEFAULT 0,\n",
    "    전용면적135초과아파트코드 varchar(52)  NOT NULL DEFAULT '',\n",
    "    전용면적135초과세대수  bigint NOT NULL DEFAULT 0,\n",
    "    \n",
    "    분양형태\tvarchar(52)  NOT NULL DEFAULT '',\n",
    "    난방방식\tvarchar(52)  NOT NULL DEFAULT '',\n",
    "    복도유형\tvarchar(52)  NOT NULL DEFAULT '',\n",
    "\n",
    "    연면적\tdouble precision  NOT NULL DEFAULT 0,\n",
    "\n",
    "    시공사 varchar(102)  NOT NULL DEFAULT '',\n",
    "    시행사 varchar(103)  NOT NULL DEFAULT '',\n",
    "    \n",
    "    관리사무소연락처\tvarchar(53)  NOT NULL DEFAULT '',\n",
    "    관리사무소팩스\tvarchar(53)  NOT NULL DEFAULT '',\n",
    "    홈페이지주소\tvarchar(104)  NOT NULL DEFAULT '',\n",
    "    \n",
    "    일반관리방식 varchar(54)  NOT NULL DEFAULT '',\n",
    "    일반관리인원 varchar(52)  NOT NULL DEFAULT '',\n",
    "    일반관리계약업체  \tvarchar(105)  NOT NULL DEFAULT '',\n",
    "    \n",
    "    경비관리방식\tvarchar(54)  NOT NULL DEFAULT '',\n",
    "    경비관리인원\tvarchar(52)  NOT NULL DEFAULT '',\n",
    "    경비관리계약업체 \tvarchar(106)  NOT NULL DEFAULT '',\n",
    "\n",
    "    청소관리방식\tvarchar(54)  NOT NULL DEFAULT '',\n",
    "    청소관리인원\tvarchar(52)  NOT NULL DEFAULT '',\n",
    "    음식물처리방법 \tvarchar(107)  NOT NULL DEFAULT '',\n",
    "    \n",
    "    소독관리방식\tvarchar(54)  NOT NULL DEFAULT '',\n",
    "    연간소독횟수  varchar(54)  NOT NULL DEFAULT '',\n",
    "    소독방법\tvarchar(54)  NOT NULL DEFAULT '',\n",
    "    \n",
    "    승강기관리형태  \tvarchar(55)  NOT NULL DEFAULT '',\n",
    "    승객용승강기 varchar(54)  NOT NULL DEFAULT '',\n",
    "    화물용승강기 varchar(54)  NOT NULL DEFAULT '',\n",
    "    비상승강기 varchar(54)  NOT NULL DEFAULT '',\n",
    "    주차관제홈네트워크  \tvarchar(58)  NOT NULL DEFAULT '',\n",
    "\n",
    "    건물구조  \tvarchar(108)  NOT NULL DEFAULT '',\n",
    "    세대전기계약방식  \tvarchar(55)  NOT NULL DEFAULT '',\n",
    "    화재수신반방식  \tvarchar(55)  NOT NULL DEFAULT '',\n",
    "\n",
    "    \n",
    "    지상주차장대수 varchar(57)  NOT NULL DEFAULT '',\n",
    "    지하주차장대수 varchar(57)  NOT NULL DEFAULT '',\n",
    "    \n",
    "    cctv대수  \tvarchar(57)  NOT NULL DEFAULT '',\n",
    "    부대복리시설  \tvarchar(70)  NOT NULL DEFAULT '',\n",
    "    수전용량  \tvarchar(57)  NOT NULL DEFAULT '',\n",
    "    전기안전관리자법정선임여부  \tvarchar(57)  NOT NULL DEFAULT '',\n",
    "    급수방식  \tvarchar(57)  NOT NULL DEFAULT '',\n",
    "    \n",
    "\n",
    "    \n",
    "    버스정류장 \tvarchar(51)  NOT NULL DEFAULT '',\n",
    "    편의시설  \tvarchar(150)  NOT NULL DEFAULT '',\n",
    "    교육시설  \tvarchar(150)  NOT NULL DEFAULT '',\n",
    "    \n",
    "\n",
    "    사용승인일\tvarchar(51)  NOT NULL DEFAULT '',\n",
    "    주거전용면적 double precision  NOT NULL DEFAULT 0,\n",
    "    \n",
    "    인근지하철역\tvarchar(50)  NOT NULL DEFAULT '',\n",
    "    인근지하철호선\tvarchar(50)  NOT NULL DEFAULT '',\n",
    "    지하철까지시간 \tvarchar(50)  NOT NULL DEFAULT ''\n",
    "\n",
    "\n",
    ")`"
   ]
  },
  {
   "cell_type": "code",
   "execution_count": 11,
   "metadata": {
    "ExecuteTime": {
     "end_time": "Z",
     "start_time": "2018-03-22T21:16:09.136Z"
    },
    "init_cell": true
   },
   "outputs": [],
   "source": [
    "\n",
    "import (\n",
    "\t\"database/sql\"\n",
    "\t\"log\"\n",
    "\t\"os\"\n",
    "    \"fmt\"\n",
    "    \n",
    "    pg \"github.com/lib/pq\"\n",
    ")\n",
    "\n",
    "\n",
    "\n",
    "func createAptTable(script string){\n",
    "    \n",
    "_ = pg.Efatal\n",
    "    \n",
    "const (\n",
    "    DB_USER     = \"gopher\"\n",
    "    DB_PASSWORD = \"1111\"\n",
    "    DB_NAME     = \"gopher\" // postgres create DB named created user's\n",
    "    DB_HOST        = \"db\"\n",
    ")\n",
    " \n",
    "dbinfo := fmt.Sprintf(\"user=%s password=%s dbname=%s host=%s sslmode=disable\",\n",
    "    DB_USER, DB_PASSWORD, DB_NAME, DB_HOST)\n",
    "\n",
    "db, err := sql.Open(\"postgres\", dbinfo)\n",
    "\n",
    "if err != nil {\n",
    "    log.Print(err)\n",
    "}\n",
    "defer db.Close()\n",
    "\n",
    "// droptable := `DROP TABLE IF EXISTS 법정동, 아파트정보;`\n",
    "\n",
    "// stmt2, err1 := db.Prepare(droptable)\n",
    "// _, err = stmt2.Exec()\n",
    "// if err != nil {\n",
    "//     fmt.Println(err.Error())\n",
    "// }\n",
    "// defer stmt2.Close()\n",
    "\n",
    "// 쿼리 날릴 준비를 하고 실행한다.\n",
    "stmt, err := db.Prepare(script)\n",
    "\n",
    "_, err = stmt.Exec()\n",
    "if err != nil {\n",
    "    fmt.Print(err.Error())\n",
    "}\n",
    "defer stmt.Close()\n",
    "    }"
   ]
  },
  {
   "cell_type": "code",
   "execution_count": null,
   "metadata": {},
   "outputs": [],
   "source": []
  },
  {
   "cell_type": "markdown",
   "metadata": {},
   "source": [
    "## 특정 주소 키워드를 주면 지역 내 아파트정보를 반환하는 함수 만들기"
   ]
  },
  {
   "cell_type": "code",
   "execution_count": 12,
   "metadata": {
    "ExecuteTime": {
     "end_time": "Z",
     "start_time": "2018-03-22T21:16:09.138Z"
    },
    "init_cell": true
   },
   "outputs": [],
   "source": [
    "import \"strconv\"\n",
    "\n",
    "// 지역 키워드를 주면, 아파트 정보들을 반환한다.\n",
    "func getAptBaseInfo(areaKeyword string) []AptDetailResponse {\n",
    "    \n",
    "    \n",
    "  \n",
    "    // bucket\n",
    "    var aptInformations []AptDetailResponse\n",
    "    \n",
    "    \n",
    "    fmt.Println(\"법정동 목록 시작\",\"-----------\")\n",
    "    \n",
    "    // 법정동 주소의 목록을 반환\n",
    "    법정동목록 := getBjd(areaKeyword)\n",
    "    \n",
    "    fmt.Println(법정동목록)\n",
    "    \n",
    "    fmt.Println(\"법정동 목록 완료\",\"-----------\")\n",
    "    \n",
    "    // 법정동 하나씩 마다\n",
    "    for _, bjdCode := range 법정동목록{\n",
    "\n",
    "        bjdCode := bjdCode[0]\n",
    "\n",
    "        fmt.Println(bjdCode,\"아파트 목록 조회 시작\",\"-----------\")\n",
    "        \n",
    "        respListBody := getAptlistRsp(bjdCode)\n",
    "        // _ = respBody\n",
    "        xmlData := unMarshalAptJson(respListBody)\n",
    "        // _ = xmlData\n",
    "        \n",
    "        fmt.Println(\"아파트 목록 조회 완료\",\"-----------\")\n",
    "        \n",
    "        fmt.Println(\"아파트 목록 마샬링 시작\",\"-----------\")\n",
    "        \n",
    "        // 여러 아파트 코드를 알아내서\n",
    "        aptCodes := getAptCode(xmlData)\n",
    "\n",
    "        fmt.Println(\"아파트 목록 마샬링 완료\",\"-----------\")\n",
    "        \n",
    "        // 아파트 코드 하나마다\n",
    "        fmt.Println(\"아파트 정보 조회 시작\",\"-----------\")\n",
    "        \n",
    "        for index, kaptCode := range aptCodes{\n",
    "\n",
    "            rspDetailBody := getAptDetailtRsp( kaptCode)\n",
    "            xmlData := unMarshalAptDetail(rspDetailBody)\n",
    "            \n",
    "            // 정보를 알아낸 다음 차곡차곡 끼워 넣는다.\n",
    "            aptInformations = append(aptInformations, xmlData)\n",
    "            fmt.Println(  index+1,\"/\" ,len(aptCodes) ,xmlData.세부정보.아파트이름, \"처리완료\")\n",
    "        }\n",
    "        \n",
    "        fmt.Println(len(aptInformations),\"개 아파트 처리 완료\")\n",
    "    }\n",
    "\n",
    "    return aptInformations\n",
    "}\n"
   ]
  },
  {
   "cell_type": "markdown",
   "metadata": {},
   "source": [
    "## 테이블에 자료를 넣고 원하는 것만 꺼내서 csv 파일로 출력하기"
   ]
  },
  {
   "cell_type": "markdown",
   "metadata": {},
   "source": [
    "자료를 모두 담을 구조체 생성 // 이럴 바에야 json flatten 시키고 string 을 한 구조체에 담을 걸 ㅠㅠ"
   ]
  },
  {
   "cell_type": "code",
   "execution_count": 13,
   "metadata": {
    "ExecuteTime": {
     "end_time": "Z",
     "start_time": "2018-03-22T21:16:09.139Z"
    },
    "init_cell": true
   },
   "outputs": [],
   "source": [
    "열이름 := []string{\n",
    "\"아파트코드\",\n",
    "\"마을코드\",\n",
    "\"법정동주소\",\n",
    "\"도로명주소\",\n",
    "\"세대수\",\n",
    "\"전용면적60이하세대수\",\n",
    "\"전용면적60이상85이하세대수\",\n",
    "\"전용면적85이상135이하세대수\",\n",
    "\"전용면적135초과세대수\",\n",
    "\"전용면적60이하아파트코드\",\n",
    "\"전용면적60이상85이하아파트코드\",\n",
    "\"전용면적85이상135이하아파트코드\",\n",
    "\"전용면적135초과아파트코드\",\n",
    "\"아파트이름\",\n",
    "\"분양형태\",\n",
    "\"난방방식\",\n",
    "\"연면적\",\n",
    "\"동수\",\n",
    "\"시공사\",\n",
    "\"시행사\",\n",
    "\"관리사무소연락처\",\n",
    "\"관리사무소팩스\",\n",
    "\"홈페이지주소\",\n",
    "\"단지분류\",\n",
    "\"일반관리방식\",\n",
    "\"일반관리인원\",\n",
    "\"일반관리계약업체\",\n",
    "\"경비관리방식\",\n",
    "\"경비관리인원\",\n",
    "\"경비관리계약업체\",\n",
    "\"청소관리방식\",\n",
    "\"청소관리인원\",\n",
    "\"음식물처리방법\",\n",
    "\"소독관리방식\",\n",
    "\"연간소독횟수\",\n",
    "\"소독방법\",\n",
    "\"건물구조\",\n",
    "\"세대전기계약방식\",\n",
    "\"화재수신반방식\",\n",
    "\"승강기관리형태\",\n",
    "\"지상주차장대수\",\n",
    "\"지하주차장대수\",\n",
    "\"cctv대수\",\n",
    "\"부대복리시설\",\n",
    "\"수전용량\",\n",
    "\"전기안전관리자법정선임여부\",\n",
    "\"급수방식\",\n",
    "\"승객용승강기\",\n",
    "\"화물용승강기\",\n",
    "\"비상승강기\",\n",
    "\"주차관제홈네트워크\",\n",
    "\"버스정류장\",\n",
    "\"편의시설\",\n",
    "\"교육시설\",\n",
    "\"복도유형\",\n",
    "\"사용승인일\",\n",
    "\"주거전용면적\",\n",
    "\"인근지하철역\",\n",
    "\"인근지하철호선\",\n",
    "\"지하철까지시간\",\n",
    "}"
   ]
  },
  {
   "cell_type": "markdown",
   "metadata": {
    "ExecuteTime": {
     "end_time": "Z",
     "start_time": "2018-03-22T15:59:37.204Z"
    }
   },
   "source": [
    "```sql\n",
    "매치 := apt.매치정보\n",
    "세부 := apt.세부정보\n",
    "세대1 := apt.세대정보[0]\n",
    "세대2 := apt.세대정보[1]\n",
    "세대3 := apt.세대정보[2]\n",
    "세대4 := apt.세대정보[3]\n",
    "주소 := apt.주소정보[0]\n",
    "\n",
    "stmt.Exec(\n",
    "    세부.아파트코드,\n",
    "    매치.마을코드,\n",
    "    주소.법정동주소,\n",
    "    주소.주소구분,\n",
    "    세대.세대수,\n",
    "    세대1.세대수,\n",
    "    세대2.세대수,\n",
    "    세대3.세대수,\n",
    "    세대4.세대수,\n",
    "    세대1.아파트코드,\n",
    "    세대2.아파트코드,\n",
    "    세대3.아파트코드,\n",
    "    세대4.아파트코드,\n",
    "    세부.아파트이름,\n",
    "    세부.분양형태,\n",
    "    세부.난방방식,\n",
    "    세부.연면적,\n",
    "    세부.동수,\n",
    "    세부.시공사,\n",
    "    세부.시행사,\n",
    "    세부.관리사무소연락처,\n",
    "    세부.관리사무소팩스,\n",
    "    세부.홈페이지주소,\n",
    "    세부.단지분류,\n",
    "    세부.일반관리방식,\n",
    "    세부.일반관리인원,\n",
    "    세부.일반관리계약업체,\n",
    "    세부.경비관리방식,\n",
    "    세부.경비관리인원,\n",
    "    세부.경비관리계약업체,\n",
    "    세부.청소관리방식,\n",
    "    세부.청소관리인원,\n",
    "    세부.음식물처리방법,\n",
    "    세부.소독관리방식,\n",
    "    세부.연간소독횟수,\n",
    "    세부.소독방법,\n",
    "    세부.건물구조,\n",
    "    세부.세대전기계약방식,\n",
    "    세부.화재수신반방식,\n",
    "    세부.승강기관리형태,\n",
    "    세부.지상주차장대수,\n",
    "    세부.지하주차장대수,\n",
    "    세부.cctv대수,\n",
    "    세부.부대복리시설,\n",
    "    세부.수전용량,\n",
    "    세부.전기안전관리자법정선임여부,\n",
    "    세부.급수방식,\n",
    "    세부.승객용승강기,\n",
    "    세부.화물용승강기,\n",
    "    세부.비상승강기,\n",
    "    세부.주차관제홈네트워크,\n",
    "    세부.버스정류장,\n",
    "    세부.편의시설,\n",
    "    세부.교육시설,\n",
    "    세부.복도유형,\n",
    "    세부.사용승인일,\n",
    "    세부.주거전용면적,\n",
    "    세부.인근지하철역,\n",
    "    세부.인근지하철호선,\n",
    "    세부.지하철까지시간,\n",
    ")\n",
    "```"
   ]
  },
  {
   "cell_type": "code",
   "execution_count": 14,
   "metadata": {
    "ExecuteTime": {
     "end_time": "Z",
     "start_time": "2018-03-22T21:16:09.140Z"
    },
    "init_cell": true
   },
   "outputs": [],
   "source": [
    "\n",
    "func writeAptInfo(열이름 []string, aptDetailInfo []AptDetailResponse) {\n",
    "// 접속\n",
    "db, err := sql.Open(\"postgres\", dbinfo)\n",
    "defer db.Close()\n",
    "\n",
    "\n",
    "txn, err := db.Begin()\n",
    "if err != nil {\n",
    "\tfmt.Println(err)\n",
    "}\n",
    "// func CopyIn(table string, columns ...string) string\n",
    "stmt, err := txn.Prepare(pg.CopyIn(\"아파트정보\", 열이름...))\n",
    "if err != nil {\n",
    "\tfmt.Println(err)\n",
    "}\n",
    "\n",
    "for _, apt := range aptDetailInfo {\n",
    "    \n",
    "    매치 := apt.매치정보\n",
    "    세부 := apt.세부정보\n",
    "    \n",
    "    // 세대정보와 주소가 null 로 응답되는 경우 처리\n",
    "    if len(apt.세대정보) ==4 &&  len(apt.주소정보) ==2 {\n",
    "     \n",
    "    세대1 := apt.세대정보[0]\n",
    "    세대2 := apt.세대정보[1]\n",
    "    세대3 := apt.세대정보[2]\n",
    "    세대4 := apt.세대정보[3]\n",
    "    주소1 := apt.주소정보[0]\n",
    "    주소2 := apt.주소정보[1]\n",
    "\n",
    "    \n",
    "//     _, err = stmt.Exec(int64(bjd[0]), string(bjd[1]))\n",
    "    _, err = stmt.Exec(\n",
    "        세부.아파트코드,\n",
    "        매치.마을코드,\n",
    "        주소1.법정동주소,\n",
    "        주소2.법정동주소,\n",
    "        세대1.세대수+세대2.세대수+세대3.세대수+세대4.세대수,\n",
    "        세대1.세대수,\n",
    "        세대2.세대수,\n",
    "        세대3.세대수,\n",
    "        세대4.세대수,\n",
    "        세대1.아파트코드,\n",
    "        세대2.아파트코드,\n",
    "        세대3.아파트코드,\n",
    "        세대4.아파트코드,\n",
    "        세부.아파트이름,\n",
    "        세부.분양형태,\n",
    "        세부.난방방식,\n",
    "        세부.연면적,\n",
    "        세부.동수,\n",
    "        세부.시공사,\n",
    "        세부.시행사,\n",
    "        세부.관리사무소연락처,\n",
    "        세부.관리사무소팩스,\n",
    "        세부.홈페이지주소,\n",
    "        세부.단지분류,\n",
    "        세부.일반관리방식,\n",
    "        세부.일반관리인원,\n",
    "        세부.일반관리계약업체,\n",
    "        세부.경비관리방식,\n",
    "        세부.경비관리인원,\n",
    "        세부.경비관리계약업체,\n",
    "        세부.청소관리방식,\n",
    "        세부.청소관리인원,\n",
    "        세부.음식물처리방법,\n",
    "        세부.소독관리방식,\n",
    "        세부.연간소독횟수,\n",
    "        세부.소독방법,\n",
    "        세부.건물구조,\n",
    "        세부.세대전기계약방식,\n",
    "        세부.화재수신반방식,\n",
    "        세부.승강기관리형태,\n",
    "        세부.지상주차장대수,\n",
    "        세부.지하주차장대수,\n",
    "        세부.cctv대수,\n",
    "        세부.부대복리시설,\n",
    "        세부.수전용량,\n",
    "        세부.전기안전관리자법정선임여부,\n",
    "        세부.급수방식,\n",
    "        \"\",\n",
    "        \"\",\n",
    "        \"\",\n",
    "        세부.주차관제홈네트워크,\n",
    "        세부.버스정류장,\n",
    "        세부.편의시설,\n",
    "        세부.교육시설,\n",
    "        세부.복도유형,\n",
    "        세부.사용승인일,\n",
    "        세부.주거전용면적,\n",
    "        세부.인근지하철역,\n",
    "        세부.인근지하철호선,\n",
    "        세부.지하철까지시간,\n",
    "    )\n",
    "    }else if(len(apt.세대정보) ==4 &&  len(apt.주소정보) ==1){\n",
    "        \n",
    "        세대1 := apt.세대정보[0]\n",
    "    세대2 := apt.세대정보[1]\n",
    "    세대3 := apt.세대정보[2]\n",
    "    세대4 := apt.세대정보[3]\n",
    "    주소1 := apt.주소정보[0]\n",
    "\n",
    "    \n",
    "//     _, err = stmt.Exec(int64(bjd[0]), string(bjd[1]))\n",
    "    _, err = stmt.Exec(\n",
    "        세부.아파트코드,\n",
    "        매치.마을코드,\n",
    "        주소1.법정동주소,\n",
    "        \"\",\n",
    "        세대1.세대수+세대2.세대수+세대3.세대수+세대4.세대수,\n",
    "        세대1.세대수,\n",
    "        세대2.세대수,\n",
    "        세대3.세대수,\n",
    "        세대4.세대수,\n",
    "        세대1.아파트코드,\n",
    "        세대2.아파트코드,\n",
    "        세대3.아파트코드,\n",
    "        세대4.아파트코드,\n",
    "        세부.아파트이름,\n",
    "        세부.분양형태,\n",
    "        세부.난방방식,\n",
    "        세부.연면적,\n",
    "        세부.동수,\n",
    "        세부.시공사,\n",
    "        세부.시행사,\n",
    "        세부.관리사무소연락처,\n",
    "        세부.관리사무소팩스,\n",
    "        세부.홈페이지주소,\n",
    "        세부.단지분류,\n",
    "        세부.일반관리방식,\n",
    "        세부.일반관리인원,\n",
    "        세부.일반관리계약업체,\n",
    "        세부.경비관리방식,\n",
    "        세부.경비관리인원,\n",
    "        세부.경비관리계약업체,\n",
    "        세부.청소관리방식,\n",
    "        세부.청소관리인원,\n",
    "        세부.음식물처리방법,\n",
    "        세부.소독관리방식,\n",
    "        세부.연간소독횟수,\n",
    "        세부.소독방법,\n",
    "        세부.건물구조,\n",
    "        세부.세대전기계약방식,\n",
    "        세부.화재수신반방식,\n",
    "        세부.승강기관리형태,\n",
    "        세부.지상주차장대수,\n",
    "        세부.지하주차장대수,\n",
    "        세부.cctv대수,\n",
    "        세부.부대복리시설,\n",
    "        세부.수전용량,\n",
    "        세부.전기안전관리자법정선임여부,\n",
    "        세부.급수방식,\n",
    "        \"\",\n",
    "        \"\",\n",
    "        \"\",\n",
    "        세부.주차관제홈네트워크,\n",
    "        세부.버스정류장,\n",
    "        세부.편의시설,\n",
    "        세부.교육시설,\n",
    "        세부.복도유형,\n",
    "        세부.사용승인일,\n",
    "        세부.주거전용면적,\n",
    "        세부.인근지하철역,\n",
    "        세부.인근지하철호선,\n",
    "        세부.지하철까지시간,\n",
    "    )\n",
    "}else {\n",
    "            _, err = stmt.Exec(\n",
    "        세부.아파트코드,\n",
    "        매치.마을코드,\n",
    "        \"\",\n",
    "        \"\",\n",
    "        0,\n",
    "        0,\n",
    "        0,\n",
    "        0,\n",
    "        0,\n",
    "        \"\",\n",
    "        \"\",\n",
    "        \"\",\n",
    "        \"\",\n",
    "        세부.아파트이름,\n",
    "        세부.분양형태,\n",
    "        세부.난방방식,\n",
    "        세부.연면적,\n",
    "        세부.동수,\n",
    "        세부.시공사,\n",
    "        세부.시행사,\n",
    "        세부.관리사무소연락처,\n",
    "        세부.관리사무소팩스,\n",
    "        세부.홈페이지주소,\n",
    "        세부.단지분류,\n",
    "        세부.일반관리방식,\n",
    "        세부.일반관리인원,\n",
    "        세부.일반관리계약업체,\n",
    "        세부.경비관리방식,\n",
    "        세부.경비관리인원,\n",
    "        세부.경비관리계약업체,\n",
    "        세부.청소관리방식,\n",
    "        세부.청소관리인원,\n",
    "        세부.음식물처리방법,\n",
    "        세부.소독관리방식,\n",
    "        세부.연간소독횟수,\n",
    "        세부.소독방법,\n",
    "        세부.건물구조,\n",
    "        세부.세대전기계약방식,\n",
    "        세부.화재수신반방식,\n",
    "        세부.승강기관리형태,\n",
    "        세부.지상주차장대수,\n",
    "        세부.지하주차장대수,\n",
    "        세부.cctv대수,\n",
    "        세부.부대복리시설,\n",
    "        세부.수전용량,\n",
    "        세부.전기안전관리자법정선임여부,\n",
    "        세부.급수방식,\n",
    "        \"\",\n",
    "        \"\",\n",
    "        \"\",\n",
    "        세부.주차관제홈네트워크,\n",
    "        세부.버스정류장,\n",
    "        세부.편의시설,\n",
    "        세부.교육시설,\n",
    "        세부.복도유형,\n",
    "        세부.사용승인일,\n",
    "        세부.주거전용면적,\n",
    "        세부.인근지하철역,\n",
    "        세부.인근지하철호선,\n",
    "        세부.지하철까지시간,\n",
    "    )\n",
    "    }\n",
    "        \n",
    "\tif err != nil {\n",
    "\t\tlog.Println(err)\n",
    "\t}\n",
    "}\n",
    "\n",
    "_, err = stmt.Exec()\n",
    "if err != nil {\n",
    "\tfmt.Println(err)\n",
    "}\n",
    "\n",
    "err = stmt.Close()\n",
    "if err != nil {\n",
    "\tfmt.Println(err)\n",
    "}\n",
    "\n",
    "err = txn.Commit()\n",
    "if err != nil {\n",
    "\tfmt.Println(err)\n",
    "}\n",
    "    \n",
    "}\n",
    "\n"
   ]
  },
  {
   "cell_type": "markdown",
   "metadata": {},
   "source": [
    "# 최종 결과물 얻기"
   ]
  },
  {
   "cell_type": "code",
   "execution_count": 9,
   "metadata": {
    "ExecuteTime": {
     "end_time": "Z",
     "start_time": "2018-03-22T23:17:37.275Z"
    },
    "init_cell": true
   },
   "outputs": [
    {
     "name": "stderr",
     "output_type": "stream",
     "text": [
      "2:1: undeclared name: createAptTable\n",
      "2:16: undeclared name: createAptTableScript\n",
      "3:18: undeclared name: getAptBaseInfo\n",
      "4:1: undeclared name: writeAptInfo\n",
      "4:14: undeclared name: 열이름\n"
     ]
    }
   ],
   "source": [
    "\n",
    "createAptTable(createAptTableScript)\n",
    "aptDetailInfo := getAptBaseInfo(\"부천시\")\n",
    "writeAptInfo(열이름, aptDetailInfo)"
   ]
  },
  {
   "cell_type": "code",
   "execution_count": 18,
   "metadata": {
    "ExecuteTime": {
     "end_time": "Z",
     "start_time": "2018-03-22T21:53:29.098Z"
    }
   },
   "outputs": [],
   "source": [
    "type AptInfo struct {\n",
    "\n",
    "    아파트코드 string `json:\"KAPT_CODE\"`\n",
    "    아파트이름 \tstring `json:\"KAPT_NAME\"`\n",
    "    마을코드 int `json:\"TOWN_CODE\"`\n",
    "    법정동주소 string `json:\"ADDR\"`\n",
    "    도로명주소 string `json:\"ADDR\"`\n",
    "    단지분류\tstring `json:\"CODE_APT\"`\n",
    "    \n",
    "    동수 string `json:\"KAPT_DONG_CNT\"`\n",
    "    세대수 int `json:\"KAPTDA_CNT\"`\n",
    "    \n",
    "    전용면적60이하아파트코드 string\n",
    "     전용면적60이하세대수 string\n",
    "     전용면적60이상85이하아파트코드 string\n",
    "     전용면적60이상85이하세대수 string\n",
    "     전용면적85이상135이하아파트코드 string\n",
    "     전용면적85이상135이하세대수 string\n",
    "     전용면적135초과아파트코드 string\n",
    "     전용면적135초과세대수 string\n",
    "    \n",
    "    분양형태\tstring `json:\"CODE_SALE\"`\n",
    "    \n",
    "    난방방식\tstring `json:\"CODE_HEAT\"`\n",
    "    복도유형\tstring `json:\"CODE_HALL\"`\n",
    "    \n",
    "    연면적\tfloat64 `json:\"KAPT_TAREA\"`\n",
    "    \n",
    "    시공사 string `json:\"KAPT_BCOMPANY\"`\n",
    "    시행사 string `json:\"KAPT_ACOMPANY\"`\n",
    "    \n",
    "    관리사무소연락처\tstring `json:\"KAPT_TEL\"`\n",
    "    관리사무소팩스\tstring `json:\"KAPT_FAX\"`\n",
    "    홈페이지주소\tstring `json:\"KAPT_URL\"`\n",
    "\n",
    "    \n",
    "    일반관리방식 string `json:\"CODE_MGR\"`\n",
    "    일반관리인원 \tstring `json:\"KAPT_MGR_CNT\"`\n",
    "    일반관리계약업체  \tstring `json:\"KAPT_CCOMPANY\"` \n",
    "    \n",
    "    경비관리방식\tstring `json:\"CODE_SEC\"`\n",
    "    경비관리인원\tstring `json:\"KAPTD_SCNT\"`\n",
    "    경비관리계약업체 \tstring `json:\"KAPTD_SEC_COM\"`\n",
    "\n",
    "    청소관리방식\tstring `json:\"CODE_CLEAN\"`\n",
    "    청소관리인원\tstring `json:\"KAPTD_CLCNT\"`\n",
    "    음식물처리방법 \tstring `json:\"CODE_GARBAGE\"`\n",
    "    \n",
    "    소독관리방식\tstring `json:\"CODE_DISINF\"`\n",
    "    연간소독횟수 \tstring `json:\"KAPTD_DCNT\"`\n",
    "    소독방법\tstring `json:\"DISPOSAL_TYPE\"`\n",
    "    \n",
    "        승강기관리형태  string `json:\"CODE_ELEV\"`\n",
    "    // 승객용승강기  string `json:\"KAPTD_ECNTP\"`\n",
    "    //화물용승강기  string `json:\"KAPTD_PCNT\"`\n",
    "    //비상승강기 string `json:\"KAPTD_DCNT\"`\n",
    "\n",
    "        주차관제홈네트워크  \tstring `json:\"CODE_NET\"`\n",
    "    \n",
    "            건물구조  string `json:\"CODE_STR\"`\n",
    "    세대전기계약방식 string `json:\"CODE_ECON\"`\n",
    "    화재수신반방식  string `json:\"CODE_FALARM\"`\n",
    "    \n",
    "    지상주차장대수 string `json:\"KAPTD_PCNT\"`\n",
    "    지하주차장대수 string `json:\"KAPTD_PCNTU\"`\n",
    "    \n",
    "    cctv대수  string `json:\"KAPTD_CCCNT\"`\n",
    "    부대복리시설  string `json:\"WELFARE_FACILITY\"`\n",
    "    수전용량  string `json:\"KAPTD_ECAPA\"`\n",
    "    전기안전관리자법정선임여부  \tstring `json:\"CODE_EMGR\"`\n",
    "    급수방식  string `json:\"CODE_WSUPPLY\"`\n",
    "    \n",
    "    버스정류장 \tstring `json:\"KAPTD_WTIMEBUS\"`\n",
    "    편의시설  \tstring `json:\"CONVENIENT_FACILITY\"`\n",
    "    교육시설  \tstring `json:\"EDUCATION_FACILITY\"`\n",
    "    \n",
    "    사용승인일\tstring `json:\"KAPT_USEDATE\"`\n",
    "    주거전용면적 float64 `json:\"KAPT_MAREA\"`\n",
    "    \n",
    "    인근지하철역\tstring `json:\"SUBWAY_STATION\"`\n",
    "    인근지하철호선\tstring `json:\"SUBWAY_LINE\"`\n",
    "    지하철까지시간 \tstring `json:\"KAPTD_WTIMESUB\"`\n",
    " }"
   ]
  },
  {
   "cell_type": "markdown",
   "metadata": {},
   "source": [
    "https://stackoverflow.com/questions/43692136/how-do-i-get-a-slice-from-a-postgres-array-in-golang"
   ]
  },
  {
   "cell_type": "code",
   "execution_count": 8,
   "metadata": {
    "ExecuteTime": {
     "end_time": "Z",
     "start_time": "2018-03-22T23:17:10.533Z"
    }
   },
   "outputs": [
    {
     "name": "stdout",
     "output_type": "stream",
     "text": [
      "포인터 얻기\n"
     ]
    },
    {
     "name": "stderr",
     "output_type": "stream",
     "text": [
      "2018/03/22 23:17:11 pq: relation \"아파트정보\" does not exist\n",
      "panic: runtime error: invalid memory address or nil pointer dereference\n",
      "\n",
      "goroutine 80 [running]:\n",
      "runtime/debug.Stack(0xc400000008, 0x7f7f66c25490, 0xc42049de20)\n",
      "\t/usr/local/go/src/runtime/debug/stack.go:24 +0xa9\n",
      "github.com/yunabe/lgo/core.(*resultCounter).recordResult(0xc42049de08, 0x7f7f66b371a0, 0x7f7f66f47460)\n",
      "\t/go/src/github.com/yunabe/lgo/core/core.go:91 +0xce\n",
      "github.com/yunabe/lgo/core.(*resultCounter).recordResultInDefer(0xc42049de08)\n",
      "\t/go/src/github.com/yunabe/lgo/core/core.go:96 +0x3b\n",
      "panic(0x7f7f66b371a0, 0x7f7f66f47460)\n",
      "\t/usr/local/go/src/runtime/panic.go:491 +0x294\n",
      "database/sql.(*Rows).close(0x0, 0x0, 0x0, 0x0, 0x0)\n",
      "\t/usr/local/go/src/database/sql/sql.go:2748 +0x7b\n",
      "database/sql.(*Rows).Close(0x0, 0xc4200f3ee0, 0x1)\n",
      "\t/usr/local/go/src/database/sql/sql.go:2744 +0x3f\n",
      "panic(0x7f7f66b371a0, 0x7f7f66f47460)\n",
      "\t/usr/local/go/src/runtime/panic.go:491 +0x294\n",
      "sync.(*RWMutex).RLocker(...)\n",
      "\t/usr/local/go/src/database/sql/sql.go:2447\n",
      "database/sql.(*Rows).Next(0x0, 0x7f7f67945698)\n",
      "\t/usr/local/go/src/database/sql/sql.go:2447 +0x32\n",
      "github.com/yunabe/lgo/sess7b2274696d65223a313532313736303233343033313332353237387d/exec8.LgoExport_getAptInfoFromDB(0x7f7f48df69ba, 0x9)\n",
      "\t/go/src/github.com/yunabe/lgo/sess7b2274696d65223a313532313736303233343033313332353237387d/exec8/src.go:50 +0x4c1\n",
      "github.com/yunabe/lgo/sess7b2274696d65223a313532313736303233343033313332353237387d/exec8.lgo_init()\n",
      "\t/go/src/github.com/yunabe/lgo/sess7b2274696d65223a313532313736303233343033313332353237387d/exec8/src.go:66 +0x3d\n",
      "github.com/yunabe/lgo/cmd/runner.loadShared.func3()\n",
      "\t/go/src/github.com/yunabe/lgo/cmd/runner/runner.go:60 +0x26\n",
      "github.com/yunabe/lgo/core.startExec.func1(0xc42049ddd0, 0xc42054cbf0)\n",
      "\t/go/src/github.com/yunabe/lgo/core/core.go:247 +0x83\n",
      "created by github.com/yunabe/lgo/core.startExec\n",
      "\t/go/src/github.com/yunabe/lgo/core/core.go:244 +0xcb\n",
      "main routine failed\n"
     ]
    }
   ],
   "source": [
    "\n",
    "import (\n",
    "\t\"database/sql\"\n",
    "\t\"log\"\n",
    "\t\"os\"\n",
    "    \"fmt\"\n",
    "    \n",
    "    pg \"github.com/lib/pq\"\n",
    "    \"strings\"\n",
    ")\n",
    "\n",
    "func getAptInfoFromDB(keyword string)  {\n",
    "    \n",
    "    _ = pg.Efatal\n",
    "    \n",
    "    const (\n",
    "    DB_USER     = \"gopher\"\n",
    "    DB_PASSWORD = \"1111\"\n",
    "    DB_NAME     = \"gopher\" // postgres create DB named created user's\n",
    "    DB_HOST        = \"db\"\n",
    "    )\n",
    " \n",
    "    dbinfo := fmt.Sprintf(\"user=%s password=%s dbname=%s host=%s sslmode=disable\",\n",
    "        DB_USER, DB_PASSWORD, DB_NAME, DB_HOST)\n",
    "    \n",
    "    // db 접속 포인터를 얻고\n",
    "    db, err := sql.Open(\"postgres\", dbinfo)\n",
    "\n",
    "    if err != nil {\n",
    "        log.Println(err)\n",
    "    }\n",
    "    defer db.Close()\n",
    "\n",
    "    fmt.Println(\"포인터 얻기\")\n",
    "\n",
    "    \n",
    "    // Query the database.\n",
    "    rows, err := db.Query(`SELECT json_agg(아파트정보) FROM 아파트정보 WHERE 법정동주소 LIKE $1`,\n",
    "                      \"%\"+ keyword+\"%\")\n",
    "    \n",
    "   \n",
    "\n",
    "    if err != nil {\n",
    "    log.Println(err)\n",
    "    }\n",
    "    defer rows.Close()\n",
    "\n",
    "    s := []byte{}\n",
    "\n",
    "    for rows.Next() {\n",
    "\n",
    "        if err := rows.Scan(&s); err != nil {\n",
    "            log.Println(err)\n",
    "        }\n",
    "    \n",
    "        fmt.Println(s)\n",
    "    }\n",
    "    \n",
    "\n",
    "}\n",
    "\n",
    "getAptInfoFromDB(\"신길동\")"
   ]
  },
  {
   "cell_type": "code",
   "execution_count": null,
   "metadata": {},
   "outputs": [],
   "source": []
  }
 ],
 "metadata": {
  "celltoolbar": "Initialization Cell",
  "hide_input": false,
  "kernelspec": {
   "display_name": "Go (lgo)",
   "language": "go",
   "name": "lgo"
  },
  "language_info": {
   "file_extension": "",
   "mimetype": "",
   "name": "go",
   "version": ""
  },
  "latex_envs": {
   "LaTeX_envs_menu_present": true,
   "autoclose": false,
   "autocomplete": true,
   "bibliofile": "biblio.bib",
   "cite_by": "apalike",
   "current_citInitial": 1,
   "eqLabelWithNumbers": true,
   "eqNumInitial": 1,
   "hotkeys": {
    "equation": "Ctrl-E",
    "itemize": "Ctrl-I"
   },
   "labels_anchors": false,
   "latex_user_defs": false,
   "report_style_numbering": false,
   "user_envs_cfg": false
  },
  "toc": {
   "nav_menu": {},
   "number_sections": true,
   "sideBar": true,
   "skip_h1_title": false,
   "title_cell": "Table of Contents",
   "title_sidebar": "Contents",
   "toc_cell": false,
   "toc_position": {},
   "toc_section_display": true,
   "toc_window_display": true
  }
 },
 "nbformat": 4,
 "nbformat_minor": 2
}
