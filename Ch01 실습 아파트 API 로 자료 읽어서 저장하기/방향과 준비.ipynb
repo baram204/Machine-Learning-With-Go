{
 "cells": [
  {
   "cell_type": "markdown",
   "metadata": {},
   "source": [
    "#  방향과 필요"
   ]
  },
  {
   "cell_type": "markdown",
   "metadata": {},
   "source": [
    "공동주택 아파트 정보를 아는 분이 사업에 사용하기 위해서 긁어달라고 했다. 구글 스프레드 시트로 긁는데는 성공했으나 자료를 재가공하고 정렬하는데 너무 많은 시간이 들어가서 짜증이 났다. \n",
    "\n",
    "난 매우 게으른 사람이다. 만성 통증으로 오랜 시간 집중하거나 일하기도 어려움.\n",
    "\n",
    "최규민씨 것을 참조한다. http://nbviewer.jupyter.org/gist/goodvc78/a1ab600a5103ca60b8cc"
   ]
  },
  {
   "cell_type": "markdown",
   "metadata": {},
   "source": [
    "## 방향"
   ]
  },
  {
   "cell_type": "markdown",
   "metadata": {},
   "source": [
    "공공데이터 포털에서는 공동주택 기본정보 제공조회 API 로 공동주택의 정보를 받아온다.\n",
    "\n",
    "https://www.data.go.kr/search/index.do\n",
    "\n",
    "볼려면 로그인 필요함. 비회원으로도 가능하지만 요청시 개발허용 키가 필요하다."
   ]
  },
  {
   "cell_type": "markdown",
   "metadata": {},
   "source": [
    "## 필요한 것"
   ]
  },
  {
   "cell_type": "markdown",
   "metadata": {},
   "source": [
    "1. 아파트 코드\n",
    "  - 근데 아주 엿같은 건 아파트 코드의 목록을 제공하는 방법을 안내하는 문서가 없다. 아주 엿 같음. [질문글](https://www.data.go.kr/information/QNA_0000000000015440/qna.do)\n",
    "\n",
    "2. 1을 위한 공동주택 단지 목록제공 서비스 [여기](https://www.data.go.kr/dataset/3039714/openapi.do)\n",
    " - 한계가 있다면 모든 아파트 목록이 아니라는 것. k-apt 에 등록된 아파트 코드만 나온다.[여기](https://www.data.go.kr/information/QNA_0000000000016604/qna.do)\n",
    "\n",
    "3. 2를 위한 시군구번호+법정동번호 '2638010100' [여기](https://www.code.go.kr/ 행정표준코드 관리시스템)\n",
    " - 근데 이걸 통째로 쓰면 조옷 같은 것이... 서울 00구 00동 만 조회하려고 할 때 불편하다.\n",
    " - 처리가 필요하다"
   ]
  },
  {
   "cell_type": "markdown",
   "metadata": {},
   "source": [
    "# 준비"
   ]
  },
  {
   "cell_type": "markdown",
   "metadata": {},
   "source": [
    "1. xml 을 디코드 -> 구조체 담기 -> json 으로 인코드\n",
    "2. xml 을 바로 json 으로\n",
    "\n",
    "2번이 나은 선택. 최종 결과물인 json 변환 중간에 자료 조작할 필요가 없으니 생략 가능하면 생략이 이득.\n",
    "\n",
    "- 패키지 https://github.com/basgys/goxml2json\n",
    "- 고독 https://godoc.org/github.com/basgys/goxml2json#Convert\n",
    "\n",
    "파이썬 판다 프레임워크 같은 게 고언어에는 없다. 누더기 처럼 이것 저것 기워서 써야 함.\n",
    "\n",
    "파이썬은 코드 짧은 거 보시오.\n",
    "\n",
    "```python\n",
    "# si, gun, gu data 수집 \n",
    "def getAddrInfo( code, type='SGG'  ):\n",
    "    response = urllib.request.urlopen(\"http://www.k-apt.go.kr/cmmn/bjd/getBjdList.do?bjd_code=%d&bjd_gbn=%s\" %(code,type) )\n",
    "    data = json.loads(response.read().decode('utf-8'))\n",
    "    return pd.DataFrame(data[u'resultList'])\n",
    "```\n",
    "\n",
    "고는 파이썬과는 다르게 뭘 실행하면 무조건 에러 확인 코드가 붙고.. 여튼 판다 부러웁다.\n",
    "\n",
    "gota 라는 데이터 프레임워크가 있는데 이건 xml 불러오기가 없음. sql 에서 직접 불러오는 기능도 없어서 ... 여튼 사용자가 만들어 줘야하는 부분이 많다. JOOOOOOOOOOT 같다."
   ]
  },
  {
   "cell_type": "markdown",
   "metadata": {},
   "source": [
    "## 패키지 테스트 "
   ]
  },
  {
   "cell_type": "markdown",
   "metadata": {},
   "source": [
    "아.. lgo 는 패키지 임포트가 한방에 안 되는데 ㅠㅠ 짜증나네. 그리고 도커 파일에 명령을 업뎃해줘야 함. 귀찮..\n",
    "\n",
    "```\n",
    "go get -u github.com/basgys/goxml2json\n",
    "lgo isntall\n",
    "```"
   ]
  },
  {
   "cell_type": "code",
   "execution_count": 2,
   "metadata": {
    "ExecuteTime": {
     "end_time": "Z",
     "start_time": "2018-03-17T21:08:18.252Z"
    }
   },
   "outputs": [
    {
     "name": "stderr",
     "output_type": "stream",
      "30:13: use of package strings not in selector\n"
     ]
    }
   ],
   "source": [
    "  import (\n",
    "\n",
    "    // 인터넷에서 받아오기 위해서       \n",
    "    \"io/ioutil\"\n",
    "    \"net/http\"\n",
    "    // 문자열을 읽어서 버퍼로 만드는 버퍼스트링 객체를 사용하기 위해서..   \n",
    "  \t\"strings\"     \n",
    "    // 변환 위해서\n",
    "  \txj \"github.com/basgys/goxml2json\"\n",
    "    // 출력 위해서\n",
    "    \"fmt\"\n",
    "  )\n",
    "\n",
    "    res, err := http.Get(\"https://www.w3schools.com/xml/note.xml\")\n",
    "    if err != nil {\n",
    "        fmt.Printf(\"Failed to get: %v\\n\", err)\n",
    "        return\n",
    "    }\n",
    "    defer res.Body.Close()\n",
    "\n",
    "  \t// xml is an io.Reader that 문자열로 버퍼를 만드는데.. 우리는 이미 http.Get 으로 바이트로 받음.\n",
    "  \t// xml := strings.NewReader(res)\n",
    "\n",
    "    // 바로 json  으로 변환.\n",
    "  \tjson, err := xj.Convert(res.Body)\n",
    "  \tif err != nil {\n",
    "  \t\tpanic(\"That's embarrassing...\")\n",
    "  \t}\n",
    "\n",
    "  \tfmt.Println(json.String())\n",
    "  \t// {\"hello\": \"world\"}\n",
    "  "
   ]
  },
  {
   "cell_type": "markdown",
   "metadata": {},
   "source": [
    "## 공공데이터 api 테스트 "
   ]
  },
  {
   "cell_type": "markdown",
   "metadata": {},
   "source": [
    "최규민 씨 것이 더 나으려나. github 에다가 푸시하는 문서에 개인 api 키를 적으려니까 슬슬 짜증난다.\n",
    "\n",
    "아 귀찮으아.... 아래 소스 [원본](https://stackoverflow.com/a/30657518)\n",
    "\n",
    "서비스키가 이미 인코드 되어 있는데 그것을 다시 encode 해서 %3D 가 %253D 라 바뀌어 버리면 오류가 난다.\n",
    "\n",
    "디코드 한 서비스키를 넣어서 다시 인코드 한다.\n",
    "\n",
    "https://gobyexample.com/url-parsing"
   ]
  },
  {
   "cell_type": "code",
   "execution_count": 26,
   "metadata": {
    "ExecuteTime": {
     "end_time": "Z",
     "start_time": "2018-03-18T00:30:54.632Z"
    }
   },
   "outputs": [
    {
     "name": "stdout",
     "output_type": "stream",
     "text": [
      "9sfZOPVes/SD+woe/T+hLuNcrJUi0XE/LEf76rL2wuipBUT0GLQD4kEs4DISzyoOTkaRn4Ap52qnkpCUwElILg==\n",
      "http://apis.data.go.kr/1611000/AptBasisInfoService/getAphusBassInfo?ServiceKey=9sfZOPVes%2FSD%2Bwoe%2FT%2BhLuNcrJUi0XE%2FLEf76rL2wuipBUT0GLQD4kEs4DISzyoOTkaRn4Ap52qnkpCUwElILg%3D%3D&kaptCode=A10027875\n",
      "201\n",
      "<nil>\n"
     ]
    }
   ],
   "source": [
    "import (\n",
    "    \"fmt\"\n",
    "    \"log\"\n",
    "    \"net/http\"\n",
    "    \"os\"\n",
    " \"net\"\n",
    "  \"net/url\"\n",
    ")\n",
    "    s := \"http://apis.data.go.kr/1611000/AptBasisInfoService/getAphusBassInfo?kaptCode=A10027875&ServiceKey=9sfZOPVes%2FSD%2Bwoe%2FT%2BhLuNcrJUi0XE%2FLEf76rL2wuipBUT0GLQD4kEs4DISzyoOTkaRn4Ap52qnkpCUwElILg%3D%3D\"\n",
    "    u, err := url.Parse(s)\n",
    "    m, _ := url.ParseQuery(u.RawQuery)\n",
    "    serviceKey := m[\"ServiceKey\"][0]\n",
    "    fmt.Println(serviceKey)\n",
    "\n",
    "    req, err := http.NewRequest(\"GET\", \"http://apis.data.go.kr/1611000/AptBasisInfoService/getAphusBassInfo\", nil)\n",
    "    if err != nil {\n",
    "        log.Print(err)\n",
    "        //os.Exit(1)\n",
    "    }\n",
    "\n",
    "    q := req.URL.Query()\n",
    " \n",
    "q.Add(\"ServiceKey\", serviceKey)    \n",
    "q.Add(\"kaptCode\",\"A10027875\" )\n",
    "    \n",
    "    //q.Add(\"_type\", \"json\")\n",
    "req.URL.RawQuery = q.Encode()\n",
    "    fmt.Println(req.URL.String())\n",
    "    // Output:\n",
    "    // http://api.themoviedb.org/3/tv/popular?another_thing=foo+%26+bar&api_key=key_from_environment_or_flag\n",
    "// http://apis.data.go.kr/1611000/AptBasisInfoService/getAphusBassInfo?kaptCode=A10027875&ServiceKey=서비스키\n",
    "// http://apis.data.go.kr/1611000/AptBasisInfoService/getAphusBassInfo?kaptCode=A10027875&ServiceKe=9sfZOPVes%2FSD%2Bwoe%2FT%2BhLuNcrJUi0XE%2FLEf76rL2wuipBUT0GLQD4kEs4DISzyoOTkaRn4Ap52qnkpCUwElILg%3D%3D\n",
    "// http://apis.data.go.kr/1611000/AptBasisInfoService/getAphusBassInfo?ServiceKey=9sfZOPVes%252FSD%252Bwoe%252FT%252BhLuNcrJUi0XE%252FLEf76rL2wuipBUT0GLQD4kEs4DISzyoOTkaRn4Ap52qnkpCUwElILg%253D%253D&kaptCode=A10027875"
   ]
  },
  {
   "cell_type": "markdown",
   "metadata": {},
   "source": [
    "## 법정동 코드 가져와서 처리하기"
   ]
  },
  {
   "cell_type": "markdown",
   "metadata": {},
   "source": [
    "https://www.code.go.kr/jsp/index.jsp\n",
    "파일은 같은 폴더 내부에 넣어 두었다. 이게 좀 귀찮은데 gota 는 panda 처럼 많은 처리 옵션을 지원하는 것이 아니라서 슬라이스 상태에서 조작을 좀 해줘야 함.\n",
    "\n",
    "싶은데 탭분리 파일이라서.. 휴.. 탭을 먼저 쉼표로 치환 처리를 해줘야 함..\n",
    "\n",
    "참조 https://financedata.github.io/posts/korea-area-code.html\n",
    "\n",
    "전체 테이블에서 쿼리 날려서 자료 가져오면 그만인데..\n",
    "\n",
    "서울시 00구 00동 처럼 선택목록을 제공하기 위해서 추출을 했음.\n",
    "\n",
    "쿼리 날릴 때 각각의 코드를 조합한 결과를 쿼리보내면 됨."
   ]
  },
  {
   "cell_type": "markdown",
   "metadata": {},
   "source": [
    "### CSV 패키지로 행정동 코드 추출하고 변환하기"
   ]
  },
  {
   "cell_type": "markdown",
   "metadata": {},
   "source": [
    "참조 https://www.socketloop.com/tutorials/golang-read-tab-delimited-file-with-encoding-csv-package"
   ]
  },
  {
   "cell_type": "code",
   "execution_count": 3,
   "metadata": {
    "ExecuteTime": {
     "end_time": "Z",
     "start_time": "2018-03-12T20:46:52.652Z"
    }
   },
   "outputs": [],
   "source": [
    "import (\n",
    "         \"encoding/csv\"\n",
    "         \"fmt\"\n",
    "         \"os\"\n",
    "        \"github.com/kniren/gota/dataframe\"\n",
    " )\n",
    "\n",
    "// 접속 생성 및  닫기 지연 걸기\n",
    " csvFile, err := os.Open(\"./법정동코드_전체자료.txt\")\n",
    " defer csvFile.Close()\n",
    "\n",
    "// 일단 리더생성 후 쉼표 옵션 기호를 탭으로 설정\n",
    " reader := csv.NewReader(csvFile)\n",
    " reader.Comma = '\\t' // Use tab-delimited instead of comma <---- here!\n",
    " reader.FieldsPerRecord = -1\n",
    "\n",
    "// 모두 읽어제껴버림\n",
    " arrayData, err := reader.ReadAll()"
   ]
  },
  {
   "cell_type": "markdown",
   "metadata": {},
   "source": [
    "#### 모든 법정 코드"
   ]
  },
  {
   "cell_type": "markdown",
   "metadata": {},
   "source": [
    "- 법정동 코드를 문자열 타입으로\n",
    "- 폐지여부가 존재인 경우만 남김\n",
    "- 존재열 제거\n",
    "- 슬라이스[이상인덱스:미만인덱스]"
   ]
  },
  {
   "cell_type": "code",
   "execution_count": 4,
   "metadata": {
    "ExecuteTime": {
     "end_time": "Z",
     "start_time": "2018-03-12T21:20:07.160Z"
    }
   },
   "outputs": [
    {
     "name": "stdout",
     "output_type": "stream",
     "text": [
      "[﻿법정동코드 법정동명]\n",
      "[[﻿법정동코드 법정동명] [1100000000 서울특별시] [1111000000 서울특별시 종로구] [1111010100 서울특별시 종로구 청운동]]\n",
      "153\n",
      "<nil>\n"
     ]
    }
   ],
   "source": [
    "var filteredArrData [][]string\n",
    "\n",
    "ind := 0\n",
    "\n",
    "header := arrayData[0][:2]\n",
    "\n",
    "for index, row := range arrayData{\n",
    "  \n",
    "    if (index ==0){\n",
    "        filteredArrData = append(filteredArrData, row[:2])\n",
    "    }else if(row[2]==\"존재\"){\n",
    "        filteredArrData = append(filteredArrData, row[:2])\n",
    "    }\n",
    "    \n",
    "}\n",
    "\n",
    "fmt.Println(header)\n",
    "fmt.Println(filteredArrData[:4])"
   ]
  },
  {
   "cell_type": "markdown",
   "metadata": {},
   "source": [
    "#### 코드를 구분해서 추출하기"
   ]
  },
  {
   "cell_type": "markdown",
   "metadata": {},
   "source": [
    "- (시/도)2, (시/군/구)3, (읍/면/동)3, (리)2 로 각각 추출하기 - [정보](http://byhou.tistory.com/390)\n",
    "- 정규식 https://developer.mozilla.org/ko/docs/Web/JavaScript/Guide/정규식\n",
    "- 고언어 정규식함수들 [한글정리](../GoStudy/정규식.ipynb) [외국원문](https://gobyexample.com/regular-expressions)"
   ]
  },
  {
   "cell_type": "code",
   "execution_count": 5,
   "metadata": {
    "ExecuteTime": {
     "end_time": "Z",
     "start_time": "2018-03-12T21:22:05.256Z"
    },
    "scrolled": true
   },
   "outputs": [
    {
     "name": "stdout",
     "output_type": "stream",
     "text": [
      "[[시도코드 시도명] [1 1 서울특별시] [2 6 부산광역시] [2 7 대구광역시] [2 8 인천광역시] [2 9 광주광역시] [3 0 대전광역시] [3 1 울산광역시] [3 6 세종특별자치시] [4 1 경기도] [4 2 강원도] [4 3 충청북도] [4 4 충청남도] [4 5 전라북도] [4 6 전라남도] [4 7 경상북도] [4 8 경상남도] [5 0 제주특별자치도]] 18\n",
      "시도의 개수 : 18\n",
      "22\n",
      "<nil>\n"
     ]
    }
   ],
   "source": [
    "import \"regexp\"\n",
    "\n",
    "sido := [][]string{}\n",
    "sido = append(sido,[]string{\"시도코드\",\"시도명\"})\n",
    "\n",
    "// 세종자치시 때문에 3611 0여섯자리 패턴 들어감\n",
    "// \\d 는 숫자지만 \\ 문자 이스케이프를 위해 하나 더 씀\n",
    "sidor := regexp.MustCompile(\"\\\\d{2}0{8}|36110{6}\")\n",
    "\n",
    "for _,r := range filteredArrData{\n",
    "    \n",
    "    if sidor.MatchString(r[0]){ \n",
    "        newR := []string{}\n",
    "        code := strings.Split(r[0],\"\")[0:2]\n",
    "        name := strings.Fields(r[1])[0]\n",
    "        newR = append(code,name)\n",
    "        sido = append(sido,newR) \n",
    "    }\n",
    "}\n",
    "\n",
    "fmt.Println(sido, len(sido))\n",
    "fmt.Println(\"시도의 개수 :\", len(sido))"
   ]
  },
  {
   "cell_type": "code",
   "execution_count": 6,
   "metadata": {
    "ExecuteTime": {
     "end_time": "Z",
     "start_time": "2018-03-12T20:56:49.058Z"
    },
    "scrolled": true
   },
   "outputs": [
    {
     "name": "stdout",
     "output_type": "stream",
     "text": [
      "[[시군구코드 시도명] [1 1 0 종로구] [1 4 0 중구] [1 7 0 용산구] [2 0 0 성동구] [2 1 5 광진구] [2 3 0 동대문구] [2 6 0 중랑구] [2 9 0 성북구] [3 0 5 강북구] [3 2 0 도봉구] [3 5 0 노원구] [3 8 0 은평구] [4 1 0 서대문구] [4 4 0 마포구] [4 7 0 양천구] [5 0 0 강서구] [5 3 0 구로구] [5 4 5 금천구] [5 6 0 영등포구] [5 9 0 동작구] [6 2 0 관악구] [6 5 0 서초구] [6 8 0 강남구] [7 1 0 송파구] [7 4 0 강동구]]\n",
      "시/군/구의 개수 : 26\n",
      "27\n",
      "<nil>\n"
     ]
    }
   ],
   "source": [
    "import \"strings\"\n",
    "\n",
    "sigungu := [][]string{}\n",
    "sigungu = append(sigungu,[]string{\"시군구코드\",\"시도명\"})\n",
    "\n",
    "// 11 서울시 - 첫짜리는 0이 아닌 수, 두번째 세번째는 0-9 인 수 - 나머지 0이 다섯 개\n",
    "sigungur := regexp.MustCompile(\"11[1-9]{1}[0-9]{2}0{5}\")\n",
    "\n",
    "sigunIndex := 0\n",
    "for _,r := range filteredArrData{\n",
    "    \n",
    "    if sigungur.MatchString(r[0]){ \n",
    "        newR := []string{}\n",
    "        code := strings.Split(r[0],\"\")[2:5]\n",
    "        name := strings.Fields(r[1])[1]\n",
    "        newR = append(code,name)\n",
    "        sigungu = append(sigungu,newR ) }\n",
    "}\n",
    "\n",
    "fmt.Println(sigungu)\n",
    "fmt.Println(\"시/군/구의 개수 :\", len(sigungu))"
   ]
  },
  {
   "cell_type": "code",
   "execution_count": 77,
   "metadata": {
    "ExecuteTime": {
     "end_time": "Z",
     "start_time": "2018-03-12T21:23:29.857Z"
    }
   },
   "outputs": [
    {
     "name": "stdout",
     "output_type": "stream",
     "text": [
      "[[읍면동코드 읍면동] [1 0 1 수색동] [1 0 2 녹번동] [1 0 3 불광동] [1 0 4 갈현동] [1 0 5 구산동] [1 0 6 대조동] [1 0 7 응암동] [1 0 8 역촌동] [1 0 9 신사동] [1 1 0 증산동] [1 1 4 진관동]]\n",
      "읍/면/동의 개수 : 12\n",
      "27\n",
      "<nil>\n"
     ]
    }
   ],
   "source": [
    "upmyundong := [][]string{}\n",
    "upmyundong = append(upmyundong,[]string{\"읍면동코드\",\"읍면동명\"})\n",
    "\n",
    "// 11 서울시 - 첫짜리는 0이 아닌 수, 두번째 세번째는 0-9 인 수 - 나머지 0이 다섯 개\n",
    "upmyundongr := regexp.MustCompile(\"11380[1-9]{1}[0-9]{2}0{2}\")\n",
    "\n",
    "for _,r := range filteredArrData{\n",
    "    \n",
    "    if upmyundongr.MatchString(r[0]){ \n",
    "        newR := []string{}\n",
    "        code := strings.Split(r[0],\"\")[5:8]\n",
    "        name := strings.Fields(r[1])[2]\n",
    "        newR = append(code,name)        \n",
    "        upmyundong = append(upmyundong,newR) }\n",
    "}\n",
    "\n",
    "fmt.Println(upmyundong)\n",
    "fmt.Println(\"읍/면/동의 개수 :\", len(upmyundong))"
   ]
  },
  {
   "cell_type": "code",
   "execution_count": 7,
   "metadata": {
    "ExecuteTime": {
     "end_time": "Z",
     "start_time": "2018-03-12T21:01:52.300Z"
    }
   },
   "outputs": [
    {
     "name": "stdout",
     "output_type": "stream",
     "text": [
      "[[리코드 리명] [2 1 표선리] [2 2 하천리] [2 3 성읍리] [2 4 가시리] [2 5 세화리] [2 6 토산리]]\n",
      "리의 개수 : 7\n",
      "18\n",
      "<nil>\n"
     ]
    }
   ],
   "source": [
    "li := [][]string{}\n",
    "li = append(li,[]string{\"리코드\",\"리명\"})\n",
    "\n",
    "// 11 서울시 - 첫짜리는 0이 아닌 수, 두번째 세번째는 0-9 인 수 - 나머지 0이 다섯 개\n",
    "lir := regexp.MustCompile(\"50130320[1-9][0-9]\")\n",
    "\n",
    "for _,r := range filteredArrData{     \n",
    "    if lir.MatchString(r[0]){ \n",
    "        newR := []string{}\n",
    "        code := strings.Split(r[0],\"\")[8:]\n",
    "        name := strings.Fields(r[1])[3]\n",
    "        newR = append(code,name)  \n",
    "        li = append(li,newR) }\n",
    "}\n",
    "\n",
    "fmt.Println(li)\n",
    "fmt.Println(\"리의 개수 :\", len(li))"
   ]
  }
 ],
 "metadata": {
  "hide_input": false,
  "kernelspec": {
   "display_name": "Go (lgo)",
   "language": "go",
   "name": "lgo"
  },
  "language_info": {
   "file_extension": "",
   "mimetype": "",
   "name": "go",
   "version": ""
  },
  "latex_envs": {
   "LaTeX_envs_menu_present": true,
   "autoclose": false,
   "autocomplete": true,
   "bibliofile": "biblio.bib",
   "cite_by": "apalike",
   "current_citInitial": 1,
   "eqLabelWithNumbers": true,
   "eqNumInitial": 1,
   "hotkeys": {
    "equation": "Ctrl-E",
    "itemize": "Ctrl-I"
   },
   "labels_anchors": false,
   "latex_user_defs": false,
   "report_style_numbering": false,
   "user_envs_cfg": false
  },
  "toc": {
   "nav_menu": {},
   "number_sections": true,
   "sideBar": true,
   "skip_h1_title": false,
   "title_cell": "Table of Contents",
   "title_sidebar": "Contents",
   "toc_cell": false,
   "toc_position": {},
   "toc_section_display": true,
   "toc_window_display": false
  }
 },
 "nbformat": 4,
 "nbformat_minor": 2
}
