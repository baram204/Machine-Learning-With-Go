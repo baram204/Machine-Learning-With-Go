{
 "cells": [
  {
   "cell_type": "markdown",
   "metadata": {},
   "source": [
    "# 최종 정리"
   ]
  },
  {
   "cell_type": "markdown",
   "metadata": {
    "heading_collapsed": true
   },
   "source": [
    "## 요구사항"
   ]
  },
  {
   "cell_type": "markdown",
   "metadata": {
    "ExecuteTime": {
     "end_time": "Z",
     "start_time": "2018-03-17T14:56:55.152Z"
    },
    "hidden": true
   },
   "source": [
    "이 것을 왜 하냐? 계속 구글 스프레스 시트로 반복 작업을 하고 싶지 않았기 때문이다.\n",
    "\n",
    "- Ajax 로 특정 시군구 긁어오기\n",
    "- 정렬, 복사, 붙여넣기 등\n",
    "- 스프레트 시트에 지역-탭 별로 나누기\n",
    "\n",
    "이 정보의 최종 활용자는? 50대 컴퓨터에 익숙치 않은 어른. 그가 이 프로그램을 조작하진 않는다. 그리고 난 그에게 엑셀 파일만 주면 된다.\n",
    "\n",
    "몇 개의 필드를 숨기거나 하는 작업을 해도 된다. 그렇지만, 자료를 업데이트할 때마다 매번 자료의 형태를 가공해야하는 작업이 싫다.\n",
    "\n",
    "즉, 최종적으로 나는\n",
    "\n",
    "1. 내가 원하는 지역 경기도, 인천, 서울의 모든 아파트 정보를\n",
    "    - 각 페이지에\n",
    "    - 함수 한 번으로 가져오고\n",
    "    - 저장한 다음에\n",
    "    - 이것을 아래의 형태로 가공해서 각 부천,시흥시,광명시,구로구,양천구,부평구 페이지에 저장한다.\n",
    "    - 양식을 붙여넣을 수 있기 때문에.\n",
    "\n",
    "2. 최신 정보를 갱신할 때는.\n",
    "    - 기존의 정보의 명칭과 새로 받아온 것의 명칭을 비교해서\n",
    "    - 정보가 틀릴 때는 최신 것으로 업데이트하고\n",
    "    - 정보가 없을 때는 새로 추가하며\n",
    "    - 정보가 같을 때는 아무일도 하지 않는다.\n",
    "\n",
    "그렇게 되면 나는 이미 가공된 자료의 필드 몇개를 숨기거나 양식을 붙여넣는 수준으로 작업을 편하게 할 수 있다.\n",
    "\n",
    "연번|명칭|법정동|난방|관리사무실|팩스|준공일|방식|연차|동수|방광|요일|시간|금액|선입|문어|매수|1차|2차|비고\n",
    "--|--|--|--|--|--|--|--|--|--|--|--|--|--|--|--|--|--|--|--|--\n",
    "ㅇ|"
   ]
  },
  {
   "cell_type": "markdown",
   "metadata": {
    "heading_collapsed": true
   },
   "source": [
    "## 피드백"
   ]
  },
  {
   "cell_type": "markdown",
   "metadata": {
    "hidden": true
   },
   "source": [
    "비판과 재비판을 함 해보려고 한다.\n",
    "\n",
    "**원하는 지역의 아파트 코드만 가져온다**\n",
    "\n",
    "1. 필요한 건 오직 특정 시군구 정보 뿐이다.\n",
    " - 아니다. 특정 시군구 법정코드와 아파트 코드가 필요하다.\n",
    "2. 특정 시군구 아파트 코드만 필요하다\n",
    " - 가능하려면 2.x 메가짜리 파일에서 특정 동을 검색해서 그부분만 잘라서 xml 로 만든 뒤에 매번 csv 임포트 해줘야 한다.\n",
    "\n",
    "즉, sql 에 현재 가진 모든 법정코드와 주소를 테이블로 넣어두고 아파트 정보가 디테일하게 담긴 테이블에 정보를 넣어두는 것이 좋다.\n",
    "\n",
    "**아파트 코드만 얻어오면 아파트 정보를 얻을 수 있다.**\n",
    "\n",
    "- 그러나 읽어온 아파트 정보는 처리가 필요하다.\n",
    "- 게다가 영문으로 된 정보가 한글로 무엇인지 번역될 필요가 있다.\n",
    "\n",
    "```\n",
    "http://www.k-apt.go.kr/kaptinfo/getKaptInfo_detail.do?kapt_code=A10027255\n",
    "```"
   ]
  },
  {
   "cell_type": "code",
   "execution_count": 2,
   "metadata": {
    "ExecuteTime": {
     "end_time": "Z",
     "start_time": "2018-03-18T15:20:07.435Z"
    },
    "hidden": true,
    "scrolled": true
   },
   "outputs": [
    {
     "name": "stdout",
     "output_type": "stream",
     "text": [
      "{\"resultMap_match\":{\"KAPT_CODE\":\"A10027255\",\"TOWN_CODE\":20306348},\"resultMap_kapt\":{\"CODE_HEAT\":\"지역난방\",\"SUBWAY_STATION\":\"-\",\"SUBWAY_LINE\":\"7호선, 인천선\",\"KAPT_PE1AREA\":0,\"KAPT_PE2AREA\":0,\"KAPT_PE3AREA\":0,\"KAPT_PEAREA\":0,\"KAPT_PE4AREA\":0,\"DISPOSAL_TYPE\":\"분무식\",\"KAPT_PE5AREA\":0,\"KAP\n",
      "301\n",
      "<nil>\n"
     ]
    }
   ],
   "source": [
    "  import ( \"io/ioutil\";\"net/http\";\"strings\";\"fmt\";\"bytes\" )\n",
    "\n",
    "    res, err := http.Get(\"http://www.k-apt.go.kr/kaptinfo/getKaptInfo_detail.do?kapt_code=A10027255\")\n",
    "    defer res.Body.Close()\n",
    "    body, err := ioutil.ReadAll(res.Body); buf := bytes.NewBuffer(body); json := buf.String(); fmt.Println(json[:300])\n",
    "  \t"
   ]
  },
  {
   "cell_type": "markdown",
   "metadata": {},
   "source": [
    "# 구현 "
   ]
  },
  {
   "cell_type": "markdown",
   "metadata": {},
   "source": [
    "## 모든 법정동 코드 정보를 테이블에 넣기"
   ]
  },
  {
   "cell_type": "markdown",
   "metadata": {
    "heading_collapsed": true
   },
   "source": [
    "### 파일을 읽어서 존재하는 정보만 배열로 준비하기"
   ]
  },
  {
   "cell_type": "markdown",
   "metadata": {
    "hidden": true
   },
   "source": [
    "1. 존재하는 법정동 정보 중\n",
    "2. 코드 뒤 두자리가 00이면서\n",
    "3. 이름이 00동인 것만 추려서\n",
    "4. 코드 앞 8자리와 법정동명을 추출한다."
   ]
  },
  {
   "cell_type": "code",
   "execution_count": 15,
   "metadata": {
    "ExecuteTime": {
     "end_time": "Z",
     "start_time": "2018-03-22T21:24:34.539Z"
    },
    "hidden": true,
    "init_cell": true
   },
   "outputs": [
    {
     "name": "stdout",
     "output_type": "stream",
     "text": [
      "[[11110101 서울특별시 종로구 청운동] [11110102 서울특별시 종로구 신교동] [11110103 서울특별시 종로구 궁정동] [11110104 서울특별시 종로구 효자동] [11110105 서울특별시 종로구 창성동] [11110106 서울특별시 종로구 통의동] [11110107 서울특별시 종로구 적선동] [11110108 서울특별시 종로구 통인동] [11110109 서울특별시 종로구 누상동] [11110110 서울특별시 종로구 누하동] [11110111 서울특별시 종로구 옥인동] [11110112 서울특별시 종로구 체부동] [11110113 서울특별시 종로구 필운동] [11110114 서울특별시 종로구 내자동] [11110115 서울특별시 종로구 사직동] [11110116 서울특별시 종로구 도렴동] [11110117 서울특별시 종로구 당주동] [11110118 서울특별시 종로구 내수동] [11110119 서울특별시 종로구 세종로] [11110120 서울특별시 종로구 신문로1가] [11110121 서울특별시 종로구 신문로2가] [11110122 서울특별시 종로구 청진동] [11110123 서울특별시 종로구 서린동] [11110124 서울특별시 종로구 수송동] [11110125 서울특별시 종로구 중학동] [11110126 서울특별시 종로구 종로1가] [11110127 서울특별시 종로구 공평동] [11110128 서울특별시 종로구 관훈동] [11110129 서울특별시 종로구 견지동] [11110130 서울특별시 종로구 와룡동] [11110131 서울특별시 종로구 권농동] [11110132 서울특별시 종로구 운니동] [11110133 서울특별시 종로구 익선동] [11110134 서울특별시 종로구 경운동] [11110135 서울특별시 종로구 관철동] [11110136 서울특별시 종로구 인사동] [11110137 서울특별시 종로구 낙원동] [11110138 서울특별시 종로구 종로2가] [11110139 서울특별시 종로구 팔판동] [11110140 서울특별시 종로구 삼청동] [11110141 서울특별시 종로구 안국동] [11110142 서울특별시 종로구 소격동] [11110143 서울특별시 종로구 화동] [11110144 서울특별시 종로구 사간동] [11110145 서울특별시 종로구 송현동] [11110146 서울특별시 종로구 가회동] [11110147 서울특별시 종로구 재동] [11110148 서울특별시 종로구 계동] [11110149 서울특별시 종로구 원서동] [11110150 서울특별시 종로구 훈정동]]\n",
      "2353\n",
      "<nil>\n"
     ]
    }
   ],
   "source": [
    "import (\"encoding/csv\"; \"fmt\"; \"os\"; \"github.com/kniren/gota/dataframe\";\n",
    "       \"bytes\";\"regexp\";\"strings\")\n",
    "\n",
    "// 접속 생성 및  닫기 지연 걸기\n",
    " csvFile, err := os.Open(\"./법정동코드_전체자료.txt\")\n",
    " defer csvFile.Close()\n",
    "\n",
    "// 일단 리더생성 후 쉼표 옵션 기호를 탭으로 설정\n",
    " reader := csv.NewReader(csvFile)\n",
    " reader.Comma = '\\t' // Use tab-delimited instead of comma <---- here!\n",
    " reader.FieldsPerRecord = -1\n",
    "\n",
    "// 모두 읽어제껴버림\n",
    " arrayData, err := reader.ReadAll()\n",
    "\n",
    "// 헤더를 제외한 데이터만 배열에 담기\n",
    "bjdArrData := [][]string{}\n",
    "ind := 0\n",
    "\n",
    "// 패턴 매칭 숫자 8개, 0 두개\n",
    "r, _ := regexp.Compile(\"[0-9]{8}00\")\n",
    "\n",
    "for index, row := range arrayData{\n",
    "    \n",
    "    법정동코드 := row[0][:8]\n",
    "    법정동명 := row[1]\n",
    "    빈배열 := []string{법정동코드,법정동명 }\n",
    "    존재여부 := row[2]\n",
    "    숫자패턴 := r.MatchString(row[0])\n",
    "    주소묶음 := strings.Fields(row[1])\n",
    "    \n",
    "                         \n",
    "    if (index == 0){\n",
    "        // bjdArrData = append(filteredArrData, row[:2])\n",
    "        // index가 0 이면 다시 for 룹 시작으로 가서 index 1 부터 처리\n",
    "        // 즉 헤더 빼고 데이터처리만 하라는 말\n",
    "        continue\n",
    "    }else if( 존재여부 == \"존재\" && 숫자패턴 && len(주소묶음) == 3 ){\n",
    "        bjdArrData = append(bjdArrData, 빈배열)\n",
    "    }\n",
    "}\n",
    "\n",
    "fmt.Println(bjdArrData[:50])"
   ]
  },
  {
   "cell_type": "markdown",
   "metadata": {},
   "source": [
    "### 테이블 생성 후 배열 자료를 추가하기 "
   ]
  },
  {
   "cell_type": "markdown",
   "metadata": {},
   "source": [
    "생성"
   ]
  },
  {
   "cell_type": "code",
   "execution_count": 16,
   "metadata": {
    "ExecuteTime": {
     "end_time": "Z",
     "start_time": "2018-03-22T21:24:34.541Z"
    },
    "init_cell": true
   },
   "outputs": [],
   "source": [
    "import (\n",
    "\t\"database/sql\"\n",
    "\t\"log\"\n",
    "\t\"os\"\n",
    "    \"fmt\"\n",
    "    \n",
    "    pg \"github.com/lib/pq\"\n",
    ")\n",
    "\n",
    "    _ = pg.Efatal\n",
    "\n",
    "const (\n",
    "    DB_USER     = \"gopher\"\n",
    "    DB_PASSWORD = \"1111\"\n",
    "    DB_NAME     = \"gopher\" // postgres create DB named created user's\n",
    "    DB_HOST        = \"db\"\n",
    ")\n",
    " \n",
    "dbinfo := fmt.Sprintf(\"user=%s password=%s dbname=%s host=%s sslmode=disable\",\n",
    "    DB_USER, DB_PASSWORD, DB_NAME, DB_HOST)\n",
    "\n",
    "db, err := sql.Open(\"postgres\", dbinfo)\n",
    "\n",
    "if err != nil {\n",
    "    log.Println(err)\n",
    "}\n",
    "defer db.Close()\n",
    "\n",
    "droptable := `DROP TABLE IF EXISTS 법정동, 아파트정보;`\n",
    "\n",
    "createtable:= `CREATE TABLE 법정동 (\n",
    "                법정동코드 bigint NOT NULL DEFAULT 0,\n",
    "                법정동명 varchar(30)  NOT NULL DEFAULT ''\n",
    "              )`\n",
    "\n",
    "// 쿼리 날릴 준비를 하고 실행한다.\n",
    "stmt, err1 := db.Prepare(createtable)\n",
    "// 쿼리 날릴 준비를 하고 실행한다.\n",
    "stmt2, err1 := db.Prepare(droptable)\n",
    "\n",
    "\n",
    "\n",
    "_, err = stmt2.Exec()\n",
    "if err != nil {\n",
    "    fmt.Println(err.Error())\n",
    "}\n",
    "defer stmt2.Close()\n",
    "\n",
    "_, err = stmt.Exec()\n",
    "if err != nil {\n",
    "    fmt.Println(err.Error())\n",
    "}\n",
    "defer stmt.Close()"
   ]
  },
  {
   "cell_type": "markdown",
   "metadata": {},
   "source": [
    "벌크 임포트(대량 가져오기) https://godoc.org/github.com/lib/pq#hdr-Bulk_imports\n",
    "\n",
    "prepared statement http://go-database-sql.org/prepared.html\n"
   ]
  },
  {
   "cell_type": "code",
   "execution_count": 17,
   "metadata": {
    "ExecuteTime": {
     "end_time": "Z",
     "start_time": "2018-03-22T21:24:34.542Z"
    },
    "init_cell": true
   },
   "outputs": [],
   "source": [
    "// 접속\n",
    "db, err := sql.Open(\"postgres\", dbinfo)\n",
    "defer db.Close()\n",
    "\n",
    "\n",
    "txn, err := db.Begin()\n",
    "if err != nil {\n",
    "\tfmt.Println(err)\n",
    "}\n",
    "// func CopyIn(table string, columns ...string) string\n",
    "stmt, err := txn.Prepare(pg.CopyIn(\"법정동\", \"법정동코드\", \"법정동명\"))\n",
    "if err != nil {\n",
    "\tfmt.Println(err)\n",
    "}\n",
    "\n",
    "for _, bjd := range bjdArrData {\n",
    "//     _, err = stmt.Exec(int64(bjd[0]), string(bjd[1]))\n",
    "        _, err = stmt.Exec(bjd[0], bjd[1])\n",
    "\tif err != nil {\n",
    "\t\tfmt.Println(err)\n",
    "\t}\n",
    "}\n",
    "\n",
    "_, err = stmt.Exec()\n",
    "if err != nil {\n",
    "\tfmt.Println(err)\n",
    "}\n",
    "\n",
    "err = stmt.Close()\n",
    "if err != nil {\n",
    "\tfmt.Println(err)\n",
    "}\n",
    "\n",
    "err = txn.Commit()\n",
    "if err != nil {\n",
    "\tfmt.Println(err)\n",
    "}"
   ]
  },
  {
   "cell_type": "markdown",
   "metadata": {},
   "source": [
    "## 특정 키워드를 입력하면 해당하는 모든 법정동 코드 가져오는 함수 만들기"
   ]
  },
  {
   "cell_type": "markdown",
   "metadata": {
    "heading_collapsed": true
   },
   "source": [
    "### 함수 설계 (mock)"
   ]
  },
  {
   "cell_type": "code",
   "execution_count": 33,
   "metadata": {
    "ExecuteTime": {
     "end_time": "Z",
     "start_time": "2018-03-19T07:06:39.751Z"
    },
    "hidden": true
   },
   "outputs": [
    {
     "name": "stdout",
     "output_type": "stream",
     "text": [
      "[1001 1002 1003]\n",
      "17\n",
      "<nil>\n"
     ]
    }
   ],
   "source": [
    "func getBjd(areaName string) []int {\n",
    "    \n",
    "    법정동코드결과 := []int{}\n",
    "    \n",
    "    // areaName Like 쿼리 결과 를 법정동 코드결과 변수에 append 로 넣는다.\n",
    "    \n",
    "    법정동코드결과 = append(법정동코드결과, 1001, 1002, 1003)\n",
    "    \n",
    "    return 법정동코드결과\n",
    "}\n",
    "\n",
    "fmt.Println(getBjd(\"지역키워드\"))"
   ]
  },
  {
   "cell_type": "markdown",
   "metadata": {
    "heading_collapsed": true
   },
   "source": [
    "### 쿼리 설계"
   ]
  },
  {
   "cell_type": "code",
   "execution_count": 36,
   "metadata": {
    "ExecuteTime": {
     "end_time": "Z",
     "start_time": "2018-03-19T07:08:10.411Z"
    },
    "hidden": true
   },
   "outputs": [
    {
     "name": "stdout",
     "output_type": "stream",
     "text": [
      "질의 날리기\n",
      "출력하기 [1100000000 1111000000 1111010100 1111010200]\n",
      "59\n",
      "<nil>\n"
     ]
    }
   ],
   "source": [
    "// db 접속 포인터를 얻고\n",
    "db, err := sql.Open(\"postgres\", dbinfo)\n",
    "\n",
    "if err != nil { log.Println(err)}\n",
    "defer db.Close()\n",
    "\n",
    "// Query the database.\n",
    "rows, err := db.Query(`\n",
    "    SELECT 법정동코드\n",
    "    FROM 법정동\n",
    "    WHERE 법정동명 LIKE $1\n",
    "    `, \"%서울%\")\n",
    "\n",
    "if err != nil { log.Println(err)}\n",
    "defer rows.Close()\n",
    "    \n",
    "fmt.Println(\"질의 날리기\")\n",
    "\n",
    "법정동코드결과 := []string{}\n",
    "\n",
    "for rows.Next() {\n",
    "    \n",
    "    코드하나 := \"\"\n",
    "\n",
    "if err := rows.Scan(&코드하나); err != nil {\n",
    "log.Println(err)}\n",
    " \n",
    "   법정동코드결과 =  append(법정동코드결과,코드하나)\n",
    "// fmt.Printf(\"%.2d, \\n\", 법정동코드)\n",
    "}\n",
    "    \n",
    "fmt.Println(\"출력하기\", 법정동코드결과[:4])\n",
    "    "
   ]
  },
  {
   "cell_type": "markdown",
   "metadata": {},
   "source": [
    "### 지역 키워드에 따라 법정동 코드를 가져오는 함수 완성"
   ]
  },
  {
   "cell_type": "code",
   "execution_count": 18,
   "metadata": {
    "ExecuteTime": {
     "end_time": "Z",
     "start_time": "2018-03-22T21:24:34.544Z"
    },
    "init_cell": true
   },
   "outputs": [
    {
     "name": "stdout",
     "output_type": "stream",
     "text": [
      "[[11560132 서울특별시 영등포구 신길동]]\n",
      "52\n",
      "<nil>\n"
     ]
    }
   ],
   "source": [
    "import (\n",
    "\t\"database/sql\"\n",
    "\t\"log\"\n",
    "\t\"os\"\n",
    "    \"fmt\"\n",
    "    \n",
    "    pg \"github.com/lib/pq\"\n",
    ")\n",
    "\n",
    "    _ = pg.Efatal\n",
    "\n",
    "const (\n",
    "    DB_USER     = \"gopher\"\n",
    "    DB_PASSWORD = \"1111\"\n",
    "    DB_NAME     = \"gopher\" // postgres create DB named created user's\n",
    "    DB_HOST        = \"db\"\n",
    ")\n",
    " \n",
    "dbinfo := fmt.Sprintf(\"user=%s password=%s dbname=%s host=%s sslmode=disable\",\n",
    "    DB_USER, DB_PASSWORD, DB_NAME, DB_HOST)\n",
    "\n",
    "func getBjd(areaName string) [][]string {\n",
    "    \n",
    "    법정동코드결과 := [][]string{}\n",
    "    \n",
    "    // areaName Like 쿼리 결과 를 법정동 코드결과 변수에 append 로 넣는다.\n",
    "    db, err := sql.Open(\"postgres\", dbinfo)\n",
    "    if err != nil { log.Println(err)}\n",
    "    defer db.Close()\n",
    "    \n",
    "    // Query the database.\n",
    "    rows, err := db.Query(`SELECT 법정동코드,법정동명 FROM 법정동 WHERE 법정동명 LIKE $1`,\n",
    "                      \"%\"+ areaName+\"%\")\n",
    "    index := 0\n",
    "    for rows.Next() {    \n",
    "        코드하나 := \"\"\n",
    "        이름하나 := \"\"\n",
    "        if err := rows.Scan(&코드하나,&이름하나); err != nil {log.Println(err)}\n",
    "        한줄 := []string{코드하나,이름하나}\n",
    "        법정동코드결과 =  append(법정동코드결과, 한줄)\n",
    "        index += 1\n",
    "    }\n",
    "    \n",
    "    return 법정동코드결과\n",
    "}\n",
    "\n",
    "bjdCode := getBjd(\"신길동\")\n",
    "\n",
    "fmt.Println(bjdCode)"
   ]
  },
  {
   "cell_type": "markdown",
   "metadata": {},
   "source": [
    "## 법정동을 주면 아파트 코드를 가져오는 함수 작성"
   ]
  },
  {
   "cell_type": "markdown",
   "metadata": {
    "heading_collapsed": true
   },
   "source": [
    "### 함수 설계 - Mock"
   ]
  },
  {
   "cell_type": "code",
   "execution_count": 5,
   "metadata": {
    "ExecuteTime": {
     "end_time": "Z",
     "start_time": "2018-03-18T15:20:52.754Z"
    },
    "hidden": true
   },
   "outputs": [
    {
     "name": "stdout",
     "output_type": "stream",
     "text": [
      "[A1001 A1002 A1003]\n",
      "20\n",
      "<nil>\n"
     ]
    }
   ],
   "source": [
    "func getAptCode(bjdCode int) []string {\n",
    "    \n",
    "    아파트코드결과 := []string{}\n",
    "    \n",
    "    // get 요청으로 반환받은 결과 값을 아파트 코드결과 변수에 append 로 넣는다.\n",
    "    \n",
    "    아파트코드결과 = append(아파트코드결과, \"A1001\", \"A1002\", \"A1003\")\n",
    "    \n",
    "    return 아파트코드결과\n",
    "}\n",
    "\n",
    "fmt.Println(getAptCode(263802006002))"
   ]
  },
  {
   "cell_type": "markdown",
   "metadata": {},
   "source": [
    "### get 요청과 처리 설계"
   ]
  },
  {
   "cell_type": "markdown",
   "metadata": {},
   "source": [
    "계속 timeout 오류가 나서 내가 뭘 잘못했나. Timeout 시간까지 늘렸는데... 집 네트워크가 이상해서 그랬다. 현재 lte 네트워크로 작업하니 슉슉 잘 됨."
   ]
  },
  {
   "cell_type": "markdown",
   "metadata": {},
   "source": [
    "#### 요청 주소 만들고 GET 호출하기"
   ]
  },
  {
   "cell_type": "markdown",
   "metadata": {
    "ExecuteTime": {
     "end_time": "Z",
     "start_time": "2018-03-20T05:45:05.596Z"
    }
   },
   "source": [
    "직접 Get 을 썼다가. 아래처럼 request 요청으로 바꿈.\n",
    "http://golang.site/go/article/102-HTTP-GET-호출\n",
    "\n",
    "고 기본 get 은 실패시 재시도 기능이 없다.\n",
    "https://github.com/sethgrid/pester"
   ]
  },
  {
   "cell_type": "code",
   "execution_count": 19,
   "metadata": {
    "ExecuteTime": {
     "end_time": "Z",
     "start_time": "2018-03-22T21:24:34.546Z"
    },
    "init_cell": true
   },
   "outputs": [
    {
     "name": "stderr",
     "output_type": "stream",
     "text": [
      "2018/03/22 21:24:38 example.com 200 OK\n"
     ]
    }
   ],
   "source": [
    "import (\n",
    "    \"fmt\"\n",
    "    \"log\"\n",
    "    \"net/http\"\n",
    "    \"os\"\n",
    " \"net\"\n",
    "  \"net/url\"\n",
    "    \"strconv\"\n",
    "    \"time\"\n",
    "    \"io/ioutil\"\n",
    "    \"github.com/sethgrid/pester\"\n",
    ")\n",
    "\n",
    "func getAptlistRsp(targetUrl string, bjdCode string) []uint8{\n",
    "    \n",
    "    req, err := http.NewRequest(\"GET\", targetUrl, nil)\n",
    "    if err != nil {\n",
    "        log.Print(err)\n",
    "    }\n",
    "\n",
    "    q := req.URL.Query()   \n",
    "    q.Add(\"bjd_code\",bjdCode) \n",
    "    req.URL.RawQuery = q.Encode()\n",
    "    \n",
    "    // url := req.URL.String()\n",
    "    // fmt.Println(req.URL.String())\n",
    "    \n",
    "    \n",
    "    // Client객체에서 Request 실행\n",
    "//     client := &http.Client{Timeout: 40 * time.Second,}\n",
    "//     resp, err := client.Do(req)\n",
    "    \n",
    "    // pester 사용\n",
    "    resp, err := pester.Do(req)\n",
    "    if err != nil {\n",
    "        log.Println(\"error GETing example.com\", err)\n",
    "    }\n",
    "    defer resp.Body.Close()\n",
    "    log.Printf(\"example.com %s\", resp.Status)\n",
    " \n",
    "    // 결과 출력\n",
    "    bytes, _ := ioutil.ReadAll(resp.Body)\n",
    "    // str := string(bytes) //바이트를 문자열로\n",
    "     // fmt.Println(str[:100])\n",
    "    \n",
    "    \n",
    "    return  bytes\n",
    "}\n",
    "aptListurl := \"http://www.k-apt.go.kr/kaptinfo/getKaptList.do\"\n",
    "respListBody := getAptlistRsp(aptListurl, bjdCode[0][0])"
   ]
  },
  {
   "cell_type": "markdown",
   "metadata": {},
   "source": [
    "#### 주소 요청 결과로 구조체 만들기"
   ]
  },
  {
   "cell_type": "markdown",
   "metadata": {},
   "source": [
    "구조는 다음과 같다."
   ]
  },
  {
   "cell_type": "code",
   "execution_count": null,
   "metadata": {},
   "outputs": [],
   "source": [
    "{\n",
    "  \"resultList\": [\n",
    "    {\n",
    "      \"KAPT_USEDATE\": \"199701\",\n",
    "      \"BJD_CODE\": \"1135010500\",\n",
    "      \"KAPT_NAME\": \"노원현대아파트\",\n",
    "      \"OPEN_TERM\": null, \n",
    "      \"KAPT_CODE\": \"A13981604\",\n",
    "      \"OCCU_FIRST_DATE\": \"199702\",\n",
    "      \"X\": 205515.315,\n",
    "      \"Y\": 461795.5,\n",
    "      \"ENERGY_B_COUNT\": 0,\n",
    "      \"BJD_NAME\": \"서울특별시 노원구 상계동\"\n",
    "    },\n",
    "      ...\n",
    "}"
   ]
  },
  {
   "cell_type": "markdown",
   "metadata": {},
   "source": [
    "구조체는 다음과 같음..  \n",
    "\n",
    "https://www.thepolyglotdeveloper.com/2017/03/parse-xml-data-in-a-golang-application/\n",
    "\n",
    "네스티드로 구조체 짤 수도 있다.\n",
    "https://stackoverflow.com/questions/32125816/parsing-xml-in-golang-unmarshaling"
   ]
  },
  {
   "cell_type": "code",
   "execution_count": 20,
   "metadata": {
    "ExecuteTime": {
     "end_time": "Z",
     "start_time": "2018-03-22T21:24:34.548Z"
    },
    "init_cell": true,
    "scrolled": false
   },
   "outputs": [
    {
     "name": "stdout",
     "output_type": "stream",
     "text": [
      "[{201704 1156013200 래미안에스티움  A10027073 0 191822.47 443975.94 0 서울특별시 영등포구 신길동} {201512 1156013200 래미안프레비뉴  A10027755 0 191811.52 444772.78 0 서울특별시 영등포구 신길동} {201307 1156013200 레전드힐스  A15005002 0 191828.02 444826.03 0 서울특별시 영등포구 신길동} {200508 1156013200 보라매경남아너스빌  A15086006 0 191981.3 443634.2 3 서울특별시 영등포구 신길동} {200511 1156013200 보라매두산위브  A15086001 0 192363.39 443896.1 0 서울특별시 영등포구 신길동} {200007 1156013200 신기목련  A15005102 0 192418.5 445133.9 0 서울특별시 영등포구 신길동} {198609 1156013200 신길1차우성아파트  A15005303 0 191125.22 444794.47 0 서울특별시 영등포구 신길동} {198509 1156013200 신길건영  A15005302 0 191201.55 444836.38 0 서울특별시 영등포구 신길동} {199906 1156013200 신길경남  A15083703 0 192731.19 445933.28 0 서울특별시 영등포구 신길동} {197412 1156013200 신길남서울  A15085805 0 192181.34 444453.8 0 서울특별시 영등포구 신길동} {200806 1156013200 신길뉴타운한화꿈에그린  A15005501 0 191935.7 444527.5 0 서울특별시 영등포구 신길동} {198712 1156013200 신길삼두  A15083701 0 193197.98 445793.12 0 서울특별시 영등포구 신길동} {198404 1156013200 신길삼성  A15005603 0 192095 443796.66 0 서울특별시 영등포구 신길동} {200106 1156013200 신길삼성래미안  A15005402 0 192434.98 444806.9 0 서울특별시 영등포구 신길동} {200106 1156013200 신길삼성제2  A15005401 0 192284.7 445016.25 0 서울특별시 영등포구 신길동} {199705 1156013200 신길삼환  A15005705 0 192797.61 445106.56 0 서울특별시 영등포구 신길동} {198609 1156013200 신길우성2차  A15086007 0 192196.48 444008.16 0 서울특별시 영등포구 신길동} {198904 1156013200 신길우성3차아파트  A15086004 0 191897.39 443894.78 0 서울특별시 영등포구 신길동} {199105 1156013200 신길우성4차  A15005001 0 192645.52 445736.2 0 서울특별시 영등포구 신길동} {199310 1156013200 신길우성5차  A15005301 0 191403.42 444953.72 0 서울특별시 영등포구 신길동} {198308 1156013200 신길우창  A15005602 0 192179.02 443897.75 0 서울특별시 영등포구 신길동} {201106 1156013200 신길자이  A15096001 0 192555.92 444910.7 0 서울특별시 영등포구 신길동} {199707 1156013200 신길한성  A15085404 0 192812.77 444725.03 0 서울특별시 영등포구 신길동}]\n",
      "{\"resultList\":[{\"KAPT_USEDATE\":\"201704\",\"BJD_CODE\":\"1156013200\",\"KAPT_NAME\":\"래미안에스티움\",\"OPEN_TERM\":\"\",\"KAPT_CODE\":\"A10027073\",\"OCCU_FIRST_DATE\":0,\"X\":191822.47,\"Y\":443975.94,\"ENERGY_B_COUNT\":0,\"BJD_NAME\":\"서울특별시 영등포구 신길동\"},{\"KAPT_USEDATE\":\"201512\",\"BJD_CODE\":\"1156013200\",\"KAPT_NAME\":\"래미안프레비뉴\",\"OPEN_TERM\":\"\",\"KAPT_CODE\":\"A10027755\",\"OCCU_FIRST_DATE\":0,\"X\":191811.52,\"Y\":444772.78,\"ENERGY_B_COUNT\":0,\"BJD_NAME\":\"서울특별시 영등포구 신길동\"},{\"KAPT_USEDATE\":\"201307\",\"BJD_CODE\":\"1156013200\",\"KAPT_NAME\":\"레전드힐스\",\"OPEN_TERM\":\"\",\"KAPT_CODE\":\"A15005002\",\"OCCU_FIRST_DATE\":0,\"X\":191828.02,\"Y\":444826.03,\"ENERGY_B_COUNT\":0,\"BJD_NAME\":\"서울특별시 영등포구 신길동\"},{\"KAPT_USEDATE\":\"200508\",\"BJD_CODE\":\"1156013200\",\"KAPT_NAME\":\"보라매경남아너스빌\",\"OPEN_TERM\":\"\",\"KAPT_CODE\":\"A15086006\",\"OCCU_FIRST_DATE\":0,\"X\":191981.3,\"Y\":443634.2,\"ENERGY_B_COUNT\":3,\"BJD_NAME\":\"서울특별시 영등포구 신길동\"},{\"KAPT_USEDATE\":\"200511\",\"BJD_CODE\":\"1156013200\",\"KAPT_NAME\":\"보라매두산위브\",\"OPEN_TERM\":\"\",\"KAPT_CODE\":\"A15086001\",\"OCCU_FIRST_DATE\":0,\"X\":192363.39,\"Y\":443896.1,\"ENERGY_B_COUNT\":0,\"BJD_NAME\":\"서울특별시 영등포구 신길동\"},{\"KAPT_USEDATE\":\"200007\",\"BJD_CODE\":\"1156013200\",\"KAPT_NAME\":\"신기목련\",\"OPEN_TERM\":\"\",\"KAPT_CODE\":\"A15005102\",\"OCCU_FIRST_DATE\":0,\"X\":192418.5,\"Y\":445133.9,\"ENERGY_B_COUNT\":0,\"BJD_NAME\":\"서울특별시 영등포구 신길동\"},{\"KAPT_USEDATE\":\"198609\",\"BJD_CODE\":\"1156013200\",\"KAPT_NAME\":\"신길1차우성아파트\",\"OPEN_TERM\":\"\",\"KAPT_CODE\":\"A15005303\",\"OCCU_FIRST_DATE\":0,\"X\":191125.22,\"Y\":444794.47,\"ENERGY_B_COUNT\":0,\"BJD_NAME\":\"서울특별시 영등포구 신길동\"},{\"KAPT_USEDATE\":\"198509\",\"BJD_CODE\":\"1156013200\",\"KAPT_NAME\":\"신길건영\",\"OPEN_TERM\":\"\",\"KAPT_CODE\":\"A15005302\",\"OCCU_FIRST_DATE\":0,\"X\":191201.55,\"Y\":444836.38,\"ENERGY_B_COUNT\":0,\"BJD_NAME\":\"서울특별시 영등포구 신길동\"},{\"KAPT_USEDATE\":\"199906\",\"BJD_CODE\":\"1156013200\",\"KAPT_NAME\":\"신길경남\",\"OPEN_TERM\":\"\",\"KAPT_CODE\":\"A15083703\",\"OCCU_FIRST_DATE\":0,\"X\":192731.19,\"Y\":445933.28,\"ENERGY_B_COUNT\":0,\"BJD_NAME\":\"서울특별시 영등포구 신길동\"},{\"KAPT_USEDATE\":\"197412\",\"BJD_CODE\":\"1156013200\",\"KAPT_NAME\":\"신길남서울\",\"OPEN_TERM\":\"\",\"KAPT_CODE\":\"A15085805\",\"OCCU_FIRST_DATE\":0,\"X\":192181.34,\"Y\":444453.8,\"ENERGY_B_COUNT\":0,\"BJD_NAME\":\"서울특별시 영등포구 신길동\"},{\"KAPT_USEDATE\":\"200806\",\"BJD_CODE\":\"1156013200\",\"KAPT_NAME\":\"신길뉴타운한화꿈에그린\",\"OPEN_TERM\":\"\",\"KAPT_CODE\":\"A15005501\",\"OCCU_FIRST_DATE\":0,\"X\":191935.7,\"Y\":444527.5,\"ENERGY_B_COUNT\":0,\"BJD_NAME\":\"서울특별시 영등포구 신길동\"},{\"KAPT_USEDATE\":\"198712\",\"BJD_CODE\":\"1156013200\",\"KAPT_NAME\":\"신길삼두\",\"OPEN_TERM\":\"\",\"KAPT_CODE\":\"A15083701\",\"OCCU_FIRST_DATE\":0,\"X\":193197.98,\"Y\":445793.12,\"ENERGY_B_COUNT\":0,\"BJD_NAME\":\"서울특별시 영등포구 신길동\"},{\"KAPT_USEDATE\":\"198404\",\"BJD_CODE\":\"1156013200\",\"KAPT_NAME\":\"신길삼성\",\"OPEN_TERM\":\"\",\"KAPT_CODE\":\"A15005603\",\"OCCU_FIRST_DATE\":0,\"X\":192095,\"Y\":443796.66,\"ENERGY_B_COUNT\":0,\"BJD_NAME\":\"서울특별시 영등포구 신길동\"},{\"KAPT_USEDATE\":\"200106\",\"BJD_CODE\":\"1156013200\",\"KAPT_NAME\":\"신길삼성래미안\",\"OPEN_TERM\":\"\",\"KAPT_CODE\":\"A15005402\",\"OCCU_FIRST_DATE\":0,\"X\":192434.98,\"Y\":444806.9,\"ENERGY_B_COUNT\":0,\"BJD_NAME\":\"서울특별시 영등포구 신길동\"},{\"KAPT_USEDATE\":\"200106\",\"BJD_CODE\":\"1156013200\",\"KAPT_NAME\":\"신길삼성제2\",\"OPEN_TERM\":\"\",\"KAPT_CODE\":\"A15005401\",\"OCCU_FIRST_DATE\":0,\"X\":192284.7,\"Y\":445016.25,\"ENERGY_B_COUNT\":0,\"BJD_NAME\":\"서울특별시 영등포구 신길동\"},{\"KAPT_USEDATE\":\"199705\",\"BJD_CODE\":\"1156013200\",\"KAPT_NAME\":\"신길삼환\",\"OPEN_TERM\":\"\",\"KAPT_CODE\":\"A15005705\",\"OCCU_FIRST_DATE\":0,\"X\":192797.61,\"Y\":445106.56,\"ENERGY_B_COUNT\":0,\"BJD_NAME\":\"서울특별시 영등포구 신길동\"},{\"KAPT_USEDATE\":\"198609\",\"BJD_CODE\":\"1156013200\",\"KAPT_NAME\":\"신길우성2차\",\"OPEN_TERM\":\"\",\"KAPT_CODE\":\"A15086007\",\"OCCU_FIRST_DATE\":0,\"X\":192196.48,\"Y\":444008.16,\"ENERGY_B_COUNT\":0,\"BJD_NAME\":\"서울특별시 영등포구 신길동\"},{\"KAPT_USEDATE\":\"198904\",\"BJD_CODE\":\"1156013200\",\"KAPT_NAME\":\"신길우성3차아파트\",\"OPEN_TERM\":\"\",\"KAPT_CODE\":\"A15086004\",\"OCCU_FIRST_DATE\":0,\"X\":191897.39,\"Y\":443894.78,\"ENERGY_B_COUNT\":0,\"BJD_NAME\":\"서울특별시 영등포구 신길동\"},{\"KAPT_USEDATE\":\"199105\",\"BJD_CODE\":\"1156013200\",\"KAPT_NAME\":\"신길우성4차\",\"OPEN_TERM\":\"\",\"KAPT_CODE\":\"A15005001\",\"OCCU_FIRST_DATE\":0,\"X\":192645.52,\"Y\":445736.2,\"ENERGY_B_COUNT\":0,\"BJD_NAME\":\"서울특별시 영등포구 신길동\"},{\"KAPT_USEDATE\":\"199310\",\"BJD_CODE\":\"1156013200\",\"KAPT_NAME\":\"신길우성5차\",\"OPEN_TERM\":\"\",\"KAPT_CODE\":\"A15005301\",\"OCCU_FIRST_DATE\":0,\"X\":191403.42,\"Y\":444953.72,\"ENERGY_B_COUNT\":0,\"BJD_NAME\":\"서울특별시 영등포구 신길동\"},{\"KAPT_USEDATE\":\"198308\",\"BJD_CODE\":\"1156013200\",\"KAPT_NAME\":\"신길우창\",\"OPEN_TERM\":\"\",\"KAPT_CODE\":\"A15005602\",\"OCCU_FIRST_DATE\":0,\"X\":192179.02,\"Y\":443897.75,\"ENERGY_B_COUNT\":0,\"BJD_NAME\":\"서울특별시 영등포구 신길동\"},{\"KAPT_USEDATE\":\"201106\",\"BJD_CODE\":\"1156013200\",\"KAPT_NAME\":\"신길자이\",\"OPEN_TERM\":\"\",\"KAPT_CODE\":\"A15096001\",\"OCCU_FIRST_DATE\":0,\"X\":192555.92,\"Y\":444910.7,\"ENERGY_B_COUNT\":0,\"BJD_NAME\":\"서울특별시 영등포구 신길동\"},{\"KAPT_USEDATE\":\"199707\",\"BJD_CODE\":\"1156013200\",\"KAPT_NAME\":\"신길한성\",\"OPEN_TERM\":\"\",\"KAPT_CODE\":\"A15085404\",\"OCCU_FIRST_DATE\":0,\"X\":192812.77,\"Y\":444725.03,\"ENERGY_B_COUNT\":0,\"BJD_NAME\":\"서울특별시 영등포구 신길동\"}]}\n"
     ]
    }
   ],
   "source": [
    "import(\n",
    "    \"encoding/json\"\n",
    "    \"bytes\"\n",
    "\"reflect\")\n",
    "\n",
    "\n",
    "type AptBasicResultList struct {\n",
    "     결과목록 []AptBasicResult  `json:\"resultList\"`\n",
    "}\n",
    "\n",
    "type AptBasicResult struct{\n",
    "    아파트사용일 string `json:\"KAPT_USEDATE\"`\n",
    "    법정동코드 string  `json:\"BJD_CODE\"`\n",
    "    아파트이름 string `json:\"KAPT_NAME\"`\n",
    "    OPEN_TERM string `json:\"OPEN_TERM\"` // null 값을 타입으로 받을 수 있나?\n",
    "    아파트코드 string `json:\"KAPT_CODE\"`\n",
    "    완공첫날 int `json:\"OCCU_FIRST_DATE\"`\n",
    "    x좌표 float32 `json:\"X\"`\n",
    "    y좌표 float32 `json:\"Y\"`\n",
    "    에너지_B_횟수 int `json:\"ENERGY_B_COUNT\"`\n",
    "    법정동명 string  `json:\"BJD_NAME\"`\n",
    "}\n",
    "\n",
    "\n",
    "func unMarshalAptJson(responseBody []byte) AptBasicResultList {\n",
    "    \n",
    "    var data AptBasicResultList\n",
    "    json.Unmarshal(responseBody, &data)\n",
    "\n",
    "    fmt.Println(data.결과목록)\n",
    "     jsonData, _ := json.Marshal(data)\n",
    "     fmt.Println(string(jsonData))\n",
    "\n",
    " return data\n",
    "}\n",
    "\n",
    "xmlData := unMarshalAptJson(respListBody)\n"
   ]
  },
  {
   "cell_type": "markdown",
   "metadata": {},
   "source": [
    "#### XML 로부터 아파트 코드 추출하기"
   ]
  },
  {
   "cell_type": "code",
   "execution_count": 21,
   "metadata": {
    "ExecuteTime": {
     "end_time": "Z",
     "start_time": "2018-03-22T21:24:34.549Z"
    },
    "init_cell": true
   },
   "outputs": [],
   "source": [
    "import(\n",
    "    \"encoding/json\"\n",
    "    \"encoding/xml\"\n",
    "    \"bytes\"\n",
    "\"reflect\"\n",
    "\"fmt\")\n",
    "\n",
    "\n",
    "func getAptCode(aptXmlData AptBasicResultList) []string {\n",
    "        \n",
    "    아파트코드결과 := []string{}\n",
    "    \n",
    "    // get 요청으로 반환받은 결과 값을 아파트 코드결과 변수에 append 로 넣는다.\n",
    "    \n",
    "    items := xmlData.결과목록\n",
    "    \n",
    "    for _,v := range items{\n",
    "        // fmt.Println(k,v)\n",
    "        아파트코드결과 = append(아파트코드결과, v.아파트코드 )\n",
    "    }\n",
    "    // fmt.Println(아파트코드결과[:10])\n",
    "    \n",
    "    return 아파트코드결과\n",
    "}\n",
    "aptCodes := getAptCode(xmlData)\n"
   ]
  },
  {
   "cell_type": "markdown",
   "metadata": {},
   "source": [
    "## 아파트 기본 정보 담을 테이블 생성하기"
   ]
  },
  {
   "cell_type": "markdown",
   "metadata": {},
   "source": [
    "### 아파트 기본 정보 xml 정보 확인"
   ]
  },
  {
   "cell_type": "markdown",
   "metadata": {},
   "source": [
    "\n",
    "response body 만 xml 로 바꿔서 xml 파싱한다.\n",
    "https://tutorialedge.net/golang/parsing-xml-with-golang/\n",
    "\n",
    "https://www.thepolyglotdeveloper.com/2017/03/parse-xml-data-in-a-golang-application/\n",
    "\n",
    "\n",
    "받게되는 정보에 관한 설명\n",
    "https://www.data.go.kr/subMain.jsp#/L3B1YnIvcG90L215cC9Jcm9zTXlQYWdlL29wZW5EZXZHdWlkZVBhZ2UkQF4wMTIkQF5wdWJsaWNEYXRhRGV0YWlsUGs9dWRkaTphMTJjNmU3Ni04OTgyLTRlM2UtYWZlMi05NDQxMmM3ZDBhNzkkQF5tYWluRmxhZz10cnVl"
   ]
  },
  {
   "cell_type": "code",
   "execution_count": 22,
   "metadata": {
    "ExecuteTime": {
     "end_time": "Z",
     "start_time": "2018-03-22T21:24:34.551Z"
    },
    "init_cell": true
   },
   "outputs": [
    {
     "name": "stdout",
     "output_type": "stream",
     "text": [
      "{\"resultMap_match\":{\"KAPT_CODE\":\"A10027073\",\"TOWN_CODE\":20349595},\"resultMap_kapt\":{\"CODE_HEAT\":\"개별난방\",\"SUBWAY_STATION\":\"신풍역\",\"SUBWAY_LINE\":\"7호선\",\"KAPT_PE1AREA\":0,\"KAPT_PE2AREA\":0,\"KAPT_PE3AREA\":0,\"KAPT_PEAREA\":0,\"KAPT_PE4AREA\":0,\"DISPOSAL_TYPE\":\"도포식,분무식\",\"KAPT_PE5AREA\":0,\"KAPTD_ECNTB\":0,\"KAPTD_ECNTC\":0,\"KAPT_PHAREA\":0,\"KAPTD_ECNTD\":0,\"KAPTD_SCNT\":\"16\",\"KAPTD_ECNTE\":0,\"CODE_ECON\":\"종합계약\",\"KAPT_PPAREA\":0,\"KAPTD_CCCNT\":\"206\",\"KAPTD_ECNTM\":0,\"KAPT_TEL\":\"028499571\",\"WELFARE_FACILITY\":\"관리사무소, 노인정, 보육시설, 문고, 주민공동시설, 어린이놀이터, 휴게시설, 커뮤니티공간, 자전거보관소\",\"KAPTD_ECNTP\":52,\"KAPT_FAX\":\"02-849-9574\",\"KAPT_ACC_COMPANY\":\"이지스엔터프라이즈\",\"KAPT_MGR_CNT\":\"14\",\"KAPT_BCOMPANY\":\"삼성물산주식회사\",\"CONVENIENT_FACILITY\":\"-\",\"CODE_DISINF\":\"위탁관리\",\"CODE_EMGR\":\"상주선임\",\"CODE_MGR\":\"위탁관리\",\"KAPTD_PCNTU\":\"2280\",\"CODE_EMAINT\":\"위탁관리\",\"KAPT_MCAREA\":44964.64,\"CODE_ELEV\":\"위탁관리\",\"KAPT_MEAREA\":0,\"CODE_NET\":\"유\",\"KAPT_MHAREA\":0,\"KAPT_USEDATE\":\"2017-04-12\",\"KAPTD_WTIMEBUS\":\"5분이내\",\"KAPT_CODE\":\"A10027073\",\"CODE_APT\":\"아파트\",\"CODE_WSUPPLY\":\"부스타방식\",\"KAPT_MPAREA\":133313.49,\"KAPT_MAREA\":133313.49,\"KAPT_PAREA\":0,\"KAPT_TAREA\":272491.57,\"CODE_FALARM\":\"R형\",\"KAPTD_SEC_COM\":\"(주)씨큐원\",\"KAPTD_ECAPA\":\"7550\",\"CODE_STR\":\"철골콘크리트구조\",\"APPL_CODE\":1750,\"KAPT_ME1AREA\":0,\"KAPT_ACOMPANY\":\"신길7재정비촉진구역주택재개발사업조함\",\"KAPT_ME2AREA\":0,\"KAPT_ME3AREA\":0,\"CODE_GARBAGE\":\"음식물쓰레기종량제\",\"KAPT_ME4AREA\":0,\"KAPT_ME5AREA\":0,\"CODE_CLTIME\":\"6\",\"CODE_HALL\":\"혼합식\",\"CODE_STIME\":\"15\",\"KAPT_NAME\":\"래미안에스티움\",\"KAPT_DONG_CNT\":\"19\",\"CODE_CLEAN\":\"위탁관리\",\"CODE_SALE\":\"임대+분양\",\"CODE_SEC\":\"위탁관리\",\"EMPTY_HO_CNT\":5,\"APPL_PRODATE\":\"\",\"KAPT_URL\":\"estium.co.kr\",\"KAPTD_CLCNT\":\"23\",\"KAPTD_PCNT\":\"0\",\"KAPTD_WTIMESUB\":\"5분이내\",\"KAPTD_DCNT\":\"12\",\"EDUCATION_FACILITY\":\"-\",\"KAPT_CCOMPANY\":\"(주)타워피엠씨\"},\"resultMap_kapt_areacnt\":[{\"KAPTDA_CNT\":682,\"AREA_GBN\":1,\"KAPT_CODE\":\"A10027073\"},{\"KAPTDA_CNT\":833,\"AREA_GBN\":2,\"KAPT_CODE\":\"A10027073\"},{\"KAPTDA_CNT\":207,\"AREA_GBN\":3,\"KAPT_CODE\":\"A10027073\"},{\"KAPTDA_CNT\":null,\"AREA_GBN\":4,\"KAPT_CODE\":null}],\"resultMap_kapt_addrList\":[{\"ADDR\":\"서울특별시 영등포구 신길동 4950 래미안에스티움\",\"KAPT_CODE\":\"A10027073\",\"ADDR_GBN\":\"B\"},{\"ADDR\":\"서울특별시 영등포구 신풍로 77\",\"KAPT_CODE\":\"A10027073\",\"ADDR_GBN\":\"R\"}]}\n"
     ]
    },
    {
     "name": "stderr",
     "output_type": "stream",
     "text": [
      "2018/03/22 21:24:40 example.com 200 OK\n"
     ]
    }
   ],
   "source": [
    "import(\n",
    "    \"encoding/json\"\n",
    "    \"encoding/xml\"\n",
    "    \"io/ioutil\"\n",
    "    \"bytes\"\n",
    "    \"net/http\"\n",
    "    \"reflect\"\n",
    "    \"log\"\n",
    "    \"fmt\"\n",
    "    \"github.com/sethgrid/pester\"\n",
    ")\n",
    "\n",
    "func getAptDetailtRsp(targetUrl string, kaptCode string) []byte{\n",
    "    \n",
    "    req, err := http.NewRequest(\"GET\", targetUrl, nil)\n",
    "    if err != nil {\n",
    "        log.Print(err)\n",
    "        //os.Exit(1)\n",
    "    }\n",
    "\n",
    "    q := req.URL.Query()  \n",
    "    q.Add(\"kapt_code\",  kaptCode)\n",
    "    req.URL.RawQuery = q.Encode()\n",
    "    // url := req.URL.String()\n",
    "//     fmt.Println(req.URL.String())\n",
    "//     return  url   \n",
    "    \n",
    "        // Client객체에서 Request 실행\n",
    "//     client := &http.Client{Timeout: 40 * time.Second,}\n",
    "//     resp, err := client.Do(req)\n",
    "    \n",
    "    // pester 사용\n",
    "    resp, err := pester.Do(req)\n",
    "    if err != nil {\n",
    "        log.Println(\"error GETing example.com\", err)\n",
    "    }\n",
    "    defer resp.Body.Close()\n",
    "    log.Printf(\"example.com %s\", resp.Status)\n",
    " \n",
    "    // 결과 출력\n",
    "    bytes, _ := ioutil.ReadAll(resp.Body)\n",
    "    str := string(bytes) //바이트를 문자열로\n",
    "    fmt.Println(str)\n",
    "    \n",
    "    \n",
    "    return  bytes\n",
    "    \n",
    "}\n",
    "\n",
    "aptinfourl := \"http://www.k-apt.go.kr/kaptinfo/getKaptInfo_detail.do\"\n",
    "repDetailBody := getAptDetailtRsp(aptinfourl, aptCodes[0])"
   ]
  },
  {
   "cell_type": "code",
   "execution_count": 23,
   "metadata": {
    "ExecuteTime": {
     "end_time": "Z",
     "start_time": "2018-03-22T21:24:34.553Z"
    },
    "init_cell": true
   },
   "outputs": [
    {
     "name": "stdout",
     "output_type": "stream",
     "text": [
      "{\"resultMap_match\":{\"KAPT_CODE\":\"A10027073\",\"TOWN_CODE\":20349595},\"resultMap_kapt\":{\"KAPT_NAME\":\"래미안에스티움\",\"CODE_SALE\":\"임대+분양\",\"CODE_HEAT\":\"개별난방\",\"KAPT_TAREA\":272491.57,\"KAPT_DONG_CNT\":\"19\",\"KAPT_BCOMPANY\":\"삼성물산주식회사\",\"KAPT_ACOMPANY\":\"신길7재정비촉진구역주택재개발사업조함\",\"KAPT_TEL\":\"028499571\",\"KAPT_FAX\":\"02-849-9574\",\"KAPT_URL\":\"estium.co.kr\",\"CODE_APT\":\"아파트\",\"CODE_MGR\":\"위탁관리\",\"KAPT_MGR_CNT\":\"14\",\"KAPT_CCOMPANY\":\"(주)타워피엠씨\",\"CODE_SEC\":\"위탁관리\",\"KAPTD_SCNT\":\"16\",\"KAPTD_SEC_COM\":\"(주)씨큐원\",\"CODE_CLEAN\":\"위탁관리\",\"KAPTD_CLCNT\":\"23\",\"CODE_GARBAGE\":\"음식물쓰레기종량제\",\"CODE_DISINF\":\"위탁관리\",\"KAPTD_DCNT\":\"12\",\"DISPOSAL_TYPE\":\"도포식,분무식\",\"KAPTD_PCNT\":\"0\",\"KAPTD_PCNTU\":\"2280\",\"KAPTD_CCCNT\":\"206\",\"WELFARE_FACILITY\":\"관리사무소, 노인정, 보육시설, 문고, 주민공동시설, 어린이놀이터, 휴게시설, 커뮤니티공간, 자전거보관소\",\"KAPTD_ECAPA\":\"7550\",\"CODE_EMGR\":\"상주선임\",\"CODE_WSUPPLY\":\"부스타방식\",\"CODE_STR\":\"철골콘크리트구조\",\"CODE_ECON\":\"종합계약\",\"CODE_FALARM\":\"R형\",\"CODE_ELEV\":\"위탁관리\",\"CODE_NET\":\"유\",\"KAPTD_WTIMEBUS\":\"5분이내\",\"CONVENIENT_FACILITY\":\"-\",\"EDUCATION_FACILITY\":\"-\",\"CODE_HALL\":\"혼합식\",\"KAPT_USEDATE\":\"2017-04-12\",\"KAPT_MAREA\":133313.49,\"SUBWAY_STATION\":\"신풍역\",\"SUBWAY_LINE\":\"7호선\",\"KAPTD_WTIMESUB\":\"5분이내\",\"KAPT_CODE\":\"A10027073\"},\"resultMap_kapt_areacnt\":[{\"KAPTDA_CNT\":682,\"AREA_GBN\":1,\"KAPT_CODE\":\"A10027073\"},{\"KAPTDA_CNT\":833,\"AREA_GBN\":2,\"KAPT_CODE\":\"A10027073\"},{\"KAPTDA_CNT\":207,\"AREA_GBN\":3,\"KAPT_CODE\":\"A10027073\"},{\"KAPTDA_CNT\":0,\"AREA_GBN\":4,\"KAPT_CODE\":\"\"}],\"resultMap_kapt_addrList\":[{\"ADDR\":\"서울특별시 영등포구 신길동 4950 래미안에스티움\",\"KAPT_CODE\":\"A10027073\",\"ADDR_GBN\":\"B\"},{\"ADDR\":\"서울특별시 영등포구 신풍로 77\",\"KAPT_CODE\":\"A10027073\",\"ADDR_GBN\":\"R\"}]}\n"
     ]
    }
   ],
   "source": [
    "type AptDetailResponse struct {\n",
    "    매치정보 AptDetailItemMatch `json:\"resultMap_match\"`\n",
    "    세부정보 AptDetailItem `json:\"resultMap_kapt\"`\n",
    "    세대정보 []AptDetailSedae `json:\"resultMap_kapt_areacnt\"`\n",
    "    주소정보 []AptDetailAddress`json:\"resultMap_kapt_addrList\"`\n",
    "}\n",
    "\n",
    "type AptDetailItemMatch struct {\n",
    "    아파트코드 string `json:\"KAPT_CODE\"`\n",
    "    마을코드 int `json:\"TOWN_CODE\"`\n",
    "}\n",
    "\n",
    "type AptDetailSedae struct {\n",
    "    세대수 int `json:\"KAPTDA_CNT\"`\n",
    "    전용면적구분 int `json:\"AREA_GBN\"`// 60㎡ 이하: 60㎡ ~ 85㎡ 이하: 85㎡ ~ 135㎡ 이하: 135㎡ 초과:\n",
    "    아파트코드 string `json:\"KAPT_CODE\"`\n",
    "}\n",
    "\n",
    "type AptDetailAddress struct {\n",
    "    법정동주소 string `json:\"ADDR\"`\n",
    "    아파트코드 string `json:\"KAPT_CODE\"`\n",
    "    주소구분 string `json:\"ADDR_GBN\"`\n",
    "}\n",
    "\n",
    "type AptDetailItem struct {\n",
    "    아파트이름 \tstring `json:\"KAPT_NAME\"`\n",
    "    분양형태\tstring `json:\"CODE_SALE\"`\n",
    "    난방방식\tstring `json:\"CODE_HEAT\"`\n",
    "    연면적\tfloat64 `json:\"KAPT_TAREA\"`\n",
    "    동수 string `json:\"KAPT_DONG_CNT\"`\n",
    "    시공사 string `json:\"KAPT_BCOMPANY\"`\n",
    "    시행사 string `json:\"KAPT_ACOMPANY\"`\n",
    "    관리사무소연락처\tstring `json:\"KAPT_TEL\"`\n",
    "    관리사무소팩스\tstring `json:\"KAPT_FAX\"`\n",
    "    홈페이지주소\tstring `json:\"KAPT_URL\"`\n",
    "    단지분류\tstring `json:\"CODE_APT\"`\n",
    "    \n",
    "    일반관리방식 string `json:\"CODE_MGR\"`\n",
    "    일반관리인원 \tstring `json:\"KAPT_MGR_CNT\"`\n",
    "    일반관리계약업체  \tstring `json:\"KAPT_CCOMPANY\"` \n",
    "    \n",
    "    경비관리방식\tstring `json:\"CODE_SEC\"`\n",
    "    경비관리인원\tstring `json:\"KAPTD_SCNT\"`\n",
    "    경비관리계약업체 \tstring `json:\"KAPTD_SEC_COM\"`\n",
    "\n",
    "    청소관리방식\tstring `json:\"CODE_CLEAN\"`\n",
    "    청소관리인원\tstring `json:\"KAPTD_CLCNT\"`\n",
    "    음식물처리방법 \tstring `json:\"CODE_GARBAGE\"`\n",
    "    \n",
    "    소독관리방식\tstring `json:\"CODE_DISINF\"`\n",
    "    연간소독횟수 \tstring `json:\"KAPTD_DCNT\"`\n",
    "    소독방법\tstring `json:\"DISPOSAL_TYPE\"`\n",
    "    \n",
    "    지상주차장대수 string `json:\"KAPTD_PCNT\"`\n",
    "    지하주차장대수 string `json:\"KAPTD_PCNTU\"`\n",
    "    \n",
    "    cctv대수  string `json:\"KAPTD_CCCNT\"`\n",
    "    부대복리시설  string `json:\"WELFARE_FACILITY\"`\n",
    "    수전용량  string `json:\"KAPTD_ECAPA\"`\n",
    "    전기안전관리자법정선임여부  \tstring `json:\"CODE_EMGR\"`\n",
    "    급수방식  string `json:\"CODE_WSUPPLY\"`\n",
    "    \n",
    "        건물구조  string `json:\"CODE_STR\"`\n",
    "    세대전기계약방식 string `json:\"CODE_ECON\"`\n",
    "    화재수신반방식  string `json:\"CODE_FALARM\"`\n",
    "    \n",
    "    승강기관리형태  string `json:\"CODE_ELEV\"`\n",
    "    // 승객용승강기  string `json:\"KAPTD_ECNTP\"`\n",
    "    //화물용승강기  string `json:\"KAPTD_PCNT\"`\n",
    "    //비상승강기 string `json:\"KAPTD_DCNT\"`\n",
    "\n",
    "    주차관제홈네트워크  \tstring `json:\"CODE_NET\"`\n",
    "    \n",
    "    버스정류장 \tstring `json:\"KAPTD_WTIMEBUS\"`\n",
    "    편의시설  \tstring `json:\"CONVENIENT_FACILITY\"`\n",
    "    교육시설  \tstring `json:\"EDUCATION_FACILITY\"`\n",
    "    \n",
    "    복도유형\tstring `json:\"CODE_HALL\"`\n",
    "    사용승인일\tstring `json:\"KAPT_USEDATE\"`\n",
    "    주거전용면적 float64 `json:\"KAPT_MAREA\"`\n",
    "    \n",
    "    인근지하철역\tstring `json:\"SUBWAY_STATION\"`\n",
    "    인근지하철호선\tstring `json:\"SUBWAY_LINE\"`\n",
    "    지하철까지시간 \tstring `json:\"KAPTD_WTIMESUB\"`\n",
    "    아파트코드\tstring `json:\"KAPT_CODE\"`\n",
    "    \n",
    " }\n",
    "\n",
    "\n",
    "func unMarshalAptDetail(responseBody []byte) AptDetailResponse {\n",
    "    \n",
    "    var data AptDetailResponse\n",
    "    json.Unmarshal([]byte(responseBody), &data)\n",
    "    \n",
    "     // fmt.Println(data.세부정보.명칭)\n",
    "    jsonData, _ := json.Marshal(data)\n",
    "    fmt.Println(string(jsonData))\n",
    "\n",
    " return data\n",
    "}\n",
    "\n",
    "xmlData := unMarshalAptDetail(repDetailBody)"
   ]
  },
  {
   "cell_type": "markdown",
   "metadata": {},
   "source": [
    "### 쿼리 작성 + 테이블 생성"
   ]
  },
  {
   "cell_type": "code",
   "execution_count": 24,
   "metadata": {
    "ExecuteTime": {
     "end_time": "Z",
     "start_time": "2018-03-22T21:24:34.555Z"
    },
    "init_cell": true
   },
   "outputs": [],
   "source": [
    "createtable:= \n",
    "`CREATE TABLE 아파트정보 (\n",
    "              \n",
    "    아파트코드 varchar(10)  NOT NULL DEFAULT '',\n",
    "    아파트이름 \tvarchar(51)  NOT NULL DEFAULT '',\n",
    "    마을코드 bigint NOT NULL DEFAULT 0,\n",
    "    법정동주소 varchar(200) NOT NULL DEFAULT 0,\n",
    "    도로명주소 varchar(200) NOT NULL DEFAULT 0,\n",
    "    \n",
    "    단지분류\tvarchar(51)  NOT NULL DEFAULT '',\n",
    "    \n",
    "    동수 varchar(100)  NOT NULL DEFAULT '',    \n",
    "    세대수 bigint NOT NULL DEFAULT 0,\n",
    "    \n",
    "    전용면적60이하아파트코드 varchar(52)  NOT NULL DEFAULT '',\n",
    "    전용면적60이하세대수  bigint NOT NULL DEFAULT 0,\n",
    "    전용면적60이상85이하아파트코드 varchar(52)  NOT NULL DEFAULT '',\n",
    "    전용면적60이상85이하세대수  bigint NOT NULL DEFAULT 0,\n",
    "    전용면적85이상135이하아파트코드 varchar(52)  NOT NULL DEFAULT '',\n",
    "    전용면적85이상135이하세대수  bigint NOT NULL DEFAULT 0,\n",
    "    전용면적135초과아파트코드 varchar(52)  NOT NULL DEFAULT '',\n",
    "    전용면적135초과세대수  bigint NOT NULL DEFAULT 0,\n",
    "    \n",
    "    분양형태\tvarchar(52)  NOT NULL DEFAULT '',\n",
    "    난방방식\tvarchar(52)  NOT NULL DEFAULT '',\n",
    "    복도유형\tvarchar(52)  NOT NULL DEFAULT '',\n",
    "\n",
    "    연면적\tdouble precision  NOT NULL DEFAULT 0,\n",
    "\n",
    "    시공사 varchar(100)  NOT NULL DEFAULT '',\n",
    "    시행사 varchar(100)  NOT NULL DEFAULT '',\n",
    "    \n",
    "    관리사무소연락처\tvarchar(53)  NOT NULL DEFAULT '',\n",
    "    관리사무소팩스\tvarchar(53)  NOT NULL DEFAULT '',\n",
    "    홈페이지주소\tvarchar(100)  NOT NULL DEFAULT '',\n",
    "    \n",
    "    일반관리방식 varchar(54)  NOT NULL DEFAULT '',\n",
    "    일반관리인원 varchar(52)  NOT NULL DEFAULT '',\n",
    "    일반관리계약업체  \tvarchar(100)  NOT NULL DEFAULT '',\n",
    "    \n",
    "    경비관리방식\tvarchar(54)  NOT NULL DEFAULT '',\n",
    "    경비관리인원\tvarchar(52)  NOT NULL DEFAULT '',\n",
    "    경비관리계약업체 \tvarchar(100)  NOT NULL DEFAULT '',\n",
    "\n",
    "    청소관리방식\tvarchar(54)  NOT NULL DEFAULT '',\n",
    "    청소관리인원\tvarchar(52)  NOT NULL DEFAULT '',\n",
    "    음식물처리방법 \tvarchar(100)  NOT NULL DEFAULT '',\n",
    "    \n",
    "    소독관리방식\tvarchar(54)  NOT NULL DEFAULT '',\n",
    "    연간소독횟수  varchar(54)  NOT NULL DEFAULT '',\n",
    "    소독방법\tvarchar(54)  NOT NULL DEFAULT '',\n",
    "    \n",
    "    승강기관리형태  \tvarchar(55)  NOT NULL DEFAULT '',\n",
    "    승객용승강기 varchar(54)  NOT NULL DEFAULT '',\n",
    "    화물용승강기 varchar(54)  NOT NULL DEFAULT '',\n",
    "    비상승강기 varchar(54)  NOT NULL DEFAULT '',\n",
    "    주차관제홈네트워크  \tvarchar(58)  NOT NULL DEFAULT '',\n",
    "\n",
    "    건물구조  \tvarchar(100)  NOT NULL DEFAULT '',\n",
    "    세대전기계약방식  \tvarchar(55)  NOT NULL DEFAULT '',\n",
    "    화재수신반방식  \tvarchar(55)  NOT NULL DEFAULT '',\n",
    "\n",
    "    \n",
    "    지상주차장대수 varchar(57)  NOT NULL DEFAULT '',\n",
    "    지하주차장대수 varchar(57)  NOT NULL DEFAULT '',\n",
    "    \n",
    "    cctv대수  \tvarchar(57)  NOT NULL DEFAULT '',\n",
    "    부대복리시설  \tvarchar(70)  NOT NULL DEFAULT '',\n",
    "    수전용량  \tvarchar(57)  NOT NULL DEFAULT '',\n",
    "    전기안전관리자법정선임여부  \tvarchar(57)  NOT NULL DEFAULT '',\n",
    "    급수방식  \tvarchar(57)  NOT NULL DEFAULT '',\n",
    "    \n",
    "\n",
    "    \n",
    "    버스정류장 \tvarchar(51)  NOT NULL DEFAULT '',\n",
    "    편의시설  \tvarchar(100)  NOT NULL DEFAULT '',\n",
    "    교육시설  \tvarchar(100)  NOT NULL DEFAULT '',\n",
    "    \n",
    "\n",
    "    사용승인일\tvarchar(51)  NOT NULL DEFAULT '',\n",
    "    주거전용면적 double precision  NOT NULL DEFAULT 0,\n",
    "    \n",
    "    인근지하철역\tvarchar(50)  NOT NULL DEFAULT '',\n",
    "    인근지하철호선\tvarchar(50)  NOT NULL DEFAULT '',\n",
    "    지하철까지시간 \tvarchar(50)  NOT NULL DEFAULT ''\n",
    "\n",
    "\n",
    ")`"
   ]
  },
  {
   "cell_type": "code",
   "execution_count": 25,
   "metadata": {
    "ExecuteTime": {
     "end_time": "Z",
     "start_time": "2018-03-22T21:24:34.556Z"
    },
    "init_cell": true
   },
   "outputs": [],
   "source": [
    "import (\n",
    "\t\"database/sql\"\n",
    "\t\"log\"\n",
    "\t\"os\"\n",
    "    \"fmt\"\n",
    "    \n",
    "    pg \"github.com/lib/pq\"\n",
    ")\n",
    "\n",
    "    _ = pg.Efatal\n",
    "\n",
    "const (\n",
    "    DB_USER     = \"gopher\"\n",
    "    DB_PASSWORD = \"1111\"\n",
    "    DB_NAME     = \"gopher\" // postgres create DB named created user's\n",
    "    DB_HOST        = \"db\"\n",
    ")\n",
    " \n",
    "dbinfo := fmt.Sprintf(\"user=%s password=%s dbname=%s host=%s sslmode=disable\",\n",
    "    DB_USER, DB_PASSWORD, DB_NAME, DB_HOST)\n",
    "\n",
    "db, err := sql.Open(\"postgres\", dbinfo)\n",
    "\n",
    "if err != nil {\n",
    "    log.Print(err)\n",
    "}\n",
    "defer db.Close()\n",
    "\n",
    "// droptable := `DROP TABLE IF EXISTS 법정동, 아파트정보;`\n",
    "\n",
    "// stmt2, err1 := db.Prepare(droptable)\n",
    "// _, err = stmt2.Exec()\n",
    "// if err != nil {\n",
    "//     fmt.Println(err.Error())\n",
    "// }\n",
    "// defer stmt2.Close()\n",
    "\n",
    "// 쿼리 날릴 준비를 하고 실행한다.\n",
    "stmt, err1 := db.Prepare(createtable)\n",
    "\n",
    "_, err = stmt.Exec()\n",
    "if err != nil {\n",
    "    fmt.Print(err.Error())\n",
    "}\n",
    "defer stmt.Close()"
   ]
  },
  {
   "cell_type": "markdown",
   "metadata": {},
   "source": [
    "## 특정 주소 키워드를 주면 지역 내 아파트정보를 반환하는 함수 만들기"
   ]
  },
  {
   "cell_type": "code",
   "execution_count": 26,
   "metadata": {
    "ExecuteTime": {
     "end_time": "Z",
     "start_time": "2018-03-22T21:24:34.566Z"
    },
    "init_cell": true
   },
   "outputs": [
    {
     "name": "stdout",
     "output_type": "stream",
     "text": [
      "법정동 목록 시작 -----------\n",
      "[[11530108 서울특별시 구로구 오류동] [28245118 인천광역시 계양구 오류동] [28260119 인천광역시 서구 오류동] [30140113 대전광역시 중구 오류동]]\n",
      "법정동 목록 완료 -----------\n",
      "11530108 아파트 목록 조회 시작 -----------\n",
      "[{200310 1153010800 경남아너스빌  A15210207 0 185770.56 443150.5 0 서울특별시 구로구 오류동} {199903 1153010800 동부(돌타운)아파트  A15210103 0 186564.98 443897.62 0 서울특별시 구로구 오류동} {201802 1153010800 서울 오류동 행복주택  A10026434 0 186434.3 443732.7 0 서울특별시 구로구 오류동} {198712 1153010800 서울가든빌라  A15289508 0 184989.83 443353.7 0 서울특별시 구로구 오류동} {199601 1153010800 오류금강  A15210206 0 186476.28 443434 0 서울특별시 구로구 오류동} {200309 1153010800 오류금강수목원  A15210211 0 185110.44 442893.4 0 서울특별시 구로구 오류동} {200609 1153010800 오류금호어울림  A15210102 0 185705.83 444039.4 0 서울특별시 구로구 오류동} {200207 1153010800 오류동 영풍마드레빌  A15210212 0 185674.33 443271.53 0 서울특별시 구로구 오류동} {199812 1153010800 오류동부골든  A15210107 0 185763.39 444119.2 0 서울특별시 구로구 오류동} {199709 1153010800 오류동부골든SH임대  A15278301 0 185763.39 444119.2 0 서울특별시 구로구 오류동} {199807 1153010800 오류동부덕고개  A15210105 0 186474.52 443889.25 0 서울특별시 구로구 오류동} {200404 1153010800 오류동선  A15210101 0 185733.08 443512.12 0 서울특별시 구로구 오류동} {199512 1153010800 오류라인  A15210104 0 186411.12 443837.84 0 서울특별시 구로구 오류동} {199811 1153010800 오류삼천리  A15210210 0 185721.8 443386.2 0 서울특별시 구로구 오류동} {200404 1153010800 오류푸르지오  A15210209 0 185924.08 443282.78 0 서울특별시 구로구 오류동} {200207 1153010800 오류한신플러스타운  A15210106 0 185866.42 444038.12 0 서울특별시 구로구 오류동}]\n",
      "{\"resultList\":[{\"KAPT_USEDATE\":\"200310\",\"BJD_CODE\":\"1153010800\",\"KAPT_NAME\":\"경남아너스빌\",\"OPEN_TERM\":\"\",\"KAPT_CODE\":\"A15210207\",\"OCCU_FIRST_DATE\":0,\"X\":185770.56,\"Y\":443150.5,\"ENERGY_B_COUNT\":0,\"BJD_NAME\":\"서울특별시 구로구 오류동\"},{\"KAPT_USEDATE\":\"199903\",\"BJD_CODE\":\"1153010800\",\"KAPT_NAME\":\"동부(돌타운)아파트\",\"OPEN_TERM\":\"\",\"KAPT_CODE\":\"A15210103\",\"OCCU_FIRST_DATE\":0,\"X\":186564.98,\"Y\":443897.62,\"ENERGY_B_COUNT\":0,\"BJD_NAME\":\"서울특별시 구로구 오류동\"},{\"KAPT_USEDATE\":\"201802\",\"BJD_CODE\":\"1153010800\",\"KAPT_NAME\":\"서울 오류동 행복주택\",\"OPEN_TERM\":\"\",\"KAPT_CODE\":\"A10026434\",\"OCCU_FIRST_DATE\":0,\"X\":186434.3,\"Y\":443732.7,\"ENERGY_B_COUNT\":0,\"BJD_NAME\":\"서울특별시 구로구 오류동\"},{\"KAPT_USEDATE\":\"198712\",\"BJD_CODE\":\"1153010800\",\"KAPT_NAME\":\"서울가든빌라\",\"OPEN_TERM\":\"\",\"KAPT_CODE\":\"A15289508\",\"OCCU_FIRST_DATE\":0,\"X\":184989.83,\"Y\":443353.7,\"ENERGY_B_COUNT\":0,\"BJD_NAME\":\"서울특별시 구로구 오류동\"},{\"KAPT_USEDATE\":\"199601\",\"BJD_CODE\":\"1153010800\",\"KAPT_NAME\":\"오류금강\",\"OPEN_TERM\":\"\",\"KAPT_CODE\":\"A15210206\",\"OCCU_FIRST_DATE\":0,\"X\":186476.28,\"Y\":443434,\"ENERGY_B_COUNT\":0,\"BJD_NAME\":\"서울특별시 구로구 오류동\"},{\"KAPT_USEDATE\":\"200309\",\"BJD_CODE\":\"1153010800\",\"KAPT_NAME\":\"오류금강수목원\",\"OPEN_TERM\":\"\",\"KAPT_CODE\":\"A15210211\",\"OCCU_FIRST_DATE\":0,\"X\":185110.44,\"Y\":442893.4,\"ENERGY_B_COUNT\":0,\"BJD_NAME\":\"서울특별시 구로구 오류동\"},{\"KAPT_USEDATE\":\"200609\",\"BJD_CODE\":\"1153010800\",\"KAPT_NAME\":\"오류금호어울림\",\"OPEN_TERM\":\"\",\"KAPT_CODE\":\"A15210102\",\"OCCU_FIRST_DATE\":0,\"X\":185705.83,\"Y\":444039.4,\"ENERGY_B_COUNT\":0,\"BJD_NAME\":\"서울특별시 구로구 오류동\"},{\"KAPT_USEDATE\":\"200207\",\"BJD_CODE\":\"1153010800\",\"KAPT_NAME\":\"오류동 영풍마드레빌\",\"OPEN_TERM\":\"\",\"KAPT_CODE\":\"A15210212\",\"OCCU_FIRST_DATE\":0,\"X\":185674.33,\"Y\":443271.53,\"ENERGY_B_COUNT\":0,\"BJD_NAME\":\"서울특별시 구로구 오류동\"},{\"KAPT_USEDATE\":\"199812\",\"BJD_CODE\":\"1153010800\",\"KAPT_NAME\":\"오류동부골든\",\"OPEN_TERM\":\"\",\"KAPT_CODE\":\"A15210107\",\"OCCU_FIRST_DATE\":0,\"X\":185763.39,\"Y\":444119.2,\"ENERGY_B_COUNT\":0,\"BJD_NAME\":\"서울특별시 구로구 오류동\"},{\"KAPT_USEDATE\":\"199709\",\"BJD_CODE\":\"1153010800\",\"KAPT_NAME\":\"오류동부골든SH임대\",\"OPEN_TERM\":\"\",\"KAPT_CODE\":\"A15278301\",\"OCCU_FIRST_DATE\":0,\"X\":185763.39,\"Y\":444119.2,\"ENERGY_B_COUNT\":0,\"BJD_NAME\":\"서울특별시 구로구 오류동\"},{\"KAPT_USEDATE\":\"199807\",\"BJD_CODE\":\"1153010800\",\"KAPT_NAME\":\"오류동부덕고개\",\"OPEN_TERM\":\"\",\"KAPT_CODE\":\"A15210105\",\"OCCU_FIRST_DATE\":0,\"X\":186474.52,\"Y\":443889.25,\"ENERGY_B_COUNT\":0,\"BJD_NAME\":\"서울특별시 구로구 오류동\"},{\"KAPT_USEDATE\":\"200404\",\"BJD_CODE\":\"1153010800\",\"KAPT_NAME\":\"오류동선\",\"OPEN_TERM\":\"\",\"KAPT_CODE\":\"A15210101\",\"OCCU_FIRST_DATE\":0,\"X\":185733.08,\"Y\":443512.12,\"ENERGY_B_COUNT\":0,\"BJD_NAME\":\"서울특별시 구로구 오류동\"},{\"KAPT_USEDATE\":\"199512\",\"BJD_CODE\":\"1153010800\",\"KAPT_NAME\":\"오류라인\",\"OPEN_TERM\":\"\",\"KAPT_CODE\":\"A15210104\",\"OCCU_FIRST_DATE\":0,\"X\":186411.12,\"Y\":443837.84,\"ENERGY_B_COUNT\":0,\"BJD_NAME\":\"서울특별시 구로구 오류동\"},{\"KAPT_USEDATE\":\"199811\",\"BJD_CODE\":\"1153010800\",\"KAPT_NAME\":\"오류삼천리\",\"OPEN_TERM\":\"\",\"KAPT_CODE\":\"A15210210\",\"OCCU_FIRST_DATE\":0,\"X\":185721.8,\"Y\":443386.2,\"ENERGY_B_COUNT\":0,\"BJD_NAME\":\"서울특별시 구로구 오류동\"},{\"KAPT_USEDATE\":\"200404\",\"BJD_CODE\":\"1153010800\",\"KAPT_NAME\":\"오류푸르지오\",\"OPEN_TERM\":\"\",\"KAPT_CODE\":\"A15210209\",\"OCCU_FIRST_DATE\":0,\"X\":185924.08,\"Y\":443282.78,\"ENERGY_B_COUNT\":0,\"BJD_NAME\":\"서울특별시 구로구 오류동\"},{\"KAPT_USEDATE\":\"200207\",\"BJD_CODE\":\"1153010800\",\"KAPT_NAME\":\"오류한신플러스타운\",\"OPEN_TERM\":\"\",\"KAPT_CODE\":\"A15210106\",\"OCCU_FIRST_DATE\":0,\"X\":185866.42,\"Y\":444038.12,\"ENERGY_B_COUNT\":0,\"BJD_NAME\":\"서울특별시 구로구 오류동\"}]}\n",
      "아파트 목록 조회 완료 -----------\n",
      "아파트 목록 마샬링 시작 -----------\n",
      "아파트 목록 마샬링 완료 -----------\n",
      "아파트 정보 조회 시작 -----------\n"
     ]
    },
    {
     "name": "stderr",
     "output_type": "stream",
     "text": [
      "2018/03/22 21:24:42 example.com 200 OK\n"
     ]
    },
    {
     "name": "stdout",
     "output_type": "stream",
     "text": [
      "{\"resultMap_match\":{\"KAPT_CODE\":\"A10027073\",\"TOWN_CODE\":20349595},\"resultMap_kapt\":{\"CODE_HEAT\":\"개별난방\",\"SUBWAY_STATION\":\"신풍역\",\"SUBWAY_LINE\":\"7호선\",\"KAPT_PE1AREA\":0,\"KAPT_PE2AREA\":0,\"KAPT_PE3AREA\":0,\"KAPT_PEAREA\":0,\"KAPT_PE4AREA\":0,\"DISPOSAL_TYPE\":\"도포식,분무식\",\"KAPT_PE5AREA\":0,\"KAPTD_ECNTB\":0,\"KAPTD_ECNTC\":0,\"KAPT_PHAREA\":0,\"KAPTD_ECNTD\":0,\"KAPTD_SCNT\":\"16\",\"KAPTD_ECNTE\":0,\"CODE_ECON\":\"종합계약\",\"KAPT_PPAREA\":0,\"KAPTD_CCCNT\":\"206\",\"KAPTD_ECNTM\":0,\"KAPT_TEL\":\"028499571\",\"WELFARE_FACILITY\":\"관리사무소, 노인정, 보육시설, 문고, 주민공동시설, 어린이놀이터, 휴게시설, 커뮤니티공간, 자전거보관소\",\"KAPTD_ECNTP\":52,\"KAPT_FAX\":\"02-849-9574\",\"KAPT_ACC_COMPANY\":\"이지스엔터프라이즈\",\"KAPT_MGR_CNT\":\"14\",\"KAPT_BCOMPANY\":\"삼성물산주식회사\",\"CONVENIENT_FACILITY\":\"-\",\"CODE_DISINF\":\"위탁관리\",\"CODE_EMGR\":\"상주선임\",\"CODE_MGR\":\"위탁관리\",\"KAPTD_PCNTU\":\"2280\",\"CODE_EMAINT\":\"위탁관리\",\"KAPT_MCAREA\":44964.64,\"CODE_ELEV\":\"위탁관리\",\"KAPT_MEAREA\":0,\"CODE_NET\":\"유\",\"KAPT_MHAREA\":0,\"KAPT_USEDATE\":\"2017-04-12\",\"KAPTD_WTIMEBUS\":\"5분이내\",\"KAPT_CODE\":\"A10027073\",\"CODE_APT\":\"아파트\",\"CODE_WSUPPLY\":\"부스타방식\",\"KAPT_MPAREA\":133313.49,\"KAPT_MAREA\":133313.49,\"KAPT_PAREA\":0,\"KAPT_TAREA\":272491.57,\"CODE_FALARM\":\"R형\",\"KAPTD_SEC_COM\":\"(주)씨큐원\",\"KAPTD_ECAPA\":\"7550\",\"CODE_STR\":\"철골콘크리트구조\",\"APPL_CODE\":1750,\"KAPT_ME1AREA\":0,\"KAPT_ACOMPANY\":\"신길7재정비촉진구역주택재개발사업조함\",\"KAPT_ME2AREA\":0,\"KAPT_ME3AREA\":0,\"CODE_GARBAGE\":\"음식물쓰레기종량제\",\"KAPT_ME4AREA\":0,\"KAPT_ME5AREA\":0,\"CODE_CLTIME\":\"6\",\"CODE_HALL\":\"혼합식\",\"CODE_STIME\":\"15\",\"KAPT_NAME\":\"래미안에스티움\",\"KAPT_DONG_CNT\":\"19\",\"CODE_CLEAN\":\"위탁관리\",\"CODE_SALE\":\"임대+분양\",\"CODE_SEC\":\"위탁관리\",\"EMPTY_HO_CNT\":5,\"APPL_PRODATE\":\"\",\"KAPT_URL\":\"estium.co.kr\",\"KAPTD_CLCNT\":\"23\",\"KAPTD_PCNT\":\"0\",\"KAPTD_WTIMESUB\":\"5분이내\",\"KAPTD_DCNT\":\"12\",\"EDUCATION_FACILITY\":\"-\",\"KAPT_CCOMPANY\":\"(주)타워피엠씨\"},\"resultMap_kapt_areacnt\":[{\"KAPTDA_CNT\":682,\"AREA_GBN\":1,\"KAPT_CODE\":\"A10027073\"},{\"KAPTDA_CNT\":833,\"AREA_GBN\":2,\"KAPT_CODE\":\"A10027073\"},{\"KAPTDA_CNT\":207,\"AREA_GBN\":3,\"KAPT_CODE\":\"A10027073\"},{\"KAPTDA_CNT\":null,\"AREA_GBN\":4,\"KAPT_CODE\":null}],\"resultMap_kapt_addrList\":[{\"ADDR\":\"서울특별시 영등포구 신길동 4950 래미안에스티움\",\"KAPT_CODE\":\"A10027073\",\"ADDR_GBN\":\"B\"},{\"ADDR\":\"서울특별시 영등포구 신풍로 77\",\"KAPT_CODE\":\"A10027073\",\"ADDR_GBN\":\"R\"}]}\n",
      "{\"resultMap_match\":{\"KAPT_CODE\":\"A10027073\",\"TOWN_CODE\":20349595},\"resultMap_kapt\":{\"KAPT_NAME\":\"래미안에스티움\",\"CODE_SALE\":\"임대+분양\",\"CODE_HEAT\":\"개별난방\",\"KAPT_TAREA\":272491.57,\"KAPT_DONG_CNT\":\"19\",\"KAPT_BCOMPANY\":\"삼성물산주식회사\",\"KAPT_ACOMPANY\":\"신길7재정비촉진구역주택재개발사업조함\",\"KAPT_TEL\":\"028499571\",\"KAPT_FAX\":\"02-849-9574\",\"KAPT_URL\":\"estium.co.kr\",\"CODE_APT\":\"아파트\",\"CODE_MGR\":\"위탁관리\",\"KAPT_MGR_CNT\":\"14\",\"KAPT_CCOMPANY\":\"(주)타워피엠씨\",\"CODE_SEC\":\"위탁관리\",\"KAPTD_SCNT\":\"16\",\"KAPTD_SEC_COM\":\"(주)씨큐원\",\"CODE_CLEAN\":\"위탁관리\",\"KAPTD_CLCNT\":\"23\",\"CODE_GARBAGE\":\"음식물쓰레기종량제\",\"CODE_DISINF\":\"위탁관리\",\"KAPTD_DCNT\":\"12\",\"DISPOSAL_TYPE\":\"도포식,분무식\",\"KAPTD_PCNT\":\"0\",\"KAPTD_PCNTU\":\"2280\",\"KAPTD_CCCNT\":\"206\",\"WELFARE_FACILITY\":\"관리사무소, 노인정, 보육시설, 문고, 주민공동시설, 어린이놀이터, 휴게시설, 커뮤니티공간, 자전거보관소\",\"KAPTD_ECAPA\":\"7550\",\"CODE_EMGR\":\"상주선임\",\"CODE_WSUPPLY\":\"부스타방식\",\"CODE_STR\":\"철골콘크리트구조\",\"CODE_ECON\":\"종합계약\",\"CODE_FALARM\":\"R형\",\"CODE_ELEV\":\"위탁관리\",\"CODE_NET\":\"유\",\"KAPTD_WTIMEBUS\":\"5분이내\",\"CONVENIENT_FACILITY\":\"-\",\"EDUCATION_FACILITY\":\"-\",\"CODE_HALL\":\"혼합식\",\"KAPT_USEDATE\":\"2017-04-12\",\"KAPT_MAREA\":133313.49,\"SUBWAY_STATION\":\"신풍역\",\"SUBWAY_LINE\":\"7호선\",\"KAPTD_WTIMESUB\":\"5분이내\",\"KAPT_CODE\":\"A10027073\"},\"resultMap_kapt_areacnt\":[{\"KAPTDA_CNT\":682,\"AREA_GBN\":1,\"KAPT_CODE\":\"A10027073\"},{\"KAPTDA_CNT\":833,\"AREA_GBN\":2,\"KAPT_CODE\":\"A10027073\"},{\"KAPTDA_CNT\":207,\"AREA_GBN\":3,\"KAPT_CODE\":\"A10027073\"},{\"KAPTDA_CNT\":0,\"AREA_GBN\":4,\"KAPT_CODE\":\"\"}],\"resultMap_kapt_addrList\":[{\"ADDR\":\"서울특별시 영등포구 신길동 4950 래미안에스티움\",\"KAPT_CODE\":\"A10027073\",\"ADDR_GBN\":\"B\"},{\"ADDR\":\"서울특별시 영등포구 신풍로 77\",\"KAPT_CODE\":\"A10027073\",\"ADDR_GBN\":\"R\"}]}\n",
      "1 / 23 래미안에스티움 처리완료\n"
     ]
    },
    {
     "name": "stderr",
     "output_type": "stream",
     "text": [
      "2018/03/22 21:24:42 example.com 200 OK\n"
     ]
    },
    {
     "name": "stdout",
     "output_type": "stream",
     "text": [
      "{\"resultMap_match\":{\"KAPT_CODE\":\"A10027755\",\"TOWN_CODE\":20331410},\"resultMap_kapt\":{\"CODE_HEAT\":\"개별난방\",\"SUBWAY_STATION\":\"-\",\"SUBWAY_LINE\":\"7호선\",\"KAPT_PE1AREA\":0,\"KAPT_PE2AREA\":0,\"KAPT_PE3AREA\":0,\"KAPT_PEAREA\":0,\"KAPT_PE4AREA\":0,\"DISPOSAL_TYPE\":\"-\",\"KAPT_PE5AREA\":0,\"KAPTD_ECNTB\":0,\"KAPTD_ECNTC\":0,\"KAPT_PHAREA\":0,\"KAPTD_ECNTD\":0,\"KAPTD_SCNT\":\"11\",\"KAPTD_ECNTE\":0,\"CODE_ECON\":\"종합계약\",\"KAPT_PPAREA\":0,\"KAPTD_CCCNT\":\"100\",\"KAPTD_ECNTM\":0,\"KAPT_TEL\":\"02-849-6655\",\"WELFARE_FACILITY\":\"관리사무소, 노인정, 보육시설, 문고, 주민공동시설, 어린이놀이터, 커뮤니티공간, 자전거보관소\",\"KAPTD_ECNTP\":28,\"KAPT_FAX\":\"02-849-6900\",\"KAPT_ACC_COMPANY\":\"-\",\"KAPT_MGR_CNT\":\"8\",\"KAPT_BCOMPANY\":\"삼성물산주식회사\",\"CONVENIENT_FACILITY\":\"-\",\"CODE_DISINF\":\"위탁관리\",\"CODE_EMGR\":\"상주선임\",\"CODE_MGR\":\"위탁관리\",\"KAPTD_PCNTU\":\"1211\",\"CODE_EMAINT\":\"위탁관리\",\"KAPT_MCAREA\":23340.24,\"CODE_ELEV\":\"위탁관리\",\"KAPT_MEAREA\":0,\"CODE_NET\":\"유\",\"KAPT_MHAREA\":0,\"KAPT_USEDATE\":\"2015-12-29\",\"KAPTD_WTIMEBUS\":\"5~10분이내\",\"KAPT_CODE\":\"A10027755\",\"CODE_APT\":\"아파트\",\"CODE_WSUPPLY\":\"부스타방식\",\"KAPT_MPAREA\":688620.86,\"KAPT_MAREA\":68800.87,\"KAPT_PAREA\":0,\"KAPT_TAREA\":140645.79,\"CODE_FALARM\":\"R형\",\"KAPTD_SEC_COM\":\"(주)아주관리\",\"KAPTD_ECAPA\":\"4000\",\"CODE_STR\":\"철골철근콘크리트구조\",\"APPL_CODE\":null,\"KAPT_ME1AREA\":0,\"KAPT_ACOMPANY\":\"조합\",\"KAPT_ME2AREA\":0,\"KAPT_ME3AREA\":0,\"CODE_GARBAGE\":\"거점장비수거방식\",\"KAPT_ME4AREA\":0,\"KAPT_ME5AREA\":0,\"CODE_CLTIME\":\"8\",\"CODE_HALL\":\"혼합식\",\"CODE_STIME\":\"24\",\"KAPT_NAME\":\"래미안프레비뉴\",\"KAPT_DONG_CNT\":\"12\",\"CODE_CLEAN\":\"위탁관리\",\"CODE_SALE\":\"임대+분양\",\"CODE_SEC\":\"위탁관리\",\"EMPTY_HO_CNT\":0,\"APPL_PRODATE\":\"\",\"KAPT_URL\":\"-\",\"KAPTD_CLCNT\":\"10\",\"KAPTD_PCNT\":\"0\",\"KAPTD_WTIMESUB\":\"5~10분이내\",\"KAPTD_DCNT\":\"0\",\"EDUCATION_FACILITY\":\"초등학교() 중학교() 고등학교()\",\"KAPT_CCOMPANY\":\"(주)아주관리\"},\"resultMap_kapt_areacnt\":[{\"KAPTDA_CNT\":396,\"AREA_GBN\":1,\"KAPT_CODE\":\"A10027755\"},{\"KAPTDA_CNT\":535,\"AREA_GBN\":2,\"KAPT_CODE\":\"A10027755\"},{\"KAPTDA_CNT\":17,\"AREA_GBN\":3,\"KAPT_CODE\":\"A10027755\"},{\"KAPTDA_CNT\":null,\"AREA_GBN\":4,\"KAPT_CODE\":null}],\"resultMap_kapt_addrList\":[{\"ADDR\":\"서울특별시 영등포구 신길동 329-94 래미안영등포프레비뉴\",\"KAPT_CODE\":\"A10027755\",\"ADDR_GBN\":\"B\"},{\"ADDR\":\"서울특별시 영등포구 가마산로 442\",\"KAPT_CODE\":\"A10027755\",\"ADDR_GBN\":\"R\"}]}\n",
      "{\"resultMap_match\":{\"KAPT_CODE\":\"A10027755\",\"TOWN_CODE\":20331410},\"resultMap_kapt\":{\"KAPT_NAME\":\"래미안프레비뉴\",\"CODE_SALE\":\"임대+분양\",\"CODE_HEAT\":\"개별난방\",\"KAPT_TAREA\":140645.79,\"KAPT_DONG_CNT\":\"12\",\"KAPT_BCOMPANY\":\"삼성물산주식회사\",\"KAPT_ACOMPANY\":\"조합\",\"KAPT_TEL\":\"02-849-6655\",\"KAPT_FAX\":\"02-849-6900\",\"KAPT_URL\":\"-\",\"CODE_APT\":\"아파트\",\"CODE_MGR\":\"위탁관리\",\"KAPT_MGR_CNT\":\"8\",\"KAPT_CCOMPANY\":\"(주)아주관리\",\"CODE_SEC\":\"위탁관리\",\"KAPTD_SCNT\":\"11\",\"KAPTD_SEC_COM\":\"(주)아주관리\",\"CODE_CLEAN\":\"위탁관리\",\"KAPTD_CLCNT\":\"10\",\"CODE_GARBAGE\":\"거점장비수거방식\",\"CODE_DISINF\":\"위탁관리\",\"KAPTD_DCNT\":\"0\",\"DISPOSAL_TYPE\":\"-\",\"KAPTD_PCNT\":\"0\",\"KAPTD_PCNTU\":\"1211\",\"KAPTD_CCCNT\":\"100\",\"WELFARE_FACILITY\":\"관리사무소, 노인정, 보육시설, 문고, 주민공동시설, 어린이놀이터, 커뮤니티공간, 자전거보관소\",\"KAPTD_ECAPA\":\"4000\",\"CODE_EMGR\":\"상주선임\",\"CODE_WSUPPLY\":\"부스타방식\",\"CODE_STR\":\"철골철근콘크리트구조\",\"CODE_ECON\":\"종합계약\",\"CODE_FALARM\":\"R형\",\"CODE_ELEV\":\"위탁관리\",\"CODE_NET\":\"유\",\"KAPTD_WTIMEBUS\":\"5~10분이내\",\"CONVENIENT_FACILITY\":\"-\",\"EDUCATION_FACILITY\":\"초등학교() 중학교() 고등학교()\",\"CODE_HALL\":\"혼합식\",\"KAPT_USEDATE\":\"2015-12-29\",\"KAPT_MAREA\":68800.87,\"SUBWAY_STATION\":\"-\",\"SUBWAY_LINE\":\"7호선\",\"KAPTD_WTIMESUB\":\"5~10분이내\",\"KAPT_CODE\":\"A10027755\"},\"resultMap_kapt_areacnt\":[{\"KAPTDA_CNT\":396,\"AREA_GBN\":1,\"KAPT_CODE\":\"A10027755\"},{\"KAPTDA_CNT\":535,\"AREA_GBN\":2,\"KAPT_CODE\":\"A10027755\"},{\"KAPTDA_CNT\":17,\"AREA_GBN\":3,\"KAPT_CODE\":\"A10027755\"},{\"KAPTDA_CNT\":0,\"AREA_GBN\":4,\"KAPT_CODE\":\"\"}],\"resultMap_kapt_addrList\":[{\"ADDR\":\"서울특별시 영등포구 신길동 329-94 래미안영등포프레비뉴\",\"KAPT_CODE\":\"A10027755\",\"ADDR_GBN\":\"B\"},{\"ADDR\":\"서울특별시 영등포구 가마산로 442\",\"KAPT_CODE\":\"A10027755\",\"ADDR_GBN\":\"R\"}]}\n",
      "2 / 23 래미안프레비뉴 처리완료\n"
     ]
    },
    {
     "name": "stderr",
     "output_type": "stream",
     "text": [
      "2018/03/22 21:24:43 example.com 200 OK\n"
     ]
    },
    {
     "name": "stdout",
     "output_type": "stream",
     "text": [
      "{\"resultMap_match\":{\"KAPT_CODE\":\"A15005002\",\"TOWN_CODE\":20181850},\"resultMap_kapt\":{\"CODE_HEAT\":\"개별난방\",\"SUBWAY_STATION\":\"신풍\",\"SUBWAY_LINE\":\"1호선, 7호선\",\"KAPT_PE1AREA\":0,\"KAPT_PE2AREA\":0,\"KAPT_PE3AREA\":0,\"KAPT_PEAREA\":0,\"KAPT_PE4AREA\":0,\"DISPOSAL_TYPE\":\"도포식,분무식,기구부착식,독이식\",\"KAPT_PE5AREA\":0,\"KAPTD_ECNTB\":0,\"KAPTD_ECNTC\":0,\"KAPT_PHAREA\":0,\"KAPTD_ECNTD\":0,\"KAPTD_SCNT\":\"2\",\"KAPTD_ECNTE\":0,\"CODE_ECON\":\"단일계약\",\"KAPT_PPAREA\":0,\"KAPTD_CCCNT\":\"8\",\"KAPTD_ECNTM\":0,\"KAPT_TEL\":\"028499181\",\"WELFARE_FACILITY\":\"관리사무소\",\"KAPTD_ECNTP\":2,\"KAPT_FAX\":\"028499184\",\"KAPT_ACC_COMPANY\":\"-\",\"KAPT_MGR_CNT\":\"3\",\"KAPT_BCOMPANY\":\"우신건설\",\"CONVENIENT_FACILITY\":\"백화점(디큐브,타임스퀘어)\",\"CODE_DISINF\":\"위탁관리\",\"CODE_EMGR\":\"위탁선임\",\"CODE_MGR\":\"위탁관리\",\"KAPTD_PCNTU\":\"0\",\"CODE_EMAINT\":\"위탁관리\",\"KAPT_MCAREA\":0,\"CODE_ELEV\":\"위탁관리\",\"KAPT_MEAREA\":0,\"CODE_NET\":\"무\",\"KAPT_MHAREA\":0,\"KAPT_USEDATE\":\"2013-07-26\",\"KAPTD_WTIMEBUS\":\"5분이내\",\"KAPT_CODE\":\"A15005002\",\"CODE_APT\":\"주상복합\",\"CODE_WSUPPLY\":\"부스타방식\",\"KAPT_MPAREA\":0,\"KAPT_MAREA\":2961.93,\"KAPT_PAREA\":0,\"KAPT_TAREA\":8069.5,\"CODE_FALARM\":\"GR형\",\"KAPTD_SEC_COM\":\"한성세영비엔에이\",\"KAPTD_ECAPA\":\"950\",\"CODE_STR\":\"철근콘크리트구조\",\"APPL_CODE\":null,\"KAPT_ME1AREA\":0,\"KAPT_ACOMPANY\":\"코람코 자산신탁\",\"KAPT_ME2AREA\":0,\"KAPT_ME3AREA\":0,\"CODE_GARBAGE\":\"음식물쓰레기종량제\",\"KAPT_ME4AREA\":0,\"KAPT_ME5AREA\":0,\"CODE_CLTIME\":\"8\",\"CODE_HALL\":\"복도식\",\"CODE_STIME\":\"15\",\"KAPT_NAME\":\"레전드힐스\",\"KAPT_DONG_CNT\":\"1\",\"CODE_CLEAN\":\"위탁관리\",\"CODE_SALE\":\"분양\",\"CODE_SEC\":\"위탁관리\",\"EMPTY_HO_CNT\":0,\"APPL_PRODATE\":\"\",\"KAPT_URL\":\"-\",\"KAPTD_CLCNT\":\"1\",\"KAPTD_PCNT\":\"73\",\"KAPTD_WTIMESUB\":\"10~15분이내\",\"KAPTD_DCNT\":\"12\",\"EDUCATION_FACILITY\":\"초등학교(우신) 중학교(영원)\",\"KAPT_CCOMPANY\":\"(주)한성세영비엔에이\"},\"resultMap_kapt_areacnt\":[{\"KAPTDA_CNT\":216,\"AREA_GBN\":1,\"KAPT_CODE\":\"A15005002\"},{\"KAPTDA_CNT\":null,\"AREA_GBN\":2,\"KAPT_CODE\":null},{\"KAPTDA_CNT\":null,\"AREA_GBN\":3,\"KAPT_CODE\":null},{\"KAPTDA_CNT\":null,\"AREA_GBN\":4,\"KAPT_CODE\":null}],\"resultMap_kapt_addrList\":[{\"ADDR\":\"서울특별시 영등포구 신길동 261-22 레전드힐스\",\"KAPT_CODE\":\"A15005002\",\"ADDR_GBN\":\"B\"},{\"ADDR\":\"서울특별시 영등포구 가마산로 468\",\"KAPT_CODE\":\"A15005002\",\"ADDR_GBN\":\"R\"}]}\n",
      "{\"resultMap_match\":{\"KAPT_CODE\":\"A15005002\",\"TOWN_CODE\":20181850},\"resultMap_kapt\":{\"KAPT_NAME\":\"레전드힐스\",\"CODE_SALE\":\"분양\",\"CODE_HEAT\":\"개별난방\",\"KAPT_TAREA\":8069.5,\"KAPT_DONG_CNT\":\"1\",\"KAPT_BCOMPANY\":\"우신건설\",\"KAPT_ACOMPANY\":\"코람코 자산신탁\",\"KAPT_TEL\":\"028499181\",\"KAPT_FAX\":\"028499184\",\"KAPT_URL\":\"-\",\"CODE_APT\":\"주상복합\",\"CODE_MGR\":\"위탁관리\",\"KAPT_MGR_CNT\":\"3\",\"KAPT_CCOMPANY\":\"(주)한성세영비엔에이\",\"CODE_SEC\":\"위탁관리\",\"KAPTD_SCNT\":\"2\",\"KAPTD_SEC_COM\":\"한성세영비엔에이\",\"CODE_CLEAN\":\"위탁관리\",\"KAPTD_CLCNT\":\"1\",\"CODE_GARBAGE\":\"음식물쓰레기종량제\",\"CODE_DISINF\":\"위탁관리\",\"KAPTD_DCNT\":\"12\",\"DISPOSAL_TYPE\":\"도포식,분무식,기구부착식,독이식\",\"KAPTD_PCNT\":\"73\",\"KAPTD_PCNTU\":\"0\",\"KAPTD_CCCNT\":\"8\",\"WELFARE_FACILITY\":\"관리사무소\",\"KAPTD_ECAPA\":\"950\",\"CODE_EMGR\":\"위탁선임\",\"CODE_WSUPPLY\":\"부스타방식\",\"CODE_STR\":\"철근콘크리트구조\",\"CODE_ECON\":\"단일계약\",\"CODE_FALARM\":\"GR형\",\"CODE_ELEV\":\"위탁관리\",\"CODE_NET\":\"무\",\"KAPTD_WTIMEBUS\":\"5분이내\",\"CONVENIENT_FACILITY\":\"백화점(디큐브,타임스퀘어)\",\"EDUCATION_FACILITY\":\"초등학교(우신) 중학교(영원)\",\"CODE_HALL\":\"복도식\",\"KAPT_USEDATE\":\"2013-07-26\",\"KAPT_MAREA\":2961.93,\"SUBWAY_STATION\":\"신풍\",\"SUBWAY_LINE\":\"1호선, 7호선\",\"KAPTD_WTIMESUB\":\"10~15분이내\",\"KAPT_CODE\":\"A15005002\"},\"resultMap_kapt_areacnt\":[{\"KAPTDA_CNT\":216,\"AREA_GBN\":1,\"KAPT_CODE\":\"A15005002\"},{\"KAPTDA_CNT\":0,\"AREA_GBN\":2,\"KAPT_CODE\":\"\"},{\"KAPTDA_CNT\":0,\"AREA_GBN\":3,\"KAPT_CODE\":\"\"},{\"KAPTDA_CNT\":0,\"AREA_GBN\":4,\"KAPT_CODE\":\"\"}],\"resultMap_kapt_addrList\":[{\"ADDR\":\"서울특별시 영등포구 신길동 261-22 레전드힐스\",\"KAPT_CODE\":\"A15005002\",\"ADDR_GBN\":\"B\"},{\"ADDR\":\"서울특별시 영등포구 가마산로 468\",\"KAPT_CODE\":\"A15005002\",\"ADDR_GBN\":\"R\"}]}\n",
      "3 / 23 레전드힐스 처리완료\n"
     ]
    },
    {
     "name": "stderr",
     "output_type": "stream",
     "text": [
      "2018/03/22 21:24:43 example.com 200 OK\n"
     ]
    },
    {
     "name": "stdout",
     "output_type": "stream",
     "text": [
      "{\"resultMap_match\":{\"KAPT_CODE\":\"A15086006\",\"TOWN_CODE\":20008680},\"resultMap_kapt\":{\"CODE_HEAT\":\"개별난방\",\"SUBWAY_STATION\":\"신풍\",\"SUBWAY_LINE\":\"7호선\",\"KAPT_PE1AREA\":0,\"KAPT_PE2AREA\":0,\"KAPT_PE3AREA\":0,\"KAPT_PEAREA\":0,\"KAPT_PE4AREA\":0,\"DISPOSAL_TYPE\":\"도포식,분무식\",\"KAPT_PE5AREA\":0,\"KAPTD_ECNTB\":0,\"KAPTD_ECNTC\":0,\"KAPT_PHAREA\":0,\"KAPTD_ECNTD\":0,\"KAPTD_SCNT\":\"10\",\"KAPTD_ECNTE\":0,\"CODE_ECON\":\"단일계약\",\"KAPT_PPAREA\":0,\"KAPTD_CCCNT\":\"154\",\"KAPTD_ECNTM\":0,\"KAPT_TEL\":\"02-848-4779\",\"WELFARE_FACILITY\":\"관리사무소, 노인정, 보육시설, 문고, 주민공동시설, 어린이놀이터, 휴게시설, 자전거보관소\",\"KAPTD_ECNTP\":15,\"KAPT_FAX\":\"02-833-4779\",\"KAPT_ACC_COMPANY\":\"이지스MPK\",\"KAPT_MGR_CNT\":\"7\",\"KAPT_BCOMPANY\":\"경남기업\",\"CONVENIENT_FACILITY\":\"관공서(동사무소) 병원(남수한의원) 대형상가(LG하이프라자) 공원(보라매공원) 기타(돈보스코청소년센터)\",\"CODE_DISINF\":\"위탁관리\",\"CODE_EMGR\":\"상주선임\",\"CODE_MGR\":\"위탁관리\",\"KAPTD_PCNTU\":\"674\",\"CODE_EMAINT\":\"자치관리\",\"KAPT_MCAREA\":0,\"CODE_ELEV\":\"위탁관리\",\"KAPT_MEAREA\":0,\"CODE_NET\":\"유\",\"KAPT_MHAREA\":0,\"KAPT_USEDATE\":\"2005-08-12\",\"KAPTD_WTIMEBUS\":\"5~10분이내\",\"KAPT_CODE\":\"A15086006\",\"CODE_APT\":\"아파트\",\"CODE_WSUPPLY\":\"부스타방식\",\"KAPT_MPAREA\":0,\"KAPT_MAREA\":57010.79,\"KAPT_PAREA\":0,\"KAPT_TAREA\":73156.97,\"CODE_FALARM\":\"R형\",\"KAPTD_SEC_COM\":\"예주산업\",\"KAPTD_ECAPA\":\"2391\",\"CODE_STR\":\"철근콘크리트구조\",\"APPL_CODE\":null,\"KAPT_ME1AREA\":0,\"KAPT_ACOMPANY\":\"경남기업\",\"KAPT_ME2AREA\":0,\"KAPT_ME3AREA\":0,\"CODE_GARBAGE\":\"음식물쓰레기종량제\",\"KAPT_ME4AREA\":0,\"KAPT_ME5AREA\":0,\"CODE_CLTIME\":\"6\",\"CODE_HALL\":\"계단식\",\"CODE_STIME\":\"24\",\"KAPT_NAME\":\"보라매경남아너스빌\",\"KAPT_DONG_CNT\":\"9\",\"CODE_CLEAN\":\"위탁관리\",\"CODE_SALE\":\"분양\",\"CODE_SEC\":\"위탁관리\",\"EMPTY_HO_CNT\":0,\"APPL_PRODATE\":\"\",\"KAPT_URL\":\"-\",\"KAPTD_CLCNT\":\"5\",\"KAPTD_PCNT\":\"125\",\"KAPTD_WTIMESUB\":\"5~10분이내\",\"KAPTD_DCNT\":\"12\",\"EDUCATION_FACILITY\":\"초등학교(대길초등학교) 중학교(대방중학교) 고등학교(영신고등학교)\",\"KAPT_CCOMPANY\":\"광인산업(주)\"},\"resultMap_kapt_areacnt\":[{\"KAPTDA_CNT\":92,\"AREA_GBN\":1,\"KAPT_CODE\":\"A15086006\"},{\"KAPTDA_CNT\":489,\"AREA_GBN\":2,\"KAPT_CODE\":\"A15086006\"},{\"KAPTDA_CNT\":88,\"AREA_GBN\":3,\"KAPT_CODE\":\"A15086006\"},{\"KAPTDA_CNT\":null,\"AREA_GBN\":4,\"KAPT_CODE\":null}],\"resultMap_kapt_addrList\":[{\"ADDR\":\"서울특별시 영등포구 신길동 4780 보라매경남아너스빌\",\"KAPT_CODE\":\"A15086006\",\"ADDR_GBN\":\"B\"},{\"ADDR\":\"서울특별시 영등포구 여의대방로 25\",\"KAPT_CODE\":\"A15086006\",\"ADDR_GBN\":\"R\"}]}\n",
      "{\"resultMap_match\":{\"KAPT_CODE\":\"A15086006\",\"TOWN_CODE\":20008680},\"resultMap_kapt\":{\"KAPT_NAME\":\"보라매경남아너스빌\",\"CODE_SALE\":\"분양\",\"CODE_HEAT\":\"개별난방\",\"KAPT_TAREA\":73156.97,\"KAPT_DONG_CNT\":\"9\",\"KAPT_BCOMPANY\":\"경남기업\",\"KAPT_ACOMPANY\":\"경남기업\",\"KAPT_TEL\":\"02-848-4779\",\"KAPT_FAX\":\"02-833-4779\",\"KAPT_URL\":\"-\",\"CODE_APT\":\"아파트\",\"CODE_MGR\":\"위탁관리\",\"KAPT_MGR_CNT\":\"7\",\"KAPT_CCOMPANY\":\"광인산업(주)\",\"CODE_SEC\":\"위탁관리\",\"KAPTD_SCNT\":\"10\",\"KAPTD_SEC_COM\":\"예주산업\",\"CODE_CLEAN\":\"위탁관리\",\"KAPTD_CLCNT\":\"5\",\"CODE_GARBAGE\":\"음식물쓰레기종량제\",\"CODE_DISINF\":\"위탁관리\",\"KAPTD_DCNT\":\"12\",\"DISPOSAL_TYPE\":\"도포식,분무식\",\"KAPTD_PCNT\":\"125\",\"KAPTD_PCNTU\":\"674\",\"KAPTD_CCCNT\":\"154\",\"WELFARE_FACILITY\":\"관리사무소, 노인정, 보육시설, 문고, 주민공동시설, 어린이놀이터, 휴게시설, 자전거보관소\",\"KAPTD_ECAPA\":\"2391\",\"CODE_EMGR\":\"상주선임\",\"CODE_WSUPPLY\":\"부스타방식\",\"CODE_STR\":\"철근콘크리트구조\",\"CODE_ECON\":\"단일계약\",\"CODE_FALARM\":\"R형\",\"CODE_ELEV\":\"위탁관리\",\"CODE_NET\":\"유\",\"KAPTD_WTIMEBUS\":\"5~10분이내\",\"CONVENIENT_FACILITY\":\"관공서(동사무소) 병원(남수한의원) 대형상가(LG하이프라자) 공원(보라매공원) 기타(돈보스코청소년센터)\",\"EDUCATION_FACILITY\":\"초등학교(대길초등학교) 중학교(대방중학교) 고등학교(영신고등학교)\",\"CODE_HALL\":\"계단식\",\"KAPT_USEDATE\":\"2005-08-12\",\"KAPT_MAREA\":57010.79,\"SUBWAY_STATION\":\"신풍\",\"SUBWAY_LINE\":\"7호선\",\"KAPTD_WTIMESUB\":\"5~10분이내\",\"KAPT_CODE\":\"A15086006\"},\"resultMap_kapt_areacnt\":[{\"KAPTDA_CNT\":92,\"AREA_GBN\":1,\"KAPT_CODE\":\"A15086006\"},{\"KAPTDA_CNT\":489,\"AREA_GBN\":2,\"KAPT_CODE\":\"A15086006\"},{\"KAPTDA_CNT\":88,\"AREA_GBN\":3,\"KAPT_CODE\":\"A15086006\"},{\"KAPTDA_CNT\":0,\"AREA_GBN\":4,\"KAPT_CODE\":\"\"}],\"resultMap_kapt_addrList\":[{\"ADDR\":\"서울특별시 영등포구 신길동 4780 보라매경남아너스빌\",\"KAPT_CODE\":\"A15086006\",\"ADDR_GBN\":\"B\"},{\"ADDR\":\"서울특별시 영등포구 여의대방로 25\",\"KAPT_CODE\":\"A15086006\",\"ADDR_GBN\":\"R\"}]}\n",
      "4 / 23 보라매경남아너스빌 처리완료\n"
     ]
    },
    {
     "name": "stderr",
     "output_type": "stream",
     "text": [
      "2018/03/22 21:24:43 example.com 200 OK\n",
      "2018/03/22 21:24:43 example.com 200 OK\n"
     ]
    },
    {
     "name": "stdout",
     "output_type": "stream",
     "text": [
      "{\"resultMap_match\":{\"KAPT_CODE\":\"A15086001\",\"TOWN_CODE\":20008679},\"resultMap_kapt\":{\"CODE_HEAT\":\"개별난방\",\"SUBWAY_STATION\":\"신풍\",\"SUBWAY_LINE\":\"7호선\",\"KAPT_PE1AREA\":0,\"KAPT_PE2AREA\":0,\"KAPT_PE3AREA\":0,\"KAPT_PEAREA\":0,\"KAPT_PE4AREA\":0,\"DISPOSAL_TYPE\":\"분무식\",\"KAPT_PE5AREA\":0,\"KAPTD_ECNTB\":0,\"KAPTD_ECNTC\":0,\"KAPT_PHAREA\":0,\"KAPTD_ECNTD\":0,\"KAPTD_SCNT\":\"2\",\"KAPTD_ECNTE\":0,\"CODE_ECON\":\"단일계약\",\"KAPT_PPAREA\":0,\"KAPTD_CCCNT\":\"37\",\"KAPTD_ECNTM\":0,\"KAPT_TEL\":\"02-836-0385\",\"WELFARE_FACILITY\":\"관리사무소, 노인정, 어린이놀이터, 자전거보관소\",\"KAPTD_ECNTP\":6,\"KAPT_FAX\":\"02-836-0386\",\"KAPT_ACC_COMPANY\":\"-\",\"KAPT_MGR_CNT\":\"3\",\"KAPT_BCOMPANY\":\"두산건설(주)\",\"CONVENIENT_FACILITY\":\"관공서(동사무소) 병원(김정은소아과의원) 공원(보라매공원) 기타(돈보스코청소년센터)\",\"CODE_DISINF\":\"위탁관리\",\"CODE_EMGR\":\"위탁선임\",\"CODE_MGR\":\"위탁관리\",\"KAPTD_PCNTU\":\"48\",\"CODE_EMAINT\":\"위탁관리\",\"KAPT_MCAREA\":4454.458,\"CODE_ELEV\":\"위탁관리\",\"KAPT_MEAREA\":0,\"CODE_NET\":\"무\",\"KAPT_MHAREA\":0,\"KAPT_USEDATE\":\"2005-11-10\",\"KAPTD_WTIMEBUS\":\"5~10분이내\",\"KAPT_CODE\":\"A15086001\",\"CODE_APT\":\"아파트\",\"CODE_WSUPPLY\":\"부스타방식\",\"KAPT_MPAREA\":17039.876,\"KAPT_MAREA\":17039.43,\"KAPT_PAREA\":0,\"KAPT_TAREA\":27724.41,\"CODE_FALARM\":\"GR형\",\"KAPTD_SEC_COM\":\"(주)한빛관리\",\"KAPTD_ECAPA\":\"900\",\"CODE_STR\":\"철근콘크리트구조\",\"APPL_CODE\":null,\"KAPT_ME1AREA\":0,\"KAPT_ACOMPANY\":\"두산건설\",\"KAPT_ME2AREA\":0,\"KAPT_ME3AREA\":0,\"CODE_GARBAGE\":\"음식물쓰레기종량제\",\"KAPT_ME4AREA\":0,\"KAPT_ME5AREA\":0,\"CODE_CLTIME\":\"6\",\"CODE_HALL\":\"계단식\",\"CODE_STIME\":\"15\",\"KAPT_NAME\":\"보라매두산위브\",\"KAPT_DONG_CNT\":\"2\",\"CODE_CLEAN\":\"위탁관리\",\"CODE_SALE\":\"분양\",\"CODE_SEC\":\"위탁관리\",\"EMPTY_HO_CNT\":0,\"APPL_PRODATE\":\"\",\"KAPT_URL\":\"-\",\"KAPTD_CLCNT\":\"2\",\"KAPTD_PCNT\":\"205\",\"KAPTD_WTIMESUB\":\"5~10분이내\",\"KAPTD_DCNT\":\"12\",\"EDUCATION_FACILITY\":\"초등학교(대길초등학교) 중학교(대방중학교)\",\"KAPT_CCOMPANY\":\"(주)한빛관리\"},\"resultMap_kapt_areacnt\":[{\"KAPTDA_CNT\":null,\"AREA_GBN\":1,\"KAPT_CODE\":null},{\"KAPTDA_CNT\":104,\"AREA_GBN\":2,\"KAPT_CODE\":\"A15086001\"},{\"KAPTDA_CNT\":null,\"AREA_GBN\":3,\"KAPT_CODE\":null},{\"KAPTDA_CNT\":60,\"AREA_GBN\":4,\"KAPT_CODE\":\"A15086001\"}],\"resultMap_kapt_addrList\":[{\"ADDR\":\"서울특별시 영등포구 신길동 4497 보라매두산위브\",\"KAPT_CODE\":\"A15086001\",\"ADDR_GBN\":\"B\"},{\"ADDR\":\"서울특별시 영등포구 여의대방로9길 5\",\"KAPT_CODE\":\"A15086001\",\"ADDR_GBN\":\"R\"}]}\n",
      "{\"resultMap_match\":{\"KAPT_CODE\":\"A15086001\",\"TOWN_CODE\":20008679},\"resultMap_kapt\":{\"KAPT_NAME\":\"보라매두산위브\",\"CODE_SALE\":\"분양\",\"CODE_HEAT\":\"개별난방\",\"KAPT_TAREA\":27724.41,\"KAPT_DONG_CNT\":\"2\",\"KAPT_BCOMPANY\":\"두산건설(주)\",\"KAPT_ACOMPANY\":\"두산건설\",\"KAPT_TEL\":\"02-836-0385\",\"KAPT_FAX\":\"02-836-0386\",\"KAPT_URL\":\"-\",\"CODE_APT\":\"아파트\",\"CODE_MGR\":\"위탁관리\",\"KAPT_MGR_CNT\":\"3\",\"KAPT_CCOMPANY\":\"(주)한빛관리\",\"CODE_SEC\":\"위탁관리\",\"KAPTD_SCNT\":\"2\",\"KAPTD_SEC_COM\":\"(주)한빛관리\",\"CODE_CLEAN\":\"위탁관리\",\"KAPTD_CLCNT\":\"2\",\"CODE_GARBAGE\":\"음식물쓰레기종량제\",\"CODE_DISINF\":\"위탁관리\",\"KAPTD_DCNT\":\"12\",\"DISPOSAL_TYPE\":\"분무식\",\"KAPTD_PCNT\":\"205\",\"KAPTD_PCNTU\":\"48\",\"KAPTD_CCCNT\":\"37\",\"WELFARE_FACILITY\":\"관리사무소, 노인정, 어린이놀이터, 자전거보관소\",\"KAPTD_ECAPA\":\"900\",\"CODE_EMGR\":\"위탁선임\",\"CODE_WSUPPLY\":\"부스타방식\",\"CODE_STR\":\"철근콘크리트구조\",\"CODE_ECON\":\"단일계약\",\"CODE_FALARM\":\"GR형\",\"CODE_ELEV\":\"위탁관리\",\"CODE_NET\":\"무\",\"KAPTD_WTIMEBUS\":\"5~10분이내\",\"CONVENIENT_FACILITY\":\"관공서(동사무소) 병원(김정은소아과의원) 공원(보라매공원) 기타(돈보스코청소년센터)\",\"EDUCATION_FACILITY\":\"초등학교(대길초등학교) 중학교(대방중학교)\",\"CODE_HALL\":\"계단식\",\"KAPT_USEDATE\":\"2005-11-10\",\"KAPT_MAREA\":17039.43,\"SUBWAY_STATION\":\"신풍\",\"SUBWAY_LINE\":\"7호선\",\"KAPTD_WTIMESUB\":\"5~10분이내\",\"KAPT_CODE\":\"A15086001\"},\"resultMap_kapt_areacnt\":[{\"KAPTDA_CNT\":0,\"AREA_GBN\":1,\"KAPT_CODE\":\"\"},{\"KAPTDA_CNT\":104,\"AREA_GBN\":2,\"KAPT_CODE\":\"A15086001\"},{\"KAPTDA_CNT\":0,\"AREA_GBN\":3,\"KAPT_CODE\":\"\"},{\"KAPTDA_CNT\":60,\"AREA_GBN\":4,\"KAPT_CODE\":\"A15086001\"}],\"resultMap_kapt_addrList\":[{\"ADDR\":\"서울특별시 영등포구 신길동 4497 보라매두산위브\",\"KAPT_CODE\":\"A15086001\",\"ADDR_GBN\":\"B\"},{\"ADDR\":\"서울특별시 영등포구 여의대방로9길 5\",\"KAPT_CODE\":\"A15086001\",\"ADDR_GBN\":\"R\"}]}\n",
      "5 / 23 보라매두산위브 처리완료\n",
      "{\"resultMap_match\":{\"KAPT_CODE\":\"A15005102\",\"TOWN_CODE\":1055},\"resultMap_kapt\":{\"CODE_HEAT\":\"개별난방\",\"SUBWAY_STATION\":\"신풍\",\"SUBWAY_LINE\":\"7호선\",\"KAPT_PE1AREA\":0,\"KAPT_PE2AREA\":0,\"KAPT_PE3AREA\":0,\"KAPT_PEAREA\":0,\"KAPT_PE4AREA\":0,\"DISPOSAL_TYPE\":\"-\",\"KAPT_PE5AREA\":0,\"KAPTD_ECNTB\":0,\"KAPTD_ECNTC\":0,\"KAPT_PHAREA\":0,\"KAPTD_ECNTD\":0,\"KAPTD_SCNT\":\"2\",\"KAPTD_ECNTE\":0,\"CODE_ECON\":\"단일계약\",\"KAPT_PPAREA\":0,\"KAPTD_CCCNT\":\"24\",\"KAPTD_ECNTM\":0,\"KAPT_TEL\":\"02)834-9119\",\"WELFARE_FACILITY\":\"어린이놀이터\",\"KAPTD_ECNTP\":4,\"KAPT_FAX\":\"02834-9122\",\"KAPT_ACC_COMPANY\":\"-\",\"KAPT_MGR_CNT\":\"2\",\"KAPT_BCOMPANY\":\"우정건설 주식회사\",\"CONVENIENT_FACILITY\":\"관공서(동사무소) 병원(보인의원) 대형상가(사러가쇼핑센터) 공원(근린공원)\",\"CODE_DISINF\":\"기타\",\"CODE_EMGR\":\"위탁선임\",\"CODE_MGR\":\"위탁관리\",\"KAPTD_PCNTU\":\"28\",\"CODE_EMAINT\":\"위탁관리\",\"KAPT_MCAREA\":0,\"CODE_ELEV\":\"위탁관리\",\"KAPT_MEAREA\":0,\"CODE_NET\":\"무\",\"KAPT_MHAREA\":0,\"KAPT_USEDATE\":\"2000-07-11\",\"KAPTD_WTIMEBUS\":\"10~15분이내\",\"KAPT_CODE\":\"A15005102\",\"CODE_APT\":\"아파트\",\"CODE_WSUPPLY\":\"고가수조식\",\"KAPT_MPAREA\":0,\"KAPT_MAREA\":9969.7,\"KAPT_PAREA\":0,\"KAPT_TAREA\":15140,\"CODE_FALARM\":\"P형\",\"KAPTD_SEC_COM\":\"유원종합관리(주)\",\"KAPTD_ECAPA\":\"450\",\"CODE_STR\":\"철근콘크리트구조\",\"APPL_CODE\":null,\"KAPT_ME1AREA\":0,\"KAPT_ACOMPANY\":\"도시개발 공사\",\"KAPT_ME2AREA\":0,\"KAPT_ME3AREA\":0,\"CODE_GARBAGE\":\"거점장비수거방식\",\"KAPT_ME4AREA\":0,\"KAPT_ME5AREA\":0,\"CODE_CLTIME\":\"5\",\"CODE_HALL\":\"복도식\",\"CODE_STIME\":\"16\",\"KAPT_NAME\":\"신기목련\",\"KAPT_DONG_CNT\":\"2\",\"CODE_CLEAN\":\"위탁관리\",\"CODE_SALE\":\"임대+분양\",\"CODE_SEC\":\"위탁관리\",\"EMPTY_HO_CNT\":null,\"APPL_PRODATE\":\"\",\"KAPT_URL\":\"-\",\"KAPTD_CLCNT\":\"1\",\"KAPTD_PCNT\":\"102\",\"KAPTD_WTIMESUB\":\"10~15분이내\",\"KAPTD_DCNT\":\"2\",\"EDUCATION_FACILITY\":\"초등학교(우신초등학교)\",\"KAPT_CCOMPANY\":\"유원종합관리(주)\"},\"resultMap_kapt_areacnt\":[{\"KAPTDA_CNT\":213,\"AREA_GBN\":1,\"KAPT_CODE\":\"A15005102\"},{\"KAPTDA_CNT\":null,\"AREA_GBN\":2,\"KAPT_CODE\":null},{\"KAPTDA_CNT\":null,\"AREA_GBN\":3,\"KAPT_CODE\":null},{\"KAPTDA_CNT\":null,\"AREA_GBN\":4,\"KAPT_CODE\":null}],\"resultMap_kapt_addrList\":[{\"ADDR\":\"서울특별시 영등포구 신길동 4935 신기목련아파트\",\"KAPT_CODE\":\"A15005102\",\"ADDR_GBN\":\"B\"},{\"ADDR\":\"서울특별시 영등포구 신길로42가길 34\",\"KAPT_CODE\":\"A15005102\",\"ADDR_GBN\":\"R\"}]}\n",
      "{\"resultMap_match\":{\"KAPT_CODE\":\"A15005102\",\"TOWN_CODE\":1055},\"resultMap_kapt\":{\"KAPT_NAME\":\"신기목련\",\"CODE_SALE\":\"임대+분양\",\"CODE_HEAT\":\"개별난방\",\"KAPT_TAREA\":15140,\"KAPT_DONG_CNT\":\"2\",\"KAPT_BCOMPANY\":\"우정건설 주식회사\",\"KAPT_ACOMPANY\":\"도시개발 공사\",\"KAPT_TEL\":\"02)834-9119\",\"KAPT_FAX\":\"02834-9122\",\"KAPT_URL\":\"-\",\"CODE_APT\":\"아파트\",\"CODE_MGR\":\"위탁관리\",\"KAPT_MGR_CNT\":\"2\",\"KAPT_CCOMPANY\":\"유원종합관리(주)\",\"CODE_SEC\":\"위탁관리\",\"KAPTD_SCNT\":\"2\",\"KAPTD_SEC_COM\":\"유원종합관리(주)\",\"CODE_CLEAN\":\"위탁관리\",\"KAPTD_CLCNT\":\"1\",\"CODE_GARBAGE\":\"거점장비수거방식\",\"CODE_DISINF\":\"기타\",\"KAPTD_DCNT\":\"2\",\"DISPOSAL_TYPE\":\"-\",\"KAPTD_PCNT\":\"102\",\"KAPTD_PCNTU\":\"28\",\"KAPTD_CCCNT\":\"24\",\"WELFARE_FACILITY\":\"어린이놀이터\",\"KAPTD_ECAPA\":\"450\",\"CODE_EMGR\":\"위탁선임\",\"CODE_WSUPPLY\":\"고가수조식\",\"CODE_STR\":\"철근콘크리트구조\",\"CODE_ECON\":\"단일계약\",\"CODE_FALARM\":\"P형\",\"CODE_ELEV\":\"위탁관리\",\"CODE_NET\":\"무\",\"KAPTD_WTIMEBUS\":\"10~15분이내\",\"CONVENIENT_FACILITY\":\"관공서(동사무소) 병원(보인의원) 대형상가(사러가쇼핑센터) 공원(근린공원)\",\"EDUCATION_FACILITY\":\"초등학교(우신초등학교)\",\"CODE_HALL\":\"복도식\",\"KAPT_USEDATE\":\"2000-07-11\",\"KAPT_MAREA\":9969.7,\"SUBWAY_STATION\":\"신풍\",\"SUBWAY_LINE\":\"7호선\",\"KAPTD_WTIMESUB\":\"10~15분이내\",\"KAPT_CODE\":\"A15005102\"},\"resultMap_kapt_areacnt\":[{\"KAPTDA_CNT\":213,\"AREA_GBN\":1,\"KAPT_CODE\":\"A15005102\"},{\"KAPTDA_CNT\":0,\"AREA_GBN\":2,\"KAPT_CODE\":\"\"},{\"KAPTDA_CNT\":0,\"AREA_GBN\":3,\"KAPT_CODE\":\"\"},{\"KAPTDA_CNT\":0,\"AREA_GBN\":4,\"KAPT_CODE\":\"\"}],\"resultMap_kapt_addrList\":[{\"ADDR\":\"서울특별시 영등포구 신길동 4935 신기목련아파트\",\"KAPT_CODE\":\"A15005102\",\"ADDR_GBN\":\"B\"},{\"ADDR\":\"서울특별시 영등포구 신길로42가길 34\",\"KAPT_CODE\":\"A15005102\",\"ADDR_GBN\":\"R\"}]}\n",
      "6 / 23 신기목련 처리완료\n"
     ]
    },
    {
     "name": "stderr",
     "output_type": "stream",
     "text": [
      "2018/03/22 21:24:43 example.com 200 OK\n"
     ]
    },
    {
     "name": "stdout",
     "output_type": "stream",
     "text": [
      "{\"resultMap_match\":{\"KAPT_CODE\":\"A15005303\",\"TOWN_CODE\":1057},\"resultMap_kapt\":{\"CODE_HEAT\":\"개별난방\",\"SUBWAY_STATION\":\"신도림역,문래역\",\"SUBWAY_LINE\":\"1호선, 2호선\",\"KAPT_PE1AREA\":0,\"KAPT_PE2AREA\":0,\"KAPT_PE3AREA\":0,\"KAPT_PEAREA\":0,\"KAPT_PE4AREA\":0,\"DISPOSAL_TYPE\":\"도포식,분무식,독이식\",\"KAPT_PE5AREA\":0,\"KAPTD_ECNTB\":0,\"KAPTD_ECNTC\":0,\"KAPT_PHAREA\":0,\"KAPTD_ECNTD\":0,\"KAPTD_SCNT\":\"9\",\"KAPTD_ECNTE\":0,\"CODE_ECON\":\"단일계약\",\"KAPT_PPAREA\":0,\"KAPTD_CCCNT\":\"48\",\"KAPTD_ECNTM\":0,\"KAPT_TEL\":\"02-833-6584\",\"WELFARE_FACILITY\":\"관리사무소, 노인정, 어린이놀이터\",\"KAPTD_ECNTP\":16,\"KAPT_FAX\":\"02-6673-6583\",\"KAPT_ACC_COMPANY\":\"-\",\"KAPT_MGR_CNT\":\"5\",\"KAPT_BCOMPANY\":\"(주)우성건설\",\"CONVENIENT_FACILITY\":\"관공서(동사무소) 병원(한산부인과) 대형상가(LG하이프라자) 공원(근린공원)\",\"CODE_DISINF\":\"위탁관리\",\"CODE_EMGR\":\"상주선임\",\"CODE_MGR\":\"위탁관리\",\"KAPTD_PCNTU\":\"0\",\"CODE_EMAINT\":\"위탁관리\",\"KAPT_MCAREA\":0,\"CODE_ELEV\":\"위탁관리\",\"KAPT_MEAREA\":0,\"CODE_NET\":\"무\",\"KAPT_MHAREA\":0,\"KAPT_USEDATE\":\"1986-09-03\",\"KAPTD_WTIMEBUS\":\"5분이내\",\"KAPT_CODE\":\"A15005303\",\"CODE_APT\":\"아파트\",\"CODE_WSUPPLY\":\"고가수조식\",\"KAPT_MPAREA\":61767.2,\"KAPT_MAREA\":46238.48,\"KAPT_PAREA\":0,\"KAPT_TAREA\":61767.2,\"CODE_FALARM\":\"P형\",\"KAPTD_SEC_COM\":\"조은세이프\",\"KAPTD_ECAPA\":\"1760\",\"CODE_STR\":\"철근콘크리트구조\",\"APPL_CODE\":null,\"KAPT_ME1AREA\":0,\"KAPT_ACOMPANY\":\"(주)우성건설\",\"KAPT_ME2AREA\":0,\"KAPT_ME3AREA\":0,\"CODE_GARBAGE\":\"음식물쓰레기종량제\",\"KAPT_ME4AREA\":0,\"KAPT_ME5AREA\":0,\"CODE_CLTIME\":\"6\",\"CODE_HALL\":\"혼합식\",\"CODE_STIME\":\"24\",\"KAPT_NAME\":\"신길1차우성아파트\",\"KAPT_DONG_CNT\":\"6\",\"CODE_CLEAN\":\"위탁관리\",\"CODE_SALE\":\"분양\",\"CODE_SEC\":\"위탁관리\",\"EMPTY_HO_CNT\":null,\"APPL_PRODATE\":\"\",\"KAPT_URL\":\"apt913.aptgate.co.kr\",\"KAPTD_CLCNT\":\"6\",\"KAPTD_PCNT\":\"470\",\"KAPTD_WTIMESUB\":\"5~10분이내\",\"KAPTD_DCNT\":\"12\",\"EDUCATION_FACILITY\":\"초등학교(대영초등학교) 중학교(대영중교) 고등학교(대영고교)\",\"KAPT_CCOMPANY\":\"(주)아주관리\"},\"resultMap_kapt_areacnt\":[{\"KAPTDA_CNT\":182,\"AREA_GBN\":1,\"KAPT_CODE\":\"A15005303\"},{\"KAPTDA_CNT\":506,\"AREA_GBN\":2,\"KAPT_CODE\":\"A15005303\"},{\"KAPTDA_CNT\":null,\"AREA_GBN\":3,\"KAPT_CODE\":null},{\"KAPTDA_CNT\":null,\"AREA_GBN\":4,\"KAPT_CODE\":null}],\"resultMap_kapt_addrList\":[{\"ADDR\":\"서울특별시 영등포구 신길동 365 신길우성아파트\",\"KAPT_CODE\":\"A15005303\",\"ADDR_GBN\":\"B\"},{\"ADDR\":\"서울특별시 영등포구 도신로 68-1\",\"KAPT_CODE\":\"A15005303\",\"ADDR_GBN\":\"R\"}]}\n",
      "{\"resultMap_match\":{\"KAPT_CODE\":\"A15005303\",\"TOWN_CODE\":1057},\"resultMap_kapt\":{\"KAPT_NAME\":\"신길1차우성아파트\",\"CODE_SALE\":\"분양\",\"CODE_HEAT\":\"개별난방\",\"KAPT_TAREA\":61767.2,\"KAPT_DONG_CNT\":\"6\",\"KAPT_BCOMPANY\":\"(주)우성건설\",\"KAPT_ACOMPANY\":\"(주)우성건설\",\"KAPT_TEL\":\"02-833-6584\",\"KAPT_FAX\":\"02-6673-6583\",\"KAPT_URL\":\"apt913.aptgate.co.kr\",\"CODE_APT\":\"아파트\",\"CODE_MGR\":\"위탁관리\",\"KAPT_MGR_CNT\":\"5\",\"KAPT_CCOMPANY\":\"(주)아주관리\",\"CODE_SEC\":\"위탁관리\",\"KAPTD_SCNT\":\"9\",\"KAPTD_SEC_COM\":\"조은세이프\",\"CODE_CLEAN\":\"위탁관리\",\"KAPTD_CLCNT\":\"6\",\"CODE_GARBAGE\":\"음식물쓰레기종량제\",\"CODE_DISINF\":\"위탁관리\",\"KAPTD_DCNT\":\"12\",\"DISPOSAL_TYPE\":\"도포식,분무식,독이식\",\"KAPTD_PCNT\":\"470\",\"KAPTD_PCNTU\":\"0\",\"KAPTD_CCCNT\":\"48\",\"WELFARE_FACILITY\":\"관리사무소, 노인정, 어린이놀이터\",\"KAPTD_ECAPA\":\"1760\",\"CODE_EMGR\":\"상주선임\",\"CODE_WSUPPLY\":\"고가수조식\",\"CODE_STR\":\"철근콘크리트구조\",\"CODE_ECON\":\"단일계약\",\"CODE_FALARM\":\"P형\",\"CODE_ELEV\":\"위탁관리\",\"CODE_NET\":\"무\",\"KAPTD_WTIMEBUS\":\"5분이내\",\"CONVENIENT_FACILITY\":\"관공서(동사무소) 병원(한산부인과) 대형상가(LG하이프라자) 공원(근린공원)\",\"EDUCATION_FACILITY\":\"초등학교(대영초등학교) 중학교(대영중교) 고등학교(대영고교)\",\"CODE_HALL\":\"혼합식\",\"KAPT_USEDATE\":\"1986-09-03\",\"KAPT_MAREA\":46238.48,\"SUBWAY_STATION\":\"신도림역,문래역\",\"SUBWAY_LINE\":\"1호선, 2호선\",\"KAPTD_WTIMESUB\":\"5~10분이내\",\"KAPT_CODE\":\"A15005303\"},\"resultMap_kapt_areacnt\":[{\"KAPTDA_CNT\":182,\"AREA_GBN\":1,\"KAPT_CODE\":\"A15005303\"},{\"KAPTDA_CNT\":506,\"AREA_GBN\":2,\"KAPT_CODE\":\"A15005303\"},{\"KAPTDA_CNT\":0,\"AREA_GBN\":3,\"KAPT_CODE\":\"\"},{\"KAPTDA_CNT\":0,\"AREA_GBN\":4,\"KAPT_CODE\":\"\"}],\"resultMap_kapt_addrList\":[{\"ADDR\":\"서울특별시 영등포구 신길동 365 신길우성아파트\",\"KAPT_CODE\":\"A15005303\",\"ADDR_GBN\":\"B\"},{\"ADDR\":\"서울특별시 영등포구 도신로 68-1\",\"KAPT_CODE\":\"A15005303\",\"ADDR_GBN\":\"R\"}]}\n",
      "7 / 23 신길1차우성아파트 처리완료\n"
     ]
    },
    {
     "name": "stderr",
     "output_type": "stream",
     "text": [
      "2018/03/22 21:24:43 example.com 200 OK\n"
     ]
    },
    {
     "name": "stdout",
     "output_type": "stream",
     "text": [
      "{\"resultMap_match\":{\"KAPT_CODE\":\"A15005302\",\"TOWN_CODE\":1047},\"resultMap_kapt\":{\"CODE_HEAT\":\"개별난방\",\"SUBWAY_STATION\":\"신풍역\",\"SUBWAY_LINE\":\"1호선, 2호선, 7호선\",\"KAPT_PE1AREA\":0,\"KAPT_PE2AREA\":0,\"KAPT_PE3AREA\":0,\"KAPT_PEAREA\":0,\"KAPT_PE4AREA\":0,\"DISPOSAL_TYPE\":\"분무식,독이식\",\"KAPT_PE5AREA\":0,\"KAPTD_ECNTB\":0,\"KAPTD_ECNTC\":0,\"KAPT_PHAREA\":0,\"KAPTD_ECNTD\":0,\"KAPTD_SCNT\":\"6\",\"KAPTD_ECNTE\":0,\"CODE_ECON\":\"종합계약\",\"KAPT_PPAREA\":0,\"KAPTD_CCCNT\":\"107\",\"KAPTD_ECNTM\":0,\"KAPT_TEL\":\"844-2535\",\"WELFARE_FACILITY\":\"관리사무소, 노인정, 어린이놀이터, 자전거보관소\",\"KAPTD_ECNTP\":4,\"KAPT_FAX\":\"844-2535\",\"KAPT_ACC_COMPANY\":\"-\",\"KAPT_MGR_CNT\":\"4\",\"KAPT_BCOMPANY\":\"LIG건영\",\"CONVENIENT_FACILITY\":\"관공서(신길3동) 병원(한산부인과) 대형상가(LG하이프라자) 공원(근린공원)\",\"CODE_DISINF\":\"위탁관리\",\"CODE_EMGR\":\"위탁선임\",\"CODE_MGR\":\"자치관리\",\"KAPTD_PCNTU\":\"0\",\"CODE_EMAINT\":\"위탁관리\",\"KAPT_MCAREA\":0,\"CODE_ELEV\":\"위탁관리\",\"KAPT_MEAREA\":0,\"CODE_NET\":\"유\",\"KAPT_MHAREA\":0,\"KAPT_USEDATE\":\"1985-09-04\",\"KAPTD_WTIMEBUS\":\"5~10분이내\",\"KAPT_CODE\":\"A15005302\",\"CODE_APT\":\"아파트\",\"CODE_WSUPPLY\":\"부스타방식\",\"KAPT_MPAREA\":0,\"KAPT_MAREA\":31387.44,\"KAPT_PAREA\":0,\"KAPT_TAREA\":44462.75,\"CODE_FALARM\":\"P형\",\"KAPTD_SEC_COM\":\"-\",\"KAPTD_ECAPA\":\"995\",\"CODE_STR\":\"철근콘크리트구조\",\"APPL_CODE\":null,\"KAPT_ME1AREA\":0,\"KAPT_ACOMPANY\":\"(주)건영\",\"KAPT_ME2AREA\":0,\"KAPT_ME3AREA\":0,\"CODE_GARBAGE\":\"음식물쓰레기종량제\",\"KAPT_ME4AREA\":0,\"KAPT_ME5AREA\":0,\"CODE_CLTIME\":\"5\",\"CODE_HALL\":\"복도식\",\"CODE_STIME\":\"-\",\"KAPT_NAME\":\"신길건영\",\"KAPT_DONG_CNT\":\"4\",\"CODE_CLEAN\":\"위탁관리\",\"CODE_SALE\":\"분양\",\"CODE_SEC\":\"자치관리\",\"EMPTY_HO_CNT\":0,\"APPL_PRODATE\":\"\",\"KAPT_URL\":\"신길건영.apti.co.kr\",\"KAPTD_CLCNT\":\"5\",\"KAPTD_PCNT\":\"313\",\"KAPTD_WTIMESUB\":\"5~10분이내\",\"KAPTD_DCNT\":\"12\",\"EDUCATION_FACILITY\":\"초등학교(대영초등학교) 중학교(대영중교) 고등학교(대영고교)\",\"KAPT_CCOMPANY\":\"-\"},\"resultMap_kapt_areacnt\":[{\"KAPTDA_CNT\":null,\"AREA_GBN\":1,\"KAPT_CODE\":null},{\"KAPTDA_CNT\":160,\"AREA_GBN\":2,\"KAPT_CODE\":\"A15005302\"},{\"KAPTDA_CNT\":226,\"AREA_GBN\":3,\"KAPT_CODE\":\"A15005302\"},{\"KAPTDA_CNT\":null,\"AREA_GBN\":4,\"KAPT_CODE\":null}],\"resultMap_kapt_addrList\":[{\"ADDR\":\"서울특별시 영등포구 신길동 364 건영아파트\",\"KAPT_CODE\":\"A15005302\",\"ADDR_GBN\":\"B\"},{\"ADDR\":\"서울특별시 영등포구 도림로 313\",\"KAPT_CODE\":\"A15005302\",\"ADDR_GBN\":\"R\"}]}\n",
      "{\"resultMap_match\":{\"KAPT_CODE\":\"A15005302\",\"TOWN_CODE\":1047},\"resultMap_kapt\":{\"KAPT_NAME\":\"신길건영\",\"CODE_SALE\":\"분양\",\"CODE_HEAT\":\"개별난방\",\"KAPT_TAREA\":44462.75,\"KAPT_DONG_CNT\":\"4\",\"KAPT_BCOMPANY\":\"LIG건영\",\"KAPT_ACOMPANY\":\"(주)건영\",\"KAPT_TEL\":\"844-2535\",\"KAPT_FAX\":\"844-2535\",\"KAPT_URL\":\"신길건영.apti.co.kr\",\"CODE_APT\":\"아파트\",\"CODE_MGR\":\"자치관리\",\"KAPT_MGR_CNT\":\"4\",\"KAPT_CCOMPANY\":\"-\",\"CODE_SEC\":\"자치관리\",\"KAPTD_SCNT\":\"6\",\"KAPTD_SEC_COM\":\"-\",\"CODE_CLEAN\":\"위탁관리\",\"KAPTD_CLCNT\":\"5\",\"CODE_GARBAGE\":\"음식물쓰레기종량제\",\"CODE_DISINF\":\"위탁관리\",\"KAPTD_DCNT\":\"12\",\"DISPOSAL_TYPE\":\"분무식,독이식\",\"KAPTD_PCNT\":\"313\",\"KAPTD_PCNTU\":\"0\",\"KAPTD_CCCNT\":\"107\",\"WELFARE_FACILITY\":\"관리사무소, 노인정, 어린이놀이터, 자전거보관소\",\"KAPTD_ECAPA\":\"995\",\"CODE_EMGR\":\"위탁선임\",\"CODE_WSUPPLY\":\"부스타방식\",\"CODE_STR\":\"철근콘크리트구조\",\"CODE_ECON\":\"종합계약\",\"CODE_FALARM\":\"P형\",\"CODE_ELEV\":\"위탁관리\",\"CODE_NET\":\"유\",\"KAPTD_WTIMEBUS\":\"5~10분이내\",\"CONVENIENT_FACILITY\":\"관공서(신길3동) 병원(한산부인과) 대형상가(LG하이프라자) 공원(근린공원)\",\"EDUCATION_FACILITY\":\"초등학교(대영초등학교) 중학교(대영중교) 고등학교(대영고교)\",\"CODE_HALL\":\"복도식\",\"KAPT_USEDATE\":\"1985-09-04\",\"KAPT_MAREA\":31387.44,\"SUBWAY_STATION\":\"신풍역\",\"SUBWAY_LINE\":\"1호선, 2호선, 7호선\",\"KAPTD_WTIMESUB\":\"5~10분이내\",\"KAPT_CODE\":\"A15005302\"},\"resultMap_kapt_areacnt\":[{\"KAPTDA_CNT\":0,\"AREA_GBN\":1,\"KAPT_CODE\":\"\"},{\"KAPTDA_CNT\":160,\"AREA_GBN\":2,\"KAPT_CODE\":\"A15005302\"},{\"KAPTDA_CNT\":226,\"AREA_GBN\":3,\"KAPT_CODE\":\"A15005302\"},{\"KAPTDA_CNT\":0,\"AREA_GBN\":4,\"KAPT_CODE\":\"\"}],\"resultMap_kapt_addrList\":[{\"ADDR\":\"서울특별시 영등포구 신길동 364 건영아파트\",\"KAPT_CODE\":\"A15005302\",\"ADDR_GBN\":\"B\"},{\"ADDR\":\"서울특별시 영등포구 도림로 313\",\"KAPT_CODE\":\"A15005302\",\"ADDR_GBN\":\"R\"}]}\n",
      "8 / 23 신길건영 처리완료\n"
     ]
    },
    {
     "name": "stderr",
     "output_type": "stream",
     "text": [
      "2018/03/22 21:24:43 example.com 200 OK\n"
     ]
    },
    {
     "name": "stdout",
     "output_type": "stream",
     "text": [
      "{\"resultMap_match\":{\"KAPT_CODE\":\"A15083703\",\"TOWN_CODE\":1048},\"resultMap_kapt\":{\"CODE_HEAT\":\"개별난방\",\"SUBWAY_STATION\":\"신길역\",\"SUBWAY_LINE\":\"1호선, 5호선\",\"KAPT_PE1AREA\":0,\"KAPT_PE2AREA\":0,\"KAPT_PE3AREA\":0,\"KAPT_PEAREA\":0,\"KAPT_PE4AREA\":0,\"DISPOSAL_TYPE\":\"도포식,분무식,기구부착식,기구설치식,독이식\",\"KAPT_PE5AREA\":0,\"KAPTD_ECNTB\":0,\"KAPTD_ECNTC\":0,\"KAPT_PHAREA\":0,\"KAPTD_ECNTD\":0,\"KAPTD_SCNT\":\"4\",\"KAPTD_ECNTE\":0,\"CODE_ECON\":\"단일계약\",\"KAPT_PPAREA\":0,\"KAPTD_CCCNT\":\"67\",\"KAPTD_ECNTM\":0,\"KAPT_TEL\":\"02-835-7655\",\"WELFARE_FACILITY\":\"관리사무소, 노인정, 어린이놀이터\",\"KAPTD_ECNTP\":8,\"KAPT_FAX\":\"02-6747-7677\",\"KAPT_ACC_COMPANY\":\"-\",\"KAPT_MGR_CNT\":\"4\",\"KAPT_BCOMPANY\":\"경남건설\",\"CONVENIENT_FACILITY\":\"관공서(동사무소) 병원(서울대윤병원) 공원(여의도생태공원)\",\"CODE_DISINF\":\"위탁관리\",\"CODE_EMGR\":\"위탁선임\",\"CODE_MGR\":\"자치관리\",\"KAPTD_PCNTU\":\"351\",\"CODE_EMAINT\":\"자치관리\",\"KAPT_MCAREA\":9544.27,\"CODE_ELEV\":\"위탁관리\",\"KAPT_MEAREA\":0,\"CODE_NET\":\"무\",\"KAPT_MHAREA\":0,\"KAPT_USEDATE\":\"1999-06-15\",\"KAPTD_WTIMEBUS\":\"5분이내\",\"KAPT_CODE\":\"A15083703\",\"CODE_APT\":\"아파트\",\"CODE_WSUPPLY\":\"고가수조식\",\"KAPT_MPAREA\":29601.1,\"KAPT_MAREA\":29601.1,\"KAPT_PAREA\":0,\"KAPT_TAREA\":49860.67,\"CODE_FALARM\":\"P형\",\"KAPTD_SEC_COM\":\"한국보안시스템\",\"KAPTD_ECAPA\":\"1240\",\"CODE_STR\":\"철근콘크리트구조\",\"APPL_CODE\":null,\"KAPT_ME1AREA\":0,\"KAPT_ACOMPANY\":\"경남건설\",\"KAPT_ME2AREA\":0,\"KAPT_ME3AREA\":0,\"CODE_GARBAGE\":\"거점장비수거방식\",\"KAPT_ME4AREA\":0,\"KAPT_ME5AREA\":0,\"CODE_CLTIME\":\"5\",\"CODE_HALL\":\"혼합식\",\"CODE_STIME\":\"16\",\"KAPT_NAME\":\"신길경남\",\"KAPT_DONG_CNT\":\"5\",\"CODE_CLEAN\":\"위탁관리\",\"CODE_SALE\":\"분양\",\"CODE_SEC\":\"위탁관리\",\"EMPTY_HO_CNT\":10,\"APPL_PRODATE\":\"\",\"KAPT_URL\":\"-\",\"KAPTD_CLCNT\":\"4\",\"KAPTD_PCNT\":\"84\",\"KAPTD_WTIMESUB\":\"5분이내\",\"KAPTD_DCNT\":\"12\",\"EDUCATION_FACILITY\":\"중학교(영원중교) 고등학교(장훈고교)\",\"KAPT_CCOMPANY\":\"-\"},\"resultMap_kapt_areacnt\":[{\"KAPTDA_CNT\":165,\"AREA_GBN\":1,\"KAPT_CODE\":\"A15083703\"},{\"KAPTDA_CNT\":121,\"AREA_GBN\":2,\"KAPT_CODE\":\"A15083703\"},{\"KAPTDA_CNT\":82,\"AREA_GBN\":3,\"KAPT_CODE\":\"A15083703\"},{\"KAPTDA_CNT\":null,\"AREA_GBN\":4,\"KAPT_CODE\":null}],\"resultMap_kapt_addrList\":[{\"ADDR\":\"서울특별시 영등포구 신길동 67-1 신길동경남아파트\",\"KAPT_CODE\":\"A15083703\",\"ADDR_GBN\":\"B\"},{\"ADDR\":\"서울특별시 영등포구 영등포로 351\",\"KAPT_CODE\":\"A15083703\",\"ADDR_GBN\":\"R\"}]}\n",
      "{\"resultMap_match\":{\"KAPT_CODE\":\"A15083703\",\"TOWN_CODE\":1048},\"resultMap_kapt\":{\"KAPT_NAME\":\"신길경남\",\"CODE_SALE\":\"분양\",\"CODE_HEAT\":\"개별난방\",\"KAPT_TAREA\":49860.67,\"KAPT_DONG_CNT\":\"5\",\"KAPT_BCOMPANY\":\"경남건설\",\"KAPT_ACOMPANY\":\"경남건설\",\"KAPT_TEL\":\"02-835-7655\",\"KAPT_FAX\":\"02-6747-7677\",\"KAPT_URL\":\"-\",\"CODE_APT\":\"아파트\",\"CODE_MGR\":\"자치관리\",\"KAPT_MGR_CNT\":\"4\",\"KAPT_CCOMPANY\":\"-\",\"CODE_SEC\":\"위탁관리\",\"KAPTD_SCNT\":\"4\",\"KAPTD_SEC_COM\":\"한국보안시스템\",\"CODE_CLEAN\":\"위탁관리\",\"KAPTD_CLCNT\":\"4\",\"CODE_GARBAGE\":\"거점장비수거방식\",\"CODE_DISINF\":\"위탁관리\",\"KAPTD_DCNT\":\"12\",\"DISPOSAL_TYPE\":\"도포식,분무식,기구부착식,기구설치식,독이식\",\"KAPTD_PCNT\":\"84\",\"KAPTD_PCNTU\":\"351\",\"KAPTD_CCCNT\":\"67\",\"WELFARE_FACILITY\":\"관리사무소, 노인정, 어린이놀이터\",\"KAPTD_ECAPA\":\"1240\",\"CODE_EMGR\":\"위탁선임\",\"CODE_WSUPPLY\":\"고가수조식\",\"CODE_STR\":\"철근콘크리트구조\",\"CODE_ECON\":\"단일계약\",\"CODE_FALARM\":\"P형\",\"CODE_ELEV\":\"위탁관리\",\"CODE_NET\":\"무\",\"KAPTD_WTIMEBUS\":\"5분이내\",\"CONVENIENT_FACILITY\":\"관공서(동사무소) 병원(서울대윤병원) 공원(여의도생태공원)\",\"EDUCATION_FACILITY\":\"중학교(영원중교) 고등학교(장훈고교)\",\"CODE_HALL\":\"혼합식\",\"KAPT_USEDATE\":\"1999-06-15\",\"KAPT_MAREA\":29601.1,\"SUBWAY_STATION\":\"신길역\",\"SUBWAY_LINE\":\"1호선, 5호선\",\"KAPTD_WTIMESUB\":\"5분이내\",\"KAPT_CODE\":\"A15083703\"},\"resultMap_kapt_areacnt\":[{\"KAPTDA_CNT\":165,\"AREA_GBN\":1,\"KAPT_CODE\":\"A15083703\"},{\"KAPTDA_CNT\":121,\"AREA_GBN\":2,\"KAPT_CODE\":\"A15083703\"},{\"KAPTDA_CNT\":82,\"AREA_GBN\":3,\"KAPT_CODE\":\"A15083703\"},{\"KAPTDA_CNT\":0,\"AREA_GBN\":4,\"KAPT_CODE\":\"\"}],\"resultMap_kapt_addrList\":[{\"ADDR\":\"서울특별시 영등포구 신길동 67-1 신길동경남아파트\",\"KAPT_CODE\":\"A15083703\",\"ADDR_GBN\":\"B\"},{\"ADDR\":\"서울특별시 영등포구 영등포로 351\",\"KAPT_CODE\":\"A15083703\",\"ADDR_GBN\":\"R\"}]}\n",
      "9 / 23 신길경남 처리완료\n"
     ]
    },
    {
     "name": "stderr",
     "output_type": "stream",
     "text": [
      "2018/03/22 21:24:44 example.com 200 OK\n"
     ]
    },
    {
     "name": "stdout",
     "output_type": "stream",
     "text": [
      "{\"resultMap_match\":{\"KAPT_CODE\":\"A15085805\",\"TOWN_CODE\":1049},\"resultMap_kapt\":{\"CODE_HEAT\":\"개별난방\",\"SUBWAY_STATION\":\"신풍\",\"SUBWAY_LINE\":\"7호선\",\"KAPT_PE1AREA\":0,\"KAPT_PE2AREA\":0,\"KAPT_PE3AREA\":0,\"KAPT_PEAREA\":0,\"KAPT_PE4AREA\":0,\"DISPOSAL_TYPE\":\"분무식,독이식\",\"KAPT_PE5AREA\":0,\"KAPTD_ECNTB\":0,\"KAPTD_ECNTC\":0,\"KAPT_PHAREA\":0,\"KAPTD_ECNTD\":0,\"KAPTD_SCNT\":\"8\",\"KAPTD_ECNTE\":0,\"CODE_ECON\":\"단일계약\",\"KAPT_PPAREA\":0,\"KAPTD_CCCNT\":\"32\",\"KAPTD_ECNTM\":0,\"KAPT_TEL\":\"02-836-7552\",\"WELFARE_FACILITY\":\"관리사무소, 노인정, 어린이놀이터, 휴게시설\",\"KAPTD_ECNTP\":0,\"KAPT_FAX\":\"02-836-7552\",\"KAPT_ACC_COMPANY\":\"홍진 이지스\",\"KAPT_MGR_CNT\":\"4\",\"KAPT_BCOMPANY\":\"근대건설\",\"CONVENIENT_FACILITY\":\"관공서(동사무소) 병원(성심의원) 공원(신길광장공원) 기타(돈보스코청소년센터)\",\"CODE_DISINF\":\"위탁관리\",\"CODE_EMGR\":\"위탁선임\",\"CODE_MGR\":\"자치관리\",\"KAPTD_PCNTU\":\"0\",\"CODE_EMAINT\":\"-\",\"KAPT_MCAREA\":0,\"CODE_ELEV\":\"-\",\"KAPT_MEAREA\":0,\"CODE_NET\":\"무\",\"KAPT_MHAREA\":0,\"KAPT_USEDATE\":\"1974-12-28\",\"KAPTD_WTIMEBUS\":\"5분이내\",\"KAPT_CODE\":\"A15085805\",\"CODE_APT\":\"아파트\",\"CODE_WSUPPLY\":\"고가수조식\",\"KAPT_MPAREA\":0,\"KAPT_MAREA\":24643.62,\"KAPT_PAREA\":0,\"KAPT_TAREA\":32295.3,\"CODE_FALARM\":\"P형\",\"KAPTD_SEC_COM\":\"경진이앤지\",\"KAPTD_ECAPA\":\"367\",\"CODE_STR\":\"철근콘크리트구조\",\"APPL_CODE\":null,\"KAPT_ME1AREA\":0,\"KAPT_ACOMPANY\":\"성아산업\",\"KAPT_ME2AREA\":0,\"KAPT_ME3AREA\":0,\"CODE_GARBAGE\":\"음식물쓰레기종량제\",\"KAPT_ME4AREA\":0,\"KAPT_ME5AREA\":0,\"CODE_CLTIME\":\"5\",\"CODE_HALL\":\"계단식\",\"CODE_STIME\":\"14\",\"KAPT_NAME\":\"신길남서울\",\"KAPT_DONG_CNT\":\"13\",\"CODE_CLEAN\":\"위탁관리\",\"CODE_SALE\":\"분양\",\"CODE_SEC\":\"위탁관리\",\"EMPTY_HO_CNT\":10,\"APPL_PRODATE\":\"\",\"KAPT_URL\":\"남서울.apti.co.kr\",\"KAPTD_CLCNT\":\"4\",\"KAPTD_PCNT\":\"280\",\"KAPTD_WTIMESUB\":\"5분이내\",\"KAPTD_DCNT\":\"12\",\"EDUCATION_FACILITY\":\"초등학교(대길초등학교) 중학교(대영중학교) 고등학교(대영고등학교)\",\"KAPT_CCOMPANY\":\"-\"},\"resultMap_kapt_areacnt\":[{\"KAPTDA_CNT\":488,\"AREA_GBN\":1,\"KAPT_CODE\":\"A15085805\"},{\"KAPTDA_CNT\":30,\"AREA_GBN\":2,\"KAPT_CODE\":\"A15085805\"},{\"KAPTDA_CNT\":null,\"AREA_GBN\":3,\"KAPT_CODE\":null},{\"KAPTDA_CNT\":null,\"AREA_GBN\":4,\"KAPT_CODE\":null}],\"resultMap_kapt_addrList\":[{\"ADDR\":\"서울특별시 영등포구 신길동 3111 남서울\",\"KAPT_CODE\":\"A15085805\",\"ADDR_GBN\":\"B\"},{\"ADDR\":\"서울특별시 영등포구 신길동 3586 남서울\",\"KAPT_CODE\":\"A15085805\",\"ADDR_GBN\":\"B\"},{\"ADDR\":\"서울특별시 영등포구 신길동 3002 남서울\",\"KAPT_CODE\":\"A15085805\",\"ADDR_GBN\":\"B\"},{\"ADDR\":\"서울특별시 영등포구 신길동 3591 남서울\",\"KAPT_CODE\":\"A15085805\",\"ADDR_GBN\":\"B\"},{\"ADDR\":\"서울특별시 영등포구 신길동 3583 남서울\",\"KAPT_CODE\":\"A15085805\",\"ADDR_GBN\":\"B\"},{\"ADDR\":\"서울특별시 영등포구 신길동 3573 남서울\",\"KAPT_CODE\":\"A15085805\",\"ADDR_GBN\":\"B\"},{\"ADDR\":\"서울특별시 영등포구 신길동 3590 남서울\",\"KAPT_CODE\":\"A15085805\",\"ADDR_GBN\":\"B\"},{\"ADDR\":\"서울특별시 영등포구 신길로 108\",\"KAPT_CODE\":\"A15085805\",\"ADDR_GBN\":\"R\"}]}\n",
      "{\"resultMap_match\":{\"KAPT_CODE\":\"A15085805\",\"TOWN_CODE\":1049},\"resultMap_kapt\":{\"KAPT_NAME\":\"신길남서울\",\"CODE_SALE\":\"분양\",\"CODE_HEAT\":\"개별난방\",\"KAPT_TAREA\":32295.3,\"KAPT_DONG_CNT\":\"13\",\"KAPT_BCOMPANY\":\"근대건설\",\"KAPT_ACOMPANY\":\"성아산업\",\"KAPT_TEL\":\"02-836-7552\",\"KAPT_FAX\":\"02-836-7552\",\"KAPT_URL\":\"남서울.apti.co.kr\",\"CODE_APT\":\"아파트\",\"CODE_MGR\":\"자치관리\",\"KAPT_MGR_CNT\":\"4\",\"KAPT_CCOMPANY\":\"-\",\"CODE_SEC\":\"위탁관리\",\"KAPTD_SCNT\":\"8\",\"KAPTD_SEC_COM\":\"경진이앤지\",\"CODE_CLEAN\":\"위탁관리\",\"KAPTD_CLCNT\":\"4\",\"CODE_GARBAGE\":\"음식물쓰레기종량제\",\"CODE_DISINF\":\"위탁관리\",\"KAPTD_DCNT\":\"12\",\"DISPOSAL_TYPE\":\"분무식,독이식\",\"KAPTD_PCNT\":\"280\",\"KAPTD_PCNTU\":\"0\",\"KAPTD_CCCNT\":\"32\",\"WELFARE_FACILITY\":\"관리사무소, 노인정, 어린이놀이터, 휴게시설\",\"KAPTD_ECAPA\":\"367\",\"CODE_EMGR\":\"위탁선임\",\"CODE_WSUPPLY\":\"고가수조식\",\"CODE_STR\":\"철근콘크리트구조\",\"CODE_ECON\":\"단일계약\",\"CODE_FALARM\":\"P형\",\"CODE_ELEV\":\"-\",\"CODE_NET\":\"무\",\"KAPTD_WTIMEBUS\":\"5분이내\",\"CONVENIENT_FACILITY\":\"관공서(동사무소) 병원(성심의원) 공원(신길광장공원) 기타(돈보스코청소년센터)\",\"EDUCATION_FACILITY\":\"초등학교(대길초등학교) 중학교(대영중학교) 고등학교(대영고등학교)\",\"CODE_HALL\":\"계단식\",\"KAPT_USEDATE\":\"1974-12-28\",\"KAPT_MAREA\":24643.62,\"SUBWAY_STATION\":\"신풍\",\"SUBWAY_LINE\":\"7호선\",\"KAPTD_WTIMESUB\":\"5분이내\",\"KAPT_CODE\":\"A15085805\"},\"resultMap_kapt_areacnt\":[{\"KAPTDA_CNT\":488,\"AREA_GBN\":1,\"KAPT_CODE\":\"A15085805\"},{\"KAPTDA_CNT\":30,\"AREA_GBN\":2,\"KAPT_CODE\":\"A15085805\"},{\"KAPTDA_CNT\":0,\"AREA_GBN\":3,\"KAPT_CODE\":\"\"},{\"KAPTDA_CNT\":0,\"AREA_GBN\":4,\"KAPT_CODE\":\"\"}],\"resultMap_kapt_addrList\":[{\"ADDR\":\"서울특별시 영등포구 신길동 3111 남서울\",\"KAPT_CODE\":\"A15085805\",\"ADDR_GBN\":\"B\"},{\"ADDR\":\"서울특별시 영등포구 신길동 3586 남서울\",\"KAPT_CODE\":\"A15085805\",\"ADDR_GBN\":\"B\"},{\"ADDR\":\"서울특별시 영등포구 신길동 3002 남서울\",\"KAPT_CODE\":\"A15085805\",\"ADDR_GBN\":\"B\"},{\"ADDR\":\"서울특별시 영등포구 신길동 3591 남서울\",\"KAPT_CODE\":\"A15085805\",\"ADDR_GBN\":\"B\"},{\"ADDR\":\"서울특별시 영등포구 신길동 3583 남서울\",\"KAPT_CODE\":\"A15085805\",\"ADDR_GBN\":\"B\"},{\"ADDR\":\"서울특별시 영등포구 신길동 3573 남서울\",\"KAPT_CODE\":\"A15085805\",\"ADDR_GBN\":\"B\"},{\"ADDR\":\"서울특별시 영등포구 신길동 3590 남서울\",\"KAPT_CODE\":\"A15085805\",\"ADDR_GBN\":\"B\"},{\"ADDR\":\"서울특별시 영등포구 신길로 108\",\"KAPT_CODE\":\"A15085805\",\"ADDR_GBN\":\"R\"}]}\n",
      "10 / 23 신길남서울 처리완료\n"
     ]
    },
    {
     "name": "stderr",
     "output_type": "stream",
     "text": [
      "2018/03/22 21:24:44 example.com 200 OK\n",
      "2018/03/22 21:24:44 example.com 200 OK\n"
     ]
    },
    {
     "name": "stdout",
     "output_type": "stream",
     "text": [
      "{\"resultMap_match\":{\"KAPT_CODE\":\"A15005501\",\"TOWN_CODE\":20096267},\"resultMap_kapt\":{\"CODE_HEAT\":\"개별난방\",\"SUBWAY_STATION\":\"신풍\",\"SUBWAY_LINE\":\"7호선\",\"KAPT_PE1AREA\":0,\"KAPT_PE2AREA\":0,\"KAPT_PE3AREA\":0,\"KAPT_PEAREA\":0,\"KAPT_PE4AREA\":0,\"DISPOSAL_TYPE\":\"도포식,분무식\",\"KAPT_PE5AREA\":0,\"KAPTD_ECNTB\":0,\"KAPTD_ECNTC\":0,\"KAPT_PHAREA\":0,\"KAPTD_ECNTD\":0,\"KAPTD_SCNT\":\"4\",\"KAPTD_ECNTE\":9,\"CODE_ECON\":\"종합계약\",\"KAPT_PPAREA\":0,\"KAPTD_CCCNT\":\"112\",\"KAPTD_ECNTM\":0,\"KAPT_TEL\":\"02-834-7097\",\"WELFARE_FACILITY\":\"관리사무소, 노인정, 어린이놀이터, 자전거보관소\",\"KAPTD_ECNTP\":0,\"KAPT_FAX\":\"02-834-0420\",\"KAPT_ACC_COMPANY\":\"샛별전산\",\"KAPT_MGR_CNT\":\"5\",\"KAPT_BCOMPANY\":\"한화건설(주)\",\"CONVENIENT_FACILITY\":\"대형상가(사러가쇼핑센터)\",\"CODE_DISINF\":\"위탁관리\",\"CODE_EMGR\":\"상주선임\",\"CODE_MGR\":\"위탁관리\",\"KAPTD_PCNTU\":\"377\",\"CODE_EMAINT\":\"위탁관리\",\"KAPT_MCAREA\":6844.919,\"CODE_ELEV\":\"위탁관리\",\"KAPT_MEAREA\":0,\"CODE_NET\":\"유\",\"KAPT_MHAREA\":0,\"KAPT_USEDATE\":\"2008-06-26\",\"KAPTD_WTIMEBUS\":\"5분이내\",\"KAPT_CODE\":\"A15005501\",\"CODE_APT\":\"아파트\",\"CODE_WSUPPLY\":\"부스타방식\",\"KAPT_MPAREA\":27684.247,\"KAPT_MAREA\":27684.2474,\"KAPT_PAREA\":0,\"KAPT_TAREA\":48058.94,\"CODE_FALARM\":\"R형\",\"KAPTD_SEC_COM\":\"세계보안\",\"KAPTD_ECAPA\":\"1650\",\"CODE_STR\":\"철근콘크리트구조\",\"APPL_CODE\":null,\"KAPT_ME1AREA\":0,\"KAPT_ACOMPANY\":\"한고을\",\"KAPT_ME2AREA\":0,\"KAPT_ME3AREA\":0,\"CODE_GARBAGE\":\"거점장비수거방식\",\"KAPT_ME4AREA\":0,\"KAPT_ME5AREA\":0,\"CODE_CLTIME\":\"6\",\"CODE_HALL\":\"계단식\",\"CODE_STIME\":\"15\",\"KAPT_NAME\":\"신길뉴타운한화꿈에그린\",\"KAPT_DONG_CNT\":\"6\",\"CODE_CLEAN\":\"위탁관리\",\"CODE_SALE\":\"분양\",\"CODE_SEC\":\"위탁관리\",\"EMPTY_HO_CNT\":0,\"APPL_PRODATE\":\"\",\"KAPT_URL\":\"-\",\"KAPTD_CLCNT\":\"3\",\"KAPTD_PCNT\":\"24\",\"KAPTD_WTIMESUB\":\"5분이내\",\"KAPTD_DCNT\":\"12\",\"EDUCATION_FACILITY\":\"초등학교(대영) 중학교(대영) 고등학교(대영)\",\"KAPT_CCOMPANY\":\"서림주택\"},\"resultMap_kapt_areacnt\":[{\"KAPTDA_CNT\":null,\"AREA_GBN\":1,\"KAPT_CODE\":null},{\"KAPTDA_CNT\":147,\"AREA_GBN\":2,\"KAPT_CODE\":\"A15005501\"},{\"KAPTDA_CNT\":137,\"AREA_GBN\":3,\"KAPT_CODE\":\"A15005501\"},{\"KAPTDA_CNT\":null,\"AREA_GBN\":4,\"KAPT_CODE\":null}],\"resultMap_kapt_addrList\":[{\"ADDR\":\"서울특별시 영등포구 신길동 4937 신길뉴타운한화꿈에그린\",\"KAPT_CODE\":\"A15005501\",\"ADDR_GBN\":\"B\"},{\"ADDR\":\"서울특별시 영등포구 신길로 119\",\"KAPT_CODE\":\"A15005501\",\"ADDR_GBN\":\"R\"}]}\n",
      "{\"resultMap_match\":{\"KAPT_CODE\":\"A15005501\",\"TOWN_CODE\":20096267},\"resultMap_kapt\":{\"KAPT_NAME\":\"신길뉴타운한화꿈에그린\",\"CODE_SALE\":\"분양\",\"CODE_HEAT\":\"개별난방\",\"KAPT_TAREA\":48058.94,\"KAPT_DONG_CNT\":\"6\",\"KAPT_BCOMPANY\":\"한화건설(주)\",\"KAPT_ACOMPANY\":\"한고을\",\"KAPT_TEL\":\"02-834-7097\",\"KAPT_FAX\":\"02-834-0420\",\"KAPT_URL\":\"-\",\"CODE_APT\":\"아파트\",\"CODE_MGR\":\"위탁관리\",\"KAPT_MGR_CNT\":\"5\",\"KAPT_CCOMPANY\":\"서림주택\",\"CODE_SEC\":\"위탁관리\",\"KAPTD_SCNT\":\"4\",\"KAPTD_SEC_COM\":\"세계보안\",\"CODE_CLEAN\":\"위탁관리\",\"KAPTD_CLCNT\":\"3\",\"CODE_GARBAGE\":\"거점장비수거방식\",\"CODE_DISINF\":\"위탁관리\",\"KAPTD_DCNT\":\"12\",\"DISPOSAL_TYPE\":\"도포식,분무식\",\"KAPTD_PCNT\":\"24\",\"KAPTD_PCNTU\":\"377\",\"KAPTD_CCCNT\":\"112\",\"WELFARE_FACILITY\":\"관리사무소, 노인정, 어린이놀이터, 자전거보관소\",\"KAPTD_ECAPA\":\"1650\",\"CODE_EMGR\":\"상주선임\",\"CODE_WSUPPLY\":\"부스타방식\",\"CODE_STR\":\"철근콘크리트구조\",\"CODE_ECON\":\"종합계약\",\"CODE_FALARM\":\"R형\",\"CODE_ELEV\":\"위탁관리\",\"CODE_NET\":\"유\",\"KAPTD_WTIMEBUS\":\"5분이내\",\"CONVENIENT_FACILITY\":\"대형상가(사러가쇼핑센터)\",\"EDUCATION_FACILITY\":\"초등학교(대영) 중학교(대영) 고등학교(대영)\",\"CODE_HALL\":\"계단식\",\"KAPT_USEDATE\":\"2008-06-26\",\"KAPT_MAREA\":27684.2474,\"SUBWAY_STATION\":\"신풍\",\"SUBWAY_LINE\":\"7호선\",\"KAPTD_WTIMESUB\":\"5분이내\",\"KAPT_CODE\":\"A15005501\"},\"resultMap_kapt_areacnt\":[{\"KAPTDA_CNT\":0,\"AREA_GBN\":1,\"KAPT_CODE\":\"\"},{\"KAPTDA_CNT\":147,\"AREA_GBN\":2,\"KAPT_CODE\":\"A15005501\"},{\"KAPTDA_CNT\":137,\"AREA_GBN\":3,\"KAPT_CODE\":\"A15005501\"},{\"KAPTDA_CNT\":0,\"AREA_GBN\":4,\"KAPT_CODE\":\"\"}],\"resultMap_kapt_addrList\":[{\"ADDR\":\"서울특별시 영등포구 신길동 4937 신길뉴타운한화꿈에그린\",\"KAPT_CODE\":\"A15005501\",\"ADDR_GBN\":\"B\"},{\"ADDR\":\"서울특별시 영등포구 신길로 119\",\"KAPT_CODE\":\"A15005501\",\"ADDR_GBN\":\"R\"}]}\n",
      "11 / 23 신길뉴타운한화꿈에그린 처리완료\n"
     ]
    },
    {
     "name": "stderr",
     "output_type": "stream",
     "text": [
      "2018/03/22 21:24:44 example.com 200 OK\n"
     ]
    },
    {
     "name": "stdout",
     "output_type": "stream",
     "text": [
      "{\"resultMap_match\":{\"KAPT_CODE\":\"A15083701\",\"TOWN_CODE\":1051},\"resultMap_kapt\":{\"CODE_HEAT\":\"개별난방\",\"SUBWAY_STATION\":\"대방\",\"SUBWAY_LINE\":\"1호선, 5호선\",\"KAPT_PE1AREA\":0,\"KAPT_PE2AREA\":0,\"KAPT_PE3AREA\":0,\"KAPT_PEAREA\":0,\"KAPT_PE4AREA\":0,\"DISPOSAL_TYPE\":\"분무식\",\"KAPT_PE5AREA\":0,\"KAPTD_ECNTB\":0,\"KAPTD_ECNTC\":0,\"KAPT_PHAREA\":0,\"KAPTD_ECNTD\":0,\"KAPTD_SCNT\":\"2\",\"KAPTD_ECNTE\":0,\"CODE_ECON\":\"종합계약\",\"KAPT_PPAREA\":0,\"KAPTD_CCCNT\":\"0\",\"KAPTD_ECNTM\":0,\"KAPT_TEL\":\"02-848-4188\",\"WELFARE_FACILITY\":\"관리사무소, 노인정, 어린이놀이터, 자전거보관소\",\"KAPTD_ECNTP\":2,\"KAPT_FAX\":\"02-848-4188\",\"KAPT_ACC_COMPANY\":\"-\",\"KAPT_MGR_CNT\":\"2\",\"KAPT_BCOMPANY\":\"삼두실업(주)\",\"CONVENIENT_FACILITY\":\"관공서(동사무소) 병원(성애병원) 대형상가(LG하이프라자-대방점) 공원(여의도샛강생태공원)\",\"CODE_DISINF\":\"위탁관리\",\"CODE_EMGR\":\"위탁선임\",\"CODE_MGR\":\"위탁관리\",\"KAPTD_PCNTU\":\"0\",\"CODE_EMAINT\":\"위탁관리\",\"KAPT_MCAREA\":2921.1,\"CODE_ELEV\":\"위탁관리\",\"KAPT_MEAREA\":0,\"CODE_NET\":\"무\",\"KAPT_MHAREA\":0,\"KAPT_USEDATE\":\"1987-12-12\",\"KAPTD_WTIMEBUS\":\"5~10분이내\",\"KAPT_CODE\":\"A15083701\",\"CODE_APT\":\"아파트\",\"CODE_WSUPPLY\":\"고가수조식\",\"KAPT_MPAREA\":7333.2,\"KAPT_MAREA\":7333.2,\"KAPT_PAREA\":0,\"KAPT_TAREA\":10684,\"CODE_FALARM\":\"P형\",\"KAPTD_SEC_COM\":\"신한영주택관리(주)\",\"KAPTD_ECAPA\":\"225\",\"CODE_STR\":\"철근콘크리트구조\",\"APPL_CODE\":null,\"KAPT_ME1AREA\":0,\"KAPT_ACOMPANY\":\"삼두실업(주)\",\"KAPT_ME2AREA\":0,\"KAPT_ME3AREA\":0,\"CODE_GARBAGE\":\"음식물쓰레기종량제\",\"KAPT_ME4AREA\":0,\"KAPT_ME5AREA\":0,\"CODE_CLTIME\":\"3\",\"CODE_HALL\":\"복도식\",\"CODE_STIME\":\"11\",\"KAPT_NAME\":\"신길삼두\",\"KAPT_DONG_CNT\":\"1\",\"CODE_CLEAN\":\"위탁관리(직영+위탁)\",\"CODE_SALE\":\"분양\",\"CODE_SEC\":\"위탁관리(직영+위탁)\",\"EMPTY_HO_CNT\":0,\"APPL_PRODATE\":\"\",\"KAPT_URL\":\"-\",\"KAPTD_CLCNT\":\"1\",\"KAPTD_PCNT\":\"45\",\"KAPTD_WTIMESUB\":\"5분이내\",\"KAPTD_DCNT\":\"4\",\"EDUCATION_FACILITY\":\"중학교(윤중중학교) 고등학교(한국제과고등기술학교)\",\"KAPT_CCOMPANY\":\"신한영주택관리(주)\"},\"resultMap_kapt_areacnt\":[{\"KAPTDA_CNT\":160,\"AREA_GBN\":1,\"KAPT_CODE\":\"A15083701\"},{\"KAPTDA_CNT\":null,\"AREA_GBN\":2,\"KAPT_CODE\":null},{\"KAPTDA_CNT\":null,\"AREA_GBN\":3,\"KAPT_CODE\":null},{\"KAPTDA_CNT\":null,\"AREA_GBN\":4,\"KAPT_CODE\":null}],\"resultMap_kapt_addrList\":[{\"ADDR\":\"서울특별시 영등포구 신길동 2-3 삼두아파트\",\"KAPT_CODE\":\"A15083701\",\"ADDR_GBN\":\"B\"},{\"ADDR\":\"서울특별시 영등포구 여의대방로61길 19\",\"KAPT_CODE\":\"A15083701\",\"ADDR_GBN\":\"R\"}]}\n",
      "{\"resultMap_match\":{\"KAPT_CODE\":\"A15083701\",\"TOWN_CODE\":1051},\"resultMap_kapt\":{\"KAPT_NAME\":\"신길삼두\",\"CODE_SALE\":\"분양\",\"CODE_HEAT\":\"개별난방\",\"KAPT_TAREA\":10684,\"KAPT_DONG_CNT\":\"1\",\"KAPT_BCOMPANY\":\"삼두실업(주)\",\"KAPT_ACOMPANY\":\"삼두실업(주)\",\"KAPT_TEL\":\"02-848-4188\",\"KAPT_FAX\":\"02-848-4188\",\"KAPT_URL\":\"-\",\"CODE_APT\":\"아파트\",\"CODE_MGR\":\"위탁관리\",\"KAPT_MGR_CNT\":\"2\",\"KAPT_CCOMPANY\":\"신한영주택관리(주)\",\"CODE_SEC\":\"위탁관리(직영+위탁)\",\"KAPTD_SCNT\":\"2\",\"KAPTD_SEC_COM\":\"신한영주택관리(주)\",\"CODE_CLEAN\":\"위탁관리(직영+위탁)\",\"KAPTD_CLCNT\":\"1\",\"CODE_GARBAGE\":\"음식물쓰레기종량제\",\"CODE_DISINF\":\"위탁관리\",\"KAPTD_DCNT\":\"4\",\"DISPOSAL_TYPE\":\"분무식\",\"KAPTD_PCNT\":\"45\",\"KAPTD_PCNTU\":\"0\",\"KAPTD_CCCNT\":\"0\",\"WELFARE_FACILITY\":\"관리사무소, 노인정, 어린이놀이터, 자전거보관소\",\"KAPTD_ECAPA\":\"225\",\"CODE_EMGR\":\"위탁선임\",\"CODE_WSUPPLY\":\"고가수조식\",\"CODE_STR\":\"철근콘크리트구조\",\"CODE_ECON\":\"종합계약\",\"CODE_FALARM\":\"P형\",\"CODE_ELEV\":\"위탁관리\",\"CODE_NET\":\"무\",\"KAPTD_WTIMEBUS\":\"5~10분이내\",\"CONVENIENT_FACILITY\":\"관공서(동사무소) 병원(성애병원) 대형상가(LG하이프라자-대방점) 공원(여의도샛강생태공원)\",\"EDUCATION_FACILITY\":\"중학교(윤중중학교) 고등학교(한국제과고등기술학교)\",\"CODE_HALL\":\"복도식\",\"KAPT_USEDATE\":\"1987-12-12\",\"KAPT_MAREA\":7333.2,\"SUBWAY_STATION\":\"대방\",\"SUBWAY_LINE\":\"1호선, 5호선\",\"KAPTD_WTIMESUB\":\"5분이내\",\"KAPT_CODE\":\"A15083701\"},\"resultMap_kapt_areacnt\":[{\"KAPTDA_CNT\":160,\"AREA_GBN\":1,\"KAPT_CODE\":\"A15083701\"},{\"KAPTDA_CNT\":0,\"AREA_GBN\":2,\"KAPT_CODE\":\"\"},{\"KAPTDA_CNT\":0,\"AREA_GBN\":3,\"KAPT_CODE\":\"\"},{\"KAPTDA_CNT\":0,\"AREA_GBN\":4,\"KAPT_CODE\":\"\"}],\"resultMap_kapt_addrList\":[{\"ADDR\":\"서울특별시 영등포구 신길동 2-3 삼두아파트\",\"KAPT_CODE\":\"A15083701\",\"ADDR_GBN\":\"B\"},{\"ADDR\":\"서울특별시 영등포구 여의대방로61길 19\",\"KAPT_CODE\":\"A15083701\",\"ADDR_GBN\":\"R\"}]}\n",
      "12 / 23 신길삼두 처리완료\n",
      "{\"resultMap_match\":{\"KAPT_CODE\":\"A15005603\",\"TOWN_CODE\":1052},\"resultMap_kapt\":{\"CODE_HEAT\":\"개별난방\",\"SUBWAY_STATION\":\"신풍\",\"SUBWAY_LINE\":\"7호선\",\"KAPT_PE1AREA\":0,\"KAPT_PE2AREA\":0,\"KAPT_PE3AREA\":0,\"KAPT_PEAREA\":0,\"KAPT_PE4AREA\":0,\"DISPOSAL_TYPE\":\"도포식,분무식,독이식\",\"KAPT_PE5AREA\":0,\"KAPTD_ECNTB\":0,\"KAPTD_ECNTC\":0,\"KAPT_PHAREA\":0,\"KAPTD_ECNTD\":0,\"KAPTD_SCNT\":\"4\",\"KAPTD_ECNTE\":0,\"CODE_ECON\":\"단일계약\",\"KAPT_PPAREA\":0,\"KAPTD_CCCNT\":\"41\",\"KAPTD_ECNTM\":0,\"KAPT_TEL\":\"02-846-2273\",\"WELFARE_FACILITY\":\"관리사무소, 노인정, 어린이놀이터, 자전거보관소\",\"KAPTD_ECNTP\":4,\"KAPT_FAX\":\"02-846-2275\",\"KAPT_ACC_COMPANY\":\"에이앤비시스템(주)\",\"KAPT_MGR_CNT\":\"5\",\"KAPT_BCOMPANY\":\"삼성종합건설(주)\",\"CONVENIENT_FACILITY\":\"관공서(동사무소) 병원(원치과) 대형상가(LG하이프라자) 공원(보라매공원) 기타(돈보스코청소년센터)\",\"CODE_DISINF\":\"위탁관리\",\"CODE_EMGR\":\"상주선임\",\"CODE_MGR\":\"위탁관리\",\"KAPTD_PCNTU\":\"0\",\"CODE_EMAINT\":\"-\",\"KAPT_MCAREA\":0,\"CODE_ELEV\":\"위탁관리\",\"KAPT_MEAREA\":0,\"CODE_NET\":\"무\",\"KAPT_MHAREA\":0,\"KAPT_USEDATE\":\"1984-04-14\",\"KAPTD_WTIMEBUS\":\"5~10분이내\",\"KAPT_CODE\":\"A15005603\",\"CODE_APT\":\"아파트\",\"CODE_WSUPPLY\":\"고가수조식\",\"KAPT_MPAREA\":0,\"KAPT_MAREA\":21766.32,\"KAPT_PAREA\":0,\"KAPT_TAREA\":30549.74,\"CODE_FALARM\":\"P형\",\"KAPTD_SEC_COM\":\"희망코리아(주)\",\"KAPTD_ECAPA\":\"700\",\"CODE_STR\":\"철근콘크리트구조\",\"APPL_CODE\":null,\"KAPT_ME1AREA\":0,\"KAPT_ACOMPANY\":\"삼성종합건설(주)\",\"KAPT_ME2AREA\":0,\"KAPT_ME3AREA\":0,\"CODE_GARBAGE\":\"음식물쓰레기종량제\",\"KAPT_ME4AREA\":0,\"KAPT_ME5AREA\":0,\"CODE_CLTIME\":\"7\",\"CODE_HALL\":\"복도식\",\"CODE_STIME\":\"14\",\"KAPT_NAME\":\"신길삼성\",\"KAPT_DONG_CNT\":\"2\",\"CODE_CLEAN\":\"위탁관리\",\"CODE_SALE\":\"분양\",\"CODE_SEC\":\"위탁관리\",\"EMPTY_HO_CNT\":null,\"APPL_PRODATE\":\"\",\"KAPT_URL\":\"-\",\"KAPTD_CLCNT\":\"3\",\"KAPTD_PCNT\":\"218\",\"KAPTD_WTIMESUB\":\"5~10분이내\",\"KAPTD_DCNT\":\"12\",\"EDUCATION_FACILITY\":\"초등학교(대길초등학교) 중학교(대방중학교) 고등학교(영신고등학교)\",\"KAPT_CCOMPANY\":\"율산개발(주)\"},\"resultMap_kapt_areacnt\":[{\"KAPTDA_CNT\":120,\"AREA_GBN\":1,\"KAPT_CODE\":\"A15005603\"},{\"KAPTDA_CNT\":264,\"AREA_GBN\":2,\"KAPT_CODE\":\"A15005603\"},{\"KAPTDA_CNT\":null,\"AREA_GBN\":3,\"KAPT_CODE\":null},{\"KAPTDA_CNT\":null,\"AREA_GBN\":4,\"KAPT_CODE\":null}],\"resultMap_kapt_addrList\":[{\"ADDR\":\"서울특별시 영등포구 신길동 4759 삼성아파트\",\"KAPT_CODE\":\"A15005603\",\"ADDR_GBN\":\"B\"},{\"ADDR\":\"서울특별시 영등포구 여의대방로 45\",\"KAPT_CODE\":\"A15005603\",\"ADDR_GBN\":\"R\"}]}\n",
      "{\"resultMap_match\":{\"KAPT_CODE\":\"A15005603\",\"TOWN_CODE\":1052},\"resultMap_kapt\":{\"KAPT_NAME\":\"신길삼성\",\"CODE_SALE\":\"분양\",\"CODE_HEAT\":\"개별난방\",\"KAPT_TAREA\":30549.74,\"KAPT_DONG_CNT\":\"2\",\"KAPT_BCOMPANY\":\"삼성종합건설(주)\",\"KAPT_ACOMPANY\":\"삼성종합건설(주)\",\"KAPT_TEL\":\"02-846-2273\",\"KAPT_FAX\":\"02-846-2275\",\"KAPT_URL\":\"-\",\"CODE_APT\":\"아파트\",\"CODE_MGR\":\"위탁관리\",\"KAPT_MGR_CNT\":\"5\",\"KAPT_CCOMPANY\":\"율산개발(주)\",\"CODE_SEC\":\"위탁관리\",\"KAPTD_SCNT\":\"4\",\"KAPTD_SEC_COM\":\"희망코리아(주)\",\"CODE_CLEAN\":\"위탁관리\",\"KAPTD_CLCNT\":\"3\",\"CODE_GARBAGE\":\"음식물쓰레기종량제\",\"CODE_DISINF\":\"위탁관리\",\"KAPTD_DCNT\":\"12\",\"DISPOSAL_TYPE\":\"도포식,분무식,독이식\",\"KAPTD_PCNT\":\"218\",\"KAPTD_PCNTU\":\"0\",\"KAPTD_CCCNT\":\"41\",\"WELFARE_FACILITY\":\"관리사무소, 노인정, 어린이놀이터, 자전거보관소\",\"KAPTD_ECAPA\":\"700\",\"CODE_EMGR\":\"상주선임\",\"CODE_WSUPPLY\":\"고가수조식\",\"CODE_STR\":\"철근콘크리트구조\",\"CODE_ECON\":\"단일계약\",\"CODE_FALARM\":\"P형\",\"CODE_ELEV\":\"위탁관리\",\"CODE_NET\":\"무\",\"KAPTD_WTIMEBUS\":\"5~10분이내\",\"CONVENIENT_FACILITY\":\"관공서(동사무소) 병원(원치과) 대형상가(LG하이프라자) 공원(보라매공원) 기타(돈보스코청소년센터)\",\"EDUCATION_FACILITY\":\"초등학교(대길초등학교) 중학교(대방중학교) 고등학교(영신고등학교)\",\"CODE_HALL\":\"복도식\",\"KAPT_USEDATE\":\"1984-04-14\",\"KAPT_MAREA\":21766.32,\"SUBWAY_STATION\":\"신풍\",\"SUBWAY_LINE\":\"7호선\",\"KAPTD_WTIMESUB\":\"5~10분이내\",\"KAPT_CODE\":\"A15005603\"},\"resultMap_kapt_areacnt\":[{\"KAPTDA_CNT\":120,\"AREA_GBN\":1,\"KAPT_CODE\":\"A15005603\"},{\"KAPTDA_CNT\":264,\"AREA_GBN\":2,\"KAPT_CODE\":\"A15005603\"},{\"KAPTDA_CNT\":0,\"AREA_GBN\":3,\"KAPT_CODE\":\"\"},{\"KAPTDA_CNT\":0,\"AREA_GBN\":4,\"KAPT_CODE\":\"\"}],\"resultMap_kapt_addrList\":[{\"ADDR\":\"서울특별시 영등포구 신길동 4759 삼성아파트\",\"KAPT_CODE\":\"A15005603\",\"ADDR_GBN\":\"B\"},{\"ADDR\":\"서울특별시 영등포구 여의대방로 45\",\"KAPT_CODE\":\"A15005603\",\"ADDR_GBN\":\"R\"}]}\n",
      "13 / 23 신길삼성 처리완료\n"
     ]
    },
    {
     "name": "stderr",
     "output_type": "stream",
     "text": [
      "2018/03/22 21:24:44 example.com 200 OK\n"
     ]
    },
    {
     "name": "stdout",
     "output_type": "stream",
     "text": [
      "{\"resultMap_match\":{\"KAPT_CODE\":\"A15005402\",\"TOWN_CODE\":1053},\"resultMap_kapt\":{\"CODE_HEAT\":\"개별난방\",\"SUBWAY_STATION\":\"신풍\",\"SUBWAY_LINE\":\"1호선, 5호선, 7호선\",\"KAPT_PE1AREA\":0,\"KAPT_PE2AREA\":0,\"KAPT_PE3AREA\":0,\"KAPT_PEAREA\":0,\"KAPT_PE4AREA\":0,\"DISPOSAL_TYPE\":\"도포식,분무식,독이식\",\"KAPT_PE5AREA\":0,\"KAPTD_ECNTB\":0,\"KAPTD_ECNTC\":0,\"KAPT_PHAREA\":0,\"KAPTD_ECNTD\":0,\"KAPTD_SCNT\":\"13\",\"KAPTD_ECNTE\":18,\"CODE_ECON\":\"단일계약\",\"KAPT_PPAREA\":0,\"KAPTD_CCCNT\":\"126\",\"KAPTD_ECNTM\":0,\"KAPT_TEL\":\"02-832-7937\",\"WELFARE_FACILITY\":\"관리사무소, 노인정, 보육시설, 주민공동시설, 어린이놀이터, 자전거보관소\",\"KAPTD_ECNTP\":18,\"KAPT_FAX\":\"02-832-7938\",\"KAPT_ACC_COMPANY\":\"홍진테이타\",\"KAPT_MGR_CNT\":\"8\",\"KAPT_BCOMPANY\":\"삼성물산\",\"CONVENIENT_FACILITY\":\"관공서(동사무소) 병원(황치과) 대형상가(사러가쇼핑센터) 공원(매낙골공원)\",\"CODE_DISINF\":\"위탁관리\",\"CODE_EMGR\":\"상주선임\",\"CODE_MGR\":\"위탁관리\",\"KAPTD_PCNTU\":\"853\",\"CODE_EMAINT\":\"위탁관리\",\"KAPT_MCAREA\":15684.5,\"CODE_ELEV\":\"위탁관리\",\"KAPT_MEAREA\":0,\"CODE_NET\":\"무\",\"KAPT_MHAREA\":0,\"KAPT_USEDATE\":\"2001-06-15\",\"KAPTD_WTIMEBUS\":\"5~10분이내\",\"KAPT_CODE\":\"A15005402\",\"CODE_APT\":\"아파트\",\"CODE_WSUPPLY\":\"고가수조식\",\"KAPT_MPAREA\":68836.36,\"KAPT_MAREA\":71552.57,\"KAPT_PAREA\":0,\"KAPT_TAREA\":111955.89,\"CODE_FALARM\":\"GR형\",\"KAPTD_SEC_COM\":\"(주)엘림테크\",\"KAPTD_ECAPA\":\"3600\",\"CODE_STR\":\"철근콘크리트구조\",\"APPL_CODE\":null,\"KAPT_ME1AREA\":0,\"KAPT_ACOMPANY\":\"신길2-3지구주택재개발조합\",\"KAPT_ME2AREA\":0,\"KAPT_ME3AREA\":0,\"CODE_GARBAGE\":\"음식물쓰레기종량제\",\"KAPT_ME4AREA\":0,\"KAPT_ME5AREA\":0,\"CODE_CLTIME\":\"5\",\"CODE_HALL\":\"혼합식\",\"CODE_STIME\":\"24\",\"KAPT_NAME\":\"신길삼성래미안\",\"KAPT_DONG_CNT\":\"12\",\"CODE_CLEAN\":\"위탁관리\",\"CODE_SALE\":\"분양\",\"CODE_SEC\":\"위탁관리\",\"EMPTY_HO_CNT\":32,\"APPL_PRODATE\":\"\",\"KAPT_URL\":\"-\",\"KAPTD_CLCNT\":\"8\",\"KAPTD_PCNT\":\"122\",\"KAPTD_WTIMESUB\":\"5~10분이내\",\"KAPTD_DCNT\":\"12\",\"EDUCATION_FACILITY\":\"초등학교(우신초등학교)\",\"KAPT_CCOMPANY\":\"서일개발\"},\"resultMap_kapt_areacnt\":[{\"KAPTDA_CNT\":214,\"AREA_GBN\":1,\"KAPT_CODE\":\"A15005402\"},{\"KAPTDA_CNT\":382,\"AREA_GBN\":2,\"KAPT_CODE\":\"A15005402\"},{\"KAPTDA_CNT\":230,\"AREA_GBN\":3,\"KAPT_CODE\":\"A15005402\"},{\"KAPTDA_CNT\":null,\"AREA_GBN\":4,\"KAPT_CODE\":null}],\"resultMap_kapt_addrList\":[{\"ADDR\":\"서울특별시 영등포구 신길동 4934-17 삼성래미안아파트\",\"KAPT_CODE\":\"A15005402\",\"ADDR_GBN\":\"B\"},{\"ADDR\":\"서울특별시 영등포구 신길동 4934-2 삼성래미안아파트\",\"KAPT_CODE\":\"A15005402\",\"ADDR_GBN\":\"B\"},{\"ADDR\":\"서울특별시 영등포구 신길동 4934 삼성래미안아파트\",\"KAPT_CODE\":\"A15005402\",\"ADDR_GBN\":\"B\"},{\"ADDR\":\"서울특별시 영등포구 가마산로79길 7\",\"KAPT_CODE\":\"A15005402\",\"ADDR_GBN\":\"R\"},{\"ADDR\":\"서울특별시 영등포구 도신로48길 35\",\"KAPT_CODE\":\"A15005402\",\"ADDR_GBN\":\"R\"}]}\n",
      "{\"resultMap_match\":{\"KAPT_CODE\":\"A15005402\",\"TOWN_CODE\":1053},\"resultMap_kapt\":{\"KAPT_NAME\":\"신길삼성래미안\",\"CODE_SALE\":\"분양\",\"CODE_HEAT\":\"개별난방\",\"KAPT_TAREA\":111955.89,\"KAPT_DONG_CNT\":\"12\",\"KAPT_BCOMPANY\":\"삼성물산\",\"KAPT_ACOMPANY\":\"신길2-3지구주택재개발조합\",\"KAPT_TEL\":\"02-832-7937\",\"KAPT_FAX\":\"02-832-7938\",\"KAPT_URL\":\"-\",\"CODE_APT\":\"아파트\",\"CODE_MGR\":\"위탁관리\",\"KAPT_MGR_CNT\":\"8\",\"KAPT_CCOMPANY\":\"서일개발\",\"CODE_SEC\":\"위탁관리\",\"KAPTD_SCNT\":\"13\",\"KAPTD_SEC_COM\":\"(주)엘림테크\",\"CODE_CLEAN\":\"위탁관리\",\"KAPTD_CLCNT\":\"8\",\"CODE_GARBAGE\":\"음식물쓰레기종량제\",\"CODE_DISINF\":\"위탁관리\",\"KAPTD_DCNT\":\"12\",\"DISPOSAL_TYPE\":\"도포식,분무식,독이식\",\"KAPTD_PCNT\":\"122\",\"KAPTD_PCNTU\":\"853\",\"KAPTD_CCCNT\":\"126\",\"WELFARE_FACILITY\":\"관리사무소, 노인정, 보육시설, 주민공동시설, 어린이놀이터, 자전거보관소\",\"KAPTD_ECAPA\":\"3600\",\"CODE_EMGR\":\"상주선임\",\"CODE_WSUPPLY\":\"고가수조식\",\"CODE_STR\":\"철근콘크리트구조\",\"CODE_ECON\":\"단일계약\",\"CODE_FALARM\":\"GR형\",\"CODE_ELEV\":\"위탁관리\",\"CODE_NET\":\"무\",\"KAPTD_WTIMEBUS\":\"5~10분이내\",\"CONVENIENT_FACILITY\":\"관공서(동사무소) 병원(황치과) 대형상가(사러가쇼핑센터) 공원(매낙골공원)\",\"EDUCATION_FACILITY\":\"초등학교(우신초등학교)\",\"CODE_HALL\":\"혼합식\",\"KAPT_USEDATE\":\"2001-06-15\",\"KAPT_MAREA\":71552.57,\"SUBWAY_STATION\":\"신풍\",\"SUBWAY_LINE\":\"1호선, 5호선, 7호선\",\"KAPTD_WTIMESUB\":\"5~10분이내\",\"KAPT_CODE\":\"A15005402\"},\"resultMap_kapt_areacnt\":[{\"KAPTDA_CNT\":214,\"AREA_GBN\":1,\"KAPT_CODE\":\"A15005402\"},{\"KAPTDA_CNT\":382,\"AREA_GBN\":2,\"KAPT_CODE\":\"A15005402\"},{\"KAPTDA_CNT\":230,\"AREA_GBN\":3,\"KAPT_CODE\":\"A15005402\"},{\"KAPTDA_CNT\":0,\"AREA_GBN\":4,\"KAPT_CODE\":\"\"}],\"resultMap_kapt_addrList\":[{\"ADDR\":\"서울특별시 영등포구 신길동 4934-17 삼성래미안아파트\",\"KAPT_CODE\":\"A15005402\",\"ADDR_GBN\":\"B\"},{\"ADDR\":\"서울특별시 영등포구 신길동 4934-2 삼성래미안아파트\",\"KAPT_CODE\":\"A15005402\",\"ADDR_GBN\":\"B\"},{\"ADDR\":\"서울특별시 영등포구 신길동 4934 삼성래미안아파트\",\"KAPT_CODE\":\"A15005402\",\"ADDR_GBN\":\"B\"},{\"ADDR\":\"서울특별시 영등포구 가마산로79길 7\",\"KAPT_CODE\":\"A15005402\",\"ADDR_GBN\":\"R\"},{\"ADDR\":\"서울특별시 영등포구 도신로48길 35\",\"KAPT_CODE\":\"A15005402\",\"ADDR_GBN\":\"R\"}]}\n",
      "14 / 23 신길삼성래미안 처리완료\n"
     ]
    },
    {
     "name": "stderr",
     "output_type": "stream",
     "text": [
      "2018/03/22 21:24:44 example.com 200 OK\n",
      "2018/03/22 21:24:45 example.com 200 OK\n"
     ]
    },
    {
     "name": "stdout",
     "output_type": "stream",
     "text": [
      "{\"resultMap_match\":{\"KAPT_CODE\":\"A15005401\",\"TOWN_CODE\":1053},\"resultMap_kapt\":{\"CODE_HEAT\":\"개별난방\",\"SUBWAY_STATION\":\"1호선-영등포역,5호선-신길역,7호선-신풍역\",\"SUBWAY_LINE\":\"1호선, 5호선, 7호선\",\"KAPT_PE1AREA\":0,\"KAPT_PE2AREA\":0,\"KAPT_PE3AREA\":0,\"KAPT_PEAREA\":0,\"KAPT_PE4AREA\":0,\"DISPOSAL_TYPE\":\"도포식,분무식\",\"KAPT_PE5AREA\":0,\"KAPTD_ECNTB\":0,\"KAPTD_ECNTC\":0,\"KAPT_PHAREA\":0,\"KAPTD_ECNTD\":0,\"KAPTD_SCNT\":\"3\",\"KAPTD_ECNTE\":0,\"CODE_ECON\":\"단일계약\",\"KAPT_PPAREA\":0,\"KAPTD_CCCNT\":\"36\",\"KAPTD_ECNTM\":0,\"KAPT_TEL\":\"02-836-3272\",\"WELFARE_FACILITY\":\"관리사무소, 노인정, 어린이놀이터, 자전거보관소\",\"KAPTD_ECNTP\":4,\"KAPT_FAX\":\"02-836-3273\",\"KAPT_ACC_COMPANY\":\"-\",\"KAPT_MGR_CNT\":\"9\",\"KAPT_BCOMPANY\":\"삼성물산주식회사\",\"CONVENIENT_FACILITY\":\"관공서(신길4동 주민센터) 병원(엔젤병원) 백화점(롯데백화점) 대형상가(사러가쇼핑센터) 공원(삼성공원)\",\"CODE_DISINF\":\"위탁관리\",\"CODE_EMGR\":\"위탁선임\",\"CODE_MGR\":\"자치관리(직영)\",\"KAPTD_PCNTU\":\"86\",\"CODE_EMAINT\":\"위탁관리\",\"KAPT_MCAREA\":8317,\"CODE_ELEV\":\"위탁관리\",\"KAPT_MEAREA\":0,\"CODE_NET\":\"무\",\"KAPT_MHAREA\":0,\"KAPT_USEDATE\":\"2001-06-15\",\"KAPTD_WTIMEBUS\":\"15~20분이내\",\"KAPT_CODE\":\"A15005401\",\"CODE_APT\":\"아파트\",\"CODE_WSUPPLY\":\"고가수조식\",\"KAPT_MPAREA\":12747.7,\"KAPT_MAREA\":12747.78,\"KAPT_PAREA\":0,\"KAPT_TAREA\":21067,\"CODE_FALARM\":\"P형\",\"KAPTD_SEC_COM\":\"(주)세원종합관리\",\"KAPTD_ECAPA\":\"850\",\"CODE_STR\":\"철근콘크리트구조\",\"APPL_CODE\":null,\"KAPT_ME1AREA\":0,\"KAPT_ACOMPANY\":\"삼성물산주식회사\",\"KAPT_ME2AREA\":0,\"KAPT_ME3AREA\":0,\"CODE_GARBAGE\":\"기타\",\"KAPT_ME4AREA\":0,\"KAPT_ME5AREA\":0,\"CODE_CLTIME\":\"6\",\"CODE_HALL\":\"복도식\",\"CODE_STIME\":\"24\",\"KAPT_NAME\":\"신길삼성제2\",\"KAPT_DONG_CNT\":\"1\",\"CODE_CLEAN\":\"위탁관리\",\"CODE_SALE\":\"임대\",\"CODE_SEC\":\"위탁관리\",\"EMPTY_HO_CNT\":4,\"APPL_PRODATE\":\"\",\"KAPT_URL\":\"happy.i-sh.co.kr/main.do?deptid=70169\",\"KAPTD_CLCNT\":\"2\",\"KAPTD_PCNT\":\"90\",\"KAPTD_WTIMESUB\":\"15~20분이내\",\"KAPTD_DCNT\":\"6\",\"EDUCATION_FACILITY\":\"초등학교(우신초등학교) 중학교(영원중학교)\",\"KAPT_CCOMPANY\":\"-\"},\"resultMap_kapt_areacnt\":[{\"KAPTDA_CNT\":387,\"AREA_GBN\":1,\"KAPT_CODE\":\"A15005401\"},{\"KAPTDA_CNT\":null,\"AREA_GBN\":2,\"KAPT_CODE\":null},{\"KAPTDA_CNT\":null,\"AREA_GBN\":3,\"KAPT_CODE\":null},{\"KAPTDA_CNT\":null,\"AREA_GBN\":4,\"KAPT_CODE\":null}],\"resultMap_kapt_addrList\":[{\"ADDR\":\"서울특별시 영등포구 신길동 4934-2 삼성래미안아파트\",\"KAPT_CODE\":\"A15005401\",\"ADDR_GBN\":\"B\"},{\"ADDR\":\"서울특별시 영등포구 신길로42길 25\",\"KAPT_CODE\":\"A15005401\",\"ADDR_GBN\":\"R\"}]}\n",
      "{\"resultMap_match\":{\"KAPT_CODE\":\"A15005401\",\"TOWN_CODE\":1053},\"resultMap_kapt\":{\"KAPT_NAME\":\"신길삼성제2\",\"CODE_SALE\":\"임대\",\"CODE_HEAT\":\"개별난방\",\"KAPT_TAREA\":21067,\"KAPT_DONG_CNT\":\"1\",\"KAPT_BCOMPANY\":\"삼성물산주식회사\",\"KAPT_ACOMPANY\":\"삼성물산주식회사\",\"KAPT_TEL\":\"02-836-3272\",\"KAPT_FAX\":\"02-836-3273\",\"KAPT_URL\":\"happy.i-sh.co.kr/main.do?deptid=70169\",\"CODE_APT\":\"아파트\",\"CODE_MGR\":\"자치관리(직영)\",\"KAPT_MGR_CNT\":\"9\",\"KAPT_CCOMPANY\":\"-\",\"CODE_SEC\":\"위탁관리\",\"KAPTD_SCNT\":\"3\",\"KAPTD_SEC_COM\":\"(주)세원종합관리\",\"CODE_CLEAN\":\"위탁관리\",\"KAPTD_CLCNT\":\"2\",\"CODE_GARBAGE\":\"기타\",\"CODE_DISINF\":\"위탁관리\",\"KAPTD_DCNT\":\"6\",\"DISPOSAL_TYPE\":\"도포식,분무식\",\"KAPTD_PCNT\":\"90\",\"KAPTD_PCNTU\":\"86\",\"KAPTD_CCCNT\":\"36\",\"WELFARE_FACILITY\":\"관리사무소, 노인정, 어린이놀이터, 자전거보관소\",\"KAPTD_ECAPA\":\"850\",\"CODE_EMGR\":\"위탁선임\",\"CODE_WSUPPLY\":\"고가수조식\",\"CODE_STR\":\"철근콘크리트구조\",\"CODE_ECON\":\"단일계약\",\"CODE_FALARM\":\"P형\",\"CODE_ELEV\":\"위탁관리\",\"CODE_NET\":\"무\",\"KAPTD_WTIMEBUS\":\"15~20분이내\",\"CONVENIENT_FACILITY\":\"관공서(신길4동 주민센터) 병원(엔젤병원) 백화점(롯데백화점) 대형상가(사러가쇼핑센터) 공원(삼성공원)\",\"EDUCATION_FACILITY\":\"초등학교(우신초등학교) 중학교(영원중학교)\",\"CODE_HALL\":\"복도식\",\"KAPT_USEDATE\":\"2001-06-15\",\"KAPT_MAREA\":12747.78,\"SUBWAY_STATION\":\"1호선-영등포역,5호선-신길역,7호선-신풍역\",\"SUBWAY_LINE\":\"1호선, 5호선, 7호선\",\"KAPTD_WTIMESUB\":\"15~20분이내\",\"KAPT_CODE\":\"A15005401\"},\"resultMap_kapt_areacnt\":[{\"KAPTDA_CNT\":387,\"AREA_GBN\":1,\"KAPT_CODE\":\"A15005401\"},{\"KAPTDA_CNT\":0,\"AREA_GBN\":2,\"KAPT_CODE\":\"\"},{\"KAPTDA_CNT\":0,\"AREA_GBN\":3,\"KAPT_CODE\":\"\"},{\"KAPTDA_CNT\":0,\"AREA_GBN\":4,\"KAPT_CODE\":\"\"}],\"resultMap_kapt_addrList\":[{\"ADDR\":\"서울특별시 영등포구 신길동 4934-2 삼성래미안아파트\",\"KAPT_CODE\":\"A15005401\",\"ADDR_GBN\":\"B\"},{\"ADDR\":\"서울특별시 영등포구 신길로42길 25\",\"KAPT_CODE\":\"A15005401\",\"ADDR_GBN\":\"R\"}]}\n",
      "15 / 23 신길삼성제2 처리완료\n"
     ]
    },
    {
     "name": "stderr",
     "output_type": "stream",
     "text": [
      "2018/03/22 21:24:45 example.com 200 OK\n"
     ]
    },
    {
     "name": "stdout",
     "output_type": "stream",
     "text": [
      "{\"resultMap_match\":{\"KAPT_CODE\":\"A15005705\",\"TOWN_CODE\":1054},\"resultMap_kapt\":{\"CODE_HEAT\":\"중앙난방\",\"SUBWAY_STATION\":\"신풍\",\"SUBWAY_LINE\":\"1호선, 7호선\",\"KAPT_PE1AREA\":0,\"KAPT_PE2AREA\":0,\"KAPT_PE3AREA\":0,\"KAPT_PEAREA\":0,\"KAPT_PE4AREA\":0,\"DISPOSAL_TYPE\":\"분무식,독이식\",\"KAPT_PE5AREA\":0,\"KAPTD_ECNTB\":0,\"KAPTD_ECNTC\":0,\"KAPT_PHAREA\":0,\"KAPTD_ECNTD\":0,\"KAPTD_SCNT\":\"22\",\"KAPTD_ECNTE\":0,\"CODE_ECON\":\"종합계약\",\"KAPT_PPAREA\":0,\"KAPTD_CCCNT\":\"147\",\"KAPTD_ECNTM\":0,\"KAPT_TEL\":\"02-833-0286~7\",\"WELFARE_FACILITY\":\"관리사무소, 노인정, 보육시설, 어린이놀이터\",\"KAPTD_ECNTP\":26,\"KAPT_FAX\":\"02-833-0289\",\"KAPT_ACC_COMPANY\":\"-\",\"KAPT_MGR_CNT\":\"14\",\"KAPT_BCOMPANY\":\"삼환기업\",\"CONVENIENT_FACILITY\":\"관공서(동사무소)\",\"CODE_DISINF\":\"위탁관리\",\"CODE_EMGR\":\"상주선임\",\"CODE_MGR\":\"위탁관리\",\"KAPTD_PCNTU\":\"608\",\"CODE_EMAINT\":\"위탁관리\",\"KAPT_MCAREA\":0,\"CODE_ELEV\":\"위탁관리\",\"KAPT_MEAREA\":0,\"CODE_NET\":\"무\",\"KAPT_MHAREA\":0,\"KAPT_USEDATE\":\"1997-05-10\",\"KAPTD_WTIMEBUS\":\"5~10분이내\",\"KAPT_CODE\":\"A15005705\",\"CODE_APT\":\"아파트\",\"CODE_WSUPPLY\":\"고가수조식\",\"KAPT_MPAREA\":117110.614,\"KAPT_MAREA\":87502.98,\"KAPT_PAREA\":0,\"KAPT_TAREA\":131665.768,\"CODE_FALARM\":\"P형\",\"KAPTD_SEC_COM\":\"(주)경진관리\",\"KAPTD_ECAPA\":\"2750\",\"CODE_STR\":\"철근콘크리트구조\",\"APPL_CODE\":null,\"KAPT_ME1AREA\":0,\"KAPT_ACOMPANY\":\"군인공제회\",\"KAPT_ME2AREA\":0,\"KAPT_ME3AREA\":0,\"CODE_GARBAGE\":\"음식물쓰레기종량제\",\"KAPT_ME4AREA\":0,\"KAPT_ME5AREA\":0,\"CODE_CLTIME\":\"5\",\"CODE_HALL\":\"계단식\",\"CODE_STIME\":\"18\",\"KAPT_NAME\":\"신길삼환\",\"KAPT_DONG_CNT\":\"11\",\"CODE_CLEAN\":\"위탁관리\",\"CODE_SALE\":\"분양\",\"CODE_SEC\":\"위탁관리\",\"EMPTY_HO_CNT\":0,\"APPL_PRODATE\":\"\",\"KAPT_URL\":\"신길삼환.apti.co.kr\",\"KAPTD_CLCNT\":\"10\",\"KAPTD_PCNT\":\"496\",\"KAPTD_WTIMESUB\":\"5~10분이내\",\"KAPTD_DCNT\":\"12\",\"EDUCATION_FACILITY\":\"초등학교(대방초등학교) 중학교(강남중교) 고등학교(서울공업고교)\",\"KAPT_CCOMPANY\":\"(주)경진관리\"},\"resultMap_kapt_areacnt\":[{\"KAPTDA_CNT\":478,\"AREA_GBN\":1,\"KAPT_CODE\":\"A15005705\"},{\"KAPTDA_CNT\":696,\"AREA_GBN\":2,\"KAPT_CODE\":\"A15005705\"},{\"KAPTDA_CNT\":null,\"AREA_GBN\":3,\"KAPT_CODE\":null},{\"KAPTDA_CNT\":null,\"AREA_GBN\":4,\"KAPT_CODE\":null}],\"resultMap_kapt_addrList\":[{\"ADDR\":\"서울특별시 영등포구 신길동 897-1 삼환아파트\",\"KAPT_CODE\":\"A15005705\",\"ADDR_GBN\":\"B\"},{\"ADDR\":\"서울특별시 영등포구 여의대방로43나길 25\",\"KAPT_CODE\":\"A15005705\",\"ADDR_GBN\":\"R\"},{\"ADDR\":\"서울특별시 영등포구 여의대방로43라길 9\",\"KAPT_CODE\":\"A15005705\",\"ADDR_GBN\":\"R\"}]}\n",
      "{\"resultMap_match\":{\"KAPT_CODE\":\"A15005705\",\"TOWN_CODE\":1054},\"resultMap_kapt\":{\"KAPT_NAME\":\"신길삼환\",\"CODE_SALE\":\"분양\",\"CODE_HEAT\":\"중앙난방\",\"KAPT_TAREA\":131665.768,\"KAPT_DONG_CNT\":\"11\",\"KAPT_BCOMPANY\":\"삼환기업\",\"KAPT_ACOMPANY\":\"군인공제회\",\"KAPT_TEL\":\"02-833-0286~7\",\"KAPT_FAX\":\"02-833-0289\",\"KAPT_URL\":\"신길삼환.apti.co.kr\",\"CODE_APT\":\"아파트\",\"CODE_MGR\":\"위탁관리\",\"KAPT_MGR_CNT\":\"14\",\"KAPT_CCOMPANY\":\"(주)경진관리\",\"CODE_SEC\":\"위탁관리\",\"KAPTD_SCNT\":\"22\",\"KAPTD_SEC_COM\":\"(주)경진관리\",\"CODE_CLEAN\":\"위탁관리\",\"KAPTD_CLCNT\":\"10\",\"CODE_GARBAGE\":\"음식물쓰레기종량제\",\"CODE_DISINF\":\"위탁관리\",\"KAPTD_DCNT\":\"12\",\"DISPOSAL_TYPE\":\"분무식,독이식\",\"KAPTD_PCNT\":\"496\",\"KAPTD_PCNTU\":\"608\",\"KAPTD_CCCNT\":\"147\",\"WELFARE_FACILITY\":\"관리사무소, 노인정, 보육시설, 어린이놀이터\",\"KAPTD_ECAPA\":\"2750\",\"CODE_EMGR\":\"상주선임\",\"CODE_WSUPPLY\":\"고가수조식\",\"CODE_STR\":\"철근콘크리트구조\",\"CODE_ECON\":\"종합계약\",\"CODE_FALARM\":\"P형\",\"CODE_ELEV\":\"위탁관리\",\"CODE_NET\":\"무\",\"KAPTD_WTIMEBUS\":\"5~10분이내\",\"CONVENIENT_FACILITY\":\"관공서(동사무소)\",\"EDUCATION_FACILITY\":\"초등학교(대방초등학교) 중학교(강남중교) 고등학교(서울공업고교)\",\"CODE_HALL\":\"계단식\",\"KAPT_USEDATE\":\"1997-05-10\",\"KAPT_MAREA\":87502.98,\"SUBWAY_STATION\":\"신풍\",\"SUBWAY_LINE\":\"1호선, 7호선\",\"KAPTD_WTIMESUB\":\"5~10분이내\",\"KAPT_CODE\":\"A15005705\"},\"resultMap_kapt_areacnt\":[{\"KAPTDA_CNT\":478,\"AREA_GBN\":1,\"KAPT_CODE\":\"A15005705\"},{\"KAPTDA_CNT\":696,\"AREA_GBN\":2,\"KAPT_CODE\":\"A15005705\"},{\"KAPTDA_CNT\":0,\"AREA_GBN\":3,\"KAPT_CODE\":\"\"},{\"KAPTDA_CNT\":0,\"AREA_GBN\":4,\"KAPT_CODE\":\"\"}],\"resultMap_kapt_addrList\":[{\"ADDR\":\"서울특별시 영등포구 신길동 897-1 삼환아파트\",\"KAPT_CODE\":\"A15005705\",\"ADDR_GBN\":\"B\"},{\"ADDR\":\"서울특별시 영등포구 여의대방로43나길 25\",\"KAPT_CODE\":\"A15005705\",\"ADDR_GBN\":\"R\"},{\"ADDR\":\"서울특별시 영등포구 여의대방로43라길 9\",\"KAPT_CODE\":\"A15005705\",\"ADDR_GBN\":\"R\"}]}\n",
      "16 / 23 신길삼환 처리완료\n",
      "{\"resultMap_match\":{\"KAPT_CODE\":\"A15086007\",\"TOWN_CODE\":1058},\"resultMap_kapt\":{\"CODE_HEAT\":\"개별난방\",\"SUBWAY_STATION\":\"신풍\",\"SUBWAY_LINE\":\"7호선\",\"KAPT_PE1AREA\":0,\"KAPT_PE2AREA\":0,\"KAPT_PE3AREA\":0,\"KAPT_PEAREA\":0,\"KAPT_PE4AREA\":0,\"DISPOSAL_TYPE\":\"분무식,독이식\",\"KAPT_PE5AREA\":0,\"KAPTD_ECNTB\":16,\"KAPTD_ECNTC\":0,\"KAPT_PHAREA\":0,\"KAPTD_ECNTD\":0,\"KAPTD_SCNT\":\"9\",\"KAPTD_ECNTE\":0,\"CODE_ECON\":\"종합계약\",\"KAPT_PPAREA\":0,\"KAPTD_CCCNT\":\"16\",\"KAPTD_ECNTM\":0,\"KAPT_TEL\":\"028320181\",\"WELFARE_FACILITY\":\"관리사무소, 노인정, 어린이놀이터, 자전거보관소\",\"KAPTD_ECNTP\":0,\"KAPT_FAX\":\"028320182\",\"KAPT_ACC_COMPANY\":\"-\",\"KAPT_MGR_CNT\":\"7\",\"KAPT_BCOMPANY\":\"우성건설\",\"CONVENIENT_FACILITY\":\"관공서(동사무소) 병원(현대의원) 공원(보라매공원) 기타(돈보스코청소년센터)\",\"CODE_DISINF\":\"위탁관리\",\"CODE_EMGR\":\"상주선임\",\"CODE_MGR\":\"위탁관리\",\"KAPTD_PCNTU\":\"0\",\"CODE_EMAINT\":\"위탁관리\",\"KAPT_MCAREA\":0,\"CODE_ELEV\":\"위탁관리\",\"KAPT_MEAREA\":0,\"CODE_NET\":\"무\",\"KAPT_MHAREA\":0,\"KAPT_USEDATE\":\"1986-09-25\",\"KAPTD_WTIMEBUS\":\"5~10분이내\",\"KAPT_CODE\":\"A15086007\",\"CODE_APT\":\"아파트\",\"CODE_WSUPPLY\":\"고가수조식\",\"KAPT_MPAREA\":0,\"KAPT_MAREA\":51973.9,\"KAPT_PAREA\":0,\"KAPT_TAREA\":68385.75,\"CODE_FALARM\":\"P형\",\"KAPTD_SEC_COM\":\"스마일종합관리\",\"KAPTD_ECAPA\":\"1870\",\"CODE_STR\":\"철근콘크리트구조\",\"APPL_CODE\":null,\"KAPT_ME1AREA\":0,\"KAPT_ACOMPANY\":\"우성건설\",\"KAPT_ME2AREA\":0,\"KAPT_ME3AREA\":0,\"CODE_GARBAGE\":\"음식물쓰레기종량제\",\"KAPT_ME4AREA\":0,\"KAPT_ME5AREA\":0,\"CODE_CLTIME\":\"5\",\"CODE_HALL\":\"혼합식\",\"CODE_STIME\":\"7\",\"KAPT_NAME\":\"신길우성2차\",\"KAPT_DONG_CNT\":\"7\",\"CODE_CLEAN\":\"위탁관리\",\"CODE_SALE\":\"분양\",\"CODE_SEC\":\"위탁관리\",\"EMPTY_HO_CNT\":0,\"APPL_PRODATE\":\"\",\"KAPT_URL\":\"-\",\"KAPTD_CLCNT\":\"6\",\"KAPTD_PCNT\":\"297\",\"KAPTD_WTIMESUB\":\"5~10분이내\",\"KAPTD_DCNT\":\"12\",\"EDUCATION_FACILITY\":\"초등학교(대길초등학교) 중학교(대방중학교) 고등학교(영신고등학교)\",\"KAPT_CCOMPANY\":\"대원종합관리(주)\"},\"resultMap_kapt_areacnt\":[{\"KAPTDA_CNT\":120,\"AREA_GBN\":1,\"KAPT_CODE\":\"A15086007\"},{\"KAPTDA_CNT\":605,\"AREA_GBN\":2,\"KAPT_CODE\":\"A15086007\"},{\"KAPTDA_CNT\":null,\"AREA_GBN\":3,\"KAPT_CODE\":null},{\"KAPTDA_CNT\":null,\"AREA_GBN\":4,\"KAPT_CODE\":null}],\"resultMap_kapt_addrList\":[{\"ADDR\":\"서울특별시 영등포구 신길동 4518 우성2\",\"KAPT_CODE\":\"A15086007\",\"ADDR_GBN\":\"B\"},{\"ADDR\":\"서울특별시 영등포구 대방천로 180\",\"KAPT_CODE\":\"A15086007\",\"ADDR_GBN\":\"R\"}]}\n",
      "{\"resultMap_match\":{\"KAPT_CODE\":\"A15086007\",\"TOWN_CODE\":1058},\"resultMap_kapt\":{\"KAPT_NAME\":\"신길우성2차\",\"CODE_SALE\":\"분양\",\"CODE_HEAT\":\"개별난방\",\"KAPT_TAREA\":68385.75,\"KAPT_DONG_CNT\":\"7\",\"KAPT_BCOMPANY\":\"우성건설\",\"KAPT_ACOMPANY\":\"우성건설\",\"KAPT_TEL\":\"028320181\",\"KAPT_FAX\":\"028320182\",\"KAPT_URL\":\"-\",\"CODE_APT\":\"아파트\",\"CODE_MGR\":\"위탁관리\",\"KAPT_MGR_CNT\":\"7\",\"KAPT_CCOMPANY\":\"대원종합관리(주)\",\"CODE_SEC\":\"위탁관리\",\"KAPTD_SCNT\":\"9\",\"KAPTD_SEC_COM\":\"스마일종합관리\",\"CODE_CLEAN\":\"위탁관리\",\"KAPTD_CLCNT\":\"6\",\"CODE_GARBAGE\":\"음식물쓰레기종량제\",\"CODE_DISINF\":\"위탁관리\",\"KAPTD_DCNT\":\"12\",\"DISPOSAL_TYPE\":\"분무식,독이식\",\"KAPTD_PCNT\":\"297\",\"KAPTD_PCNTU\":\"0\",\"KAPTD_CCCNT\":\"16\",\"WELFARE_FACILITY\":\"관리사무소, 노인정, 어린이놀이터, 자전거보관소\",\"KAPTD_ECAPA\":\"1870\",\"CODE_EMGR\":\"상주선임\",\"CODE_WSUPPLY\":\"고가수조식\",\"CODE_STR\":\"철근콘크리트구조\",\"CODE_ECON\":\"종합계약\",\"CODE_FALARM\":\"P형\",\"CODE_ELEV\":\"위탁관리\",\"CODE_NET\":\"무\",\"KAPTD_WTIMEBUS\":\"5~10분이내\",\"CONVENIENT_FACILITY\":\"관공서(동사무소) 병원(현대의원) 공원(보라매공원) 기타(돈보스코청소년센터)\",\"EDUCATION_FACILITY\":\"초등학교(대길초등학교) 중학교(대방중학교) 고등학교(영신고등학교)\",\"CODE_HALL\":\"혼합식\",\"KAPT_USEDATE\":\"1986-09-25\",\"KAPT_MAREA\":51973.9,\"SUBWAY_STATION\":\"신풍\",\"SUBWAY_LINE\":\"7호선\",\"KAPTD_WTIMESUB\":\"5~10분이내\",\"KAPT_CODE\":\"A15086007\"},\"resultMap_kapt_areacnt\":[{\"KAPTDA_CNT\":120,\"AREA_GBN\":1,\"KAPT_CODE\":\"A15086007\"},{\"KAPTDA_CNT\":605,\"AREA_GBN\":2,\"KAPT_CODE\":\"A15086007\"},{\"KAPTDA_CNT\":0,\"AREA_GBN\":3,\"KAPT_CODE\":\"\"},{\"KAPTDA_CNT\":0,\"AREA_GBN\":4,\"KAPT_CODE\":\"\"}],\"resultMap_kapt_addrList\":[{\"ADDR\":\"서울특별시 영등포구 신길동 4518 우성2\",\"KAPT_CODE\":\"A15086007\",\"ADDR_GBN\":\"B\"},{\"ADDR\":\"서울특별시 영등포구 대방천로 180\",\"KAPT_CODE\":\"A15086007\",\"ADDR_GBN\":\"R\"}]}\n",
      "17 / 23 신길우성2차 처리완료\n"
     ]
    },
    {
     "name": "stderr",
     "output_type": "stream",
     "text": [
      "2018/03/22 21:24:45 example.com 200 OK\n"
     ]
    },
    {
     "name": "stdout",
     "output_type": "stream",
     "text": [
      "{\"resultMap_match\":{\"KAPT_CODE\":\"A15086004\",\"TOWN_CODE\":1059},\"resultMap_kapt\":{\"CODE_HEAT\":\"개별난방\",\"SUBWAY_STATION\":\"신풍\",\"SUBWAY_LINE\":\"7호선\",\"KAPT_PE1AREA\":0,\"KAPT_PE2AREA\":0,\"KAPT_PE3AREA\":0,\"KAPT_PEAREA\":0,\"KAPT_PE4AREA\":0,\"DISPOSAL_TYPE\":\"분무식\",\"KAPT_PE5AREA\":0,\"KAPTD_ECNTB\":0,\"KAPTD_ECNTC\":0,\"KAPT_PHAREA\":0,\"KAPTD_ECNTD\":0,\"KAPTD_SCNT\":\"9\",\"KAPTD_ECNTE\":0,\"CODE_ECON\":\"종합계약\",\"KAPT_PPAREA\":0,\"KAPTD_CCCNT\":\"60\",\"KAPTD_ECNTM\":0,\"KAPT_TEL\":\"02-848-3078\",\"WELFARE_FACILITY\":\"관리사무소, 노인정, 어린이놀이터, 자전거보관소\",\"KAPTD_ECNTP\":13,\"KAPT_FAX\":\"02-845-0811\",\"KAPT_ACC_COMPANY\":\"기웅정보통신\",\"KAPT_MGR_CNT\":\"5\",\"KAPT_BCOMPANY\":\"우성건설\",\"CONVENIENT_FACILITY\":\"관공서(동사무소) 병원(이화의원) 대형상가(하이마트-신풍점) 공원(보라매공원) 기타(돈보스코청소년센터)\",\"CODE_DISINF\":\"위탁관리(직영+위탁)\",\"CODE_EMGR\":\"위탁선임\",\"CODE_MGR\":\"자치관리\",\"KAPTD_PCNTU\":\"0\",\"CODE_EMAINT\":\"위탁관리\",\"KAPT_MCAREA\":10440.15,\"CODE_ELEV\":\"위탁관리(직영+위탁)\",\"KAPT_MEAREA\":0,\"CODE_NET\":\"무\",\"KAPT_MHAREA\":0,\"KAPT_USEDATE\":\"1989-04-11\",\"KAPTD_WTIMEBUS\":\"5~10분이내\",\"KAPT_CODE\":\"A15086004\",\"CODE_APT\":\"아파트\",\"CODE_WSUPPLY\":\"고가수조식\",\"KAPT_MPAREA\":33543.42,\"KAPT_MAREA\":33366.24,\"KAPT_PAREA\":0,\"KAPT_TAREA\":48820,\"CODE_FALARM\":\"P형\",\"KAPTD_SEC_COM\":\"-\",\"KAPTD_ECAPA\":\"950\",\"CODE_STR\":\"철근콘크리트구조\",\"APPL_CODE\":null,\"KAPT_ME1AREA\":0,\"KAPT_ACOMPANY\":\"우성건설\",\"KAPT_ME2AREA\":0,\"KAPT_ME3AREA\":0,\"CODE_GARBAGE\":\"음식물쓰레기종량제\",\"KAPT_ME4AREA\":0,\"KAPT_ME5AREA\":0,\"CODE_CLTIME\":\"7\",\"CODE_HALL\":\"혼합식\",\"CODE_STIME\":\"16\",\"KAPT_NAME\":\"신길우성3차아파트\",\"KAPT_DONG_CNT\":\"5\",\"CODE_CLEAN\":\"위탁관리(직영+위탁)\",\"CODE_SALE\":\"분양\",\"CODE_SEC\":\"자치관리\",\"EMPTY_HO_CNT\":0,\"APPL_PRODATE\":\"\",\"KAPT_URL\":\"ws3apt@hanmail.net\",\"KAPTD_CLCNT\":\"3\",\"KAPTD_PCNT\":\"192\",\"KAPTD_WTIMESUB\":\"5~10분이내\",\"KAPTD_DCNT\":\"4\",\"EDUCATION_FACILITY\":\"초등학교(대길초등학교) 고등학교(영신고등학교)\",\"KAPT_CCOMPANY\":\"-\"},\"resultMap_kapt_areacnt\":[{\"KAPTDA_CNT\":139,\"AREA_GBN\":1,\"KAPT_CODE\":\"A15086004\"},{\"KAPTDA_CNT\":338,\"AREA_GBN\":2,\"KAPT_CODE\":\"A15086004\"},{\"KAPTDA_CNT\":null,\"AREA_GBN\":3,\"KAPT_CODE\":null},{\"KAPTDA_CNT\":null,\"AREA_GBN\":4,\"KAPT_CODE\":null}],\"resultMap_kapt_addrList\":[{\"ADDR\":\"서울특별시 영등포구 신길동 4656 신길우성3차아파트\",\"KAPT_CODE\":\"A15086004\",\"ADDR_GBN\":\"B\"},{\"ADDR\":\"서울특별시 영등포구 대방천로14길 32\",\"KAPT_CODE\":\"A15086004\",\"ADDR_GBN\":\"R\"}]}\n",
      "{\"resultMap_match\":{\"KAPT_CODE\":\"A15086004\",\"TOWN_CODE\":1059},\"resultMap_kapt\":{\"KAPT_NAME\":\"신길우성3차아파트\",\"CODE_SALE\":\"분양\",\"CODE_HEAT\":\"개별난방\",\"KAPT_TAREA\":48820,\"KAPT_DONG_CNT\":\"5\",\"KAPT_BCOMPANY\":\"우성건설\",\"KAPT_ACOMPANY\":\"우성건설\",\"KAPT_TEL\":\"02-848-3078\",\"KAPT_FAX\":\"02-845-0811\",\"KAPT_URL\":\"ws3apt@hanmail.net\",\"CODE_APT\":\"아파트\",\"CODE_MGR\":\"자치관리\",\"KAPT_MGR_CNT\":\"5\",\"KAPT_CCOMPANY\":\"-\",\"CODE_SEC\":\"자치관리\",\"KAPTD_SCNT\":\"9\",\"KAPTD_SEC_COM\":\"-\",\"CODE_CLEAN\":\"위탁관리(직영+위탁)\",\"KAPTD_CLCNT\":\"3\",\"CODE_GARBAGE\":\"음식물쓰레기종량제\",\"CODE_DISINF\":\"위탁관리(직영+위탁)\",\"KAPTD_DCNT\":\"4\",\"DISPOSAL_TYPE\":\"분무식\",\"KAPTD_PCNT\":\"192\",\"KAPTD_PCNTU\":\"0\",\"KAPTD_CCCNT\":\"60\",\"WELFARE_FACILITY\":\"관리사무소, 노인정, 어린이놀이터, 자전거보관소\",\"KAPTD_ECAPA\":\"950\",\"CODE_EMGR\":\"위탁선임\",\"CODE_WSUPPLY\":\"고가수조식\",\"CODE_STR\":\"철근콘크리트구조\",\"CODE_ECON\":\"종합계약\",\"CODE_FALARM\":\"P형\",\"CODE_ELEV\":\"위탁관리(직영+위탁)\",\"CODE_NET\":\"무\",\"KAPTD_WTIMEBUS\":\"5~10분이내\",\"CONVENIENT_FACILITY\":\"관공서(동사무소) 병원(이화의원) 대형상가(하이마트-신풍점) 공원(보라매공원) 기타(돈보스코청소년센터)\",\"EDUCATION_FACILITY\":\"초등학교(대길초등학교) 고등학교(영신고등학교)\",\"CODE_HALL\":\"혼합식\",\"KAPT_USEDATE\":\"1989-04-11\",\"KAPT_MAREA\":33366.24,\"SUBWAY_STATION\":\"신풍\",\"SUBWAY_LINE\":\"7호선\",\"KAPTD_WTIMESUB\":\"5~10분이내\",\"KAPT_CODE\":\"A15086004\"},\"resultMap_kapt_areacnt\":[{\"KAPTDA_CNT\":139,\"AREA_GBN\":1,\"KAPT_CODE\":\"A15086004\"},{\"KAPTDA_CNT\":338,\"AREA_GBN\":2,\"KAPT_CODE\":\"A15086004\"},{\"KAPTDA_CNT\":0,\"AREA_GBN\":3,\"KAPT_CODE\":\"\"},{\"KAPTDA_CNT\":0,\"AREA_GBN\":4,\"KAPT_CODE\":\"\"}],\"resultMap_kapt_addrList\":[{\"ADDR\":\"서울특별시 영등포구 신길동 4656 신길우성3차아파트\",\"KAPT_CODE\":\"A15086004\",\"ADDR_GBN\":\"B\"},{\"ADDR\":\"서울특별시 영등포구 대방천로14길 32\",\"KAPT_CODE\":\"A15086004\",\"ADDR_GBN\":\"R\"}]}\n",
      "18 / 23 신길우성3차아파트 처리완료\n"
     ]
    },
    {
     "name": "stderr",
     "output_type": "stream",
     "text": [
      "2018/03/22 21:24:45 example.com 200 OK\n"
     ]
    },
    {
     "name": "stdout",
     "output_type": "stream",
     "text": [
      "{\"resultMap_match\":{\"KAPT_CODE\":\"A15005001\",\"TOWN_CODE\":1060},\"resultMap_kapt\":{\"CODE_HEAT\":\"개별난방\",\"SUBWAY_STATION\":\"신길\",\"SUBWAY_LINE\":\"1호선, 5호선\",\"KAPT_PE1AREA\":0,\"KAPT_PE2AREA\":0,\"KAPT_PE3AREA\":0,\"KAPT_PEAREA\":0,\"KAPT_PE4AREA\":0,\"DISPOSAL_TYPE\":\"분무식\",\"KAPT_PE5AREA\":0,\"KAPTD_ECNTB\":0,\"KAPTD_ECNTC\":0,\"KAPT_PHAREA\":0,\"KAPTD_ECNTD\":0,\"KAPTD_SCNT\":\"10\",\"KAPTD_ECNTE\":0,\"CODE_ECON\":\"단일계약\",\"KAPT_PPAREA\":0,\"KAPTD_CCCNT\":\"88\",\"KAPTD_ECNTM\":0,\"KAPT_TEL\":\"02)849-1156\",\"WELFARE_FACILITY\":\"관리사무소, 노인정, 어린이놀이터, 자전거보관소\",\"KAPTD_ECNTP\":17,\"KAPT_FAX\":\"02)849-1157\",\"KAPT_ACC_COMPANY\":\"이지데이터\",\"KAPT_MGR_CNT\":\"5\",\"KAPT_BCOMPANY\":\"우성건설\",\"CONVENIENT_FACILITY\":\"관공서(동사무소) 병원(서울대윤병원) 대형상가(삼성디지털프라자) 공원(영등포공원)\",\"CODE_DISINF\":\"기타\",\"CODE_EMGR\":\"상주선임\",\"CODE_MGR\":\"위탁관리\",\"KAPTD_PCNTU\":\"89\",\"CODE_EMAINT\":\"위탁관리\",\"KAPT_MCAREA\":0,\"CODE_ELEV\":\"기타\",\"KAPT_MEAREA\":0,\"CODE_NET\":\"무\",\"KAPT_MHAREA\":0,\"KAPT_USEDATE\":\"1991-05-04\",\"KAPTD_WTIMEBUS\":\"5분이내\",\"KAPT_CODE\":\"A15005001\",\"CODE_APT\":\"아파트\",\"CODE_WSUPPLY\":\"고가수조식\",\"KAPT_MPAREA\":0,\"KAPT_MAREA\":38900,\"KAPT_PAREA\":0,\"KAPT_TAREA\":53207.29,\"CODE_FALARM\":\"P형\",\"KAPTD_SEC_COM\":\"디엠지관리\",\"KAPTD_ECAPA\":\"1400\",\"CODE_STR\":\"철근콘크리트구조\",\"APPL_CODE\":null,\"KAPT_ME1AREA\":0,\"KAPT_ACOMPANY\":\"우성건설\",\"KAPT_ME2AREA\":0,\"KAPT_ME3AREA\":0,\"CODE_GARBAGE\":\"음식물쓰레기종량제\",\"KAPT_ME4AREA\":0,\"KAPT_ME5AREA\":0,\"CODE_CLTIME\":\"6\",\"CODE_HALL\":\"계단식\",\"CODE_STIME\":\"16\",\"KAPT_NAME\":\"신길우성4차\",\"KAPT_DONG_CNT\":\"4\",\"CODE_CLEAN\":\"기타\",\"CODE_SALE\":\"분양\",\"CODE_SEC\":\"기타\",\"EMPTY_HO_CNT\":0,\"APPL_PRODATE\":\"\",\"KAPT_URL\":\"우성4차.aptgate.co.kr\",\"KAPTD_CLCNT\":\"5\",\"KAPTD_PCNT\":\"203\",\"KAPTD_WTIMESUB\":\"5분이내\",\"KAPTD_DCNT\":\"12\",\"EDUCATION_FACILITY\":\"중학교(영원중교) 고등학교(영등포여고교, 장훈고등학교)\",\"KAPT_CCOMPANY\":\"(주)디엠지관리\"},\"resultMap_kapt_areacnt\":[{\"KAPTDA_CNT\":null,\"AREA_GBN\":1,\"KAPT_CODE\":null},{\"KAPTDA_CNT\":476,\"AREA_GBN\":2,\"KAPT_CODE\":\"A15005001\"},{\"KAPTDA_CNT\":null,\"AREA_GBN\":3,\"KAPT_CODE\":null},{\"KAPTDA_CNT\":null,\"AREA_GBN\":4,\"KAPT_CODE\":null}],\"resultMap_kapt_addrList\":[{\"ADDR\":\"서울특별시 영등포구 신길동 102-8 신길우성아파트\",\"KAPT_CODE\":\"A15005001\",\"ADDR_GBN\":\"B\"},{\"ADDR\":\"서울특별시 영등포구 영등포로64길 8\",\"KAPT_CODE\":\"A15005001\",\"ADDR_GBN\":\"R\"},{\"ADDR\":\"서울특별시 영등포구 영등포로64길 11\",\"KAPT_CODE\":\"A15005001\",\"ADDR_GBN\":\"R\"}]}\n",
      "{\"resultMap_match\":{\"KAPT_CODE\":\"A15005001\",\"TOWN_CODE\":1060},\"resultMap_kapt\":{\"KAPT_NAME\":\"신길우성4차\",\"CODE_SALE\":\"분양\",\"CODE_HEAT\":\"개별난방\",\"KAPT_TAREA\":53207.29,\"KAPT_DONG_CNT\":\"4\",\"KAPT_BCOMPANY\":\"우성건설\",\"KAPT_ACOMPANY\":\"우성건설\",\"KAPT_TEL\":\"02)849-1156\",\"KAPT_FAX\":\"02)849-1157\",\"KAPT_URL\":\"우성4차.aptgate.co.kr\",\"CODE_APT\":\"아파트\",\"CODE_MGR\":\"위탁관리\",\"KAPT_MGR_CNT\":\"5\",\"KAPT_CCOMPANY\":\"(주)디엠지관리\",\"CODE_SEC\":\"기타\",\"KAPTD_SCNT\":\"10\",\"KAPTD_SEC_COM\":\"디엠지관리\",\"CODE_CLEAN\":\"기타\",\"KAPTD_CLCNT\":\"5\",\"CODE_GARBAGE\":\"음식물쓰레기종량제\",\"CODE_DISINF\":\"기타\",\"KAPTD_DCNT\":\"12\",\"DISPOSAL_TYPE\":\"분무식\",\"KAPTD_PCNT\":\"203\",\"KAPTD_PCNTU\":\"89\",\"KAPTD_CCCNT\":\"88\",\"WELFARE_FACILITY\":\"관리사무소, 노인정, 어린이놀이터, 자전거보관소\",\"KAPTD_ECAPA\":\"1400\",\"CODE_EMGR\":\"상주선임\",\"CODE_WSUPPLY\":\"고가수조식\",\"CODE_STR\":\"철근콘크리트구조\",\"CODE_ECON\":\"단일계약\",\"CODE_FALARM\":\"P형\",\"CODE_ELEV\":\"기타\",\"CODE_NET\":\"무\",\"KAPTD_WTIMEBUS\":\"5분이내\",\"CONVENIENT_FACILITY\":\"관공서(동사무소) 병원(서울대윤병원) 대형상가(삼성디지털프라자) 공원(영등포공원)\",\"EDUCATION_FACILITY\":\"중학교(영원중교) 고등학교(영등포여고교, 장훈고등학교)\",\"CODE_HALL\":\"계단식\",\"KAPT_USEDATE\":\"1991-05-04\",\"KAPT_MAREA\":38900,\"SUBWAY_STATION\":\"신길\",\"SUBWAY_LINE\":\"1호선, 5호선\",\"KAPTD_WTIMESUB\":\"5분이내\",\"KAPT_CODE\":\"A15005001\"},\"resultMap_kapt_areacnt\":[{\"KAPTDA_CNT\":0,\"AREA_GBN\":1,\"KAPT_CODE\":\"\"},{\"KAPTDA_CNT\":476,\"AREA_GBN\":2,\"KAPT_CODE\":\"A15005001\"},{\"KAPTDA_CNT\":0,\"AREA_GBN\":3,\"KAPT_CODE\":\"\"},{\"KAPTDA_CNT\":0,\"AREA_GBN\":4,\"KAPT_CODE\":\"\"}],\"resultMap_kapt_addrList\":[{\"ADDR\":\"서울특별시 영등포구 신길동 102-8 신길우성아파트\",\"KAPT_CODE\":\"A15005001\",\"ADDR_GBN\":\"B\"},{\"ADDR\":\"서울특별시 영등포구 영등포로64길 8\",\"KAPT_CODE\":\"A15005001\",\"ADDR_GBN\":\"R\"},{\"ADDR\":\"서울특별시 영등포구 영등포로64길 11\",\"KAPT_CODE\":\"A15005001\",\"ADDR_GBN\":\"R\"}]}\n",
      "19 / 23 신길우성4차 처리완료\n"
     ]
    },
    {
     "name": "stderr",
     "output_type": "stream",
     "text": [
      "2018/03/22 21:24:45 example.com 200 OK\n",
      "2018/03/22 21:24:45 example.com 200 OK\n"
     ]
    },
    {
     "name": "stdout",
     "output_type": "stream",
     "text": [
      "{\"resultMap_match\":{\"KAPT_CODE\":\"A15005301\",\"TOWN_CODE\":1061},\"resultMap_kapt\":{\"CODE_HEAT\":\"개별난방\",\"SUBWAY_STATION\":\"신풍\",\"SUBWAY_LINE\":\"2호선, 5호선, 7호선\",\"KAPT_PE1AREA\":0,\"KAPT_PE2AREA\":0,\"KAPT_PE3AREA\":0,\"KAPT_PEAREA\":0,\"KAPT_PE4AREA\":0,\"DISPOSAL_TYPE\":\"분무식,독이식\",\"KAPT_PE5AREA\":0,\"KAPTD_ECNTB\":0,\"KAPTD_ECNTC\":0,\"KAPT_PHAREA\":0,\"KAPTD_ECNTD\":0,\"KAPTD_SCNT\":\"8\",\"KAPTD_ECNTE\":0,\"CODE_ECON\":\"단일계약\",\"KAPT_PPAREA\":0,\"KAPTD_CCCNT\":\"32\",\"KAPTD_ECNTM\":0,\"KAPT_TEL\":\"02-841-9412\",\"WELFARE_FACILITY\":\"관리사무소, 노인정, 주민공동시설, 어린이놀이터, 자전거보관소\",\"KAPTD_ECNTP\":9,\"KAPT_FAX\":\"02-6673-9412\",\"KAPT_ACC_COMPANY\":\"한국전산\",\"KAPT_MGR_CNT\":\"4\",\"KAPT_BCOMPANY\":\"우성건설\",\"CONVENIENT_FACILITY\":\"관공서(동사무소) 병원(윤면소아과의원) 대형상가(사러가쇼핑센터)\",\"CODE_DISINF\":\"위탁관리(직영+위탁)\",\"CODE_EMGR\":\"위탁선임\",\"CODE_MGR\":\"위탁관리\",\"KAPTD_PCNTU\":\"85\",\"CODE_EMAINT\":\"위탁관리\",\"KAPT_MCAREA\":6724.97,\"CODE_ELEV\":\"위탁관리\",\"KAPT_MEAREA\":0,\"CODE_NET\":\"무\",\"KAPT_MHAREA\":0,\"KAPT_USEDATE\":\"1993-10-26\",\"KAPTD_WTIMEBUS\":\"10~15분이내\",\"KAPT_CODE\":\"A15005301\",\"CODE_APT\":\"아파트\",\"CODE_WSUPPLY\":\"고가수조식\",\"KAPT_MPAREA\":27278.56,\"KAPT_MAREA\":27278.58,\"KAPT_PAREA\":0,\"KAPT_TAREA\":34003.531,\"CODE_FALARM\":\"P형\",\"KAPTD_SEC_COM\":\"태림주택종합\",\"KAPTD_ECAPA\":\"750\",\"CODE_STR\":\"철근콘크리트구조\",\"APPL_CODE\":null,\"KAPT_ME1AREA\":0,\"KAPT_ACOMPANY\":\"우성건설\",\"KAPT_ME2AREA\":0,\"KAPT_ME3AREA\":0,\"CODE_GARBAGE\":\"음식물쓰레기종량제\",\"KAPT_ME4AREA\":0,\"KAPT_ME5AREA\":0,\"CODE_CLTIME\":\"6\",\"CODE_HALL\":\"계단식\",\"CODE_STIME\":\"15\",\"KAPT_NAME\":\"신길우성5차\",\"KAPT_DONG_CNT\":\"3\",\"CODE_CLEAN\":\"위탁관리(직영+위탁)\",\"CODE_SALE\":\"분양\",\"CODE_SEC\":\"자치관리(직영)\",\"EMPTY_HO_CNT\":0,\"APPL_PRODATE\":\"\",\"KAPT_URL\":\"-\",\"KAPTD_CLCNT\":\"3\",\"KAPTD_PCNT\":\"149\",\"KAPTD_WTIMESUB\":\"10~15분이내\",\"KAPTD_DCNT\":\"12\",\"EDUCATION_FACILITY\":\"초등학교(도림초등학교) 중학교(대영중교) 고등학교(대영고교)\",\"KAPT_CCOMPANY\":\"태림주택종합관리(주)\"},\"resultMap_kapt_areacnt\":[{\"KAPTDA_CNT\":null,\"AREA_GBN\":1,\"KAPT_CODE\":null},{\"KAPTDA_CNT\":321,\"AREA_GBN\":2,\"KAPT_CODE\":\"A15005301\"},{\"KAPTDA_CNT\":null,\"AREA_GBN\":3,\"KAPT_CODE\":null},{\"KAPTDA_CNT\":null,\"AREA_GBN\":4,\"KAPT_CODE\":null}],\"resultMap_kapt_addrList\":[{\"ADDR\":\"서울특별시 영등포구 신길동 4933 신길우성5차아파트\",\"KAPT_CODE\":\"A15005301\",\"ADDR_GBN\":\"B\"},{\"ADDR\":\"서울특별시 영등포구 도신로 100\",\"KAPT_CODE\":\"A15005301\",\"ADDR_GBN\":\"R\"}]}\n",
      "{\"resultMap_match\":{\"KAPT_CODE\":\"A15005301\",\"TOWN_CODE\":1061},\"resultMap_kapt\":{\"KAPT_NAME\":\"신길우성5차\",\"CODE_SALE\":\"분양\",\"CODE_HEAT\":\"개별난방\",\"KAPT_TAREA\":34003.531,\"KAPT_DONG_CNT\":\"3\",\"KAPT_BCOMPANY\":\"우성건설\",\"KAPT_ACOMPANY\":\"우성건설\",\"KAPT_TEL\":\"02-841-9412\",\"KAPT_FAX\":\"02-6673-9412\",\"KAPT_URL\":\"-\",\"CODE_APT\":\"아파트\",\"CODE_MGR\":\"위탁관리\",\"KAPT_MGR_CNT\":\"4\",\"KAPT_CCOMPANY\":\"태림주택종합관리(주)\",\"CODE_SEC\":\"자치관리(직영)\",\"KAPTD_SCNT\":\"8\",\"KAPTD_SEC_COM\":\"태림주택종합\",\"CODE_CLEAN\":\"위탁관리(직영+위탁)\",\"KAPTD_CLCNT\":\"3\",\"CODE_GARBAGE\":\"음식물쓰레기종량제\",\"CODE_DISINF\":\"위탁관리(직영+위탁)\",\"KAPTD_DCNT\":\"12\",\"DISPOSAL_TYPE\":\"분무식,독이식\",\"KAPTD_PCNT\":\"149\",\"KAPTD_PCNTU\":\"85\",\"KAPTD_CCCNT\":\"32\",\"WELFARE_FACILITY\":\"관리사무소, 노인정, 주민공동시설, 어린이놀이터, 자전거보관소\",\"KAPTD_ECAPA\":\"750\",\"CODE_EMGR\":\"위탁선임\",\"CODE_WSUPPLY\":\"고가수조식\",\"CODE_STR\":\"철근콘크리트구조\",\"CODE_ECON\":\"단일계약\",\"CODE_FALARM\":\"P형\",\"CODE_ELEV\":\"위탁관리\",\"CODE_NET\":\"무\",\"KAPTD_WTIMEBUS\":\"10~15분이내\",\"CONVENIENT_FACILITY\":\"관공서(동사무소) 병원(윤면소아과의원) 대형상가(사러가쇼핑센터)\",\"EDUCATION_FACILITY\":\"초등학교(도림초등학교) 중학교(대영중교) 고등학교(대영고교)\",\"CODE_HALL\":\"계단식\",\"KAPT_USEDATE\":\"1993-10-26\",\"KAPT_MAREA\":27278.58,\"SUBWAY_STATION\":\"신풍\",\"SUBWAY_LINE\":\"2호선, 5호선, 7호선\",\"KAPTD_WTIMESUB\":\"10~15분이내\",\"KAPT_CODE\":\"A15005301\"},\"resultMap_kapt_areacnt\":[{\"KAPTDA_CNT\":0,\"AREA_GBN\":1,\"KAPT_CODE\":\"\"},{\"KAPTDA_CNT\":321,\"AREA_GBN\":2,\"KAPT_CODE\":\"A15005301\"},{\"KAPTDA_CNT\":0,\"AREA_GBN\":3,\"KAPT_CODE\":\"\"},{\"KAPTDA_CNT\":0,\"AREA_GBN\":4,\"KAPT_CODE\":\"\"}],\"resultMap_kapt_addrList\":[{\"ADDR\":\"서울특별시 영등포구 신길동 4933 신길우성5차아파트\",\"KAPT_CODE\":\"A15005301\",\"ADDR_GBN\":\"B\"},{\"ADDR\":\"서울특별시 영등포구 도신로 100\",\"KAPT_CODE\":\"A15005301\",\"ADDR_GBN\":\"R\"}]}\n",
      "20 / 23 신길우성5차 처리완료\n",
      "{\"resultMap_match\":{\"KAPT_CODE\":\"A15005602\",\"TOWN_CODE\":1062},\"resultMap_kapt\":{\"CODE_HEAT\":\"개별난방\",\"SUBWAY_STATION\":\"신풍\",\"SUBWAY_LINE\":\"7호선\",\"KAPT_PE1AREA\":0,\"KAPT_PE2AREA\":0,\"KAPT_PE3AREA\":0,\"KAPT_PEAREA\":0,\"KAPT_PE4AREA\":0,\"DISPOSAL_TYPE\":\"분무식\",\"KAPT_PE5AREA\":0,\"KAPTD_ECNTB\":0,\"KAPTD_ECNTC\":0,\"KAPT_PHAREA\":0,\"KAPTD_ECNTD\":0,\"KAPTD_SCNT\":\"4\",\"KAPTD_ECNTE\":0,\"CODE_ECON\":\"단일계약\",\"KAPT_PPAREA\":0,\"KAPTD_CCCNT\":\"13\",\"KAPTD_ECNTM\":0,\"KAPT_TEL\":\"02-6268-7500\",\"WELFARE_FACILITY\":\"관리사무소, 어린이놀이터, 휴게시설, 자전거보관소\",\"KAPTD_ECNTP\":2,\"KAPT_FAX\":\"842-1929\",\"KAPT_ACC_COMPANY\":\"-\",\"KAPT_MGR_CNT\":\"3\",\"KAPT_BCOMPANY\":\"우창건설(주)\",\"CONVENIENT_FACILITY\":\"관공서(동사무소) 병원(성심병원) 공원(보라매공원) 기타(돈보스코청소년센터)\",\"CODE_DISINF\":\"위탁관리\",\"CODE_EMGR\":\"위탁선임\",\"CODE_MGR\":\"위탁관리\",\"KAPTD_PCNTU\":\"0\",\"CODE_EMAINT\":\"위탁관리\",\"KAPT_MCAREA\":0,\"CODE_ELEV\":\"위탁관리\",\"KAPT_MEAREA\":0,\"CODE_NET\":\"무\",\"KAPT_MHAREA\":0,\"KAPT_USEDATE\":\"1983-08-17\",\"KAPTD_WTIMEBUS\":\"5~10분이내\",\"KAPT_CODE\":\"A15005602\",\"CODE_APT\":\"아파트\",\"CODE_WSUPPLY\":\"부스타방식\",\"KAPT_MPAREA\":18782.2,\"KAPT_MAREA\":13421.68,\"KAPT_PAREA\":0,\"KAPT_TAREA\":18782.2,\"CODE_FALARM\":\"P형\",\"KAPTD_SEC_COM\":\"(주)태룡에스디\",\"KAPTD_ECAPA\":\"500\",\"CODE_STR\":\"철근콘크리트구조\",\"APPL_CODE\":null,\"KAPT_ME1AREA\":0,\"KAPT_ACOMPANY\":\"우창건설\",\"KAPT_ME2AREA\":0,\"KAPT_ME3AREA\":0,\"CODE_GARBAGE\":\"음식물쓰레기종량제\",\"KAPT_ME4AREA\":0,\"KAPT_ME5AREA\":0,\"CODE_CLTIME\":\"6\",\"CODE_HALL\":\"복도식\",\"CODE_STIME\":\"14\",\"KAPT_NAME\":\"신길우창\",\"KAPT_DONG_CNT\":\"2\",\"CODE_CLEAN\":\"위탁관리\",\"CODE_SALE\":\"분양\",\"CODE_SEC\":\"위탁관리\",\"EMPTY_HO_CNT\":0,\"APPL_PRODATE\":\"\",\"KAPT_URL\":\"-\",\"KAPTD_CLCNT\":\"1\",\"KAPTD_PCNT\":\"163\",\"KAPTD_WTIMESUB\":\"5~10분이내\",\"KAPTD_DCNT\":\"12\",\"EDUCATION_FACILITY\":\"초등학교(대길초등학교) 중학교(대방중학교) 고등학교(영신고등학교)\",\"KAPT_CCOMPANY\":\"(주)태룡에스디\"},\"resultMap_kapt_areacnt\":[{\"KAPTDA_CNT\":72,\"AREA_GBN\":1,\"KAPT_CODE\":\"A15005602\"},{\"KAPTDA_CNT\":142,\"AREA_GBN\":2,\"KAPT_CODE\":\"A15005602\"},{\"KAPTDA_CNT\":null,\"AREA_GBN\":3,\"KAPT_CODE\":null},{\"KAPTDA_CNT\":null,\"AREA_GBN\":4,\"KAPT_CODE\":null}],\"resultMap_kapt_addrList\":[{\"ADDR\":\"서울특별시 영등포구 신길동 4501 우창아파트\",\"KAPT_CODE\":\"A15005602\",\"ADDR_GBN\":\"B\"},{\"ADDR\":\"서울특별시 영등포구 여의대방로5길 6\",\"KAPT_CODE\":\"A15005602\",\"ADDR_GBN\":\"R\"}]}\n",
      "{\"resultMap_match\":{\"KAPT_CODE\":\"A15005602\",\"TOWN_CODE\":1062},\"resultMap_kapt\":{\"KAPT_NAME\":\"신길우창\",\"CODE_SALE\":\"분양\",\"CODE_HEAT\":\"개별난방\",\"KAPT_TAREA\":18782.2,\"KAPT_DONG_CNT\":\"2\",\"KAPT_BCOMPANY\":\"우창건설(주)\",\"KAPT_ACOMPANY\":\"우창건설\",\"KAPT_TEL\":\"02-6268-7500\",\"KAPT_FAX\":\"842-1929\",\"KAPT_URL\":\"-\",\"CODE_APT\":\"아파트\",\"CODE_MGR\":\"위탁관리\",\"KAPT_MGR_CNT\":\"3\",\"KAPT_CCOMPANY\":\"(주)태룡에스디\",\"CODE_SEC\":\"위탁관리\",\"KAPTD_SCNT\":\"4\",\"KAPTD_SEC_COM\":\"(주)태룡에스디\",\"CODE_CLEAN\":\"위탁관리\",\"KAPTD_CLCNT\":\"1\",\"CODE_GARBAGE\":\"음식물쓰레기종량제\",\"CODE_DISINF\":\"위탁관리\",\"KAPTD_DCNT\":\"12\",\"DISPOSAL_TYPE\":\"분무식\",\"KAPTD_PCNT\":\"163\",\"KAPTD_PCNTU\":\"0\",\"KAPTD_CCCNT\":\"13\",\"WELFARE_FACILITY\":\"관리사무소, 어린이놀이터, 휴게시설, 자전거보관소\",\"KAPTD_ECAPA\":\"500\",\"CODE_EMGR\":\"위탁선임\",\"CODE_WSUPPLY\":\"부스타방식\",\"CODE_STR\":\"철근콘크리트구조\",\"CODE_ECON\":\"단일계약\",\"CODE_FALARM\":\"P형\",\"CODE_ELEV\":\"위탁관리\",\"CODE_NET\":\"무\",\"KAPTD_WTIMEBUS\":\"5~10분이내\",\"CONVENIENT_FACILITY\":\"관공서(동사무소) 병원(성심병원) 공원(보라매공원) 기타(돈보스코청소년센터)\",\"EDUCATION_FACILITY\":\"초등학교(대길초등학교) 중학교(대방중학교) 고등학교(영신고등학교)\",\"CODE_HALL\":\"복도식\",\"KAPT_USEDATE\":\"1983-08-17\",\"KAPT_MAREA\":13421.68,\"SUBWAY_STATION\":\"신풍\",\"SUBWAY_LINE\":\"7호선\",\"KAPTD_WTIMESUB\":\"5~10분이내\",\"KAPT_CODE\":\"A15005602\"},\"resultMap_kapt_areacnt\":[{\"KAPTDA_CNT\":72,\"AREA_GBN\":1,\"KAPT_CODE\":\"A15005602\"},{\"KAPTDA_CNT\":142,\"AREA_GBN\":2,\"KAPT_CODE\":\"A15005602\"},{\"KAPTDA_CNT\":0,\"AREA_GBN\":3,\"KAPT_CODE\":\"\"},{\"KAPTDA_CNT\":0,\"AREA_GBN\":4,\"KAPT_CODE\":\"\"}],\"resultMap_kapt_addrList\":[{\"ADDR\":\"서울특별시 영등포구 신길동 4501 우창아파트\",\"KAPT_CODE\":\"A15005602\",\"ADDR_GBN\":\"B\"},{\"ADDR\":\"서울특별시 영등포구 여의대방로5길 6\",\"KAPT_CODE\":\"A15005602\",\"ADDR_GBN\":\"R\"}]}\n",
      "21 / 23 신길우창 처리완료\n"
     ]
    },
    {
     "name": "stderr",
     "output_type": "stream",
     "text": [
      "2018/03/22 21:24:45 example.com 200 OK\n"
     ]
    },
    {
     "name": "stdout",
     "output_type": "stream",
     "text": [
      "{\"resultMap_match\":{\"KAPT_CODE\":\"A15096001\",\"TOWN_CODE\":20124858},\"resultMap_kapt\":{\"CODE_HEAT\":\"개별난방\",\"SUBWAY_STATION\":\"신풍\",\"SUBWAY_LINE\":\"1호선, 5호선\",\"KAPT_PE1AREA\":0,\"KAPT_PE2AREA\":0,\"KAPT_PE3AREA\":0,\"KAPT_PEAREA\":0,\"KAPT_PE4AREA\":0,\"DISPOSAL_TYPE\":\"분무식,독이식\",\"KAPT_PE5AREA\":0,\"KAPTD_ECNTB\":0,\"KAPTD_ECNTC\":0,\"KAPT_PHAREA\":0,\"KAPTD_ECNTD\":0,\"KAPTD_SCNT\":\"4\",\"KAPTD_ECNTE\":0,\"CODE_ECON\":\"종합계약\",\"KAPT_PPAREA\":0,\"KAPTD_CCCNT\":\"47\",\"KAPTD_ECNTM\":0,\"KAPT_TEL\":\"02-831-0924\",\"WELFARE_FACILITY\":\"관리사무소, 노인정, 주민공동시설, 어린이놀이터, 휴게시설, 커뮤니티공간, 자전거보관소\",\"KAPTD_ECNTP\":5,\"KAPT_FAX\":\"02-831-0926\",\"KAPT_ACC_COMPANY\":\"장은회계사무소\",\"KAPT_MGR_CNT\":\"4\",\"KAPT_BCOMPANY\":\"GS건설\",\"CONVENIENT_FACILITY\":\"관공서(동사무소) 병원(성애) 대형상가(사러가쇼핑센터)\",\"CODE_DISINF\":\"위탁관리\",\"CODE_EMGR\":\"상주선임\",\"CODE_MGR\":\"위탁관리\",\"KAPTD_PCNTU\":\"226\",\"CODE_EMAINT\":\"위탁관리\",\"KAPT_MCAREA\":0,\"CODE_ELEV\":\"위탁관리\",\"KAPT_MEAREA\":0,\"CODE_NET\":\"유\",\"KAPT_MHAREA\":0,\"KAPT_USEDATE\":\"2011-06-30\",\"KAPTD_WTIMEBUS\":\"5~10분이내\",\"KAPT_CODE\":\"A15096001\",\"CODE_APT\":\"아파트\",\"CODE_WSUPPLY\":\"부스타방식\",\"KAPT_MPAREA\":21074.14,\"KAPT_MAREA\":16003.72,\"KAPT_PAREA\":0,\"KAPT_TAREA\":32610.93,\"CODE_FALARM\":\"R형\",\"KAPTD_SEC_COM\":\"(주)조은세이프\",\"KAPTD_ECAPA\":\"1000\",\"CODE_STR\":\"철근콘크리트구조\",\"APPL_CODE\":null,\"KAPT_ME1AREA\":0,\"KAPT_ACOMPANY\":\"신길동제5구역재개발주택조합\",\"KAPT_ME2AREA\":0,\"KAPT_ME3AREA\":0,\"CODE_GARBAGE\":\"음식물쓰레기종량제\",\"KAPT_ME4AREA\":0,\"KAPT_ME5AREA\":0,\"CODE_CLTIME\":\"5\",\"CODE_HALL\":\"계단식\",\"CODE_STIME\":\"14\",\"KAPT_NAME\":\"신길자이\",\"KAPT_DONG_CNT\":\"4\",\"CODE_CLEAN\":\"위탁관리\",\"CODE_SALE\":\"분양\",\"CODE_SEC\":\"위탁관리\",\"EMPTY_HO_CNT\":1,\"APPL_PRODATE\":\"\",\"KAPT_URL\":\"-\",\"KAPTD_CLCNT\":\"2\",\"KAPTD_PCNT\":\"0\",\"KAPTD_WTIMESUB\":\"15~20분이내\",\"KAPTD_DCNT\":\"12\",\"EDUCATION_FACILITY\":\"초등학교(영신초등학교)\",\"KAPT_CCOMPANY\":\"일신주택관리(주)\"},\"resultMap_kapt_areacnt\":[{\"KAPTDA_CNT\":76,\"AREA_GBN\":1,\"KAPT_CODE\":\"A15096001\"},{\"KAPTDA_CNT\":86,\"AREA_GBN\":2,\"KAPT_CODE\":\"A15096001\"},{\"KAPTDA_CNT\":36,\"AREA_GBN\":3,\"KAPT_CODE\":\"A15096001\"},{\"KAPTDA_CNT\":null,\"AREA_GBN\":4,\"KAPT_CODE\":null}],\"resultMap_kapt_addrList\":[{\"ADDR\":\"서울특별시 영등포구 신길동 4938 신길자이\",\"KAPT_CODE\":\"A15096001\",\"ADDR_GBN\":\"B\"},{\"ADDR\":\"서울특별시 영등포구 가마산로79길 19\",\"KAPT_CODE\":\"A15096001\",\"ADDR_GBN\":\"R\"}]}\n",
      "{\"resultMap_match\":{\"KAPT_CODE\":\"A15096001\",\"TOWN_CODE\":20124858},\"resultMap_kapt\":{\"KAPT_NAME\":\"신길자이\",\"CODE_SALE\":\"분양\",\"CODE_HEAT\":\"개별난방\",\"KAPT_TAREA\":32610.93,\"KAPT_DONG_CNT\":\"4\",\"KAPT_BCOMPANY\":\"GS건설\",\"KAPT_ACOMPANY\":\"신길동제5구역재개발주택조합\",\"KAPT_TEL\":\"02-831-0924\",\"KAPT_FAX\":\"02-831-0926\",\"KAPT_URL\":\"-\",\"CODE_APT\":\"아파트\",\"CODE_MGR\":\"위탁관리\",\"KAPT_MGR_CNT\":\"4\",\"KAPT_CCOMPANY\":\"일신주택관리(주)\",\"CODE_SEC\":\"위탁관리\",\"KAPTD_SCNT\":\"4\",\"KAPTD_SEC_COM\":\"(주)조은세이프\",\"CODE_CLEAN\":\"위탁관리\",\"KAPTD_CLCNT\":\"2\",\"CODE_GARBAGE\":\"음식물쓰레기종량제\",\"CODE_DISINF\":\"위탁관리\",\"KAPTD_DCNT\":\"12\",\"DISPOSAL_TYPE\":\"분무식,독이식\",\"KAPTD_PCNT\":\"0\",\"KAPTD_PCNTU\":\"226\",\"KAPTD_CCCNT\":\"47\",\"WELFARE_FACILITY\":\"관리사무소, 노인정, 주민공동시설, 어린이놀이터, 휴게시설, 커뮤니티공간, 자전거보관소\",\"KAPTD_ECAPA\":\"1000\",\"CODE_EMGR\":\"상주선임\",\"CODE_WSUPPLY\":\"부스타방식\",\"CODE_STR\":\"철근콘크리트구조\",\"CODE_ECON\":\"종합계약\",\"CODE_FALARM\":\"R형\",\"CODE_ELEV\":\"위탁관리\",\"CODE_NET\":\"유\",\"KAPTD_WTIMEBUS\":\"5~10분이내\",\"CONVENIENT_FACILITY\":\"관공서(동사무소) 병원(성애) 대형상가(사러가쇼핑센터)\",\"EDUCATION_FACILITY\":\"초등학교(영신초등학교)\",\"CODE_HALL\":\"계단식\",\"KAPT_USEDATE\":\"2011-06-30\",\"KAPT_MAREA\":16003.72,\"SUBWAY_STATION\":\"신풍\",\"SUBWAY_LINE\":\"1호선, 5호선\",\"KAPTD_WTIMESUB\":\"15~20분이내\",\"KAPT_CODE\":\"A15096001\"},\"resultMap_kapt_areacnt\":[{\"KAPTDA_CNT\":76,\"AREA_GBN\":1,\"KAPT_CODE\":\"A15096001\"},{\"KAPTDA_CNT\":86,\"AREA_GBN\":2,\"KAPT_CODE\":\"A15096001\"},{\"KAPTDA_CNT\":36,\"AREA_GBN\":3,\"KAPT_CODE\":\"A15096001\"},{\"KAPTDA_CNT\":0,\"AREA_GBN\":4,\"KAPT_CODE\":\"\"}],\"resultMap_kapt_addrList\":[{\"ADDR\":\"서울특별시 영등포구 신길동 4938 신길자이\",\"KAPT_CODE\":\"A15096001\",\"ADDR_GBN\":\"B\"},{\"ADDR\":\"서울특별시 영등포구 가마산로79길 19\",\"KAPT_CODE\":\"A15096001\",\"ADDR_GBN\":\"R\"}]}\n",
      "22 / 23 신길자이 처리완료\n"
     ]
    },
    {
     "name": "stderr",
     "output_type": "stream",
     "text": [
      "2018/03/22 21:24:46 example.com 200 OK\n"
     ]
    },
    {
     "name": "stdout",
     "output_type": "stream",
     "text": [
      "{\"resultMap_match\":{\"KAPT_CODE\":\"A15085404\",\"TOWN_CODE\":1064},\"resultMap_kapt\":{\"CODE_HEAT\":\"개별난방\",\"SUBWAY_STATION\":\"대방, 신풍\",\"SUBWAY_LINE\":\"1호선, 7호선\",\"KAPT_PE1AREA\":0,\"KAPT_PE2AREA\":0,\"KAPT_PE3AREA\":0,\"KAPT_PEAREA\":0,\"KAPT_PE4AREA\":0,\"DISPOSAL_TYPE\":\"도포식,기구부착식\",\"KAPT_PE5AREA\":0,\"KAPTD_ECNTB\":0,\"KAPTD_ECNTC\":0,\"KAPT_PHAREA\":0,\"KAPTD_ECNTD\":0,\"KAPTD_SCNT\":\"8\",\"KAPTD_ECNTE\":0,\"CODE_ECON\":\"단일계약\",\"KAPT_PPAREA\":0,\"KAPTD_CCCNT\":\"38\",\"KAPTD_ECNTM\":0,\"KAPT_TEL\":\"028362345\",\"WELFARE_FACILITY\":\"관리사무소, 노인정, 어린이놀이터\",\"KAPTD_ECNTP\":11,\"KAPT_FAX\":\"028362348\",\"KAPT_ACC_COMPANY\":\"홍진데이타\",\"KAPT_MGR_CNT\":\"5\",\"KAPT_BCOMPANY\":\"한국보훈복지공단\",\"CONVENIENT_FACILITY\":\"관공서(동사무소) 병원(김영준소아과)\",\"CODE_DISINF\":\"위탁관리\",\"CODE_EMGR\":\"상주선임\",\"CODE_MGR\":\"위탁관리\",\"KAPTD_PCNTU\":\"298\",\"CODE_EMAINT\":\"위탁관리\",\"KAPT_MCAREA\":0,\"CODE_ELEV\":\"위탁관리\",\"KAPT_MEAREA\":0,\"CODE_NET\":\"무\",\"KAPT_MHAREA\":0,\"KAPT_USEDATE\":\"1997-07-21\",\"KAPTD_WTIMEBUS\":\"5~10분이내\",\"KAPT_CODE\":\"A15085404\",\"CODE_APT\":\"아파트\",\"CODE_WSUPPLY\":\"부스타방식\",\"KAPT_MPAREA\":0,\"KAPT_MAREA\":36505.08,\"KAPT_PAREA\":0,\"KAPT_TAREA\":57972.21,\"CODE_FALARM\":\"P형\",\"KAPTD_SEC_COM\":\"한양시스템(주)\",\"KAPTD_ECAPA\":\"1465\",\"CODE_STR\":\"철근콘크리트구조\",\"APPL_CODE\":null,\"KAPT_ME1AREA\":0,\"KAPT_ACOMPANY\":\"한성건설\",\"KAPT_ME2AREA\":0,\"KAPT_ME3AREA\":0,\"CODE_GARBAGE\":\"음식물쓰레기종량제\",\"KAPT_ME4AREA\":0,\"KAPT_ME5AREA\":0,\"CODE_CLTIME\":\"4\",\"CODE_HALL\":\"계단식\",\"CODE_STIME\":\"24\",\"KAPT_NAME\":\"신길한성\",\"KAPT_DONG_CNT\":\"5\",\"CODE_CLEAN\":\"위탁관리\",\"CODE_SALE\":\"분양\",\"CODE_SEC\":\"위탁관리\",\"EMPTY_HO_CNT\":0,\"APPL_PRODATE\":\"\",\"KAPT_URL\":\"-\",\"KAPTD_CLCNT\":\"4\",\"KAPTD_PCNT\":\"147\",\"KAPTD_WTIMESUB\":\"5~10분이내\",\"KAPTD_DCNT\":\"12\",\"EDUCATION_FACILITY\":\"초등학교(대방초등학교) 중학교(강남중교) 고등학교(서울공업고교)\",\"KAPT_CCOMPANY\":\"대원종합관리(주)\"},\"resultMap_kapt_areacnt\":[{\"KAPTDA_CNT\":172,\"AREA_GBN\":1,\"KAPT_CODE\":\"A15085404\"},{\"KAPTDA_CNT\":144,\"AREA_GBN\":2,\"KAPT_CODE\":\"A15085404\"},{\"KAPTDA_CNT\":104,\"AREA_GBN\":3,\"KAPT_CODE\":\"A15085404\"},{\"KAPTDA_CNT\":null,\"AREA_GBN\":4,\"KAPT_CODE\":null}],\"resultMap_kapt_addrList\":[{\"ADDR\":\"서울특별시 영등포구 신길동 769-1 한성아파트\",\"KAPT_CODE\":\"A15085404\",\"ADDR_GBN\":\"B\"},{\"ADDR\":\"서울특별시 영등포구 가마산로 575\",\"KAPT_CODE\":\"A15085404\",\"ADDR_GBN\":\"R\"}]}\n",
      "{\"resultMap_match\":{\"KAPT_CODE\":\"A15085404\",\"TOWN_CODE\":1064},\"resultMap_kapt\":{\"KAPT_NAME\":\"신길한성\",\"CODE_SALE\":\"분양\",\"CODE_HEAT\":\"개별난방\",\"KAPT_TAREA\":57972.21,\"KAPT_DONG_CNT\":\"5\",\"KAPT_BCOMPANY\":\"한국보훈복지공단\",\"KAPT_ACOMPANY\":\"한성건설\",\"KAPT_TEL\":\"028362345\",\"KAPT_FAX\":\"028362348\",\"KAPT_URL\":\"-\",\"CODE_APT\":\"아파트\",\"CODE_MGR\":\"위탁관리\",\"KAPT_MGR_CNT\":\"5\",\"KAPT_CCOMPANY\":\"대원종합관리(주)\",\"CODE_SEC\":\"위탁관리\",\"KAPTD_SCNT\":\"8\",\"KAPTD_SEC_COM\":\"한양시스템(주)\",\"CODE_CLEAN\":\"위탁관리\",\"KAPTD_CLCNT\":\"4\",\"CODE_GARBAGE\":\"음식물쓰레기종량제\",\"CODE_DISINF\":\"위탁관리\",\"KAPTD_DCNT\":\"12\",\"DISPOSAL_TYPE\":\"도포식,기구부착식\",\"KAPTD_PCNT\":\"147\",\"KAPTD_PCNTU\":\"298\",\"KAPTD_CCCNT\":\"38\",\"WELFARE_FACILITY\":\"관리사무소, 노인정, 어린이놀이터\",\"KAPTD_ECAPA\":\"1465\",\"CODE_EMGR\":\"상주선임\",\"CODE_WSUPPLY\":\"부스타방식\",\"CODE_STR\":\"철근콘크리트구조\",\"CODE_ECON\":\"단일계약\",\"CODE_FALARM\":\"P형\",\"CODE_ELEV\":\"위탁관리\",\"CODE_NET\":\"무\",\"KAPTD_WTIMEBUS\":\"5~10분이내\",\"CONVENIENT_FACILITY\":\"관공서(동사무소) 병원(김영준소아과)\",\"EDUCATION_FACILITY\":\"초등학교(대방초등학교) 중학교(강남중교) 고등학교(서울공업고교)\",\"CODE_HALL\":\"계단식\",\"KAPT_USEDATE\":\"1997-07-21\",\"KAPT_MAREA\":36505.08,\"SUBWAY_STATION\":\"대방, 신풍\",\"SUBWAY_LINE\":\"1호선, 7호선\",\"KAPTD_WTIMESUB\":\"5~10분이내\",\"KAPT_CODE\":\"A15085404\"},\"resultMap_kapt_areacnt\":[{\"KAPTDA_CNT\":172,\"AREA_GBN\":1,\"KAPT_CODE\":\"A15085404\"},{\"KAPTDA_CNT\":144,\"AREA_GBN\":2,\"KAPT_CODE\":\"A15085404\"},{\"KAPTDA_CNT\":104,\"AREA_GBN\":3,\"KAPT_CODE\":\"A15085404\"},{\"KAPTDA_CNT\":0,\"AREA_GBN\":4,\"KAPT_CODE\":\"\"}],\"resultMap_kapt_addrList\":[{\"ADDR\":\"서울특별시 영등포구 신길동 769-1 한성아파트\",\"KAPT_CODE\":\"A15085404\",\"ADDR_GBN\":\"B\"},{\"ADDR\":\"서울특별시 영등포구 가마산로 575\",\"KAPT_CODE\":\"A15085404\",\"ADDR_GBN\":\"R\"}]}\n",
      "23 / 23 신길한성 처리완료\n",
      "23 개 아파트 처리 완료\n",
      "28245118 아파트 목록 조회 시작 -----------\n"
     ]
    },
    {
     "name": "stderr",
     "output_type": "stream",
     "text": [
      "2018/03/22 21:24:46 example.com 200 OK\n"
     ]
    },
    {
     "name": "stdout",
     "output_type": "stream",
     "text": [
      "[{199703 2824511800 오류 신동아 아파트  A40776901 0 176364.44 453163.25 0 인천광역시 계양구 오류동}]\n",
      "{\"resultList\":[{\"KAPT_USEDATE\":\"199703\",\"BJD_CODE\":\"2824511800\",\"KAPT_NAME\":\"오류 신동아 아파트\",\"OPEN_TERM\":\"\",\"KAPT_CODE\":\"A40776901\",\"OCCU_FIRST_DATE\":0,\"X\":176364.44,\"Y\":453163.25,\"ENERGY_B_COUNT\":0,\"BJD_NAME\":\"인천광역시 계양구 오류동\"}]}\n",
      "아파트 목록 조회 완료 -----------\n",
      "아파트 목록 마샬링 시작 -----------\n",
      "아파트 목록 마샬링 완료 -----------\n",
      "아파트 정보 조회 시작 -----------\n"
     ]
    },
    {
     "name": "stderr",
     "output_type": "stream",
     "text": [
      "2018/03/22 21:24:46 example.com 200 OK\n",
      "2018/03/22 21:24:46 example.com 200 OK\n"
     ]
    },
    {
     "name": "stdout",
     "output_type": "stream",
     "text": [
      "{\"resultMap_match\":{\"KAPT_CODE\":\"A10027073\",\"TOWN_CODE\":20349595},\"resultMap_kapt\":{\"CODE_HEAT\":\"개별난방\",\"SUBWAY_STATION\":\"신풍역\",\"SUBWAY_LINE\":\"7호선\",\"KAPT_PE1AREA\":0,\"KAPT_PE2AREA\":0,\"KAPT_PE3AREA\":0,\"KAPT_PEAREA\":0,\"KAPT_PE4AREA\":0,\"DISPOSAL_TYPE\":\"도포식,분무식\",\"KAPT_PE5AREA\":0,\"KAPTD_ECNTB\":0,\"KAPTD_ECNTC\":0,\"KAPT_PHAREA\":0,\"KAPTD_ECNTD\":0,\"KAPTD_SCNT\":\"16\",\"KAPTD_ECNTE\":0,\"CODE_ECON\":\"종합계약\",\"KAPT_PPAREA\":0,\"KAPTD_CCCNT\":\"206\",\"KAPTD_ECNTM\":0,\"KAPT_TEL\":\"028499571\",\"WELFARE_FACILITY\":\"관리사무소, 노인정, 보육시설, 문고, 주민공동시설, 어린이놀이터, 휴게시설, 커뮤니티공간, 자전거보관소\",\"KAPTD_ECNTP\":52,\"KAPT_FAX\":\"02-849-9574\",\"KAPT_ACC_COMPANY\":\"이지스엔터프라이즈\",\"KAPT_MGR_CNT\":\"14\",\"KAPT_BCOMPANY\":\"삼성물산주식회사\",\"CONVENIENT_FACILITY\":\"-\",\"CODE_DISINF\":\"위탁관리\",\"CODE_EMGR\":\"상주선임\",\"CODE_MGR\":\"위탁관리\",\"KAPTD_PCNTU\":\"2280\",\"CODE_EMAINT\":\"위탁관리\",\"KAPT_MCAREA\":44964.64,\"CODE_ELEV\":\"위탁관리\",\"KAPT_MEAREA\":0,\"CODE_NET\":\"유\",\"KAPT_MHAREA\":0,\"KAPT_USEDATE\":\"2017-04-12\",\"KAPTD_WTIMEBUS\":\"5분이내\",\"KAPT_CODE\":\"A10027073\",\"CODE_APT\":\"아파트\",\"CODE_WSUPPLY\":\"부스타방식\",\"KAPT_MPAREA\":133313.49,\"KAPT_MAREA\":133313.49,\"KAPT_PAREA\":0,\"KAPT_TAREA\":272491.57,\"CODE_FALARM\":\"R형\",\"KAPTD_SEC_COM\":\"(주)씨큐원\",\"KAPTD_ECAPA\":\"7550\",\"CODE_STR\":\"철골콘크리트구조\",\"APPL_CODE\":1750,\"KAPT_ME1AREA\":0,\"KAPT_ACOMPANY\":\"신길7재정비촉진구역주택재개발사업조함\",\"KAPT_ME2AREA\":0,\"KAPT_ME3AREA\":0,\"CODE_GARBAGE\":\"음식물쓰레기종량제\",\"KAPT_ME4AREA\":0,\"KAPT_ME5AREA\":0,\"CODE_CLTIME\":\"6\",\"CODE_HALL\":\"혼합식\",\"CODE_STIME\":\"15\",\"KAPT_NAME\":\"래미안에스티움\",\"KAPT_DONG_CNT\":\"19\",\"CODE_CLEAN\":\"위탁관리\",\"CODE_SALE\":\"임대+분양\",\"CODE_SEC\":\"위탁관리\",\"EMPTY_HO_CNT\":5,\"APPL_PRODATE\":\"\",\"KAPT_URL\":\"estium.co.kr\",\"KAPTD_CLCNT\":\"23\",\"KAPTD_PCNT\":\"0\",\"KAPTD_WTIMESUB\":\"5분이내\",\"KAPTD_DCNT\":\"12\",\"EDUCATION_FACILITY\":\"-\",\"KAPT_CCOMPANY\":\"(주)타워피엠씨\"},\"resultMap_kapt_areacnt\":[{\"KAPTDA_CNT\":682,\"AREA_GBN\":1,\"KAPT_CODE\":\"A10027073\"},{\"KAPTDA_CNT\":833,\"AREA_GBN\":2,\"KAPT_CODE\":\"A10027073\"},{\"KAPTDA_CNT\":207,\"AREA_GBN\":3,\"KAPT_CODE\":\"A10027073\"},{\"KAPTDA_CNT\":null,\"AREA_GBN\":4,\"KAPT_CODE\":null}],\"resultMap_kapt_addrList\":[{\"ADDR\":\"서울특별시 영등포구 신길동 4950 래미안에스티움\",\"KAPT_CODE\":\"A10027073\",\"ADDR_GBN\":\"B\"},{\"ADDR\":\"서울특별시 영등포구 신풍로 77\",\"KAPT_CODE\":\"A10027073\",\"ADDR_GBN\":\"R\"}]}\n",
      "{\"resultMap_match\":{\"KAPT_CODE\":\"A10027073\",\"TOWN_CODE\":20349595},\"resultMap_kapt\":{\"KAPT_NAME\":\"래미안에스티움\",\"CODE_SALE\":\"임대+분양\",\"CODE_HEAT\":\"개별난방\",\"KAPT_TAREA\":272491.57,\"KAPT_DONG_CNT\":\"19\",\"KAPT_BCOMPANY\":\"삼성물산주식회사\",\"KAPT_ACOMPANY\":\"신길7재정비촉진구역주택재개발사업조함\",\"KAPT_TEL\":\"028499571\",\"KAPT_FAX\":\"02-849-9574\",\"KAPT_URL\":\"estium.co.kr\",\"CODE_APT\":\"아파트\",\"CODE_MGR\":\"위탁관리\",\"KAPT_MGR_CNT\":\"14\",\"KAPT_CCOMPANY\":\"(주)타워피엠씨\",\"CODE_SEC\":\"위탁관리\",\"KAPTD_SCNT\":\"16\",\"KAPTD_SEC_COM\":\"(주)씨큐원\",\"CODE_CLEAN\":\"위탁관리\",\"KAPTD_CLCNT\":\"23\",\"CODE_GARBAGE\":\"음식물쓰레기종량제\",\"CODE_DISINF\":\"위탁관리\",\"KAPTD_DCNT\":\"12\",\"DISPOSAL_TYPE\":\"도포식,분무식\",\"KAPTD_PCNT\":\"0\",\"KAPTD_PCNTU\":\"2280\",\"KAPTD_CCCNT\":\"206\",\"WELFARE_FACILITY\":\"관리사무소, 노인정, 보육시설, 문고, 주민공동시설, 어린이놀이터, 휴게시설, 커뮤니티공간, 자전거보관소\",\"KAPTD_ECAPA\":\"7550\",\"CODE_EMGR\":\"상주선임\",\"CODE_WSUPPLY\":\"부스타방식\",\"CODE_STR\":\"철골콘크리트구조\",\"CODE_ECON\":\"종합계약\",\"CODE_FALARM\":\"R형\",\"CODE_ELEV\":\"위탁관리\",\"CODE_NET\":\"유\",\"KAPTD_WTIMEBUS\":\"5분이내\",\"CONVENIENT_FACILITY\":\"-\",\"EDUCATION_FACILITY\":\"-\",\"CODE_HALL\":\"혼합식\",\"KAPT_USEDATE\":\"2017-04-12\",\"KAPT_MAREA\":133313.49,\"SUBWAY_STATION\":\"신풍역\",\"SUBWAY_LINE\":\"7호선\",\"KAPTD_WTIMESUB\":\"5분이내\",\"KAPT_CODE\":\"A10027073\"},\"resultMap_kapt_areacnt\":[{\"KAPTDA_CNT\":682,\"AREA_GBN\":1,\"KAPT_CODE\":\"A10027073\"},{\"KAPTDA_CNT\":833,\"AREA_GBN\":2,\"KAPT_CODE\":\"A10027073\"},{\"KAPTDA_CNT\":207,\"AREA_GBN\":3,\"KAPT_CODE\":\"A10027073\"},{\"KAPTDA_CNT\":0,\"AREA_GBN\":4,\"KAPT_CODE\":\"\"}],\"resultMap_kapt_addrList\":[{\"ADDR\":\"서울특별시 영등포구 신길동 4950 래미안에스티움\",\"KAPT_CODE\":\"A10027073\",\"ADDR_GBN\":\"B\"},{\"ADDR\":\"서울특별시 영등포구 신풍로 77\",\"KAPT_CODE\":\"A10027073\",\"ADDR_GBN\":\"R\"}]}\n",
      "1 / 23 래미안에스티움 처리완료\n",
      "{\"resultMap_match\":{\"KAPT_CODE\":\"A10027755\",\"TOWN_CODE\":20331410},\"resultMap_kapt\":{\"CODE_HEAT\":\"개별난방\",\"SUBWAY_STATION\":\"-\",\"SUBWAY_LINE\":\"7호선\",\"KAPT_PE1AREA\":0,\"KAPT_PE2AREA\":0,\"KAPT_PE3AREA\":0,\"KAPT_PEAREA\":0,\"KAPT_PE4AREA\":0,\"DISPOSAL_TYPE\":\"-\",\"KAPT_PE5AREA\":0,\"KAPTD_ECNTB\":0,\"KAPTD_ECNTC\":0,\"KAPT_PHAREA\":0,\"KAPTD_ECNTD\":0,\"KAPTD_SCNT\":\"11\",\"KAPTD_ECNTE\":0,\"CODE_ECON\":\"종합계약\",\"KAPT_PPAREA\":0,\"KAPTD_CCCNT\":\"100\",\"KAPTD_ECNTM\":0,\"KAPT_TEL\":\"02-849-6655\",\"WELFARE_FACILITY\":\"관리사무소, 노인정, 보육시설, 문고, 주민공동시설, 어린이놀이터, 커뮤니티공간, 자전거보관소\",\"KAPTD_ECNTP\":28,\"KAPT_FAX\":\"02-849-6900\",\"KAPT_ACC_COMPANY\":\"-\",\"KAPT_MGR_CNT\":\"8\",\"KAPT_BCOMPANY\":\"삼성물산주식회사\",\"CONVENIENT_FACILITY\":\"-\",\"CODE_DISINF\":\"위탁관리\",\"CODE_EMGR\":\"상주선임\",\"CODE_MGR\":\"위탁관리\",\"KAPTD_PCNTU\":\"1211\",\"CODE_EMAINT\":\"위탁관리\",\"KAPT_MCAREA\":23340.24,\"CODE_ELEV\":\"위탁관리\",\"KAPT_MEAREA\":0,\"CODE_NET\":\"유\",\"KAPT_MHAREA\":0,\"KAPT_USEDATE\":\"2015-12-29\",\"KAPTD_WTIMEBUS\":\"5~10분이내\",\"KAPT_CODE\":\"A10027755\",\"CODE_APT\":\"아파트\",\"CODE_WSUPPLY\":\"부스타방식\",\"KAPT_MPAREA\":688620.86,\"KAPT_MAREA\":68800.87,\"KAPT_PAREA\":0,\"KAPT_TAREA\":140645.79,\"CODE_FALARM\":\"R형\",\"KAPTD_SEC_COM\":\"(주)아주관리\",\"KAPTD_ECAPA\":\"4000\",\"CODE_STR\":\"철골철근콘크리트구조\",\"APPL_CODE\":null,\"KAPT_ME1AREA\":0,\"KAPT_ACOMPANY\":\"조합\",\"KAPT_ME2AREA\":0,\"KAPT_ME3AREA\":0,\"CODE_GARBAGE\":\"거점장비수거방식\",\"KAPT_ME4AREA\":0,\"KAPT_ME5AREA\":0,\"CODE_CLTIME\":\"8\",\"CODE_HALL\":\"혼합식\",\"CODE_STIME\":\"24\",\"KAPT_NAME\":\"래미안프레비뉴\",\"KAPT_DONG_CNT\":\"12\",\"CODE_CLEAN\":\"위탁관리\",\"CODE_SALE\":\"임대+분양\",\"CODE_SEC\":\"위탁관리\",\"EMPTY_HO_CNT\":0,\"APPL_PRODATE\":\"\",\"KAPT_URL\":\"-\",\"KAPTD_CLCNT\":\"10\",\"KAPTD_PCNT\":\"0\",\"KAPTD_WTIMESUB\":\"5~10분이내\",\"KAPTD_DCNT\":\"0\",\"EDUCATION_FACILITY\":\"초등학교() 중학교() 고등학교()\",\"KAPT_CCOMPANY\":\"(주)아주관리\"},\"resultMap_kapt_areacnt\":[{\"KAPTDA_CNT\":396,\"AREA_GBN\":1,\"KAPT_CODE\":\"A10027755\"},{\"KAPTDA_CNT\":535,\"AREA_GBN\":2,\"KAPT_CODE\":\"A10027755\"},{\"KAPTDA_CNT\":17,\"AREA_GBN\":3,\"KAPT_CODE\":\"A10027755\"},{\"KAPTDA_CNT\":null,\"AREA_GBN\":4,\"KAPT_CODE\":null}],\"resultMap_kapt_addrList\":[{\"ADDR\":\"서울특별시 영등포구 신길동 329-94 래미안영등포프레비뉴\",\"KAPT_CODE\":\"A10027755\",\"ADDR_GBN\":\"B\"},{\"ADDR\":\"서울특별시 영등포구 가마산로 442\",\"KAPT_CODE\":\"A10027755\",\"ADDR_GBN\":\"R\"}]}\n",
      "{\"resultMap_match\":{\"KAPT_CODE\":\"A10027755\",\"TOWN_CODE\":20331410},\"resultMap_kapt\":{\"KAPT_NAME\":\"래미안프레비뉴\",\"CODE_SALE\":\"임대+분양\",\"CODE_HEAT\":\"개별난방\",\"KAPT_TAREA\":140645.79,\"KAPT_DONG_CNT\":\"12\",\"KAPT_BCOMPANY\":\"삼성물산주식회사\",\"KAPT_ACOMPANY\":\"조합\",\"KAPT_TEL\":\"02-849-6655\",\"KAPT_FAX\":\"02-849-6900\",\"KAPT_URL\":\"-\",\"CODE_APT\":\"아파트\",\"CODE_MGR\":\"위탁관리\",\"KAPT_MGR_CNT\":\"8\",\"KAPT_CCOMPANY\":\"(주)아주관리\",\"CODE_SEC\":\"위탁관리\",\"KAPTD_SCNT\":\"11\",\"KAPTD_SEC_COM\":\"(주)아주관리\",\"CODE_CLEAN\":\"위탁관리\",\"KAPTD_CLCNT\":\"10\",\"CODE_GARBAGE\":\"거점장비수거방식\",\"CODE_DISINF\":\"위탁관리\",\"KAPTD_DCNT\":\"0\",\"DISPOSAL_TYPE\":\"-\",\"KAPTD_PCNT\":\"0\",\"KAPTD_PCNTU\":\"1211\",\"KAPTD_CCCNT\":\"100\",\"WELFARE_FACILITY\":\"관리사무소, 노인정, 보육시설, 문고, 주민공동시설, 어린이놀이터, 커뮤니티공간, 자전거보관소\",\"KAPTD_ECAPA\":\"4000\",\"CODE_EMGR\":\"상주선임\",\"CODE_WSUPPLY\":\"부스타방식\",\"CODE_STR\":\"철골철근콘크리트구조\",\"CODE_ECON\":\"종합계약\",\"CODE_FALARM\":\"R형\",\"CODE_ELEV\":\"위탁관리\",\"CODE_NET\":\"유\",\"KAPTD_WTIMEBUS\":\"5~10분이내\",\"CONVENIENT_FACILITY\":\"-\",\"EDUCATION_FACILITY\":\"초등학교() 중학교() 고등학교()\",\"CODE_HALL\":\"혼합식\",\"KAPT_USEDATE\":\"2015-12-29\",\"KAPT_MAREA\":68800.87,\"SUBWAY_STATION\":\"-\",\"SUBWAY_LINE\":\"7호선\",\"KAPTD_WTIMESUB\":\"5~10분이내\",\"KAPT_CODE\":\"A10027755\"},\"resultMap_kapt_areacnt\":[{\"KAPTDA_CNT\":396,\"AREA_GBN\":1,\"KAPT_CODE\":\"A10027755\"},{\"KAPTDA_CNT\":535,\"AREA_GBN\":2,\"KAPT_CODE\":\"A10027755\"},{\"KAPTDA_CNT\":17,\"AREA_GBN\":3,\"KAPT_CODE\":\"A10027755\"},{\"KAPTDA_CNT\":0,\"AREA_GBN\":4,\"KAPT_CODE\":\"\"}],\"resultMap_kapt_addrList\":[{\"ADDR\":\"서울특별시 영등포구 신길동 329-94 래미안영등포프레비뉴\",\"KAPT_CODE\":\"A10027755\",\"ADDR_GBN\":\"B\"},{\"ADDR\":\"서울특별시 영등포구 가마산로 442\",\"KAPT_CODE\":\"A10027755\",\"ADDR_GBN\":\"R\"}]}\n",
      "2 / 23 래미안프레비뉴 처리완료\n"
     ]
    },
    {
     "name": "stderr",
     "output_type": "stream",
     "text": [
      "2018/03/22 21:24:46 example.com 200 OK\n"
     ]
    },
    {
     "name": "stdout",
     "output_type": "stream",
     "text": [
      "{\"resultMap_match\":{\"KAPT_CODE\":\"A15005002\",\"TOWN_CODE\":20181850},\"resultMap_kapt\":{\"CODE_HEAT\":\"개별난방\",\"SUBWAY_STATION\":\"신풍\",\"SUBWAY_LINE\":\"1호선, 7호선\",\"KAPT_PE1AREA\":0,\"KAPT_PE2AREA\":0,\"KAPT_PE3AREA\":0,\"KAPT_PEAREA\":0,\"KAPT_PE4AREA\":0,\"DISPOSAL_TYPE\":\"도포식,분무식,기구부착식,독이식\",\"KAPT_PE5AREA\":0,\"KAPTD_ECNTB\":0,\"KAPTD_ECNTC\":0,\"KAPT_PHAREA\":0,\"KAPTD_ECNTD\":0,\"KAPTD_SCNT\":\"2\",\"KAPTD_ECNTE\":0,\"CODE_ECON\":\"단일계약\",\"KAPT_PPAREA\":0,\"KAPTD_CCCNT\":\"8\",\"KAPTD_ECNTM\":0,\"KAPT_TEL\":\"028499181\",\"WELFARE_FACILITY\":\"관리사무소\",\"KAPTD_ECNTP\":2,\"KAPT_FAX\":\"028499184\",\"KAPT_ACC_COMPANY\":\"-\",\"KAPT_MGR_CNT\":\"3\",\"KAPT_BCOMPANY\":\"우신건설\",\"CONVENIENT_FACILITY\":\"백화점(디큐브,타임스퀘어)\",\"CODE_DISINF\":\"위탁관리\",\"CODE_EMGR\":\"위탁선임\",\"CODE_MGR\":\"위탁관리\",\"KAPTD_PCNTU\":\"0\",\"CODE_EMAINT\":\"위탁관리\",\"KAPT_MCAREA\":0,\"CODE_ELEV\":\"위탁관리\",\"KAPT_MEAREA\":0,\"CODE_NET\":\"무\",\"KAPT_MHAREA\":0,\"KAPT_USEDATE\":\"2013-07-26\",\"KAPTD_WTIMEBUS\":\"5분이내\",\"KAPT_CODE\":\"A15005002\",\"CODE_APT\":\"주상복합\",\"CODE_WSUPPLY\":\"부스타방식\",\"KAPT_MPAREA\":0,\"KAPT_MAREA\":2961.93,\"KAPT_PAREA\":0,\"KAPT_TAREA\":8069.5,\"CODE_FALARM\":\"GR형\",\"KAPTD_SEC_COM\":\"한성세영비엔에이\",\"KAPTD_ECAPA\":\"950\",\"CODE_STR\":\"철근콘크리트구조\",\"APPL_CODE\":null,\"KAPT_ME1AREA\":0,\"KAPT_ACOMPANY\":\"코람코 자산신탁\",\"KAPT_ME2AREA\":0,\"KAPT_ME3AREA\":0,\"CODE_GARBAGE\":\"음식물쓰레기종량제\",\"KAPT_ME4AREA\":0,\"KAPT_ME5AREA\":0,\"CODE_CLTIME\":\"8\",\"CODE_HALL\":\"복도식\",\"CODE_STIME\":\"15\",\"KAPT_NAME\":\"레전드힐스\",\"KAPT_DONG_CNT\":\"1\",\"CODE_CLEAN\":\"위탁관리\",\"CODE_SALE\":\"분양\",\"CODE_SEC\":\"위탁관리\",\"EMPTY_HO_CNT\":0,\"APPL_PRODATE\":\"\",\"KAPT_URL\":\"-\",\"KAPTD_CLCNT\":\"1\",\"KAPTD_PCNT\":\"73\",\"KAPTD_WTIMESUB\":\"10~15분이내\",\"KAPTD_DCNT\":\"12\",\"EDUCATION_FACILITY\":\"초등학교(우신) 중학교(영원)\",\"KAPT_CCOMPANY\":\"(주)한성세영비엔에이\"},\"resultMap_kapt_areacnt\":[{\"KAPTDA_CNT\":216,\"AREA_GBN\":1,\"KAPT_CODE\":\"A15005002\"},{\"KAPTDA_CNT\":null,\"AREA_GBN\":2,\"KAPT_CODE\":null},{\"KAPTDA_CNT\":null,\"AREA_GBN\":3,\"KAPT_CODE\":null},{\"KAPTDA_CNT\":null,\"AREA_GBN\":4,\"KAPT_CODE\":null}],\"resultMap_kapt_addrList\":[{\"ADDR\":\"서울특별시 영등포구 신길동 261-22 레전드힐스\",\"KAPT_CODE\":\"A15005002\",\"ADDR_GBN\":\"B\"},{\"ADDR\":\"서울특별시 영등포구 가마산로 468\",\"KAPT_CODE\":\"A15005002\",\"ADDR_GBN\":\"R\"}]}\n",
      "{\"resultMap_match\":{\"KAPT_CODE\":\"A15005002\",\"TOWN_CODE\":20181850},\"resultMap_kapt\":{\"KAPT_NAME\":\"레전드힐스\",\"CODE_SALE\":\"분양\",\"CODE_HEAT\":\"개별난방\",\"KAPT_TAREA\":8069.5,\"KAPT_DONG_CNT\":\"1\",\"KAPT_BCOMPANY\":\"우신건설\",\"KAPT_ACOMPANY\":\"코람코 자산신탁\",\"KAPT_TEL\":\"028499181\",\"KAPT_FAX\":\"028499184\",\"KAPT_URL\":\"-\",\"CODE_APT\":\"주상복합\",\"CODE_MGR\":\"위탁관리\",\"KAPT_MGR_CNT\":\"3\",\"KAPT_CCOMPANY\":\"(주)한성세영비엔에이\",\"CODE_SEC\":\"위탁관리\",\"KAPTD_SCNT\":\"2\",\"KAPTD_SEC_COM\":\"한성세영비엔에이\",\"CODE_CLEAN\":\"위탁관리\",\"KAPTD_CLCNT\":\"1\",\"CODE_GARBAGE\":\"음식물쓰레기종량제\",\"CODE_DISINF\":\"위탁관리\",\"KAPTD_DCNT\":\"12\",\"DISPOSAL_TYPE\":\"도포식,분무식,기구부착식,독이식\",\"KAPTD_PCNT\":\"73\",\"KAPTD_PCNTU\":\"0\",\"KAPTD_CCCNT\":\"8\",\"WELFARE_FACILITY\":\"관리사무소\",\"KAPTD_ECAPA\":\"950\",\"CODE_EMGR\":\"위탁선임\",\"CODE_WSUPPLY\":\"부스타방식\",\"CODE_STR\":\"철근콘크리트구조\",\"CODE_ECON\":\"단일계약\",\"CODE_FALARM\":\"GR형\",\"CODE_ELEV\":\"위탁관리\",\"CODE_NET\":\"무\",\"KAPTD_WTIMEBUS\":\"5분이내\",\"CONVENIENT_FACILITY\":\"백화점(디큐브,타임스퀘어)\",\"EDUCATION_FACILITY\":\"초등학교(우신) 중학교(영원)\",\"CODE_HALL\":\"복도식\",\"KAPT_USEDATE\":\"2013-07-26\",\"KAPT_MAREA\":2961.93,\"SUBWAY_STATION\":\"신풍\",\"SUBWAY_LINE\":\"1호선, 7호선\",\"KAPTD_WTIMESUB\":\"10~15분이내\",\"KAPT_CODE\":\"A15005002\"},\"resultMap_kapt_areacnt\":[{\"KAPTDA_CNT\":216,\"AREA_GBN\":1,\"KAPT_CODE\":\"A15005002\"},{\"KAPTDA_CNT\":0,\"AREA_GBN\":2,\"KAPT_CODE\":\"\"},{\"KAPTDA_CNT\":0,\"AREA_GBN\":3,\"KAPT_CODE\":\"\"},{\"KAPTDA_CNT\":0,\"AREA_GBN\":4,\"KAPT_CODE\":\"\"}],\"resultMap_kapt_addrList\":[{\"ADDR\":\"서울특별시 영등포구 신길동 261-22 레전드힐스\",\"KAPT_CODE\":\"A15005002\",\"ADDR_GBN\":\"B\"},{\"ADDR\":\"서울특별시 영등포구 가마산로 468\",\"KAPT_CODE\":\"A15005002\",\"ADDR_GBN\":\"R\"}]}\n",
      "3 / 23 레전드힐스 처리완료\n"
     ]
    },
    {
     "name": "stderr",
     "output_type": "stream",
     "text": [
      "2018/03/22 21:24:46 example.com 200 OK\n"
     ]
    },
    {
     "name": "stdout",
     "output_type": "stream",
     "text": [
      "{\"resultMap_match\":{\"KAPT_CODE\":\"A15086006\",\"TOWN_CODE\":20008680},\"resultMap_kapt\":{\"CODE_HEAT\":\"개별난방\",\"SUBWAY_STATION\":\"신풍\",\"SUBWAY_LINE\":\"7호선\",\"KAPT_PE1AREA\":0,\"KAPT_PE2AREA\":0,\"KAPT_PE3AREA\":0,\"KAPT_PEAREA\":0,\"KAPT_PE4AREA\":0,\"DISPOSAL_TYPE\":\"도포식,분무식\",\"KAPT_PE5AREA\":0,\"KAPTD_ECNTB\":0,\"KAPTD_ECNTC\":0,\"KAPT_PHAREA\":0,\"KAPTD_ECNTD\":0,\"KAPTD_SCNT\":\"10\",\"KAPTD_ECNTE\":0,\"CODE_ECON\":\"단일계약\",\"KAPT_PPAREA\":0,\"KAPTD_CCCNT\":\"154\",\"KAPTD_ECNTM\":0,\"KAPT_TEL\":\"02-848-4779\",\"WELFARE_FACILITY\":\"관리사무소, 노인정, 보육시설, 문고, 주민공동시설, 어린이놀이터, 휴게시설, 자전거보관소\",\"KAPTD_ECNTP\":15,\"KAPT_FAX\":\"02-833-4779\",\"KAPT_ACC_COMPANY\":\"이지스MPK\",\"KAPT_MGR_CNT\":\"7\",\"KAPT_BCOMPANY\":\"경남기업\",\"CONVENIENT_FACILITY\":\"관공서(동사무소) 병원(남수한의원) 대형상가(LG하이프라자) 공원(보라매공원) 기타(돈보스코청소년센터)\",\"CODE_DISINF\":\"위탁관리\",\"CODE_EMGR\":\"상주선임\",\"CODE_MGR\":\"위탁관리\",\"KAPTD_PCNTU\":\"674\",\"CODE_EMAINT\":\"자치관리\",\"KAPT_MCAREA\":0,\"CODE_ELEV\":\"위탁관리\",\"KAPT_MEAREA\":0,\"CODE_NET\":\"유\",\"KAPT_MHAREA\":0,\"KAPT_USEDATE\":\"2005-08-12\",\"KAPTD_WTIMEBUS\":\"5~10분이내\",\"KAPT_CODE\":\"A15086006\",\"CODE_APT\":\"아파트\",\"CODE_WSUPPLY\":\"부스타방식\",\"KAPT_MPAREA\":0,\"KAPT_MAREA\":57010.79,\"KAPT_PAREA\":0,\"KAPT_TAREA\":73156.97,\"CODE_FALARM\":\"R형\",\"KAPTD_SEC_COM\":\"예주산업\",\"KAPTD_ECAPA\":\"2391\",\"CODE_STR\":\"철근콘크리트구조\",\"APPL_CODE\":null,\"KAPT_ME1AREA\":0,\"KAPT_ACOMPANY\":\"경남기업\",\"KAPT_ME2AREA\":0,\"KAPT_ME3AREA\":0,\"CODE_GARBAGE\":\"음식물쓰레기종량제\",\"KAPT_ME4AREA\":0,\"KAPT_ME5AREA\":0,\"CODE_CLTIME\":\"6\",\"CODE_HALL\":\"계단식\",\"CODE_STIME\":\"24\",\"KAPT_NAME\":\"보라매경남아너스빌\",\"KAPT_DONG_CNT\":\"9\",\"CODE_CLEAN\":\"위탁관리\",\"CODE_SALE\":\"분양\",\"CODE_SEC\":\"위탁관리\",\"EMPTY_HO_CNT\":0,\"APPL_PRODATE\":\"\",\"KAPT_URL\":\"-\",\"KAPTD_CLCNT\":\"5\",\"KAPTD_PCNT\":\"125\",\"KAPTD_WTIMESUB\":\"5~10분이내\",\"KAPTD_DCNT\":\"12\",\"EDUCATION_FACILITY\":\"초등학교(대길초등학교) 중학교(대방중학교) 고등학교(영신고등학교)\",\"KAPT_CCOMPANY\":\"광인산업(주)\"},\"resultMap_kapt_areacnt\":[{\"KAPTDA_CNT\":92,\"AREA_GBN\":1,\"KAPT_CODE\":\"A15086006\"},{\"KAPTDA_CNT\":489,\"AREA_GBN\":2,\"KAPT_CODE\":\"A15086006\"},{\"KAPTDA_CNT\":88,\"AREA_GBN\":3,\"KAPT_CODE\":\"A15086006\"},{\"KAPTDA_CNT\":null,\"AREA_GBN\":4,\"KAPT_CODE\":null}],\"resultMap_kapt_addrList\":[{\"ADDR\":\"서울특별시 영등포구 신길동 4780 보라매경남아너스빌\",\"KAPT_CODE\":\"A15086006\",\"ADDR_GBN\":\"B\"},{\"ADDR\":\"서울특별시 영등포구 여의대방로 25\",\"KAPT_CODE\":\"A15086006\",\"ADDR_GBN\":\"R\"}]}\n",
      "{\"resultMap_match\":{\"KAPT_CODE\":\"A15086006\",\"TOWN_CODE\":20008680},\"resultMap_kapt\":{\"KAPT_NAME\":\"보라매경남아너스빌\",\"CODE_SALE\":\"분양\",\"CODE_HEAT\":\"개별난방\",\"KAPT_TAREA\":73156.97,\"KAPT_DONG_CNT\":\"9\",\"KAPT_BCOMPANY\":\"경남기업\",\"KAPT_ACOMPANY\":\"경남기업\",\"KAPT_TEL\":\"02-848-4779\",\"KAPT_FAX\":\"02-833-4779\",\"KAPT_URL\":\"-\",\"CODE_APT\":\"아파트\",\"CODE_MGR\":\"위탁관리\",\"KAPT_MGR_CNT\":\"7\",\"KAPT_CCOMPANY\":\"광인산업(주)\",\"CODE_SEC\":\"위탁관리\",\"KAPTD_SCNT\":\"10\",\"KAPTD_SEC_COM\":\"예주산업\",\"CODE_CLEAN\":\"위탁관리\",\"KAPTD_CLCNT\":\"5\",\"CODE_GARBAGE\":\"음식물쓰레기종량제\",\"CODE_DISINF\":\"위탁관리\",\"KAPTD_DCNT\":\"12\",\"DISPOSAL_TYPE\":\"도포식,분무식\",\"KAPTD_PCNT\":\"125\",\"KAPTD_PCNTU\":\"674\",\"KAPTD_CCCNT\":\"154\",\"WELFARE_FACILITY\":\"관리사무소, 노인정, 보육시설, 문고, 주민공동시설, 어린이놀이터, 휴게시설, 자전거보관소\",\"KAPTD_ECAPA\":\"2391\",\"CODE_EMGR\":\"상주선임\",\"CODE_WSUPPLY\":\"부스타방식\",\"CODE_STR\":\"철근콘크리트구조\",\"CODE_ECON\":\"단일계약\",\"CODE_FALARM\":\"R형\",\"CODE_ELEV\":\"위탁관리\",\"CODE_NET\":\"유\",\"KAPTD_WTIMEBUS\":\"5~10분이내\",\"CONVENIENT_FACILITY\":\"관공서(동사무소) 병원(남수한의원) 대형상가(LG하이프라자) 공원(보라매공원) 기타(돈보스코청소년센터)\",\"EDUCATION_FACILITY\":\"초등학교(대길초등학교) 중학교(대방중학교) 고등학교(영신고등학교)\",\"CODE_HALL\":\"계단식\",\"KAPT_USEDATE\":\"2005-08-12\",\"KAPT_MAREA\":57010.79,\"SUBWAY_STATION\":\"신풍\",\"SUBWAY_LINE\":\"7호선\",\"KAPTD_WTIMESUB\":\"5~10분이내\",\"KAPT_CODE\":\"A15086006\"},\"resultMap_kapt_areacnt\":[{\"KAPTDA_CNT\":92,\"AREA_GBN\":1,\"KAPT_CODE\":\"A15086006\"},{\"KAPTDA_CNT\":489,\"AREA_GBN\":2,\"KAPT_CODE\":\"A15086006\"},{\"KAPTDA_CNT\":88,\"AREA_GBN\":3,\"KAPT_CODE\":\"A15086006\"},{\"KAPTDA_CNT\":0,\"AREA_GBN\":4,\"KAPT_CODE\":\"\"}],\"resultMap_kapt_addrList\":[{\"ADDR\":\"서울특별시 영등포구 신길동 4780 보라매경남아너스빌\",\"KAPT_CODE\":\"A15086006\",\"ADDR_GBN\":\"B\"},{\"ADDR\":\"서울특별시 영등포구 여의대방로 25\",\"KAPT_CODE\":\"A15086006\",\"ADDR_GBN\":\"R\"}]}\n",
      "4 / 23 보라매경남아너스빌 처리완료\n"
     ]
    },
    {
     "name": "stderr",
     "output_type": "stream",
     "text": [
      "2018/03/22 21:24:47 example.com 200 OK\n"
     ]
    },
    {
     "name": "stdout",
     "output_type": "stream",
     "text": [
      "{\"resultMap_match\":{\"KAPT_CODE\":\"A15086001\",\"TOWN_CODE\":20008679},\"resultMap_kapt\":{\"CODE_HEAT\":\"개별난방\",\"SUBWAY_STATION\":\"신풍\",\"SUBWAY_LINE\":\"7호선\",\"KAPT_PE1AREA\":0,\"KAPT_PE2AREA\":0,\"KAPT_PE3AREA\":0,\"KAPT_PEAREA\":0,\"KAPT_PE4AREA\":0,\"DISPOSAL_TYPE\":\"분무식\",\"KAPT_PE5AREA\":0,\"KAPTD_ECNTB\":0,\"KAPTD_ECNTC\":0,\"KAPT_PHAREA\":0,\"KAPTD_ECNTD\":0,\"KAPTD_SCNT\":\"2\",\"KAPTD_ECNTE\":0,\"CODE_ECON\":\"단일계약\",\"KAPT_PPAREA\":0,\"KAPTD_CCCNT\":\"37\",\"KAPTD_ECNTM\":0,\"KAPT_TEL\":\"02-836-0385\",\"WELFARE_FACILITY\":\"관리사무소, 노인정, 어린이놀이터, 자전거보관소\",\"KAPTD_ECNTP\":6,\"KAPT_FAX\":\"02-836-0386\",\"KAPT_ACC_COMPANY\":\"-\",\"KAPT_MGR_CNT\":\"3\",\"KAPT_BCOMPANY\":\"두산건설(주)\",\"CONVENIENT_FACILITY\":\"관공서(동사무소) 병원(김정은소아과의원) 공원(보라매공원) 기타(돈보스코청소년센터)\",\"CODE_DISINF\":\"위탁관리\",\"CODE_EMGR\":\"위탁선임\",\"CODE_MGR\":\"위탁관리\",\"KAPTD_PCNTU\":\"48\",\"CODE_EMAINT\":\"위탁관리\",\"KAPT_MCAREA\":4454.458,\"CODE_ELEV\":\"위탁관리\",\"KAPT_MEAREA\":0,\"CODE_NET\":\"무\",\"KAPT_MHAREA\":0,\"KAPT_USEDATE\":\"2005-11-10\",\"KAPTD_WTIMEBUS\":\"5~10분이내\",\"KAPT_CODE\":\"A15086001\",\"CODE_APT\":\"아파트\",\"CODE_WSUPPLY\":\"부스타방식\",\"KAPT_MPAREA\":17039.876,\"KAPT_MAREA\":17039.43,\"KAPT_PAREA\":0,\"KAPT_TAREA\":27724.41,\"CODE_FALARM\":\"GR형\",\"KAPTD_SEC_COM\":\"(주)한빛관리\",\"KAPTD_ECAPA\":\"900\",\"CODE_STR\":\"철근콘크리트구조\",\"APPL_CODE\":null,\"KAPT_ME1AREA\":0,\"KAPT_ACOMPANY\":\"두산건설\",\"KAPT_ME2AREA\":0,\"KAPT_ME3AREA\":0,\"CODE_GARBAGE\":\"음식물쓰레기종량제\",\"KAPT_ME4AREA\":0,\"KAPT_ME5AREA\":0,\"CODE_CLTIME\":\"6\",\"CODE_HALL\":\"계단식\",\"CODE_STIME\":\"15\",\"KAPT_NAME\":\"보라매두산위브\",\"KAPT_DONG_CNT\":\"2\",\"CODE_CLEAN\":\"위탁관리\",\"CODE_SALE\":\"분양\",\"CODE_SEC\":\"위탁관리\",\"EMPTY_HO_CNT\":0,\"APPL_PRODATE\":\"\",\"KAPT_URL\":\"-\",\"KAPTD_CLCNT\":\"2\",\"KAPTD_PCNT\":\"205\",\"KAPTD_WTIMESUB\":\"5~10분이내\",\"KAPTD_DCNT\":\"12\",\"EDUCATION_FACILITY\":\"초등학교(대길초등학교) 중학교(대방중학교)\",\"KAPT_CCOMPANY\":\"(주)한빛관리\"},\"resultMap_kapt_areacnt\":[{\"KAPTDA_CNT\":null,\"AREA_GBN\":1,\"KAPT_CODE\":null},{\"KAPTDA_CNT\":104,\"AREA_GBN\":2,\"KAPT_CODE\":\"A15086001\"},{\"KAPTDA_CNT\":null,\"AREA_GBN\":3,\"KAPT_CODE\":null},{\"KAPTDA_CNT\":60,\"AREA_GBN\":4,\"KAPT_CODE\":\"A15086001\"}],\"resultMap_kapt_addrList\":[{\"ADDR\":\"서울특별시 영등포구 신길동 4497 보라매두산위브\",\"KAPT_CODE\":\"A15086001\",\"ADDR_GBN\":\"B\"},{\"ADDR\":\"서울특별시 영등포구 여의대방로9길 5\",\"KAPT_CODE\":\"A15086001\",\"ADDR_GBN\":\"R\"}]}\n",
      "{\"resultMap_match\":{\"KAPT_CODE\":\"A15086001\",\"TOWN_CODE\":20008679},\"resultMap_kapt\":{\"KAPT_NAME\":\"보라매두산위브\",\"CODE_SALE\":\"분양\",\"CODE_HEAT\":\"개별난방\",\"KAPT_TAREA\":27724.41,\"KAPT_DONG_CNT\":\"2\",\"KAPT_BCOMPANY\":\"두산건설(주)\",\"KAPT_ACOMPANY\":\"두산건설\",\"KAPT_TEL\":\"02-836-0385\",\"KAPT_FAX\":\"02-836-0386\",\"KAPT_URL\":\"-\",\"CODE_APT\":\"아파트\",\"CODE_MGR\":\"위탁관리\",\"KAPT_MGR_CNT\":\"3\",\"KAPT_CCOMPANY\":\"(주)한빛관리\",\"CODE_SEC\":\"위탁관리\",\"KAPTD_SCNT\":\"2\",\"KAPTD_SEC_COM\":\"(주)한빛관리\",\"CODE_CLEAN\":\"위탁관리\",\"KAPTD_CLCNT\":\"2\",\"CODE_GARBAGE\":\"음식물쓰레기종량제\",\"CODE_DISINF\":\"위탁관리\",\"KAPTD_DCNT\":\"12\",\"DISPOSAL_TYPE\":\"분무식\",\"KAPTD_PCNT\":\"205\",\"KAPTD_PCNTU\":\"48\",\"KAPTD_CCCNT\":\"37\",\"WELFARE_FACILITY\":\"관리사무소, 노인정, 어린이놀이터, 자전거보관소\",\"KAPTD_ECAPA\":\"900\",\"CODE_EMGR\":\"위탁선임\",\"CODE_WSUPPLY\":\"부스타방식\",\"CODE_STR\":\"철근콘크리트구조\",\"CODE_ECON\":\"단일계약\",\"CODE_FALARM\":\"GR형\",\"CODE_ELEV\":\"위탁관리\",\"CODE_NET\":\"무\",\"KAPTD_WTIMEBUS\":\"5~10분이내\",\"CONVENIENT_FACILITY\":\"관공서(동사무소) 병원(김정은소아과의원) 공원(보라매공원) 기타(돈보스코청소년센터)\",\"EDUCATION_FACILITY\":\"초등학교(대길초등학교) 중학교(대방중학교)\",\"CODE_HALL\":\"계단식\",\"KAPT_USEDATE\":\"2005-11-10\",\"KAPT_MAREA\":17039.43,\"SUBWAY_STATION\":\"신풍\",\"SUBWAY_LINE\":\"7호선\",\"KAPTD_WTIMESUB\":\"5~10분이내\",\"KAPT_CODE\":\"A15086001\"},\"resultMap_kapt_areacnt\":[{\"KAPTDA_CNT\":0,\"AREA_GBN\":1,\"KAPT_CODE\":\"\"},{\"KAPTDA_CNT\":104,\"AREA_GBN\":2,\"KAPT_CODE\":\"A15086001\"},{\"KAPTDA_CNT\":0,\"AREA_GBN\":3,\"KAPT_CODE\":\"\"},{\"KAPTDA_CNT\":60,\"AREA_GBN\":4,\"KAPT_CODE\":\"A15086001\"}],\"resultMap_kapt_addrList\":[{\"ADDR\":\"서울특별시 영등포구 신길동 4497 보라매두산위브\",\"KAPT_CODE\":\"A15086001\",\"ADDR_GBN\":\"B\"},{\"ADDR\":\"서울특별시 영등포구 여의대방로9길 5\",\"KAPT_CODE\":\"A15086001\",\"ADDR_GBN\":\"R\"}]}\n",
      "5 / 23 보라매두산위브 처리완료\n"
     ]
    },
    {
     "name": "stderr",
     "output_type": "stream",
     "text": [
      "2018/03/22 21:24:47 example.com 200 OK\n"
     ]
    },
    {
     "name": "stdout",
     "output_type": "stream",
     "text": [
      "{\"resultMap_match\":{\"KAPT_CODE\":\"A15005102\",\"TOWN_CODE\":1055},\"resultMap_kapt\":{\"CODE_HEAT\":\"개별난방\",\"SUBWAY_STATION\":\"신풍\",\"SUBWAY_LINE\":\"7호선\",\"KAPT_PE1AREA\":0,\"KAPT_PE2AREA\":0,\"KAPT_PE3AREA\":0,\"KAPT_PEAREA\":0,\"KAPT_PE4AREA\":0,\"DISPOSAL_TYPE\":\"-\",\"KAPT_PE5AREA\":0,\"KAPTD_ECNTB\":0,\"KAPTD_ECNTC\":0,\"KAPT_PHAREA\":0,\"KAPTD_ECNTD\":0,\"KAPTD_SCNT\":\"2\",\"KAPTD_ECNTE\":0,\"CODE_ECON\":\"단일계약\",\"KAPT_PPAREA\":0,\"KAPTD_CCCNT\":\"24\",\"KAPTD_ECNTM\":0,\"KAPT_TEL\":\"02)834-9119\",\"WELFARE_FACILITY\":\"어린이놀이터\",\"KAPTD_ECNTP\":4,\"KAPT_FAX\":\"02834-9122\",\"KAPT_ACC_COMPANY\":\"-\",\"KAPT_MGR_CNT\":\"2\",\"KAPT_BCOMPANY\":\"우정건설 주식회사\",\"CONVENIENT_FACILITY\":\"관공서(동사무소) 병원(보인의원) 대형상가(사러가쇼핑센터) 공원(근린공원)\",\"CODE_DISINF\":\"기타\",\"CODE_EMGR\":\"위탁선임\",\"CODE_MGR\":\"위탁관리\",\"KAPTD_PCNTU\":\"28\",\"CODE_EMAINT\":\"위탁관리\",\"KAPT_MCAREA\":0,\"CODE_ELEV\":\"위탁관리\",\"KAPT_MEAREA\":0,\"CODE_NET\":\"무\",\"KAPT_MHAREA\":0,\"KAPT_USEDATE\":\"2000-07-11\",\"KAPTD_WTIMEBUS\":\"10~15분이내\",\"KAPT_CODE\":\"A15005102\",\"CODE_APT\":\"아파트\",\"CODE_WSUPPLY\":\"고가수조식\",\"KAPT_MPAREA\":0,\"KAPT_MAREA\":9969.7,\"KAPT_PAREA\":0,\"KAPT_TAREA\":15140,\"CODE_FALARM\":\"P형\",\"KAPTD_SEC_COM\":\"유원종합관리(주)\",\"KAPTD_ECAPA\":\"450\",\"CODE_STR\":\"철근콘크리트구조\",\"APPL_CODE\":null,\"KAPT_ME1AREA\":0,\"KAPT_ACOMPANY\":\"도시개발 공사\",\"KAPT_ME2AREA\":0,\"KAPT_ME3AREA\":0,\"CODE_GARBAGE\":\"거점장비수거방식\",\"KAPT_ME4AREA\":0,\"KAPT_ME5AREA\":0,\"CODE_CLTIME\":\"5\",\"CODE_HALL\":\"복도식\",\"CODE_STIME\":\"16\",\"KAPT_NAME\":\"신기목련\",\"KAPT_DONG_CNT\":\"2\",\"CODE_CLEAN\":\"위탁관리\",\"CODE_SALE\":\"임대+분양\",\"CODE_SEC\":\"위탁관리\",\"EMPTY_HO_CNT\":null,\"APPL_PRODATE\":\"\",\"KAPT_URL\":\"-\",\"KAPTD_CLCNT\":\"1\",\"KAPTD_PCNT\":\"102\",\"KAPTD_WTIMESUB\":\"10~15분이내\",\"KAPTD_DCNT\":\"2\",\"EDUCATION_FACILITY\":\"초등학교(우신초등학교)\",\"KAPT_CCOMPANY\":\"유원종합관리(주)\"},\"resultMap_kapt_areacnt\":[{\"KAPTDA_CNT\":213,\"AREA_GBN\":1,\"KAPT_CODE\":\"A15005102\"},{\"KAPTDA_CNT\":null,\"AREA_GBN\":2,\"KAPT_CODE\":null},{\"KAPTDA_CNT\":null,\"AREA_GBN\":3,\"KAPT_CODE\":null},{\"KAPTDA_CNT\":null,\"AREA_GBN\":4,\"KAPT_CODE\":null}],\"resultMap_kapt_addrList\":[{\"ADDR\":\"서울특별시 영등포구 신길동 4935 신기목련아파트\",\"KAPT_CODE\":\"A15005102\",\"ADDR_GBN\":\"B\"},{\"ADDR\":\"서울특별시 영등포구 신길로42가길 34\",\"KAPT_CODE\":\"A15005102\",\"ADDR_GBN\":\"R\"}]}\n",
      "{\"resultMap_match\":{\"KAPT_CODE\":\"A15005102\",\"TOWN_CODE\":1055},\"resultMap_kapt\":{\"KAPT_NAME\":\"신기목련\",\"CODE_SALE\":\"임대+분양\",\"CODE_HEAT\":\"개별난방\",\"KAPT_TAREA\":15140,\"KAPT_DONG_CNT\":\"2\",\"KAPT_BCOMPANY\":\"우정건설 주식회사\",\"KAPT_ACOMPANY\":\"도시개발 공사\",\"KAPT_TEL\":\"02)834-9119\",\"KAPT_FAX\":\"02834-9122\",\"KAPT_URL\":\"-\",\"CODE_APT\":\"아파트\",\"CODE_MGR\":\"위탁관리\",\"KAPT_MGR_CNT\":\"2\",\"KAPT_CCOMPANY\":\"유원종합관리(주)\",\"CODE_SEC\":\"위탁관리\",\"KAPTD_SCNT\":\"2\",\"KAPTD_SEC_COM\":\"유원종합관리(주)\",\"CODE_CLEAN\":\"위탁관리\",\"KAPTD_CLCNT\":\"1\",\"CODE_GARBAGE\":\"거점장비수거방식\",\"CODE_DISINF\":\"기타\",\"KAPTD_DCNT\":\"2\",\"DISPOSAL_TYPE\":\"-\",\"KAPTD_PCNT\":\"102\",\"KAPTD_PCNTU\":\"28\",\"KAPTD_CCCNT\":\"24\",\"WELFARE_FACILITY\":\"어린이놀이터\",\"KAPTD_ECAPA\":\"450\",\"CODE_EMGR\":\"위탁선임\",\"CODE_WSUPPLY\":\"고가수조식\",\"CODE_STR\":\"철근콘크리트구조\",\"CODE_ECON\":\"단일계약\",\"CODE_FALARM\":\"P형\",\"CODE_ELEV\":\"위탁관리\",\"CODE_NET\":\"무\",\"KAPTD_WTIMEBUS\":\"10~15분이내\",\"CONVENIENT_FACILITY\":\"관공서(동사무소) 병원(보인의원) 대형상가(사러가쇼핑센터) 공원(근린공원)\",\"EDUCATION_FACILITY\":\"초등학교(우신초등학교)\",\"CODE_HALL\":\"복도식\",\"KAPT_USEDATE\":\"2000-07-11\",\"KAPT_MAREA\":9969.7,\"SUBWAY_STATION\":\"신풍\",\"SUBWAY_LINE\":\"7호선\",\"KAPTD_WTIMESUB\":\"10~15분이내\",\"KAPT_CODE\":\"A15005102\"},\"resultMap_kapt_areacnt\":[{\"KAPTDA_CNT\":213,\"AREA_GBN\":1,\"KAPT_CODE\":\"A15005102\"},{\"KAPTDA_CNT\":0,\"AREA_GBN\":2,\"KAPT_CODE\":\"\"},{\"KAPTDA_CNT\":0,\"AREA_GBN\":3,\"KAPT_CODE\":\"\"},{\"KAPTDA_CNT\":0,\"AREA_GBN\":4,\"KAPT_CODE\":\"\"}],\"resultMap_kapt_addrList\":[{\"ADDR\":\"서울특별시 영등포구 신길동 4935 신기목련아파트\",\"KAPT_CODE\":\"A15005102\",\"ADDR_GBN\":\"B\"},{\"ADDR\":\"서울특별시 영등포구 신길로42가길 34\",\"KAPT_CODE\":\"A15005102\",\"ADDR_GBN\":\"R\"}]}\n",
      "6 / 23 신기목련 처리완료\n"
     ]
    },
    {
     "name": "stderr",
     "output_type": "stream",
     "text": [
      "2018/03/22 21:24:47 example.com 200 OK\n",
      "2018/03/22 21:24:47 example.com 200 OK\n"
     ]
    },
    {
     "name": "stdout",
     "output_type": "stream",
     "text": [
      "{\"resultMap_match\":{\"KAPT_CODE\":\"A15005303\",\"TOWN_CODE\":1057},\"resultMap_kapt\":{\"CODE_HEAT\":\"개별난방\",\"SUBWAY_STATION\":\"신도림역,문래역\",\"SUBWAY_LINE\":\"1호선, 2호선\",\"KAPT_PE1AREA\":0,\"KAPT_PE2AREA\":0,\"KAPT_PE3AREA\":0,\"KAPT_PEAREA\":0,\"KAPT_PE4AREA\":0,\"DISPOSAL_TYPE\":\"도포식,분무식,독이식\",\"KAPT_PE5AREA\":0,\"KAPTD_ECNTB\":0,\"KAPTD_ECNTC\":0,\"KAPT_PHAREA\":0,\"KAPTD_ECNTD\":0,\"KAPTD_SCNT\":\"9\",\"KAPTD_ECNTE\":0,\"CODE_ECON\":\"단일계약\",\"KAPT_PPAREA\":0,\"KAPTD_CCCNT\":\"48\",\"KAPTD_ECNTM\":0,\"KAPT_TEL\":\"02-833-6584\",\"WELFARE_FACILITY\":\"관리사무소, 노인정, 어린이놀이터\",\"KAPTD_ECNTP\":16,\"KAPT_FAX\":\"02-6673-6583\",\"KAPT_ACC_COMPANY\":\"-\",\"KAPT_MGR_CNT\":\"5\",\"KAPT_BCOMPANY\":\"(주)우성건설\",\"CONVENIENT_FACILITY\":\"관공서(동사무소) 병원(한산부인과) 대형상가(LG하이프라자) 공원(근린공원)\",\"CODE_DISINF\":\"위탁관리\",\"CODE_EMGR\":\"상주선임\",\"CODE_MGR\":\"위탁관리\",\"KAPTD_PCNTU\":\"0\",\"CODE_EMAINT\":\"위탁관리\",\"KAPT_MCAREA\":0,\"CODE_ELEV\":\"위탁관리\",\"KAPT_MEAREA\":0,\"CODE_NET\":\"무\",\"KAPT_MHAREA\":0,\"KAPT_USEDATE\":\"1986-09-03\",\"KAPTD_WTIMEBUS\":\"5분이내\",\"KAPT_CODE\":\"A15005303\",\"CODE_APT\":\"아파트\",\"CODE_WSUPPLY\":\"고가수조식\",\"KAPT_MPAREA\":61767.2,\"KAPT_MAREA\":46238.48,\"KAPT_PAREA\":0,\"KAPT_TAREA\":61767.2,\"CODE_FALARM\":\"P형\",\"KAPTD_SEC_COM\":\"조은세이프\",\"KAPTD_ECAPA\":\"1760\",\"CODE_STR\":\"철근콘크리트구조\",\"APPL_CODE\":null,\"KAPT_ME1AREA\":0,\"KAPT_ACOMPANY\":\"(주)우성건설\",\"KAPT_ME2AREA\":0,\"KAPT_ME3AREA\":0,\"CODE_GARBAGE\":\"음식물쓰레기종량제\",\"KAPT_ME4AREA\":0,\"KAPT_ME5AREA\":0,\"CODE_CLTIME\":\"6\",\"CODE_HALL\":\"혼합식\",\"CODE_STIME\":\"24\",\"KAPT_NAME\":\"신길1차우성아파트\",\"KAPT_DONG_CNT\":\"6\",\"CODE_CLEAN\":\"위탁관리\",\"CODE_SALE\":\"분양\",\"CODE_SEC\":\"위탁관리\",\"EMPTY_HO_CNT\":null,\"APPL_PRODATE\":\"\",\"KAPT_URL\":\"apt913.aptgate.co.kr\",\"KAPTD_CLCNT\":\"6\",\"KAPTD_PCNT\":\"470\",\"KAPTD_WTIMESUB\":\"5~10분이내\",\"KAPTD_DCNT\":\"12\",\"EDUCATION_FACILITY\":\"초등학교(대영초등학교) 중학교(대영중교) 고등학교(대영고교)\",\"KAPT_CCOMPANY\":\"(주)아주관리\"},\"resultMap_kapt_areacnt\":[{\"KAPTDA_CNT\":182,\"AREA_GBN\":1,\"KAPT_CODE\":\"A15005303\"},{\"KAPTDA_CNT\":506,\"AREA_GBN\":2,\"KAPT_CODE\":\"A15005303\"},{\"KAPTDA_CNT\":null,\"AREA_GBN\":3,\"KAPT_CODE\":null},{\"KAPTDA_CNT\":null,\"AREA_GBN\":4,\"KAPT_CODE\":null}],\"resultMap_kapt_addrList\":[{\"ADDR\":\"서울특별시 영등포구 신길동 365 신길우성아파트\",\"KAPT_CODE\":\"A15005303\",\"ADDR_GBN\":\"B\"},{\"ADDR\":\"서울특별시 영등포구 도신로 68-1\",\"KAPT_CODE\":\"A15005303\",\"ADDR_GBN\":\"R\"}]}\n",
      "{\"resultMap_match\":{\"KAPT_CODE\":\"A15005303\",\"TOWN_CODE\":1057},\"resultMap_kapt\":{\"KAPT_NAME\":\"신길1차우성아파트\",\"CODE_SALE\":\"분양\",\"CODE_HEAT\":\"개별난방\",\"KAPT_TAREA\":61767.2,\"KAPT_DONG_CNT\":\"6\",\"KAPT_BCOMPANY\":\"(주)우성건설\",\"KAPT_ACOMPANY\":\"(주)우성건설\",\"KAPT_TEL\":\"02-833-6584\",\"KAPT_FAX\":\"02-6673-6583\",\"KAPT_URL\":\"apt913.aptgate.co.kr\",\"CODE_APT\":\"아파트\",\"CODE_MGR\":\"위탁관리\",\"KAPT_MGR_CNT\":\"5\",\"KAPT_CCOMPANY\":\"(주)아주관리\",\"CODE_SEC\":\"위탁관리\",\"KAPTD_SCNT\":\"9\",\"KAPTD_SEC_COM\":\"조은세이프\",\"CODE_CLEAN\":\"위탁관리\",\"KAPTD_CLCNT\":\"6\",\"CODE_GARBAGE\":\"음식물쓰레기종량제\",\"CODE_DISINF\":\"위탁관리\",\"KAPTD_DCNT\":\"12\",\"DISPOSAL_TYPE\":\"도포식,분무식,독이식\",\"KAPTD_PCNT\":\"470\",\"KAPTD_PCNTU\":\"0\",\"KAPTD_CCCNT\":\"48\",\"WELFARE_FACILITY\":\"관리사무소, 노인정, 어린이놀이터\",\"KAPTD_ECAPA\":\"1760\",\"CODE_EMGR\":\"상주선임\",\"CODE_WSUPPLY\":\"고가수조식\",\"CODE_STR\":\"철근콘크리트구조\",\"CODE_ECON\":\"단일계약\",\"CODE_FALARM\":\"P형\",\"CODE_ELEV\":\"위탁관리\",\"CODE_NET\":\"무\",\"KAPTD_WTIMEBUS\":\"5분이내\",\"CONVENIENT_FACILITY\":\"관공서(동사무소) 병원(한산부인과) 대형상가(LG하이프라자) 공원(근린공원)\",\"EDUCATION_FACILITY\":\"초등학교(대영초등학교) 중학교(대영중교) 고등학교(대영고교)\",\"CODE_HALL\":\"혼합식\",\"KAPT_USEDATE\":\"1986-09-03\",\"KAPT_MAREA\":46238.48,\"SUBWAY_STATION\":\"신도림역,문래역\",\"SUBWAY_LINE\":\"1호선, 2호선\",\"KAPTD_WTIMESUB\":\"5~10분이내\",\"KAPT_CODE\":\"A15005303\"},\"resultMap_kapt_areacnt\":[{\"KAPTDA_CNT\":182,\"AREA_GBN\":1,\"KAPT_CODE\":\"A15005303\"},{\"KAPTDA_CNT\":506,\"AREA_GBN\":2,\"KAPT_CODE\":\"A15005303\"},{\"KAPTDA_CNT\":0,\"AREA_GBN\":3,\"KAPT_CODE\":\"\"},{\"KAPTDA_CNT\":0,\"AREA_GBN\":4,\"KAPT_CODE\":\"\"}],\"resultMap_kapt_addrList\":[{\"ADDR\":\"서울특별시 영등포구 신길동 365 신길우성아파트\",\"KAPT_CODE\":\"A15005303\",\"ADDR_GBN\":\"B\"},{\"ADDR\":\"서울특별시 영등포구 도신로 68-1\",\"KAPT_CODE\":\"A15005303\",\"ADDR_GBN\":\"R\"}]}\n",
      "7 / 23 신길1차우성아파트 처리완료\n",
      "{\"resultMap_match\":{\"KAPT_CODE\":\"A15005302\",\"TOWN_CODE\":1047},\"resultMap_kapt\":{\"CODE_HEAT\":\"개별난방\",\"SUBWAY_STATION\":\"신풍역\",\"SUBWAY_LINE\":\"1호선, 2호선, 7호선\",\"KAPT_PE1AREA\":0,\"KAPT_PE2AREA\":0,\"KAPT_PE3AREA\":0,\"KAPT_PEAREA\":0,\"KAPT_PE4AREA\":0,\"DISPOSAL_TYPE\":\"분무식,독이식\",\"KAPT_PE5AREA\":0,\"KAPTD_ECNTB\":0,\"KAPTD_ECNTC\":0,\"KAPT_PHAREA\":0,\"KAPTD_ECNTD\":0,\"KAPTD_SCNT\":\"6\",\"KAPTD_ECNTE\":0,\"CODE_ECON\":\"종합계약\",\"KAPT_PPAREA\":0,\"KAPTD_CCCNT\":\"107\",\"KAPTD_ECNTM\":0,\"KAPT_TEL\":\"844-2535\",\"WELFARE_FACILITY\":\"관리사무소, 노인정, 어린이놀이터, 자전거보관소\",\"KAPTD_ECNTP\":4,\"KAPT_FAX\":\"844-2535\",\"KAPT_ACC_COMPANY\":\"-\",\"KAPT_MGR_CNT\":\"4\",\"KAPT_BCOMPANY\":\"LIG건영\",\"CONVENIENT_FACILITY\":\"관공서(신길3동) 병원(한산부인과) 대형상가(LG하이프라자) 공원(근린공원)\",\"CODE_DISINF\":\"위탁관리\",\"CODE_EMGR\":\"위탁선임\",\"CODE_MGR\":\"자치관리\",\"KAPTD_PCNTU\":\"0\",\"CODE_EMAINT\":\"위탁관리\",\"KAPT_MCAREA\":0,\"CODE_ELEV\":\"위탁관리\",\"KAPT_MEAREA\":0,\"CODE_NET\":\"유\",\"KAPT_MHAREA\":0,\"KAPT_USEDATE\":\"1985-09-04\",\"KAPTD_WTIMEBUS\":\"5~10분이내\",\"KAPT_CODE\":\"A15005302\",\"CODE_APT\":\"아파트\",\"CODE_WSUPPLY\":\"부스타방식\",\"KAPT_MPAREA\":0,\"KAPT_MAREA\":31387.44,\"KAPT_PAREA\":0,\"KAPT_TAREA\":44462.75,\"CODE_FALARM\":\"P형\",\"KAPTD_SEC_COM\":\"-\",\"KAPTD_ECAPA\":\"995\",\"CODE_STR\":\"철근콘크리트구조\",\"APPL_CODE\":null,\"KAPT_ME1AREA\":0,\"KAPT_ACOMPANY\":\"(주)건영\",\"KAPT_ME2AREA\":0,\"KAPT_ME3AREA\":0,\"CODE_GARBAGE\":\"음식물쓰레기종량제\",\"KAPT_ME4AREA\":0,\"KAPT_ME5AREA\":0,\"CODE_CLTIME\":\"5\",\"CODE_HALL\":\"복도식\",\"CODE_STIME\":\"-\",\"KAPT_NAME\":\"신길건영\",\"KAPT_DONG_CNT\":\"4\",\"CODE_CLEAN\":\"위탁관리\",\"CODE_SALE\":\"분양\",\"CODE_SEC\":\"자치관리\",\"EMPTY_HO_CNT\":0,\"APPL_PRODATE\":\"\",\"KAPT_URL\":\"신길건영.apti.co.kr\",\"KAPTD_CLCNT\":\"5\",\"KAPTD_PCNT\":\"313\",\"KAPTD_WTIMESUB\":\"5~10분이내\",\"KAPTD_DCNT\":\"12\",\"EDUCATION_FACILITY\":\"초등학교(대영초등학교) 중학교(대영중교) 고등학교(대영고교)\",\"KAPT_CCOMPANY\":\"-\"},\"resultMap_kapt_areacnt\":[{\"KAPTDA_CNT\":null,\"AREA_GBN\":1,\"KAPT_CODE\":null},{\"KAPTDA_CNT\":160,\"AREA_GBN\":2,\"KAPT_CODE\":\"A15005302\"},{\"KAPTDA_CNT\":226,\"AREA_GBN\":3,\"KAPT_CODE\":\"A15005302\"},{\"KAPTDA_CNT\":null,\"AREA_GBN\":4,\"KAPT_CODE\":null}],\"resultMap_kapt_addrList\":[{\"ADDR\":\"서울특별시 영등포구 신길동 364 건영아파트\",\"KAPT_CODE\":\"A15005302\",\"ADDR_GBN\":\"B\"},{\"ADDR\":\"서울특별시 영등포구 도림로 313\",\"KAPT_CODE\":\"A15005302\",\"ADDR_GBN\":\"R\"}]}\n",
      "{\"resultMap_match\":{\"KAPT_CODE\":\"A15005302\",\"TOWN_CODE\":1047},\"resultMap_kapt\":{\"KAPT_NAME\":\"신길건영\",\"CODE_SALE\":\"분양\",\"CODE_HEAT\":\"개별난방\",\"KAPT_TAREA\":44462.75,\"KAPT_DONG_CNT\":\"4\",\"KAPT_BCOMPANY\":\"LIG건영\",\"KAPT_ACOMPANY\":\"(주)건영\",\"KAPT_TEL\":\"844-2535\",\"KAPT_FAX\":\"844-2535\",\"KAPT_URL\":\"신길건영.apti.co.kr\",\"CODE_APT\":\"아파트\",\"CODE_MGR\":\"자치관리\",\"KAPT_MGR_CNT\":\"4\",\"KAPT_CCOMPANY\":\"-\",\"CODE_SEC\":\"자치관리\",\"KAPTD_SCNT\":\"6\",\"KAPTD_SEC_COM\":\"-\",\"CODE_CLEAN\":\"위탁관리\",\"KAPTD_CLCNT\":\"5\",\"CODE_GARBAGE\":\"음식물쓰레기종량제\",\"CODE_DISINF\":\"위탁관리\",\"KAPTD_DCNT\":\"12\",\"DISPOSAL_TYPE\":\"분무식,독이식\",\"KAPTD_PCNT\":\"313\",\"KAPTD_PCNTU\":\"0\",\"KAPTD_CCCNT\":\"107\",\"WELFARE_FACILITY\":\"관리사무소, 노인정, 어린이놀이터, 자전거보관소\",\"KAPTD_ECAPA\":\"995\",\"CODE_EMGR\":\"위탁선임\",\"CODE_WSUPPLY\":\"부스타방식\",\"CODE_STR\":\"철근콘크리트구조\",\"CODE_ECON\":\"종합계약\",\"CODE_FALARM\":\"P형\",\"CODE_ELEV\":\"위탁관리\",\"CODE_NET\":\"유\",\"KAPTD_WTIMEBUS\":\"5~10분이내\",\"CONVENIENT_FACILITY\":\"관공서(신길3동) 병원(한산부인과) 대형상가(LG하이프라자) 공원(근린공원)\",\"EDUCATION_FACILITY\":\"초등학교(대영초등학교) 중학교(대영중교) 고등학교(대영고교)\",\"CODE_HALL\":\"복도식\",\"KAPT_USEDATE\":\"1985-09-04\",\"KAPT_MAREA\":31387.44,\"SUBWAY_STATION\":\"신풍역\",\"SUBWAY_LINE\":\"1호선, 2호선, 7호선\",\"KAPTD_WTIMESUB\":\"5~10분이내\",\"KAPT_CODE\":\"A15005302\"},\"resultMap_kapt_areacnt\":[{\"KAPTDA_CNT\":0,\"AREA_GBN\":1,\"KAPT_CODE\":\"\"},{\"KAPTDA_CNT\":160,\"AREA_GBN\":2,\"KAPT_CODE\":\"A15005302\"},{\"KAPTDA_CNT\":226,\"AREA_GBN\":3,\"KAPT_CODE\":\"A15005302\"},{\"KAPTDA_CNT\":0,\"AREA_GBN\":4,\"KAPT_CODE\":\"\"}],\"resultMap_kapt_addrList\":[{\"ADDR\":\"서울특별시 영등포구 신길동 364 건영아파트\",\"KAPT_CODE\":\"A15005302\",\"ADDR_GBN\":\"B\"},{\"ADDR\":\"서울특별시 영등포구 도림로 313\",\"KAPT_CODE\":\"A15005302\",\"ADDR_GBN\":\"R\"}]}\n",
      "8 / 23 신길건영 처리완료\n"
     ]
    },
    {
     "name": "stderr",
     "output_type": "stream",
     "text": [
      "2018/03/22 21:24:47 example.com 200 OK\n"
     ]
    },
    {
     "name": "stdout",
     "output_type": "stream",
     "text": [
      "{\"resultMap_match\":{\"KAPT_CODE\":\"A15083703\",\"TOWN_CODE\":1048},\"resultMap_kapt\":{\"CODE_HEAT\":\"개별난방\",\"SUBWAY_STATION\":\"신길역\",\"SUBWAY_LINE\":\"1호선, 5호선\",\"KAPT_PE1AREA\":0,\"KAPT_PE2AREA\":0,\"KAPT_PE3AREA\":0,\"KAPT_PEAREA\":0,\"KAPT_PE4AREA\":0,\"DISPOSAL_TYPE\":\"도포식,분무식,기구부착식,기구설치식,독이식\",\"KAPT_PE5AREA\":0,\"KAPTD_ECNTB\":0,\"KAPTD_ECNTC\":0,\"KAPT_PHAREA\":0,\"KAPTD_ECNTD\":0,\"KAPTD_SCNT\":\"4\",\"KAPTD_ECNTE\":0,\"CODE_ECON\":\"단일계약\",\"KAPT_PPAREA\":0,\"KAPTD_CCCNT\":\"67\",\"KAPTD_ECNTM\":0,\"KAPT_TEL\":\"02-835-7655\",\"WELFARE_FACILITY\":\"관리사무소, 노인정, 어린이놀이터\",\"KAPTD_ECNTP\":8,\"KAPT_FAX\":\"02-6747-7677\",\"KAPT_ACC_COMPANY\":\"-\",\"KAPT_MGR_CNT\":\"4\",\"KAPT_BCOMPANY\":\"경남건설\",\"CONVENIENT_FACILITY\":\"관공서(동사무소) 병원(서울대윤병원) 공원(여의도생태공원)\",\"CODE_DISINF\":\"위탁관리\",\"CODE_EMGR\":\"위탁선임\",\"CODE_MGR\":\"자치관리\",\"KAPTD_PCNTU\":\"351\",\"CODE_EMAINT\":\"자치관리\",\"KAPT_MCAREA\":9544.27,\"CODE_ELEV\":\"위탁관리\",\"KAPT_MEAREA\":0,\"CODE_NET\":\"무\",\"KAPT_MHAREA\":0,\"KAPT_USEDATE\":\"1999-06-15\",\"KAPTD_WTIMEBUS\":\"5분이내\",\"KAPT_CODE\":\"A15083703\",\"CODE_APT\":\"아파트\",\"CODE_WSUPPLY\":\"고가수조식\",\"KAPT_MPAREA\":29601.1,\"KAPT_MAREA\":29601.1,\"KAPT_PAREA\":0,\"KAPT_TAREA\":49860.67,\"CODE_FALARM\":\"P형\",\"KAPTD_SEC_COM\":\"한국보안시스템\",\"KAPTD_ECAPA\":\"1240\",\"CODE_STR\":\"철근콘크리트구조\",\"APPL_CODE\":null,\"KAPT_ME1AREA\":0,\"KAPT_ACOMPANY\":\"경남건설\",\"KAPT_ME2AREA\":0,\"KAPT_ME3AREA\":0,\"CODE_GARBAGE\":\"거점장비수거방식\",\"KAPT_ME4AREA\":0,\"KAPT_ME5AREA\":0,\"CODE_CLTIME\":\"5\",\"CODE_HALL\":\"혼합식\",\"CODE_STIME\":\"16\",\"KAPT_NAME\":\"신길경남\",\"KAPT_DONG_CNT\":\"5\",\"CODE_CLEAN\":\"위탁관리\",\"CODE_SALE\":\"분양\",\"CODE_SEC\":\"위탁관리\",\"EMPTY_HO_CNT\":10,\"APPL_PRODATE\":\"\",\"KAPT_URL\":\"-\",\"KAPTD_CLCNT\":\"4\",\"KAPTD_PCNT\":\"84\",\"KAPTD_WTIMESUB\":\"5분이내\",\"KAPTD_DCNT\":\"12\",\"EDUCATION_FACILITY\":\"중학교(영원중교) 고등학교(장훈고교)\",\"KAPT_CCOMPANY\":\"-\"},\"resultMap_kapt_areacnt\":[{\"KAPTDA_CNT\":165,\"AREA_GBN\":1,\"KAPT_CODE\":\"A15083703\"},{\"KAPTDA_CNT\":121,\"AREA_GBN\":2,\"KAPT_CODE\":\"A15083703\"},{\"KAPTDA_CNT\":82,\"AREA_GBN\":3,\"KAPT_CODE\":\"A15083703\"},{\"KAPTDA_CNT\":null,\"AREA_GBN\":4,\"KAPT_CODE\":null}],\"resultMap_kapt_addrList\":[{\"ADDR\":\"서울특별시 영등포구 신길동 67-1 신길동경남아파트\",\"KAPT_CODE\":\"A15083703\",\"ADDR_GBN\":\"B\"},{\"ADDR\":\"서울특별시 영등포구 영등포로 351\",\"KAPT_CODE\":\"A15083703\",\"ADDR_GBN\":\"R\"}]}\n",
      "{\"resultMap_match\":{\"KAPT_CODE\":\"A15083703\",\"TOWN_CODE\":1048},\"resultMap_kapt\":{\"KAPT_NAME\":\"신길경남\",\"CODE_SALE\":\"분양\",\"CODE_HEAT\":\"개별난방\",\"KAPT_TAREA\":49860.67,\"KAPT_DONG_CNT\":\"5\",\"KAPT_BCOMPANY\":\"경남건설\",\"KAPT_ACOMPANY\":\"경남건설\",\"KAPT_TEL\":\"02-835-7655\",\"KAPT_FAX\":\"02-6747-7677\",\"KAPT_URL\":\"-\",\"CODE_APT\":\"아파트\",\"CODE_MGR\":\"자치관리\",\"KAPT_MGR_CNT\":\"4\",\"KAPT_CCOMPANY\":\"-\",\"CODE_SEC\":\"위탁관리\",\"KAPTD_SCNT\":\"4\",\"KAPTD_SEC_COM\":\"한국보안시스템\",\"CODE_CLEAN\":\"위탁관리\",\"KAPTD_CLCNT\":\"4\",\"CODE_GARBAGE\":\"거점장비수거방식\",\"CODE_DISINF\":\"위탁관리\",\"KAPTD_DCNT\":\"12\",\"DISPOSAL_TYPE\":\"도포식,분무식,기구부착식,기구설치식,독이식\",\"KAPTD_PCNT\":\"84\",\"KAPTD_PCNTU\":\"351\",\"KAPTD_CCCNT\":\"67\",\"WELFARE_FACILITY\":\"관리사무소, 노인정, 어린이놀이터\",\"KAPTD_ECAPA\":\"1240\",\"CODE_EMGR\":\"위탁선임\",\"CODE_WSUPPLY\":\"고가수조식\",\"CODE_STR\":\"철근콘크리트구조\",\"CODE_ECON\":\"단일계약\",\"CODE_FALARM\":\"P형\",\"CODE_ELEV\":\"위탁관리\",\"CODE_NET\":\"무\",\"KAPTD_WTIMEBUS\":\"5분이내\",\"CONVENIENT_FACILITY\":\"관공서(동사무소) 병원(서울대윤병원) 공원(여의도생태공원)\",\"EDUCATION_FACILITY\":\"중학교(영원중교) 고등학교(장훈고교)\",\"CODE_HALL\":\"혼합식\",\"KAPT_USEDATE\":\"1999-06-15\",\"KAPT_MAREA\":29601.1,\"SUBWAY_STATION\":\"신길역\",\"SUBWAY_LINE\":\"1호선, 5호선\",\"KAPTD_WTIMESUB\":\"5분이내\",\"KAPT_CODE\":\"A15083703\"},\"resultMap_kapt_areacnt\":[{\"KAPTDA_CNT\":165,\"AREA_GBN\":1,\"KAPT_CODE\":\"A15083703\"},{\"KAPTDA_CNT\":121,\"AREA_GBN\":2,\"KAPT_CODE\":\"A15083703\"},{\"KAPTDA_CNT\":82,\"AREA_GBN\":3,\"KAPT_CODE\":\"A15083703\"},{\"KAPTDA_CNT\":0,\"AREA_GBN\":4,\"KAPT_CODE\":\"\"}],\"resultMap_kapt_addrList\":[{\"ADDR\":\"서울특별시 영등포구 신길동 67-1 신길동경남아파트\",\"KAPT_CODE\":\"A15083703\",\"ADDR_GBN\":\"B\"},{\"ADDR\":\"서울특별시 영등포구 영등포로 351\",\"KAPT_CODE\":\"A15083703\",\"ADDR_GBN\":\"R\"}]}\n",
      "9 / 23 신길경남 처리완료\n"
     ]
    },
    {
     "name": "stderr",
     "output_type": "stream",
     "text": [
      "2018/03/22 21:24:47 example.com 200 OK\n"
     ]
    },
    {
     "name": "stdout",
     "output_type": "stream",
     "text": [
      "{\"resultMap_match\":{\"KAPT_CODE\":\"A15085805\",\"TOWN_CODE\":1049},\"resultMap_kapt\":{\"CODE_HEAT\":\"개별난방\",\"SUBWAY_STATION\":\"신풍\",\"SUBWAY_LINE\":\"7호선\",\"KAPT_PE1AREA\":0,\"KAPT_PE2AREA\":0,\"KAPT_PE3AREA\":0,\"KAPT_PEAREA\":0,\"KAPT_PE4AREA\":0,\"DISPOSAL_TYPE\":\"분무식,독이식\",\"KAPT_PE5AREA\":0,\"KAPTD_ECNTB\":0,\"KAPTD_ECNTC\":0,\"KAPT_PHAREA\":0,\"KAPTD_ECNTD\":0,\"KAPTD_SCNT\":\"8\",\"KAPTD_ECNTE\":0,\"CODE_ECON\":\"단일계약\",\"KAPT_PPAREA\":0,\"KAPTD_CCCNT\":\"32\",\"KAPTD_ECNTM\":0,\"KAPT_TEL\":\"02-836-7552\",\"WELFARE_FACILITY\":\"관리사무소, 노인정, 어린이놀이터, 휴게시설\",\"KAPTD_ECNTP\":0,\"KAPT_FAX\":\"02-836-7552\",\"KAPT_ACC_COMPANY\":\"홍진 이지스\",\"KAPT_MGR_CNT\":\"4\",\"KAPT_BCOMPANY\":\"근대건설\",\"CONVENIENT_FACILITY\":\"관공서(동사무소) 병원(성심의원) 공원(신길광장공원) 기타(돈보스코청소년센터)\",\"CODE_DISINF\":\"위탁관리\",\"CODE_EMGR\":\"위탁선임\",\"CODE_MGR\":\"자치관리\",\"KAPTD_PCNTU\":\"0\",\"CODE_EMAINT\":\"-\",\"KAPT_MCAREA\":0,\"CODE_ELEV\":\"-\",\"KAPT_MEAREA\":0,\"CODE_NET\":\"무\",\"KAPT_MHAREA\":0,\"KAPT_USEDATE\":\"1974-12-28\",\"KAPTD_WTIMEBUS\":\"5분이내\",\"KAPT_CODE\":\"A15085805\",\"CODE_APT\":\"아파트\",\"CODE_WSUPPLY\":\"고가수조식\",\"KAPT_MPAREA\":0,\"KAPT_MAREA\":24643.62,\"KAPT_PAREA\":0,\"KAPT_TAREA\":32295.3,\"CODE_FALARM\":\"P형\",\"KAPTD_SEC_COM\":\"경진이앤지\",\"KAPTD_ECAPA\":\"367\",\"CODE_STR\":\"철근콘크리트구조\",\"APPL_CODE\":null,\"KAPT_ME1AREA\":0,\"KAPT_ACOMPANY\":\"성아산업\",\"KAPT_ME2AREA\":0,\"KAPT_ME3AREA\":0,\"CODE_GARBAGE\":\"음식물쓰레기종량제\",\"KAPT_ME4AREA\":0,\"KAPT_ME5AREA\":0,\"CODE_CLTIME\":\"5\",\"CODE_HALL\":\"계단식\",\"CODE_STIME\":\"14\",\"KAPT_NAME\":\"신길남서울\",\"KAPT_DONG_CNT\":\"13\",\"CODE_CLEAN\":\"위탁관리\",\"CODE_SALE\":\"분양\",\"CODE_SEC\":\"위탁관리\",\"EMPTY_HO_CNT\":10,\"APPL_PRODATE\":\"\",\"KAPT_URL\":\"남서울.apti.co.kr\",\"KAPTD_CLCNT\":\"4\",\"KAPTD_PCNT\":\"280\",\"KAPTD_WTIMESUB\":\"5분이내\",\"KAPTD_DCNT\":\"12\",\"EDUCATION_FACILITY\":\"초등학교(대길초등학교) 중학교(대영중학교) 고등학교(대영고등학교)\",\"KAPT_CCOMPANY\":\"-\"},\"resultMap_kapt_areacnt\":[{\"KAPTDA_CNT\":488,\"AREA_GBN\":1,\"KAPT_CODE\":\"A15085805\"},{\"KAPTDA_CNT\":30,\"AREA_GBN\":2,\"KAPT_CODE\":\"A15085805\"},{\"KAPTDA_CNT\":null,\"AREA_GBN\":3,\"KAPT_CODE\":null},{\"KAPTDA_CNT\":null,\"AREA_GBN\":4,\"KAPT_CODE\":null}],\"resultMap_kapt_addrList\":[{\"ADDR\":\"서울특별시 영등포구 신길동 3111 남서울\",\"KAPT_CODE\":\"A15085805\",\"ADDR_GBN\":\"B\"},{\"ADDR\":\"서울특별시 영등포구 신길동 3586 남서울\",\"KAPT_CODE\":\"A15085805\",\"ADDR_GBN\":\"B\"},{\"ADDR\":\"서울특별시 영등포구 신길동 3002 남서울\",\"KAPT_CODE\":\"A15085805\",\"ADDR_GBN\":\"B\"},{\"ADDR\":\"서울특별시 영등포구 신길동 3591 남서울\",\"KAPT_CODE\":\"A15085805\",\"ADDR_GBN\":\"B\"},{\"ADDR\":\"서울특별시 영등포구 신길동 3583 남서울\",\"KAPT_CODE\":\"A15085805\",\"ADDR_GBN\":\"B\"},{\"ADDR\":\"서울특별시 영등포구 신길동 3573 남서울\",\"KAPT_CODE\":\"A15085805\",\"ADDR_GBN\":\"B\"},{\"ADDR\":\"서울특별시 영등포구 신길동 3590 남서울\",\"KAPT_CODE\":\"A15085805\",\"ADDR_GBN\":\"B\"},{\"ADDR\":\"서울특별시 영등포구 신길로 108\",\"KAPT_CODE\":\"A15085805\",\"ADDR_GBN\":\"R\"}]}\n",
      "{\"resultMap_match\":{\"KAPT_CODE\":\"A15085805\",\"TOWN_CODE\":1049},\"resultMap_kapt\":{\"KAPT_NAME\":\"신길남서울\",\"CODE_SALE\":\"분양\",\"CODE_HEAT\":\"개별난방\",\"KAPT_TAREA\":32295.3,\"KAPT_DONG_CNT\":\"13\",\"KAPT_BCOMPANY\":\"근대건설\",\"KAPT_ACOMPANY\":\"성아산업\",\"KAPT_TEL\":\"02-836-7552\",\"KAPT_FAX\":\"02-836-7552\",\"KAPT_URL\":\"남서울.apti.co.kr\",\"CODE_APT\":\"아파트\",\"CODE_MGR\":\"자치관리\",\"KAPT_MGR_CNT\":\"4\",\"KAPT_CCOMPANY\":\"-\",\"CODE_SEC\":\"위탁관리\",\"KAPTD_SCNT\":\"8\",\"KAPTD_SEC_COM\":\"경진이앤지\",\"CODE_CLEAN\":\"위탁관리\",\"KAPTD_CLCNT\":\"4\",\"CODE_GARBAGE\":\"음식물쓰레기종량제\",\"CODE_DISINF\":\"위탁관리\",\"KAPTD_DCNT\":\"12\",\"DISPOSAL_TYPE\":\"분무식,독이식\",\"KAPTD_PCNT\":\"280\",\"KAPTD_PCNTU\":\"0\",\"KAPTD_CCCNT\":\"32\",\"WELFARE_FACILITY\":\"관리사무소, 노인정, 어린이놀이터, 휴게시설\",\"KAPTD_ECAPA\":\"367\",\"CODE_EMGR\":\"위탁선임\",\"CODE_WSUPPLY\":\"고가수조식\",\"CODE_STR\":\"철근콘크리트구조\",\"CODE_ECON\":\"단일계약\",\"CODE_FALARM\":\"P형\",\"CODE_ELEV\":\"-\",\"CODE_NET\":\"무\",\"KAPTD_WTIMEBUS\":\"5분이내\",\"CONVENIENT_FACILITY\":\"관공서(동사무소) 병원(성심의원) 공원(신길광장공원) 기타(돈보스코청소년센터)\",\"EDUCATION_FACILITY\":\"초등학교(대길초등학교) 중학교(대영중학교) 고등학교(대영고등학교)\",\"CODE_HALL\":\"계단식\",\"KAPT_USEDATE\":\"1974-12-28\",\"KAPT_MAREA\":24643.62,\"SUBWAY_STATION\":\"신풍\",\"SUBWAY_LINE\":\"7호선\",\"KAPTD_WTIMESUB\":\"5분이내\",\"KAPT_CODE\":\"A15085805\"},\"resultMap_kapt_areacnt\":[{\"KAPTDA_CNT\":488,\"AREA_GBN\":1,\"KAPT_CODE\":\"A15085805\"},{\"KAPTDA_CNT\":30,\"AREA_GBN\":2,\"KAPT_CODE\":\"A15085805\"},{\"KAPTDA_CNT\":0,\"AREA_GBN\":3,\"KAPT_CODE\":\"\"},{\"KAPTDA_CNT\":0,\"AREA_GBN\":4,\"KAPT_CODE\":\"\"}],\"resultMap_kapt_addrList\":[{\"ADDR\":\"서울특별시 영등포구 신길동 3111 남서울\",\"KAPT_CODE\":\"A15085805\",\"ADDR_GBN\":\"B\"},{\"ADDR\":\"서울특별시 영등포구 신길동 3586 남서울\",\"KAPT_CODE\":\"A15085805\",\"ADDR_GBN\":\"B\"},{\"ADDR\":\"서울특별시 영등포구 신길동 3002 남서울\",\"KAPT_CODE\":\"A15085805\",\"ADDR_GBN\":\"B\"},{\"ADDR\":\"서울특별시 영등포구 신길동 3591 남서울\",\"KAPT_CODE\":\"A15085805\",\"ADDR_GBN\":\"B\"},{\"ADDR\":\"서울특별시 영등포구 신길동 3583 남서울\",\"KAPT_CODE\":\"A15085805\",\"ADDR_GBN\":\"B\"},{\"ADDR\":\"서울특별시 영등포구 신길동 3573 남서울\",\"KAPT_CODE\":\"A15085805\",\"ADDR_GBN\":\"B\"},{\"ADDR\":\"서울특별시 영등포구 신길동 3590 남서울\",\"KAPT_CODE\":\"A15085805\",\"ADDR_GBN\":\"B\"},{\"ADDR\":\"서울특별시 영등포구 신길로 108\",\"KAPT_CODE\":\"A15085805\",\"ADDR_GBN\":\"R\"}]}\n",
      "10 / 23 신길남서울 처리완료\n"
     ]
    },
    {
     "name": "stderr",
     "output_type": "stream",
     "text": [
      "2018/03/22 21:24:47 example.com 200 OK\n"
     ]
    },
    {
     "name": "stdout",
     "output_type": "stream",
     "text": [
      "{\"resultMap_match\":{\"KAPT_CODE\":\"A15005501\",\"TOWN_CODE\":20096267},\"resultMap_kapt\":{\"CODE_HEAT\":\"개별난방\",\"SUBWAY_STATION\":\"신풍\",\"SUBWAY_LINE\":\"7호선\",\"KAPT_PE1AREA\":0,\"KAPT_PE2AREA\":0,\"KAPT_PE3AREA\":0,\"KAPT_PEAREA\":0,\"KAPT_PE4AREA\":0,\"DISPOSAL_TYPE\":\"도포식,분무식\",\"KAPT_PE5AREA\":0,\"KAPTD_ECNTB\":0,\"KAPTD_ECNTC\":0,\"KAPT_PHAREA\":0,\"KAPTD_ECNTD\":0,\"KAPTD_SCNT\":\"4\",\"KAPTD_ECNTE\":9,\"CODE_ECON\":\"종합계약\",\"KAPT_PPAREA\":0,\"KAPTD_CCCNT\":\"112\",\"KAPTD_ECNTM\":0,\"KAPT_TEL\":\"02-834-7097\",\"WELFARE_FACILITY\":\"관리사무소, 노인정, 어린이놀이터, 자전거보관소\",\"KAPTD_ECNTP\":0,\"KAPT_FAX\":\"02-834-0420\",\"KAPT_ACC_COMPANY\":\"샛별전산\",\"KAPT_MGR_CNT\":\"5\",\"KAPT_BCOMPANY\":\"한화건설(주)\",\"CONVENIENT_FACILITY\":\"대형상가(사러가쇼핑센터)\",\"CODE_DISINF\":\"위탁관리\",\"CODE_EMGR\":\"상주선임\",\"CODE_MGR\":\"위탁관리\",\"KAPTD_PCNTU\":\"377\",\"CODE_EMAINT\":\"위탁관리\",\"KAPT_MCAREA\":6844.919,\"CODE_ELEV\":\"위탁관리\",\"KAPT_MEAREA\":0,\"CODE_NET\":\"유\",\"KAPT_MHAREA\":0,\"KAPT_USEDATE\":\"2008-06-26\",\"KAPTD_WTIMEBUS\":\"5분이내\",\"KAPT_CODE\":\"A15005501\",\"CODE_APT\":\"아파트\",\"CODE_WSUPPLY\":\"부스타방식\",\"KAPT_MPAREA\":27684.247,\"KAPT_MAREA\":27684.2474,\"KAPT_PAREA\":0,\"KAPT_TAREA\":48058.94,\"CODE_FALARM\":\"R형\",\"KAPTD_SEC_COM\":\"세계보안\",\"KAPTD_ECAPA\":\"1650\",\"CODE_STR\":\"철근콘크리트구조\",\"APPL_CODE\":null,\"KAPT_ME1AREA\":0,\"KAPT_ACOMPANY\":\"한고을\",\"KAPT_ME2AREA\":0,\"KAPT_ME3AREA\":0,\"CODE_GARBAGE\":\"거점장비수거방식\",\"KAPT_ME4AREA\":0,\"KAPT_ME5AREA\":0,\"CODE_CLTIME\":\"6\",\"CODE_HALL\":\"계단식\",\"CODE_STIME\":\"15\",\"KAPT_NAME\":\"신길뉴타운한화꿈에그린\",\"KAPT_DONG_CNT\":\"6\",\"CODE_CLEAN\":\"위탁관리\",\"CODE_SALE\":\"분양\",\"CODE_SEC\":\"위탁관리\",\"EMPTY_HO_CNT\":0,\"APPL_PRODATE\":\"\",\"KAPT_URL\":\"-\",\"KAPTD_CLCNT\":\"3\",\"KAPTD_PCNT\":\"24\",\"KAPTD_WTIMESUB\":\"5분이내\",\"KAPTD_DCNT\":\"12\",\"EDUCATION_FACILITY\":\"초등학교(대영) 중학교(대영) 고등학교(대영)\",\"KAPT_CCOMPANY\":\"서림주택\"},\"resultMap_kapt_areacnt\":[{\"KAPTDA_CNT\":null,\"AREA_GBN\":1,\"KAPT_CODE\":null},{\"KAPTDA_CNT\":147,\"AREA_GBN\":2,\"KAPT_CODE\":\"A15005501\"},{\"KAPTDA_CNT\":137,\"AREA_GBN\":3,\"KAPT_CODE\":\"A15005501\"},{\"KAPTDA_CNT\":null,\"AREA_GBN\":4,\"KAPT_CODE\":null}],\"resultMap_kapt_addrList\":[{\"ADDR\":\"서울특별시 영등포구 신길동 4937 신길뉴타운한화꿈에그린\",\"KAPT_CODE\":\"A15005501\",\"ADDR_GBN\":\"B\"},{\"ADDR\":\"서울특별시 영등포구 신길로 119\",\"KAPT_CODE\":\"A15005501\",\"ADDR_GBN\":\"R\"}]}\n",
      "{\"resultMap_match\":{\"KAPT_CODE\":\"A15005501\",\"TOWN_CODE\":20096267},\"resultMap_kapt\":{\"KAPT_NAME\":\"신길뉴타운한화꿈에그린\",\"CODE_SALE\":\"분양\",\"CODE_HEAT\":\"개별난방\",\"KAPT_TAREA\":48058.94,\"KAPT_DONG_CNT\":\"6\",\"KAPT_BCOMPANY\":\"한화건설(주)\",\"KAPT_ACOMPANY\":\"한고을\",\"KAPT_TEL\":\"02-834-7097\",\"KAPT_FAX\":\"02-834-0420\",\"KAPT_URL\":\"-\",\"CODE_APT\":\"아파트\",\"CODE_MGR\":\"위탁관리\",\"KAPT_MGR_CNT\":\"5\",\"KAPT_CCOMPANY\":\"서림주택\",\"CODE_SEC\":\"위탁관리\",\"KAPTD_SCNT\":\"4\",\"KAPTD_SEC_COM\":\"세계보안\",\"CODE_CLEAN\":\"위탁관리\",\"KAPTD_CLCNT\":\"3\",\"CODE_GARBAGE\":\"거점장비수거방식\",\"CODE_DISINF\":\"위탁관리\",\"KAPTD_DCNT\":\"12\",\"DISPOSAL_TYPE\":\"도포식,분무식\",\"KAPTD_PCNT\":\"24\",\"KAPTD_PCNTU\":\"377\",\"KAPTD_CCCNT\":\"112\",\"WELFARE_FACILITY\":\"관리사무소, 노인정, 어린이놀이터, 자전거보관소\",\"KAPTD_ECAPA\":\"1650\",\"CODE_EMGR\":\"상주선임\",\"CODE_WSUPPLY\":\"부스타방식\",\"CODE_STR\":\"철근콘크리트구조\",\"CODE_ECON\":\"종합계약\",\"CODE_FALARM\":\"R형\",\"CODE_ELEV\":\"위탁관리\",\"CODE_NET\":\"유\",\"KAPTD_WTIMEBUS\":\"5분이내\",\"CONVENIENT_FACILITY\":\"대형상가(사러가쇼핑센터)\",\"EDUCATION_FACILITY\":\"초등학교(대영) 중학교(대영) 고등학교(대영)\",\"CODE_HALL\":\"계단식\",\"KAPT_USEDATE\":\"2008-06-26\",\"KAPT_MAREA\":27684.2474,\"SUBWAY_STATION\":\"신풍\",\"SUBWAY_LINE\":\"7호선\",\"KAPTD_WTIMESUB\":\"5분이내\",\"KAPT_CODE\":\"A15005501\"},\"resultMap_kapt_areacnt\":[{\"KAPTDA_CNT\":0,\"AREA_GBN\":1,\"KAPT_CODE\":\"\"},{\"KAPTDA_CNT\":147,\"AREA_GBN\":2,\"KAPT_CODE\":\"A15005501\"},{\"KAPTDA_CNT\":137,\"AREA_GBN\":3,\"KAPT_CODE\":\"A15005501\"},{\"KAPTDA_CNT\":0,\"AREA_GBN\":4,\"KAPT_CODE\":\"\"}],\"resultMap_kapt_addrList\":[{\"ADDR\":\"서울특별시 영등포구 신길동 4937 신길뉴타운한화꿈에그린\",\"KAPT_CODE\":\"A15005501\",\"ADDR_GBN\":\"B\"},{\"ADDR\":\"서울특별시 영등포구 신길로 119\",\"KAPT_CODE\":\"A15005501\",\"ADDR_GBN\":\"R\"}]}\n",
      "11 / 23 신길뉴타운한화꿈에그린 처리완료\n"
     ]
    },
    {
     "name": "stderr",
     "output_type": "stream",
     "text": [
      "2018/03/22 21:24:48 example.com 200 OK\n",
      "2018/03/22 21:24:48 example.com 200 OK\n"
     ]
    },
    {
     "name": "stdout",
     "output_type": "stream",
     "text": [
      "{\"resultMap_match\":{\"KAPT_CODE\":\"A15083701\",\"TOWN_CODE\":1051},\"resultMap_kapt\":{\"CODE_HEAT\":\"개별난방\",\"SUBWAY_STATION\":\"대방\",\"SUBWAY_LINE\":\"1호선, 5호선\",\"KAPT_PE1AREA\":0,\"KAPT_PE2AREA\":0,\"KAPT_PE3AREA\":0,\"KAPT_PEAREA\":0,\"KAPT_PE4AREA\":0,\"DISPOSAL_TYPE\":\"분무식\",\"KAPT_PE5AREA\":0,\"KAPTD_ECNTB\":0,\"KAPTD_ECNTC\":0,\"KAPT_PHAREA\":0,\"KAPTD_ECNTD\":0,\"KAPTD_SCNT\":\"2\",\"KAPTD_ECNTE\":0,\"CODE_ECON\":\"종합계약\",\"KAPT_PPAREA\":0,\"KAPTD_CCCNT\":\"0\",\"KAPTD_ECNTM\":0,\"KAPT_TEL\":\"02-848-4188\",\"WELFARE_FACILITY\":\"관리사무소, 노인정, 어린이놀이터, 자전거보관소\",\"KAPTD_ECNTP\":2,\"KAPT_FAX\":\"02-848-4188\",\"KAPT_ACC_COMPANY\":\"-\",\"KAPT_MGR_CNT\":\"2\",\"KAPT_BCOMPANY\":\"삼두실업(주)\",\"CONVENIENT_FACILITY\":\"관공서(동사무소) 병원(성애병원) 대형상가(LG하이프라자-대방점) 공원(여의도샛강생태공원)\",\"CODE_DISINF\":\"위탁관리\",\"CODE_EMGR\":\"위탁선임\",\"CODE_MGR\":\"위탁관리\",\"KAPTD_PCNTU\":\"0\",\"CODE_EMAINT\":\"위탁관리\",\"KAPT_MCAREA\":2921.1,\"CODE_ELEV\":\"위탁관리\",\"KAPT_MEAREA\":0,\"CODE_NET\":\"무\",\"KAPT_MHAREA\":0,\"KAPT_USEDATE\":\"1987-12-12\",\"KAPTD_WTIMEBUS\":\"5~10분이내\",\"KAPT_CODE\":\"A15083701\",\"CODE_APT\":\"아파트\",\"CODE_WSUPPLY\":\"고가수조식\",\"KAPT_MPAREA\":7333.2,\"KAPT_MAREA\":7333.2,\"KAPT_PAREA\":0,\"KAPT_TAREA\":10684,\"CODE_FALARM\":\"P형\",\"KAPTD_SEC_COM\":\"신한영주택관리(주)\",\"KAPTD_ECAPA\":\"225\",\"CODE_STR\":\"철근콘크리트구조\",\"APPL_CODE\":null,\"KAPT_ME1AREA\":0,\"KAPT_ACOMPANY\":\"삼두실업(주)\",\"KAPT_ME2AREA\":0,\"KAPT_ME3AREA\":0,\"CODE_GARBAGE\":\"음식물쓰레기종량제\",\"KAPT_ME4AREA\":0,\"KAPT_ME5AREA\":0,\"CODE_CLTIME\":\"3\",\"CODE_HALL\":\"복도식\",\"CODE_STIME\":\"11\",\"KAPT_NAME\":\"신길삼두\",\"KAPT_DONG_CNT\":\"1\",\"CODE_CLEAN\":\"위탁관리(직영+위탁)\",\"CODE_SALE\":\"분양\",\"CODE_SEC\":\"위탁관리(직영+위탁)\",\"EMPTY_HO_CNT\":0,\"APPL_PRODATE\":\"\",\"KAPT_URL\":\"-\",\"KAPTD_CLCNT\":\"1\",\"KAPTD_PCNT\":\"45\",\"KAPTD_WTIMESUB\":\"5분이내\",\"KAPTD_DCNT\":\"4\",\"EDUCATION_FACILITY\":\"중학교(윤중중학교) 고등학교(한국제과고등기술학교)\",\"KAPT_CCOMPANY\":\"신한영주택관리(주)\"},\"resultMap_kapt_areacnt\":[{\"KAPTDA_CNT\":160,\"AREA_GBN\":1,\"KAPT_CODE\":\"A15083701\"},{\"KAPTDA_CNT\":null,\"AREA_GBN\":2,\"KAPT_CODE\":null},{\"KAPTDA_CNT\":null,\"AREA_GBN\":3,\"KAPT_CODE\":null},{\"KAPTDA_CNT\":null,\"AREA_GBN\":4,\"KAPT_CODE\":null}],\"resultMap_kapt_addrList\":[{\"ADDR\":\"서울특별시 영등포구 신길동 2-3 삼두아파트\",\"KAPT_CODE\":\"A15083701\",\"ADDR_GBN\":\"B\"},{\"ADDR\":\"서울특별시 영등포구 여의대방로61길 19\",\"KAPT_CODE\":\"A15083701\",\"ADDR_GBN\":\"R\"}]}\n",
      "{\"resultMap_match\":{\"KAPT_CODE\":\"A15083701\",\"TOWN_CODE\":1051},\"resultMap_kapt\":{\"KAPT_NAME\":\"신길삼두\",\"CODE_SALE\":\"분양\",\"CODE_HEAT\":\"개별난방\",\"KAPT_TAREA\":10684,\"KAPT_DONG_CNT\":\"1\",\"KAPT_BCOMPANY\":\"삼두실업(주)\",\"KAPT_ACOMPANY\":\"삼두실업(주)\",\"KAPT_TEL\":\"02-848-4188\",\"KAPT_FAX\":\"02-848-4188\",\"KAPT_URL\":\"-\",\"CODE_APT\":\"아파트\",\"CODE_MGR\":\"위탁관리\",\"KAPT_MGR_CNT\":\"2\",\"KAPT_CCOMPANY\":\"신한영주택관리(주)\",\"CODE_SEC\":\"위탁관리(직영+위탁)\",\"KAPTD_SCNT\":\"2\",\"KAPTD_SEC_COM\":\"신한영주택관리(주)\",\"CODE_CLEAN\":\"위탁관리(직영+위탁)\",\"KAPTD_CLCNT\":\"1\",\"CODE_GARBAGE\":\"음식물쓰레기종량제\",\"CODE_DISINF\":\"위탁관리\",\"KAPTD_DCNT\":\"4\",\"DISPOSAL_TYPE\":\"분무식\",\"KAPTD_PCNT\":\"45\",\"KAPTD_PCNTU\":\"0\",\"KAPTD_CCCNT\":\"0\",\"WELFARE_FACILITY\":\"관리사무소, 노인정, 어린이놀이터, 자전거보관소\",\"KAPTD_ECAPA\":\"225\",\"CODE_EMGR\":\"위탁선임\",\"CODE_WSUPPLY\":\"고가수조식\",\"CODE_STR\":\"철근콘크리트구조\",\"CODE_ECON\":\"종합계약\",\"CODE_FALARM\":\"P형\",\"CODE_ELEV\":\"위탁관리\",\"CODE_NET\":\"무\",\"KAPTD_WTIMEBUS\":\"5~10분이내\",\"CONVENIENT_FACILITY\":\"관공서(동사무소) 병원(성애병원) 대형상가(LG하이프라자-대방점) 공원(여의도샛강생태공원)\",\"EDUCATION_FACILITY\":\"중학교(윤중중학교) 고등학교(한국제과고등기술학교)\",\"CODE_HALL\":\"복도식\",\"KAPT_USEDATE\":\"1987-12-12\",\"KAPT_MAREA\":7333.2,\"SUBWAY_STATION\":\"대방\",\"SUBWAY_LINE\":\"1호선, 5호선\",\"KAPTD_WTIMESUB\":\"5분이내\",\"KAPT_CODE\":\"A15083701\"},\"resultMap_kapt_areacnt\":[{\"KAPTDA_CNT\":160,\"AREA_GBN\":1,\"KAPT_CODE\":\"A15083701\"},{\"KAPTDA_CNT\":0,\"AREA_GBN\":2,\"KAPT_CODE\":\"\"},{\"KAPTDA_CNT\":0,\"AREA_GBN\":3,\"KAPT_CODE\":\"\"},{\"KAPTDA_CNT\":0,\"AREA_GBN\":4,\"KAPT_CODE\":\"\"}],\"resultMap_kapt_addrList\":[{\"ADDR\":\"서울특별시 영등포구 신길동 2-3 삼두아파트\",\"KAPT_CODE\":\"A15083701\",\"ADDR_GBN\":\"B\"},{\"ADDR\":\"서울특별시 영등포구 여의대방로61길 19\",\"KAPT_CODE\":\"A15083701\",\"ADDR_GBN\":\"R\"}]}\n",
      "12 / 23 신길삼두 처리완료\n",
      "{\"resultMap_match\":{\"KAPT_CODE\":\"A15005603\",\"TOWN_CODE\":1052},\"resultMap_kapt\":{\"CODE_HEAT\":\"개별난방\",\"SUBWAY_STATION\":\"신풍\",\"SUBWAY_LINE\":\"7호선\",\"KAPT_PE1AREA\":0,\"KAPT_PE2AREA\":0,\"KAPT_PE3AREA\":0,\"KAPT_PEAREA\":0,\"KAPT_PE4AREA\":0,\"DISPOSAL_TYPE\":\"도포식,분무식,독이식\",\"KAPT_PE5AREA\":0,\"KAPTD_ECNTB\":0,\"KAPTD_ECNTC\":0,\"KAPT_PHAREA\":0,\"KAPTD_ECNTD\":0,\"KAPTD_SCNT\":\"4\",\"KAPTD_ECNTE\":0,\"CODE_ECON\":\"단일계약\",\"KAPT_PPAREA\":0,\"KAPTD_CCCNT\":\"41\",\"KAPTD_ECNTM\":0,\"KAPT_TEL\":\"02-846-2273\",\"WELFARE_FACILITY\":\"관리사무소, 노인정, 어린이놀이터, 자전거보관소\",\"KAPTD_ECNTP\":4,\"KAPT_FAX\":\"02-846-2275\",\"KAPT_ACC_COMPANY\":\"에이앤비시스템(주)\",\"KAPT_MGR_CNT\":\"5\",\"KAPT_BCOMPANY\":\"삼성종합건설(주)\",\"CONVENIENT_FACILITY\":\"관공서(동사무소) 병원(원치과) 대형상가(LG하이프라자) 공원(보라매공원) 기타(돈보스코청소년센터)\",\"CODE_DISINF\":\"위탁관리\",\"CODE_EMGR\":\"상주선임\",\"CODE_MGR\":\"위탁관리\",\"KAPTD_PCNTU\":\"0\",\"CODE_EMAINT\":\"-\",\"KAPT_MCAREA\":0,\"CODE_ELEV\":\"위탁관리\",\"KAPT_MEAREA\":0,\"CODE_NET\":\"무\",\"KAPT_MHAREA\":0,\"KAPT_USEDATE\":\"1984-04-14\",\"KAPTD_WTIMEBUS\":\"5~10분이내\",\"KAPT_CODE\":\"A15005603\",\"CODE_APT\":\"아파트\",\"CODE_WSUPPLY\":\"고가수조식\",\"KAPT_MPAREA\":0,\"KAPT_MAREA\":21766.32,\"KAPT_PAREA\":0,\"KAPT_TAREA\":30549.74,\"CODE_FALARM\":\"P형\",\"KAPTD_SEC_COM\":\"희망코리아(주)\",\"KAPTD_ECAPA\":\"700\",\"CODE_STR\":\"철근콘크리트구조\",\"APPL_CODE\":null,\"KAPT_ME1AREA\":0,\"KAPT_ACOMPANY\":\"삼성종합건설(주)\",\"KAPT_ME2AREA\":0,\"KAPT_ME3AREA\":0,\"CODE_GARBAGE\":\"음식물쓰레기종량제\",\"KAPT_ME4AREA\":0,\"KAPT_ME5AREA\":0,\"CODE_CLTIME\":\"7\",\"CODE_HALL\":\"복도식\",\"CODE_STIME\":\"14\",\"KAPT_NAME\":\"신길삼성\",\"KAPT_DONG_CNT\":\"2\",\"CODE_CLEAN\":\"위탁관리\",\"CODE_SALE\":\"분양\",\"CODE_SEC\":\"위탁관리\",\"EMPTY_HO_CNT\":null,\"APPL_PRODATE\":\"\",\"KAPT_URL\":\"-\",\"KAPTD_CLCNT\":\"3\",\"KAPTD_PCNT\":\"218\",\"KAPTD_WTIMESUB\":\"5~10분이내\",\"KAPTD_DCNT\":\"12\",\"EDUCATION_FACILITY\":\"초등학교(대길초등학교) 중학교(대방중학교) 고등학교(영신고등학교)\",\"KAPT_CCOMPANY\":\"율산개발(주)\"},\"resultMap_kapt_areacnt\":[{\"KAPTDA_CNT\":120,\"AREA_GBN\":1,\"KAPT_CODE\":\"A15005603\"},{\"KAPTDA_CNT\":264,\"AREA_GBN\":2,\"KAPT_CODE\":\"A15005603\"},{\"KAPTDA_CNT\":null,\"AREA_GBN\":3,\"KAPT_CODE\":null},{\"KAPTDA_CNT\":null,\"AREA_GBN\":4,\"KAPT_CODE\":null}],\"resultMap_kapt_addrList\":[{\"ADDR\":\"서울특별시 영등포구 신길동 4759 삼성아파트\",\"KAPT_CODE\":\"A15005603\",\"ADDR_GBN\":\"B\"},{\"ADDR\":\"서울특별시 영등포구 여의대방로 45\",\"KAPT_CODE\":\"A15005603\",\"ADDR_GBN\":\"R\"}]}\n",
      "{\"resultMap_match\":{\"KAPT_CODE\":\"A15005603\",\"TOWN_CODE\":1052},\"resultMap_kapt\":{\"KAPT_NAME\":\"신길삼성\",\"CODE_SALE\":\"분양\",\"CODE_HEAT\":\"개별난방\",\"KAPT_TAREA\":30549.74,\"KAPT_DONG_CNT\":\"2\",\"KAPT_BCOMPANY\":\"삼성종합건설(주)\",\"KAPT_ACOMPANY\":\"삼성종합건설(주)\",\"KAPT_TEL\":\"02-846-2273\",\"KAPT_FAX\":\"02-846-2275\",\"KAPT_URL\":\"-\",\"CODE_APT\":\"아파트\",\"CODE_MGR\":\"위탁관리\",\"KAPT_MGR_CNT\":\"5\",\"KAPT_CCOMPANY\":\"율산개발(주)\",\"CODE_SEC\":\"위탁관리\",\"KAPTD_SCNT\":\"4\",\"KAPTD_SEC_COM\":\"희망코리아(주)\",\"CODE_CLEAN\":\"위탁관리\",\"KAPTD_CLCNT\":\"3\",\"CODE_GARBAGE\":\"음식물쓰레기종량제\",\"CODE_DISINF\":\"위탁관리\",\"KAPTD_DCNT\":\"12\",\"DISPOSAL_TYPE\":\"도포식,분무식,독이식\",\"KAPTD_PCNT\":\"218\",\"KAPTD_PCNTU\":\"0\",\"KAPTD_CCCNT\":\"41\",\"WELFARE_FACILITY\":\"관리사무소, 노인정, 어린이놀이터, 자전거보관소\",\"KAPTD_ECAPA\":\"700\",\"CODE_EMGR\":\"상주선임\",\"CODE_WSUPPLY\":\"고가수조식\",\"CODE_STR\":\"철근콘크리트구조\",\"CODE_ECON\":\"단일계약\",\"CODE_FALARM\":\"P형\",\"CODE_ELEV\":\"위탁관리\",\"CODE_NET\":\"무\",\"KAPTD_WTIMEBUS\":\"5~10분이내\",\"CONVENIENT_FACILITY\":\"관공서(동사무소) 병원(원치과) 대형상가(LG하이프라자) 공원(보라매공원) 기타(돈보스코청소년센터)\",\"EDUCATION_FACILITY\":\"초등학교(대길초등학교) 중학교(대방중학교) 고등학교(영신고등학교)\",\"CODE_HALL\":\"복도식\",\"KAPT_USEDATE\":\"1984-04-14\",\"KAPT_MAREA\":21766.32,\"SUBWAY_STATION\":\"신풍\",\"SUBWAY_LINE\":\"7호선\",\"KAPTD_WTIMESUB\":\"5~10분이내\",\"KAPT_CODE\":\"A15005603\"},\"resultMap_kapt_areacnt\":[{\"KAPTDA_CNT\":120,\"AREA_GBN\":1,\"KAPT_CODE\":\"A15005603\"},{\"KAPTDA_CNT\":264,\"AREA_GBN\":2,\"KAPT_CODE\":\"A15005603\"},{\"KAPTDA_CNT\":0,\"AREA_GBN\":3,\"KAPT_CODE\":\"\"},{\"KAPTDA_CNT\":0,\"AREA_GBN\":4,\"KAPT_CODE\":\"\"}],\"resultMap_kapt_addrList\":[{\"ADDR\":\"서울특별시 영등포구 신길동 4759 삼성아파트\",\"KAPT_CODE\":\"A15005603\",\"ADDR_GBN\":\"B\"},{\"ADDR\":\"서울특별시 영등포구 여의대방로 45\",\"KAPT_CODE\":\"A15005603\",\"ADDR_GBN\":\"R\"}]}\n",
      "13 / 23 신길삼성 처리완료\n"
     ]
    },
    {
     "name": "stderr",
     "output_type": "stream",
     "text": [
      "2018/03/22 21:24:48 example.com 200 OK\n"
     ]
    },
    {
     "name": "stdout",
     "output_type": "stream",
     "text": [
      "{\"resultMap_match\":{\"KAPT_CODE\":\"A15005402\",\"TOWN_CODE\":1053},\"resultMap_kapt\":{\"CODE_HEAT\":\"개별난방\",\"SUBWAY_STATION\":\"신풍\",\"SUBWAY_LINE\":\"1호선, 5호선, 7호선\",\"KAPT_PE1AREA\":0,\"KAPT_PE2AREA\":0,\"KAPT_PE3AREA\":0,\"KAPT_PEAREA\":0,\"KAPT_PE4AREA\":0,\"DISPOSAL_TYPE\":\"도포식,분무식,독이식\",\"KAPT_PE5AREA\":0,\"KAPTD_ECNTB\":0,\"KAPTD_ECNTC\":0,\"KAPT_PHAREA\":0,\"KAPTD_ECNTD\":0,\"KAPTD_SCNT\":\"13\",\"KAPTD_ECNTE\":18,\"CODE_ECON\":\"단일계약\",\"KAPT_PPAREA\":0,\"KAPTD_CCCNT\":\"126\",\"KAPTD_ECNTM\":0,\"KAPT_TEL\":\"02-832-7937\",\"WELFARE_FACILITY\":\"관리사무소, 노인정, 보육시설, 주민공동시설, 어린이놀이터, 자전거보관소\",\"KAPTD_ECNTP\":18,\"KAPT_FAX\":\"02-832-7938\",\"KAPT_ACC_COMPANY\":\"홍진테이타\",\"KAPT_MGR_CNT\":\"8\",\"KAPT_BCOMPANY\":\"삼성물산\",\"CONVENIENT_FACILITY\":\"관공서(동사무소) 병원(황치과) 대형상가(사러가쇼핑센터) 공원(매낙골공원)\",\"CODE_DISINF\":\"위탁관리\",\"CODE_EMGR\":\"상주선임\",\"CODE_MGR\":\"위탁관리\",\"KAPTD_PCNTU\":\"853\",\"CODE_EMAINT\":\"위탁관리\",\"KAPT_MCAREA\":15684.5,\"CODE_ELEV\":\"위탁관리\",\"KAPT_MEAREA\":0,\"CODE_NET\":\"무\",\"KAPT_MHAREA\":0,\"KAPT_USEDATE\":\"2001-06-15\",\"KAPTD_WTIMEBUS\":\"5~10분이내\",\"KAPT_CODE\":\"A15005402\",\"CODE_APT\":\"아파트\",\"CODE_WSUPPLY\":\"고가수조식\",\"KAPT_MPAREA\":68836.36,\"KAPT_MAREA\":71552.57,\"KAPT_PAREA\":0,\"KAPT_TAREA\":111955.89,\"CODE_FALARM\":\"GR형\",\"KAPTD_SEC_COM\":\"(주)엘림테크\",\"KAPTD_ECAPA\":\"3600\",\"CODE_STR\":\"철근콘크리트구조\",\"APPL_CODE\":null,\"KAPT_ME1AREA\":0,\"KAPT_ACOMPANY\":\"신길2-3지구주택재개발조합\",\"KAPT_ME2AREA\":0,\"KAPT_ME3AREA\":0,\"CODE_GARBAGE\":\"음식물쓰레기종량제\",\"KAPT_ME4AREA\":0,\"KAPT_ME5AREA\":0,\"CODE_CLTIME\":\"5\",\"CODE_HALL\":\"혼합식\",\"CODE_STIME\":\"24\",\"KAPT_NAME\":\"신길삼성래미안\",\"KAPT_DONG_CNT\":\"12\",\"CODE_CLEAN\":\"위탁관리\",\"CODE_SALE\":\"분양\",\"CODE_SEC\":\"위탁관리\",\"EMPTY_HO_CNT\":32,\"APPL_PRODATE\":\"\",\"KAPT_URL\":\"-\",\"KAPTD_CLCNT\":\"8\",\"KAPTD_PCNT\":\"122\",\"KAPTD_WTIMESUB\":\"5~10분이내\",\"KAPTD_DCNT\":\"12\",\"EDUCATION_FACILITY\":\"초등학교(우신초등학교)\",\"KAPT_CCOMPANY\":\"서일개발\"},\"resultMap_kapt_areacnt\":[{\"KAPTDA_CNT\":214,\"AREA_GBN\":1,\"KAPT_CODE\":\"A15005402\"},{\"KAPTDA_CNT\":382,\"AREA_GBN\":2,\"KAPT_CODE\":\"A15005402\"},{\"KAPTDA_CNT\":230,\"AREA_GBN\":3,\"KAPT_CODE\":\"A15005402\"},{\"KAPTDA_CNT\":null,\"AREA_GBN\":4,\"KAPT_CODE\":null}],\"resultMap_kapt_addrList\":[{\"ADDR\":\"서울특별시 영등포구 신길동 4934-17 삼성래미안아파트\",\"KAPT_CODE\":\"A15005402\",\"ADDR_GBN\":\"B\"},{\"ADDR\":\"서울특별시 영등포구 신길동 4934-2 삼성래미안아파트\",\"KAPT_CODE\":\"A15005402\",\"ADDR_GBN\":\"B\"},{\"ADDR\":\"서울특별시 영등포구 신길동 4934 삼성래미안아파트\",\"KAPT_CODE\":\"A15005402\",\"ADDR_GBN\":\"B\"},{\"ADDR\":\"서울특별시 영등포구 가마산로79길 7\",\"KAPT_CODE\":\"A15005402\",\"ADDR_GBN\":\"R\"},{\"ADDR\":\"서울특별시 영등포구 도신로48길 35\",\"KAPT_CODE\":\"A15005402\",\"ADDR_GBN\":\"R\"}]}\n",
      "{\"resultMap_match\":{\"KAPT_CODE\":\"A15005402\",\"TOWN_CODE\":1053},\"resultMap_kapt\":{\"KAPT_NAME\":\"신길삼성래미안\",\"CODE_SALE\":\"분양\",\"CODE_HEAT\":\"개별난방\",\"KAPT_TAREA\":111955.89,\"KAPT_DONG_CNT\":\"12\",\"KAPT_BCOMPANY\":\"삼성물산\",\"KAPT_ACOMPANY\":\"신길2-3지구주택재개발조합\",\"KAPT_TEL\":\"02-832-7937\",\"KAPT_FAX\":\"02-832-7938\",\"KAPT_URL\":\"-\",\"CODE_APT\":\"아파트\",\"CODE_MGR\":\"위탁관리\",\"KAPT_MGR_CNT\":\"8\",\"KAPT_CCOMPANY\":\"서일개발\",\"CODE_SEC\":\"위탁관리\",\"KAPTD_SCNT\":\"13\",\"KAPTD_SEC_COM\":\"(주)엘림테크\",\"CODE_CLEAN\":\"위탁관리\",\"KAPTD_CLCNT\":\"8\",\"CODE_GARBAGE\":\"음식물쓰레기종량제\",\"CODE_DISINF\":\"위탁관리\",\"KAPTD_DCNT\":\"12\",\"DISPOSAL_TYPE\":\"도포식,분무식,독이식\",\"KAPTD_PCNT\":\"122\",\"KAPTD_PCNTU\":\"853\",\"KAPTD_CCCNT\":\"126\",\"WELFARE_FACILITY\":\"관리사무소, 노인정, 보육시설, 주민공동시설, 어린이놀이터, 자전거보관소\",\"KAPTD_ECAPA\":\"3600\",\"CODE_EMGR\":\"상주선임\",\"CODE_WSUPPLY\":\"고가수조식\",\"CODE_STR\":\"철근콘크리트구조\",\"CODE_ECON\":\"단일계약\",\"CODE_FALARM\":\"GR형\",\"CODE_ELEV\":\"위탁관리\",\"CODE_NET\":\"무\",\"KAPTD_WTIMEBUS\":\"5~10분이내\",\"CONVENIENT_FACILITY\":\"관공서(동사무소) 병원(황치과) 대형상가(사러가쇼핑센터) 공원(매낙골공원)\",\"EDUCATION_FACILITY\":\"초등학교(우신초등학교)\",\"CODE_HALL\":\"혼합식\",\"KAPT_USEDATE\":\"2001-06-15\",\"KAPT_MAREA\":71552.57,\"SUBWAY_STATION\":\"신풍\",\"SUBWAY_LINE\":\"1호선, 5호선, 7호선\",\"KAPTD_WTIMESUB\":\"5~10분이내\",\"KAPT_CODE\":\"A15005402\"},\"resultMap_kapt_areacnt\":[{\"KAPTDA_CNT\":214,\"AREA_GBN\":1,\"KAPT_CODE\":\"A15005402\"},{\"KAPTDA_CNT\":382,\"AREA_GBN\":2,\"KAPT_CODE\":\"A15005402\"},{\"KAPTDA_CNT\":230,\"AREA_GBN\":3,\"KAPT_CODE\":\"A15005402\"},{\"KAPTDA_CNT\":0,\"AREA_GBN\":4,\"KAPT_CODE\":\"\"}],\"resultMap_kapt_addrList\":[{\"ADDR\":\"서울특별시 영등포구 신길동 4934-17 삼성래미안아파트\",\"KAPT_CODE\":\"A15005402\",\"ADDR_GBN\":\"B\"},{\"ADDR\":\"서울특별시 영등포구 신길동 4934-2 삼성래미안아파트\",\"KAPT_CODE\":\"A15005402\",\"ADDR_GBN\":\"B\"},{\"ADDR\":\"서울특별시 영등포구 신길동 4934 삼성래미안아파트\",\"KAPT_CODE\":\"A15005402\",\"ADDR_GBN\":\"B\"},{\"ADDR\":\"서울특별시 영등포구 가마산로79길 7\",\"KAPT_CODE\":\"A15005402\",\"ADDR_GBN\":\"R\"},{\"ADDR\":\"서울특별시 영등포구 도신로48길 35\",\"KAPT_CODE\":\"A15005402\",\"ADDR_GBN\":\"R\"}]}\n",
      "14 / 23 신길삼성래미안 처리완료\n"
     ]
    },
    {
     "name": "stderr",
     "output_type": "stream",
     "text": [
      "2018/03/22 21:24:48 example.com 200 OK\n"
     ]
    },
    {
     "name": "stdout",
     "output_type": "stream",
     "text": [
      "{\"resultMap_match\":{\"KAPT_CODE\":\"A15005401\",\"TOWN_CODE\":1053},\"resultMap_kapt\":{\"CODE_HEAT\":\"개별난방\",\"SUBWAY_STATION\":\"1호선-영등포역,5호선-신길역,7호선-신풍역\",\"SUBWAY_LINE\":\"1호선, 5호선, 7호선\",\"KAPT_PE1AREA\":0,\"KAPT_PE2AREA\":0,\"KAPT_PE3AREA\":0,\"KAPT_PEAREA\":0,\"KAPT_PE4AREA\":0,\"DISPOSAL_TYPE\":\"도포식,분무식\",\"KAPT_PE5AREA\":0,\"KAPTD_ECNTB\":0,\"KAPTD_ECNTC\":0,\"KAPT_PHAREA\":0,\"KAPTD_ECNTD\":0,\"KAPTD_SCNT\":\"3\",\"KAPTD_ECNTE\":0,\"CODE_ECON\":\"단일계약\",\"KAPT_PPAREA\":0,\"KAPTD_CCCNT\":\"36\",\"KAPTD_ECNTM\":0,\"KAPT_TEL\":\"02-836-3272\",\"WELFARE_FACILITY\":\"관리사무소, 노인정, 어린이놀이터, 자전거보관소\",\"KAPTD_ECNTP\":4,\"KAPT_FAX\":\"02-836-3273\",\"KAPT_ACC_COMPANY\":\"-\",\"KAPT_MGR_CNT\":\"9\",\"KAPT_BCOMPANY\":\"삼성물산주식회사\",\"CONVENIENT_FACILITY\":\"관공서(신길4동 주민센터) 병원(엔젤병원) 백화점(롯데백화점) 대형상가(사러가쇼핑센터) 공원(삼성공원)\",\"CODE_DISINF\":\"위탁관리\",\"CODE_EMGR\":\"위탁선임\",\"CODE_MGR\":\"자치관리(직영)\",\"KAPTD_PCNTU\":\"86\",\"CODE_EMAINT\":\"위탁관리\",\"KAPT_MCAREA\":8317,\"CODE_ELEV\":\"위탁관리\",\"KAPT_MEAREA\":0,\"CODE_NET\":\"무\",\"KAPT_MHAREA\":0,\"KAPT_USEDATE\":\"2001-06-15\",\"KAPTD_WTIMEBUS\":\"15~20분이내\",\"KAPT_CODE\":\"A15005401\",\"CODE_APT\":\"아파트\",\"CODE_WSUPPLY\":\"고가수조식\",\"KAPT_MPAREA\":12747.7,\"KAPT_MAREA\":12747.78,\"KAPT_PAREA\":0,\"KAPT_TAREA\":21067,\"CODE_FALARM\":\"P형\",\"KAPTD_SEC_COM\":\"(주)세원종합관리\",\"KAPTD_ECAPA\":\"850\",\"CODE_STR\":\"철근콘크리트구조\",\"APPL_CODE\":null,\"KAPT_ME1AREA\":0,\"KAPT_ACOMPANY\":\"삼성물산주식회사\",\"KAPT_ME2AREA\":0,\"KAPT_ME3AREA\":0,\"CODE_GARBAGE\":\"기타\",\"KAPT_ME4AREA\":0,\"KAPT_ME5AREA\":0,\"CODE_CLTIME\":\"6\",\"CODE_HALL\":\"복도식\",\"CODE_STIME\":\"24\",\"KAPT_NAME\":\"신길삼성제2\",\"KAPT_DONG_CNT\":\"1\",\"CODE_CLEAN\":\"위탁관리\",\"CODE_SALE\":\"임대\",\"CODE_SEC\":\"위탁관리\",\"EMPTY_HO_CNT\":4,\"APPL_PRODATE\":\"\",\"KAPT_URL\":\"happy.i-sh.co.kr/main.do?deptid=70169\",\"KAPTD_CLCNT\":\"2\",\"KAPTD_PCNT\":\"90\",\"KAPTD_WTIMESUB\":\"15~20분이내\",\"KAPTD_DCNT\":\"6\",\"EDUCATION_FACILITY\":\"초등학교(우신초등학교) 중학교(영원중학교)\",\"KAPT_CCOMPANY\":\"-\"},\"resultMap_kapt_areacnt\":[{\"KAPTDA_CNT\":387,\"AREA_GBN\":1,\"KAPT_CODE\":\"A15005401\"},{\"KAPTDA_CNT\":null,\"AREA_GBN\":2,\"KAPT_CODE\":null},{\"KAPTDA_CNT\":null,\"AREA_GBN\":3,\"KAPT_CODE\":null},{\"KAPTDA_CNT\":null,\"AREA_GBN\":4,\"KAPT_CODE\":null}],\"resultMap_kapt_addrList\":[{\"ADDR\":\"서울특별시 영등포구 신길동 4934-2 삼성래미안아파트\",\"KAPT_CODE\":\"A15005401\",\"ADDR_GBN\":\"B\"},{\"ADDR\":\"서울특별시 영등포구 신길로42길 25\",\"KAPT_CODE\":\"A15005401\",\"ADDR_GBN\":\"R\"}]}\n",
      "{\"resultMap_match\":{\"KAPT_CODE\":\"A15005401\",\"TOWN_CODE\":1053},\"resultMap_kapt\":{\"KAPT_NAME\":\"신길삼성제2\",\"CODE_SALE\":\"임대\",\"CODE_HEAT\":\"개별난방\",\"KAPT_TAREA\":21067,\"KAPT_DONG_CNT\":\"1\",\"KAPT_BCOMPANY\":\"삼성물산주식회사\",\"KAPT_ACOMPANY\":\"삼성물산주식회사\",\"KAPT_TEL\":\"02-836-3272\",\"KAPT_FAX\":\"02-836-3273\",\"KAPT_URL\":\"happy.i-sh.co.kr/main.do?deptid=70169\",\"CODE_APT\":\"아파트\",\"CODE_MGR\":\"자치관리(직영)\",\"KAPT_MGR_CNT\":\"9\",\"KAPT_CCOMPANY\":\"-\",\"CODE_SEC\":\"위탁관리\",\"KAPTD_SCNT\":\"3\",\"KAPTD_SEC_COM\":\"(주)세원종합관리\",\"CODE_CLEAN\":\"위탁관리\",\"KAPTD_CLCNT\":\"2\",\"CODE_GARBAGE\":\"기타\",\"CODE_DISINF\":\"위탁관리\",\"KAPTD_DCNT\":\"6\",\"DISPOSAL_TYPE\":\"도포식,분무식\",\"KAPTD_PCNT\":\"90\",\"KAPTD_PCNTU\":\"86\",\"KAPTD_CCCNT\":\"36\",\"WELFARE_FACILITY\":\"관리사무소, 노인정, 어린이놀이터, 자전거보관소\",\"KAPTD_ECAPA\":\"850\",\"CODE_EMGR\":\"위탁선임\",\"CODE_WSUPPLY\":\"고가수조식\",\"CODE_STR\":\"철근콘크리트구조\",\"CODE_ECON\":\"단일계약\",\"CODE_FALARM\":\"P형\",\"CODE_ELEV\":\"위탁관리\",\"CODE_NET\":\"무\",\"KAPTD_WTIMEBUS\":\"15~20분이내\",\"CONVENIENT_FACILITY\":\"관공서(신길4동 주민센터) 병원(엔젤병원) 백화점(롯데백화점) 대형상가(사러가쇼핑센터) 공원(삼성공원)\",\"EDUCATION_FACILITY\":\"초등학교(우신초등학교) 중학교(영원중학교)\",\"CODE_HALL\":\"복도식\",\"KAPT_USEDATE\":\"2001-06-15\",\"KAPT_MAREA\":12747.78,\"SUBWAY_STATION\":\"1호선-영등포역,5호선-신길역,7호선-신풍역\",\"SUBWAY_LINE\":\"1호선, 5호선, 7호선\",\"KAPTD_WTIMESUB\":\"15~20분이내\",\"KAPT_CODE\":\"A15005401\"},\"resultMap_kapt_areacnt\":[{\"KAPTDA_CNT\":387,\"AREA_GBN\":1,\"KAPT_CODE\":\"A15005401\"},{\"KAPTDA_CNT\":0,\"AREA_GBN\":2,\"KAPT_CODE\":\"\"},{\"KAPTDA_CNT\":0,\"AREA_GBN\":3,\"KAPT_CODE\":\"\"},{\"KAPTDA_CNT\":0,\"AREA_GBN\":4,\"KAPT_CODE\":\"\"}],\"resultMap_kapt_addrList\":[{\"ADDR\":\"서울특별시 영등포구 신길동 4934-2 삼성래미안아파트\",\"KAPT_CODE\":\"A15005401\",\"ADDR_GBN\":\"B\"},{\"ADDR\":\"서울특별시 영등포구 신길로42길 25\",\"KAPT_CODE\":\"A15005401\",\"ADDR_GBN\":\"R\"}]}\n",
      "15 / 23 신길삼성제2 처리완료\n"
     ]
    },
    {
     "name": "stderr",
     "output_type": "stream",
     "text": [
      "2018/03/22 21:24:48 example.com 200 OK\n"
     ]
    },
    {
     "name": "stdout",
     "output_type": "stream",
     "text": [
      "{\"resultMap_match\":{\"KAPT_CODE\":\"A15005705\",\"TOWN_CODE\":1054},\"resultMap_kapt\":{\"CODE_HEAT\":\"중앙난방\",\"SUBWAY_STATION\":\"신풍\",\"SUBWAY_LINE\":\"1호선, 7호선\",\"KAPT_PE1AREA\":0,\"KAPT_PE2AREA\":0,\"KAPT_PE3AREA\":0,\"KAPT_PEAREA\":0,\"KAPT_PE4AREA\":0,\"DISPOSAL_TYPE\":\"분무식,독이식\",\"KAPT_PE5AREA\":0,\"KAPTD_ECNTB\":0,\"KAPTD_ECNTC\":0,\"KAPT_PHAREA\":0,\"KAPTD_ECNTD\":0,\"KAPTD_SCNT\":\"22\",\"KAPTD_ECNTE\":0,\"CODE_ECON\":\"종합계약\",\"KAPT_PPAREA\":0,\"KAPTD_CCCNT\":\"147\",\"KAPTD_ECNTM\":0,\"KAPT_TEL\":\"02-833-0286~7\",\"WELFARE_FACILITY\":\"관리사무소, 노인정, 보육시설, 어린이놀이터\",\"KAPTD_ECNTP\":26,\"KAPT_FAX\":\"02-833-0289\",\"KAPT_ACC_COMPANY\":\"-\",\"KAPT_MGR_CNT\":\"14\",\"KAPT_BCOMPANY\":\"삼환기업\",\"CONVENIENT_FACILITY\":\"관공서(동사무소)\",\"CODE_DISINF\":\"위탁관리\",\"CODE_EMGR\":\"상주선임\",\"CODE_MGR\":\"위탁관리\",\"KAPTD_PCNTU\":\"608\",\"CODE_EMAINT\":\"위탁관리\",\"KAPT_MCAREA\":0,\"CODE_ELEV\":\"위탁관리\",\"KAPT_MEAREA\":0,\"CODE_NET\":\"무\",\"KAPT_MHAREA\":0,\"KAPT_USEDATE\":\"1997-05-10\",\"KAPTD_WTIMEBUS\":\"5~10분이내\",\"KAPT_CODE\":\"A15005705\",\"CODE_APT\":\"아파트\",\"CODE_WSUPPLY\":\"고가수조식\",\"KAPT_MPAREA\":117110.614,\"KAPT_MAREA\":87502.98,\"KAPT_PAREA\":0,\"KAPT_TAREA\":131665.768,\"CODE_FALARM\":\"P형\",\"KAPTD_SEC_COM\":\"(주)경진관리\",\"KAPTD_ECAPA\":\"2750\",\"CODE_STR\":\"철근콘크리트구조\",\"APPL_CODE\":null,\"KAPT_ME1AREA\":0,\"KAPT_ACOMPANY\":\"군인공제회\",\"KAPT_ME2AREA\":0,\"KAPT_ME3AREA\":0,\"CODE_GARBAGE\":\"음식물쓰레기종량제\",\"KAPT_ME4AREA\":0,\"KAPT_ME5AREA\":0,\"CODE_CLTIME\":\"5\",\"CODE_HALL\":\"계단식\",\"CODE_STIME\":\"18\",\"KAPT_NAME\":\"신길삼환\",\"KAPT_DONG_CNT\":\"11\",\"CODE_CLEAN\":\"위탁관리\",\"CODE_SALE\":\"분양\",\"CODE_SEC\":\"위탁관리\",\"EMPTY_HO_CNT\":0,\"APPL_PRODATE\":\"\",\"KAPT_URL\":\"신길삼환.apti.co.kr\",\"KAPTD_CLCNT\":\"10\",\"KAPTD_PCNT\":\"496\",\"KAPTD_WTIMESUB\":\"5~10분이내\",\"KAPTD_DCNT\":\"12\",\"EDUCATION_FACILITY\":\"초등학교(대방초등학교) 중학교(강남중교) 고등학교(서울공업고교)\",\"KAPT_CCOMPANY\":\"(주)경진관리\"},\"resultMap_kapt_areacnt\":[{\"KAPTDA_CNT\":478,\"AREA_GBN\":1,\"KAPT_CODE\":\"A15005705\"},{\"KAPTDA_CNT\":696,\"AREA_GBN\":2,\"KAPT_CODE\":\"A15005705\"},{\"KAPTDA_CNT\":null,\"AREA_GBN\":3,\"KAPT_CODE\":null},{\"KAPTDA_CNT\":null,\"AREA_GBN\":4,\"KAPT_CODE\":null}],\"resultMap_kapt_addrList\":[{\"ADDR\":\"서울특별시 영등포구 신길동 897-1 삼환아파트\",\"KAPT_CODE\":\"A15005705\",\"ADDR_GBN\":\"B\"},{\"ADDR\":\"서울특별시 영등포구 여의대방로43나길 25\",\"KAPT_CODE\":\"A15005705\",\"ADDR_GBN\":\"R\"},{\"ADDR\":\"서울특별시 영등포구 여의대방로43라길 9\",\"KAPT_CODE\":\"A15005705\",\"ADDR_GBN\":\"R\"}]}\n",
      "{\"resultMap_match\":{\"KAPT_CODE\":\"A15005705\",\"TOWN_CODE\":1054},\"resultMap_kapt\":{\"KAPT_NAME\":\"신길삼환\",\"CODE_SALE\":\"분양\",\"CODE_HEAT\":\"중앙난방\",\"KAPT_TAREA\":131665.768,\"KAPT_DONG_CNT\":\"11\",\"KAPT_BCOMPANY\":\"삼환기업\",\"KAPT_ACOMPANY\":\"군인공제회\",\"KAPT_TEL\":\"02-833-0286~7\",\"KAPT_FAX\":\"02-833-0289\",\"KAPT_URL\":\"신길삼환.apti.co.kr\",\"CODE_APT\":\"아파트\",\"CODE_MGR\":\"위탁관리\",\"KAPT_MGR_CNT\":\"14\",\"KAPT_CCOMPANY\":\"(주)경진관리\",\"CODE_SEC\":\"위탁관리\",\"KAPTD_SCNT\":\"22\",\"KAPTD_SEC_COM\":\"(주)경진관리\",\"CODE_CLEAN\":\"위탁관리\",\"KAPTD_CLCNT\":\"10\",\"CODE_GARBAGE\":\"음식물쓰레기종량제\",\"CODE_DISINF\":\"위탁관리\",\"KAPTD_DCNT\":\"12\",\"DISPOSAL_TYPE\":\"분무식,독이식\",\"KAPTD_PCNT\":\"496\",\"KAPTD_PCNTU\":\"608\",\"KAPTD_CCCNT\":\"147\",\"WELFARE_FACILITY\":\"관리사무소, 노인정, 보육시설, 어린이놀이터\",\"KAPTD_ECAPA\":\"2750\",\"CODE_EMGR\":\"상주선임\",\"CODE_WSUPPLY\":\"고가수조식\",\"CODE_STR\":\"철근콘크리트구조\",\"CODE_ECON\":\"종합계약\",\"CODE_FALARM\":\"P형\",\"CODE_ELEV\":\"위탁관리\",\"CODE_NET\":\"무\",\"KAPTD_WTIMEBUS\":\"5~10분이내\",\"CONVENIENT_FACILITY\":\"관공서(동사무소)\",\"EDUCATION_FACILITY\":\"초등학교(대방초등학교) 중학교(강남중교) 고등학교(서울공업고교)\",\"CODE_HALL\":\"계단식\",\"KAPT_USEDATE\":\"1997-05-10\",\"KAPT_MAREA\":87502.98,\"SUBWAY_STATION\":\"신풍\",\"SUBWAY_LINE\":\"1호선, 7호선\",\"KAPTD_WTIMESUB\":\"5~10분이내\",\"KAPT_CODE\":\"A15005705\"},\"resultMap_kapt_areacnt\":[{\"KAPTDA_CNT\":478,\"AREA_GBN\":1,\"KAPT_CODE\":\"A15005705\"},{\"KAPTDA_CNT\":696,\"AREA_GBN\":2,\"KAPT_CODE\":\"A15005705\"},{\"KAPTDA_CNT\":0,\"AREA_GBN\":3,\"KAPT_CODE\":\"\"},{\"KAPTDA_CNT\":0,\"AREA_GBN\":4,\"KAPT_CODE\":\"\"}],\"resultMap_kapt_addrList\":[{\"ADDR\":\"서울특별시 영등포구 신길동 897-1 삼환아파트\",\"KAPT_CODE\":\"A15005705\",\"ADDR_GBN\":\"B\"},{\"ADDR\":\"서울특별시 영등포구 여의대방로43나길 25\",\"KAPT_CODE\":\"A15005705\",\"ADDR_GBN\":\"R\"},{\"ADDR\":\"서울특별시 영등포구 여의대방로43라길 9\",\"KAPT_CODE\":\"A15005705\",\"ADDR_GBN\":\"R\"}]}\n",
      "16 / 23 신길삼환 처리완료\n"
     ]
    },
    {
     "name": "stderr",
     "output_type": "stream",
     "text": [
      "2018/03/22 21:24:48 example.com 200 OK\n",
      "2018/03/22 21:24:48 example.com 200 OK\n"
     ]
    },
    {
     "name": "stdout",
     "output_type": "stream",
     "text": [
      "{\"resultMap_match\":{\"KAPT_CODE\":\"A15086007\",\"TOWN_CODE\":1058},\"resultMap_kapt\":{\"CODE_HEAT\":\"개별난방\",\"SUBWAY_STATION\":\"신풍\",\"SUBWAY_LINE\":\"7호선\",\"KAPT_PE1AREA\":0,\"KAPT_PE2AREA\":0,\"KAPT_PE3AREA\":0,\"KAPT_PEAREA\":0,\"KAPT_PE4AREA\":0,\"DISPOSAL_TYPE\":\"분무식,독이식\",\"KAPT_PE5AREA\":0,\"KAPTD_ECNTB\":16,\"KAPTD_ECNTC\":0,\"KAPT_PHAREA\":0,\"KAPTD_ECNTD\":0,\"KAPTD_SCNT\":\"9\",\"KAPTD_ECNTE\":0,\"CODE_ECON\":\"종합계약\",\"KAPT_PPAREA\":0,\"KAPTD_CCCNT\":\"16\",\"KAPTD_ECNTM\":0,\"KAPT_TEL\":\"028320181\",\"WELFARE_FACILITY\":\"관리사무소, 노인정, 어린이놀이터, 자전거보관소\",\"KAPTD_ECNTP\":0,\"KAPT_FAX\":\"028320182\",\"KAPT_ACC_COMPANY\":\"-\",\"KAPT_MGR_CNT\":\"7\",\"KAPT_BCOMPANY\":\"우성건설\",\"CONVENIENT_FACILITY\":\"관공서(동사무소) 병원(현대의원) 공원(보라매공원) 기타(돈보스코청소년센터)\",\"CODE_DISINF\":\"위탁관리\",\"CODE_EMGR\":\"상주선임\",\"CODE_MGR\":\"위탁관리\",\"KAPTD_PCNTU\":\"0\",\"CODE_EMAINT\":\"위탁관리\",\"KAPT_MCAREA\":0,\"CODE_ELEV\":\"위탁관리\",\"KAPT_MEAREA\":0,\"CODE_NET\":\"무\",\"KAPT_MHAREA\":0,\"KAPT_USEDATE\":\"1986-09-25\",\"KAPTD_WTIMEBUS\":\"5~10분이내\",\"KAPT_CODE\":\"A15086007\",\"CODE_APT\":\"아파트\",\"CODE_WSUPPLY\":\"고가수조식\",\"KAPT_MPAREA\":0,\"KAPT_MAREA\":51973.9,\"KAPT_PAREA\":0,\"KAPT_TAREA\":68385.75,\"CODE_FALARM\":\"P형\",\"KAPTD_SEC_COM\":\"스마일종합관리\",\"KAPTD_ECAPA\":\"1870\",\"CODE_STR\":\"철근콘크리트구조\",\"APPL_CODE\":null,\"KAPT_ME1AREA\":0,\"KAPT_ACOMPANY\":\"우성건설\",\"KAPT_ME2AREA\":0,\"KAPT_ME3AREA\":0,\"CODE_GARBAGE\":\"음식물쓰레기종량제\",\"KAPT_ME4AREA\":0,\"KAPT_ME5AREA\":0,\"CODE_CLTIME\":\"5\",\"CODE_HALL\":\"혼합식\",\"CODE_STIME\":\"7\",\"KAPT_NAME\":\"신길우성2차\",\"KAPT_DONG_CNT\":\"7\",\"CODE_CLEAN\":\"위탁관리\",\"CODE_SALE\":\"분양\",\"CODE_SEC\":\"위탁관리\",\"EMPTY_HO_CNT\":0,\"APPL_PRODATE\":\"\",\"KAPT_URL\":\"-\",\"KAPTD_CLCNT\":\"6\",\"KAPTD_PCNT\":\"297\",\"KAPTD_WTIMESUB\":\"5~10분이내\",\"KAPTD_DCNT\":\"12\",\"EDUCATION_FACILITY\":\"초등학교(대길초등학교) 중학교(대방중학교) 고등학교(영신고등학교)\",\"KAPT_CCOMPANY\":\"대원종합관리(주)\"},\"resultMap_kapt_areacnt\":[{\"KAPTDA_CNT\":120,\"AREA_GBN\":1,\"KAPT_CODE\":\"A15086007\"},{\"KAPTDA_CNT\":605,\"AREA_GBN\":2,\"KAPT_CODE\":\"A15086007\"},{\"KAPTDA_CNT\":null,\"AREA_GBN\":3,\"KAPT_CODE\":null},{\"KAPTDA_CNT\":null,\"AREA_GBN\":4,\"KAPT_CODE\":null}],\"resultMap_kapt_addrList\":[{\"ADDR\":\"서울특별시 영등포구 신길동 4518 우성2\",\"KAPT_CODE\":\"A15086007\",\"ADDR_GBN\":\"B\"},{\"ADDR\":\"서울특별시 영등포구 대방천로 180\",\"KAPT_CODE\":\"A15086007\",\"ADDR_GBN\":\"R\"}]}\n",
      "{\"resultMap_match\":{\"KAPT_CODE\":\"A15086007\",\"TOWN_CODE\":1058},\"resultMap_kapt\":{\"KAPT_NAME\":\"신길우성2차\",\"CODE_SALE\":\"분양\",\"CODE_HEAT\":\"개별난방\",\"KAPT_TAREA\":68385.75,\"KAPT_DONG_CNT\":\"7\",\"KAPT_BCOMPANY\":\"우성건설\",\"KAPT_ACOMPANY\":\"우성건설\",\"KAPT_TEL\":\"028320181\",\"KAPT_FAX\":\"028320182\",\"KAPT_URL\":\"-\",\"CODE_APT\":\"아파트\",\"CODE_MGR\":\"위탁관리\",\"KAPT_MGR_CNT\":\"7\",\"KAPT_CCOMPANY\":\"대원종합관리(주)\",\"CODE_SEC\":\"위탁관리\",\"KAPTD_SCNT\":\"9\",\"KAPTD_SEC_COM\":\"스마일종합관리\",\"CODE_CLEAN\":\"위탁관리\",\"KAPTD_CLCNT\":\"6\",\"CODE_GARBAGE\":\"음식물쓰레기종량제\",\"CODE_DISINF\":\"위탁관리\",\"KAPTD_DCNT\":\"12\",\"DISPOSAL_TYPE\":\"분무식,독이식\",\"KAPTD_PCNT\":\"297\",\"KAPTD_PCNTU\":\"0\",\"KAPTD_CCCNT\":\"16\",\"WELFARE_FACILITY\":\"관리사무소, 노인정, 어린이놀이터, 자전거보관소\",\"KAPTD_ECAPA\":\"1870\",\"CODE_EMGR\":\"상주선임\",\"CODE_WSUPPLY\":\"고가수조식\",\"CODE_STR\":\"철근콘크리트구조\",\"CODE_ECON\":\"종합계약\",\"CODE_FALARM\":\"P형\",\"CODE_ELEV\":\"위탁관리\",\"CODE_NET\":\"무\",\"KAPTD_WTIMEBUS\":\"5~10분이내\",\"CONVENIENT_FACILITY\":\"관공서(동사무소) 병원(현대의원) 공원(보라매공원) 기타(돈보스코청소년센터)\",\"EDUCATION_FACILITY\":\"초등학교(대길초등학교) 중학교(대방중학교) 고등학교(영신고등학교)\",\"CODE_HALL\":\"혼합식\",\"KAPT_USEDATE\":\"1986-09-25\",\"KAPT_MAREA\":51973.9,\"SUBWAY_STATION\":\"신풍\",\"SUBWAY_LINE\":\"7호선\",\"KAPTD_WTIMESUB\":\"5~10분이내\",\"KAPT_CODE\":\"A15086007\"},\"resultMap_kapt_areacnt\":[{\"KAPTDA_CNT\":120,\"AREA_GBN\":1,\"KAPT_CODE\":\"A15086007\"},{\"KAPTDA_CNT\":605,\"AREA_GBN\":2,\"KAPT_CODE\":\"A15086007\"},{\"KAPTDA_CNT\":0,\"AREA_GBN\":3,\"KAPT_CODE\":\"\"},{\"KAPTDA_CNT\":0,\"AREA_GBN\":4,\"KAPT_CODE\":\"\"}],\"resultMap_kapt_addrList\":[{\"ADDR\":\"서울특별시 영등포구 신길동 4518 우성2\",\"KAPT_CODE\":\"A15086007\",\"ADDR_GBN\":\"B\"},{\"ADDR\":\"서울특별시 영등포구 대방천로 180\",\"KAPT_CODE\":\"A15086007\",\"ADDR_GBN\":\"R\"}]}\n",
      "17 / 23 신길우성2차 처리완료\n",
      "{\"resultMap_match\":{\"KAPT_CODE\":\"A15086004\",\"TOWN_CODE\":1059},\"resultMap_kapt\":{\"CODE_HEAT\":\"개별난방\",\"SUBWAY_STATION\":\"신풍\",\"SUBWAY_LINE\":\"7호선\",\"KAPT_PE1AREA\":0,\"KAPT_PE2AREA\":0,\"KAPT_PE3AREA\":0,\"KAPT_PEAREA\":0,\"KAPT_PE4AREA\":0,\"DISPOSAL_TYPE\":\"분무식\",\"KAPT_PE5AREA\":0,\"KAPTD_ECNTB\":0,\"KAPTD_ECNTC\":0,\"KAPT_PHAREA\":0,\"KAPTD_ECNTD\":0,\"KAPTD_SCNT\":\"9\",\"KAPTD_ECNTE\":0,\"CODE_ECON\":\"종합계약\",\"KAPT_PPAREA\":0,\"KAPTD_CCCNT\":\"60\",\"KAPTD_ECNTM\":0,\"KAPT_TEL\":\"02-848-3078\",\"WELFARE_FACILITY\":\"관리사무소, 노인정, 어린이놀이터, 자전거보관소\",\"KAPTD_ECNTP\":13,\"KAPT_FAX\":\"02-845-0811\",\"KAPT_ACC_COMPANY\":\"기웅정보통신\",\"KAPT_MGR_CNT\":\"5\",\"KAPT_BCOMPANY\":\"우성건설\",\"CONVENIENT_FACILITY\":\"관공서(동사무소) 병원(이화의원) 대형상가(하이마트-신풍점) 공원(보라매공원) 기타(돈보스코청소년센터)\",\"CODE_DISINF\":\"위탁관리(직영+위탁)\",\"CODE_EMGR\":\"위탁선임\",\"CODE_MGR\":\"자치관리\",\"KAPTD_PCNTU\":\"0\",\"CODE_EMAINT\":\"위탁관리\",\"KAPT_MCAREA\":10440.15,\"CODE_ELEV\":\"위탁관리(직영+위탁)\",\"KAPT_MEAREA\":0,\"CODE_NET\":\"무\",\"KAPT_MHAREA\":0,\"KAPT_USEDATE\":\"1989-04-11\",\"KAPTD_WTIMEBUS\":\"5~10분이내\",\"KAPT_CODE\":\"A15086004\",\"CODE_APT\":\"아파트\",\"CODE_WSUPPLY\":\"고가수조식\",\"KAPT_MPAREA\":33543.42,\"KAPT_MAREA\":33366.24,\"KAPT_PAREA\":0,\"KAPT_TAREA\":48820,\"CODE_FALARM\":\"P형\",\"KAPTD_SEC_COM\":\"-\",\"KAPTD_ECAPA\":\"950\",\"CODE_STR\":\"철근콘크리트구조\",\"APPL_CODE\":null,\"KAPT_ME1AREA\":0,\"KAPT_ACOMPANY\":\"우성건설\",\"KAPT_ME2AREA\":0,\"KAPT_ME3AREA\":0,\"CODE_GARBAGE\":\"음식물쓰레기종량제\",\"KAPT_ME4AREA\":0,\"KAPT_ME5AREA\":0,\"CODE_CLTIME\":\"7\",\"CODE_HALL\":\"혼합식\",\"CODE_STIME\":\"16\",\"KAPT_NAME\":\"신길우성3차아파트\",\"KAPT_DONG_CNT\":\"5\",\"CODE_CLEAN\":\"위탁관리(직영+위탁)\",\"CODE_SALE\":\"분양\",\"CODE_SEC\":\"자치관리\",\"EMPTY_HO_CNT\":0,\"APPL_PRODATE\":\"\",\"KAPT_URL\":\"ws3apt@hanmail.net\",\"KAPTD_CLCNT\":\"3\",\"KAPTD_PCNT\":\"192\",\"KAPTD_WTIMESUB\":\"5~10분이내\",\"KAPTD_DCNT\":\"4\",\"EDUCATION_FACILITY\":\"초등학교(대길초등학교) 고등학교(영신고등학교)\",\"KAPT_CCOMPANY\":\"-\"},\"resultMap_kapt_areacnt\":[{\"KAPTDA_CNT\":139,\"AREA_GBN\":1,\"KAPT_CODE\":\"A15086004\"},{\"KAPTDA_CNT\":338,\"AREA_GBN\":2,\"KAPT_CODE\":\"A15086004\"},{\"KAPTDA_CNT\":null,\"AREA_GBN\":3,\"KAPT_CODE\":null},{\"KAPTDA_CNT\":null,\"AREA_GBN\":4,\"KAPT_CODE\":null}],\"resultMap_kapt_addrList\":[{\"ADDR\":\"서울특별시 영등포구 신길동 4656 신길우성3차아파트\",\"KAPT_CODE\":\"A15086004\",\"ADDR_GBN\":\"B\"},{\"ADDR\":\"서울특별시 영등포구 대방천로14길 32\",\"KAPT_CODE\":\"A15086004\",\"ADDR_GBN\":\"R\"}]}\n",
      "{\"resultMap_match\":{\"KAPT_CODE\":\"A15086004\",\"TOWN_CODE\":1059},\"resultMap_kapt\":{\"KAPT_NAME\":\"신길우성3차아파트\",\"CODE_SALE\":\"분양\",\"CODE_HEAT\":\"개별난방\",\"KAPT_TAREA\":48820,\"KAPT_DONG_CNT\":\"5\",\"KAPT_BCOMPANY\":\"우성건설\",\"KAPT_ACOMPANY\":\"우성건설\",\"KAPT_TEL\":\"02-848-3078\",\"KAPT_FAX\":\"02-845-0811\",\"KAPT_URL\":\"ws3apt@hanmail.net\",\"CODE_APT\":\"아파트\",\"CODE_MGR\":\"자치관리\",\"KAPT_MGR_CNT\":\"5\",\"KAPT_CCOMPANY\":\"-\",\"CODE_SEC\":\"자치관리\",\"KAPTD_SCNT\":\"9\",\"KAPTD_SEC_COM\":\"-\",\"CODE_CLEAN\":\"위탁관리(직영+위탁)\",\"KAPTD_CLCNT\":\"3\",\"CODE_GARBAGE\":\"음식물쓰레기종량제\",\"CODE_DISINF\":\"위탁관리(직영+위탁)\",\"KAPTD_DCNT\":\"4\",\"DISPOSAL_TYPE\":\"분무식\",\"KAPTD_PCNT\":\"192\",\"KAPTD_PCNTU\":\"0\",\"KAPTD_CCCNT\":\"60\",\"WELFARE_FACILITY\":\"관리사무소, 노인정, 어린이놀이터, 자전거보관소\",\"KAPTD_ECAPA\":\"950\",\"CODE_EMGR\":\"위탁선임\",\"CODE_WSUPPLY\":\"고가수조식\",\"CODE_STR\":\"철근콘크리트구조\",\"CODE_ECON\":\"종합계약\",\"CODE_FALARM\":\"P형\",\"CODE_ELEV\":\"위탁관리(직영+위탁)\",\"CODE_NET\":\"무\",\"KAPTD_WTIMEBUS\":\"5~10분이내\",\"CONVENIENT_FACILITY\":\"관공서(동사무소) 병원(이화의원) 대형상가(하이마트-신풍점) 공원(보라매공원) 기타(돈보스코청소년센터)\",\"EDUCATION_FACILITY\":\"초등학교(대길초등학교) 고등학교(영신고등학교)\",\"CODE_HALL\":\"혼합식\",\"KAPT_USEDATE\":\"1989-04-11\",\"KAPT_MAREA\":33366.24,\"SUBWAY_STATION\":\"신풍\",\"SUBWAY_LINE\":\"7호선\",\"KAPTD_WTIMESUB\":\"5~10분이내\",\"KAPT_CODE\":\"A15086004\"},\"resultMap_kapt_areacnt\":[{\"KAPTDA_CNT\":139,\"AREA_GBN\":1,\"KAPT_CODE\":\"A15086004\"},{\"KAPTDA_CNT\":338,\"AREA_GBN\":2,\"KAPT_CODE\":\"A15086004\"},{\"KAPTDA_CNT\":0,\"AREA_GBN\":3,\"KAPT_CODE\":\"\"},{\"KAPTDA_CNT\":0,\"AREA_GBN\":4,\"KAPT_CODE\":\"\"}],\"resultMap_kapt_addrList\":[{\"ADDR\":\"서울특별시 영등포구 신길동 4656 신길우성3차아파트\",\"KAPT_CODE\":\"A15086004\",\"ADDR_GBN\":\"B\"},{\"ADDR\":\"서울특별시 영등포구 대방천로14길 32\",\"KAPT_CODE\":\"A15086004\",\"ADDR_GBN\":\"R\"}]}\n",
      "18 / 23 신길우성3차아파트 처리완료\n"
     ]
    },
    {
     "name": "stderr",
     "output_type": "stream",
     "text": [
      "2018/03/22 21:24:49 example.com 200 OK\n"
     ]
    },
    {
     "name": "stdout",
     "output_type": "stream",
     "text": [
      "{\"resultMap_match\":{\"KAPT_CODE\":\"A15005001\",\"TOWN_CODE\":1060},\"resultMap_kapt\":{\"CODE_HEAT\":\"개별난방\",\"SUBWAY_STATION\":\"신길\",\"SUBWAY_LINE\":\"1호선, 5호선\",\"KAPT_PE1AREA\":0,\"KAPT_PE2AREA\":0,\"KAPT_PE3AREA\":0,\"KAPT_PEAREA\":0,\"KAPT_PE4AREA\":0,\"DISPOSAL_TYPE\":\"분무식\",\"KAPT_PE5AREA\":0,\"KAPTD_ECNTB\":0,\"KAPTD_ECNTC\":0,\"KAPT_PHAREA\":0,\"KAPTD_ECNTD\":0,\"KAPTD_SCNT\":\"10\",\"KAPTD_ECNTE\":0,\"CODE_ECON\":\"단일계약\",\"KAPT_PPAREA\":0,\"KAPTD_CCCNT\":\"88\",\"KAPTD_ECNTM\":0,\"KAPT_TEL\":\"02)849-1156\",\"WELFARE_FACILITY\":\"관리사무소, 노인정, 어린이놀이터, 자전거보관소\",\"KAPTD_ECNTP\":17,\"KAPT_FAX\":\"02)849-1157\",\"KAPT_ACC_COMPANY\":\"이지데이터\",\"KAPT_MGR_CNT\":\"5\",\"KAPT_BCOMPANY\":\"우성건설\",\"CONVENIENT_FACILITY\":\"관공서(동사무소) 병원(서울대윤병원) 대형상가(삼성디지털프라자) 공원(영등포공원)\",\"CODE_DISINF\":\"기타\",\"CODE_EMGR\":\"상주선임\",\"CODE_MGR\":\"위탁관리\",\"KAPTD_PCNTU\":\"89\",\"CODE_EMAINT\":\"위탁관리\",\"KAPT_MCAREA\":0,\"CODE_ELEV\":\"기타\",\"KAPT_MEAREA\":0,\"CODE_NET\":\"무\",\"KAPT_MHAREA\":0,\"KAPT_USEDATE\":\"1991-05-04\",\"KAPTD_WTIMEBUS\":\"5분이내\",\"KAPT_CODE\":\"A15005001\",\"CODE_APT\":\"아파트\",\"CODE_WSUPPLY\":\"고가수조식\",\"KAPT_MPAREA\":0,\"KAPT_MAREA\":38900,\"KAPT_PAREA\":0,\"KAPT_TAREA\":53207.29,\"CODE_FALARM\":\"P형\",\"KAPTD_SEC_COM\":\"디엠지관리\",\"KAPTD_ECAPA\":\"1400\",\"CODE_STR\":\"철근콘크리트구조\",\"APPL_CODE\":null,\"KAPT_ME1AREA\":0,\"KAPT_ACOMPANY\":\"우성건설\",\"KAPT_ME2AREA\":0,\"KAPT_ME3AREA\":0,\"CODE_GARBAGE\":\"음식물쓰레기종량제\",\"KAPT_ME4AREA\":0,\"KAPT_ME5AREA\":0,\"CODE_CLTIME\":\"6\",\"CODE_HALL\":\"계단식\",\"CODE_STIME\":\"16\",\"KAPT_NAME\":\"신길우성4차\",\"KAPT_DONG_CNT\":\"4\",\"CODE_CLEAN\":\"기타\",\"CODE_SALE\":\"분양\",\"CODE_SEC\":\"기타\",\"EMPTY_HO_CNT\":0,\"APPL_PRODATE\":\"\",\"KAPT_URL\":\"우성4차.aptgate.co.kr\",\"KAPTD_CLCNT\":\"5\",\"KAPTD_PCNT\":\"203\",\"KAPTD_WTIMESUB\":\"5분이내\",\"KAPTD_DCNT\":\"12\",\"EDUCATION_FACILITY\":\"중학교(영원중교) 고등학교(영등포여고교, 장훈고등학교)\",\"KAPT_CCOMPANY\":\"(주)디엠지관리\"},\"resultMap_kapt_areacnt\":[{\"KAPTDA_CNT\":null,\"AREA_GBN\":1,\"KAPT_CODE\":null},{\"KAPTDA_CNT\":476,\"AREA_GBN\":2,\"KAPT_CODE\":\"A15005001\"},{\"KAPTDA_CNT\":null,\"AREA_GBN\":3,\"KAPT_CODE\":null},{\"KAPTDA_CNT\":null,\"AREA_GBN\":4,\"KAPT_CODE\":null}],\"resultMap_kapt_addrList\":[{\"ADDR\":\"서울특별시 영등포구 신길동 102-8 신길우성아파트\",\"KAPT_CODE\":\"A15005001\",\"ADDR_GBN\":\"B\"},{\"ADDR\":\"서울특별시 영등포구 영등포로64길 8\",\"KAPT_CODE\":\"A15005001\",\"ADDR_GBN\":\"R\"},{\"ADDR\":\"서울특별시 영등포구 영등포로64길 11\",\"KAPT_CODE\":\"A15005001\",\"ADDR_GBN\":\"R\"}]}\n",
      "{\"resultMap_match\":{\"KAPT_CODE\":\"A15005001\",\"TOWN_CODE\":1060},\"resultMap_kapt\":{\"KAPT_NAME\":\"신길우성4차\",\"CODE_SALE\":\"분양\",\"CODE_HEAT\":\"개별난방\",\"KAPT_TAREA\":53207.29,\"KAPT_DONG_CNT\":\"4\",\"KAPT_BCOMPANY\":\"우성건설\",\"KAPT_ACOMPANY\":\"우성건설\",\"KAPT_TEL\":\"02)849-1156\",\"KAPT_FAX\":\"02)849-1157\",\"KAPT_URL\":\"우성4차.aptgate.co.kr\",\"CODE_APT\":\"아파트\",\"CODE_MGR\":\"위탁관리\",\"KAPT_MGR_CNT\":\"5\",\"KAPT_CCOMPANY\":\"(주)디엠지관리\",\"CODE_SEC\":\"기타\",\"KAPTD_SCNT\":\"10\",\"KAPTD_SEC_COM\":\"디엠지관리\",\"CODE_CLEAN\":\"기타\",\"KAPTD_CLCNT\":\"5\",\"CODE_GARBAGE\":\"음식물쓰레기종량제\",\"CODE_DISINF\":\"기타\",\"KAPTD_DCNT\":\"12\",\"DISPOSAL_TYPE\":\"분무식\",\"KAPTD_PCNT\":\"203\",\"KAPTD_PCNTU\":\"89\",\"KAPTD_CCCNT\":\"88\",\"WELFARE_FACILITY\":\"관리사무소, 노인정, 어린이놀이터, 자전거보관소\",\"KAPTD_ECAPA\":\"1400\",\"CODE_EMGR\":\"상주선임\",\"CODE_WSUPPLY\":\"고가수조식\",\"CODE_STR\":\"철근콘크리트구조\",\"CODE_ECON\":\"단일계약\",\"CODE_FALARM\":\"P형\",\"CODE_ELEV\":\"기타\",\"CODE_NET\":\"무\",\"KAPTD_WTIMEBUS\":\"5분이내\",\"CONVENIENT_FACILITY\":\"관공서(동사무소) 병원(서울대윤병원) 대형상가(삼성디지털프라자) 공원(영등포공원)\",\"EDUCATION_FACILITY\":\"중학교(영원중교) 고등학교(영등포여고교, 장훈고등학교)\",\"CODE_HALL\":\"계단식\",\"KAPT_USEDATE\":\"1991-05-04\",\"KAPT_MAREA\":38900,\"SUBWAY_STATION\":\"신길\",\"SUBWAY_LINE\":\"1호선, 5호선\",\"KAPTD_WTIMESUB\":\"5분이내\",\"KAPT_CODE\":\"A15005001\"},\"resultMap_kapt_areacnt\":[{\"KAPTDA_CNT\":0,\"AREA_GBN\":1,\"KAPT_CODE\":\"\"},{\"KAPTDA_CNT\":476,\"AREA_GBN\":2,\"KAPT_CODE\":\"A15005001\"},{\"KAPTDA_CNT\":0,\"AREA_GBN\":3,\"KAPT_CODE\":\"\"},{\"KAPTDA_CNT\":0,\"AREA_GBN\":4,\"KAPT_CODE\":\"\"}],\"resultMap_kapt_addrList\":[{\"ADDR\":\"서울특별시 영등포구 신길동 102-8 신길우성아파트\",\"KAPT_CODE\":\"A15005001\",\"ADDR_GBN\":\"B\"},{\"ADDR\":\"서울특별시 영등포구 영등포로64길 8\",\"KAPT_CODE\":\"A15005001\",\"ADDR_GBN\":\"R\"},{\"ADDR\":\"서울특별시 영등포구 영등포로64길 11\",\"KAPT_CODE\":\"A15005001\",\"ADDR_GBN\":\"R\"}]}\n",
      "19 / 23 신길우성4차 처리완료\n"
     ]
    },
    {
     "name": "stderr",
     "output_type": "stream",
     "text": [
      "2018/03/22 21:24:49 example.com 200 OK\n"
     ]
    },
    {
     "name": "stdout",
     "output_type": "stream",
     "text": [
      "{\"resultMap_match\":{\"KAPT_CODE\":\"A15005301\",\"TOWN_CODE\":1061},\"resultMap_kapt\":{\"CODE_HEAT\":\"개별난방\",\"SUBWAY_STATION\":\"신풍\",\"SUBWAY_LINE\":\"2호선, 5호선, 7호선\",\"KAPT_PE1AREA\":0,\"KAPT_PE2AREA\":0,\"KAPT_PE3AREA\":0,\"KAPT_PEAREA\":0,\"KAPT_PE4AREA\":0,\"DISPOSAL_TYPE\":\"분무식,독이식\",\"KAPT_PE5AREA\":0,\"KAPTD_ECNTB\":0,\"KAPTD_ECNTC\":0,\"KAPT_PHAREA\":0,\"KAPTD_ECNTD\":0,\"KAPTD_SCNT\":\"8\",\"KAPTD_ECNTE\":0,\"CODE_ECON\":\"단일계약\",\"KAPT_PPAREA\":0,\"KAPTD_CCCNT\":\"32\",\"KAPTD_ECNTM\":0,\"KAPT_TEL\":\"02-841-9412\",\"WELFARE_FACILITY\":\"관리사무소, 노인정, 주민공동시설, 어린이놀이터, 자전거보관소\",\"KAPTD_ECNTP\":9,\"KAPT_FAX\":\"02-6673-9412\",\"KAPT_ACC_COMPANY\":\"한국전산\",\"KAPT_MGR_CNT\":\"4\",\"KAPT_BCOMPANY\":\"우성건설\",\"CONVENIENT_FACILITY\":\"관공서(동사무소) 병원(윤면소아과의원) 대형상가(사러가쇼핑센터)\",\"CODE_DISINF\":\"위탁관리(직영+위탁)\",\"CODE_EMGR\":\"위탁선임\",\"CODE_MGR\":\"위탁관리\",\"KAPTD_PCNTU\":\"85\",\"CODE_EMAINT\":\"위탁관리\",\"KAPT_MCAREA\":6724.97,\"CODE_ELEV\":\"위탁관리\",\"KAPT_MEAREA\":0,\"CODE_NET\":\"무\",\"KAPT_MHAREA\":0,\"KAPT_USEDATE\":\"1993-10-26\",\"KAPTD_WTIMEBUS\":\"10~15분이내\",\"KAPT_CODE\":\"A15005301\",\"CODE_APT\":\"아파트\",\"CODE_WSUPPLY\":\"고가수조식\",\"KAPT_MPAREA\":27278.56,\"KAPT_MAREA\":27278.58,\"KAPT_PAREA\":0,\"KAPT_TAREA\":34003.531,\"CODE_FALARM\":\"P형\",\"KAPTD_SEC_COM\":\"태림주택종합\",\"KAPTD_ECAPA\":\"750\",\"CODE_STR\":\"철근콘크리트구조\",\"APPL_CODE\":null,\"KAPT_ME1AREA\":0,\"KAPT_ACOMPANY\":\"우성건설\",\"KAPT_ME2AREA\":0,\"KAPT_ME3AREA\":0,\"CODE_GARBAGE\":\"음식물쓰레기종량제\",\"KAPT_ME4AREA\":0,\"KAPT_ME5AREA\":0,\"CODE_CLTIME\":\"6\",\"CODE_HALL\":\"계단식\",\"CODE_STIME\":\"15\",\"KAPT_NAME\":\"신길우성5차\",\"KAPT_DONG_CNT\":\"3\",\"CODE_CLEAN\":\"위탁관리(직영+위탁)\",\"CODE_SALE\":\"분양\",\"CODE_SEC\":\"자치관리(직영)\",\"EMPTY_HO_CNT\":0,\"APPL_PRODATE\":\"\",\"KAPT_URL\":\"-\",\"KAPTD_CLCNT\":\"3\",\"KAPTD_PCNT\":\"149\",\"KAPTD_WTIMESUB\":\"10~15분이내\",\"KAPTD_DCNT\":\"12\",\"EDUCATION_FACILITY\":\"초등학교(도림초등학교) 중학교(대영중교) 고등학교(대영고교)\",\"KAPT_CCOMPANY\":\"태림주택종합관리(주)\"},\"resultMap_kapt_areacnt\":[{\"KAPTDA_CNT\":null,\"AREA_GBN\":1,\"KAPT_CODE\":null},{\"KAPTDA_CNT\":321,\"AREA_GBN\":2,\"KAPT_CODE\":\"A15005301\"},{\"KAPTDA_CNT\":null,\"AREA_GBN\":3,\"KAPT_CODE\":null},{\"KAPTDA_CNT\":null,\"AREA_GBN\":4,\"KAPT_CODE\":null}],\"resultMap_kapt_addrList\":[{\"ADDR\":\"서울특별시 영등포구 신길동 4933 신길우성5차아파트\",\"KAPT_CODE\":\"A15005301\",\"ADDR_GBN\":\"B\"},{\"ADDR\":\"서울특별시 영등포구 도신로 100\",\"KAPT_CODE\":\"A15005301\",\"ADDR_GBN\":\"R\"}]}\n",
      "{\"resultMap_match\":{\"KAPT_CODE\":\"A15005301\",\"TOWN_CODE\":1061},\"resultMap_kapt\":{\"KAPT_NAME\":\"신길우성5차\",\"CODE_SALE\":\"분양\",\"CODE_HEAT\":\"개별난방\",\"KAPT_TAREA\":34003.531,\"KAPT_DONG_CNT\":\"3\",\"KAPT_BCOMPANY\":\"우성건설\",\"KAPT_ACOMPANY\":\"우성건설\",\"KAPT_TEL\":\"02-841-9412\",\"KAPT_FAX\":\"02-6673-9412\",\"KAPT_URL\":\"-\",\"CODE_APT\":\"아파트\",\"CODE_MGR\":\"위탁관리\",\"KAPT_MGR_CNT\":\"4\",\"KAPT_CCOMPANY\":\"태림주택종합관리(주)\",\"CODE_SEC\":\"자치관리(직영)\",\"KAPTD_SCNT\":\"8\",\"KAPTD_SEC_COM\":\"태림주택종합\",\"CODE_CLEAN\":\"위탁관리(직영+위탁)\",\"KAPTD_CLCNT\":\"3\",\"CODE_GARBAGE\":\"음식물쓰레기종량제\",\"CODE_DISINF\":\"위탁관리(직영+위탁)\",\"KAPTD_DCNT\":\"12\",\"DISPOSAL_TYPE\":\"분무식,독이식\",\"KAPTD_PCNT\":\"149\",\"KAPTD_PCNTU\":\"85\",\"KAPTD_CCCNT\":\"32\",\"WELFARE_FACILITY\":\"관리사무소, 노인정, 주민공동시설, 어린이놀이터, 자전거보관소\",\"KAPTD_ECAPA\":\"750\",\"CODE_EMGR\":\"위탁선임\",\"CODE_WSUPPLY\":\"고가수조식\",\"CODE_STR\":\"철근콘크리트구조\",\"CODE_ECON\":\"단일계약\",\"CODE_FALARM\":\"P형\",\"CODE_ELEV\":\"위탁관리\",\"CODE_NET\":\"무\",\"KAPTD_WTIMEBUS\":\"10~15분이내\",\"CONVENIENT_FACILITY\":\"관공서(동사무소) 병원(윤면소아과의원) 대형상가(사러가쇼핑센터)\",\"EDUCATION_FACILITY\":\"초등학교(도림초등학교) 중학교(대영중교) 고등학교(대영고교)\",\"CODE_HALL\":\"계단식\",\"KAPT_USEDATE\":\"1993-10-26\",\"KAPT_MAREA\":27278.58,\"SUBWAY_STATION\":\"신풍\",\"SUBWAY_LINE\":\"2호선, 5호선, 7호선\",\"KAPTD_WTIMESUB\":\"10~15분이내\",\"KAPT_CODE\":\"A15005301\"},\"resultMap_kapt_areacnt\":[{\"KAPTDA_CNT\":0,\"AREA_GBN\":1,\"KAPT_CODE\":\"\"},{\"KAPTDA_CNT\":321,\"AREA_GBN\":2,\"KAPT_CODE\":\"A15005301\"},{\"KAPTDA_CNT\":0,\"AREA_GBN\":3,\"KAPT_CODE\":\"\"},{\"KAPTDA_CNT\":0,\"AREA_GBN\":4,\"KAPT_CODE\":\"\"}],\"resultMap_kapt_addrList\":[{\"ADDR\":\"서울특별시 영등포구 신길동 4933 신길우성5차아파트\",\"KAPT_CODE\":\"A15005301\",\"ADDR_GBN\":\"B\"},{\"ADDR\":\"서울특별시 영등포구 도신로 100\",\"KAPT_CODE\":\"A15005301\",\"ADDR_GBN\":\"R\"}]}\n",
      "20 / 23 신길우성5차 처리완료\n"
     ]
    },
    {
     "name": "stderr",
     "output_type": "stream",
     "text": [
      "2018/03/22 21:24:49 example.com 200 OK\n"
     ]
    },
    {
     "name": "stdout",
     "output_type": "stream",
     "text": [
      "{\"resultMap_match\":{\"KAPT_CODE\":\"A15005602\",\"TOWN_CODE\":1062},\"resultMap_kapt\":{\"CODE_HEAT\":\"개별난방\",\"SUBWAY_STATION\":\"신풍\",\"SUBWAY_LINE\":\"7호선\",\"KAPT_PE1AREA\":0,\"KAPT_PE2AREA\":0,\"KAPT_PE3AREA\":0,\"KAPT_PEAREA\":0,\"KAPT_PE4AREA\":0,\"DISPOSAL_TYPE\":\"분무식\",\"KAPT_PE5AREA\":0,\"KAPTD_ECNTB\":0,\"KAPTD_ECNTC\":0,\"KAPT_PHAREA\":0,\"KAPTD_ECNTD\":0,\"KAPTD_SCNT\":\"4\",\"KAPTD_ECNTE\":0,\"CODE_ECON\":\"단일계약\",\"KAPT_PPAREA\":0,\"KAPTD_CCCNT\":\"13\",\"KAPTD_ECNTM\":0,\"KAPT_TEL\":\"02-6268-7500\",\"WELFARE_FACILITY\":\"관리사무소, 어린이놀이터, 휴게시설, 자전거보관소\",\"KAPTD_ECNTP\":2,\"KAPT_FAX\":\"842-1929\",\"KAPT_ACC_COMPANY\":\"-\",\"KAPT_MGR_CNT\":\"3\",\"KAPT_BCOMPANY\":\"우창건설(주)\",\"CONVENIENT_FACILITY\":\"관공서(동사무소) 병원(성심병원) 공원(보라매공원) 기타(돈보스코청소년센터)\",\"CODE_DISINF\":\"위탁관리\",\"CODE_EMGR\":\"위탁선임\",\"CODE_MGR\":\"위탁관리\",\"KAPTD_PCNTU\":\"0\",\"CODE_EMAINT\":\"위탁관리\",\"KAPT_MCAREA\":0,\"CODE_ELEV\":\"위탁관리\",\"KAPT_MEAREA\":0,\"CODE_NET\":\"무\",\"KAPT_MHAREA\":0,\"KAPT_USEDATE\":\"1983-08-17\",\"KAPTD_WTIMEBUS\":\"5~10분이내\",\"KAPT_CODE\":\"A15005602\",\"CODE_APT\":\"아파트\",\"CODE_WSUPPLY\":\"부스타방식\",\"KAPT_MPAREA\":18782.2,\"KAPT_MAREA\":13421.68,\"KAPT_PAREA\":0,\"KAPT_TAREA\":18782.2,\"CODE_FALARM\":\"P형\",\"KAPTD_SEC_COM\":\"(주)태룡에스디\",\"KAPTD_ECAPA\":\"500\",\"CODE_STR\":\"철근콘크리트구조\",\"APPL_CODE\":null,\"KAPT_ME1AREA\":0,\"KAPT_ACOMPANY\":\"우창건설\",\"KAPT_ME2AREA\":0,\"KAPT_ME3AREA\":0,\"CODE_GARBAGE\":\"음식물쓰레기종량제\",\"KAPT_ME4AREA\":0,\"KAPT_ME5AREA\":0,\"CODE_CLTIME\":\"6\",\"CODE_HALL\":\"복도식\",\"CODE_STIME\":\"14\",\"KAPT_NAME\":\"신길우창\",\"KAPT_DONG_CNT\":\"2\",\"CODE_CLEAN\":\"위탁관리\",\"CODE_SALE\":\"분양\",\"CODE_SEC\":\"위탁관리\",\"EMPTY_HO_CNT\":0,\"APPL_PRODATE\":\"\",\"KAPT_URL\":\"-\",\"KAPTD_CLCNT\":\"1\",\"KAPTD_PCNT\":\"163\",\"KAPTD_WTIMESUB\":\"5~10분이내\",\"KAPTD_DCNT\":\"12\",\"EDUCATION_FACILITY\":\"초등학교(대길초등학교) 중학교(대방중학교) 고등학교(영신고등학교)\",\"KAPT_CCOMPANY\":\"(주)태룡에스디\"},\"resultMap_kapt_areacnt\":[{\"KAPTDA_CNT\":72,\"AREA_GBN\":1,\"KAPT_CODE\":\"A15005602\"},{\"KAPTDA_CNT\":142,\"AREA_GBN\":2,\"KAPT_CODE\":\"A15005602\"},{\"KAPTDA_CNT\":null,\"AREA_GBN\":3,\"KAPT_CODE\":null},{\"KAPTDA_CNT\":null,\"AREA_GBN\":4,\"KAPT_CODE\":null}],\"resultMap_kapt_addrList\":[{\"ADDR\":\"서울특별시 영등포구 신길동 4501 우창아파트\",\"KAPT_CODE\":\"A15005602\",\"ADDR_GBN\":\"B\"},{\"ADDR\":\"서울특별시 영등포구 여의대방로5길 6\",\"KAPT_CODE\":\"A15005602\",\"ADDR_GBN\":\"R\"}]}\n",
      "{\"resultMap_match\":{\"KAPT_CODE\":\"A15005602\",\"TOWN_CODE\":1062},\"resultMap_kapt\":{\"KAPT_NAME\":\"신길우창\",\"CODE_SALE\":\"분양\",\"CODE_HEAT\":\"개별난방\",\"KAPT_TAREA\":18782.2,\"KAPT_DONG_CNT\":\"2\",\"KAPT_BCOMPANY\":\"우창건설(주)\",\"KAPT_ACOMPANY\":\"우창건설\",\"KAPT_TEL\":\"02-6268-7500\",\"KAPT_FAX\":\"842-1929\",\"KAPT_URL\":\"-\",\"CODE_APT\":\"아파트\",\"CODE_MGR\":\"위탁관리\",\"KAPT_MGR_CNT\":\"3\",\"KAPT_CCOMPANY\":\"(주)태룡에스디\",\"CODE_SEC\":\"위탁관리\",\"KAPTD_SCNT\":\"4\",\"KAPTD_SEC_COM\":\"(주)태룡에스디\",\"CODE_CLEAN\":\"위탁관리\",\"KAPTD_CLCNT\":\"1\",\"CODE_GARBAGE\":\"음식물쓰레기종량제\",\"CODE_DISINF\":\"위탁관리\",\"KAPTD_DCNT\":\"12\",\"DISPOSAL_TYPE\":\"분무식\",\"KAPTD_PCNT\":\"163\",\"KAPTD_PCNTU\":\"0\",\"KAPTD_CCCNT\":\"13\",\"WELFARE_FACILITY\":\"관리사무소, 어린이놀이터, 휴게시설, 자전거보관소\",\"KAPTD_ECAPA\":\"500\",\"CODE_EMGR\":\"위탁선임\",\"CODE_WSUPPLY\":\"부스타방식\",\"CODE_STR\":\"철근콘크리트구조\",\"CODE_ECON\":\"단일계약\",\"CODE_FALARM\":\"P형\",\"CODE_ELEV\":\"위탁관리\",\"CODE_NET\":\"무\",\"KAPTD_WTIMEBUS\":\"5~10분이내\",\"CONVENIENT_FACILITY\":\"관공서(동사무소) 병원(성심병원) 공원(보라매공원) 기타(돈보스코청소년센터)\",\"EDUCATION_FACILITY\":\"초등학교(대길초등학교) 중학교(대방중학교) 고등학교(영신고등학교)\",\"CODE_HALL\":\"복도식\",\"KAPT_USEDATE\":\"1983-08-17\",\"KAPT_MAREA\":13421.68,\"SUBWAY_STATION\":\"신풍\",\"SUBWAY_LINE\":\"7호선\",\"KAPTD_WTIMESUB\":\"5~10분이내\",\"KAPT_CODE\":\"A15005602\"},\"resultMap_kapt_areacnt\":[{\"KAPTDA_CNT\":72,\"AREA_GBN\":1,\"KAPT_CODE\":\"A15005602\"},{\"KAPTDA_CNT\":142,\"AREA_GBN\":2,\"KAPT_CODE\":\"A15005602\"},{\"KAPTDA_CNT\":0,\"AREA_GBN\":3,\"KAPT_CODE\":\"\"},{\"KAPTDA_CNT\":0,\"AREA_GBN\":4,\"KAPT_CODE\":\"\"}],\"resultMap_kapt_addrList\":[{\"ADDR\":\"서울특별시 영등포구 신길동 4501 우창아파트\",\"KAPT_CODE\":\"A15005602\",\"ADDR_GBN\":\"B\"},{\"ADDR\":\"서울특별시 영등포구 여의대방로5길 6\",\"KAPT_CODE\":\"A15005602\",\"ADDR_GBN\":\"R\"}]}\n",
      "21 / 23 신길우창 처리완료\n"
     ]
    },
    {
     "name": "stderr",
     "output_type": "stream",
     "text": [
      "2018/03/22 21:24:49 example.com 200 OK\n"
     ]
    },
    {
     "name": "stdout",
     "output_type": "stream",
     "text": [
      "{\"resultMap_match\":{\"KAPT_CODE\":\"A15096001\",\"TOWN_CODE\":20124858},\"resultMap_kapt\":{\"CODE_HEAT\":\"개별난방\",\"SUBWAY_STATION\":\"신풍\",\"SUBWAY_LINE\":\"1호선, 5호선\",\"KAPT_PE1AREA\":0,\"KAPT_PE2AREA\":0,\"KAPT_PE3AREA\":0,\"KAPT_PEAREA\":0,\"KAPT_PE4AREA\":0,\"DISPOSAL_TYPE\":\"분무식,독이식\",\"KAPT_PE5AREA\":0,\"KAPTD_ECNTB\":0,\"KAPTD_ECNTC\":0,\"KAPT_PHAREA\":0,\"KAPTD_ECNTD\":0,\"KAPTD_SCNT\":\"4\",\"KAPTD_ECNTE\":0,\"CODE_ECON\":\"종합계약\",\"KAPT_PPAREA\":0,\"KAPTD_CCCNT\":\"47\",\"KAPTD_ECNTM\":0,\"KAPT_TEL\":\"02-831-0924\",\"WELFARE_FACILITY\":\"관리사무소, 노인정, 주민공동시설, 어린이놀이터, 휴게시설, 커뮤니티공간, 자전거보관소\",\"KAPTD_ECNTP\":5,\"KAPT_FAX\":\"02-831-0926\",\"KAPT_ACC_COMPANY\":\"장은회계사무소\",\"KAPT_MGR_CNT\":\"4\",\"KAPT_BCOMPANY\":\"GS건설\",\"CONVENIENT_FACILITY\":\"관공서(동사무소) 병원(성애) 대형상가(사러가쇼핑센터)\",\"CODE_DISINF\":\"위탁관리\",\"CODE_EMGR\":\"상주선임\",\"CODE_MGR\":\"위탁관리\",\"KAPTD_PCNTU\":\"226\",\"CODE_EMAINT\":\"위탁관리\",\"KAPT_MCAREA\":0,\"CODE_ELEV\":\"위탁관리\",\"KAPT_MEAREA\":0,\"CODE_NET\":\"유\",\"KAPT_MHAREA\":0,\"KAPT_USEDATE\":\"2011-06-30\",\"KAPTD_WTIMEBUS\":\"5~10분이내\",\"KAPT_CODE\":\"A15096001\",\"CODE_APT\":\"아파트\",\"CODE_WSUPPLY\":\"부스타방식\",\"KAPT_MPAREA\":21074.14,\"KAPT_MAREA\":16003.72,\"KAPT_PAREA\":0,\"KAPT_TAREA\":32610.93,\"CODE_FALARM\":\"R형\",\"KAPTD_SEC_COM\":\"(주)조은세이프\",\"KAPTD_ECAPA\":\"1000\",\"CODE_STR\":\"철근콘크리트구조\",\"APPL_CODE\":null,\"KAPT_ME1AREA\":0,\"KAPT_ACOMPANY\":\"신길동제5구역재개발주택조합\",\"KAPT_ME2AREA\":0,\"KAPT_ME3AREA\":0,\"CODE_GARBAGE\":\"음식물쓰레기종량제\",\"KAPT_ME4AREA\":0,\"KAPT_ME5AREA\":0,\"CODE_CLTIME\":\"5\",\"CODE_HALL\":\"계단식\",\"CODE_STIME\":\"14\",\"KAPT_NAME\":\"신길자이\",\"KAPT_DONG_CNT\":\"4\",\"CODE_CLEAN\":\"위탁관리\",\"CODE_SALE\":\"분양\",\"CODE_SEC\":\"위탁관리\",\"EMPTY_HO_CNT\":1,\"APPL_PRODATE\":\"\",\"KAPT_URL\":\"-\",\"KAPTD_CLCNT\":\"2\",\"KAPTD_PCNT\":\"0\",\"KAPTD_WTIMESUB\":\"15~20분이내\",\"KAPTD_DCNT\":\"12\",\"EDUCATION_FACILITY\":\"초등학교(영신초등학교)\",\"KAPT_CCOMPANY\":\"일신주택관리(주)\"},\"resultMap_kapt_areacnt\":[{\"KAPTDA_CNT\":76,\"AREA_GBN\":1,\"KAPT_CODE\":\"A15096001\"},{\"KAPTDA_CNT\":86,\"AREA_GBN\":2,\"KAPT_CODE\":\"A15096001\"},{\"KAPTDA_CNT\":36,\"AREA_GBN\":3,\"KAPT_CODE\":\"A15096001\"},{\"KAPTDA_CNT\":null,\"AREA_GBN\":4,\"KAPT_CODE\":null}],\"resultMap_kapt_addrList\":[{\"ADDR\":\"서울특별시 영등포구 신길동 4938 신길자이\",\"KAPT_CODE\":\"A15096001\",\"ADDR_GBN\":\"B\"},{\"ADDR\":\"서울특별시 영등포구 가마산로79길 19\",\"KAPT_CODE\":\"A15096001\",\"ADDR_GBN\":\"R\"}]}\n",
      "{\"resultMap_match\":{\"KAPT_CODE\":\"A15096001\",\"TOWN_CODE\":20124858},\"resultMap_kapt\":{\"KAPT_NAME\":\"신길자이\",\"CODE_SALE\":\"분양\",\"CODE_HEAT\":\"개별난방\",\"KAPT_TAREA\":32610.93,\"KAPT_DONG_CNT\":\"4\",\"KAPT_BCOMPANY\":\"GS건설\",\"KAPT_ACOMPANY\":\"신길동제5구역재개발주택조합\",\"KAPT_TEL\":\"02-831-0924\",\"KAPT_FAX\":\"02-831-0926\",\"KAPT_URL\":\"-\",\"CODE_APT\":\"아파트\",\"CODE_MGR\":\"위탁관리\",\"KAPT_MGR_CNT\":\"4\",\"KAPT_CCOMPANY\":\"일신주택관리(주)\",\"CODE_SEC\":\"위탁관리\",\"KAPTD_SCNT\":\"4\",\"KAPTD_SEC_COM\":\"(주)조은세이프\",\"CODE_CLEAN\":\"위탁관리\",\"KAPTD_CLCNT\":\"2\",\"CODE_GARBAGE\":\"음식물쓰레기종량제\",\"CODE_DISINF\":\"위탁관리\",\"KAPTD_DCNT\":\"12\",\"DISPOSAL_TYPE\":\"분무식,독이식\",\"KAPTD_PCNT\":\"0\",\"KAPTD_PCNTU\":\"226\",\"KAPTD_CCCNT\":\"47\",\"WELFARE_FACILITY\":\"관리사무소, 노인정, 주민공동시설, 어린이놀이터, 휴게시설, 커뮤니티공간, 자전거보관소\",\"KAPTD_ECAPA\":\"1000\",\"CODE_EMGR\":\"상주선임\",\"CODE_WSUPPLY\":\"부스타방식\",\"CODE_STR\":\"철근콘크리트구조\",\"CODE_ECON\":\"종합계약\",\"CODE_FALARM\":\"R형\",\"CODE_ELEV\":\"위탁관리\",\"CODE_NET\":\"유\",\"KAPTD_WTIMEBUS\":\"5~10분이내\",\"CONVENIENT_FACILITY\":\"관공서(동사무소) 병원(성애) 대형상가(사러가쇼핑센터)\",\"EDUCATION_FACILITY\":\"초등학교(영신초등학교)\",\"CODE_HALL\":\"계단식\",\"KAPT_USEDATE\":\"2011-06-30\",\"KAPT_MAREA\":16003.72,\"SUBWAY_STATION\":\"신풍\",\"SUBWAY_LINE\":\"1호선, 5호선\",\"KAPTD_WTIMESUB\":\"15~20분이내\",\"KAPT_CODE\":\"A15096001\"},\"resultMap_kapt_areacnt\":[{\"KAPTDA_CNT\":76,\"AREA_GBN\":1,\"KAPT_CODE\":\"A15096001\"},{\"KAPTDA_CNT\":86,\"AREA_GBN\":2,\"KAPT_CODE\":\"A15096001\"},{\"KAPTDA_CNT\":36,\"AREA_GBN\":3,\"KAPT_CODE\":\"A15096001\"},{\"KAPTDA_CNT\":0,\"AREA_GBN\":4,\"KAPT_CODE\":\"\"}],\"resultMap_kapt_addrList\":[{\"ADDR\":\"서울특별시 영등포구 신길동 4938 신길자이\",\"KAPT_CODE\":\"A15096001\",\"ADDR_GBN\":\"B\"},{\"ADDR\":\"서울특별시 영등포구 가마산로79길 19\",\"KAPT_CODE\":\"A15096001\",\"ADDR_GBN\":\"R\"}]}\n",
      "22 / 23 신길자이 처리완료\n"
     ]
    },
    {
     "name": "stderr",
     "output_type": "stream",
     "text": [
      "2018/03/22 21:24:49 example.com 200 OK\n",
      "2018/03/22 21:24:49 example.com 200 OK\n"
     ]
    },
    {
     "name": "stdout",
     "output_type": "stream",
     "text": [
      "{\"resultMap_match\":{\"KAPT_CODE\":\"A15085404\",\"TOWN_CODE\":1064},\"resultMap_kapt\":{\"CODE_HEAT\":\"개별난방\",\"SUBWAY_STATION\":\"대방, 신풍\",\"SUBWAY_LINE\":\"1호선, 7호선\",\"KAPT_PE1AREA\":0,\"KAPT_PE2AREA\":0,\"KAPT_PE3AREA\":0,\"KAPT_PEAREA\":0,\"KAPT_PE4AREA\":0,\"DISPOSAL_TYPE\":\"도포식,기구부착식\",\"KAPT_PE5AREA\":0,\"KAPTD_ECNTB\":0,\"KAPTD_ECNTC\":0,\"KAPT_PHAREA\":0,\"KAPTD_ECNTD\":0,\"KAPTD_SCNT\":\"8\",\"KAPTD_ECNTE\":0,\"CODE_ECON\":\"단일계약\",\"KAPT_PPAREA\":0,\"KAPTD_CCCNT\":\"38\",\"KAPTD_ECNTM\":0,\"KAPT_TEL\":\"028362345\",\"WELFARE_FACILITY\":\"관리사무소, 노인정, 어린이놀이터\",\"KAPTD_ECNTP\":11,\"KAPT_FAX\":\"028362348\",\"KAPT_ACC_COMPANY\":\"홍진데이타\",\"KAPT_MGR_CNT\":\"5\",\"KAPT_BCOMPANY\":\"한국보훈복지공단\",\"CONVENIENT_FACILITY\":\"관공서(동사무소) 병원(김영준소아과)\",\"CODE_DISINF\":\"위탁관리\",\"CODE_EMGR\":\"상주선임\",\"CODE_MGR\":\"위탁관리\",\"KAPTD_PCNTU\":\"298\",\"CODE_EMAINT\":\"위탁관리\",\"KAPT_MCAREA\":0,\"CODE_ELEV\":\"위탁관리\",\"KAPT_MEAREA\":0,\"CODE_NET\":\"무\",\"KAPT_MHAREA\":0,\"KAPT_USEDATE\":\"1997-07-21\",\"KAPTD_WTIMEBUS\":\"5~10분이내\",\"KAPT_CODE\":\"A15085404\",\"CODE_APT\":\"아파트\",\"CODE_WSUPPLY\":\"부스타방식\",\"KAPT_MPAREA\":0,\"KAPT_MAREA\":36505.08,\"KAPT_PAREA\":0,\"KAPT_TAREA\":57972.21,\"CODE_FALARM\":\"P형\",\"KAPTD_SEC_COM\":\"한양시스템(주)\",\"KAPTD_ECAPA\":\"1465\",\"CODE_STR\":\"철근콘크리트구조\",\"APPL_CODE\":null,\"KAPT_ME1AREA\":0,\"KAPT_ACOMPANY\":\"한성건설\",\"KAPT_ME2AREA\":0,\"KAPT_ME3AREA\":0,\"CODE_GARBAGE\":\"음식물쓰레기종량제\",\"KAPT_ME4AREA\":0,\"KAPT_ME5AREA\":0,\"CODE_CLTIME\":\"4\",\"CODE_HALL\":\"계단식\",\"CODE_STIME\":\"24\",\"KAPT_NAME\":\"신길한성\",\"KAPT_DONG_CNT\":\"5\",\"CODE_CLEAN\":\"위탁관리\",\"CODE_SALE\":\"분양\",\"CODE_SEC\":\"위탁관리\",\"EMPTY_HO_CNT\":0,\"APPL_PRODATE\":\"\",\"KAPT_URL\":\"-\",\"KAPTD_CLCNT\":\"4\",\"KAPTD_PCNT\":\"147\",\"KAPTD_WTIMESUB\":\"5~10분이내\",\"KAPTD_DCNT\":\"12\",\"EDUCATION_FACILITY\":\"초등학교(대방초등학교) 중학교(강남중교) 고등학교(서울공업고교)\",\"KAPT_CCOMPANY\":\"대원종합관리(주)\"},\"resultMap_kapt_areacnt\":[{\"KAPTDA_CNT\":172,\"AREA_GBN\":1,\"KAPT_CODE\":\"A15085404\"},{\"KAPTDA_CNT\":144,\"AREA_GBN\":2,\"KAPT_CODE\":\"A15085404\"},{\"KAPTDA_CNT\":104,\"AREA_GBN\":3,\"KAPT_CODE\":\"A15085404\"},{\"KAPTDA_CNT\":null,\"AREA_GBN\":4,\"KAPT_CODE\":null}],\"resultMap_kapt_addrList\":[{\"ADDR\":\"서울특별시 영등포구 신길동 769-1 한성아파트\",\"KAPT_CODE\":\"A15085404\",\"ADDR_GBN\":\"B\"},{\"ADDR\":\"서울특별시 영등포구 가마산로 575\",\"KAPT_CODE\":\"A15085404\",\"ADDR_GBN\":\"R\"}]}\n",
      "{\"resultMap_match\":{\"KAPT_CODE\":\"A15085404\",\"TOWN_CODE\":1064},\"resultMap_kapt\":{\"KAPT_NAME\":\"신길한성\",\"CODE_SALE\":\"분양\",\"CODE_HEAT\":\"개별난방\",\"KAPT_TAREA\":57972.21,\"KAPT_DONG_CNT\":\"5\",\"KAPT_BCOMPANY\":\"한국보훈복지공단\",\"KAPT_ACOMPANY\":\"한성건설\",\"KAPT_TEL\":\"028362345\",\"KAPT_FAX\":\"028362348\",\"KAPT_URL\":\"-\",\"CODE_APT\":\"아파트\",\"CODE_MGR\":\"위탁관리\",\"KAPT_MGR_CNT\":\"5\",\"KAPT_CCOMPANY\":\"대원종합관리(주)\",\"CODE_SEC\":\"위탁관리\",\"KAPTD_SCNT\":\"8\",\"KAPTD_SEC_COM\":\"한양시스템(주)\",\"CODE_CLEAN\":\"위탁관리\",\"KAPTD_CLCNT\":\"4\",\"CODE_GARBAGE\":\"음식물쓰레기종량제\",\"CODE_DISINF\":\"위탁관리\",\"KAPTD_DCNT\":\"12\",\"DISPOSAL_TYPE\":\"도포식,기구부착식\",\"KAPTD_PCNT\":\"147\",\"KAPTD_PCNTU\":\"298\",\"KAPTD_CCCNT\":\"38\",\"WELFARE_FACILITY\":\"관리사무소, 노인정, 어린이놀이터\",\"KAPTD_ECAPA\":\"1465\",\"CODE_EMGR\":\"상주선임\",\"CODE_WSUPPLY\":\"부스타방식\",\"CODE_STR\":\"철근콘크리트구조\",\"CODE_ECON\":\"단일계약\",\"CODE_FALARM\":\"P형\",\"CODE_ELEV\":\"위탁관리\",\"CODE_NET\":\"무\",\"KAPTD_WTIMEBUS\":\"5~10분이내\",\"CONVENIENT_FACILITY\":\"관공서(동사무소) 병원(김영준소아과)\",\"EDUCATION_FACILITY\":\"초등학교(대방초등학교) 중학교(강남중교) 고등학교(서울공업고교)\",\"CODE_HALL\":\"계단식\",\"KAPT_USEDATE\":\"1997-07-21\",\"KAPT_MAREA\":36505.08,\"SUBWAY_STATION\":\"대방, 신풍\",\"SUBWAY_LINE\":\"1호선, 7호선\",\"KAPTD_WTIMESUB\":\"5~10분이내\",\"KAPT_CODE\":\"A15085404\"},\"resultMap_kapt_areacnt\":[{\"KAPTDA_CNT\":172,\"AREA_GBN\":1,\"KAPT_CODE\":\"A15085404\"},{\"KAPTDA_CNT\":144,\"AREA_GBN\":2,\"KAPT_CODE\":\"A15085404\"},{\"KAPTDA_CNT\":104,\"AREA_GBN\":3,\"KAPT_CODE\":\"A15085404\"},{\"KAPTDA_CNT\":0,\"AREA_GBN\":4,\"KAPT_CODE\":\"\"}],\"resultMap_kapt_addrList\":[{\"ADDR\":\"서울특별시 영등포구 신길동 769-1 한성아파트\",\"KAPT_CODE\":\"A15085404\",\"ADDR_GBN\":\"B\"},{\"ADDR\":\"서울특별시 영등포구 가마산로 575\",\"KAPT_CODE\":\"A15085404\",\"ADDR_GBN\":\"R\"}]}\n",
      "23 / 23 신길한성 처리완료\n",
      "46 개 아파트 처리 완료\n",
      "28260119 아파트 목록 조회 시작 -----------\n",
      "[{201103 2826011900 검단오류풍림아이원  A40430003 0 168332.8 455691.94 0 인천광역시 서구 오류동} {201012 2826011900 검단자이1단지  A40473608 0 168294.83 455640.34 0 인천광역시 서구 오류동} {201012 2826011900 검단힐스테이트3차1단지  A40430002 0 168236.88 455638.3 0 인천광역시 서구 오류동} {201012 2826011900 검단힐스테이트3차2단지  A40430001 0 168194.83 455800.56 0 인천광역시 서구 오류동}]\n",
      "{\"resultList\":[{\"KAPT_USEDATE\":\"201103\",\"BJD_CODE\":\"2826011900\",\"KAPT_NAME\":\"검단오류풍림아이원\",\"OPEN_TERM\":\"\",\"KAPT_CODE\":\"A40430003\",\"OCCU_FIRST_DATE\":0,\"X\":168332.8,\"Y\":455691.94,\"ENERGY_B_COUNT\":0,\"BJD_NAME\":\"인천광역시 서구 오류동\"},{\"KAPT_USEDATE\":\"201012\",\"BJD_CODE\":\"2826011900\",\"KAPT_NAME\":\"검단자이1단지\",\"OPEN_TERM\":\"\",\"KAPT_CODE\":\"A40473608\",\"OCCU_FIRST_DATE\":0,\"X\":168294.83,\"Y\":455640.34,\"ENERGY_B_COUNT\":0,\"BJD_NAME\":\"인천광역시 서구 오류동\"},{\"KAPT_USEDATE\":\"201012\",\"BJD_CODE\":\"2826011900\",\"KAPT_NAME\":\"검단힐스테이트3차1단지\",\"OPEN_TERM\":\"\",\"KAPT_CODE\":\"A40430002\",\"OCCU_FIRST_DATE\":0,\"X\":168236.88,\"Y\":455638.3,\"ENERGY_B_COUNT\":0,\"BJD_NAME\":\"인천광역시 서구 오류동\"},{\"KAPT_USEDATE\":\"201012\",\"BJD_CODE\":\"2826011900\",\"KAPT_NAME\":\"검단힐스테이트3차2단지\",\"OPEN_TERM\":\"\",\"KAPT_CODE\":\"A40430001\",\"OCCU_FIRST_DATE\":0,\"X\":168194.83,\"Y\":455800.56,\"ENERGY_B_COUNT\":0,\"BJD_NAME\":\"인천광역시 서구 오류동\"}]}\n",
      "아파트 목록 조회 완료 -----------\n",
      "아파트 목록 마샬링 시작 -----------\n",
      "아파트 목록 마샬링 완료 -----------\n",
      "아파트 정보 조회 시작 -----------\n"
     ]
    },
    {
     "name": "stderr",
     "output_type": "stream",
     "text": [
      "2018/03/22 21:24:49 example.com 200 OK\n"
     ]
    },
    {
     "name": "stdout",
     "output_type": "stream",
     "text": [
      "{\"resultMap_match\":{\"KAPT_CODE\":\"A10027073\",\"TOWN_CODE\":20349595},\"resultMap_kapt\":{\"CODE_HEAT\":\"개별난방\",\"SUBWAY_STATION\":\"신풍역\",\"SUBWAY_LINE\":\"7호선\",\"KAPT_PE1AREA\":0,\"KAPT_PE2AREA\":0,\"KAPT_PE3AREA\":0,\"KAPT_PEAREA\":0,\"KAPT_PE4AREA\":0,\"DISPOSAL_TYPE\":\"도포식,분무식\",\"KAPT_PE5AREA\":0,\"KAPTD_ECNTB\":0,\"KAPTD_ECNTC\":0,\"KAPT_PHAREA\":0,\"KAPTD_ECNTD\":0,\"KAPTD_SCNT\":\"16\",\"KAPTD_ECNTE\":0,\"CODE_ECON\":\"종합계약\",\"KAPT_PPAREA\":0,\"KAPTD_CCCNT\":\"206\",\"KAPTD_ECNTM\":0,\"KAPT_TEL\":\"028499571\",\"WELFARE_FACILITY\":\"관리사무소, 노인정, 보육시설, 문고, 주민공동시설, 어린이놀이터, 휴게시설, 커뮤니티공간, 자전거보관소\",\"KAPTD_ECNTP\":52,\"KAPT_FAX\":\"02-849-9574\",\"KAPT_ACC_COMPANY\":\"이지스엔터프라이즈\",\"KAPT_MGR_CNT\":\"14\",\"KAPT_BCOMPANY\":\"삼성물산주식회사\",\"CONVENIENT_FACILITY\":\"-\",\"CODE_DISINF\":\"위탁관리\",\"CODE_EMGR\":\"상주선임\",\"CODE_MGR\":\"위탁관리\",\"KAPTD_PCNTU\":\"2280\",\"CODE_EMAINT\":\"위탁관리\",\"KAPT_MCAREA\":44964.64,\"CODE_ELEV\":\"위탁관리\",\"KAPT_MEAREA\":0,\"CODE_NET\":\"유\",\"KAPT_MHAREA\":0,\"KAPT_USEDATE\":\"2017-04-12\",\"KAPTD_WTIMEBUS\":\"5분이내\",\"KAPT_CODE\":\"A10027073\",\"CODE_APT\":\"아파트\",\"CODE_WSUPPLY\":\"부스타방식\",\"KAPT_MPAREA\":133313.49,\"KAPT_MAREA\":133313.49,\"KAPT_PAREA\":0,\"KAPT_TAREA\":272491.57,\"CODE_FALARM\":\"R형\",\"KAPTD_SEC_COM\":\"(주)씨큐원\",\"KAPTD_ECAPA\":\"7550\",\"CODE_STR\":\"철골콘크리트구조\",\"APPL_CODE\":1750,\"KAPT_ME1AREA\":0,\"KAPT_ACOMPANY\":\"신길7재정비촉진구역주택재개발사업조함\",\"KAPT_ME2AREA\":0,\"KAPT_ME3AREA\":0,\"CODE_GARBAGE\":\"음식물쓰레기종량제\",\"KAPT_ME4AREA\":0,\"KAPT_ME5AREA\":0,\"CODE_CLTIME\":\"6\",\"CODE_HALL\":\"혼합식\",\"CODE_STIME\":\"15\",\"KAPT_NAME\":\"래미안에스티움\",\"KAPT_DONG_CNT\":\"19\",\"CODE_CLEAN\":\"위탁관리\",\"CODE_SALE\":\"임대+분양\",\"CODE_SEC\":\"위탁관리\",\"EMPTY_HO_CNT\":5,\"APPL_PRODATE\":\"\",\"KAPT_URL\":\"estium.co.kr\",\"KAPTD_CLCNT\":\"23\",\"KAPTD_PCNT\":\"0\",\"KAPTD_WTIMESUB\":\"5분이내\",\"KAPTD_DCNT\":\"12\",\"EDUCATION_FACILITY\":\"-\",\"KAPT_CCOMPANY\":\"(주)타워피엠씨\"},\"resultMap_kapt_areacnt\":[{\"KAPTDA_CNT\":682,\"AREA_GBN\":1,\"KAPT_CODE\":\"A10027073\"},{\"KAPTDA_CNT\":833,\"AREA_GBN\":2,\"KAPT_CODE\":\"A10027073\"},{\"KAPTDA_CNT\":207,\"AREA_GBN\":3,\"KAPT_CODE\":\"A10027073\"},{\"KAPTDA_CNT\":null,\"AREA_GBN\":4,\"KAPT_CODE\":null}],\"resultMap_kapt_addrList\":[{\"ADDR\":\"서울특별시 영등포구 신길동 4950 래미안에스티움\",\"KAPT_CODE\":\"A10027073\",\"ADDR_GBN\":\"B\"},{\"ADDR\":\"서울특별시 영등포구 신풍로 77\",\"KAPT_CODE\":\"A10027073\",\"ADDR_GBN\":\"R\"}]}\n",
      "{\"resultMap_match\":{\"KAPT_CODE\":\"A10027073\",\"TOWN_CODE\":20349595},\"resultMap_kapt\":{\"KAPT_NAME\":\"래미안에스티움\",\"CODE_SALE\":\"임대+분양\",\"CODE_HEAT\":\"개별난방\",\"KAPT_TAREA\":272491.57,\"KAPT_DONG_CNT\":\"19\",\"KAPT_BCOMPANY\":\"삼성물산주식회사\",\"KAPT_ACOMPANY\":\"신길7재정비촉진구역주택재개발사업조함\",\"KAPT_TEL\":\"028499571\",\"KAPT_FAX\":\"02-849-9574\",\"KAPT_URL\":\"estium.co.kr\",\"CODE_APT\":\"아파트\",\"CODE_MGR\":\"위탁관리\",\"KAPT_MGR_CNT\":\"14\",\"KAPT_CCOMPANY\":\"(주)타워피엠씨\",\"CODE_SEC\":\"위탁관리\",\"KAPTD_SCNT\":\"16\",\"KAPTD_SEC_COM\":\"(주)씨큐원\",\"CODE_CLEAN\":\"위탁관리\",\"KAPTD_CLCNT\":\"23\",\"CODE_GARBAGE\":\"음식물쓰레기종량제\",\"CODE_DISINF\":\"위탁관리\",\"KAPTD_DCNT\":\"12\",\"DISPOSAL_TYPE\":\"도포식,분무식\",\"KAPTD_PCNT\":\"0\",\"KAPTD_PCNTU\":\"2280\",\"KAPTD_CCCNT\":\"206\",\"WELFARE_FACILITY\":\"관리사무소, 노인정, 보육시설, 문고, 주민공동시설, 어린이놀이터, 휴게시설, 커뮤니티공간, 자전거보관소\",\"KAPTD_ECAPA\":\"7550\",\"CODE_EMGR\":\"상주선임\",\"CODE_WSUPPLY\":\"부스타방식\",\"CODE_STR\":\"철골콘크리트구조\",\"CODE_ECON\":\"종합계약\",\"CODE_FALARM\":\"R형\",\"CODE_ELEV\":\"위탁관리\",\"CODE_NET\":\"유\",\"KAPTD_WTIMEBUS\":\"5분이내\",\"CONVENIENT_FACILITY\":\"-\",\"EDUCATION_FACILITY\":\"-\",\"CODE_HALL\":\"혼합식\",\"KAPT_USEDATE\":\"2017-04-12\",\"KAPT_MAREA\":133313.49,\"SUBWAY_STATION\":\"신풍역\",\"SUBWAY_LINE\":\"7호선\",\"KAPTD_WTIMESUB\":\"5분이내\",\"KAPT_CODE\":\"A10027073\"},\"resultMap_kapt_areacnt\":[{\"KAPTDA_CNT\":682,\"AREA_GBN\":1,\"KAPT_CODE\":\"A10027073\"},{\"KAPTDA_CNT\":833,\"AREA_GBN\":2,\"KAPT_CODE\":\"A10027073\"},{\"KAPTDA_CNT\":207,\"AREA_GBN\":3,\"KAPT_CODE\":\"A10027073\"},{\"KAPTDA_CNT\":0,\"AREA_GBN\":4,\"KAPT_CODE\":\"\"}],\"resultMap_kapt_addrList\":[{\"ADDR\":\"서울특별시 영등포구 신길동 4950 래미안에스티움\",\"KAPT_CODE\":\"A10027073\",\"ADDR_GBN\":\"B\"},{\"ADDR\":\"서울특별시 영등포구 신풍로 77\",\"KAPT_CODE\":\"A10027073\",\"ADDR_GBN\":\"R\"}]}\n",
      "1 / 23 래미안에스티움 처리완료\n"
     ]
    },
    {
     "name": "stderr",
     "output_type": "stream",
     "text": [
      "2018/03/22 21:24:50 example.com 200 OK\n"
     ]
    },
    {
     "name": "stdout",
     "output_type": "stream",
     "text": [
      "{\"resultMap_match\":{\"KAPT_CODE\":\"A10027755\",\"TOWN_CODE\":20331410},\"resultMap_kapt\":{\"CODE_HEAT\":\"개별난방\",\"SUBWAY_STATION\":\"-\",\"SUBWAY_LINE\":\"7호선\",\"KAPT_PE1AREA\":0,\"KAPT_PE2AREA\":0,\"KAPT_PE3AREA\":0,\"KAPT_PEAREA\":0,\"KAPT_PE4AREA\":0,\"DISPOSAL_TYPE\":\"-\",\"KAPT_PE5AREA\":0,\"KAPTD_ECNTB\":0,\"KAPTD_ECNTC\":0,\"KAPT_PHAREA\":0,\"KAPTD_ECNTD\":0,\"KAPTD_SCNT\":\"11\",\"KAPTD_ECNTE\":0,\"CODE_ECON\":\"종합계약\",\"KAPT_PPAREA\":0,\"KAPTD_CCCNT\":\"100\",\"KAPTD_ECNTM\":0,\"KAPT_TEL\":\"02-849-6655\",\"WELFARE_FACILITY\":\"관리사무소, 노인정, 보육시설, 문고, 주민공동시설, 어린이놀이터, 커뮤니티공간, 자전거보관소\",\"KAPTD_ECNTP\":28,\"KAPT_FAX\":\"02-849-6900\",\"KAPT_ACC_COMPANY\":\"-\",\"KAPT_MGR_CNT\":\"8\",\"KAPT_BCOMPANY\":\"삼성물산주식회사\",\"CONVENIENT_FACILITY\":\"-\",\"CODE_DISINF\":\"위탁관리\",\"CODE_EMGR\":\"상주선임\",\"CODE_MGR\":\"위탁관리\",\"KAPTD_PCNTU\":\"1211\",\"CODE_EMAINT\":\"위탁관리\",\"KAPT_MCAREA\":23340.24,\"CODE_ELEV\":\"위탁관리\",\"KAPT_MEAREA\":0,\"CODE_NET\":\"유\",\"KAPT_MHAREA\":0,\"KAPT_USEDATE\":\"2015-12-29\",\"KAPTD_WTIMEBUS\":\"5~10분이내\",\"KAPT_CODE\":\"A10027755\",\"CODE_APT\":\"아파트\",\"CODE_WSUPPLY\":\"부스타방식\",\"KAPT_MPAREA\":688620.86,\"KAPT_MAREA\":68800.87,\"KAPT_PAREA\":0,\"KAPT_TAREA\":140645.79,\"CODE_FALARM\":\"R형\",\"KAPTD_SEC_COM\":\"(주)아주관리\",\"KAPTD_ECAPA\":\"4000\",\"CODE_STR\":\"철골철근콘크리트구조\",\"APPL_CODE\":null,\"KAPT_ME1AREA\":0,\"KAPT_ACOMPANY\":\"조합\",\"KAPT_ME2AREA\":0,\"KAPT_ME3AREA\":0,\"CODE_GARBAGE\":\"거점장비수거방식\",\"KAPT_ME4AREA\":0,\"KAPT_ME5AREA\":0,\"CODE_CLTIME\":\"8\",\"CODE_HALL\":\"혼합식\",\"CODE_STIME\":\"24\",\"KAPT_NAME\":\"래미안프레비뉴\",\"KAPT_DONG_CNT\":\"12\",\"CODE_CLEAN\":\"위탁관리\",\"CODE_SALE\":\"임대+분양\",\"CODE_SEC\":\"위탁관리\",\"EMPTY_HO_CNT\":0,\"APPL_PRODATE\":\"\",\"KAPT_URL\":\"-\",\"KAPTD_CLCNT\":\"10\",\"KAPTD_PCNT\":\"0\",\"KAPTD_WTIMESUB\":\"5~10분이내\",\"KAPTD_DCNT\":\"0\",\"EDUCATION_FACILITY\":\"초등학교() 중학교() 고등학교()\",\"KAPT_CCOMPANY\":\"(주)아주관리\"},\"resultMap_kapt_areacnt\":[{\"KAPTDA_CNT\":396,\"AREA_GBN\":1,\"KAPT_CODE\":\"A10027755\"},{\"KAPTDA_CNT\":535,\"AREA_GBN\":2,\"KAPT_CODE\":\"A10027755\"},{\"KAPTDA_CNT\":17,\"AREA_GBN\":3,\"KAPT_CODE\":\"A10027755\"},{\"KAPTDA_CNT\":null,\"AREA_GBN\":4,\"KAPT_CODE\":null}],\"resultMap_kapt_addrList\":[{\"ADDR\":\"서울특별시 영등포구 신길동 329-94 래미안영등포프레비뉴\",\"KAPT_CODE\":\"A10027755\",\"ADDR_GBN\":\"B\"},{\"ADDR\":\"서울특별시 영등포구 가마산로 442\",\"KAPT_CODE\":\"A10027755\",\"ADDR_GBN\":\"R\"}]}\n",
      "{\"resultMap_match\":{\"KAPT_CODE\":\"A10027755\",\"TOWN_CODE\":20331410},\"resultMap_kapt\":{\"KAPT_NAME\":\"래미안프레비뉴\",\"CODE_SALE\":\"임대+분양\",\"CODE_HEAT\":\"개별난방\",\"KAPT_TAREA\":140645.79,\"KAPT_DONG_CNT\":\"12\",\"KAPT_BCOMPANY\":\"삼성물산주식회사\",\"KAPT_ACOMPANY\":\"조합\",\"KAPT_TEL\":\"02-849-6655\",\"KAPT_FAX\":\"02-849-6900\",\"KAPT_URL\":\"-\",\"CODE_APT\":\"아파트\",\"CODE_MGR\":\"위탁관리\",\"KAPT_MGR_CNT\":\"8\",\"KAPT_CCOMPANY\":\"(주)아주관리\",\"CODE_SEC\":\"위탁관리\",\"KAPTD_SCNT\":\"11\",\"KAPTD_SEC_COM\":\"(주)아주관리\",\"CODE_CLEAN\":\"위탁관리\",\"KAPTD_CLCNT\":\"10\",\"CODE_GARBAGE\":\"거점장비수거방식\",\"CODE_DISINF\":\"위탁관리\",\"KAPTD_DCNT\":\"0\",\"DISPOSAL_TYPE\":\"-\",\"KAPTD_PCNT\":\"0\",\"KAPTD_PCNTU\":\"1211\",\"KAPTD_CCCNT\":\"100\",\"WELFARE_FACILITY\":\"관리사무소, 노인정, 보육시설, 문고, 주민공동시설, 어린이놀이터, 커뮤니티공간, 자전거보관소\",\"KAPTD_ECAPA\":\"4000\",\"CODE_EMGR\":\"상주선임\",\"CODE_WSUPPLY\":\"부스타방식\",\"CODE_STR\":\"철골철근콘크리트구조\",\"CODE_ECON\":\"종합계약\",\"CODE_FALARM\":\"R형\",\"CODE_ELEV\":\"위탁관리\",\"CODE_NET\":\"유\",\"KAPTD_WTIMEBUS\":\"5~10분이내\",\"CONVENIENT_FACILITY\":\"-\",\"EDUCATION_FACILITY\":\"초등학교() 중학교() 고등학교()\",\"CODE_HALL\":\"혼합식\",\"KAPT_USEDATE\":\"2015-12-29\",\"KAPT_MAREA\":68800.87,\"SUBWAY_STATION\":\"-\",\"SUBWAY_LINE\":\"7호선\",\"KAPTD_WTIMESUB\":\"5~10분이내\",\"KAPT_CODE\":\"A10027755\"},\"resultMap_kapt_areacnt\":[{\"KAPTDA_CNT\":396,\"AREA_GBN\":1,\"KAPT_CODE\":\"A10027755\"},{\"KAPTDA_CNT\":535,\"AREA_GBN\":2,\"KAPT_CODE\":\"A10027755\"},{\"KAPTDA_CNT\":17,\"AREA_GBN\":3,\"KAPT_CODE\":\"A10027755\"},{\"KAPTDA_CNT\":0,\"AREA_GBN\":4,\"KAPT_CODE\":\"\"}],\"resultMap_kapt_addrList\":[{\"ADDR\":\"서울특별시 영등포구 신길동 329-94 래미안영등포프레비뉴\",\"KAPT_CODE\":\"A10027755\",\"ADDR_GBN\":\"B\"},{\"ADDR\":\"서울특별시 영등포구 가마산로 442\",\"KAPT_CODE\":\"A10027755\",\"ADDR_GBN\":\"R\"}]}\n",
      "2 / 23 래미안프레비뉴 처리완료\n"
     ]
    },
    {
     "name": "stderr",
     "output_type": "stream",
     "text": [
      "2018/03/22 21:24:50 example.com 200 OK\n"
     ]
    },
    {
     "name": "stdout",
     "output_type": "stream",
     "text": [
      "{\"resultMap_match\":{\"KAPT_CODE\":\"A15005002\",\"TOWN_CODE\":20181850},\"resultMap_kapt\":{\"CODE_HEAT\":\"개별난방\",\"SUBWAY_STATION\":\"신풍\",\"SUBWAY_LINE\":\"1호선, 7호선\",\"KAPT_PE1AREA\":0,\"KAPT_PE2AREA\":0,\"KAPT_PE3AREA\":0,\"KAPT_PEAREA\":0,\"KAPT_PE4AREA\":0,\"DISPOSAL_TYPE\":\"도포식,분무식,기구부착식,독이식\",\"KAPT_PE5AREA\":0,\"KAPTD_ECNTB\":0,\"KAPTD_ECNTC\":0,\"KAPT_PHAREA\":0,\"KAPTD_ECNTD\":0,\"KAPTD_SCNT\":\"2\",\"KAPTD_ECNTE\":0,\"CODE_ECON\":\"단일계약\",\"KAPT_PPAREA\":0,\"KAPTD_CCCNT\":\"8\",\"KAPTD_ECNTM\":0,\"KAPT_TEL\":\"028499181\",\"WELFARE_FACILITY\":\"관리사무소\",\"KAPTD_ECNTP\":2,\"KAPT_FAX\":\"028499184\",\"KAPT_ACC_COMPANY\":\"-\",\"KAPT_MGR_CNT\":\"3\",\"KAPT_BCOMPANY\":\"우신건설\",\"CONVENIENT_FACILITY\":\"백화점(디큐브,타임스퀘어)\",\"CODE_DISINF\":\"위탁관리\",\"CODE_EMGR\":\"위탁선임\",\"CODE_MGR\":\"위탁관리\",\"KAPTD_PCNTU\":\"0\",\"CODE_EMAINT\":\"위탁관리\",\"KAPT_MCAREA\":0,\"CODE_ELEV\":\"위탁관리\",\"KAPT_MEAREA\":0,\"CODE_NET\":\"무\",\"KAPT_MHAREA\":0,\"KAPT_USEDATE\":\"2013-07-26\",\"KAPTD_WTIMEBUS\":\"5분이내\",\"KAPT_CODE\":\"A15005002\",\"CODE_APT\":\"주상복합\",\"CODE_WSUPPLY\":\"부스타방식\",\"KAPT_MPAREA\":0,\"KAPT_MAREA\":2961.93,\"KAPT_PAREA\":0,\"KAPT_TAREA\":8069.5,\"CODE_FALARM\":\"GR형\",\"KAPTD_SEC_COM\":\"한성세영비엔에이\",\"KAPTD_ECAPA\":\"950\",\"CODE_STR\":\"철근콘크리트구조\",\"APPL_CODE\":null,\"KAPT_ME1AREA\":0,\"KAPT_ACOMPANY\":\"코람코 자산신탁\",\"KAPT_ME2AREA\":0,\"KAPT_ME3AREA\":0,\"CODE_GARBAGE\":\"음식물쓰레기종량제\",\"KAPT_ME4AREA\":0,\"KAPT_ME5AREA\":0,\"CODE_CLTIME\":\"8\",\"CODE_HALL\":\"복도식\",\"CODE_STIME\":\"15\",\"KAPT_NAME\":\"레전드힐스\",\"KAPT_DONG_CNT\":\"1\",\"CODE_CLEAN\":\"위탁관리\",\"CODE_SALE\":\"분양\",\"CODE_SEC\":\"위탁관리\",\"EMPTY_HO_CNT\":0,\"APPL_PRODATE\":\"\",\"KAPT_URL\":\"-\",\"KAPTD_CLCNT\":\"1\",\"KAPTD_PCNT\":\"73\",\"KAPTD_WTIMESUB\":\"10~15분이내\",\"KAPTD_DCNT\":\"12\",\"EDUCATION_FACILITY\":\"초등학교(우신) 중학교(영원)\",\"KAPT_CCOMPANY\":\"(주)한성세영비엔에이\"},\"resultMap_kapt_areacnt\":[{\"KAPTDA_CNT\":216,\"AREA_GBN\":1,\"KAPT_CODE\":\"A15005002\"},{\"KAPTDA_CNT\":null,\"AREA_GBN\":2,\"KAPT_CODE\":null},{\"KAPTDA_CNT\":null,\"AREA_GBN\":3,\"KAPT_CODE\":null},{\"KAPTDA_CNT\":null,\"AREA_GBN\":4,\"KAPT_CODE\":null}],\"resultMap_kapt_addrList\":[{\"ADDR\":\"서울특별시 영등포구 신길동 261-22 레전드힐스\",\"KAPT_CODE\":\"A15005002\",\"ADDR_GBN\":\"B\"},{\"ADDR\":\"서울특별시 영등포구 가마산로 468\",\"KAPT_CODE\":\"A15005002\",\"ADDR_GBN\":\"R\"}]}\n",
      "{\"resultMap_match\":{\"KAPT_CODE\":\"A15005002\",\"TOWN_CODE\":20181850},\"resultMap_kapt\":{\"KAPT_NAME\":\"레전드힐스\",\"CODE_SALE\":\"분양\",\"CODE_HEAT\":\"개별난방\",\"KAPT_TAREA\":8069.5,\"KAPT_DONG_CNT\":\"1\",\"KAPT_BCOMPANY\":\"우신건설\",\"KAPT_ACOMPANY\":\"코람코 자산신탁\",\"KAPT_TEL\":\"028499181\",\"KAPT_FAX\":\"028499184\",\"KAPT_URL\":\"-\",\"CODE_APT\":\"주상복합\",\"CODE_MGR\":\"위탁관리\",\"KAPT_MGR_CNT\":\"3\",\"KAPT_CCOMPANY\":\"(주)한성세영비엔에이\",\"CODE_SEC\":\"위탁관리\",\"KAPTD_SCNT\":\"2\",\"KAPTD_SEC_COM\":\"한성세영비엔에이\",\"CODE_CLEAN\":\"위탁관리\",\"KAPTD_CLCNT\":\"1\",\"CODE_GARBAGE\":\"음식물쓰레기종량제\",\"CODE_DISINF\":\"위탁관리\",\"KAPTD_DCNT\":\"12\",\"DISPOSAL_TYPE\":\"도포식,분무식,기구부착식,독이식\",\"KAPTD_PCNT\":\"73\",\"KAPTD_PCNTU\":\"0\",\"KAPTD_CCCNT\":\"8\",\"WELFARE_FACILITY\":\"관리사무소\",\"KAPTD_ECAPA\":\"950\",\"CODE_EMGR\":\"위탁선임\",\"CODE_WSUPPLY\":\"부스타방식\",\"CODE_STR\":\"철근콘크리트구조\",\"CODE_ECON\":\"단일계약\",\"CODE_FALARM\":\"GR형\",\"CODE_ELEV\":\"위탁관리\",\"CODE_NET\":\"무\",\"KAPTD_WTIMEBUS\":\"5분이내\",\"CONVENIENT_FACILITY\":\"백화점(디큐브,타임스퀘어)\",\"EDUCATION_FACILITY\":\"초등학교(우신) 중학교(영원)\",\"CODE_HALL\":\"복도식\",\"KAPT_USEDATE\":\"2013-07-26\",\"KAPT_MAREA\":2961.93,\"SUBWAY_STATION\":\"신풍\",\"SUBWAY_LINE\":\"1호선, 7호선\",\"KAPTD_WTIMESUB\":\"10~15분이내\",\"KAPT_CODE\":\"A15005002\"},\"resultMap_kapt_areacnt\":[{\"KAPTDA_CNT\":216,\"AREA_GBN\":1,\"KAPT_CODE\":\"A15005002\"},{\"KAPTDA_CNT\":0,\"AREA_GBN\":2,\"KAPT_CODE\":\"\"},{\"KAPTDA_CNT\":0,\"AREA_GBN\":3,\"KAPT_CODE\":\"\"},{\"KAPTDA_CNT\":0,\"AREA_GBN\":4,\"KAPT_CODE\":\"\"}],\"resultMap_kapt_addrList\":[{\"ADDR\":\"서울특별시 영등포구 신길동 261-22 레전드힐스\",\"KAPT_CODE\":\"A15005002\",\"ADDR_GBN\":\"B\"},{\"ADDR\":\"서울특별시 영등포구 가마산로 468\",\"KAPT_CODE\":\"A15005002\",\"ADDR_GBN\":\"R\"}]}\n",
      "3 / 23 레전드힐스 처리완료\n"
     ]
    },
    {
     "name": "stderr",
     "output_type": "stream",
     "text": [
      "2018/03/22 21:24:50 example.com 200 OK\n"
     ]
    },
    {
     "name": "stdout",
     "output_type": "stream",
     "text": [
      "{\"resultMap_match\":{\"KAPT_CODE\":\"A15086006\",\"TOWN_CODE\":20008680},\"resultMap_kapt\":{\"CODE_HEAT\":\"개별난방\",\"SUBWAY_STATION\":\"신풍\",\"SUBWAY_LINE\":\"7호선\",\"KAPT_PE1AREA\":0,\"KAPT_PE2AREA\":0,\"KAPT_PE3AREA\":0,\"KAPT_PEAREA\":0,\"KAPT_PE4AREA\":0,\"DISPOSAL_TYPE\":\"도포식,분무식\",\"KAPT_PE5AREA\":0,\"KAPTD_ECNTB\":0,\"KAPTD_ECNTC\":0,\"KAPT_PHAREA\":0,\"KAPTD_ECNTD\":0,\"KAPTD_SCNT\":\"10\",\"KAPTD_ECNTE\":0,\"CODE_ECON\":\"단일계약\",\"KAPT_PPAREA\":0,\"KAPTD_CCCNT\":\"154\",\"KAPTD_ECNTM\":0,\"KAPT_TEL\":\"02-848-4779\",\"WELFARE_FACILITY\":\"관리사무소, 노인정, 보육시설, 문고, 주민공동시설, 어린이놀이터, 휴게시설, 자전거보관소\",\"KAPTD_ECNTP\":15,\"KAPT_FAX\":\"02-833-4779\",\"KAPT_ACC_COMPANY\":\"이지스MPK\",\"KAPT_MGR_CNT\":\"7\",\"KAPT_BCOMPANY\":\"경남기업\",\"CONVENIENT_FACILITY\":\"관공서(동사무소) 병원(남수한의원) 대형상가(LG하이프라자) 공원(보라매공원) 기타(돈보스코청소년센터)\",\"CODE_DISINF\":\"위탁관리\",\"CODE_EMGR\":\"상주선임\",\"CODE_MGR\":\"위탁관리\",\"KAPTD_PCNTU\":\"674\",\"CODE_EMAINT\":\"자치관리\",\"KAPT_MCAREA\":0,\"CODE_ELEV\":\"위탁관리\",\"KAPT_MEAREA\":0,\"CODE_NET\":\"유\",\"KAPT_MHAREA\":0,\"KAPT_USEDATE\":\"2005-08-12\",\"KAPTD_WTIMEBUS\":\"5~10분이내\",\"KAPT_CODE\":\"A15086006\",\"CODE_APT\":\"아파트\",\"CODE_WSUPPLY\":\"부스타방식\",\"KAPT_MPAREA\":0,\"KAPT_MAREA\":57010.79,\"KAPT_PAREA\":0,\"KAPT_TAREA\":73156.97,\"CODE_FALARM\":\"R형\",\"KAPTD_SEC_COM\":\"예주산업\",\"KAPTD_ECAPA\":\"2391\",\"CODE_STR\":\"철근콘크리트구조\",\"APPL_CODE\":null,\"KAPT_ME1AREA\":0,\"KAPT_ACOMPANY\":\"경남기업\",\"KAPT_ME2AREA\":0,\"KAPT_ME3AREA\":0,\"CODE_GARBAGE\":\"음식물쓰레기종량제\",\"KAPT_ME4AREA\":0,\"KAPT_ME5AREA\":0,\"CODE_CLTIME\":\"6\",\"CODE_HALL\":\"계단식\",\"CODE_STIME\":\"24\",\"KAPT_NAME\":\"보라매경남아너스빌\",\"KAPT_DONG_CNT\":\"9\",\"CODE_CLEAN\":\"위탁관리\",\"CODE_SALE\":\"분양\",\"CODE_SEC\":\"위탁관리\",\"EMPTY_HO_CNT\":0,\"APPL_PRODATE\":\"\",\"KAPT_URL\":\"-\",\"KAPTD_CLCNT\":\"5\",\"KAPTD_PCNT\":\"125\",\"KAPTD_WTIMESUB\":\"5~10분이내\",\"KAPTD_DCNT\":\"12\",\"EDUCATION_FACILITY\":\"초등학교(대길초등학교) 중학교(대방중학교) 고등학교(영신고등학교)\",\"KAPT_CCOMPANY\":\"광인산업(주)\"},\"resultMap_kapt_areacnt\":[{\"KAPTDA_CNT\":92,\"AREA_GBN\":1,\"KAPT_CODE\":\"A15086006\"},{\"KAPTDA_CNT\":489,\"AREA_GBN\":2,\"KAPT_CODE\":\"A15086006\"},{\"KAPTDA_CNT\":88,\"AREA_GBN\":3,\"KAPT_CODE\":\"A15086006\"},{\"KAPTDA_CNT\":null,\"AREA_GBN\":4,\"KAPT_CODE\":null}],\"resultMap_kapt_addrList\":[{\"ADDR\":\"서울특별시 영등포구 신길동 4780 보라매경남아너스빌\",\"KAPT_CODE\":\"A15086006\",\"ADDR_GBN\":\"B\"},{\"ADDR\":\"서울특별시 영등포구 여의대방로 25\",\"KAPT_CODE\":\"A15086006\",\"ADDR_GBN\":\"R\"}]}\n",
      "{\"resultMap_match\":{\"KAPT_CODE\":\"A15086006\",\"TOWN_CODE\":20008680},\"resultMap_kapt\":{\"KAPT_NAME\":\"보라매경남아너스빌\",\"CODE_SALE\":\"분양\",\"CODE_HEAT\":\"개별난방\",\"KAPT_TAREA\":73156.97,\"KAPT_DONG_CNT\":\"9\",\"KAPT_BCOMPANY\":\"경남기업\",\"KAPT_ACOMPANY\":\"경남기업\",\"KAPT_TEL\":\"02-848-4779\",\"KAPT_FAX\":\"02-833-4779\",\"KAPT_URL\":\"-\",\"CODE_APT\":\"아파트\",\"CODE_MGR\":\"위탁관리\",\"KAPT_MGR_CNT\":\"7\",\"KAPT_CCOMPANY\":\"광인산업(주)\",\"CODE_SEC\":\"위탁관리\",\"KAPTD_SCNT\":\"10\",\"KAPTD_SEC_COM\":\"예주산업\",\"CODE_CLEAN\":\"위탁관리\",\"KAPTD_CLCNT\":\"5\",\"CODE_GARBAGE\":\"음식물쓰레기종량제\",\"CODE_DISINF\":\"위탁관리\",\"KAPTD_DCNT\":\"12\",\"DISPOSAL_TYPE\":\"도포식,분무식\",\"KAPTD_PCNT\":\"125\",\"KAPTD_PCNTU\":\"674\",\"KAPTD_CCCNT\":\"154\",\"WELFARE_FACILITY\":\"관리사무소, 노인정, 보육시설, 문고, 주민공동시설, 어린이놀이터, 휴게시설, 자전거보관소\",\"KAPTD_ECAPA\":\"2391\",\"CODE_EMGR\":\"상주선임\",\"CODE_WSUPPLY\":\"부스타방식\",\"CODE_STR\":\"철근콘크리트구조\",\"CODE_ECON\":\"단일계약\",\"CODE_FALARM\":\"R형\",\"CODE_ELEV\":\"위탁관리\",\"CODE_NET\":\"유\",\"KAPTD_WTIMEBUS\":\"5~10분이내\",\"CONVENIENT_FACILITY\":\"관공서(동사무소) 병원(남수한의원) 대형상가(LG하이프라자) 공원(보라매공원) 기타(돈보스코청소년센터)\",\"EDUCATION_FACILITY\":\"초등학교(대길초등학교) 중학교(대방중학교) 고등학교(영신고등학교)\",\"CODE_HALL\":\"계단식\",\"KAPT_USEDATE\":\"2005-08-12\",\"KAPT_MAREA\":57010.79,\"SUBWAY_STATION\":\"신풍\",\"SUBWAY_LINE\":\"7호선\",\"KAPTD_WTIMESUB\":\"5~10분이내\",\"KAPT_CODE\":\"A15086006\"},\"resultMap_kapt_areacnt\":[{\"KAPTDA_CNT\":92,\"AREA_GBN\":1,\"KAPT_CODE\":\"A15086006\"},{\"KAPTDA_CNT\":489,\"AREA_GBN\":2,\"KAPT_CODE\":\"A15086006\"},{\"KAPTDA_CNT\":88,\"AREA_GBN\":3,\"KAPT_CODE\":\"A15086006\"},{\"KAPTDA_CNT\":0,\"AREA_GBN\":4,\"KAPT_CODE\":\"\"}],\"resultMap_kapt_addrList\":[{\"ADDR\":\"서울특별시 영등포구 신길동 4780 보라매경남아너스빌\",\"KAPT_CODE\":\"A15086006\",\"ADDR_GBN\":\"B\"},{\"ADDR\":\"서울특별시 영등포구 여의대방로 25\",\"KAPT_CODE\":\"A15086006\",\"ADDR_GBN\":\"R\"}]}\n",
      "4 / 23 보라매경남아너스빌 처리완료\n"
     ]
    },
    {
     "name": "stderr",
     "output_type": "stream",
     "text": [
      "2018/03/22 21:24:50 example.com 200 OK\n"
     ]
    },
    {
     "name": "stdout",
     "output_type": "stream",
     "text": [
      "{\"resultMap_match\":{\"KAPT_CODE\":\"A15086001\",\"TOWN_CODE\":20008679},\"resultMap_kapt\":{\"CODE_HEAT\":\"개별난방\",\"SUBWAY_STATION\":\"신풍\",\"SUBWAY_LINE\":\"7호선\",\"KAPT_PE1AREA\":0,\"KAPT_PE2AREA\":0,\"KAPT_PE3AREA\":0,\"KAPT_PEAREA\":0,\"KAPT_PE4AREA\":0,\"DISPOSAL_TYPE\":\"분무식\",\"KAPT_PE5AREA\":0,\"KAPTD_ECNTB\":0,\"KAPTD_ECNTC\":0,\"KAPT_PHAREA\":0,\"KAPTD_ECNTD\":0,\"KAPTD_SCNT\":\"2\",\"KAPTD_ECNTE\":0,\"CODE_ECON\":\"단일계약\",\"KAPT_PPAREA\":0,\"KAPTD_CCCNT\":\"37\",\"KAPTD_ECNTM\":0,\"KAPT_TEL\":\"02-836-0385\",\"WELFARE_FACILITY\":\"관리사무소, 노인정, 어린이놀이터, 자전거보관소\",\"KAPTD_ECNTP\":6,\"KAPT_FAX\":\"02-836-0386\",\"KAPT_ACC_COMPANY\":\"-\",\"KAPT_MGR_CNT\":\"3\",\"KAPT_BCOMPANY\":\"두산건설(주)\",\"CONVENIENT_FACILITY\":\"관공서(동사무소) 병원(김정은소아과의원) 공원(보라매공원) 기타(돈보스코청소년센터)\",\"CODE_DISINF\":\"위탁관리\",\"CODE_EMGR\":\"위탁선임\",\"CODE_MGR\":\"위탁관리\",\"KAPTD_PCNTU\":\"48\",\"CODE_EMAINT\":\"위탁관리\",\"KAPT_MCAREA\":4454.458,\"CODE_ELEV\":\"위탁관리\",\"KAPT_MEAREA\":0,\"CODE_NET\":\"무\",\"KAPT_MHAREA\":0,\"KAPT_USEDATE\":\"2005-11-10\",\"KAPTD_WTIMEBUS\":\"5~10분이내\",\"KAPT_CODE\":\"A15086001\",\"CODE_APT\":\"아파트\",\"CODE_WSUPPLY\":\"부스타방식\",\"KAPT_MPAREA\":17039.876,\"KAPT_MAREA\":17039.43,\"KAPT_PAREA\":0,\"KAPT_TAREA\":27724.41,\"CODE_FALARM\":\"GR형\",\"KAPTD_SEC_COM\":\"(주)한빛관리\",\"KAPTD_ECAPA\":\"900\",\"CODE_STR\":\"철근콘크리트구조\",\"APPL_CODE\":null,\"KAPT_ME1AREA\":0,\"KAPT_ACOMPANY\":\"두산건설\",\"KAPT_ME2AREA\":0,\"KAPT_ME3AREA\":0,\"CODE_GARBAGE\":\"음식물쓰레기종량제\",\"KAPT_ME4AREA\":0,\"KAPT_ME5AREA\":0,\"CODE_CLTIME\":\"6\",\"CODE_HALL\":\"계단식\",\"CODE_STIME\":\"15\",\"KAPT_NAME\":\"보라매두산위브\",\"KAPT_DONG_CNT\":\"2\",\"CODE_CLEAN\":\"위탁관리\",\"CODE_SALE\":\"분양\",\"CODE_SEC\":\"위탁관리\",\"EMPTY_HO_CNT\":0,\"APPL_PRODATE\":\"\",\"KAPT_URL\":\"-\",\"KAPTD_CLCNT\":\"2\",\"KAPTD_PCNT\":\"205\",\"KAPTD_WTIMESUB\":\"5~10분이내\",\"KAPTD_DCNT\":\"12\",\"EDUCATION_FACILITY\":\"초등학교(대길초등학교) 중학교(대방중학교)\",\"KAPT_CCOMPANY\":\"(주)한빛관리\"},\"resultMap_kapt_areacnt\":[{\"KAPTDA_CNT\":null,\"AREA_GBN\":1,\"KAPT_CODE\":null},{\"KAPTDA_CNT\":104,\"AREA_GBN\":2,\"KAPT_CODE\":\"A15086001\"},{\"KAPTDA_CNT\":null,\"AREA_GBN\":3,\"KAPT_CODE\":null},{\"KAPTDA_CNT\":60,\"AREA_GBN\":4,\"KAPT_CODE\":\"A15086001\"}],\"resultMap_kapt_addrList\":[{\"ADDR\":\"서울특별시 영등포구 신길동 4497 보라매두산위브\",\"KAPT_CODE\":\"A15086001\",\"ADDR_GBN\":\"B\"},{\"ADDR\":\"서울특별시 영등포구 여의대방로9길 5\",\"KAPT_CODE\":\"A15086001\",\"ADDR_GBN\":\"R\"}]}\n",
      "{\"resultMap_match\":{\"KAPT_CODE\":\"A15086001\",\"TOWN_CODE\":20008679},\"resultMap_kapt\":{\"KAPT_NAME\":\"보라매두산위브\",\"CODE_SALE\":\"분양\",\"CODE_HEAT\":\"개별난방\",\"KAPT_TAREA\":27724.41,\"KAPT_DONG_CNT\":\"2\",\"KAPT_BCOMPANY\":\"두산건설(주)\",\"KAPT_ACOMPANY\":\"두산건설\",\"KAPT_TEL\":\"02-836-0385\",\"KAPT_FAX\":\"02-836-0386\",\"KAPT_URL\":\"-\",\"CODE_APT\":\"아파트\",\"CODE_MGR\":\"위탁관리\",\"KAPT_MGR_CNT\":\"3\",\"KAPT_CCOMPANY\":\"(주)한빛관리\",\"CODE_SEC\":\"위탁관리\",\"KAPTD_SCNT\":\"2\",\"KAPTD_SEC_COM\":\"(주)한빛관리\",\"CODE_CLEAN\":\"위탁관리\",\"KAPTD_CLCNT\":\"2\",\"CODE_GARBAGE\":\"음식물쓰레기종량제\",\"CODE_DISINF\":\"위탁관리\",\"KAPTD_DCNT\":\"12\",\"DISPOSAL_TYPE\":\"분무식\",\"KAPTD_PCNT\":\"205\",\"KAPTD_PCNTU\":\"48\",\"KAPTD_CCCNT\":\"37\",\"WELFARE_FACILITY\":\"관리사무소, 노인정, 어린이놀이터, 자전거보관소\",\"KAPTD_ECAPA\":\"900\",\"CODE_EMGR\":\"위탁선임\",\"CODE_WSUPPLY\":\"부스타방식\",\"CODE_STR\":\"철근콘크리트구조\",\"CODE_ECON\":\"단일계약\",\"CODE_FALARM\":\"GR형\",\"CODE_ELEV\":\"위탁관리\",\"CODE_NET\":\"무\",\"KAPTD_WTIMEBUS\":\"5~10분이내\",\"CONVENIENT_FACILITY\":\"관공서(동사무소) 병원(김정은소아과의원) 공원(보라매공원) 기타(돈보스코청소년센터)\",\"EDUCATION_FACILITY\":\"초등학교(대길초등학교) 중학교(대방중학교)\",\"CODE_HALL\":\"계단식\",\"KAPT_USEDATE\":\"2005-11-10\",\"KAPT_MAREA\":17039.43,\"SUBWAY_STATION\":\"신풍\",\"SUBWAY_LINE\":\"7호선\",\"KAPTD_WTIMESUB\":\"5~10분이내\",\"KAPT_CODE\":\"A15086001\"},\"resultMap_kapt_areacnt\":[{\"KAPTDA_CNT\":0,\"AREA_GBN\":1,\"KAPT_CODE\":\"\"},{\"KAPTDA_CNT\":104,\"AREA_GBN\":2,\"KAPT_CODE\":\"A15086001\"},{\"KAPTDA_CNT\":0,\"AREA_GBN\":3,\"KAPT_CODE\":\"\"},{\"KAPTDA_CNT\":60,\"AREA_GBN\":4,\"KAPT_CODE\":\"A15086001\"}],\"resultMap_kapt_addrList\":[{\"ADDR\":\"서울특별시 영등포구 신길동 4497 보라매두산위브\",\"KAPT_CODE\":\"A15086001\",\"ADDR_GBN\":\"B\"},{\"ADDR\":\"서울특별시 영등포구 여의대방로9길 5\",\"KAPT_CODE\":\"A15086001\",\"ADDR_GBN\":\"R\"}]}\n",
      "5 / 23 보라매두산위브 처리완료\n"
     ]
    },
    {
     "name": "stderr",
     "output_type": "stream",
     "text": [
      "2018/03/22 21:24:50 example.com 200 OK\n"
     ]
    },
    {
     "name": "stdout",
     "output_type": "stream",
     "text": [
      "{\"resultMap_match\":{\"KAPT_CODE\":\"A15005102\",\"TOWN_CODE\":1055},\"resultMap_kapt\":{\"CODE_HEAT\":\"개별난방\",\"SUBWAY_STATION\":\"신풍\",\"SUBWAY_LINE\":\"7호선\",\"KAPT_PE1AREA\":0,\"KAPT_PE2AREA\":0,\"KAPT_PE3AREA\":0,\"KAPT_PEAREA\":0,\"KAPT_PE4AREA\":0,\"DISPOSAL_TYPE\":\"-\",\"KAPT_PE5AREA\":0,\"KAPTD_ECNTB\":0,\"KAPTD_ECNTC\":0,\"KAPT_PHAREA\":0,\"KAPTD_ECNTD\":0,\"KAPTD_SCNT\":\"2\",\"KAPTD_ECNTE\":0,\"CODE_ECON\":\"단일계약\",\"KAPT_PPAREA\":0,\"KAPTD_CCCNT\":\"24\",\"KAPTD_ECNTM\":0,\"KAPT_TEL\":\"02)834-9119\",\"WELFARE_FACILITY\":\"어린이놀이터\",\"KAPTD_ECNTP\":4,\"KAPT_FAX\":\"02834-9122\",\"KAPT_ACC_COMPANY\":\"-\",\"KAPT_MGR_CNT\":\"2\",\"KAPT_BCOMPANY\":\"우정건설 주식회사\",\"CONVENIENT_FACILITY\":\"관공서(동사무소) 병원(보인의원) 대형상가(사러가쇼핑센터) 공원(근린공원)\",\"CODE_DISINF\":\"기타\",\"CODE_EMGR\":\"위탁선임\",\"CODE_MGR\":\"위탁관리\",\"KAPTD_PCNTU\":\"28\",\"CODE_EMAINT\":\"위탁관리\",\"KAPT_MCAREA\":0,\"CODE_ELEV\":\"위탁관리\",\"KAPT_MEAREA\":0,\"CODE_NET\":\"무\",\"KAPT_MHAREA\":0,\"KAPT_USEDATE\":\"2000-07-11\",\"KAPTD_WTIMEBUS\":\"10~15분이내\",\"KAPT_CODE\":\"A15005102\",\"CODE_APT\":\"아파트\",\"CODE_WSUPPLY\":\"고가수조식\",\"KAPT_MPAREA\":0,\"KAPT_MAREA\":9969.7,\"KAPT_PAREA\":0,\"KAPT_TAREA\":15140,\"CODE_FALARM\":\"P형\",\"KAPTD_SEC_COM\":\"유원종합관리(주)\",\"KAPTD_ECAPA\":\"450\",\"CODE_STR\":\"철근콘크리트구조\",\"APPL_CODE\":null,\"KAPT_ME1AREA\":0,\"KAPT_ACOMPANY\":\"도시개발 공사\",\"KAPT_ME2AREA\":0,\"KAPT_ME3AREA\":0,\"CODE_GARBAGE\":\"거점장비수거방식\",\"KAPT_ME4AREA\":0,\"KAPT_ME5AREA\":0,\"CODE_CLTIME\":\"5\",\"CODE_HALL\":\"복도식\",\"CODE_STIME\":\"16\",\"KAPT_NAME\":\"신기목련\",\"KAPT_DONG_CNT\":\"2\",\"CODE_CLEAN\":\"위탁관리\",\"CODE_SALE\":\"임대+분양\",\"CODE_SEC\":\"위탁관리\",\"EMPTY_HO_CNT\":null,\"APPL_PRODATE\":\"\",\"KAPT_URL\":\"-\",\"KAPTD_CLCNT\":\"1\",\"KAPTD_PCNT\":\"102\",\"KAPTD_WTIMESUB\":\"10~15분이내\",\"KAPTD_DCNT\":\"2\",\"EDUCATION_FACILITY\":\"초등학교(우신초등학교)\",\"KAPT_CCOMPANY\":\"유원종합관리(주)\"},\"resultMap_kapt_areacnt\":[{\"KAPTDA_CNT\":213,\"AREA_GBN\":1,\"KAPT_CODE\":\"A15005102\"},{\"KAPTDA_CNT\":null,\"AREA_GBN\":2,\"KAPT_CODE\":null},{\"KAPTDA_CNT\":null,\"AREA_GBN\":3,\"KAPT_CODE\":null},{\"KAPTDA_CNT\":null,\"AREA_GBN\":4,\"KAPT_CODE\":null}],\"resultMap_kapt_addrList\":[{\"ADDR\":\"서울특별시 영등포구 신길동 4935 신기목련아파트\",\"KAPT_CODE\":\"A15005102\",\"ADDR_GBN\":\"B\"},{\"ADDR\":\"서울특별시 영등포구 신길로42가길 34\",\"KAPT_CODE\":\"A15005102\",\"ADDR_GBN\":\"R\"}]}\n",
      "{\"resultMap_match\":{\"KAPT_CODE\":\"A15005102\",\"TOWN_CODE\":1055},\"resultMap_kapt\":{\"KAPT_NAME\":\"신기목련\",\"CODE_SALE\":\"임대+분양\",\"CODE_HEAT\":\"개별난방\",\"KAPT_TAREA\":15140,\"KAPT_DONG_CNT\":\"2\",\"KAPT_BCOMPANY\":\"우정건설 주식회사\",\"KAPT_ACOMPANY\":\"도시개발 공사\",\"KAPT_TEL\":\"02)834-9119\",\"KAPT_FAX\":\"02834-9122\",\"KAPT_URL\":\"-\",\"CODE_APT\":\"아파트\",\"CODE_MGR\":\"위탁관리\",\"KAPT_MGR_CNT\":\"2\",\"KAPT_CCOMPANY\":\"유원종합관리(주)\",\"CODE_SEC\":\"위탁관리\",\"KAPTD_SCNT\":\"2\",\"KAPTD_SEC_COM\":\"유원종합관리(주)\",\"CODE_CLEAN\":\"위탁관리\",\"KAPTD_CLCNT\":\"1\",\"CODE_GARBAGE\":\"거점장비수거방식\",\"CODE_DISINF\":\"기타\",\"KAPTD_DCNT\":\"2\",\"DISPOSAL_TYPE\":\"-\",\"KAPTD_PCNT\":\"102\",\"KAPTD_PCNTU\":\"28\",\"KAPTD_CCCNT\":\"24\",\"WELFARE_FACILITY\":\"어린이놀이터\",\"KAPTD_ECAPA\":\"450\",\"CODE_EMGR\":\"위탁선임\",\"CODE_WSUPPLY\":\"고가수조식\",\"CODE_STR\":\"철근콘크리트구조\",\"CODE_ECON\":\"단일계약\",\"CODE_FALARM\":\"P형\",\"CODE_ELEV\":\"위탁관리\",\"CODE_NET\":\"무\",\"KAPTD_WTIMEBUS\":\"10~15분이내\",\"CONVENIENT_FACILITY\":\"관공서(동사무소) 병원(보인의원) 대형상가(사러가쇼핑센터) 공원(근린공원)\",\"EDUCATION_FACILITY\":\"초등학교(우신초등학교)\",\"CODE_HALL\":\"복도식\",\"KAPT_USEDATE\":\"2000-07-11\",\"KAPT_MAREA\":9969.7,\"SUBWAY_STATION\":\"신풍\",\"SUBWAY_LINE\":\"7호선\",\"KAPTD_WTIMESUB\":\"10~15분이내\",\"KAPT_CODE\":\"A15005102\"},\"resultMap_kapt_areacnt\":[{\"KAPTDA_CNT\":213,\"AREA_GBN\":1,\"KAPT_CODE\":\"A15005102\"},{\"KAPTDA_CNT\":0,\"AREA_GBN\":2,\"KAPT_CODE\":\"\"},{\"KAPTDA_CNT\":0,\"AREA_GBN\":3,\"KAPT_CODE\":\"\"},{\"KAPTDA_CNT\":0,\"AREA_GBN\":4,\"KAPT_CODE\":\"\"}],\"resultMap_kapt_addrList\":[{\"ADDR\":\"서울특별시 영등포구 신길동 4935 신기목련아파트\",\"KAPT_CODE\":\"A15005102\",\"ADDR_GBN\":\"B\"},{\"ADDR\":\"서울특별시 영등포구 신길로42가길 34\",\"KAPT_CODE\":\"A15005102\",\"ADDR_GBN\":\"R\"}]}\n",
      "6 / 23 신기목련 처리완료\n"
     ]
    },
    {
     "name": "stderr",
     "output_type": "stream",
     "text": [
      "2018/03/22 21:24:50 example.com 200 OK\n"
     ]
    },
    {
     "name": "stdout",
     "output_type": "stream",
     "text": [
      "{\"resultMap_match\":{\"KAPT_CODE\":\"A15005303\",\"TOWN_CODE\":1057},\"resultMap_kapt\":{\"CODE_HEAT\":\"개별난방\",\"SUBWAY_STATION\":\"신도림역,문래역\",\"SUBWAY_LINE\":\"1호선, 2호선\",\"KAPT_PE1AREA\":0,\"KAPT_PE2AREA\":0,\"KAPT_PE3AREA\":0,\"KAPT_PEAREA\":0,\"KAPT_PE4AREA\":0,\"DISPOSAL_TYPE\":\"도포식,분무식,독이식\",\"KAPT_PE5AREA\":0,\"KAPTD_ECNTB\":0,\"KAPTD_ECNTC\":0,\"KAPT_PHAREA\":0,\"KAPTD_ECNTD\":0,\"KAPTD_SCNT\":\"9\",\"KAPTD_ECNTE\":0,\"CODE_ECON\":\"단일계약\",\"KAPT_PPAREA\":0,\"KAPTD_CCCNT\":\"48\",\"KAPTD_ECNTM\":0,\"KAPT_TEL\":\"02-833-6584\",\"WELFARE_FACILITY\":\"관리사무소, 노인정, 어린이놀이터\",\"KAPTD_ECNTP\":16,\"KAPT_FAX\":\"02-6673-6583\",\"KAPT_ACC_COMPANY\":\"-\",\"KAPT_MGR_CNT\":\"5\",\"KAPT_BCOMPANY\":\"(주)우성건설\",\"CONVENIENT_FACILITY\":\"관공서(동사무소) 병원(한산부인과) 대형상가(LG하이프라자) 공원(근린공원)\",\"CODE_DISINF\":\"위탁관리\",\"CODE_EMGR\":\"상주선임\",\"CODE_MGR\":\"위탁관리\",\"KAPTD_PCNTU\":\"0\",\"CODE_EMAINT\":\"위탁관리\",\"KAPT_MCAREA\":0,\"CODE_ELEV\":\"위탁관리\",\"KAPT_MEAREA\":0,\"CODE_NET\":\"무\",\"KAPT_MHAREA\":0,\"KAPT_USEDATE\":\"1986-09-03\",\"KAPTD_WTIMEBUS\":\"5분이내\",\"KAPT_CODE\":\"A15005303\",\"CODE_APT\":\"아파트\",\"CODE_WSUPPLY\":\"고가수조식\",\"KAPT_MPAREA\":61767.2,\"KAPT_MAREA\":46238.48,\"KAPT_PAREA\":0,\"KAPT_TAREA\":61767.2,\"CODE_FALARM\":\"P형\",\"KAPTD_SEC_COM\":\"조은세이프\",\"KAPTD_ECAPA\":\"1760\",\"CODE_STR\":\"철근콘크리트구조\",\"APPL_CODE\":null,\"KAPT_ME1AREA\":0,\"KAPT_ACOMPANY\":\"(주)우성건설\",\"KAPT_ME2AREA\":0,\"KAPT_ME3AREA\":0,\"CODE_GARBAGE\":\"음식물쓰레기종량제\",\"KAPT_ME4AREA\":0,\"KAPT_ME5AREA\":0,\"CODE_CLTIME\":\"6\",\"CODE_HALL\":\"혼합식\",\"CODE_STIME\":\"24\",\"KAPT_NAME\":\"신길1차우성아파트\",\"KAPT_DONG_CNT\":\"6\",\"CODE_CLEAN\":\"위탁관리\",\"CODE_SALE\":\"분양\",\"CODE_SEC\":\"위탁관리\",\"EMPTY_HO_CNT\":null,\"APPL_PRODATE\":\"\",\"KAPT_URL\":\"apt913.aptgate.co.kr\",\"KAPTD_CLCNT\":\"6\",\"KAPTD_PCNT\":\"470\",\"KAPTD_WTIMESUB\":\"5~10분이내\",\"KAPTD_DCNT\":\"12\",\"EDUCATION_FACILITY\":\"초등학교(대영초등학교) 중학교(대영중교) 고등학교(대영고교)\",\"KAPT_CCOMPANY\":\"(주)아주관리\"},\"resultMap_kapt_areacnt\":[{\"KAPTDA_CNT\":182,\"AREA_GBN\":1,\"KAPT_CODE\":\"A15005303\"},{\"KAPTDA_CNT\":506,\"AREA_GBN\":2,\"KAPT_CODE\":\"A15005303\"},{\"KAPTDA_CNT\":null,\"AREA_GBN\":3,\"KAPT_CODE\":null},{\"KAPTDA_CNT\":null,\"AREA_GBN\":4,\"KAPT_CODE\":null}],\"resultMap_kapt_addrList\":[{\"ADDR\":\"서울특별시 영등포구 신길동 365 신길우성아파트\",\"KAPT_CODE\":\"A15005303\",\"ADDR_GBN\":\"B\"},{\"ADDR\":\"서울특별시 영등포구 도신로 68-1\",\"KAPT_CODE\":\"A15005303\",\"ADDR_GBN\":\"R\"}]}\n",
      "{\"resultMap_match\":{\"KAPT_CODE\":\"A15005303\",\"TOWN_CODE\":1057},\"resultMap_kapt\":{\"KAPT_NAME\":\"신길1차우성아파트\",\"CODE_SALE\":\"분양\",\"CODE_HEAT\":\"개별난방\",\"KAPT_TAREA\":61767.2,\"KAPT_DONG_CNT\":\"6\",\"KAPT_BCOMPANY\":\"(주)우성건설\",\"KAPT_ACOMPANY\":\"(주)우성건설\",\"KAPT_TEL\":\"02-833-6584\",\"KAPT_FAX\":\"02-6673-6583\",\"KAPT_URL\":\"apt913.aptgate.co.kr\",\"CODE_APT\":\"아파트\",\"CODE_MGR\":\"위탁관리\",\"KAPT_MGR_CNT\":\"5\",\"KAPT_CCOMPANY\":\"(주)아주관리\",\"CODE_SEC\":\"위탁관리\",\"KAPTD_SCNT\":\"9\",\"KAPTD_SEC_COM\":\"조은세이프\",\"CODE_CLEAN\":\"위탁관리\",\"KAPTD_CLCNT\":\"6\",\"CODE_GARBAGE\":\"음식물쓰레기종량제\",\"CODE_DISINF\":\"위탁관리\",\"KAPTD_DCNT\":\"12\",\"DISPOSAL_TYPE\":\"도포식,분무식,독이식\",\"KAPTD_PCNT\":\"470\",\"KAPTD_PCNTU\":\"0\",\"KAPTD_CCCNT\":\"48\",\"WELFARE_FACILITY\":\"관리사무소, 노인정, 어린이놀이터\",\"KAPTD_ECAPA\":\"1760\",\"CODE_EMGR\":\"상주선임\",\"CODE_WSUPPLY\":\"고가수조식\",\"CODE_STR\":\"철근콘크리트구조\",\"CODE_ECON\":\"단일계약\",\"CODE_FALARM\":\"P형\",\"CODE_ELEV\":\"위탁관리\",\"CODE_NET\":\"무\",\"KAPTD_WTIMEBUS\":\"5분이내\",\"CONVENIENT_FACILITY\":\"관공서(동사무소) 병원(한산부인과) 대형상가(LG하이프라자) 공원(근린공원)\",\"EDUCATION_FACILITY\":\"초등학교(대영초등학교) 중학교(대영중교) 고등학교(대영고교)\",\"CODE_HALL\":\"혼합식\",\"KAPT_USEDATE\":\"1986-09-03\",\"KAPT_MAREA\":46238.48,\"SUBWAY_STATION\":\"신도림역,문래역\",\"SUBWAY_LINE\":\"1호선, 2호선\",\"KAPTD_WTIMESUB\":\"5~10분이내\",\"KAPT_CODE\":\"A15005303\"},\"resultMap_kapt_areacnt\":[{\"KAPTDA_CNT\":182,\"AREA_GBN\":1,\"KAPT_CODE\":\"A15005303\"},{\"KAPTDA_CNT\":506,\"AREA_GBN\":2,\"KAPT_CODE\":\"A15005303\"},{\"KAPTDA_CNT\":0,\"AREA_GBN\":3,\"KAPT_CODE\":\"\"},{\"KAPTDA_CNT\":0,\"AREA_GBN\":4,\"KAPT_CODE\":\"\"}],\"resultMap_kapt_addrList\":[{\"ADDR\":\"서울특별시 영등포구 신길동 365 신길우성아파트\",\"KAPT_CODE\":\"A15005303\",\"ADDR_GBN\":\"B\"},{\"ADDR\":\"서울특별시 영등포구 도신로 68-1\",\"KAPT_CODE\":\"A15005303\",\"ADDR_GBN\":\"R\"}]}\n",
      "7 / 23 신길1차우성아파트 처리완료\n"
     ]
    },
    {
     "name": "stderr",
     "output_type": "stream",
     "text": [
      "2018/03/22 21:24:50 example.com 200 OK\n"
     ]
    },
    {
     "name": "stdout",
     "output_type": "stream",
     "text": [
      "{\"resultMap_match\":{\"KAPT_CODE\":\"A15005302\",\"TOWN_CODE\":1047},\"resultMap_kapt\":{\"CODE_HEAT\":\"개별난방\",\"SUBWAY_STATION\":\"신풍역\",\"SUBWAY_LINE\":\"1호선, 2호선, 7호선\",\"KAPT_PE1AREA\":0,\"KAPT_PE2AREA\":0,\"KAPT_PE3AREA\":0,\"KAPT_PEAREA\":0,\"KAPT_PE4AREA\":0,\"DISPOSAL_TYPE\":\"분무식,독이식\",\"KAPT_PE5AREA\":0,\"KAPTD_ECNTB\":0,\"KAPTD_ECNTC\":0,\"KAPT_PHAREA\":0,\"KAPTD_ECNTD\":0,\"KAPTD_SCNT\":\"6\",\"KAPTD_ECNTE\":0,\"CODE_ECON\":\"종합계약\",\"KAPT_PPAREA\":0,\"KAPTD_CCCNT\":\"107\",\"KAPTD_ECNTM\":0,\"KAPT_TEL\":\"844-2535\",\"WELFARE_FACILITY\":\"관리사무소, 노인정, 어린이놀이터, 자전거보관소\",\"KAPTD_ECNTP\":4,\"KAPT_FAX\":\"844-2535\",\"KAPT_ACC_COMPANY\":\"-\",\"KAPT_MGR_CNT\":\"4\",\"KAPT_BCOMPANY\":\"LIG건영\",\"CONVENIENT_FACILITY\":\"관공서(신길3동) 병원(한산부인과) 대형상가(LG하이프라자) 공원(근린공원)\",\"CODE_DISINF\":\"위탁관리\",\"CODE_EMGR\":\"위탁선임\",\"CODE_MGR\":\"자치관리\",\"KAPTD_PCNTU\":\"0\",\"CODE_EMAINT\":\"위탁관리\",\"KAPT_MCAREA\":0,\"CODE_ELEV\":\"위탁관리\",\"KAPT_MEAREA\":0,\"CODE_NET\":\"유\",\"KAPT_MHAREA\":0,\"KAPT_USEDATE\":\"1985-09-04\",\"KAPTD_WTIMEBUS\":\"5~10분이내\",\"KAPT_CODE\":\"A15005302\",\"CODE_APT\":\"아파트\",\"CODE_WSUPPLY\":\"부스타방식\",\"KAPT_MPAREA\":0,\"KAPT_MAREA\":31387.44,\"KAPT_PAREA\":0,\"KAPT_TAREA\":44462.75,\"CODE_FALARM\":\"P형\",\"KAPTD_SEC_COM\":\"-\",\"KAPTD_ECAPA\":\"995\",\"CODE_STR\":\"철근콘크리트구조\",\"APPL_CODE\":null,\"KAPT_ME1AREA\":0,\"KAPT_ACOMPANY\":\"(주)건영\",\"KAPT_ME2AREA\":0,\"KAPT_ME3AREA\":0,\"CODE_GARBAGE\":\"음식물쓰레기종량제\",\"KAPT_ME4AREA\":0,\"KAPT_ME5AREA\":0,\"CODE_CLTIME\":\"5\",\"CODE_HALL\":\"복도식\",\"CODE_STIME\":\"-\",\"KAPT_NAME\":\"신길건영\",\"KAPT_DONG_CNT\":\"4\",\"CODE_CLEAN\":\"위탁관리\",\"CODE_SALE\":\"분양\",\"CODE_SEC\":\"자치관리\",\"EMPTY_HO_CNT\":0,\"APPL_PRODATE\":\"\",\"KAPT_URL\":\"신길건영.apti.co.kr\",\"KAPTD_CLCNT\":\"5\",\"KAPTD_PCNT\":\"313\",\"KAPTD_WTIMESUB\":\"5~10분이내\",\"KAPTD_DCNT\":\"12\",\"EDUCATION_FACILITY\":\"초등학교(대영초등학교) 중학교(대영중교) 고등학교(대영고교)\",\"KAPT_CCOMPANY\":\"-\"},\"resultMap_kapt_areacnt\":[{\"KAPTDA_CNT\":null,\"AREA_GBN\":1,\"KAPT_CODE\":null},{\"KAPTDA_CNT\":160,\"AREA_GBN\":2,\"KAPT_CODE\":\"A15005302\"},{\"KAPTDA_CNT\":226,\"AREA_GBN\":3,\"KAPT_CODE\":\"A15005302\"},{\"KAPTDA_CNT\":null,\"AREA_GBN\":4,\"KAPT_CODE\":null}],\"resultMap_kapt_addrList\":[{\"ADDR\":\"서울특별시 영등포구 신길동 364 건영아파트\",\"KAPT_CODE\":\"A15005302\",\"ADDR_GBN\":\"B\"},{\"ADDR\":\"서울특별시 영등포구 도림로 313\",\"KAPT_CODE\":\"A15005302\",\"ADDR_GBN\":\"R\"}]}\n",
      "{\"resultMap_match\":{\"KAPT_CODE\":\"A15005302\",\"TOWN_CODE\":1047},\"resultMap_kapt\":{\"KAPT_NAME\":\"신길건영\",\"CODE_SALE\":\"분양\",\"CODE_HEAT\":\"개별난방\",\"KAPT_TAREA\":44462.75,\"KAPT_DONG_CNT\":\"4\",\"KAPT_BCOMPANY\":\"LIG건영\",\"KAPT_ACOMPANY\":\"(주)건영\",\"KAPT_TEL\":\"844-2535\",\"KAPT_FAX\":\"844-2535\",\"KAPT_URL\":\"신길건영.apti.co.kr\",\"CODE_APT\":\"아파트\",\"CODE_MGR\":\"자치관리\",\"KAPT_MGR_CNT\":\"4\",\"KAPT_CCOMPANY\":\"-\",\"CODE_SEC\":\"자치관리\",\"KAPTD_SCNT\":\"6\",\"KAPTD_SEC_COM\":\"-\",\"CODE_CLEAN\":\"위탁관리\",\"KAPTD_CLCNT\":\"5\",\"CODE_GARBAGE\":\"음식물쓰레기종량제\",\"CODE_DISINF\":\"위탁관리\",\"KAPTD_DCNT\":\"12\",\"DISPOSAL_TYPE\":\"분무식,독이식\",\"KAPTD_PCNT\":\"313\",\"KAPTD_PCNTU\":\"0\",\"KAPTD_CCCNT\":\"107\",\"WELFARE_FACILITY\":\"관리사무소, 노인정, 어린이놀이터, 자전거보관소\",\"KAPTD_ECAPA\":\"995\",\"CODE_EMGR\":\"위탁선임\",\"CODE_WSUPPLY\":\"부스타방식\",\"CODE_STR\":\"철근콘크리트구조\",\"CODE_ECON\":\"종합계약\",\"CODE_FALARM\":\"P형\",\"CODE_ELEV\":\"위탁관리\",\"CODE_NET\":\"유\",\"KAPTD_WTIMEBUS\":\"5~10분이내\",\"CONVENIENT_FACILITY\":\"관공서(신길3동) 병원(한산부인과) 대형상가(LG하이프라자) 공원(근린공원)\",\"EDUCATION_FACILITY\":\"초등학교(대영초등학교) 중학교(대영중교) 고등학교(대영고교)\",\"CODE_HALL\":\"복도식\",\"KAPT_USEDATE\":\"1985-09-04\",\"KAPT_MAREA\":31387.44,\"SUBWAY_STATION\":\"신풍역\",\"SUBWAY_LINE\":\"1호선, 2호선, 7호선\",\"KAPTD_WTIMESUB\":\"5~10분이내\",\"KAPT_CODE\":\"A15005302\"},\"resultMap_kapt_areacnt\":[{\"KAPTDA_CNT\":0,\"AREA_GBN\":1,\"KAPT_CODE\":\"\"},{\"KAPTDA_CNT\":160,\"AREA_GBN\":2,\"KAPT_CODE\":\"A15005302\"},{\"KAPTDA_CNT\":226,\"AREA_GBN\":3,\"KAPT_CODE\":\"A15005302\"},{\"KAPTDA_CNT\":0,\"AREA_GBN\":4,\"KAPT_CODE\":\"\"}],\"resultMap_kapt_addrList\":[{\"ADDR\":\"서울특별시 영등포구 신길동 364 건영아파트\",\"KAPT_CODE\":\"A15005302\",\"ADDR_GBN\":\"B\"},{\"ADDR\":\"서울특별시 영등포구 도림로 313\",\"KAPT_CODE\":\"A15005302\",\"ADDR_GBN\":\"R\"}]}\n",
      "8 / 23 신길건영 처리완료\n"
     ]
    },
    {
     "name": "stderr",
     "output_type": "stream",
     "text": [
      "2018/03/22 21:24:51 example.com 200 OK\n"
     ]
    },
    {
     "name": "stdout",
     "output_type": "stream",
     "text": [
      "{\"resultMap_match\":{\"KAPT_CODE\":\"A15083703\",\"TOWN_CODE\":1048},\"resultMap_kapt\":{\"CODE_HEAT\":\"개별난방\",\"SUBWAY_STATION\":\"신길역\",\"SUBWAY_LINE\":\"1호선, 5호선\",\"KAPT_PE1AREA\":0,\"KAPT_PE2AREA\":0,\"KAPT_PE3AREA\":0,\"KAPT_PEAREA\":0,\"KAPT_PE4AREA\":0,\"DISPOSAL_TYPE\":\"도포식,분무식,기구부착식,기구설치식,독이식\",\"KAPT_PE5AREA\":0,\"KAPTD_ECNTB\":0,\"KAPTD_ECNTC\":0,\"KAPT_PHAREA\":0,\"KAPTD_ECNTD\":0,\"KAPTD_SCNT\":\"4\",\"KAPTD_ECNTE\":0,\"CODE_ECON\":\"단일계약\",\"KAPT_PPAREA\":0,\"KAPTD_CCCNT\":\"67\",\"KAPTD_ECNTM\":0,\"KAPT_TEL\":\"02-835-7655\",\"WELFARE_FACILITY\":\"관리사무소, 노인정, 어린이놀이터\",\"KAPTD_ECNTP\":8,\"KAPT_FAX\":\"02-6747-7677\",\"KAPT_ACC_COMPANY\":\"-\",\"KAPT_MGR_CNT\":\"4\",\"KAPT_BCOMPANY\":\"경남건설\",\"CONVENIENT_FACILITY\":\"관공서(동사무소) 병원(서울대윤병원) 공원(여의도생태공원)\",\"CODE_DISINF\":\"위탁관리\",\"CODE_EMGR\":\"위탁선임\",\"CODE_MGR\":\"자치관리\",\"KAPTD_PCNTU\":\"351\",\"CODE_EMAINT\":\"자치관리\",\"KAPT_MCAREA\":9544.27,\"CODE_ELEV\":\"위탁관리\",\"KAPT_MEAREA\":0,\"CODE_NET\":\"무\",\"KAPT_MHAREA\":0,\"KAPT_USEDATE\":\"1999-06-15\",\"KAPTD_WTIMEBUS\":\"5분이내\",\"KAPT_CODE\":\"A15083703\",\"CODE_APT\":\"아파트\",\"CODE_WSUPPLY\":\"고가수조식\",\"KAPT_MPAREA\":29601.1,\"KAPT_MAREA\":29601.1,\"KAPT_PAREA\":0,\"KAPT_TAREA\":49860.67,\"CODE_FALARM\":\"P형\",\"KAPTD_SEC_COM\":\"한국보안시스템\",\"KAPTD_ECAPA\":\"1240\",\"CODE_STR\":\"철근콘크리트구조\",\"APPL_CODE\":null,\"KAPT_ME1AREA\":0,\"KAPT_ACOMPANY\":\"경남건설\",\"KAPT_ME2AREA\":0,\"KAPT_ME3AREA\":0,\"CODE_GARBAGE\":\"거점장비수거방식\",\"KAPT_ME4AREA\":0,\"KAPT_ME5AREA\":0,\"CODE_CLTIME\":\"5\",\"CODE_HALL\":\"혼합식\",\"CODE_STIME\":\"16\",\"KAPT_NAME\":\"신길경남\",\"KAPT_DONG_CNT\":\"5\",\"CODE_CLEAN\":\"위탁관리\",\"CODE_SALE\":\"분양\",\"CODE_SEC\":\"위탁관리\",\"EMPTY_HO_CNT\":10,\"APPL_PRODATE\":\"\",\"KAPT_URL\":\"-\",\"KAPTD_CLCNT\":\"4\",\"KAPTD_PCNT\":\"84\",\"KAPTD_WTIMESUB\":\"5분이내\",\"KAPTD_DCNT\":\"12\",\"EDUCATION_FACILITY\":\"중학교(영원중교) 고등학교(장훈고교)\",\"KAPT_CCOMPANY\":\"-\"},\"resultMap_kapt_areacnt\":[{\"KAPTDA_CNT\":165,\"AREA_GBN\":1,\"KAPT_CODE\":\"A15083703\"},{\"KAPTDA_CNT\":121,\"AREA_GBN\":2,\"KAPT_CODE\":\"A15083703\"},{\"KAPTDA_CNT\":82,\"AREA_GBN\":3,\"KAPT_CODE\":\"A15083703\"},{\"KAPTDA_CNT\":null,\"AREA_GBN\":4,\"KAPT_CODE\":null}],\"resultMap_kapt_addrList\":[{\"ADDR\":\"서울특별시 영등포구 신길동 67-1 신길동경남아파트\",\"KAPT_CODE\":\"A15083703\",\"ADDR_GBN\":\"B\"},{\"ADDR\":\"서울특별시 영등포구 영등포로 351\",\"KAPT_CODE\":\"A15083703\",\"ADDR_GBN\":\"R\"}]}\n",
      "{\"resultMap_match\":{\"KAPT_CODE\":\"A15083703\",\"TOWN_CODE\":1048},\"resultMap_kapt\":{\"KAPT_NAME\":\"신길경남\",\"CODE_SALE\":\"분양\",\"CODE_HEAT\":\"개별난방\",\"KAPT_TAREA\":49860.67,\"KAPT_DONG_CNT\":\"5\",\"KAPT_BCOMPANY\":\"경남건설\",\"KAPT_ACOMPANY\":\"경남건설\",\"KAPT_TEL\":\"02-835-7655\",\"KAPT_FAX\":\"02-6747-7677\",\"KAPT_URL\":\"-\",\"CODE_APT\":\"아파트\",\"CODE_MGR\":\"자치관리\",\"KAPT_MGR_CNT\":\"4\",\"KAPT_CCOMPANY\":\"-\",\"CODE_SEC\":\"위탁관리\",\"KAPTD_SCNT\":\"4\",\"KAPTD_SEC_COM\":\"한국보안시스템\",\"CODE_CLEAN\":\"위탁관리\",\"KAPTD_CLCNT\":\"4\",\"CODE_GARBAGE\":\"거점장비수거방식\",\"CODE_DISINF\":\"위탁관리\",\"KAPTD_DCNT\":\"12\",\"DISPOSAL_TYPE\":\"도포식,분무식,기구부착식,기구설치식,독이식\",\"KAPTD_PCNT\":\"84\",\"KAPTD_PCNTU\":\"351\",\"KAPTD_CCCNT\":\"67\",\"WELFARE_FACILITY\":\"관리사무소, 노인정, 어린이놀이터\",\"KAPTD_ECAPA\":\"1240\",\"CODE_EMGR\":\"위탁선임\",\"CODE_WSUPPLY\":\"고가수조식\",\"CODE_STR\":\"철근콘크리트구조\",\"CODE_ECON\":\"단일계약\",\"CODE_FALARM\":\"P형\",\"CODE_ELEV\":\"위탁관리\",\"CODE_NET\":\"무\",\"KAPTD_WTIMEBUS\":\"5분이내\",\"CONVENIENT_FACILITY\":\"관공서(동사무소) 병원(서울대윤병원) 공원(여의도생태공원)\",\"EDUCATION_FACILITY\":\"중학교(영원중교) 고등학교(장훈고교)\",\"CODE_HALL\":\"혼합식\",\"KAPT_USEDATE\":\"1999-06-15\",\"KAPT_MAREA\":29601.1,\"SUBWAY_STATION\":\"신길역\",\"SUBWAY_LINE\":\"1호선, 5호선\",\"KAPTD_WTIMESUB\":\"5분이내\",\"KAPT_CODE\":\"A15083703\"},\"resultMap_kapt_areacnt\":[{\"KAPTDA_CNT\":165,\"AREA_GBN\":1,\"KAPT_CODE\":\"A15083703\"},{\"KAPTDA_CNT\":121,\"AREA_GBN\":2,\"KAPT_CODE\":\"A15083703\"},{\"KAPTDA_CNT\":82,\"AREA_GBN\":3,\"KAPT_CODE\":\"A15083703\"},{\"KAPTDA_CNT\":0,\"AREA_GBN\":4,\"KAPT_CODE\":\"\"}],\"resultMap_kapt_addrList\":[{\"ADDR\":\"서울특별시 영등포구 신길동 67-1 신길동경남아파트\",\"KAPT_CODE\":\"A15083703\",\"ADDR_GBN\":\"B\"},{\"ADDR\":\"서울특별시 영등포구 영등포로 351\",\"KAPT_CODE\":\"A15083703\",\"ADDR_GBN\":\"R\"}]}\n",
      "9 / 23 신길경남 처리완료\n"
     ]
    },
    {
     "name": "stderr",
     "output_type": "stream",
     "text": [
      "2018/03/22 21:24:51 example.com 200 OK\n"
     ]
    },
    {
     "name": "stdout",
     "output_type": "stream",
     "text": [
      "{\"resultMap_match\":{\"KAPT_CODE\":\"A15085805\",\"TOWN_CODE\":1049},\"resultMap_kapt\":{\"CODE_HEAT\":\"개별난방\",\"SUBWAY_STATION\":\"신풍\",\"SUBWAY_LINE\":\"7호선\",\"KAPT_PE1AREA\":0,\"KAPT_PE2AREA\":0,\"KAPT_PE3AREA\":0,\"KAPT_PEAREA\":0,\"KAPT_PE4AREA\":0,\"DISPOSAL_TYPE\":\"분무식,독이식\",\"KAPT_PE5AREA\":0,\"KAPTD_ECNTB\":0,\"KAPTD_ECNTC\":0,\"KAPT_PHAREA\":0,\"KAPTD_ECNTD\":0,\"KAPTD_SCNT\":\"8\",\"KAPTD_ECNTE\":0,\"CODE_ECON\":\"단일계약\",\"KAPT_PPAREA\":0,\"KAPTD_CCCNT\":\"32\",\"KAPTD_ECNTM\":0,\"KAPT_TEL\":\"02-836-7552\",\"WELFARE_FACILITY\":\"관리사무소, 노인정, 어린이놀이터, 휴게시설\",\"KAPTD_ECNTP\":0,\"KAPT_FAX\":\"02-836-7552\",\"KAPT_ACC_COMPANY\":\"홍진 이지스\",\"KAPT_MGR_CNT\":\"4\",\"KAPT_BCOMPANY\":\"근대건설\",\"CONVENIENT_FACILITY\":\"관공서(동사무소) 병원(성심의원) 공원(신길광장공원) 기타(돈보스코청소년센터)\",\"CODE_DISINF\":\"위탁관리\",\"CODE_EMGR\":\"위탁선임\",\"CODE_MGR\":\"자치관리\",\"KAPTD_PCNTU\":\"0\",\"CODE_EMAINT\":\"-\",\"KAPT_MCAREA\":0,\"CODE_ELEV\":\"-\",\"KAPT_MEAREA\":0,\"CODE_NET\":\"무\",\"KAPT_MHAREA\":0,\"KAPT_USEDATE\":\"1974-12-28\",\"KAPTD_WTIMEBUS\":\"5분이내\",\"KAPT_CODE\":\"A15085805\",\"CODE_APT\":\"아파트\",\"CODE_WSUPPLY\":\"고가수조식\",\"KAPT_MPAREA\":0,\"KAPT_MAREA\":24643.62,\"KAPT_PAREA\":0,\"KAPT_TAREA\":32295.3,\"CODE_FALARM\":\"P형\",\"KAPTD_SEC_COM\":\"경진이앤지\",\"KAPTD_ECAPA\":\"367\",\"CODE_STR\":\"철근콘크리트구조\",\"APPL_CODE\":null,\"KAPT_ME1AREA\":0,\"KAPT_ACOMPANY\":\"성아산업\",\"KAPT_ME2AREA\":0,\"KAPT_ME3AREA\":0,\"CODE_GARBAGE\":\"음식물쓰레기종량제\",\"KAPT_ME4AREA\":0,\"KAPT_ME5AREA\":0,\"CODE_CLTIME\":\"5\",\"CODE_HALL\":\"계단식\",\"CODE_STIME\":\"14\",\"KAPT_NAME\":\"신길남서울\",\"KAPT_DONG_CNT\":\"13\",\"CODE_CLEAN\":\"위탁관리\",\"CODE_SALE\":\"분양\",\"CODE_SEC\":\"위탁관리\",\"EMPTY_HO_CNT\":10,\"APPL_PRODATE\":\"\",\"KAPT_URL\":\"남서울.apti.co.kr\",\"KAPTD_CLCNT\":\"4\",\"KAPTD_PCNT\":\"280\",\"KAPTD_WTIMESUB\":\"5분이내\",\"KAPTD_DCNT\":\"12\",\"EDUCATION_FACILITY\":\"초등학교(대길초등학교) 중학교(대영중학교) 고등학교(대영고등학교)\",\"KAPT_CCOMPANY\":\"-\"},\"resultMap_kapt_areacnt\":[{\"KAPTDA_CNT\":488,\"AREA_GBN\":1,\"KAPT_CODE\":\"A15085805\"},{\"KAPTDA_CNT\":30,\"AREA_GBN\":2,\"KAPT_CODE\":\"A15085805\"},{\"KAPTDA_CNT\":null,\"AREA_GBN\":3,\"KAPT_CODE\":null},{\"KAPTDA_CNT\":null,\"AREA_GBN\":4,\"KAPT_CODE\":null}],\"resultMap_kapt_addrList\":[{\"ADDR\":\"서울특별시 영등포구 신길동 3111 남서울\",\"KAPT_CODE\":\"A15085805\",\"ADDR_GBN\":\"B\"},{\"ADDR\":\"서울특별시 영등포구 신길동 3586 남서울\",\"KAPT_CODE\":\"A15085805\",\"ADDR_GBN\":\"B\"},{\"ADDR\":\"서울특별시 영등포구 신길동 3002 남서울\",\"KAPT_CODE\":\"A15085805\",\"ADDR_GBN\":\"B\"},{\"ADDR\":\"서울특별시 영등포구 신길동 3591 남서울\",\"KAPT_CODE\":\"A15085805\",\"ADDR_GBN\":\"B\"},{\"ADDR\":\"서울특별시 영등포구 신길동 3583 남서울\",\"KAPT_CODE\":\"A15085805\",\"ADDR_GBN\":\"B\"},{\"ADDR\":\"서울특별시 영등포구 신길동 3573 남서울\",\"KAPT_CODE\":\"A15085805\",\"ADDR_GBN\":\"B\"},{\"ADDR\":\"서울특별시 영등포구 신길동 3590 남서울\",\"KAPT_CODE\":\"A15085805\",\"ADDR_GBN\":\"B\"},{\"ADDR\":\"서울특별시 영등포구 신길로 108\",\"KAPT_CODE\":\"A15085805\",\"ADDR_GBN\":\"R\"}]}\n",
      "{\"resultMap_match\":{\"KAPT_CODE\":\"A15085805\",\"TOWN_CODE\":1049},\"resultMap_kapt\":{\"KAPT_NAME\":\"신길남서울\",\"CODE_SALE\":\"분양\",\"CODE_HEAT\":\"개별난방\",\"KAPT_TAREA\":32295.3,\"KAPT_DONG_CNT\":\"13\",\"KAPT_BCOMPANY\":\"근대건설\",\"KAPT_ACOMPANY\":\"성아산업\",\"KAPT_TEL\":\"02-836-7552\",\"KAPT_FAX\":\"02-836-7552\",\"KAPT_URL\":\"남서울.apti.co.kr\",\"CODE_APT\":\"아파트\",\"CODE_MGR\":\"자치관리\",\"KAPT_MGR_CNT\":\"4\",\"KAPT_CCOMPANY\":\"-\",\"CODE_SEC\":\"위탁관리\",\"KAPTD_SCNT\":\"8\",\"KAPTD_SEC_COM\":\"경진이앤지\",\"CODE_CLEAN\":\"위탁관리\",\"KAPTD_CLCNT\":\"4\",\"CODE_GARBAGE\":\"음식물쓰레기종량제\",\"CODE_DISINF\":\"위탁관리\",\"KAPTD_DCNT\":\"12\",\"DISPOSAL_TYPE\":\"분무식,독이식\",\"KAPTD_PCNT\":\"280\",\"KAPTD_PCNTU\":\"0\",\"KAPTD_CCCNT\":\"32\",\"WELFARE_FACILITY\":\"관리사무소, 노인정, 어린이놀이터, 휴게시설\",\"KAPTD_ECAPA\":\"367\",\"CODE_EMGR\":\"위탁선임\",\"CODE_WSUPPLY\":\"고가수조식\",\"CODE_STR\":\"철근콘크리트구조\",\"CODE_ECON\":\"단일계약\",\"CODE_FALARM\":\"P형\",\"CODE_ELEV\":\"-\",\"CODE_NET\":\"무\",\"KAPTD_WTIMEBUS\":\"5분이내\",\"CONVENIENT_FACILITY\":\"관공서(동사무소) 병원(성심의원) 공원(신길광장공원) 기타(돈보스코청소년센터)\",\"EDUCATION_FACILITY\":\"초등학교(대길초등학교) 중학교(대영중학교) 고등학교(대영고등학교)\",\"CODE_HALL\":\"계단식\",\"KAPT_USEDATE\":\"1974-12-28\",\"KAPT_MAREA\":24643.62,\"SUBWAY_STATION\":\"신풍\",\"SUBWAY_LINE\":\"7호선\",\"KAPTD_WTIMESUB\":\"5분이내\",\"KAPT_CODE\":\"A15085805\"},\"resultMap_kapt_areacnt\":[{\"KAPTDA_CNT\":488,\"AREA_GBN\":1,\"KAPT_CODE\":\"A15085805\"},{\"KAPTDA_CNT\":30,\"AREA_GBN\":2,\"KAPT_CODE\":\"A15085805\"},{\"KAPTDA_CNT\":0,\"AREA_GBN\":3,\"KAPT_CODE\":\"\"},{\"KAPTDA_CNT\":0,\"AREA_GBN\":4,\"KAPT_CODE\":\"\"}],\"resultMap_kapt_addrList\":[{\"ADDR\":\"서울특별시 영등포구 신길동 3111 남서울\",\"KAPT_CODE\":\"A15085805\",\"ADDR_GBN\":\"B\"},{\"ADDR\":\"서울특별시 영등포구 신길동 3586 남서울\",\"KAPT_CODE\":\"A15085805\",\"ADDR_GBN\":\"B\"},{\"ADDR\":\"서울특별시 영등포구 신길동 3002 남서울\",\"KAPT_CODE\":\"A15085805\",\"ADDR_GBN\":\"B\"},{\"ADDR\":\"서울특별시 영등포구 신길동 3591 남서울\",\"KAPT_CODE\":\"A15085805\",\"ADDR_GBN\":\"B\"},{\"ADDR\":\"서울특별시 영등포구 신길동 3583 남서울\",\"KAPT_CODE\":\"A15085805\",\"ADDR_GBN\":\"B\"},{\"ADDR\":\"서울특별시 영등포구 신길동 3573 남서울\",\"KAPT_CODE\":\"A15085805\",\"ADDR_GBN\":\"B\"},{\"ADDR\":\"서울특별시 영등포구 신길동 3590 남서울\",\"KAPT_CODE\":\"A15085805\",\"ADDR_GBN\":\"B\"},{\"ADDR\":\"서울특별시 영등포구 신길로 108\",\"KAPT_CODE\":\"A15085805\",\"ADDR_GBN\":\"R\"}]}\n",
      "10 / 23 신길남서울 처리완료\n"
     ]
    },
    {
     "name": "stderr",
     "output_type": "stream",
     "text": [
      "2018/03/22 21:24:51 example.com 200 OK\n"
     ]
    },
    {
     "name": "stdout",
     "output_type": "stream",
     "text": [
      "{\"resultMap_match\":{\"KAPT_CODE\":\"A15005501\",\"TOWN_CODE\":20096267},\"resultMap_kapt\":{\"CODE_HEAT\":\"개별난방\",\"SUBWAY_STATION\":\"신풍\",\"SUBWAY_LINE\":\"7호선\",\"KAPT_PE1AREA\":0,\"KAPT_PE2AREA\":0,\"KAPT_PE3AREA\":0,\"KAPT_PEAREA\":0,\"KAPT_PE4AREA\":0,\"DISPOSAL_TYPE\":\"도포식,분무식\",\"KAPT_PE5AREA\":0,\"KAPTD_ECNTB\":0,\"KAPTD_ECNTC\":0,\"KAPT_PHAREA\":0,\"KAPTD_ECNTD\":0,\"KAPTD_SCNT\":\"4\",\"KAPTD_ECNTE\":9,\"CODE_ECON\":\"종합계약\",\"KAPT_PPAREA\":0,\"KAPTD_CCCNT\":\"112\",\"KAPTD_ECNTM\":0,\"KAPT_TEL\":\"02-834-7097\",\"WELFARE_FACILITY\":\"관리사무소, 노인정, 어린이놀이터, 자전거보관소\",\"KAPTD_ECNTP\":0,\"KAPT_FAX\":\"02-834-0420\",\"KAPT_ACC_COMPANY\":\"샛별전산\",\"KAPT_MGR_CNT\":\"5\",\"KAPT_BCOMPANY\":\"한화건설(주)\",\"CONVENIENT_FACILITY\":\"대형상가(사러가쇼핑센터)\",\"CODE_DISINF\":\"위탁관리\",\"CODE_EMGR\":\"상주선임\",\"CODE_MGR\":\"위탁관리\",\"KAPTD_PCNTU\":\"377\",\"CODE_EMAINT\":\"위탁관리\",\"KAPT_MCAREA\":6844.919,\"CODE_ELEV\":\"위탁관리\",\"KAPT_MEAREA\":0,\"CODE_NET\":\"유\",\"KAPT_MHAREA\":0,\"KAPT_USEDATE\":\"2008-06-26\",\"KAPTD_WTIMEBUS\":\"5분이내\",\"KAPT_CODE\":\"A15005501\",\"CODE_APT\":\"아파트\",\"CODE_WSUPPLY\":\"부스타방식\",\"KAPT_MPAREA\":27684.247,\"KAPT_MAREA\":27684.2474,\"KAPT_PAREA\":0,\"KAPT_TAREA\":48058.94,\"CODE_FALARM\":\"R형\",\"KAPTD_SEC_COM\":\"세계보안\",\"KAPTD_ECAPA\":\"1650\",\"CODE_STR\":\"철근콘크리트구조\",\"APPL_CODE\":null,\"KAPT_ME1AREA\":0,\"KAPT_ACOMPANY\":\"한고을\",\"KAPT_ME2AREA\":0,\"KAPT_ME3AREA\":0,\"CODE_GARBAGE\":\"거점장비수거방식\",\"KAPT_ME4AREA\":0,\"KAPT_ME5AREA\":0,\"CODE_CLTIME\":\"6\",\"CODE_HALL\":\"계단식\",\"CODE_STIME\":\"15\",\"KAPT_NAME\":\"신길뉴타운한화꿈에그린\",\"KAPT_DONG_CNT\":\"6\",\"CODE_CLEAN\":\"위탁관리\",\"CODE_SALE\":\"분양\",\"CODE_SEC\":\"위탁관리\",\"EMPTY_HO_CNT\":0,\"APPL_PRODATE\":\"\",\"KAPT_URL\":\"-\",\"KAPTD_CLCNT\":\"3\",\"KAPTD_PCNT\":\"24\",\"KAPTD_WTIMESUB\":\"5분이내\",\"KAPTD_DCNT\":\"12\",\"EDUCATION_FACILITY\":\"초등학교(대영) 중학교(대영) 고등학교(대영)\",\"KAPT_CCOMPANY\":\"서림주택\"},\"resultMap_kapt_areacnt\":[{\"KAPTDA_CNT\":null,\"AREA_GBN\":1,\"KAPT_CODE\":null},{\"KAPTDA_CNT\":147,\"AREA_GBN\":2,\"KAPT_CODE\":\"A15005501\"},{\"KAPTDA_CNT\":137,\"AREA_GBN\":3,\"KAPT_CODE\":\"A15005501\"},{\"KAPTDA_CNT\":null,\"AREA_GBN\":4,\"KAPT_CODE\":null}],\"resultMap_kapt_addrList\":[{\"ADDR\":\"서울특별시 영등포구 신길동 4937 신길뉴타운한화꿈에그린\",\"KAPT_CODE\":\"A15005501\",\"ADDR_GBN\":\"B\"},{\"ADDR\":\"서울특별시 영등포구 신길로 119\",\"KAPT_CODE\":\"A15005501\",\"ADDR_GBN\":\"R\"}]}\n",
      "{\"resultMap_match\":{\"KAPT_CODE\":\"A15005501\",\"TOWN_CODE\":20096267},\"resultMap_kapt\":{\"KAPT_NAME\":\"신길뉴타운한화꿈에그린\",\"CODE_SALE\":\"분양\",\"CODE_HEAT\":\"개별난방\",\"KAPT_TAREA\":48058.94,\"KAPT_DONG_CNT\":\"6\",\"KAPT_BCOMPANY\":\"한화건설(주)\",\"KAPT_ACOMPANY\":\"한고을\",\"KAPT_TEL\":\"02-834-7097\",\"KAPT_FAX\":\"02-834-0420\",\"KAPT_URL\":\"-\",\"CODE_APT\":\"아파트\",\"CODE_MGR\":\"위탁관리\",\"KAPT_MGR_CNT\":\"5\",\"KAPT_CCOMPANY\":\"서림주택\",\"CODE_SEC\":\"위탁관리\",\"KAPTD_SCNT\":\"4\",\"KAPTD_SEC_COM\":\"세계보안\",\"CODE_CLEAN\":\"위탁관리\",\"KAPTD_CLCNT\":\"3\",\"CODE_GARBAGE\":\"거점장비수거방식\",\"CODE_DISINF\":\"위탁관리\",\"KAPTD_DCNT\":\"12\",\"DISPOSAL_TYPE\":\"도포식,분무식\",\"KAPTD_PCNT\":\"24\",\"KAPTD_PCNTU\":\"377\",\"KAPTD_CCCNT\":\"112\",\"WELFARE_FACILITY\":\"관리사무소, 노인정, 어린이놀이터, 자전거보관소\",\"KAPTD_ECAPA\":\"1650\",\"CODE_EMGR\":\"상주선임\",\"CODE_WSUPPLY\":\"부스타방식\",\"CODE_STR\":\"철근콘크리트구조\",\"CODE_ECON\":\"종합계약\",\"CODE_FALARM\":\"R형\",\"CODE_ELEV\":\"위탁관리\",\"CODE_NET\":\"유\",\"KAPTD_WTIMEBUS\":\"5분이내\",\"CONVENIENT_FACILITY\":\"대형상가(사러가쇼핑센터)\",\"EDUCATION_FACILITY\":\"초등학교(대영) 중학교(대영) 고등학교(대영)\",\"CODE_HALL\":\"계단식\",\"KAPT_USEDATE\":\"2008-06-26\",\"KAPT_MAREA\":27684.2474,\"SUBWAY_STATION\":\"신풍\",\"SUBWAY_LINE\":\"7호선\",\"KAPTD_WTIMESUB\":\"5분이내\",\"KAPT_CODE\":\"A15005501\"},\"resultMap_kapt_areacnt\":[{\"KAPTDA_CNT\":0,\"AREA_GBN\":1,\"KAPT_CODE\":\"\"},{\"KAPTDA_CNT\":147,\"AREA_GBN\":2,\"KAPT_CODE\":\"A15005501\"},{\"KAPTDA_CNT\":137,\"AREA_GBN\":3,\"KAPT_CODE\":\"A15005501\"},{\"KAPTDA_CNT\":0,\"AREA_GBN\":4,\"KAPT_CODE\":\"\"}],\"resultMap_kapt_addrList\":[{\"ADDR\":\"서울특별시 영등포구 신길동 4937 신길뉴타운한화꿈에그린\",\"KAPT_CODE\":\"A15005501\",\"ADDR_GBN\":\"B\"},{\"ADDR\":\"서울특별시 영등포구 신길로 119\",\"KAPT_CODE\":\"A15005501\",\"ADDR_GBN\":\"R\"}]}\n",
      "11 / 23 신길뉴타운한화꿈에그린 처리완료\n"
     ]
    },
    {
     "name": "stderr",
     "output_type": "stream",
     "text": [
      "2018/03/22 21:24:51 example.com 200 OK\n"
     ]
    },
    {
     "name": "stdout",
     "output_type": "stream",
     "text": [
      "{\"resultMap_match\":{\"KAPT_CODE\":\"A15083701\",\"TOWN_CODE\":1051},\"resultMap_kapt\":{\"CODE_HEAT\":\"개별난방\",\"SUBWAY_STATION\":\"대방\",\"SUBWAY_LINE\":\"1호선, 5호선\",\"KAPT_PE1AREA\":0,\"KAPT_PE2AREA\":0,\"KAPT_PE3AREA\":0,\"KAPT_PEAREA\":0,\"KAPT_PE4AREA\":0,\"DISPOSAL_TYPE\":\"분무식\",\"KAPT_PE5AREA\":0,\"KAPTD_ECNTB\":0,\"KAPTD_ECNTC\":0,\"KAPT_PHAREA\":0,\"KAPTD_ECNTD\":0,\"KAPTD_SCNT\":\"2\",\"KAPTD_ECNTE\":0,\"CODE_ECON\":\"종합계약\",\"KAPT_PPAREA\":0,\"KAPTD_CCCNT\":\"0\",\"KAPTD_ECNTM\":0,\"KAPT_TEL\":\"02-848-4188\",\"WELFARE_FACILITY\":\"관리사무소, 노인정, 어린이놀이터, 자전거보관소\",\"KAPTD_ECNTP\":2,\"KAPT_FAX\":\"02-848-4188\",\"KAPT_ACC_COMPANY\":\"-\",\"KAPT_MGR_CNT\":\"2\",\"KAPT_BCOMPANY\":\"삼두실업(주)\",\"CONVENIENT_FACILITY\":\"관공서(동사무소) 병원(성애병원) 대형상가(LG하이프라자-대방점) 공원(여의도샛강생태공원)\",\"CODE_DISINF\":\"위탁관리\",\"CODE_EMGR\":\"위탁선임\",\"CODE_MGR\":\"위탁관리\",\"KAPTD_PCNTU\":\"0\",\"CODE_EMAINT\":\"위탁관리\",\"KAPT_MCAREA\":2921.1,\"CODE_ELEV\":\"위탁관리\",\"KAPT_MEAREA\":0,\"CODE_NET\":\"무\",\"KAPT_MHAREA\":0,\"KAPT_USEDATE\":\"1987-12-12\",\"KAPTD_WTIMEBUS\":\"5~10분이내\",\"KAPT_CODE\":\"A15083701\",\"CODE_APT\":\"아파트\",\"CODE_WSUPPLY\":\"고가수조식\",\"KAPT_MPAREA\":7333.2,\"KAPT_MAREA\":7333.2,\"KAPT_PAREA\":0,\"KAPT_TAREA\":10684,\"CODE_FALARM\":\"P형\",\"KAPTD_SEC_COM\":\"신한영주택관리(주)\",\"KAPTD_ECAPA\":\"225\",\"CODE_STR\":\"철근콘크리트구조\",\"APPL_CODE\":null,\"KAPT_ME1AREA\":0,\"KAPT_ACOMPANY\":\"삼두실업(주)\",\"KAPT_ME2AREA\":0,\"KAPT_ME3AREA\":0,\"CODE_GARBAGE\":\"음식물쓰레기종량제\",\"KAPT_ME4AREA\":0,\"KAPT_ME5AREA\":0,\"CODE_CLTIME\":\"3\",\"CODE_HALL\":\"복도식\",\"CODE_STIME\":\"11\",\"KAPT_NAME\":\"신길삼두\",\"KAPT_DONG_CNT\":\"1\",\"CODE_CLEAN\":\"위탁관리(직영+위탁)\",\"CODE_SALE\":\"분양\",\"CODE_SEC\":\"위탁관리(직영+위탁)\",\"EMPTY_HO_CNT\":0,\"APPL_PRODATE\":\"\",\"KAPT_URL\":\"-\",\"KAPTD_CLCNT\":\"1\",\"KAPTD_PCNT\":\"45\",\"KAPTD_WTIMESUB\":\"5분이내\",\"KAPTD_DCNT\":\"4\",\"EDUCATION_FACILITY\":\"중학교(윤중중학교) 고등학교(한국제과고등기술학교)\",\"KAPT_CCOMPANY\":\"신한영주택관리(주)\"},\"resultMap_kapt_areacnt\":[{\"KAPTDA_CNT\":160,\"AREA_GBN\":1,\"KAPT_CODE\":\"A15083701\"},{\"KAPTDA_CNT\":null,\"AREA_GBN\":2,\"KAPT_CODE\":null},{\"KAPTDA_CNT\":null,\"AREA_GBN\":3,\"KAPT_CODE\":null},{\"KAPTDA_CNT\":null,\"AREA_GBN\":4,\"KAPT_CODE\":null}],\"resultMap_kapt_addrList\":[{\"ADDR\":\"서울특별시 영등포구 신길동 2-3 삼두아파트\",\"KAPT_CODE\":\"A15083701\",\"ADDR_GBN\":\"B\"},{\"ADDR\":\"서울특별시 영등포구 여의대방로61길 19\",\"KAPT_CODE\":\"A15083701\",\"ADDR_GBN\":\"R\"}]}\n",
      "{\"resultMap_match\":{\"KAPT_CODE\":\"A15083701\",\"TOWN_CODE\":1051},\"resultMap_kapt\":{\"KAPT_NAME\":\"신길삼두\",\"CODE_SALE\":\"분양\",\"CODE_HEAT\":\"개별난방\",\"KAPT_TAREA\":10684,\"KAPT_DONG_CNT\":\"1\",\"KAPT_BCOMPANY\":\"삼두실업(주)\",\"KAPT_ACOMPANY\":\"삼두실업(주)\",\"KAPT_TEL\":\"02-848-4188\",\"KAPT_FAX\":\"02-848-4188\",\"KAPT_URL\":\"-\",\"CODE_APT\":\"아파트\",\"CODE_MGR\":\"위탁관리\",\"KAPT_MGR_CNT\":\"2\",\"KAPT_CCOMPANY\":\"신한영주택관리(주)\",\"CODE_SEC\":\"위탁관리(직영+위탁)\",\"KAPTD_SCNT\":\"2\",\"KAPTD_SEC_COM\":\"신한영주택관리(주)\",\"CODE_CLEAN\":\"위탁관리(직영+위탁)\",\"KAPTD_CLCNT\":\"1\",\"CODE_GARBAGE\":\"음식물쓰레기종량제\",\"CODE_DISINF\":\"위탁관리\",\"KAPTD_DCNT\":\"4\",\"DISPOSAL_TYPE\":\"분무식\",\"KAPTD_PCNT\":\"45\",\"KAPTD_PCNTU\":\"0\",\"KAPTD_CCCNT\":\"0\",\"WELFARE_FACILITY\":\"관리사무소, 노인정, 어린이놀이터, 자전거보관소\",\"KAPTD_ECAPA\":\"225\",\"CODE_EMGR\":\"위탁선임\",\"CODE_WSUPPLY\":\"고가수조식\",\"CODE_STR\":\"철근콘크리트구조\",\"CODE_ECON\":\"종합계약\",\"CODE_FALARM\":\"P형\",\"CODE_ELEV\":\"위탁관리\",\"CODE_NET\":\"무\",\"KAPTD_WTIMEBUS\":\"5~10분이내\",\"CONVENIENT_FACILITY\":\"관공서(동사무소) 병원(성애병원) 대형상가(LG하이프라자-대방점) 공원(여의도샛강생태공원)\",\"EDUCATION_FACILITY\":\"중학교(윤중중학교) 고등학교(한국제과고등기술학교)\",\"CODE_HALL\":\"복도식\",\"KAPT_USEDATE\":\"1987-12-12\",\"KAPT_MAREA\":7333.2,\"SUBWAY_STATION\":\"대방\",\"SUBWAY_LINE\":\"1호선, 5호선\",\"KAPTD_WTIMESUB\":\"5분이내\",\"KAPT_CODE\":\"A15083701\"},\"resultMap_kapt_areacnt\":[{\"KAPTDA_CNT\":160,\"AREA_GBN\":1,\"KAPT_CODE\":\"A15083701\"},{\"KAPTDA_CNT\":0,\"AREA_GBN\":2,\"KAPT_CODE\":\"\"},{\"KAPTDA_CNT\":0,\"AREA_GBN\":3,\"KAPT_CODE\":\"\"},{\"KAPTDA_CNT\":0,\"AREA_GBN\":4,\"KAPT_CODE\":\"\"}],\"resultMap_kapt_addrList\":[{\"ADDR\":\"서울특별시 영등포구 신길동 2-3 삼두아파트\",\"KAPT_CODE\":\"A15083701\",\"ADDR_GBN\":\"B\"},{\"ADDR\":\"서울특별시 영등포구 여의대방로61길 19\",\"KAPT_CODE\":\"A15083701\",\"ADDR_GBN\":\"R\"}]}\n",
      "12 / 23 신길삼두 처리완료\n"
     ]
    },
    {
     "name": "stderr",
     "output_type": "stream",
     "text": [
      "2018/03/22 21:24:51 example.com 200 OK\n"
     ]
    },
    {
     "name": "stdout",
     "output_type": "stream",
     "text": [
      "{\"resultMap_match\":{\"KAPT_CODE\":\"A15005603\",\"TOWN_CODE\":1052},\"resultMap_kapt\":{\"CODE_HEAT\":\"개별난방\",\"SUBWAY_STATION\":\"신풍\",\"SUBWAY_LINE\":\"7호선\",\"KAPT_PE1AREA\":0,\"KAPT_PE2AREA\":0,\"KAPT_PE3AREA\":0,\"KAPT_PEAREA\":0,\"KAPT_PE4AREA\":0,\"DISPOSAL_TYPE\":\"도포식,분무식,독이식\",\"KAPT_PE5AREA\":0,\"KAPTD_ECNTB\":0,\"KAPTD_ECNTC\":0,\"KAPT_PHAREA\":0,\"KAPTD_ECNTD\":0,\"KAPTD_SCNT\":\"4\",\"KAPTD_ECNTE\":0,\"CODE_ECON\":\"단일계약\",\"KAPT_PPAREA\":0,\"KAPTD_CCCNT\":\"41\",\"KAPTD_ECNTM\":0,\"KAPT_TEL\":\"02-846-2273\",\"WELFARE_FACILITY\":\"관리사무소, 노인정, 어린이놀이터, 자전거보관소\",\"KAPTD_ECNTP\":4,\"KAPT_FAX\":\"02-846-2275\",\"KAPT_ACC_COMPANY\":\"에이앤비시스템(주)\",\"KAPT_MGR_CNT\":\"5\",\"KAPT_BCOMPANY\":\"삼성종합건설(주)\",\"CONVENIENT_FACILITY\":\"관공서(동사무소) 병원(원치과) 대형상가(LG하이프라자) 공원(보라매공원) 기타(돈보스코청소년센터)\",\"CODE_DISINF\":\"위탁관리\",\"CODE_EMGR\":\"상주선임\",\"CODE_MGR\":\"위탁관리\",\"KAPTD_PCNTU\":\"0\",\"CODE_EMAINT\":\"-\",\"KAPT_MCAREA\":0,\"CODE_ELEV\":\"위탁관리\",\"KAPT_MEAREA\":0,\"CODE_NET\":\"무\",\"KAPT_MHAREA\":0,\"KAPT_USEDATE\":\"1984-04-14\",\"KAPTD_WTIMEBUS\":\"5~10분이내\",\"KAPT_CODE\":\"A15005603\",\"CODE_APT\":\"아파트\",\"CODE_WSUPPLY\":\"고가수조식\",\"KAPT_MPAREA\":0,\"KAPT_MAREA\":21766.32,\"KAPT_PAREA\":0,\"KAPT_TAREA\":30549.74,\"CODE_FALARM\":\"P형\",\"KAPTD_SEC_COM\":\"희망코리아(주)\",\"KAPTD_ECAPA\":\"700\",\"CODE_STR\":\"철근콘크리트구조\",\"APPL_CODE\":null,\"KAPT_ME1AREA\":0,\"KAPT_ACOMPANY\":\"삼성종합건설(주)\",\"KAPT_ME2AREA\":0,\"KAPT_ME3AREA\":0,\"CODE_GARBAGE\":\"음식물쓰레기종량제\",\"KAPT_ME4AREA\":0,\"KAPT_ME5AREA\":0,\"CODE_CLTIME\":\"7\",\"CODE_HALL\":\"복도식\",\"CODE_STIME\":\"14\",\"KAPT_NAME\":\"신길삼성\",\"KAPT_DONG_CNT\":\"2\",\"CODE_CLEAN\":\"위탁관리\",\"CODE_SALE\":\"분양\",\"CODE_SEC\":\"위탁관리\",\"EMPTY_HO_CNT\":null,\"APPL_PRODATE\":\"\",\"KAPT_URL\":\"-\",\"KAPTD_CLCNT\":\"3\",\"KAPTD_PCNT\":\"218\",\"KAPTD_WTIMESUB\":\"5~10분이내\",\"KAPTD_DCNT\":\"12\",\"EDUCATION_FACILITY\":\"초등학교(대길초등학교) 중학교(대방중학교) 고등학교(영신고등학교)\",\"KAPT_CCOMPANY\":\"율산개발(주)\"},\"resultMap_kapt_areacnt\":[{\"KAPTDA_CNT\":120,\"AREA_GBN\":1,\"KAPT_CODE\":\"A15005603\"},{\"KAPTDA_CNT\":264,\"AREA_GBN\":2,\"KAPT_CODE\":\"A15005603\"},{\"KAPTDA_CNT\":null,\"AREA_GBN\":3,\"KAPT_CODE\":null},{\"KAPTDA_CNT\":null,\"AREA_GBN\":4,\"KAPT_CODE\":null}],\"resultMap_kapt_addrList\":[{\"ADDR\":\"서울특별시 영등포구 신길동 4759 삼성아파트\",\"KAPT_CODE\":\"A15005603\",\"ADDR_GBN\":\"B\"},{\"ADDR\":\"서울특별시 영등포구 여의대방로 45\",\"KAPT_CODE\":\"A15005603\",\"ADDR_GBN\":\"R\"}]}\n",
      "{\"resultMap_match\":{\"KAPT_CODE\":\"A15005603\",\"TOWN_CODE\":1052},\"resultMap_kapt\":{\"KAPT_NAME\":\"신길삼성\",\"CODE_SALE\":\"분양\",\"CODE_HEAT\":\"개별난방\",\"KAPT_TAREA\":30549.74,\"KAPT_DONG_CNT\":\"2\",\"KAPT_BCOMPANY\":\"삼성종합건설(주)\",\"KAPT_ACOMPANY\":\"삼성종합건설(주)\",\"KAPT_TEL\":\"02-846-2273\",\"KAPT_FAX\":\"02-846-2275\",\"KAPT_URL\":\"-\",\"CODE_APT\":\"아파트\",\"CODE_MGR\":\"위탁관리\",\"KAPT_MGR_CNT\":\"5\",\"KAPT_CCOMPANY\":\"율산개발(주)\",\"CODE_SEC\":\"위탁관리\",\"KAPTD_SCNT\":\"4\",\"KAPTD_SEC_COM\":\"희망코리아(주)\",\"CODE_CLEAN\":\"위탁관리\",\"KAPTD_CLCNT\":\"3\",\"CODE_GARBAGE\":\"음식물쓰레기종량제\",\"CODE_DISINF\":\"위탁관리\",\"KAPTD_DCNT\":\"12\",\"DISPOSAL_TYPE\":\"도포식,분무식,독이식\",\"KAPTD_PCNT\":\"218\",\"KAPTD_PCNTU\":\"0\",\"KAPTD_CCCNT\":\"41\",\"WELFARE_FACILITY\":\"관리사무소, 노인정, 어린이놀이터, 자전거보관소\",\"KAPTD_ECAPA\":\"700\",\"CODE_EMGR\":\"상주선임\",\"CODE_WSUPPLY\":\"고가수조식\",\"CODE_STR\":\"철근콘크리트구조\",\"CODE_ECON\":\"단일계약\",\"CODE_FALARM\":\"P형\",\"CODE_ELEV\":\"위탁관리\",\"CODE_NET\":\"무\",\"KAPTD_WTIMEBUS\":\"5~10분이내\",\"CONVENIENT_FACILITY\":\"관공서(동사무소) 병원(원치과) 대형상가(LG하이프라자) 공원(보라매공원) 기타(돈보스코청소년센터)\",\"EDUCATION_FACILITY\":\"초등학교(대길초등학교) 중학교(대방중학교) 고등학교(영신고등학교)\",\"CODE_HALL\":\"복도식\",\"KAPT_USEDATE\":\"1984-04-14\",\"KAPT_MAREA\":21766.32,\"SUBWAY_STATION\":\"신풍\",\"SUBWAY_LINE\":\"7호선\",\"KAPTD_WTIMESUB\":\"5~10분이내\",\"KAPT_CODE\":\"A15005603\"},\"resultMap_kapt_areacnt\":[{\"KAPTDA_CNT\":120,\"AREA_GBN\":1,\"KAPT_CODE\":\"A15005603\"},{\"KAPTDA_CNT\":264,\"AREA_GBN\":2,\"KAPT_CODE\":\"A15005603\"},{\"KAPTDA_CNT\":0,\"AREA_GBN\":3,\"KAPT_CODE\":\"\"},{\"KAPTDA_CNT\":0,\"AREA_GBN\":4,\"KAPT_CODE\":\"\"}],\"resultMap_kapt_addrList\":[{\"ADDR\":\"서울특별시 영등포구 신길동 4759 삼성아파트\",\"KAPT_CODE\":\"A15005603\",\"ADDR_GBN\":\"B\"},{\"ADDR\":\"서울특별시 영등포구 여의대방로 45\",\"KAPT_CODE\":\"A15005603\",\"ADDR_GBN\":\"R\"}]}\n",
      "13 / 23 신길삼성 처리완료\n"
     ]
    },
    {
     "name": "stderr",
     "output_type": "stream",
     "text": [
      "2018/03/22 21:24:51 example.com 200 OK\n"
     ]
    },
    {
     "name": "stdout",
     "output_type": "stream",
     "text": [
      "{\"resultMap_match\":{\"KAPT_CODE\":\"A15005402\",\"TOWN_CODE\":1053},\"resultMap_kapt\":{\"CODE_HEAT\":\"개별난방\",\"SUBWAY_STATION\":\"신풍\",\"SUBWAY_LINE\":\"1호선, 5호선, 7호선\",\"KAPT_PE1AREA\":0,\"KAPT_PE2AREA\":0,\"KAPT_PE3AREA\":0,\"KAPT_PEAREA\":0,\"KAPT_PE4AREA\":0,\"DISPOSAL_TYPE\":\"도포식,분무식,독이식\",\"KAPT_PE5AREA\":0,\"KAPTD_ECNTB\":0,\"KAPTD_ECNTC\":0,\"KAPT_PHAREA\":0,\"KAPTD_ECNTD\":0,\"KAPTD_SCNT\":\"13\",\"KAPTD_ECNTE\":18,\"CODE_ECON\":\"단일계약\",\"KAPT_PPAREA\":0,\"KAPTD_CCCNT\":\"126\",\"KAPTD_ECNTM\":0,\"KAPT_TEL\":\"02-832-7937\",\"WELFARE_FACILITY\":\"관리사무소, 노인정, 보육시설, 주민공동시설, 어린이놀이터, 자전거보관소\",\"KAPTD_ECNTP\":18,\"KAPT_FAX\":\"02-832-7938\",\"KAPT_ACC_COMPANY\":\"홍진테이타\",\"KAPT_MGR_CNT\":\"8\",\"KAPT_BCOMPANY\":\"삼성물산\",\"CONVENIENT_FACILITY\":\"관공서(동사무소) 병원(황치과) 대형상가(사러가쇼핑센터) 공원(매낙골공원)\",\"CODE_DISINF\":\"위탁관리\",\"CODE_EMGR\":\"상주선임\",\"CODE_MGR\":\"위탁관리\",\"KAPTD_PCNTU\":\"853\",\"CODE_EMAINT\":\"위탁관리\",\"KAPT_MCAREA\":15684.5,\"CODE_ELEV\":\"위탁관리\",\"KAPT_MEAREA\":0,\"CODE_NET\":\"무\",\"KAPT_MHAREA\":0,\"KAPT_USEDATE\":\"2001-06-15\",\"KAPTD_WTIMEBUS\":\"5~10분이내\",\"KAPT_CODE\":\"A15005402\",\"CODE_APT\":\"아파트\",\"CODE_WSUPPLY\":\"고가수조식\",\"KAPT_MPAREA\":68836.36,\"KAPT_MAREA\":71552.57,\"KAPT_PAREA\":0,\"KAPT_TAREA\":111955.89,\"CODE_FALARM\":\"GR형\",\"KAPTD_SEC_COM\":\"(주)엘림테크\",\"KAPTD_ECAPA\":\"3600\",\"CODE_STR\":\"철근콘크리트구조\",\"APPL_CODE\":null,\"KAPT_ME1AREA\":0,\"KAPT_ACOMPANY\":\"신길2-3지구주택재개발조합\",\"KAPT_ME2AREA\":0,\"KAPT_ME3AREA\":0,\"CODE_GARBAGE\":\"음식물쓰레기종량제\",\"KAPT_ME4AREA\":0,\"KAPT_ME5AREA\":0,\"CODE_CLTIME\":\"5\",\"CODE_HALL\":\"혼합식\",\"CODE_STIME\":\"24\",\"KAPT_NAME\":\"신길삼성래미안\",\"KAPT_DONG_CNT\":\"12\",\"CODE_CLEAN\":\"위탁관리\",\"CODE_SALE\":\"분양\",\"CODE_SEC\":\"위탁관리\",\"EMPTY_HO_CNT\":32,\"APPL_PRODATE\":\"\",\"KAPT_URL\":\"-\",\"KAPTD_CLCNT\":\"8\",\"KAPTD_PCNT\":\"122\",\"KAPTD_WTIMESUB\":\"5~10분이내\",\"KAPTD_DCNT\":\"12\",\"EDUCATION_FACILITY\":\"초등학교(우신초등학교)\",\"KAPT_CCOMPANY\":\"서일개발\"},\"resultMap_kapt_areacnt\":[{\"KAPTDA_CNT\":214,\"AREA_GBN\":1,\"KAPT_CODE\":\"A15005402\"},{\"KAPTDA_CNT\":382,\"AREA_GBN\":2,\"KAPT_CODE\":\"A15005402\"},{\"KAPTDA_CNT\":230,\"AREA_GBN\":3,\"KAPT_CODE\":\"A15005402\"},{\"KAPTDA_CNT\":null,\"AREA_GBN\":4,\"KAPT_CODE\":null}],\"resultMap_kapt_addrList\":[{\"ADDR\":\"서울특별시 영등포구 신길동 4934-17 삼성래미안아파트\",\"KAPT_CODE\":\"A15005402\",\"ADDR_GBN\":\"B\"},{\"ADDR\":\"서울특별시 영등포구 신길동 4934-2 삼성래미안아파트\",\"KAPT_CODE\":\"A15005402\",\"ADDR_GBN\":\"B\"},{\"ADDR\":\"서울특별시 영등포구 신길동 4934 삼성래미안아파트\",\"KAPT_CODE\":\"A15005402\",\"ADDR_GBN\":\"B\"},{\"ADDR\":\"서울특별시 영등포구 가마산로79길 7\",\"KAPT_CODE\":\"A15005402\",\"ADDR_GBN\":\"R\"},{\"ADDR\":\"서울특별시 영등포구 도신로48길 35\",\"KAPT_CODE\":\"A15005402\",\"ADDR_GBN\":\"R\"}]}\n",
      "{\"resultMap_match\":{\"KAPT_CODE\":\"A15005402\",\"TOWN_CODE\":1053},\"resultMap_kapt\":{\"KAPT_NAME\":\"신길삼성래미안\",\"CODE_SALE\":\"분양\",\"CODE_HEAT\":\"개별난방\",\"KAPT_TAREA\":111955.89,\"KAPT_DONG_CNT\":\"12\",\"KAPT_BCOMPANY\":\"삼성물산\",\"KAPT_ACOMPANY\":\"신길2-3지구주택재개발조합\",\"KAPT_TEL\":\"02-832-7937\",\"KAPT_FAX\":\"02-832-7938\",\"KAPT_URL\":\"-\",\"CODE_APT\":\"아파트\",\"CODE_MGR\":\"위탁관리\",\"KAPT_MGR_CNT\":\"8\",\"KAPT_CCOMPANY\":\"서일개발\",\"CODE_SEC\":\"위탁관리\",\"KAPTD_SCNT\":\"13\",\"KAPTD_SEC_COM\":\"(주)엘림테크\",\"CODE_CLEAN\":\"위탁관리\",\"KAPTD_CLCNT\":\"8\",\"CODE_GARBAGE\":\"음식물쓰레기종량제\",\"CODE_DISINF\":\"위탁관리\",\"KAPTD_DCNT\":\"12\",\"DISPOSAL_TYPE\":\"도포식,분무식,독이식\",\"KAPTD_PCNT\":\"122\",\"KAPTD_PCNTU\":\"853\",\"KAPTD_CCCNT\":\"126\",\"WELFARE_FACILITY\":\"관리사무소, 노인정, 보육시설, 주민공동시설, 어린이놀이터, 자전거보관소\",\"KAPTD_ECAPA\":\"3600\",\"CODE_EMGR\":\"상주선임\",\"CODE_WSUPPLY\":\"고가수조식\",\"CODE_STR\":\"철근콘크리트구조\",\"CODE_ECON\":\"단일계약\",\"CODE_FALARM\":\"GR형\",\"CODE_ELEV\":\"위탁관리\",\"CODE_NET\":\"무\",\"KAPTD_WTIMEBUS\":\"5~10분이내\",\"CONVENIENT_FACILITY\":\"관공서(동사무소) 병원(황치과) 대형상가(사러가쇼핑센터) 공원(매낙골공원)\",\"EDUCATION_FACILITY\":\"초등학교(우신초등학교)\",\"CODE_HALL\":\"혼합식\",\"KAPT_USEDATE\":\"2001-06-15\",\"KAPT_MAREA\":71552.57,\"SUBWAY_STATION\":\"신풍\",\"SUBWAY_LINE\":\"1호선, 5호선, 7호선\",\"KAPTD_WTIMESUB\":\"5~10분이내\",\"KAPT_CODE\":\"A15005402\"},\"resultMap_kapt_areacnt\":[{\"KAPTDA_CNT\":214,\"AREA_GBN\":1,\"KAPT_CODE\":\"A15005402\"},{\"KAPTDA_CNT\":382,\"AREA_GBN\":2,\"KAPT_CODE\":\"A15005402\"},{\"KAPTDA_CNT\":230,\"AREA_GBN\":3,\"KAPT_CODE\":\"A15005402\"},{\"KAPTDA_CNT\":0,\"AREA_GBN\":4,\"KAPT_CODE\":\"\"}],\"resultMap_kapt_addrList\":[{\"ADDR\":\"서울특별시 영등포구 신길동 4934-17 삼성래미안아파트\",\"KAPT_CODE\":\"A15005402\",\"ADDR_GBN\":\"B\"},{\"ADDR\":\"서울특별시 영등포구 신길동 4934-2 삼성래미안아파트\",\"KAPT_CODE\":\"A15005402\",\"ADDR_GBN\":\"B\"},{\"ADDR\":\"서울특별시 영등포구 신길동 4934 삼성래미안아파트\",\"KAPT_CODE\":\"A15005402\",\"ADDR_GBN\":\"B\"},{\"ADDR\":\"서울특별시 영등포구 가마산로79길 7\",\"KAPT_CODE\":\"A15005402\",\"ADDR_GBN\":\"R\"},{\"ADDR\":\"서울특별시 영등포구 도신로48길 35\",\"KAPT_CODE\":\"A15005402\",\"ADDR_GBN\":\"R\"}]}\n",
      "14 / 23 신길삼성래미안 처리완료\n"
     ]
    },
    {
     "name": "stderr",
     "output_type": "stream",
     "text": [
      "2018/03/22 21:24:51 example.com 200 OK\n"
     ]
    },
    {
     "name": "stdout",
     "output_type": "stream",
     "text": [
      "{\"resultMap_match\":{\"KAPT_CODE\":\"A15005401\",\"TOWN_CODE\":1053},\"resultMap_kapt\":{\"CODE_HEAT\":\"개별난방\",\"SUBWAY_STATION\":\"1호선-영등포역,5호선-신길역,7호선-신풍역\",\"SUBWAY_LINE\":\"1호선, 5호선, 7호선\",\"KAPT_PE1AREA\":0,\"KAPT_PE2AREA\":0,\"KAPT_PE3AREA\":0,\"KAPT_PEAREA\":0,\"KAPT_PE4AREA\":0,\"DISPOSAL_TYPE\":\"도포식,분무식\",\"KAPT_PE5AREA\":0,\"KAPTD_ECNTB\":0,\"KAPTD_ECNTC\":0,\"KAPT_PHAREA\":0,\"KAPTD_ECNTD\":0,\"KAPTD_SCNT\":\"3\",\"KAPTD_ECNTE\":0,\"CODE_ECON\":\"단일계약\",\"KAPT_PPAREA\":0,\"KAPTD_CCCNT\":\"36\",\"KAPTD_ECNTM\":0,\"KAPT_TEL\":\"02-836-3272\",\"WELFARE_FACILITY\":\"관리사무소, 노인정, 어린이놀이터, 자전거보관소\",\"KAPTD_ECNTP\":4,\"KAPT_FAX\":\"02-836-3273\",\"KAPT_ACC_COMPANY\":\"-\",\"KAPT_MGR_CNT\":\"9\",\"KAPT_BCOMPANY\":\"삼성물산주식회사\",\"CONVENIENT_FACILITY\":\"관공서(신길4동 주민센터) 병원(엔젤병원) 백화점(롯데백화점) 대형상가(사러가쇼핑센터) 공원(삼성공원)\",\"CODE_DISINF\":\"위탁관리\",\"CODE_EMGR\":\"위탁선임\",\"CODE_MGR\":\"자치관리(직영)\",\"KAPTD_PCNTU\":\"86\",\"CODE_EMAINT\":\"위탁관리\",\"KAPT_MCAREA\":8317,\"CODE_ELEV\":\"위탁관리\",\"KAPT_MEAREA\":0,\"CODE_NET\":\"무\",\"KAPT_MHAREA\":0,\"KAPT_USEDATE\":\"2001-06-15\",\"KAPTD_WTIMEBUS\":\"15~20분이내\",\"KAPT_CODE\":\"A15005401\",\"CODE_APT\":\"아파트\",\"CODE_WSUPPLY\":\"고가수조식\",\"KAPT_MPAREA\":12747.7,\"KAPT_MAREA\":12747.78,\"KAPT_PAREA\":0,\"KAPT_TAREA\":21067,\"CODE_FALARM\":\"P형\",\"KAPTD_SEC_COM\":\"(주)세원종합관리\",\"KAPTD_ECAPA\":\"850\",\"CODE_STR\":\"철근콘크리트구조\",\"APPL_CODE\":null,\"KAPT_ME1AREA\":0,\"KAPT_ACOMPANY\":\"삼성물산주식회사\",\"KAPT_ME2AREA\":0,\"KAPT_ME3AREA\":0,\"CODE_GARBAGE\":\"기타\",\"KAPT_ME4AREA\":0,\"KAPT_ME5AREA\":0,\"CODE_CLTIME\":\"6\",\"CODE_HALL\":\"복도식\",\"CODE_STIME\":\"24\",\"KAPT_NAME\":\"신길삼성제2\",\"KAPT_DONG_CNT\":\"1\",\"CODE_CLEAN\":\"위탁관리\",\"CODE_SALE\":\"임대\",\"CODE_SEC\":\"위탁관리\",\"EMPTY_HO_CNT\":4,\"APPL_PRODATE\":\"\",\"KAPT_URL\":\"happy.i-sh.co.kr/main.do?deptid=70169\",\"KAPTD_CLCNT\":\"2\",\"KAPTD_PCNT\":\"90\",\"KAPTD_WTIMESUB\":\"15~20분이내\",\"KAPTD_DCNT\":\"6\",\"EDUCATION_FACILITY\":\"초등학교(우신초등학교) 중학교(영원중학교)\",\"KAPT_CCOMPANY\":\"-\"},\"resultMap_kapt_areacnt\":[{\"KAPTDA_CNT\":387,\"AREA_GBN\":1,\"KAPT_CODE\":\"A15005401\"},{\"KAPTDA_CNT\":null,\"AREA_GBN\":2,\"KAPT_CODE\":null},{\"KAPTDA_CNT\":null,\"AREA_GBN\":3,\"KAPT_CODE\":null},{\"KAPTDA_CNT\":null,\"AREA_GBN\":4,\"KAPT_CODE\":null}],\"resultMap_kapt_addrList\":[{\"ADDR\":\"서울특별시 영등포구 신길동 4934-2 삼성래미안아파트\",\"KAPT_CODE\":\"A15005401\",\"ADDR_GBN\":\"B\"},{\"ADDR\":\"서울특별시 영등포구 신길로42길 25\",\"KAPT_CODE\":\"A15005401\",\"ADDR_GBN\":\"R\"}]}\n",
      "{\"resultMap_match\":{\"KAPT_CODE\":\"A15005401\",\"TOWN_CODE\":1053},\"resultMap_kapt\":{\"KAPT_NAME\":\"신길삼성제2\",\"CODE_SALE\":\"임대\",\"CODE_HEAT\":\"개별난방\",\"KAPT_TAREA\":21067,\"KAPT_DONG_CNT\":\"1\",\"KAPT_BCOMPANY\":\"삼성물산주식회사\",\"KAPT_ACOMPANY\":\"삼성물산주식회사\",\"KAPT_TEL\":\"02-836-3272\",\"KAPT_FAX\":\"02-836-3273\",\"KAPT_URL\":\"happy.i-sh.co.kr/main.do?deptid=70169\",\"CODE_APT\":\"아파트\",\"CODE_MGR\":\"자치관리(직영)\",\"KAPT_MGR_CNT\":\"9\",\"KAPT_CCOMPANY\":\"-\",\"CODE_SEC\":\"위탁관리\",\"KAPTD_SCNT\":\"3\",\"KAPTD_SEC_COM\":\"(주)세원종합관리\",\"CODE_CLEAN\":\"위탁관리\",\"KAPTD_CLCNT\":\"2\",\"CODE_GARBAGE\":\"기타\",\"CODE_DISINF\":\"위탁관리\",\"KAPTD_DCNT\":\"6\",\"DISPOSAL_TYPE\":\"도포식,분무식\",\"KAPTD_PCNT\":\"90\",\"KAPTD_PCNTU\":\"86\",\"KAPTD_CCCNT\":\"36\",\"WELFARE_FACILITY\":\"관리사무소, 노인정, 어린이놀이터, 자전거보관소\",\"KAPTD_ECAPA\":\"850\",\"CODE_EMGR\":\"위탁선임\",\"CODE_WSUPPLY\":\"고가수조식\",\"CODE_STR\":\"철근콘크리트구조\",\"CODE_ECON\":\"단일계약\",\"CODE_FALARM\":\"P형\",\"CODE_ELEV\":\"위탁관리\",\"CODE_NET\":\"무\",\"KAPTD_WTIMEBUS\":\"15~20분이내\",\"CONVENIENT_FACILITY\":\"관공서(신길4동 주민센터) 병원(엔젤병원) 백화점(롯데백화점) 대형상가(사러가쇼핑센터) 공원(삼성공원)\",\"EDUCATION_FACILITY\":\"초등학교(우신초등학교) 중학교(영원중학교)\",\"CODE_HALL\":\"복도식\",\"KAPT_USEDATE\":\"2001-06-15\",\"KAPT_MAREA\":12747.78,\"SUBWAY_STATION\":\"1호선-영등포역,5호선-신길역,7호선-신풍역\",\"SUBWAY_LINE\":\"1호선, 5호선, 7호선\",\"KAPTD_WTIMESUB\":\"15~20분이내\",\"KAPT_CODE\":\"A15005401\"},\"resultMap_kapt_areacnt\":[{\"KAPTDA_CNT\":387,\"AREA_GBN\":1,\"KAPT_CODE\":\"A15005401\"},{\"KAPTDA_CNT\":0,\"AREA_GBN\":2,\"KAPT_CODE\":\"\"},{\"KAPTDA_CNT\":0,\"AREA_GBN\":3,\"KAPT_CODE\":\"\"},{\"KAPTDA_CNT\":0,\"AREA_GBN\":4,\"KAPT_CODE\":\"\"}],\"resultMap_kapt_addrList\":[{\"ADDR\":\"서울특별시 영등포구 신길동 4934-2 삼성래미안아파트\",\"KAPT_CODE\":\"A15005401\",\"ADDR_GBN\":\"B\"},{\"ADDR\":\"서울특별시 영등포구 신길로42길 25\",\"KAPT_CODE\":\"A15005401\",\"ADDR_GBN\":\"R\"}]}\n",
      "15 / 23 신길삼성제2 처리완료\n"
     ]
    },
    {
     "name": "stderr",
     "output_type": "stream",
     "text": [
      "2018/03/22 21:24:51 example.com 200 OK\n"
     ]
    },
    {
     "name": "stdout",
     "output_type": "stream",
     "text": [
      "{\"resultMap_match\":{\"KAPT_CODE\":\"A15005705\",\"TOWN_CODE\":1054},\"resultMap_kapt\":{\"CODE_HEAT\":\"중앙난방\",\"SUBWAY_STATION\":\"신풍\",\"SUBWAY_LINE\":\"1호선, 7호선\",\"KAPT_PE1AREA\":0,\"KAPT_PE2AREA\":0,\"KAPT_PE3AREA\":0,\"KAPT_PEAREA\":0,\"KAPT_PE4AREA\":0,\"DISPOSAL_TYPE\":\"분무식,독이식\",\"KAPT_PE5AREA\":0,\"KAPTD_ECNTB\":0,\"KAPTD_ECNTC\":0,\"KAPT_PHAREA\":0,\"KAPTD_ECNTD\":0,\"KAPTD_SCNT\":\"22\",\"KAPTD_ECNTE\":0,\"CODE_ECON\":\"종합계약\",\"KAPT_PPAREA\":0,\"KAPTD_CCCNT\":\"147\",\"KAPTD_ECNTM\":0,\"KAPT_TEL\":\"02-833-0286~7\",\"WELFARE_FACILITY\":\"관리사무소, 노인정, 보육시설, 어린이놀이터\",\"KAPTD_ECNTP\":26,\"KAPT_FAX\":\"02-833-0289\",\"KAPT_ACC_COMPANY\":\"-\",\"KAPT_MGR_CNT\":\"14\",\"KAPT_BCOMPANY\":\"삼환기업\",\"CONVENIENT_FACILITY\":\"관공서(동사무소)\",\"CODE_DISINF\":\"위탁관리\",\"CODE_EMGR\":\"상주선임\",\"CODE_MGR\":\"위탁관리\",\"KAPTD_PCNTU\":\"608\",\"CODE_EMAINT\":\"위탁관리\",\"KAPT_MCAREA\":0,\"CODE_ELEV\":\"위탁관리\",\"KAPT_MEAREA\":0,\"CODE_NET\":\"무\",\"KAPT_MHAREA\":0,\"KAPT_USEDATE\":\"1997-05-10\",\"KAPTD_WTIMEBUS\":\"5~10분이내\",\"KAPT_CODE\":\"A15005705\",\"CODE_APT\":\"아파트\",\"CODE_WSUPPLY\":\"고가수조식\",\"KAPT_MPAREA\":117110.614,\"KAPT_MAREA\":87502.98,\"KAPT_PAREA\":0,\"KAPT_TAREA\":131665.768,\"CODE_FALARM\":\"P형\",\"KAPTD_SEC_COM\":\"(주)경진관리\",\"KAPTD_ECAPA\":\"2750\",\"CODE_STR\":\"철근콘크리트구조\",\"APPL_CODE\":null,\"KAPT_ME1AREA\":0,\"KAPT_ACOMPANY\":\"군인공제회\",\"KAPT_ME2AREA\":0,\"KAPT_ME3AREA\":0,\"CODE_GARBAGE\":\"음식물쓰레기종량제\",\"KAPT_ME4AREA\":0,\"KAPT_ME5AREA\":0,\"CODE_CLTIME\":\"5\",\"CODE_HALL\":\"계단식\",\"CODE_STIME\":\"18\",\"KAPT_NAME\":\"신길삼환\",\"KAPT_DONG_CNT\":\"11\",\"CODE_CLEAN\":\"위탁관리\",\"CODE_SALE\":\"분양\",\"CODE_SEC\":\"위탁관리\",\"EMPTY_HO_CNT\":0,\"APPL_PRODATE\":\"\",\"KAPT_URL\":\"신길삼환.apti.co.kr\",\"KAPTD_CLCNT\":\"10\",\"KAPTD_PCNT\":\"496\",\"KAPTD_WTIMESUB\":\"5~10분이내\",\"KAPTD_DCNT\":\"12\",\"EDUCATION_FACILITY\":\"초등학교(대방초등학교) 중학교(강남중교) 고등학교(서울공업고교)\",\"KAPT_CCOMPANY\":\"(주)경진관리\"},\"resultMap_kapt_areacnt\":[{\"KAPTDA_CNT\":478,\"AREA_GBN\":1,\"KAPT_CODE\":\"A15005705\"},{\"KAPTDA_CNT\":696,\"AREA_GBN\":2,\"KAPT_CODE\":\"A15005705\"},{\"KAPTDA_CNT\":null,\"AREA_GBN\":3,\"KAPT_CODE\":null},{\"KAPTDA_CNT\":null,\"AREA_GBN\":4,\"KAPT_CODE\":null}],\"resultMap_kapt_addrList\":[{\"ADDR\":\"서울특별시 영등포구 신길동 897-1 삼환아파트\",\"KAPT_CODE\":\"A15005705\",\"ADDR_GBN\":\"B\"},{\"ADDR\":\"서울특별시 영등포구 여의대방로43나길 25\",\"KAPT_CODE\":\"A15005705\",\"ADDR_GBN\":\"R\"},{\"ADDR\":\"서울특별시 영등포구 여의대방로43라길 9\",\"KAPT_CODE\":\"A15005705\",\"ADDR_GBN\":\"R\"}]}\n",
      "{\"resultMap_match\":{\"KAPT_CODE\":\"A15005705\",\"TOWN_CODE\":1054},\"resultMap_kapt\":{\"KAPT_NAME\":\"신길삼환\",\"CODE_SALE\":\"분양\",\"CODE_HEAT\":\"중앙난방\",\"KAPT_TAREA\":131665.768,\"KAPT_DONG_CNT\":\"11\",\"KAPT_BCOMPANY\":\"삼환기업\",\"KAPT_ACOMPANY\":\"군인공제회\",\"KAPT_TEL\":\"02-833-0286~7\",\"KAPT_FAX\":\"02-833-0289\",\"KAPT_URL\":\"신길삼환.apti.co.kr\",\"CODE_APT\":\"아파트\",\"CODE_MGR\":\"위탁관리\",\"KAPT_MGR_CNT\":\"14\",\"KAPT_CCOMPANY\":\"(주)경진관리\",\"CODE_SEC\":\"위탁관리\",\"KAPTD_SCNT\":\"22\",\"KAPTD_SEC_COM\":\"(주)경진관리\",\"CODE_CLEAN\":\"위탁관리\",\"KAPTD_CLCNT\":\"10\",\"CODE_GARBAGE\":\"음식물쓰레기종량제\",\"CODE_DISINF\":\"위탁관리\",\"KAPTD_DCNT\":\"12\",\"DISPOSAL_TYPE\":\"분무식,독이식\",\"KAPTD_PCNT\":\"496\",\"KAPTD_PCNTU\":\"608\",\"KAPTD_CCCNT\":\"147\",\"WELFARE_FACILITY\":\"관리사무소, 노인정, 보육시설, 어린이놀이터\",\"KAPTD_ECAPA\":\"2750\",\"CODE_EMGR\":\"상주선임\",\"CODE_WSUPPLY\":\"고가수조식\",\"CODE_STR\":\"철근콘크리트구조\",\"CODE_ECON\":\"종합계약\",\"CODE_FALARM\":\"P형\",\"CODE_ELEV\":\"위탁관리\",\"CODE_NET\":\"무\",\"KAPTD_WTIMEBUS\":\"5~10분이내\",\"CONVENIENT_FACILITY\":\"관공서(동사무소)\",\"EDUCATION_FACILITY\":\"초등학교(대방초등학교) 중학교(강남중교) 고등학교(서울공업고교)\",\"CODE_HALL\":\"계단식\",\"KAPT_USEDATE\":\"1997-05-10\",\"KAPT_MAREA\":87502.98,\"SUBWAY_STATION\":\"신풍\",\"SUBWAY_LINE\":\"1호선, 7호선\",\"KAPTD_WTIMESUB\":\"5~10분이내\",\"KAPT_CODE\":\"A15005705\"},\"resultMap_kapt_areacnt\":[{\"KAPTDA_CNT\":478,\"AREA_GBN\":1,\"KAPT_CODE\":\"A15005705\"},{\"KAPTDA_CNT\":696,\"AREA_GBN\":2,\"KAPT_CODE\":\"A15005705\"},{\"KAPTDA_CNT\":0,\"AREA_GBN\":3,\"KAPT_CODE\":\"\"},{\"KAPTDA_CNT\":0,\"AREA_GBN\":4,\"KAPT_CODE\":\"\"}],\"resultMap_kapt_addrList\":[{\"ADDR\":\"서울특별시 영등포구 신길동 897-1 삼환아파트\",\"KAPT_CODE\":\"A15005705\",\"ADDR_GBN\":\"B\"},{\"ADDR\":\"서울특별시 영등포구 여의대방로43나길 25\",\"KAPT_CODE\":\"A15005705\",\"ADDR_GBN\":\"R\"},{\"ADDR\":\"서울특별시 영등포구 여의대방로43라길 9\",\"KAPT_CODE\":\"A15005705\",\"ADDR_GBN\":\"R\"}]}\n",
      "16 / 23 신길삼환 처리완료\n"
     ]
    },
    {
     "name": "stderr",
     "output_type": "stream",
     "text": [
      "2018/03/22 21:24:52 example.com 200 OK\n",
      "2018/03/22 21:24:52 example.com 200 OK\n"
     ]
    },
    {
     "name": "stdout",
     "output_type": "stream",
     "text": [
      "{\"resultMap_match\":{\"KAPT_CODE\":\"A15086007\",\"TOWN_CODE\":1058},\"resultMap_kapt\":{\"CODE_HEAT\":\"개별난방\",\"SUBWAY_STATION\":\"신풍\",\"SUBWAY_LINE\":\"7호선\",\"KAPT_PE1AREA\":0,\"KAPT_PE2AREA\":0,\"KAPT_PE3AREA\":0,\"KAPT_PEAREA\":0,\"KAPT_PE4AREA\":0,\"DISPOSAL_TYPE\":\"분무식,독이식\",\"KAPT_PE5AREA\":0,\"KAPTD_ECNTB\":16,\"KAPTD_ECNTC\":0,\"KAPT_PHAREA\":0,\"KAPTD_ECNTD\":0,\"KAPTD_SCNT\":\"9\",\"KAPTD_ECNTE\":0,\"CODE_ECON\":\"종합계약\",\"KAPT_PPAREA\":0,\"KAPTD_CCCNT\":\"16\",\"KAPTD_ECNTM\":0,\"KAPT_TEL\":\"028320181\",\"WELFARE_FACILITY\":\"관리사무소, 노인정, 어린이놀이터, 자전거보관소\",\"KAPTD_ECNTP\":0,\"KAPT_FAX\":\"028320182\",\"KAPT_ACC_COMPANY\":\"-\",\"KAPT_MGR_CNT\":\"7\",\"KAPT_BCOMPANY\":\"우성건설\",\"CONVENIENT_FACILITY\":\"관공서(동사무소) 병원(현대의원) 공원(보라매공원) 기타(돈보스코청소년센터)\",\"CODE_DISINF\":\"위탁관리\",\"CODE_EMGR\":\"상주선임\",\"CODE_MGR\":\"위탁관리\",\"KAPTD_PCNTU\":\"0\",\"CODE_EMAINT\":\"위탁관리\",\"KAPT_MCAREA\":0,\"CODE_ELEV\":\"위탁관리\",\"KAPT_MEAREA\":0,\"CODE_NET\":\"무\",\"KAPT_MHAREA\":0,\"KAPT_USEDATE\":\"1986-09-25\",\"KAPTD_WTIMEBUS\":\"5~10분이내\",\"KAPT_CODE\":\"A15086007\",\"CODE_APT\":\"아파트\",\"CODE_WSUPPLY\":\"고가수조식\",\"KAPT_MPAREA\":0,\"KAPT_MAREA\":51973.9,\"KAPT_PAREA\":0,\"KAPT_TAREA\":68385.75,\"CODE_FALARM\":\"P형\",\"KAPTD_SEC_COM\":\"스마일종합관리\",\"KAPTD_ECAPA\":\"1870\",\"CODE_STR\":\"철근콘크리트구조\",\"APPL_CODE\":null,\"KAPT_ME1AREA\":0,\"KAPT_ACOMPANY\":\"우성건설\",\"KAPT_ME2AREA\":0,\"KAPT_ME3AREA\":0,\"CODE_GARBAGE\":\"음식물쓰레기종량제\",\"KAPT_ME4AREA\":0,\"KAPT_ME5AREA\":0,\"CODE_CLTIME\":\"5\",\"CODE_HALL\":\"혼합식\",\"CODE_STIME\":\"7\",\"KAPT_NAME\":\"신길우성2차\",\"KAPT_DONG_CNT\":\"7\",\"CODE_CLEAN\":\"위탁관리\",\"CODE_SALE\":\"분양\",\"CODE_SEC\":\"위탁관리\",\"EMPTY_HO_CNT\":0,\"APPL_PRODATE\":\"\",\"KAPT_URL\":\"-\",\"KAPTD_CLCNT\":\"6\",\"KAPTD_PCNT\":\"297\",\"KAPTD_WTIMESUB\":\"5~10분이내\",\"KAPTD_DCNT\":\"12\",\"EDUCATION_FACILITY\":\"초등학교(대길초등학교) 중학교(대방중학교) 고등학교(영신고등학교)\",\"KAPT_CCOMPANY\":\"대원종합관리(주)\"},\"resultMap_kapt_areacnt\":[{\"KAPTDA_CNT\":120,\"AREA_GBN\":1,\"KAPT_CODE\":\"A15086007\"},{\"KAPTDA_CNT\":605,\"AREA_GBN\":2,\"KAPT_CODE\":\"A15086007\"},{\"KAPTDA_CNT\":null,\"AREA_GBN\":3,\"KAPT_CODE\":null},{\"KAPTDA_CNT\":null,\"AREA_GBN\":4,\"KAPT_CODE\":null}],\"resultMap_kapt_addrList\":[{\"ADDR\":\"서울특별시 영등포구 신길동 4518 우성2\",\"KAPT_CODE\":\"A15086007\",\"ADDR_GBN\":\"B\"},{\"ADDR\":\"서울특별시 영등포구 대방천로 180\",\"KAPT_CODE\":\"A15086007\",\"ADDR_GBN\":\"R\"}]}\n",
      "{\"resultMap_match\":{\"KAPT_CODE\":\"A15086007\",\"TOWN_CODE\":1058},\"resultMap_kapt\":{\"KAPT_NAME\":\"신길우성2차\",\"CODE_SALE\":\"분양\",\"CODE_HEAT\":\"개별난방\",\"KAPT_TAREA\":68385.75,\"KAPT_DONG_CNT\":\"7\",\"KAPT_BCOMPANY\":\"우성건설\",\"KAPT_ACOMPANY\":\"우성건설\",\"KAPT_TEL\":\"028320181\",\"KAPT_FAX\":\"028320182\",\"KAPT_URL\":\"-\",\"CODE_APT\":\"아파트\",\"CODE_MGR\":\"위탁관리\",\"KAPT_MGR_CNT\":\"7\",\"KAPT_CCOMPANY\":\"대원종합관리(주)\",\"CODE_SEC\":\"위탁관리\",\"KAPTD_SCNT\":\"9\",\"KAPTD_SEC_COM\":\"스마일종합관리\",\"CODE_CLEAN\":\"위탁관리\",\"KAPTD_CLCNT\":\"6\",\"CODE_GARBAGE\":\"음식물쓰레기종량제\",\"CODE_DISINF\":\"위탁관리\",\"KAPTD_DCNT\":\"12\",\"DISPOSAL_TYPE\":\"분무식,독이식\",\"KAPTD_PCNT\":\"297\",\"KAPTD_PCNTU\":\"0\",\"KAPTD_CCCNT\":\"16\",\"WELFARE_FACILITY\":\"관리사무소, 노인정, 어린이놀이터, 자전거보관소\",\"KAPTD_ECAPA\":\"1870\",\"CODE_EMGR\":\"상주선임\",\"CODE_WSUPPLY\":\"고가수조식\",\"CODE_STR\":\"철근콘크리트구조\",\"CODE_ECON\":\"종합계약\",\"CODE_FALARM\":\"P형\",\"CODE_ELEV\":\"위탁관리\",\"CODE_NET\":\"무\",\"KAPTD_WTIMEBUS\":\"5~10분이내\",\"CONVENIENT_FACILITY\":\"관공서(동사무소) 병원(현대의원) 공원(보라매공원) 기타(돈보스코청소년센터)\",\"EDUCATION_FACILITY\":\"초등학교(대길초등학교) 중학교(대방중학교) 고등학교(영신고등학교)\",\"CODE_HALL\":\"혼합식\",\"KAPT_USEDATE\":\"1986-09-25\",\"KAPT_MAREA\":51973.9,\"SUBWAY_STATION\":\"신풍\",\"SUBWAY_LINE\":\"7호선\",\"KAPTD_WTIMESUB\":\"5~10분이내\",\"KAPT_CODE\":\"A15086007\"},\"resultMap_kapt_areacnt\":[{\"KAPTDA_CNT\":120,\"AREA_GBN\":1,\"KAPT_CODE\":\"A15086007\"},{\"KAPTDA_CNT\":605,\"AREA_GBN\":2,\"KAPT_CODE\":\"A15086007\"},{\"KAPTDA_CNT\":0,\"AREA_GBN\":3,\"KAPT_CODE\":\"\"},{\"KAPTDA_CNT\":0,\"AREA_GBN\":4,\"KAPT_CODE\":\"\"}],\"resultMap_kapt_addrList\":[{\"ADDR\":\"서울특별시 영등포구 신길동 4518 우성2\",\"KAPT_CODE\":\"A15086007\",\"ADDR_GBN\":\"B\"},{\"ADDR\":\"서울특별시 영등포구 대방천로 180\",\"KAPT_CODE\":\"A15086007\",\"ADDR_GBN\":\"R\"}]}\n",
      "17 / 23 신길우성2차 처리완료\n",
      "{\"resultMap_match\":{\"KAPT_CODE\":\"A15086004\",\"TOWN_CODE\":1059},\"resultMap_kapt\":{\"CODE_HEAT\":\"개별난방\",\"SUBWAY_STATION\":\"신풍\",\"SUBWAY_LINE\":\"7호선\",\"KAPT_PE1AREA\":0,\"KAPT_PE2AREA\":0,\"KAPT_PE3AREA\":0,\"KAPT_PEAREA\":0,\"KAPT_PE4AREA\":0,\"DISPOSAL_TYPE\":\"분무식\",\"KAPT_PE5AREA\":0,\"KAPTD_ECNTB\":0,\"KAPTD_ECNTC\":0,\"KAPT_PHAREA\":0,\"KAPTD_ECNTD\":0,\"KAPTD_SCNT\":\"9\",\"KAPTD_ECNTE\":0,\"CODE_ECON\":\"종합계약\",\"KAPT_PPAREA\":0,\"KAPTD_CCCNT\":\"60\",\"KAPTD_ECNTM\":0,\"KAPT_TEL\":\"02-848-3078\",\"WELFARE_FACILITY\":\"관리사무소, 노인정, 어린이놀이터, 자전거보관소\",\"KAPTD_ECNTP\":13,\"KAPT_FAX\":\"02-845-0811\",\"KAPT_ACC_COMPANY\":\"기웅정보통신\",\"KAPT_MGR_CNT\":\"5\",\"KAPT_BCOMPANY\":\"우성건설\",\"CONVENIENT_FACILITY\":\"관공서(동사무소) 병원(이화의원) 대형상가(하이마트-신풍점) 공원(보라매공원) 기타(돈보스코청소년센터)\",\"CODE_DISINF\":\"위탁관리(직영+위탁)\",\"CODE_EMGR\":\"위탁선임\",\"CODE_MGR\":\"자치관리\",\"KAPTD_PCNTU\":\"0\",\"CODE_EMAINT\":\"위탁관리\",\"KAPT_MCAREA\":10440.15,\"CODE_ELEV\":\"위탁관리(직영+위탁)\",\"KAPT_MEAREA\":0,\"CODE_NET\":\"무\",\"KAPT_MHAREA\":0,\"KAPT_USEDATE\":\"1989-04-11\",\"KAPTD_WTIMEBUS\":\"5~10분이내\",\"KAPT_CODE\":\"A15086004\",\"CODE_APT\":\"아파트\",\"CODE_WSUPPLY\":\"고가수조식\",\"KAPT_MPAREA\":33543.42,\"KAPT_MAREA\":33366.24,\"KAPT_PAREA\":0,\"KAPT_TAREA\":48820,\"CODE_FALARM\":\"P형\",\"KAPTD_SEC_COM\":\"-\",\"KAPTD_ECAPA\":\"950\",\"CODE_STR\":\"철근콘크리트구조\",\"APPL_CODE\":null,\"KAPT_ME1AREA\":0,\"KAPT_ACOMPANY\":\"우성건설\",\"KAPT_ME2AREA\":0,\"KAPT_ME3AREA\":0,\"CODE_GARBAGE\":\"음식물쓰레기종량제\",\"KAPT_ME4AREA\":0,\"KAPT_ME5AREA\":0,\"CODE_CLTIME\":\"7\",\"CODE_HALL\":\"혼합식\",\"CODE_STIME\":\"16\",\"KAPT_NAME\":\"신길우성3차아파트\",\"KAPT_DONG_CNT\":\"5\",\"CODE_CLEAN\":\"위탁관리(직영+위탁)\",\"CODE_SALE\":\"분양\",\"CODE_SEC\":\"자치관리\",\"EMPTY_HO_CNT\":0,\"APPL_PRODATE\":\"\",\"KAPT_URL\":\"ws3apt@hanmail.net\",\"KAPTD_CLCNT\":\"3\",\"KAPTD_PCNT\":\"192\",\"KAPTD_WTIMESUB\":\"5~10분이내\",\"KAPTD_DCNT\":\"4\",\"EDUCATION_FACILITY\":\"초등학교(대길초등학교) 고등학교(영신고등학교)\",\"KAPT_CCOMPANY\":\"-\"},\"resultMap_kapt_areacnt\":[{\"KAPTDA_CNT\":139,\"AREA_GBN\":1,\"KAPT_CODE\":\"A15086004\"},{\"KAPTDA_CNT\":338,\"AREA_GBN\":2,\"KAPT_CODE\":\"A15086004\"},{\"KAPTDA_CNT\":null,\"AREA_GBN\":3,\"KAPT_CODE\":null},{\"KAPTDA_CNT\":null,\"AREA_GBN\":4,\"KAPT_CODE\":null}],\"resultMap_kapt_addrList\":[{\"ADDR\":\"서울특별시 영등포구 신길동 4656 신길우성3차아파트\",\"KAPT_CODE\":\"A15086004\",\"ADDR_GBN\":\"B\"},{\"ADDR\":\"서울특별시 영등포구 대방천로14길 32\",\"KAPT_CODE\":\"A15086004\",\"ADDR_GBN\":\"R\"}]}\n",
      "{\"resultMap_match\":{\"KAPT_CODE\":\"A15086004\",\"TOWN_CODE\":1059},\"resultMap_kapt\":{\"KAPT_NAME\":\"신길우성3차아파트\",\"CODE_SALE\":\"분양\",\"CODE_HEAT\":\"개별난방\",\"KAPT_TAREA\":48820,\"KAPT_DONG_CNT\":\"5\",\"KAPT_BCOMPANY\":\"우성건설\",\"KAPT_ACOMPANY\":\"우성건설\",\"KAPT_TEL\":\"02-848-3078\",\"KAPT_FAX\":\"02-845-0811\",\"KAPT_URL\":\"ws3apt@hanmail.net\",\"CODE_APT\":\"아파트\",\"CODE_MGR\":\"자치관리\",\"KAPT_MGR_CNT\":\"5\",\"KAPT_CCOMPANY\":\"-\",\"CODE_SEC\":\"자치관리\",\"KAPTD_SCNT\":\"9\",\"KAPTD_SEC_COM\":\"-\",\"CODE_CLEAN\":\"위탁관리(직영+위탁)\",\"KAPTD_CLCNT\":\"3\",\"CODE_GARBAGE\":\"음식물쓰레기종량제\",\"CODE_DISINF\":\"위탁관리(직영+위탁)\",\"KAPTD_DCNT\":\"4\",\"DISPOSAL_TYPE\":\"분무식\",\"KAPTD_PCNT\":\"192\",\"KAPTD_PCNTU\":\"0\",\"KAPTD_CCCNT\":\"60\",\"WELFARE_FACILITY\":\"관리사무소, 노인정, 어린이놀이터, 자전거보관소\",\"KAPTD_ECAPA\":\"950\",\"CODE_EMGR\":\"위탁선임\",\"CODE_WSUPPLY\":\"고가수조식\",\"CODE_STR\":\"철근콘크리트구조\",\"CODE_ECON\":\"종합계약\",\"CODE_FALARM\":\"P형\",\"CODE_ELEV\":\"위탁관리(직영+위탁)\",\"CODE_NET\":\"무\",\"KAPTD_WTIMEBUS\":\"5~10분이내\",\"CONVENIENT_FACILITY\":\"관공서(동사무소) 병원(이화의원) 대형상가(하이마트-신풍점) 공원(보라매공원) 기타(돈보스코청소년센터)\",\"EDUCATION_FACILITY\":\"초등학교(대길초등학교) 고등학교(영신고등학교)\",\"CODE_HALL\":\"혼합식\",\"KAPT_USEDATE\":\"1989-04-11\",\"KAPT_MAREA\":33366.24,\"SUBWAY_STATION\":\"신풍\",\"SUBWAY_LINE\":\"7호선\",\"KAPTD_WTIMESUB\":\"5~10분이내\",\"KAPT_CODE\":\"A15086004\"},\"resultMap_kapt_areacnt\":[{\"KAPTDA_CNT\":139,\"AREA_GBN\":1,\"KAPT_CODE\":\"A15086004\"},{\"KAPTDA_CNT\":338,\"AREA_GBN\":2,\"KAPT_CODE\":\"A15086004\"},{\"KAPTDA_CNT\":0,\"AREA_GBN\":3,\"KAPT_CODE\":\"\"},{\"KAPTDA_CNT\":0,\"AREA_GBN\":4,\"KAPT_CODE\":\"\"}],\"resultMap_kapt_addrList\":[{\"ADDR\":\"서울특별시 영등포구 신길동 4656 신길우성3차아파트\",\"KAPT_CODE\":\"A15086004\",\"ADDR_GBN\":\"B\"},{\"ADDR\":\"서울특별시 영등포구 대방천로14길 32\",\"KAPT_CODE\":\"A15086004\",\"ADDR_GBN\":\"R\"}]}\n",
      "18 / 23 신길우성3차아파트 처리완료\n"
     ]
    },
    {
     "name": "stderr",
     "output_type": "stream",
     "text": [
      "2018/03/22 21:24:52 example.com 200 OK\n"
     ]
    },
    {
     "name": "stdout",
     "output_type": "stream",
     "text": [
      "{\"resultMap_match\":{\"KAPT_CODE\":\"A15005001\",\"TOWN_CODE\":1060},\"resultMap_kapt\":{\"CODE_HEAT\":\"개별난방\",\"SUBWAY_STATION\":\"신길\",\"SUBWAY_LINE\":\"1호선, 5호선\",\"KAPT_PE1AREA\":0,\"KAPT_PE2AREA\":0,\"KAPT_PE3AREA\":0,\"KAPT_PEAREA\":0,\"KAPT_PE4AREA\":0,\"DISPOSAL_TYPE\":\"분무식\",\"KAPT_PE5AREA\":0,\"KAPTD_ECNTB\":0,\"KAPTD_ECNTC\":0,\"KAPT_PHAREA\":0,\"KAPTD_ECNTD\":0,\"KAPTD_SCNT\":\"10\",\"KAPTD_ECNTE\":0,\"CODE_ECON\":\"단일계약\",\"KAPT_PPAREA\":0,\"KAPTD_CCCNT\":\"88\",\"KAPTD_ECNTM\":0,\"KAPT_TEL\":\"02)849-1156\",\"WELFARE_FACILITY\":\"관리사무소, 노인정, 어린이놀이터, 자전거보관소\",\"KAPTD_ECNTP\":17,\"KAPT_FAX\":\"02)849-1157\",\"KAPT_ACC_COMPANY\":\"이지데이터\",\"KAPT_MGR_CNT\":\"5\",\"KAPT_BCOMPANY\":\"우성건설\",\"CONVENIENT_FACILITY\":\"관공서(동사무소) 병원(서울대윤병원) 대형상가(삼성디지털프라자) 공원(영등포공원)\",\"CODE_DISINF\":\"기타\",\"CODE_EMGR\":\"상주선임\",\"CODE_MGR\":\"위탁관리\",\"KAPTD_PCNTU\":\"89\",\"CODE_EMAINT\":\"위탁관리\",\"KAPT_MCAREA\":0,\"CODE_ELEV\":\"기타\",\"KAPT_MEAREA\":0,\"CODE_NET\":\"무\",\"KAPT_MHAREA\":0,\"KAPT_USEDATE\":\"1991-05-04\",\"KAPTD_WTIMEBUS\":\"5분이내\",\"KAPT_CODE\":\"A15005001\",\"CODE_APT\":\"아파트\",\"CODE_WSUPPLY\":\"고가수조식\",\"KAPT_MPAREA\":0,\"KAPT_MAREA\":38900,\"KAPT_PAREA\":0,\"KAPT_TAREA\":53207.29,\"CODE_FALARM\":\"P형\",\"KAPTD_SEC_COM\":\"디엠지관리\",\"KAPTD_ECAPA\":\"1400\",\"CODE_STR\":\"철근콘크리트구조\",\"APPL_CODE\":null,\"KAPT_ME1AREA\":0,\"KAPT_ACOMPANY\":\"우성건설\",\"KAPT_ME2AREA\":0,\"KAPT_ME3AREA\":0,\"CODE_GARBAGE\":\"음식물쓰레기종량제\",\"KAPT_ME4AREA\":0,\"KAPT_ME5AREA\":0,\"CODE_CLTIME\":\"6\",\"CODE_HALL\":\"계단식\",\"CODE_STIME\":\"16\",\"KAPT_NAME\":\"신길우성4차\",\"KAPT_DONG_CNT\":\"4\",\"CODE_CLEAN\":\"기타\",\"CODE_SALE\":\"분양\",\"CODE_SEC\":\"기타\",\"EMPTY_HO_CNT\":0,\"APPL_PRODATE\":\"\",\"KAPT_URL\":\"우성4차.aptgate.co.kr\",\"KAPTD_CLCNT\":\"5\",\"KAPTD_PCNT\":\"203\",\"KAPTD_WTIMESUB\":\"5분이내\",\"KAPTD_DCNT\":\"12\",\"EDUCATION_FACILITY\":\"중학교(영원중교) 고등학교(영등포여고교, 장훈고등학교)\",\"KAPT_CCOMPANY\":\"(주)디엠지관리\"},\"resultMap_kapt_areacnt\":[{\"KAPTDA_CNT\":null,\"AREA_GBN\":1,\"KAPT_CODE\":null},{\"KAPTDA_CNT\":476,\"AREA_GBN\":2,\"KAPT_CODE\":\"A15005001\"},{\"KAPTDA_CNT\":null,\"AREA_GBN\":3,\"KAPT_CODE\":null},{\"KAPTDA_CNT\":null,\"AREA_GBN\":4,\"KAPT_CODE\":null}],\"resultMap_kapt_addrList\":[{\"ADDR\":\"서울특별시 영등포구 신길동 102-8 신길우성아파트\",\"KAPT_CODE\":\"A15005001\",\"ADDR_GBN\":\"B\"},{\"ADDR\":\"서울특별시 영등포구 영등포로64길 8\",\"KAPT_CODE\":\"A15005001\",\"ADDR_GBN\":\"R\"},{\"ADDR\":\"서울특별시 영등포구 영등포로64길 11\",\"KAPT_CODE\":\"A15005001\",\"ADDR_GBN\":\"R\"}]}\n",
      "{\"resultMap_match\":{\"KAPT_CODE\":\"A15005001\",\"TOWN_CODE\":1060},\"resultMap_kapt\":{\"KAPT_NAME\":\"신길우성4차\",\"CODE_SALE\":\"분양\",\"CODE_HEAT\":\"개별난방\",\"KAPT_TAREA\":53207.29,\"KAPT_DONG_CNT\":\"4\",\"KAPT_BCOMPANY\":\"우성건설\",\"KAPT_ACOMPANY\":\"우성건설\",\"KAPT_TEL\":\"02)849-1156\",\"KAPT_FAX\":\"02)849-1157\",\"KAPT_URL\":\"우성4차.aptgate.co.kr\",\"CODE_APT\":\"아파트\",\"CODE_MGR\":\"위탁관리\",\"KAPT_MGR_CNT\":\"5\",\"KAPT_CCOMPANY\":\"(주)디엠지관리\",\"CODE_SEC\":\"기타\",\"KAPTD_SCNT\":\"10\",\"KAPTD_SEC_COM\":\"디엠지관리\",\"CODE_CLEAN\":\"기타\",\"KAPTD_CLCNT\":\"5\",\"CODE_GARBAGE\":\"음식물쓰레기종량제\",\"CODE_DISINF\":\"기타\",\"KAPTD_DCNT\":\"12\",\"DISPOSAL_TYPE\":\"분무식\",\"KAPTD_PCNT\":\"203\",\"KAPTD_PCNTU\":\"89\",\"KAPTD_CCCNT\":\"88\",\"WELFARE_FACILITY\":\"관리사무소, 노인정, 어린이놀이터, 자전거보관소\",\"KAPTD_ECAPA\":\"1400\",\"CODE_EMGR\":\"상주선임\",\"CODE_WSUPPLY\":\"고가수조식\",\"CODE_STR\":\"철근콘크리트구조\",\"CODE_ECON\":\"단일계약\",\"CODE_FALARM\":\"P형\",\"CODE_ELEV\":\"기타\",\"CODE_NET\":\"무\",\"KAPTD_WTIMEBUS\":\"5분이내\",\"CONVENIENT_FACILITY\":\"관공서(동사무소) 병원(서울대윤병원) 대형상가(삼성디지털프라자) 공원(영등포공원)\",\"EDUCATION_FACILITY\":\"중학교(영원중교) 고등학교(영등포여고교, 장훈고등학교)\",\"CODE_HALL\":\"계단식\",\"KAPT_USEDATE\":\"1991-05-04\",\"KAPT_MAREA\":38900,\"SUBWAY_STATION\":\"신길\",\"SUBWAY_LINE\":\"1호선, 5호선\",\"KAPTD_WTIMESUB\":\"5분이내\",\"KAPT_CODE\":\"A15005001\"},\"resultMap_kapt_areacnt\":[{\"KAPTDA_CNT\":0,\"AREA_GBN\":1,\"KAPT_CODE\":\"\"},{\"KAPTDA_CNT\":476,\"AREA_GBN\":2,\"KAPT_CODE\":\"A15005001\"},{\"KAPTDA_CNT\":0,\"AREA_GBN\":3,\"KAPT_CODE\":\"\"},{\"KAPTDA_CNT\":0,\"AREA_GBN\":4,\"KAPT_CODE\":\"\"}],\"resultMap_kapt_addrList\":[{\"ADDR\":\"서울특별시 영등포구 신길동 102-8 신길우성아파트\",\"KAPT_CODE\":\"A15005001\",\"ADDR_GBN\":\"B\"},{\"ADDR\":\"서울특별시 영등포구 영등포로64길 8\",\"KAPT_CODE\":\"A15005001\",\"ADDR_GBN\":\"R\"},{\"ADDR\":\"서울특별시 영등포구 영등포로64길 11\",\"KAPT_CODE\":\"A15005001\",\"ADDR_GBN\":\"R\"}]}\n",
      "19 / 23 신길우성4차 처리완료\n"
     ]
    },
    {
     "name": "stderr",
     "output_type": "stream",
     "text": [
      "2018/03/22 21:24:52 example.com 200 OK\n"
     ]
    },
    {
     "name": "stdout",
     "output_type": "stream",
     "text": [
      "{\"resultMap_match\":{\"KAPT_CODE\":\"A15005301\",\"TOWN_CODE\":1061},\"resultMap_kapt\":{\"CODE_HEAT\":\"개별난방\",\"SUBWAY_STATION\":\"신풍\",\"SUBWAY_LINE\":\"2호선, 5호선, 7호선\",\"KAPT_PE1AREA\":0,\"KAPT_PE2AREA\":0,\"KAPT_PE3AREA\":0,\"KAPT_PEAREA\":0,\"KAPT_PE4AREA\":0,\"DISPOSAL_TYPE\":\"분무식,독이식\",\"KAPT_PE5AREA\":0,\"KAPTD_ECNTB\":0,\"KAPTD_ECNTC\":0,\"KAPT_PHAREA\":0,\"KAPTD_ECNTD\":0,\"KAPTD_SCNT\":\"8\",\"KAPTD_ECNTE\":0,\"CODE_ECON\":\"단일계약\",\"KAPT_PPAREA\":0,\"KAPTD_CCCNT\":\"32\",\"KAPTD_ECNTM\":0,\"KAPT_TEL\":\"02-841-9412\",\"WELFARE_FACILITY\":\"관리사무소, 노인정, 주민공동시설, 어린이놀이터, 자전거보관소\",\"KAPTD_ECNTP\":9,\"KAPT_FAX\":\"02-6673-9412\",\"KAPT_ACC_COMPANY\":\"한국전산\",\"KAPT_MGR_CNT\":\"4\",\"KAPT_BCOMPANY\":\"우성건설\",\"CONVENIENT_FACILITY\":\"관공서(동사무소) 병원(윤면소아과의원) 대형상가(사러가쇼핑센터)\",\"CODE_DISINF\":\"위탁관리(직영+위탁)\",\"CODE_EMGR\":\"위탁선임\",\"CODE_MGR\":\"위탁관리\",\"KAPTD_PCNTU\":\"85\",\"CODE_EMAINT\":\"위탁관리\",\"KAPT_MCAREA\":6724.97,\"CODE_ELEV\":\"위탁관리\",\"KAPT_MEAREA\":0,\"CODE_NET\":\"무\",\"KAPT_MHAREA\":0,\"KAPT_USEDATE\":\"1993-10-26\",\"KAPTD_WTIMEBUS\":\"10~15분이내\",\"KAPT_CODE\":\"A15005301\",\"CODE_APT\":\"아파트\",\"CODE_WSUPPLY\":\"고가수조식\",\"KAPT_MPAREA\":27278.56,\"KAPT_MAREA\":27278.58,\"KAPT_PAREA\":0,\"KAPT_TAREA\":34003.531,\"CODE_FALARM\":\"P형\",\"KAPTD_SEC_COM\":\"태림주택종합\",\"KAPTD_ECAPA\":\"750\",\"CODE_STR\":\"철근콘크리트구조\",\"APPL_CODE\":null,\"KAPT_ME1AREA\":0,\"KAPT_ACOMPANY\":\"우성건설\",\"KAPT_ME2AREA\":0,\"KAPT_ME3AREA\":0,\"CODE_GARBAGE\":\"음식물쓰레기종량제\",\"KAPT_ME4AREA\":0,\"KAPT_ME5AREA\":0,\"CODE_CLTIME\":\"6\",\"CODE_HALL\":\"계단식\",\"CODE_STIME\":\"15\",\"KAPT_NAME\":\"신길우성5차\",\"KAPT_DONG_CNT\":\"3\",\"CODE_CLEAN\":\"위탁관리(직영+위탁)\",\"CODE_SALE\":\"분양\",\"CODE_SEC\":\"자치관리(직영)\",\"EMPTY_HO_CNT\":0,\"APPL_PRODATE\":\"\",\"KAPT_URL\":\"-\",\"KAPTD_CLCNT\":\"3\",\"KAPTD_PCNT\":\"149\",\"KAPTD_WTIMESUB\":\"10~15분이내\",\"KAPTD_DCNT\":\"12\",\"EDUCATION_FACILITY\":\"초등학교(도림초등학교) 중학교(대영중교) 고등학교(대영고교)\",\"KAPT_CCOMPANY\":\"태림주택종합관리(주)\"},\"resultMap_kapt_areacnt\":[{\"KAPTDA_CNT\":null,\"AREA_GBN\":1,\"KAPT_CODE\":null},{\"KAPTDA_CNT\":321,\"AREA_GBN\":2,\"KAPT_CODE\":\"A15005301\"},{\"KAPTDA_CNT\":null,\"AREA_GBN\":3,\"KAPT_CODE\":null},{\"KAPTDA_CNT\":null,\"AREA_GBN\":4,\"KAPT_CODE\":null}],\"resultMap_kapt_addrList\":[{\"ADDR\":\"서울특별시 영등포구 신길동 4933 신길우성5차아파트\",\"KAPT_CODE\":\"A15005301\",\"ADDR_GBN\":\"B\"},{\"ADDR\":\"서울특별시 영등포구 도신로 100\",\"KAPT_CODE\":\"A15005301\",\"ADDR_GBN\":\"R\"}]}\n",
      "{\"resultMap_match\":{\"KAPT_CODE\":\"A15005301\",\"TOWN_CODE\":1061},\"resultMap_kapt\":{\"KAPT_NAME\":\"신길우성5차\",\"CODE_SALE\":\"분양\",\"CODE_HEAT\":\"개별난방\",\"KAPT_TAREA\":34003.531,\"KAPT_DONG_CNT\":\"3\",\"KAPT_BCOMPANY\":\"우성건설\",\"KAPT_ACOMPANY\":\"우성건설\",\"KAPT_TEL\":\"02-841-9412\",\"KAPT_FAX\":\"02-6673-9412\",\"KAPT_URL\":\"-\",\"CODE_APT\":\"아파트\",\"CODE_MGR\":\"위탁관리\",\"KAPT_MGR_CNT\":\"4\",\"KAPT_CCOMPANY\":\"태림주택종합관리(주)\",\"CODE_SEC\":\"자치관리(직영)\",\"KAPTD_SCNT\":\"8\",\"KAPTD_SEC_COM\":\"태림주택종합\",\"CODE_CLEAN\":\"위탁관리(직영+위탁)\",\"KAPTD_CLCNT\":\"3\",\"CODE_GARBAGE\":\"음식물쓰레기종량제\",\"CODE_DISINF\":\"위탁관리(직영+위탁)\",\"KAPTD_DCNT\":\"12\",\"DISPOSAL_TYPE\":\"분무식,독이식\",\"KAPTD_PCNT\":\"149\",\"KAPTD_PCNTU\":\"85\",\"KAPTD_CCCNT\":\"32\",\"WELFARE_FACILITY\":\"관리사무소, 노인정, 주민공동시설, 어린이놀이터, 자전거보관소\",\"KAPTD_ECAPA\":\"750\",\"CODE_EMGR\":\"위탁선임\",\"CODE_WSUPPLY\":\"고가수조식\",\"CODE_STR\":\"철근콘크리트구조\",\"CODE_ECON\":\"단일계약\",\"CODE_FALARM\":\"P형\",\"CODE_ELEV\":\"위탁관리\",\"CODE_NET\":\"무\",\"KAPTD_WTIMEBUS\":\"10~15분이내\",\"CONVENIENT_FACILITY\":\"관공서(동사무소) 병원(윤면소아과의원) 대형상가(사러가쇼핑센터)\",\"EDUCATION_FACILITY\":\"초등학교(도림초등학교) 중학교(대영중교) 고등학교(대영고교)\",\"CODE_HALL\":\"계단식\",\"KAPT_USEDATE\":\"1993-10-26\",\"KAPT_MAREA\":27278.58,\"SUBWAY_STATION\":\"신풍\",\"SUBWAY_LINE\":\"2호선, 5호선, 7호선\",\"KAPTD_WTIMESUB\":\"10~15분이내\",\"KAPT_CODE\":\"A15005301\"},\"resultMap_kapt_areacnt\":[{\"KAPTDA_CNT\":0,\"AREA_GBN\":1,\"KAPT_CODE\":\"\"},{\"KAPTDA_CNT\":321,\"AREA_GBN\":2,\"KAPT_CODE\":\"A15005301\"},{\"KAPTDA_CNT\":0,\"AREA_GBN\":3,\"KAPT_CODE\":\"\"},{\"KAPTDA_CNT\":0,\"AREA_GBN\":4,\"KAPT_CODE\":\"\"}],\"resultMap_kapt_addrList\":[{\"ADDR\":\"서울특별시 영등포구 신길동 4933 신길우성5차아파트\",\"KAPT_CODE\":\"A15005301\",\"ADDR_GBN\":\"B\"},{\"ADDR\":\"서울특별시 영등포구 도신로 100\",\"KAPT_CODE\":\"A15005301\",\"ADDR_GBN\":\"R\"}]}\n",
      "20 / 23 신길우성5차 처리완료\n"
     ]
    },
    {
     "name": "stderr",
     "output_type": "stream",
     "text": [
      "2018/03/22 21:24:52 example.com 200 OK\n",
      "2018/03/22 21:24:52 example.com 200 OK\n"
     ]
    },
    {
     "name": "stdout",
     "output_type": "stream",
     "text": [
      "{\"resultMap_match\":{\"KAPT_CODE\":\"A15005602\",\"TOWN_CODE\":1062},\"resultMap_kapt\":{\"CODE_HEAT\":\"개별난방\",\"SUBWAY_STATION\":\"신풍\",\"SUBWAY_LINE\":\"7호선\",\"KAPT_PE1AREA\":0,\"KAPT_PE2AREA\":0,\"KAPT_PE3AREA\":0,\"KAPT_PEAREA\":0,\"KAPT_PE4AREA\":0,\"DISPOSAL_TYPE\":\"분무식\",\"KAPT_PE5AREA\":0,\"KAPTD_ECNTB\":0,\"KAPTD_ECNTC\":0,\"KAPT_PHAREA\":0,\"KAPTD_ECNTD\":0,\"KAPTD_SCNT\":\"4\",\"KAPTD_ECNTE\":0,\"CODE_ECON\":\"단일계약\",\"KAPT_PPAREA\":0,\"KAPTD_CCCNT\":\"13\",\"KAPTD_ECNTM\":0,\"KAPT_TEL\":\"02-6268-7500\",\"WELFARE_FACILITY\":\"관리사무소, 어린이놀이터, 휴게시설, 자전거보관소\",\"KAPTD_ECNTP\":2,\"KAPT_FAX\":\"842-1929\",\"KAPT_ACC_COMPANY\":\"-\",\"KAPT_MGR_CNT\":\"3\",\"KAPT_BCOMPANY\":\"우창건설(주)\",\"CONVENIENT_FACILITY\":\"관공서(동사무소) 병원(성심병원) 공원(보라매공원) 기타(돈보스코청소년센터)\",\"CODE_DISINF\":\"위탁관리\",\"CODE_EMGR\":\"위탁선임\",\"CODE_MGR\":\"위탁관리\",\"KAPTD_PCNTU\":\"0\",\"CODE_EMAINT\":\"위탁관리\",\"KAPT_MCAREA\":0,\"CODE_ELEV\":\"위탁관리\",\"KAPT_MEAREA\":0,\"CODE_NET\":\"무\",\"KAPT_MHAREA\":0,\"KAPT_USEDATE\":\"1983-08-17\",\"KAPTD_WTIMEBUS\":\"5~10분이내\",\"KAPT_CODE\":\"A15005602\",\"CODE_APT\":\"아파트\",\"CODE_WSUPPLY\":\"부스타방식\",\"KAPT_MPAREA\":18782.2,\"KAPT_MAREA\":13421.68,\"KAPT_PAREA\":0,\"KAPT_TAREA\":18782.2,\"CODE_FALARM\":\"P형\",\"KAPTD_SEC_COM\":\"(주)태룡에스디\",\"KAPTD_ECAPA\":\"500\",\"CODE_STR\":\"철근콘크리트구조\",\"APPL_CODE\":null,\"KAPT_ME1AREA\":0,\"KAPT_ACOMPANY\":\"우창건설\",\"KAPT_ME2AREA\":0,\"KAPT_ME3AREA\":0,\"CODE_GARBAGE\":\"음식물쓰레기종량제\",\"KAPT_ME4AREA\":0,\"KAPT_ME5AREA\":0,\"CODE_CLTIME\":\"6\",\"CODE_HALL\":\"복도식\",\"CODE_STIME\":\"14\",\"KAPT_NAME\":\"신길우창\",\"KAPT_DONG_CNT\":\"2\",\"CODE_CLEAN\":\"위탁관리\",\"CODE_SALE\":\"분양\",\"CODE_SEC\":\"위탁관리\",\"EMPTY_HO_CNT\":0,\"APPL_PRODATE\":\"\",\"KAPT_URL\":\"-\",\"KAPTD_CLCNT\":\"1\",\"KAPTD_PCNT\":\"163\",\"KAPTD_WTIMESUB\":\"5~10분이내\",\"KAPTD_DCNT\":\"12\",\"EDUCATION_FACILITY\":\"초등학교(대길초등학교) 중학교(대방중학교) 고등학교(영신고등학교)\",\"KAPT_CCOMPANY\":\"(주)태룡에스디\"},\"resultMap_kapt_areacnt\":[{\"KAPTDA_CNT\":72,\"AREA_GBN\":1,\"KAPT_CODE\":\"A15005602\"},{\"KAPTDA_CNT\":142,\"AREA_GBN\":2,\"KAPT_CODE\":\"A15005602\"},{\"KAPTDA_CNT\":null,\"AREA_GBN\":3,\"KAPT_CODE\":null},{\"KAPTDA_CNT\":null,\"AREA_GBN\":4,\"KAPT_CODE\":null}],\"resultMap_kapt_addrList\":[{\"ADDR\":\"서울특별시 영등포구 신길동 4501 우창아파트\",\"KAPT_CODE\":\"A15005602\",\"ADDR_GBN\":\"B\"},{\"ADDR\":\"서울특별시 영등포구 여의대방로5길 6\",\"KAPT_CODE\":\"A15005602\",\"ADDR_GBN\":\"R\"}]}\n",
      "{\"resultMap_match\":{\"KAPT_CODE\":\"A15005602\",\"TOWN_CODE\":1062},\"resultMap_kapt\":{\"KAPT_NAME\":\"신길우창\",\"CODE_SALE\":\"분양\",\"CODE_HEAT\":\"개별난방\",\"KAPT_TAREA\":18782.2,\"KAPT_DONG_CNT\":\"2\",\"KAPT_BCOMPANY\":\"우창건설(주)\",\"KAPT_ACOMPANY\":\"우창건설\",\"KAPT_TEL\":\"02-6268-7500\",\"KAPT_FAX\":\"842-1929\",\"KAPT_URL\":\"-\",\"CODE_APT\":\"아파트\",\"CODE_MGR\":\"위탁관리\",\"KAPT_MGR_CNT\":\"3\",\"KAPT_CCOMPANY\":\"(주)태룡에스디\",\"CODE_SEC\":\"위탁관리\",\"KAPTD_SCNT\":\"4\",\"KAPTD_SEC_COM\":\"(주)태룡에스디\",\"CODE_CLEAN\":\"위탁관리\",\"KAPTD_CLCNT\":\"1\",\"CODE_GARBAGE\":\"음식물쓰레기종량제\",\"CODE_DISINF\":\"위탁관리\",\"KAPTD_DCNT\":\"12\",\"DISPOSAL_TYPE\":\"분무식\",\"KAPTD_PCNT\":\"163\",\"KAPTD_PCNTU\":\"0\",\"KAPTD_CCCNT\":\"13\",\"WELFARE_FACILITY\":\"관리사무소, 어린이놀이터, 휴게시설, 자전거보관소\",\"KAPTD_ECAPA\":\"500\",\"CODE_EMGR\":\"위탁선임\",\"CODE_WSUPPLY\":\"부스타방식\",\"CODE_STR\":\"철근콘크리트구조\",\"CODE_ECON\":\"단일계약\",\"CODE_FALARM\":\"P형\",\"CODE_ELEV\":\"위탁관리\",\"CODE_NET\":\"무\",\"KAPTD_WTIMEBUS\":\"5~10분이내\",\"CONVENIENT_FACILITY\":\"관공서(동사무소) 병원(성심병원) 공원(보라매공원) 기타(돈보스코청소년센터)\",\"EDUCATION_FACILITY\":\"초등학교(대길초등학교) 중학교(대방중학교) 고등학교(영신고등학교)\",\"CODE_HALL\":\"복도식\",\"KAPT_USEDATE\":\"1983-08-17\",\"KAPT_MAREA\":13421.68,\"SUBWAY_STATION\":\"신풍\",\"SUBWAY_LINE\":\"7호선\",\"KAPTD_WTIMESUB\":\"5~10분이내\",\"KAPT_CODE\":\"A15005602\"},\"resultMap_kapt_areacnt\":[{\"KAPTDA_CNT\":72,\"AREA_GBN\":1,\"KAPT_CODE\":\"A15005602\"},{\"KAPTDA_CNT\":142,\"AREA_GBN\":2,\"KAPT_CODE\":\"A15005602\"},{\"KAPTDA_CNT\":0,\"AREA_GBN\":3,\"KAPT_CODE\":\"\"},{\"KAPTDA_CNT\":0,\"AREA_GBN\":4,\"KAPT_CODE\":\"\"}],\"resultMap_kapt_addrList\":[{\"ADDR\":\"서울특별시 영등포구 신길동 4501 우창아파트\",\"KAPT_CODE\":\"A15005602\",\"ADDR_GBN\":\"B\"},{\"ADDR\":\"서울특별시 영등포구 여의대방로5길 6\",\"KAPT_CODE\":\"A15005602\",\"ADDR_GBN\":\"R\"}]}\n",
      "21 / 23 신길우창 처리완료\n",
      "{\"resultMap_match\":{\"KAPT_CODE\":\"A15096001\",\"TOWN_CODE\":20124858},\"resultMap_kapt\":{\"CODE_HEAT\":\"개별난방\",\"SUBWAY_STATION\":\"신풍\",\"SUBWAY_LINE\":\"1호선, 5호선\",\"KAPT_PE1AREA\":0,\"KAPT_PE2AREA\":0,\"KAPT_PE3AREA\":0,\"KAPT_PEAREA\":0,\"KAPT_PE4AREA\":0,\"DISPOSAL_TYPE\":\"분무식,독이식\",\"KAPT_PE5AREA\":0,\"KAPTD_ECNTB\":0,\"KAPTD_ECNTC\":0,\"KAPT_PHAREA\":0,\"KAPTD_ECNTD\":0,\"KAPTD_SCNT\":\"4\",\"KAPTD_ECNTE\":0,\"CODE_ECON\":\"종합계약\",\"KAPT_PPAREA\":0,\"KAPTD_CCCNT\":\"47\",\"KAPTD_ECNTM\":0,\"KAPT_TEL\":\"02-831-0924\",\"WELFARE_FACILITY\":\"관리사무소, 노인정, 주민공동시설, 어린이놀이터, 휴게시설, 커뮤니티공간, 자전거보관소\",\"KAPTD_ECNTP\":5,\"KAPT_FAX\":\"02-831-0926\",\"KAPT_ACC_COMPANY\":\"장은회계사무소\",\"KAPT_MGR_CNT\":\"4\",\"KAPT_BCOMPANY\":\"GS건설\",\"CONVENIENT_FACILITY\":\"관공서(동사무소) 병원(성애) 대형상가(사러가쇼핑센터)\",\"CODE_DISINF\":\"위탁관리\",\"CODE_EMGR\":\"상주선임\",\"CODE_MGR\":\"위탁관리\",\"KAPTD_PCNTU\":\"226\",\"CODE_EMAINT\":\"위탁관리\",\"KAPT_MCAREA\":0,\"CODE_ELEV\":\"위탁관리\",\"KAPT_MEAREA\":0,\"CODE_NET\":\"유\",\"KAPT_MHAREA\":0,\"KAPT_USEDATE\":\"2011-06-30\",\"KAPTD_WTIMEBUS\":\"5~10분이내\",\"KAPT_CODE\":\"A15096001\",\"CODE_APT\":\"아파트\",\"CODE_WSUPPLY\":\"부스타방식\",\"KAPT_MPAREA\":21074.14,\"KAPT_MAREA\":16003.72,\"KAPT_PAREA\":0,\"KAPT_TAREA\":32610.93,\"CODE_FALARM\":\"R형\",\"KAPTD_SEC_COM\":\"(주)조은세이프\",\"KAPTD_ECAPA\":\"1000\",\"CODE_STR\":\"철근콘크리트구조\",\"APPL_CODE\":null,\"KAPT_ME1AREA\":0,\"KAPT_ACOMPANY\":\"신길동제5구역재개발주택조합\",\"KAPT_ME2AREA\":0,\"KAPT_ME3AREA\":0,\"CODE_GARBAGE\":\"음식물쓰레기종량제\",\"KAPT_ME4AREA\":0,\"KAPT_ME5AREA\":0,\"CODE_CLTIME\":\"5\",\"CODE_HALL\":\"계단식\",\"CODE_STIME\":\"14\",\"KAPT_NAME\":\"신길자이\",\"KAPT_DONG_CNT\":\"4\",\"CODE_CLEAN\":\"위탁관리\",\"CODE_SALE\":\"분양\",\"CODE_SEC\":\"위탁관리\",\"EMPTY_HO_CNT\":1,\"APPL_PRODATE\":\"\",\"KAPT_URL\":\"-\",\"KAPTD_CLCNT\":\"2\",\"KAPTD_PCNT\":\"0\",\"KAPTD_WTIMESUB\":\"15~20분이내\",\"KAPTD_DCNT\":\"12\",\"EDUCATION_FACILITY\":\"초등학교(영신초등학교)\",\"KAPT_CCOMPANY\":\"일신주택관리(주)\"},\"resultMap_kapt_areacnt\":[{\"KAPTDA_CNT\":76,\"AREA_GBN\":1,\"KAPT_CODE\":\"A15096001\"},{\"KAPTDA_CNT\":86,\"AREA_GBN\":2,\"KAPT_CODE\":\"A15096001\"},{\"KAPTDA_CNT\":36,\"AREA_GBN\":3,\"KAPT_CODE\":\"A15096001\"},{\"KAPTDA_CNT\":null,\"AREA_GBN\":4,\"KAPT_CODE\":null}],\"resultMap_kapt_addrList\":[{\"ADDR\":\"서울특별시 영등포구 신길동 4938 신길자이\",\"KAPT_CODE\":\"A15096001\",\"ADDR_GBN\":\"B\"},{\"ADDR\":\"서울특별시 영등포구 가마산로79길 19\",\"KAPT_CODE\":\"A15096001\",\"ADDR_GBN\":\"R\"}]}\n",
      "{\"resultMap_match\":{\"KAPT_CODE\":\"A15096001\",\"TOWN_CODE\":20124858},\"resultMap_kapt\":{\"KAPT_NAME\":\"신길자이\",\"CODE_SALE\":\"분양\",\"CODE_HEAT\":\"개별난방\",\"KAPT_TAREA\":32610.93,\"KAPT_DONG_CNT\":\"4\",\"KAPT_BCOMPANY\":\"GS건설\",\"KAPT_ACOMPANY\":\"신길동제5구역재개발주택조합\",\"KAPT_TEL\":\"02-831-0924\",\"KAPT_FAX\":\"02-831-0926\",\"KAPT_URL\":\"-\",\"CODE_APT\":\"아파트\",\"CODE_MGR\":\"위탁관리\",\"KAPT_MGR_CNT\":\"4\",\"KAPT_CCOMPANY\":\"일신주택관리(주)\",\"CODE_SEC\":\"위탁관리\",\"KAPTD_SCNT\":\"4\",\"KAPTD_SEC_COM\":\"(주)조은세이프\",\"CODE_CLEAN\":\"위탁관리\",\"KAPTD_CLCNT\":\"2\",\"CODE_GARBAGE\":\"음식물쓰레기종량제\",\"CODE_DISINF\":\"위탁관리\",\"KAPTD_DCNT\":\"12\",\"DISPOSAL_TYPE\":\"분무식,독이식\",\"KAPTD_PCNT\":\"0\",\"KAPTD_PCNTU\":\"226\",\"KAPTD_CCCNT\":\"47\",\"WELFARE_FACILITY\":\"관리사무소, 노인정, 주민공동시설, 어린이놀이터, 휴게시설, 커뮤니티공간, 자전거보관소\",\"KAPTD_ECAPA\":\"1000\",\"CODE_EMGR\":\"상주선임\",\"CODE_WSUPPLY\":\"부스타방식\",\"CODE_STR\":\"철근콘크리트구조\",\"CODE_ECON\":\"종합계약\",\"CODE_FALARM\":\"R형\",\"CODE_ELEV\":\"위탁관리\",\"CODE_NET\":\"유\",\"KAPTD_WTIMEBUS\":\"5~10분이내\",\"CONVENIENT_FACILITY\":\"관공서(동사무소) 병원(성애) 대형상가(사러가쇼핑센터)\",\"EDUCATION_FACILITY\":\"초등학교(영신초등학교)\",\"CODE_HALL\":\"계단식\",\"KAPT_USEDATE\":\"2011-06-30\",\"KAPT_MAREA\":16003.72,\"SUBWAY_STATION\":\"신풍\",\"SUBWAY_LINE\":\"1호선, 5호선\",\"KAPTD_WTIMESUB\":\"15~20분이내\",\"KAPT_CODE\":\"A15096001\"},\"resultMap_kapt_areacnt\":[{\"KAPTDA_CNT\":76,\"AREA_GBN\":1,\"KAPT_CODE\":\"A15096001\"},{\"KAPTDA_CNT\":86,\"AREA_GBN\":2,\"KAPT_CODE\":\"A15096001\"},{\"KAPTDA_CNT\":36,\"AREA_GBN\":3,\"KAPT_CODE\":\"A15096001\"},{\"KAPTDA_CNT\":0,\"AREA_GBN\":4,\"KAPT_CODE\":\"\"}],\"resultMap_kapt_addrList\":[{\"ADDR\":\"서울특별시 영등포구 신길동 4938 신길자이\",\"KAPT_CODE\":\"A15096001\",\"ADDR_GBN\":\"B\"},{\"ADDR\":\"서울특별시 영등포구 가마산로79길 19\",\"KAPT_CODE\":\"A15096001\",\"ADDR_GBN\":\"R\"}]}\n",
      "22 / 23 신길자이 처리완료\n"
     ]
    },
    {
     "name": "stderr",
     "output_type": "stream",
     "text": [
      "2018/03/22 21:24:52 example.com 200 OK\n"
     ]
    },
    {
     "name": "stdout",
     "output_type": "stream",
     "text": [
      "{\"resultMap_match\":{\"KAPT_CODE\":\"A15085404\",\"TOWN_CODE\":1064},\"resultMap_kapt\":{\"CODE_HEAT\":\"개별난방\",\"SUBWAY_STATION\":\"대방, 신풍\",\"SUBWAY_LINE\":\"1호선, 7호선\",\"KAPT_PE1AREA\":0,\"KAPT_PE2AREA\":0,\"KAPT_PE3AREA\":0,\"KAPT_PEAREA\":0,\"KAPT_PE4AREA\":0,\"DISPOSAL_TYPE\":\"도포식,기구부착식\",\"KAPT_PE5AREA\":0,\"KAPTD_ECNTB\":0,\"KAPTD_ECNTC\":0,\"KAPT_PHAREA\":0,\"KAPTD_ECNTD\":0,\"KAPTD_SCNT\":\"8\",\"KAPTD_ECNTE\":0,\"CODE_ECON\":\"단일계약\",\"KAPT_PPAREA\":0,\"KAPTD_CCCNT\":\"38\",\"KAPTD_ECNTM\":0,\"KAPT_TEL\":\"028362345\",\"WELFARE_FACILITY\":\"관리사무소, 노인정, 어린이놀이터\",\"KAPTD_ECNTP\":11,\"KAPT_FAX\":\"028362348\",\"KAPT_ACC_COMPANY\":\"홍진데이타\",\"KAPT_MGR_CNT\":\"5\",\"KAPT_BCOMPANY\":\"한국보훈복지공단\",\"CONVENIENT_FACILITY\":\"관공서(동사무소) 병원(김영준소아과)\",\"CODE_DISINF\":\"위탁관리\",\"CODE_EMGR\":\"상주선임\",\"CODE_MGR\":\"위탁관리\",\"KAPTD_PCNTU\":\"298\",\"CODE_EMAINT\":\"위탁관리\",\"KAPT_MCAREA\":0,\"CODE_ELEV\":\"위탁관리\",\"KAPT_MEAREA\":0,\"CODE_NET\":\"무\",\"KAPT_MHAREA\":0,\"KAPT_USEDATE\":\"1997-07-21\",\"KAPTD_WTIMEBUS\":\"5~10분이내\",\"KAPT_CODE\":\"A15085404\",\"CODE_APT\":\"아파트\",\"CODE_WSUPPLY\":\"부스타방식\",\"KAPT_MPAREA\":0,\"KAPT_MAREA\":36505.08,\"KAPT_PAREA\":0,\"KAPT_TAREA\":57972.21,\"CODE_FALARM\":\"P형\",\"KAPTD_SEC_COM\":\"한양시스템(주)\",\"KAPTD_ECAPA\":\"1465\",\"CODE_STR\":\"철근콘크리트구조\",\"APPL_CODE\":null,\"KAPT_ME1AREA\":0,\"KAPT_ACOMPANY\":\"한성건설\",\"KAPT_ME2AREA\":0,\"KAPT_ME3AREA\":0,\"CODE_GARBAGE\":\"음식물쓰레기종량제\",\"KAPT_ME4AREA\":0,\"KAPT_ME5AREA\":0,\"CODE_CLTIME\":\"4\",\"CODE_HALL\":\"계단식\",\"CODE_STIME\":\"24\",\"KAPT_NAME\":\"신길한성\",\"KAPT_DONG_CNT\":\"5\",\"CODE_CLEAN\":\"위탁관리\",\"CODE_SALE\":\"분양\",\"CODE_SEC\":\"위탁관리\",\"EMPTY_HO_CNT\":0,\"APPL_PRODATE\":\"\",\"KAPT_URL\":\"-\",\"KAPTD_CLCNT\":\"4\",\"KAPTD_PCNT\":\"147\",\"KAPTD_WTIMESUB\":\"5~10분이내\",\"KAPTD_DCNT\":\"12\",\"EDUCATION_FACILITY\":\"초등학교(대방초등학교) 중학교(강남중교) 고등학교(서울공업고교)\",\"KAPT_CCOMPANY\":\"대원종합관리(주)\"},\"resultMap_kapt_areacnt\":[{\"KAPTDA_CNT\":172,\"AREA_GBN\":1,\"KAPT_CODE\":\"A15085404\"},{\"KAPTDA_CNT\":144,\"AREA_GBN\":2,\"KAPT_CODE\":\"A15085404\"},{\"KAPTDA_CNT\":104,\"AREA_GBN\":3,\"KAPT_CODE\":\"A15085404\"},{\"KAPTDA_CNT\":null,\"AREA_GBN\":4,\"KAPT_CODE\":null}],\"resultMap_kapt_addrList\":[{\"ADDR\":\"서울특별시 영등포구 신길동 769-1 한성아파트\",\"KAPT_CODE\":\"A15085404\",\"ADDR_GBN\":\"B\"},{\"ADDR\":\"서울특별시 영등포구 가마산로 575\",\"KAPT_CODE\":\"A15085404\",\"ADDR_GBN\":\"R\"}]}\n",
      "{\"resultMap_match\":{\"KAPT_CODE\":\"A15085404\",\"TOWN_CODE\":1064},\"resultMap_kapt\":{\"KAPT_NAME\":\"신길한성\",\"CODE_SALE\":\"분양\",\"CODE_HEAT\":\"개별난방\",\"KAPT_TAREA\":57972.21,\"KAPT_DONG_CNT\":\"5\",\"KAPT_BCOMPANY\":\"한국보훈복지공단\",\"KAPT_ACOMPANY\":\"한성건설\",\"KAPT_TEL\":\"028362345\",\"KAPT_FAX\":\"028362348\",\"KAPT_URL\":\"-\",\"CODE_APT\":\"아파트\",\"CODE_MGR\":\"위탁관리\",\"KAPT_MGR_CNT\":\"5\",\"KAPT_CCOMPANY\":\"대원종합관리(주)\",\"CODE_SEC\":\"위탁관리\",\"KAPTD_SCNT\":\"8\",\"KAPTD_SEC_COM\":\"한양시스템(주)\",\"CODE_CLEAN\":\"위탁관리\",\"KAPTD_CLCNT\":\"4\",\"CODE_GARBAGE\":\"음식물쓰레기종량제\",\"CODE_DISINF\":\"위탁관리\",\"KAPTD_DCNT\":\"12\",\"DISPOSAL_TYPE\":\"도포식,기구부착식\",\"KAPTD_PCNT\":\"147\",\"KAPTD_PCNTU\":\"298\",\"KAPTD_CCCNT\":\"38\",\"WELFARE_FACILITY\":\"관리사무소, 노인정, 어린이놀이터\",\"KAPTD_ECAPA\":\"1465\",\"CODE_EMGR\":\"상주선임\",\"CODE_WSUPPLY\":\"부스타방식\",\"CODE_STR\":\"철근콘크리트구조\",\"CODE_ECON\":\"단일계약\",\"CODE_FALARM\":\"P형\",\"CODE_ELEV\":\"위탁관리\",\"CODE_NET\":\"무\",\"KAPTD_WTIMEBUS\":\"5~10분이내\",\"CONVENIENT_FACILITY\":\"관공서(동사무소) 병원(김영준소아과)\",\"EDUCATION_FACILITY\":\"초등학교(대방초등학교) 중학교(강남중교) 고등학교(서울공업고교)\",\"CODE_HALL\":\"계단식\",\"KAPT_USEDATE\":\"1997-07-21\",\"KAPT_MAREA\":36505.08,\"SUBWAY_STATION\":\"대방, 신풍\",\"SUBWAY_LINE\":\"1호선, 7호선\",\"KAPTD_WTIMESUB\":\"5~10분이내\",\"KAPT_CODE\":\"A15085404\"},\"resultMap_kapt_areacnt\":[{\"KAPTDA_CNT\":172,\"AREA_GBN\":1,\"KAPT_CODE\":\"A15085404\"},{\"KAPTDA_CNT\":144,\"AREA_GBN\":2,\"KAPT_CODE\":\"A15085404\"},{\"KAPTDA_CNT\":104,\"AREA_GBN\":3,\"KAPT_CODE\":\"A15085404\"},{\"KAPTDA_CNT\":0,\"AREA_GBN\":4,\"KAPT_CODE\":\"\"}],\"resultMap_kapt_addrList\":[{\"ADDR\":\"서울특별시 영등포구 신길동 769-1 한성아파트\",\"KAPT_CODE\":\"A15085404\",\"ADDR_GBN\":\"B\"},{\"ADDR\":\"서울특별시 영등포구 가마산로 575\",\"KAPT_CODE\":\"A15085404\",\"ADDR_GBN\":\"R\"}]}\n",
      "23 / 23 신길한성 처리완료\n",
      "69 개 아파트 처리 완료\n",
      "30140113 아파트 목록 조회 시작 -----------\n"
     ]
    },
    {
     "name": "stderr",
     "output_type": "stream",
     "text": [
      "2018/03/22 21:24:53 example.com 200 OK\n"
     ]
    },
    {
     "name": "stdout",
     "output_type": "stream",
     "text": [
      "[{198606 3014011300 삼성아파트  A30175801 0 236410.73 313801.28 0 대전광역시 중구 오류동}]\n",
      "{\"resultList\":[{\"KAPT_USEDATE\":\"198606\",\"BJD_CODE\":\"3014011300\",\"KAPT_NAME\":\"삼성아파트\",\"OPEN_TERM\":\"\",\"KAPT_CODE\":\"A30175801\",\"OCCU_FIRST_DATE\":0,\"X\":236410.73,\"Y\":313801.28,\"ENERGY_B_COUNT\":0,\"BJD_NAME\":\"대전광역시 중구 오류동\"}]}\n",
      "아파트 목록 조회 완료 -----------\n",
      "아파트 목록 마샬링 시작 -----------\n",
      "아파트 목록 마샬링 완료 -----------\n",
      "아파트 정보 조회 시작 -----------\n"
     ]
    },
    {
     "name": "stderr",
     "output_type": "stream",
     "text": [
      "2018/03/22 21:24:53 example.com 200 OK\n"
     ]
    },
    {
     "name": "stdout",
     "output_type": "stream",
     "text": [
      "{\"resultMap_match\":{\"KAPT_CODE\":\"A10027073\",\"TOWN_CODE\":20349595},\"resultMap_kapt\":{\"CODE_HEAT\":\"개별난방\",\"SUBWAY_STATION\":\"신풍역\",\"SUBWAY_LINE\":\"7호선\",\"KAPT_PE1AREA\":0,\"KAPT_PE2AREA\":0,\"KAPT_PE3AREA\":0,\"KAPT_PEAREA\":0,\"KAPT_PE4AREA\":0,\"DISPOSAL_TYPE\":\"도포식,분무식\",\"KAPT_PE5AREA\":0,\"KAPTD_ECNTB\":0,\"KAPTD_ECNTC\":0,\"KAPT_PHAREA\":0,\"KAPTD_ECNTD\":0,\"KAPTD_SCNT\":\"16\",\"KAPTD_ECNTE\":0,\"CODE_ECON\":\"종합계약\",\"KAPT_PPAREA\":0,\"KAPTD_CCCNT\":\"206\",\"KAPTD_ECNTM\":0,\"KAPT_TEL\":\"028499571\",\"WELFARE_FACILITY\":\"관리사무소, 노인정, 보육시설, 문고, 주민공동시설, 어린이놀이터, 휴게시설, 커뮤니티공간, 자전거보관소\",\"KAPTD_ECNTP\":52,\"KAPT_FAX\":\"02-849-9574\",\"KAPT_ACC_COMPANY\":\"이지스엔터프라이즈\",\"KAPT_MGR_CNT\":\"14\",\"KAPT_BCOMPANY\":\"삼성물산주식회사\",\"CONVENIENT_FACILITY\":\"-\",\"CODE_DISINF\":\"위탁관리\",\"CODE_EMGR\":\"상주선임\",\"CODE_MGR\":\"위탁관리\",\"KAPTD_PCNTU\":\"2280\",\"CODE_EMAINT\":\"위탁관리\",\"KAPT_MCAREA\":44964.64,\"CODE_ELEV\":\"위탁관리\",\"KAPT_MEAREA\":0,\"CODE_NET\":\"유\",\"KAPT_MHAREA\":0,\"KAPT_USEDATE\":\"2017-04-12\",\"KAPTD_WTIMEBUS\":\"5분이내\",\"KAPT_CODE\":\"A10027073\",\"CODE_APT\":\"아파트\",\"CODE_WSUPPLY\":\"부스타방식\",\"KAPT_MPAREA\":133313.49,\"KAPT_MAREA\":133313.49,\"KAPT_PAREA\":0,\"KAPT_TAREA\":272491.57,\"CODE_FALARM\":\"R형\",\"KAPTD_SEC_COM\":\"(주)씨큐원\",\"KAPTD_ECAPA\":\"7550\",\"CODE_STR\":\"철골콘크리트구조\",\"APPL_CODE\":1750,\"KAPT_ME1AREA\":0,\"KAPT_ACOMPANY\":\"신길7재정비촉진구역주택재개발사업조함\",\"KAPT_ME2AREA\":0,\"KAPT_ME3AREA\":0,\"CODE_GARBAGE\":\"음식물쓰레기종량제\",\"KAPT_ME4AREA\":0,\"KAPT_ME5AREA\":0,\"CODE_CLTIME\":\"6\",\"CODE_HALL\":\"혼합식\",\"CODE_STIME\":\"15\",\"KAPT_NAME\":\"래미안에스티움\",\"KAPT_DONG_CNT\":\"19\",\"CODE_CLEAN\":\"위탁관리\",\"CODE_SALE\":\"임대+분양\",\"CODE_SEC\":\"위탁관리\",\"EMPTY_HO_CNT\":5,\"APPL_PRODATE\":\"\",\"KAPT_URL\":\"estium.co.kr\",\"KAPTD_CLCNT\":\"23\",\"KAPTD_PCNT\":\"0\",\"KAPTD_WTIMESUB\":\"5분이내\",\"KAPTD_DCNT\":\"12\",\"EDUCATION_FACILITY\":\"-\",\"KAPT_CCOMPANY\":\"(주)타워피엠씨\"},\"resultMap_kapt_areacnt\":[{\"KAPTDA_CNT\":682,\"AREA_GBN\":1,\"KAPT_CODE\":\"A10027073\"},{\"KAPTDA_CNT\":833,\"AREA_GBN\":2,\"KAPT_CODE\":\"A10027073\"},{\"KAPTDA_CNT\":207,\"AREA_GBN\":3,\"KAPT_CODE\":\"A10027073\"},{\"KAPTDA_CNT\":null,\"AREA_GBN\":4,\"KAPT_CODE\":null}],\"resultMap_kapt_addrList\":[{\"ADDR\":\"서울특별시 영등포구 신길동 4950 래미안에스티움\",\"KAPT_CODE\":\"A10027073\",\"ADDR_GBN\":\"B\"},{\"ADDR\":\"서울특별시 영등포구 신풍로 77\",\"KAPT_CODE\":\"A10027073\",\"ADDR_GBN\":\"R\"}]}\n",
      "{\"resultMap_match\":{\"KAPT_CODE\":\"A10027073\",\"TOWN_CODE\":20349595},\"resultMap_kapt\":{\"KAPT_NAME\":\"래미안에스티움\",\"CODE_SALE\":\"임대+분양\",\"CODE_HEAT\":\"개별난방\",\"KAPT_TAREA\":272491.57,\"KAPT_DONG_CNT\":\"19\",\"KAPT_BCOMPANY\":\"삼성물산주식회사\",\"KAPT_ACOMPANY\":\"신길7재정비촉진구역주택재개발사업조함\",\"KAPT_TEL\":\"028499571\",\"KAPT_FAX\":\"02-849-9574\",\"KAPT_URL\":\"estium.co.kr\",\"CODE_APT\":\"아파트\",\"CODE_MGR\":\"위탁관리\",\"KAPT_MGR_CNT\":\"14\",\"KAPT_CCOMPANY\":\"(주)타워피엠씨\",\"CODE_SEC\":\"위탁관리\",\"KAPTD_SCNT\":\"16\",\"KAPTD_SEC_COM\":\"(주)씨큐원\",\"CODE_CLEAN\":\"위탁관리\",\"KAPTD_CLCNT\":\"23\",\"CODE_GARBAGE\":\"음식물쓰레기종량제\",\"CODE_DISINF\":\"위탁관리\",\"KAPTD_DCNT\":\"12\",\"DISPOSAL_TYPE\":\"도포식,분무식\",\"KAPTD_PCNT\":\"0\",\"KAPTD_PCNTU\":\"2280\",\"KAPTD_CCCNT\":\"206\",\"WELFARE_FACILITY\":\"관리사무소, 노인정, 보육시설, 문고, 주민공동시설, 어린이놀이터, 휴게시설, 커뮤니티공간, 자전거보관소\",\"KAPTD_ECAPA\":\"7550\",\"CODE_EMGR\":\"상주선임\",\"CODE_WSUPPLY\":\"부스타방식\",\"CODE_STR\":\"철골콘크리트구조\",\"CODE_ECON\":\"종합계약\",\"CODE_FALARM\":\"R형\",\"CODE_ELEV\":\"위탁관리\",\"CODE_NET\":\"유\",\"KAPTD_WTIMEBUS\":\"5분이내\",\"CONVENIENT_FACILITY\":\"-\",\"EDUCATION_FACILITY\":\"-\",\"CODE_HALL\":\"혼합식\",\"KAPT_USEDATE\":\"2017-04-12\",\"KAPT_MAREA\":133313.49,\"SUBWAY_STATION\":\"신풍역\",\"SUBWAY_LINE\":\"7호선\",\"KAPTD_WTIMESUB\":\"5분이내\",\"KAPT_CODE\":\"A10027073\"},\"resultMap_kapt_areacnt\":[{\"KAPTDA_CNT\":682,\"AREA_GBN\":1,\"KAPT_CODE\":\"A10027073\"},{\"KAPTDA_CNT\":833,\"AREA_GBN\":2,\"KAPT_CODE\":\"A10027073\"},{\"KAPTDA_CNT\":207,\"AREA_GBN\":3,\"KAPT_CODE\":\"A10027073\"},{\"KAPTDA_CNT\":0,\"AREA_GBN\":4,\"KAPT_CODE\":\"\"}],\"resultMap_kapt_addrList\":[{\"ADDR\":\"서울특별시 영등포구 신길동 4950 래미안에스티움\",\"KAPT_CODE\":\"A10027073\",\"ADDR_GBN\":\"B\"},{\"ADDR\":\"서울특별시 영등포구 신풍로 77\",\"KAPT_CODE\":\"A10027073\",\"ADDR_GBN\":\"R\"}]}\n",
      "1 / 23 래미안에스티움 처리완료\n"
     ]
    },
    {
     "name": "stderr",
     "output_type": "stream",
     "text": [
      "2018/03/22 21:24:53 example.com 200 OK\n"
     ]
    },
    {
     "name": "stdout",
     "output_type": "stream",
     "text": [
      "{\"resultMap_match\":{\"KAPT_CODE\":\"A10027755\",\"TOWN_CODE\":20331410},\"resultMap_kapt\":{\"CODE_HEAT\":\"개별난방\",\"SUBWAY_STATION\":\"-\",\"SUBWAY_LINE\":\"7호선\",\"KAPT_PE1AREA\":0,\"KAPT_PE2AREA\":0,\"KAPT_PE3AREA\":0,\"KAPT_PEAREA\":0,\"KAPT_PE4AREA\":0,\"DISPOSAL_TYPE\":\"-\",\"KAPT_PE5AREA\":0,\"KAPTD_ECNTB\":0,\"KAPTD_ECNTC\":0,\"KAPT_PHAREA\":0,\"KAPTD_ECNTD\":0,\"KAPTD_SCNT\":\"11\",\"KAPTD_ECNTE\":0,\"CODE_ECON\":\"종합계약\",\"KAPT_PPAREA\":0,\"KAPTD_CCCNT\":\"100\",\"KAPTD_ECNTM\":0,\"KAPT_TEL\":\"02-849-6655\",\"WELFARE_FACILITY\":\"관리사무소, 노인정, 보육시설, 문고, 주민공동시설, 어린이놀이터, 커뮤니티공간, 자전거보관소\",\"KAPTD_ECNTP\":28,\"KAPT_FAX\":\"02-849-6900\",\"KAPT_ACC_COMPANY\":\"-\",\"KAPT_MGR_CNT\":\"8\",\"KAPT_BCOMPANY\":\"삼성물산주식회사\",\"CONVENIENT_FACILITY\":\"-\",\"CODE_DISINF\":\"위탁관리\",\"CODE_EMGR\":\"상주선임\",\"CODE_MGR\":\"위탁관리\",\"KAPTD_PCNTU\":\"1211\",\"CODE_EMAINT\":\"위탁관리\",\"KAPT_MCAREA\":23340.24,\"CODE_ELEV\":\"위탁관리\",\"KAPT_MEAREA\":0,\"CODE_NET\":\"유\",\"KAPT_MHAREA\":0,\"KAPT_USEDATE\":\"2015-12-29\",\"KAPTD_WTIMEBUS\":\"5~10분이내\",\"KAPT_CODE\":\"A10027755\",\"CODE_APT\":\"아파트\",\"CODE_WSUPPLY\":\"부스타방식\",\"KAPT_MPAREA\":688620.86,\"KAPT_MAREA\":68800.87,\"KAPT_PAREA\":0,\"KAPT_TAREA\":140645.79,\"CODE_FALARM\":\"R형\",\"KAPTD_SEC_COM\":\"(주)아주관리\",\"KAPTD_ECAPA\":\"4000\",\"CODE_STR\":\"철골철근콘크리트구조\",\"APPL_CODE\":null,\"KAPT_ME1AREA\":0,\"KAPT_ACOMPANY\":\"조합\",\"KAPT_ME2AREA\":0,\"KAPT_ME3AREA\":0,\"CODE_GARBAGE\":\"거점장비수거방식\",\"KAPT_ME4AREA\":0,\"KAPT_ME5AREA\":0,\"CODE_CLTIME\":\"8\",\"CODE_HALL\":\"혼합식\",\"CODE_STIME\":\"24\",\"KAPT_NAME\":\"래미안프레비뉴\",\"KAPT_DONG_CNT\":\"12\",\"CODE_CLEAN\":\"위탁관리\",\"CODE_SALE\":\"임대+분양\",\"CODE_SEC\":\"위탁관리\",\"EMPTY_HO_CNT\":0,\"APPL_PRODATE\":\"\",\"KAPT_URL\":\"-\",\"KAPTD_CLCNT\":\"10\",\"KAPTD_PCNT\":\"0\",\"KAPTD_WTIMESUB\":\"5~10분이내\",\"KAPTD_DCNT\":\"0\",\"EDUCATION_FACILITY\":\"초등학교() 중학교() 고등학교()\",\"KAPT_CCOMPANY\":\"(주)아주관리\"},\"resultMap_kapt_areacnt\":[{\"KAPTDA_CNT\":396,\"AREA_GBN\":1,\"KAPT_CODE\":\"A10027755\"},{\"KAPTDA_CNT\":535,\"AREA_GBN\":2,\"KAPT_CODE\":\"A10027755\"},{\"KAPTDA_CNT\":17,\"AREA_GBN\":3,\"KAPT_CODE\":\"A10027755\"},{\"KAPTDA_CNT\":null,\"AREA_GBN\":4,\"KAPT_CODE\":null}],\"resultMap_kapt_addrList\":[{\"ADDR\":\"서울특별시 영등포구 신길동 329-94 래미안영등포프레비뉴\",\"KAPT_CODE\":\"A10027755\",\"ADDR_GBN\":\"B\"},{\"ADDR\":\"서울특별시 영등포구 가마산로 442\",\"KAPT_CODE\":\"A10027755\",\"ADDR_GBN\":\"R\"}]}\n",
      "{\"resultMap_match\":{\"KAPT_CODE\":\"A10027755\",\"TOWN_CODE\":20331410},\"resultMap_kapt\":{\"KAPT_NAME\":\"래미안프레비뉴\",\"CODE_SALE\":\"임대+분양\",\"CODE_HEAT\":\"개별난방\",\"KAPT_TAREA\":140645.79,\"KAPT_DONG_CNT\":\"12\",\"KAPT_BCOMPANY\":\"삼성물산주식회사\",\"KAPT_ACOMPANY\":\"조합\",\"KAPT_TEL\":\"02-849-6655\",\"KAPT_FAX\":\"02-849-6900\",\"KAPT_URL\":\"-\",\"CODE_APT\":\"아파트\",\"CODE_MGR\":\"위탁관리\",\"KAPT_MGR_CNT\":\"8\",\"KAPT_CCOMPANY\":\"(주)아주관리\",\"CODE_SEC\":\"위탁관리\",\"KAPTD_SCNT\":\"11\",\"KAPTD_SEC_COM\":\"(주)아주관리\",\"CODE_CLEAN\":\"위탁관리\",\"KAPTD_CLCNT\":\"10\",\"CODE_GARBAGE\":\"거점장비수거방식\",\"CODE_DISINF\":\"위탁관리\",\"KAPTD_DCNT\":\"0\",\"DISPOSAL_TYPE\":\"-\",\"KAPTD_PCNT\":\"0\",\"KAPTD_PCNTU\":\"1211\",\"KAPTD_CCCNT\":\"100\",\"WELFARE_FACILITY\":\"관리사무소, 노인정, 보육시설, 문고, 주민공동시설, 어린이놀이터, 커뮤니티공간, 자전거보관소\",\"KAPTD_ECAPA\":\"4000\",\"CODE_EMGR\":\"상주선임\",\"CODE_WSUPPLY\":\"부스타방식\",\"CODE_STR\":\"철골철근콘크리트구조\",\"CODE_ECON\":\"종합계약\",\"CODE_FALARM\":\"R형\",\"CODE_ELEV\":\"위탁관리\",\"CODE_NET\":\"유\",\"KAPTD_WTIMEBUS\":\"5~10분이내\",\"CONVENIENT_FACILITY\":\"-\",\"EDUCATION_FACILITY\":\"초등학교() 중학교() 고등학교()\",\"CODE_HALL\":\"혼합식\",\"KAPT_USEDATE\":\"2015-12-29\",\"KAPT_MAREA\":68800.87,\"SUBWAY_STATION\":\"-\",\"SUBWAY_LINE\":\"7호선\",\"KAPTD_WTIMESUB\":\"5~10분이내\",\"KAPT_CODE\":\"A10027755\"},\"resultMap_kapt_areacnt\":[{\"KAPTDA_CNT\":396,\"AREA_GBN\":1,\"KAPT_CODE\":\"A10027755\"},{\"KAPTDA_CNT\":535,\"AREA_GBN\":2,\"KAPT_CODE\":\"A10027755\"},{\"KAPTDA_CNT\":17,\"AREA_GBN\":3,\"KAPT_CODE\":\"A10027755\"},{\"KAPTDA_CNT\":0,\"AREA_GBN\":4,\"KAPT_CODE\":\"\"}],\"resultMap_kapt_addrList\":[{\"ADDR\":\"서울특별시 영등포구 신길동 329-94 래미안영등포프레비뉴\",\"KAPT_CODE\":\"A10027755\",\"ADDR_GBN\":\"B\"},{\"ADDR\":\"서울특별시 영등포구 가마산로 442\",\"KAPT_CODE\":\"A10027755\",\"ADDR_GBN\":\"R\"}]}\n",
      "2 / 23 래미안프레비뉴 처리완료\n"
     ]
    },
    {
     "name": "stderr",
     "output_type": "stream",
     "text": [
      "2018/03/22 21:24:53 example.com 200 OK\n"
     ]
    },
    {
     "name": "stdout",
     "output_type": "stream",
     "text": [
      "{\"resultMap_match\":{\"KAPT_CODE\":\"A15005002\",\"TOWN_CODE\":20181850},\"resultMap_kapt\":{\"CODE_HEAT\":\"개별난방\",\"SUBWAY_STATION\":\"신풍\",\"SUBWAY_LINE\":\"1호선, 7호선\",\"KAPT_PE1AREA\":0,\"KAPT_PE2AREA\":0,\"KAPT_PE3AREA\":0,\"KAPT_PEAREA\":0,\"KAPT_PE4AREA\":0,\"DISPOSAL_TYPE\":\"도포식,분무식,기구부착식,독이식\",\"KAPT_PE5AREA\":0,\"KAPTD_ECNTB\":0,\"KAPTD_ECNTC\":0,\"KAPT_PHAREA\":0,\"KAPTD_ECNTD\":0,\"KAPTD_SCNT\":\"2\",\"KAPTD_ECNTE\":0,\"CODE_ECON\":\"단일계약\",\"KAPT_PPAREA\":0,\"KAPTD_CCCNT\":\"8\",\"KAPTD_ECNTM\":0,\"KAPT_TEL\":\"028499181\",\"WELFARE_FACILITY\":\"관리사무소\",\"KAPTD_ECNTP\":2,\"KAPT_FAX\":\"028499184\",\"KAPT_ACC_COMPANY\":\"-\",\"KAPT_MGR_CNT\":\"3\",\"KAPT_BCOMPANY\":\"우신건설\",\"CONVENIENT_FACILITY\":\"백화점(디큐브,타임스퀘어)\",\"CODE_DISINF\":\"위탁관리\",\"CODE_EMGR\":\"위탁선임\",\"CODE_MGR\":\"위탁관리\",\"KAPTD_PCNTU\":\"0\",\"CODE_EMAINT\":\"위탁관리\",\"KAPT_MCAREA\":0,\"CODE_ELEV\":\"위탁관리\",\"KAPT_MEAREA\":0,\"CODE_NET\":\"무\",\"KAPT_MHAREA\":0,\"KAPT_USEDATE\":\"2013-07-26\",\"KAPTD_WTIMEBUS\":\"5분이내\",\"KAPT_CODE\":\"A15005002\",\"CODE_APT\":\"주상복합\",\"CODE_WSUPPLY\":\"부스타방식\",\"KAPT_MPAREA\":0,\"KAPT_MAREA\":2961.93,\"KAPT_PAREA\":0,\"KAPT_TAREA\":8069.5,\"CODE_FALARM\":\"GR형\",\"KAPTD_SEC_COM\":\"한성세영비엔에이\",\"KAPTD_ECAPA\":\"950\",\"CODE_STR\":\"철근콘크리트구조\",\"APPL_CODE\":null,\"KAPT_ME1AREA\":0,\"KAPT_ACOMPANY\":\"코람코 자산신탁\",\"KAPT_ME2AREA\":0,\"KAPT_ME3AREA\":0,\"CODE_GARBAGE\":\"음식물쓰레기종량제\",\"KAPT_ME4AREA\":0,\"KAPT_ME5AREA\":0,\"CODE_CLTIME\":\"8\",\"CODE_HALL\":\"복도식\",\"CODE_STIME\":\"15\",\"KAPT_NAME\":\"레전드힐스\",\"KAPT_DONG_CNT\":\"1\",\"CODE_CLEAN\":\"위탁관리\",\"CODE_SALE\":\"분양\",\"CODE_SEC\":\"위탁관리\",\"EMPTY_HO_CNT\":0,\"APPL_PRODATE\":\"\",\"KAPT_URL\":\"-\",\"KAPTD_CLCNT\":\"1\",\"KAPTD_PCNT\":\"73\",\"KAPTD_WTIMESUB\":\"10~15분이내\",\"KAPTD_DCNT\":\"12\",\"EDUCATION_FACILITY\":\"초등학교(우신) 중학교(영원)\",\"KAPT_CCOMPANY\":\"(주)한성세영비엔에이\"},\"resultMap_kapt_areacnt\":[{\"KAPTDA_CNT\":216,\"AREA_GBN\":1,\"KAPT_CODE\":\"A15005002\"},{\"KAPTDA_CNT\":null,\"AREA_GBN\":2,\"KAPT_CODE\":null},{\"KAPTDA_CNT\":null,\"AREA_GBN\":3,\"KAPT_CODE\":null},{\"KAPTDA_CNT\":null,\"AREA_GBN\":4,\"KAPT_CODE\":null}],\"resultMap_kapt_addrList\":[{\"ADDR\":\"서울특별시 영등포구 신길동 261-22 레전드힐스\",\"KAPT_CODE\":\"A15005002\",\"ADDR_GBN\":\"B\"},{\"ADDR\":\"서울특별시 영등포구 가마산로 468\",\"KAPT_CODE\":\"A15005002\",\"ADDR_GBN\":\"R\"}]}\n",
      "{\"resultMap_match\":{\"KAPT_CODE\":\"A15005002\",\"TOWN_CODE\":20181850},\"resultMap_kapt\":{\"KAPT_NAME\":\"레전드힐스\",\"CODE_SALE\":\"분양\",\"CODE_HEAT\":\"개별난방\",\"KAPT_TAREA\":8069.5,\"KAPT_DONG_CNT\":\"1\",\"KAPT_BCOMPANY\":\"우신건설\",\"KAPT_ACOMPANY\":\"코람코 자산신탁\",\"KAPT_TEL\":\"028499181\",\"KAPT_FAX\":\"028499184\",\"KAPT_URL\":\"-\",\"CODE_APT\":\"주상복합\",\"CODE_MGR\":\"위탁관리\",\"KAPT_MGR_CNT\":\"3\",\"KAPT_CCOMPANY\":\"(주)한성세영비엔에이\",\"CODE_SEC\":\"위탁관리\",\"KAPTD_SCNT\":\"2\",\"KAPTD_SEC_COM\":\"한성세영비엔에이\",\"CODE_CLEAN\":\"위탁관리\",\"KAPTD_CLCNT\":\"1\",\"CODE_GARBAGE\":\"음식물쓰레기종량제\",\"CODE_DISINF\":\"위탁관리\",\"KAPTD_DCNT\":\"12\",\"DISPOSAL_TYPE\":\"도포식,분무식,기구부착식,독이식\",\"KAPTD_PCNT\":\"73\",\"KAPTD_PCNTU\":\"0\",\"KAPTD_CCCNT\":\"8\",\"WELFARE_FACILITY\":\"관리사무소\",\"KAPTD_ECAPA\":\"950\",\"CODE_EMGR\":\"위탁선임\",\"CODE_WSUPPLY\":\"부스타방식\",\"CODE_STR\":\"철근콘크리트구조\",\"CODE_ECON\":\"단일계약\",\"CODE_FALARM\":\"GR형\",\"CODE_ELEV\":\"위탁관리\",\"CODE_NET\":\"무\",\"KAPTD_WTIMEBUS\":\"5분이내\",\"CONVENIENT_FACILITY\":\"백화점(디큐브,타임스퀘어)\",\"EDUCATION_FACILITY\":\"초등학교(우신) 중학교(영원)\",\"CODE_HALL\":\"복도식\",\"KAPT_USEDATE\":\"2013-07-26\",\"KAPT_MAREA\":2961.93,\"SUBWAY_STATION\":\"신풍\",\"SUBWAY_LINE\":\"1호선, 7호선\",\"KAPTD_WTIMESUB\":\"10~15분이내\",\"KAPT_CODE\":\"A15005002\"},\"resultMap_kapt_areacnt\":[{\"KAPTDA_CNT\":216,\"AREA_GBN\":1,\"KAPT_CODE\":\"A15005002\"},{\"KAPTDA_CNT\":0,\"AREA_GBN\":2,\"KAPT_CODE\":\"\"},{\"KAPTDA_CNT\":0,\"AREA_GBN\":3,\"KAPT_CODE\":\"\"},{\"KAPTDA_CNT\":0,\"AREA_GBN\":4,\"KAPT_CODE\":\"\"}],\"resultMap_kapt_addrList\":[{\"ADDR\":\"서울특별시 영등포구 신길동 261-22 레전드힐스\",\"KAPT_CODE\":\"A15005002\",\"ADDR_GBN\":\"B\"},{\"ADDR\":\"서울특별시 영등포구 가마산로 468\",\"KAPT_CODE\":\"A15005002\",\"ADDR_GBN\":\"R\"}]}\n",
      "3 / 23 레전드힐스 처리완료\n"
     ]
    },
    {
     "name": "stderr",
     "output_type": "stream",
     "text": [
      "2018/03/22 21:24:53 example.com 200 OK\n"
     ]
    },
    {
     "name": "stdout",
     "output_type": "stream",
     "text": [
      "{\"resultMap_match\":{\"KAPT_CODE\":\"A15086006\",\"TOWN_CODE\":20008680},\"resultMap_kapt\":{\"CODE_HEAT\":\"개별난방\",\"SUBWAY_STATION\":\"신풍\",\"SUBWAY_LINE\":\"7호선\",\"KAPT_PE1AREA\":0,\"KAPT_PE2AREA\":0,\"KAPT_PE3AREA\":0,\"KAPT_PEAREA\":0,\"KAPT_PE4AREA\":0,\"DISPOSAL_TYPE\":\"도포식,분무식\",\"KAPT_PE5AREA\":0,\"KAPTD_ECNTB\":0,\"KAPTD_ECNTC\":0,\"KAPT_PHAREA\":0,\"KAPTD_ECNTD\":0,\"KAPTD_SCNT\":\"10\",\"KAPTD_ECNTE\":0,\"CODE_ECON\":\"단일계약\",\"KAPT_PPAREA\":0,\"KAPTD_CCCNT\":\"154\",\"KAPTD_ECNTM\":0,\"KAPT_TEL\":\"02-848-4779\",\"WELFARE_FACILITY\":\"관리사무소, 노인정, 보육시설, 문고, 주민공동시설, 어린이놀이터, 휴게시설, 자전거보관소\",\"KAPTD_ECNTP\":15,\"KAPT_FAX\":\"02-833-4779\",\"KAPT_ACC_COMPANY\":\"이지스MPK\",\"KAPT_MGR_CNT\":\"7\",\"KAPT_BCOMPANY\":\"경남기업\",\"CONVENIENT_FACILITY\":\"관공서(동사무소) 병원(남수한의원) 대형상가(LG하이프라자) 공원(보라매공원) 기타(돈보스코청소년센터)\",\"CODE_DISINF\":\"위탁관리\",\"CODE_EMGR\":\"상주선임\",\"CODE_MGR\":\"위탁관리\",\"KAPTD_PCNTU\":\"674\",\"CODE_EMAINT\":\"자치관리\",\"KAPT_MCAREA\":0,\"CODE_ELEV\":\"위탁관리\",\"KAPT_MEAREA\":0,\"CODE_NET\":\"유\",\"KAPT_MHAREA\":0,\"KAPT_USEDATE\":\"2005-08-12\",\"KAPTD_WTIMEBUS\":\"5~10분이내\",\"KAPT_CODE\":\"A15086006\",\"CODE_APT\":\"아파트\",\"CODE_WSUPPLY\":\"부스타방식\",\"KAPT_MPAREA\":0,\"KAPT_MAREA\":57010.79,\"KAPT_PAREA\":0,\"KAPT_TAREA\":73156.97,\"CODE_FALARM\":\"R형\",\"KAPTD_SEC_COM\":\"예주산업\",\"KAPTD_ECAPA\":\"2391\",\"CODE_STR\":\"철근콘크리트구조\",\"APPL_CODE\":null,\"KAPT_ME1AREA\":0,\"KAPT_ACOMPANY\":\"경남기업\",\"KAPT_ME2AREA\":0,\"KAPT_ME3AREA\":0,\"CODE_GARBAGE\":\"음식물쓰레기종량제\",\"KAPT_ME4AREA\":0,\"KAPT_ME5AREA\":0,\"CODE_CLTIME\":\"6\",\"CODE_HALL\":\"계단식\",\"CODE_STIME\":\"24\",\"KAPT_NAME\":\"보라매경남아너스빌\",\"KAPT_DONG_CNT\":\"9\",\"CODE_CLEAN\":\"위탁관리\",\"CODE_SALE\":\"분양\",\"CODE_SEC\":\"위탁관리\",\"EMPTY_HO_CNT\":0,\"APPL_PRODATE\":\"\",\"KAPT_URL\":\"-\",\"KAPTD_CLCNT\":\"5\",\"KAPTD_PCNT\":\"125\",\"KAPTD_WTIMESUB\":\"5~10분이내\",\"KAPTD_DCNT\":\"12\",\"EDUCATION_FACILITY\":\"초등학교(대길초등학교) 중학교(대방중학교) 고등학교(영신고등학교)\",\"KAPT_CCOMPANY\":\"광인산업(주)\"},\"resultMap_kapt_areacnt\":[{\"KAPTDA_CNT\":92,\"AREA_GBN\":1,\"KAPT_CODE\":\"A15086006\"},{\"KAPTDA_CNT\":489,\"AREA_GBN\":2,\"KAPT_CODE\":\"A15086006\"},{\"KAPTDA_CNT\":88,\"AREA_GBN\":3,\"KAPT_CODE\":\"A15086006\"},{\"KAPTDA_CNT\":null,\"AREA_GBN\":4,\"KAPT_CODE\":null}],\"resultMap_kapt_addrList\":[{\"ADDR\":\"서울특별시 영등포구 신길동 4780 보라매경남아너스빌\",\"KAPT_CODE\":\"A15086006\",\"ADDR_GBN\":\"B\"},{\"ADDR\":\"서울특별시 영등포구 여의대방로 25\",\"KAPT_CODE\":\"A15086006\",\"ADDR_GBN\":\"R\"}]}\n",
      "{\"resultMap_match\":{\"KAPT_CODE\":\"A15086006\",\"TOWN_CODE\":20008680},\"resultMap_kapt\":{\"KAPT_NAME\":\"보라매경남아너스빌\",\"CODE_SALE\":\"분양\",\"CODE_HEAT\":\"개별난방\",\"KAPT_TAREA\":73156.97,\"KAPT_DONG_CNT\":\"9\",\"KAPT_BCOMPANY\":\"경남기업\",\"KAPT_ACOMPANY\":\"경남기업\",\"KAPT_TEL\":\"02-848-4779\",\"KAPT_FAX\":\"02-833-4779\",\"KAPT_URL\":\"-\",\"CODE_APT\":\"아파트\",\"CODE_MGR\":\"위탁관리\",\"KAPT_MGR_CNT\":\"7\",\"KAPT_CCOMPANY\":\"광인산업(주)\",\"CODE_SEC\":\"위탁관리\",\"KAPTD_SCNT\":\"10\",\"KAPTD_SEC_COM\":\"예주산업\",\"CODE_CLEAN\":\"위탁관리\",\"KAPTD_CLCNT\":\"5\",\"CODE_GARBAGE\":\"음식물쓰레기종량제\",\"CODE_DISINF\":\"위탁관리\",\"KAPTD_DCNT\":\"12\",\"DISPOSAL_TYPE\":\"도포식,분무식\",\"KAPTD_PCNT\":\"125\",\"KAPTD_PCNTU\":\"674\",\"KAPTD_CCCNT\":\"154\",\"WELFARE_FACILITY\":\"관리사무소, 노인정, 보육시설, 문고, 주민공동시설, 어린이놀이터, 휴게시설, 자전거보관소\",\"KAPTD_ECAPA\":\"2391\",\"CODE_EMGR\":\"상주선임\",\"CODE_WSUPPLY\":\"부스타방식\",\"CODE_STR\":\"철근콘크리트구조\",\"CODE_ECON\":\"단일계약\",\"CODE_FALARM\":\"R형\",\"CODE_ELEV\":\"위탁관리\",\"CODE_NET\":\"유\",\"KAPTD_WTIMEBUS\":\"5~10분이내\",\"CONVENIENT_FACILITY\":\"관공서(동사무소) 병원(남수한의원) 대형상가(LG하이프라자) 공원(보라매공원) 기타(돈보스코청소년센터)\",\"EDUCATION_FACILITY\":\"초등학교(대길초등학교) 중학교(대방중학교) 고등학교(영신고등학교)\",\"CODE_HALL\":\"계단식\",\"KAPT_USEDATE\":\"2005-08-12\",\"KAPT_MAREA\":57010.79,\"SUBWAY_STATION\":\"신풍\",\"SUBWAY_LINE\":\"7호선\",\"KAPTD_WTIMESUB\":\"5~10분이내\",\"KAPT_CODE\":\"A15086006\"},\"resultMap_kapt_areacnt\":[{\"KAPTDA_CNT\":92,\"AREA_GBN\":1,\"KAPT_CODE\":\"A15086006\"},{\"KAPTDA_CNT\":489,\"AREA_GBN\":2,\"KAPT_CODE\":\"A15086006\"},{\"KAPTDA_CNT\":88,\"AREA_GBN\":3,\"KAPT_CODE\":\"A15086006\"},{\"KAPTDA_CNT\":0,\"AREA_GBN\":4,\"KAPT_CODE\":\"\"}],\"resultMap_kapt_addrList\":[{\"ADDR\":\"서울특별시 영등포구 신길동 4780 보라매경남아너스빌\",\"KAPT_CODE\":\"A15086006\",\"ADDR_GBN\":\"B\"},{\"ADDR\":\"서울특별시 영등포구 여의대방로 25\",\"KAPT_CODE\":\"A15086006\",\"ADDR_GBN\":\"R\"}]}\n",
      "4 / 23 보라매경남아너스빌 처리완료\n"
     ]
    },
    {
     "name": "stderr",
     "output_type": "stream",
     "text": [
      "2018/03/22 21:24:54 example.com 200 OK\n"
     ]
    },
    {
     "name": "stdout",
     "output_type": "stream",
     "text": [
      "{\"resultMap_match\":{\"KAPT_CODE\":\"A15086001\",\"TOWN_CODE\":20008679},\"resultMap_kapt\":{\"CODE_HEAT\":\"개별난방\",\"SUBWAY_STATION\":\"신풍\",\"SUBWAY_LINE\":\"7호선\",\"KAPT_PE1AREA\":0,\"KAPT_PE2AREA\":0,\"KAPT_PE3AREA\":0,\"KAPT_PEAREA\":0,\"KAPT_PE4AREA\":0,\"DISPOSAL_TYPE\":\"분무식\",\"KAPT_PE5AREA\":0,\"KAPTD_ECNTB\":0,\"KAPTD_ECNTC\":0,\"KAPT_PHAREA\":0,\"KAPTD_ECNTD\":0,\"KAPTD_SCNT\":\"2\",\"KAPTD_ECNTE\":0,\"CODE_ECON\":\"단일계약\",\"KAPT_PPAREA\":0,\"KAPTD_CCCNT\":\"37\",\"KAPTD_ECNTM\":0,\"KAPT_TEL\":\"02-836-0385\",\"WELFARE_FACILITY\":\"관리사무소, 노인정, 어린이놀이터, 자전거보관소\",\"KAPTD_ECNTP\":6,\"KAPT_FAX\":\"02-836-0386\",\"KAPT_ACC_COMPANY\":\"-\",\"KAPT_MGR_CNT\":\"3\",\"KAPT_BCOMPANY\":\"두산건설(주)\",\"CONVENIENT_FACILITY\":\"관공서(동사무소) 병원(김정은소아과의원) 공원(보라매공원) 기타(돈보스코청소년센터)\",\"CODE_DISINF\":\"위탁관리\",\"CODE_EMGR\":\"위탁선임\",\"CODE_MGR\":\"위탁관리\",\"KAPTD_PCNTU\":\"48\",\"CODE_EMAINT\":\"위탁관리\",\"KAPT_MCAREA\":4454.458,\"CODE_ELEV\":\"위탁관리\",\"KAPT_MEAREA\":0,\"CODE_NET\":\"무\",\"KAPT_MHAREA\":0,\"KAPT_USEDATE\":\"2005-11-10\",\"KAPTD_WTIMEBUS\":\"5~10분이내\",\"KAPT_CODE\":\"A15086001\",\"CODE_APT\":\"아파트\",\"CODE_WSUPPLY\":\"부스타방식\",\"KAPT_MPAREA\":17039.876,\"KAPT_MAREA\":17039.43,\"KAPT_PAREA\":0,\"KAPT_TAREA\":27724.41,\"CODE_FALARM\":\"GR형\",\"KAPTD_SEC_COM\":\"(주)한빛관리\",\"KAPTD_ECAPA\":\"900\",\"CODE_STR\":\"철근콘크리트구조\",\"APPL_CODE\":null,\"KAPT_ME1AREA\":0,\"KAPT_ACOMPANY\":\"두산건설\",\"KAPT_ME2AREA\":0,\"KAPT_ME3AREA\":0,\"CODE_GARBAGE\":\"음식물쓰레기종량제\",\"KAPT_ME4AREA\":0,\"KAPT_ME5AREA\":0,\"CODE_CLTIME\":\"6\",\"CODE_HALL\":\"계단식\",\"CODE_STIME\":\"15\",\"KAPT_NAME\":\"보라매두산위브\",\"KAPT_DONG_CNT\":\"2\",\"CODE_CLEAN\":\"위탁관리\",\"CODE_SALE\":\"분양\",\"CODE_SEC\":\"위탁관리\",\"EMPTY_HO_CNT\":0,\"APPL_PRODATE\":\"\",\"KAPT_URL\":\"-\",\"KAPTD_CLCNT\":\"2\",\"KAPTD_PCNT\":\"205\",\"KAPTD_WTIMESUB\":\"5~10분이내\",\"KAPTD_DCNT\":\"12\",\"EDUCATION_FACILITY\":\"초등학교(대길초등학교) 중학교(대방중학교)\",\"KAPT_CCOMPANY\":\"(주)한빛관리\"},\"resultMap_kapt_areacnt\":[{\"KAPTDA_CNT\":null,\"AREA_GBN\":1,\"KAPT_CODE\":null},{\"KAPTDA_CNT\":104,\"AREA_GBN\":2,\"KAPT_CODE\":\"A15086001\"},{\"KAPTDA_CNT\":null,\"AREA_GBN\":3,\"KAPT_CODE\":null},{\"KAPTDA_CNT\":60,\"AREA_GBN\":4,\"KAPT_CODE\":\"A15086001\"}],\"resultMap_kapt_addrList\":[{\"ADDR\":\"서울특별시 영등포구 신길동 4497 보라매두산위브\",\"KAPT_CODE\":\"A15086001\",\"ADDR_GBN\":\"B\"},{\"ADDR\":\"서울특별시 영등포구 여의대방로9길 5\",\"KAPT_CODE\":\"A15086001\",\"ADDR_GBN\":\"R\"}]}\n",
      "{\"resultMap_match\":{\"KAPT_CODE\":\"A15086001\",\"TOWN_CODE\":20008679},\"resultMap_kapt\":{\"KAPT_NAME\":\"보라매두산위브\",\"CODE_SALE\":\"분양\",\"CODE_HEAT\":\"개별난방\",\"KAPT_TAREA\":27724.41,\"KAPT_DONG_CNT\":\"2\",\"KAPT_BCOMPANY\":\"두산건설(주)\",\"KAPT_ACOMPANY\":\"두산건설\",\"KAPT_TEL\":\"02-836-0385\",\"KAPT_FAX\":\"02-836-0386\",\"KAPT_URL\":\"-\",\"CODE_APT\":\"아파트\",\"CODE_MGR\":\"위탁관리\",\"KAPT_MGR_CNT\":\"3\",\"KAPT_CCOMPANY\":\"(주)한빛관리\",\"CODE_SEC\":\"위탁관리\",\"KAPTD_SCNT\":\"2\",\"KAPTD_SEC_COM\":\"(주)한빛관리\",\"CODE_CLEAN\":\"위탁관리\",\"KAPTD_CLCNT\":\"2\",\"CODE_GARBAGE\":\"음식물쓰레기종량제\",\"CODE_DISINF\":\"위탁관리\",\"KAPTD_DCNT\":\"12\",\"DISPOSAL_TYPE\":\"분무식\",\"KAPTD_PCNT\":\"205\",\"KAPTD_PCNTU\":\"48\",\"KAPTD_CCCNT\":\"37\",\"WELFARE_FACILITY\":\"관리사무소, 노인정, 어린이놀이터, 자전거보관소\",\"KAPTD_ECAPA\":\"900\",\"CODE_EMGR\":\"위탁선임\",\"CODE_WSUPPLY\":\"부스타방식\",\"CODE_STR\":\"철근콘크리트구조\",\"CODE_ECON\":\"단일계약\",\"CODE_FALARM\":\"GR형\",\"CODE_ELEV\":\"위탁관리\",\"CODE_NET\":\"무\",\"KAPTD_WTIMEBUS\":\"5~10분이내\",\"CONVENIENT_FACILITY\":\"관공서(동사무소) 병원(김정은소아과의원) 공원(보라매공원) 기타(돈보스코청소년센터)\",\"EDUCATION_FACILITY\":\"초등학교(대길초등학교) 중학교(대방중학교)\",\"CODE_HALL\":\"계단식\",\"KAPT_USEDATE\":\"2005-11-10\",\"KAPT_MAREA\":17039.43,\"SUBWAY_STATION\":\"신풍\",\"SUBWAY_LINE\":\"7호선\",\"KAPTD_WTIMESUB\":\"5~10분이내\",\"KAPT_CODE\":\"A15086001\"},\"resultMap_kapt_areacnt\":[{\"KAPTDA_CNT\":0,\"AREA_GBN\":1,\"KAPT_CODE\":\"\"},{\"KAPTDA_CNT\":104,\"AREA_GBN\":2,\"KAPT_CODE\":\"A15086001\"},{\"KAPTDA_CNT\":0,\"AREA_GBN\":3,\"KAPT_CODE\":\"\"},{\"KAPTDA_CNT\":60,\"AREA_GBN\":4,\"KAPT_CODE\":\"A15086001\"}],\"resultMap_kapt_addrList\":[{\"ADDR\":\"서울특별시 영등포구 신길동 4497 보라매두산위브\",\"KAPT_CODE\":\"A15086001\",\"ADDR_GBN\":\"B\"},{\"ADDR\":\"서울특별시 영등포구 여의대방로9길 5\",\"KAPT_CODE\":\"A15086001\",\"ADDR_GBN\":\"R\"}]}\n",
      "5 / 23 보라매두산위브 처리완료\n"
     ]
    },
    {
     "name": "stderr",
     "output_type": "stream",
     "text": [
      "2018/03/22 21:24:54 example.com 200 OK\n"
     ]
    },
    {
     "name": "stdout",
     "output_type": "stream",
     "text": [
      "{\"resultMap_match\":{\"KAPT_CODE\":\"A15005102\",\"TOWN_CODE\":1055},\"resultMap_kapt\":{\"CODE_HEAT\":\"개별난방\",\"SUBWAY_STATION\":\"신풍\",\"SUBWAY_LINE\":\"7호선\",\"KAPT_PE1AREA\":0,\"KAPT_PE2AREA\":0,\"KAPT_PE3AREA\":0,\"KAPT_PEAREA\":0,\"KAPT_PE4AREA\":0,\"DISPOSAL_TYPE\":\"-\",\"KAPT_PE5AREA\":0,\"KAPTD_ECNTB\":0,\"KAPTD_ECNTC\":0,\"KAPT_PHAREA\":0,\"KAPTD_ECNTD\":0,\"KAPTD_SCNT\":\"2\",\"KAPTD_ECNTE\":0,\"CODE_ECON\":\"단일계약\",\"KAPT_PPAREA\":0,\"KAPTD_CCCNT\":\"24\",\"KAPTD_ECNTM\":0,\"KAPT_TEL\":\"02)834-9119\",\"WELFARE_FACILITY\":\"어린이놀이터\",\"KAPTD_ECNTP\":4,\"KAPT_FAX\":\"02834-9122\",\"KAPT_ACC_COMPANY\":\"-\",\"KAPT_MGR_CNT\":\"2\",\"KAPT_BCOMPANY\":\"우정건설 주식회사\",\"CONVENIENT_FACILITY\":\"관공서(동사무소) 병원(보인의원) 대형상가(사러가쇼핑센터) 공원(근린공원)\",\"CODE_DISINF\":\"기타\",\"CODE_EMGR\":\"위탁선임\",\"CODE_MGR\":\"위탁관리\",\"KAPTD_PCNTU\":\"28\",\"CODE_EMAINT\":\"위탁관리\",\"KAPT_MCAREA\":0,\"CODE_ELEV\":\"위탁관리\",\"KAPT_MEAREA\":0,\"CODE_NET\":\"무\",\"KAPT_MHAREA\":0,\"KAPT_USEDATE\":\"2000-07-11\",\"KAPTD_WTIMEBUS\":\"10~15분이내\",\"KAPT_CODE\":\"A15005102\",\"CODE_APT\":\"아파트\",\"CODE_WSUPPLY\":\"고가수조식\",\"KAPT_MPAREA\":0,\"KAPT_MAREA\":9969.7,\"KAPT_PAREA\":0,\"KAPT_TAREA\":15140,\"CODE_FALARM\":\"P형\",\"KAPTD_SEC_COM\":\"유원종합관리(주)\",\"KAPTD_ECAPA\":\"450\",\"CODE_STR\":\"철근콘크리트구조\",\"APPL_CODE\":null,\"KAPT_ME1AREA\":0,\"KAPT_ACOMPANY\":\"도시개발 공사\",\"KAPT_ME2AREA\":0,\"KAPT_ME3AREA\":0,\"CODE_GARBAGE\":\"거점장비수거방식\",\"KAPT_ME4AREA\":0,\"KAPT_ME5AREA\":0,\"CODE_CLTIME\":\"5\",\"CODE_HALL\":\"복도식\",\"CODE_STIME\":\"16\",\"KAPT_NAME\":\"신기목련\",\"KAPT_DONG_CNT\":\"2\",\"CODE_CLEAN\":\"위탁관리\",\"CODE_SALE\":\"임대+분양\",\"CODE_SEC\":\"위탁관리\",\"EMPTY_HO_CNT\":null,\"APPL_PRODATE\":\"\",\"KAPT_URL\":\"-\",\"KAPTD_CLCNT\":\"1\",\"KAPTD_PCNT\":\"102\",\"KAPTD_WTIMESUB\":\"10~15분이내\",\"KAPTD_DCNT\":\"2\",\"EDUCATION_FACILITY\":\"초등학교(우신초등학교)\",\"KAPT_CCOMPANY\":\"유원종합관리(주)\"},\"resultMap_kapt_areacnt\":[{\"KAPTDA_CNT\":213,\"AREA_GBN\":1,\"KAPT_CODE\":\"A15005102\"},{\"KAPTDA_CNT\":null,\"AREA_GBN\":2,\"KAPT_CODE\":null},{\"KAPTDA_CNT\":null,\"AREA_GBN\":3,\"KAPT_CODE\":null},{\"KAPTDA_CNT\":null,\"AREA_GBN\":4,\"KAPT_CODE\":null}],\"resultMap_kapt_addrList\":[{\"ADDR\":\"서울특별시 영등포구 신길동 4935 신기목련아파트\",\"KAPT_CODE\":\"A15005102\",\"ADDR_GBN\":\"B\"},{\"ADDR\":\"서울특별시 영등포구 신길로42가길 34\",\"KAPT_CODE\":\"A15005102\",\"ADDR_GBN\":\"R\"}]}\n",
      "{\"resultMap_match\":{\"KAPT_CODE\":\"A15005102\",\"TOWN_CODE\":1055},\"resultMap_kapt\":{\"KAPT_NAME\":\"신기목련\",\"CODE_SALE\":\"임대+분양\",\"CODE_HEAT\":\"개별난방\",\"KAPT_TAREA\":15140,\"KAPT_DONG_CNT\":\"2\",\"KAPT_BCOMPANY\":\"우정건설 주식회사\",\"KAPT_ACOMPANY\":\"도시개발 공사\",\"KAPT_TEL\":\"02)834-9119\",\"KAPT_FAX\":\"02834-9122\",\"KAPT_URL\":\"-\",\"CODE_APT\":\"아파트\",\"CODE_MGR\":\"위탁관리\",\"KAPT_MGR_CNT\":\"2\",\"KAPT_CCOMPANY\":\"유원종합관리(주)\",\"CODE_SEC\":\"위탁관리\",\"KAPTD_SCNT\":\"2\",\"KAPTD_SEC_COM\":\"유원종합관리(주)\",\"CODE_CLEAN\":\"위탁관리\",\"KAPTD_CLCNT\":\"1\",\"CODE_GARBAGE\":\"거점장비수거방식\",\"CODE_DISINF\":\"기타\",\"KAPTD_DCNT\":\"2\",\"DISPOSAL_TYPE\":\"-\",\"KAPTD_PCNT\":\"102\",\"KAPTD_PCNTU\":\"28\",\"KAPTD_CCCNT\":\"24\",\"WELFARE_FACILITY\":\"어린이놀이터\",\"KAPTD_ECAPA\":\"450\",\"CODE_EMGR\":\"위탁선임\",\"CODE_WSUPPLY\":\"고가수조식\",\"CODE_STR\":\"철근콘크리트구조\",\"CODE_ECON\":\"단일계약\",\"CODE_FALARM\":\"P형\",\"CODE_ELEV\":\"위탁관리\",\"CODE_NET\":\"무\",\"KAPTD_WTIMEBUS\":\"10~15분이내\",\"CONVENIENT_FACILITY\":\"관공서(동사무소) 병원(보인의원) 대형상가(사러가쇼핑센터) 공원(근린공원)\",\"EDUCATION_FACILITY\":\"초등학교(우신초등학교)\",\"CODE_HALL\":\"복도식\",\"KAPT_USEDATE\":\"2000-07-11\",\"KAPT_MAREA\":9969.7,\"SUBWAY_STATION\":\"신풍\",\"SUBWAY_LINE\":\"7호선\",\"KAPTD_WTIMESUB\":\"10~15분이내\",\"KAPT_CODE\":\"A15005102\"},\"resultMap_kapt_areacnt\":[{\"KAPTDA_CNT\":213,\"AREA_GBN\":1,\"KAPT_CODE\":\"A15005102\"},{\"KAPTDA_CNT\":0,\"AREA_GBN\":2,\"KAPT_CODE\":\"\"},{\"KAPTDA_CNT\":0,\"AREA_GBN\":3,\"KAPT_CODE\":\"\"},{\"KAPTDA_CNT\":0,\"AREA_GBN\":4,\"KAPT_CODE\":\"\"}],\"resultMap_kapt_addrList\":[{\"ADDR\":\"서울특별시 영등포구 신길동 4935 신기목련아파트\",\"KAPT_CODE\":\"A15005102\",\"ADDR_GBN\":\"B\"},{\"ADDR\":\"서울특별시 영등포구 신길로42가길 34\",\"KAPT_CODE\":\"A15005102\",\"ADDR_GBN\":\"R\"}]}\n",
      "6 / 23 신기목련 처리완료\n"
     ]
    },
    {
     "name": "stderr",
     "output_type": "stream",
     "text": [
      "2018/03/22 21:24:54 example.com 200 OK\n",
      "2018/03/22 21:24:54 example.com 200 OK\n"
     ]
    },
    {
     "name": "stdout",
     "output_type": "stream",
     "text": [
      "{\"resultMap_match\":{\"KAPT_CODE\":\"A15005303\",\"TOWN_CODE\":1057},\"resultMap_kapt\":{\"CODE_HEAT\":\"개별난방\",\"SUBWAY_STATION\":\"신도림역,문래역\",\"SUBWAY_LINE\":\"1호선, 2호선\",\"KAPT_PE1AREA\":0,\"KAPT_PE2AREA\":0,\"KAPT_PE3AREA\":0,\"KAPT_PEAREA\":0,\"KAPT_PE4AREA\":0,\"DISPOSAL_TYPE\":\"도포식,분무식,독이식\",\"KAPT_PE5AREA\":0,\"KAPTD_ECNTB\":0,\"KAPTD_ECNTC\":0,\"KAPT_PHAREA\":0,\"KAPTD_ECNTD\":0,\"KAPTD_SCNT\":\"9\",\"KAPTD_ECNTE\":0,\"CODE_ECON\":\"단일계약\",\"KAPT_PPAREA\":0,\"KAPTD_CCCNT\":\"48\",\"KAPTD_ECNTM\":0,\"KAPT_TEL\":\"02-833-6584\",\"WELFARE_FACILITY\":\"관리사무소, 노인정, 어린이놀이터\",\"KAPTD_ECNTP\":16,\"KAPT_FAX\":\"02-6673-6583\",\"KAPT_ACC_COMPANY\":\"-\",\"KAPT_MGR_CNT\":\"5\",\"KAPT_BCOMPANY\":\"(주)우성건설\",\"CONVENIENT_FACILITY\":\"관공서(동사무소) 병원(한산부인과) 대형상가(LG하이프라자) 공원(근린공원)\",\"CODE_DISINF\":\"위탁관리\",\"CODE_EMGR\":\"상주선임\",\"CODE_MGR\":\"위탁관리\",\"KAPTD_PCNTU\":\"0\",\"CODE_EMAINT\":\"위탁관리\",\"KAPT_MCAREA\":0,\"CODE_ELEV\":\"위탁관리\",\"KAPT_MEAREA\":0,\"CODE_NET\":\"무\",\"KAPT_MHAREA\":0,\"KAPT_USEDATE\":\"1986-09-03\",\"KAPTD_WTIMEBUS\":\"5분이내\",\"KAPT_CODE\":\"A15005303\",\"CODE_APT\":\"아파트\",\"CODE_WSUPPLY\":\"고가수조식\",\"KAPT_MPAREA\":61767.2,\"KAPT_MAREA\":46238.48,\"KAPT_PAREA\":0,\"KAPT_TAREA\":61767.2,\"CODE_FALARM\":\"P형\",\"KAPTD_SEC_COM\":\"조은세이프\",\"KAPTD_ECAPA\":\"1760\",\"CODE_STR\":\"철근콘크리트구조\",\"APPL_CODE\":null,\"KAPT_ME1AREA\":0,\"KAPT_ACOMPANY\":\"(주)우성건설\",\"KAPT_ME2AREA\":0,\"KAPT_ME3AREA\":0,\"CODE_GARBAGE\":\"음식물쓰레기종량제\",\"KAPT_ME4AREA\":0,\"KAPT_ME5AREA\":0,\"CODE_CLTIME\":\"6\",\"CODE_HALL\":\"혼합식\",\"CODE_STIME\":\"24\",\"KAPT_NAME\":\"신길1차우성아파트\",\"KAPT_DONG_CNT\":\"6\",\"CODE_CLEAN\":\"위탁관리\",\"CODE_SALE\":\"분양\",\"CODE_SEC\":\"위탁관리\",\"EMPTY_HO_CNT\":null,\"APPL_PRODATE\":\"\",\"KAPT_URL\":\"apt913.aptgate.co.kr\",\"KAPTD_CLCNT\":\"6\",\"KAPTD_PCNT\":\"470\",\"KAPTD_WTIMESUB\":\"5~10분이내\",\"KAPTD_DCNT\":\"12\",\"EDUCATION_FACILITY\":\"초등학교(대영초등학교) 중학교(대영중교) 고등학교(대영고교)\",\"KAPT_CCOMPANY\":\"(주)아주관리\"},\"resultMap_kapt_areacnt\":[{\"KAPTDA_CNT\":182,\"AREA_GBN\":1,\"KAPT_CODE\":\"A15005303\"},{\"KAPTDA_CNT\":506,\"AREA_GBN\":2,\"KAPT_CODE\":\"A15005303\"},{\"KAPTDA_CNT\":null,\"AREA_GBN\":3,\"KAPT_CODE\":null},{\"KAPTDA_CNT\":null,\"AREA_GBN\":4,\"KAPT_CODE\":null}],\"resultMap_kapt_addrList\":[{\"ADDR\":\"서울특별시 영등포구 신길동 365 신길우성아파트\",\"KAPT_CODE\":\"A15005303\",\"ADDR_GBN\":\"B\"},{\"ADDR\":\"서울특별시 영등포구 도신로 68-1\",\"KAPT_CODE\":\"A15005303\",\"ADDR_GBN\":\"R\"}]}\n",
      "{\"resultMap_match\":{\"KAPT_CODE\":\"A15005303\",\"TOWN_CODE\":1057},\"resultMap_kapt\":{\"KAPT_NAME\":\"신길1차우성아파트\",\"CODE_SALE\":\"분양\",\"CODE_HEAT\":\"개별난방\",\"KAPT_TAREA\":61767.2,\"KAPT_DONG_CNT\":\"6\",\"KAPT_BCOMPANY\":\"(주)우성건설\",\"KAPT_ACOMPANY\":\"(주)우성건설\",\"KAPT_TEL\":\"02-833-6584\",\"KAPT_FAX\":\"02-6673-6583\",\"KAPT_URL\":\"apt913.aptgate.co.kr\",\"CODE_APT\":\"아파트\",\"CODE_MGR\":\"위탁관리\",\"KAPT_MGR_CNT\":\"5\",\"KAPT_CCOMPANY\":\"(주)아주관리\",\"CODE_SEC\":\"위탁관리\",\"KAPTD_SCNT\":\"9\",\"KAPTD_SEC_COM\":\"조은세이프\",\"CODE_CLEAN\":\"위탁관리\",\"KAPTD_CLCNT\":\"6\",\"CODE_GARBAGE\":\"음식물쓰레기종량제\",\"CODE_DISINF\":\"위탁관리\",\"KAPTD_DCNT\":\"12\",\"DISPOSAL_TYPE\":\"도포식,분무식,독이식\",\"KAPTD_PCNT\":\"470\",\"KAPTD_PCNTU\":\"0\",\"KAPTD_CCCNT\":\"48\",\"WELFARE_FACILITY\":\"관리사무소, 노인정, 어린이놀이터\",\"KAPTD_ECAPA\":\"1760\",\"CODE_EMGR\":\"상주선임\",\"CODE_WSUPPLY\":\"고가수조식\",\"CODE_STR\":\"철근콘크리트구조\",\"CODE_ECON\":\"단일계약\",\"CODE_FALARM\":\"P형\",\"CODE_ELEV\":\"위탁관리\",\"CODE_NET\":\"무\",\"KAPTD_WTIMEBUS\":\"5분이내\",\"CONVENIENT_FACILITY\":\"관공서(동사무소) 병원(한산부인과) 대형상가(LG하이프라자) 공원(근린공원)\",\"EDUCATION_FACILITY\":\"초등학교(대영초등학교) 중학교(대영중교) 고등학교(대영고교)\",\"CODE_HALL\":\"혼합식\",\"KAPT_USEDATE\":\"1986-09-03\",\"KAPT_MAREA\":46238.48,\"SUBWAY_STATION\":\"신도림역,문래역\",\"SUBWAY_LINE\":\"1호선, 2호선\",\"KAPTD_WTIMESUB\":\"5~10분이내\",\"KAPT_CODE\":\"A15005303\"},\"resultMap_kapt_areacnt\":[{\"KAPTDA_CNT\":182,\"AREA_GBN\":1,\"KAPT_CODE\":\"A15005303\"},{\"KAPTDA_CNT\":506,\"AREA_GBN\":2,\"KAPT_CODE\":\"A15005303\"},{\"KAPTDA_CNT\":0,\"AREA_GBN\":3,\"KAPT_CODE\":\"\"},{\"KAPTDA_CNT\":0,\"AREA_GBN\":4,\"KAPT_CODE\":\"\"}],\"resultMap_kapt_addrList\":[{\"ADDR\":\"서울특별시 영등포구 신길동 365 신길우성아파트\",\"KAPT_CODE\":\"A15005303\",\"ADDR_GBN\":\"B\"},{\"ADDR\":\"서울특별시 영등포구 도신로 68-1\",\"KAPT_CODE\":\"A15005303\",\"ADDR_GBN\":\"R\"}]}\n",
      "7 / 23 신길1차우성아파트 처리완료\n",
      "{\"resultMap_match\":{\"KAPT_CODE\":\"A15005302\",\"TOWN_CODE\":1047},\"resultMap_kapt\":{\"CODE_HEAT\":\"개별난방\",\"SUBWAY_STATION\":\"신풍역\",\"SUBWAY_LINE\":\"1호선, 2호선, 7호선\",\"KAPT_PE1AREA\":0,\"KAPT_PE2AREA\":0,\"KAPT_PE3AREA\":0,\"KAPT_PEAREA\":0,\"KAPT_PE4AREA\":0,\"DISPOSAL_TYPE\":\"분무식,독이식\",\"KAPT_PE5AREA\":0,\"KAPTD_ECNTB\":0,\"KAPTD_ECNTC\":0,\"KAPT_PHAREA\":0,\"KAPTD_ECNTD\":0,\"KAPTD_SCNT\":\"6\",\"KAPTD_ECNTE\":0,\"CODE_ECON\":\"종합계약\",\"KAPT_PPAREA\":0,\"KAPTD_CCCNT\":\"107\",\"KAPTD_ECNTM\":0,\"KAPT_TEL\":\"844-2535\",\"WELFARE_FACILITY\":\"관리사무소, 노인정, 어린이놀이터, 자전거보관소\",\"KAPTD_ECNTP\":4,\"KAPT_FAX\":\"844-2535\",\"KAPT_ACC_COMPANY\":\"-\",\"KAPT_MGR_CNT\":\"4\",\"KAPT_BCOMPANY\":\"LIG건영\",\"CONVENIENT_FACILITY\":\"관공서(신길3동) 병원(한산부인과) 대형상가(LG하이프라자) 공원(근린공원)\",\"CODE_DISINF\":\"위탁관리\",\"CODE_EMGR\":\"위탁선임\",\"CODE_MGR\":\"자치관리\",\"KAPTD_PCNTU\":\"0\",\"CODE_EMAINT\":\"위탁관리\",\"KAPT_MCAREA\":0,\"CODE_ELEV\":\"위탁관리\",\"KAPT_MEAREA\":0,\"CODE_NET\":\"유\",\"KAPT_MHAREA\":0,\"KAPT_USEDATE\":\"1985-09-04\",\"KAPTD_WTIMEBUS\":\"5~10분이내\",\"KAPT_CODE\":\"A15005302\",\"CODE_APT\":\"아파트\",\"CODE_WSUPPLY\":\"부스타방식\",\"KAPT_MPAREA\":0,\"KAPT_MAREA\":31387.44,\"KAPT_PAREA\":0,\"KAPT_TAREA\":44462.75,\"CODE_FALARM\":\"P형\",\"KAPTD_SEC_COM\":\"-\",\"KAPTD_ECAPA\":\"995\",\"CODE_STR\":\"철근콘크리트구조\",\"APPL_CODE\":null,\"KAPT_ME1AREA\":0,\"KAPT_ACOMPANY\":\"(주)건영\",\"KAPT_ME2AREA\":0,\"KAPT_ME3AREA\":0,\"CODE_GARBAGE\":\"음식물쓰레기종량제\",\"KAPT_ME4AREA\":0,\"KAPT_ME5AREA\":0,\"CODE_CLTIME\":\"5\",\"CODE_HALL\":\"복도식\",\"CODE_STIME\":\"-\",\"KAPT_NAME\":\"신길건영\",\"KAPT_DONG_CNT\":\"4\",\"CODE_CLEAN\":\"위탁관리\",\"CODE_SALE\":\"분양\",\"CODE_SEC\":\"자치관리\",\"EMPTY_HO_CNT\":0,\"APPL_PRODATE\":\"\",\"KAPT_URL\":\"신길건영.apti.co.kr\",\"KAPTD_CLCNT\":\"5\",\"KAPTD_PCNT\":\"313\",\"KAPTD_WTIMESUB\":\"5~10분이내\",\"KAPTD_DCNT\":\"12\",\"EDUCATION_FACILITY\":\"초등학교(대영초등학교) 중학교(대영중교) 고등학교(대영고교)\",\"KAPT_CCOMPANY\":\"-\"},\"resultMap_kapt_areacnt\":[{\"KAPTDA_CNT\":null,\"AREA_GBN\":1,\"KAPT_CODE\":null},{\"KAPTDA_CNT\":160,\"AREA_GBN\":2,\"KAPT_CODE\":\"A15005302\"},{\"KAPTDA_CNT\":226,\"AREA_GBN\":3,\"KAPT_CODE\":\"A15005302\"},{\"KAPTDA_CNT\":null,\"AREA_GBN\":4,\"KAPT_CODE\":null}],\"resultMap_kapt_addrList\":[{\"ADDR\":\"서울특별시 영등포구 신길동 364 건영아파트\",\"KAPT_CODE\":\"A15005302\",\"ADDR_GBN\":\"B\"},{\"ADDR\":\"서울특별시 영등포구 도림로 313\",\"KAPT_CODE\":\"A15005302\",\"ADDR_GBN\":\"R\"}]}\n",
      "{\"resultMap_match\":{\"KAPT_CODE\":\"A15005302\",\"TOWN_CODE\":1047},\"resultMap_kapt\":{\"KAPT_NAME\":\"신길건영\",\"CODE_SALE\":\"분양\",\"CODE_HEAT\":\"개별난방\",\"KAPT_TAREA\":44462.75,\"KAPT_DONG_CNT\":\"4\",\"KAPT_BCOMPANY\":\"LIG건영\",\"KAPT_ACOMPANY\":\"(주)건영\",\"KAPT_TEL\":\"844-2535\",\"KAPT_FAX\":\"844-2535\",\"KAPT_URL\":\"신길건영.apti.co.kr\",\"CODE_APT\":\"아파트\",\"CODE_MGR\":\"자치관리\",\"KAPT_MGR_CNT\":\"4\",\"KAPT_CCOMPANY\":\"-\",\"CODE_SEC\":\"자치관리\",\"KAPTD_SCNT\":\"6\",\"KAPTD_SEC_COM\":\"-\",\"CODE_CLEAN\":\"위탁관리\",\"KAPTD_CLCNT\":\"5\",\"CODE_GARBAGE\":\"음식물쓰레기종량제\",\"CODE_DISINF\":\"위탁관리\",\"KAPTD_DCNT\":\"12\",\"DISPOSAL_TYPE\":\"분무식,독이식\",\"KAPTD_PCNT\":\"313\",\"KAPTD_PCNTU\":\"0\",\"KAPTD_CCCNT\":\"107\",\"WELFARE_FACILITY\":\"관리사무소, 노인정, 어린이놀이터, 자전거보관소\",\"KAPTD_ECAPA\":\"995\",\"CODE_EMGR\":\"위탁선임\",\"CODE_WSUPPLY\":\"부스타방식\",\"CODE_STR\":\"철근콘크리트구조\",\"CODE_ECON\":\"종합계약\",\"CODE_FALARM\":\"P형\",\"CODE_ELEV\":\"위탁관리\",\"CODE_NET\":\"유\",\"KAPTD_WTIMEBUS\":\"5~10분이내\",\"CONVENIENT_FACILITY\":\"관공서(신길3동) 병원(한산부인과) 대형상가(LG하이프라자) 공원(근린공원)\",\"EDUCATION_FACILITY\":\"초등학교(대영초등학교) 중학교(대영중교) 고등학교(대영고교)\",\"CODE_HALL\":\"복도식\",\"KAPT_USEDATE\":\"1985-09-04\",\"KAPT_MAREA\":31387.44,\"SUBWAY_STATION\":\"신풍역\",\"SUBWAY_LINE\":\"1호선, 2호선, 7호선\",\"KAPTD_WTIMESUB\":\"5~10분이내\",\"KAPT_CODE\":\"A15005302\"},\"resultMap_kapt_areacnt\":[{\"KAPTDA_CNT\":0,\"AREA_GBN\":1,\"KAPT_CODE\":\"\"},{\"KAPTDA_CNT\":160,\"AREA_GBN\":2,\"KAPT_CODE\":\"A15005302\"},{\"KAPTDA_CNT\":226,\"AREA_GBN\":3,\"KAPT_CODE\":\"A15005302\"},{\"KAPTDA_CNT\":0,\"AREA_GBN\":4,\"KAPT_CODE\":\"\"}],\"resultMap_kapt_addrList\":[{\"ADDR\":\"서울특별시 영등포구 신길동 364 건영아파트\",\"KAPT_CODE\":\"A15005302\",\"ADDR_GBN\":\"B\"},{\"ADDR\":\"서울특별시 영등포구 도림로 313\",\"KAPT_CODE\":\"A15005302\",\"ADDR_GBN\":\"R\"}]}\n",
      "8 / 23 신길건영 처리완료\n"
     ]
    },
    {
     "name": "stderr",
     "output_type": "stream",
     "text": [
      "2018/03/22 21:24:54 example.com 200 OK\n",
      "2018/03/22 21:24:54 example.com 200 OK\n"
     ]
    },
    {
     "name": "stdout",
     "output_type": "stream",
     "text": [
      "{\"resultMap_match\":{\"KAPT_CODE\":\"A15083703\",\"TOWN_CODE\":1048},\"resultMap_kapt\":{\"CODE_HEAT\":\"개별난방\",\"SUBWAY_STATION\":\"신길역\",\"SUBWAY_LINE\":\"1호선, 5호선\",\"KAPT_PE1AREA\":0,\"KAPT_PE2AREA\":0,\"KAPT_PE3AREA\":0,\"KAPT_PEAREA\":0,\"KAPT_PE4AREA\":0,\"DISPOSAL_TYPE\":\"도포식,분무식,기구부착식,기구설치식,독이식\",\"KAPT_PE5AREA\":0,\"KAPTD_ECNTB\":0,\"KAPTD_ECNTC\":0,\"KAPT_PHAREA\":0,\"KAPTD_ECNTD\":0,\"KAPTD_SCNT\":\"4\",\"KAPTD_ECNTE\":0,\"CODE_ECON\":\"단일계약\",\"KAPT_PPAREA\":0,\"KAPTD_CCCNT\":\"67\",\"KAPTD_ECNTM\":0,\"KAPT_TEL\":\"02-835-7655\",\"WELFARE_FACILITY\":\"관리사무소, 노인정, 어린이놀이터\",\"KAPTD_ECNTP\":8,\"KAPT_FAX\":\"02-6747-7677\",\"KAPT_ACC_COMPANY\":\"-\",\"KAPT_MGR_CNT\":\"4\",\"KAPT_BCOMPANY\":\"경남건설\",\"CONVENIENT_FACILITY\":\"관공서(동사무소) 병원(서울대윤병원) 공원(여의도생태공원)\",\"CODE_DISINF\":\"위탁관리\",\"CODE_EMGR\":\"위탁선임\",\"CODE_MGR\":\"자치관리\",\"KAPTD_PCNTU\":\"351\",\"CODE_EMAINT\":\"자치관리\",\"KAPT_MCAREA\":9544.27,\"CODE_ELEV\":\"위탁관리\",\"KAPT_MEAREA\":0,\"CODE_NET\":\"무\",\"KAPT_MHAREA\":0,\"KAPT_USEDATE\":\"1999-06-15\",\"KAPTD_WTIMEBUS\":\"5분이내\",\"KAPT_CODE\":\"A15083703\",\"CODE_APT\":\"아파트\",\"CODE_WSUPPLY\":\"고가수조식\",\"KAPT_MPAREA\":29601.1,\"KAPT_MAREA\":29601.1,\"KAPT_PAREA\":0,\"KAPT_TAREA\":49860.67,\"CODE_FALARM\":\"P형\",\"KAPTD_SEC_COM\":\"한국보안시스템\",\"KAPTD_ECAPA\":\"1240\",\"CODE_STR\":\"철근콘크리트구조\",\"APPL_CODE\":null,\"KAPT_ME1AREA\":0,\"KAPT_ACOMPANY\":\"경남건설\",\"KAPT_ME2AREA\":0,\"KAPT_ME3AREA\":0,\"CODE_GARBAGE\":\"거점장비수거방식\",\"KAPT_ME4AREA\":0,\"KAPT_ME5AREA\":0,\"CODE_CLTIME\":\"5\",\"CODE_HALL\":\"혼합식\",\"CODE_STIME\":\"16\",\"KAPT_NAME\":\"신길경남\",\"KAPT_DONG_CNT\":\"5\",\"CODE_CLEAN\":\"위탁관리\",\"CODE_SALE\":\"분양\",\"CODE_SEC\":\"위탁관리\",\"EMPTY_HO_CNT\":10,\"APPL_PRODATE\":\"\",\"KAPT_URL\":\"-\",\"KAPTD_CLCNT\":\"4\",\"KAPTD_PCNT\":\"84\",\"KAPTD_WTIMESUB\":\"5분이내\",\"KAPTD_DCNT\":\"12\",\"EDUCATION_FACILITY\":\"중학교(영원중교) 고등학교(장훈고교)\",\"KAPT_CCOMPANY\":\"-\"},\"resultMap_kapt_areacnt\":[{\"KAPTDA_CNT\":165,\"AREA_GBN\":1,\"KAPT_CODE\":\"A15083703\"},{\"KAPTDA_CNT\":121,\"AREA_GBN\":2,\"KAPT_CODE\":\"A15083703\"},{\"KAPTDA_CNT\":82,\"AREA_GBN\":3,\"KAPT_CODE\":\"A15083703\"},{\"KAPTDA_CNT\":null,\"AREA_GBN\":4,\"KAPT_CODE\":null}],\"resultMap_kapt_addrList\":[{\"ADDR\":\"서울특별시 영등포구 신길동 67-1 신길동경남아파트\",\"KAPT_CODE\":\"A15083703\",\"ADDR_GBN\":\"B\"},{\"ADDR\":\"서울특별시 영등포구 영등포로 351\",\"KAPT_CODE\":\"A15083703\",\"ADDR_GBN\":\"R\"}]}\n",
      "{\"resultMap_match\":{\"KAPT_CODE\":\"A15083703\",\"TOWN_CODE\":1048},\"resultMap_kapt\":{\"KAPT_NAME\":\"신길경남\",\"CODE_SALE\":\"분양\",\"CODE_HEAT\":\"개별난방\",\"KAPT_TAREA\":49860.67,\"KAPT_DONG_CNT\":\"5\",\"KAPT_BCOMPANY\":\"경남건설\",\"KAPT_ACOMPANY\":\"경남건설\",\"KAPT_TEL\":\"02-835-7655\",\"KAPT_FAX\":\"02-6747-7677\",\"KAPT_URL\":\"-\",\"CODE_APT\":\"아파트\",\"CODE_MGR\":\"자치관리\",\"KAPT_MGR_CNT\":\"4\",\"KAPT_CCOMPANY\":\"-\",\"CODE_SEC\":\"위탁관리\",\"KAPTD_SCNT\":\"4\",\"KAPTD_SEC_COM\":\"한국보안시스템\",\"CODE_CLEAN\":\"위탁관리\",\"KAPTD_CLCNT\":\"4\",\"CODE_GARBAGE\":\"거점장비수거방식\",\"CODE_DISINF\":\"위탁관리\",\"KAPTD_DCNT\":\"12\",\"DISPOSAL_TYPE\":\"도포식,분무식,기구부착식,기구설치식,독이식\",\"KAPTD_PCNT\":\"84\",\"KAPTD_PCNTU\":\"351\",\"KAPTD_CCCNT\":\"67\",\"WELFARE_FACILITY\":\"관리사무소, 노인정, 어린이놀이터\",\"KAPTD_ECAPA\":\"1240\",\"CODE_EMGR\":\"위탁선임\",\"CODE_WSUPPLY\":\"고가수조식\",\"CODE_STR\":\"철근콘크리트구조\",\"CODE_ECON\":\"단일계약\",\"CODE_FALARM\":\"P형\",\"CODE_ELEV\":\"위탁관리\",\"CODE_NET\":\"무\",\"KAPTD_WTIMEBUS\":\"5분이내\",\"CONVENIENT_FACILITY\":\"관공서(동사무소) 병원(서울대윤병원) 공원(여의도생태공원)\",\"EDUCATION_FACILITY\":\"중학교(영원중교) 고등학교(장훈고교)\",\"CODE_HALL\":\"혼합식\",\"KAPT_USEDATE\":\"1999-06-15\",\"KAPT_MAREA\":29601.1,\"SUBWAY_STATION\":\"신길역\",\"SUBWAY_LINE\":\"1호선, 5호선\",\"KAPTD_WTIMESUB\":\"5분이내\",\"KAPT_CODE\":\"A15083703\"},\"resultMap_kapt_areacnt\":[{\"KAPTDA_CNT\":165,\"AREA_GBN\":1,\"KAPT_CODE\":\"A15083703\"},{\"KAPTDA_CNT\":121,\"AREA_GBN\":2,\"KAPT_CODE\":\"A15083703\"},{\"KAPTDA_CNT\":82,\"AREA_GBN\":3,\"KAPT_CODE\":\"A15083703\"},{\"KAPTDA_CNT\":0,\"AREA_GBN\":4,\"KAPT_CODE\":\"\"}],\"resultMap_kapt_addrList\":[{\"ADDR\":\"서울특별시 영등포구 신길동 67-1 신길동경남아파트\",\"KAPT_CODE\":\"A15083703\",\"ADDR_GBN\":\"B\"},{\"ADDR\":\"서울특별시 영등포구 영등포로 351\",\"KAPT_CODE\":\"A15083703\",\"ADDR_GBN\":\"R\"}]}\n",
      "9 / 23 신길경남 처리완료\n",
      "{\"resultMap_match\":{\"KAPT_CODE\":\"A15085805\",\"TOWN_CODE\":1049},\"resultMap_kapt\":{\"CODE_HEAT\":\"개별난방\",\"SUBWAY_STATION\":\"신풍\",\"SUBWAY_LINE\":\"7호선\",\"KAPT_PE1AREA\":0,\"KAPT_PE2AREA\":0,\"KAPT_PE3AREA\":0,\"KAPT_PEAREA\":0,\"KAPT_PE4AREA\":0,\"DISPOSAL_TYPE\":\"분무식,독이식\",\"KAPT_PE5AREA\":0,\"KAPTD_ECNTB\":0,\"KAPTD_ECNTC\":0,\"KAPT_PHAREA\":0,\"KAPTD_ECNTD\":0,\"KAPTD_SCNT\":\"8\",\"KAPTD_ECNTE\":0,\"CODE_ECON\":\"단일계약\",\"KAPT_PPAREA\":0,\"KAPTD_CCCNT\":\"32\",\"KAPTD_ECNTM\":0,\"KAPT_TEL\":\"02-836-7552\",\"WELFARE_FACILITY\":\"관리사무소, 노인정, 어린이놀이터, 휴게시설\",\"KAPTD_ECNTP\":0,\"KAPT_FAX\":\"02-836-7552\",\"KAPT_ACC_COMPANY\":\"홍진 이지스\",\"KAPT_MGR_CNT\":\"4\",\"KAPT_BCOMPANY\":\"근대건설\",\"CONVENIENT_FACILITY\":\"관공서(동사무소) 병원(성심의원) 공원(신길광장공원) 기타(돈보스코청소년센터)\",\"CODE_DISINF\":\"위탁관리\",\"CODE_EMGR\":\"위탁선임\",\"CODE_MGR\":\"자치관리\",\"KAPTD_PCNTU\":\"0\",\"CODE_EMAINT\":\"-\",\"KAPT_MCAREA\":0,\"CODE_ELEV\":\"-\",\"KAPT_MEAREA\":0,\"CODE_NET\":\"무\",\"KAPT_MHAREA\":0,\"KAPT_USEDATE\":\"1974-12-28\",\"KAPTD_WTIMEBUS\":\"5분이내\",\"KAPT_CODE\":\"A15085805\",\"CODE_APT\":\"아파트\",\"CODE_WSUPPLY\":\"고가수조식\",\"KAPT_MPAREA\":0,\"KAPT_MAREA\":24643.62,\"KAPT_PAREA\":0,\"KAPT_TAREA\":32295.3,\"CODE_FALARM\":\"P형\",\"KAPTD_SEC_COM\":\"경진이앤지\",\"KAPTD_ECAPA\":\"367\",\"CODE_STR\":\"철근콘크리트구조\",\"APPL_CODE\":null,\"KAPT_ME1AREA\":0,\"KAPT_ACOMPANY\":\"성아산업\",\"KAPT_ME2AREA\":0,\"KAPT_ME3AREA\":0,\"CODE_GARBAGE\":\"음식물쓰레기종량제\",\"KAPT_ME4AREA\":0,\"KAPT_ME5AREA\":0,\"CODE_CLTIME\":\"5\",\"CODE_HALL\":\"계단식\",\"CODE_STIME\":\"14\",\"KAPT_NAME\":\"신길남서울\",\"KAPT_DONG_CNT\":\"13\",\"CODE_CLEAN\":\"위탁관리\",\"CODE_SALE\":\"분양\",\"CODE_SEC\":\"위탁관리\",\"EMPTY_HO_CNT\":10,\"APPL_PRODATE\":\"\",\"KAPT_URL\":\"남서울.apti.co.kr\",\"KAPTD_CLCNT\":\"4\",\"KAPTD_PCNT\":\"280\",\"KAPTD_WTIMESUB\":\"5분이내\",\"KAPTD_DCNT\":\"12\",\"EDUCATION_FACILITY\":\"초등학교(대길초등학교) 중학교(대영중학교) 고등학교(대영고등학교)\",\"KAPT_CCOMPANY\":\"-\"},\"resultMap_kapt_areacnt\":[{\"KAPTDA_CNT\":488,\"AREA_GBN\":1,\"KAPT_CODE\":\"A15085805\"},{\"KAPTDA_CNT\":30,\"AREA_GBN\":2,\"KAPT_CODE\":\"A15085805\"},{\"KAPTDA_CNT\":null,\"AREA_GBN\":3,\"KAPT_CODE\":null},{\"KAPTDA_CNT\":null,\"AREA_GBN\":4,\"KAPT_CODE\":null}],\"resultMap_kapt_addrList\":[{\"ADDR\":\"서울특별시 영등포구 신길동 3111 남서울\",\"KAPT_CODE\":\"A15085805\",\"ADDR_GBN\":\"B\"},{\"ADDR\":\"서울특별시 영등포구 신길동 3586 남서울\",\"KAPT_CODE\":\"A15085805\",\"ADDR_GBN\":\"B\"},{\"ADDR\":\"서울특별시 영등포구 신길동 3002 남서울\",\"KAPT_CODE\":\"A15085805\",\"ADDR_GBN\":\"B\"},{\"ADDR\":\"서울특별시 영등포구 신길동 3591 남서울\",\"KAPT_CODE\":\"A15085805\",\"ADDR_GBN\":\"B\"},{\"ADDR\":\"서울특별시 영등포구 신길동 3583 남서울\",\"KAPT_CODE\":\"A15085805\",\"ADDR_GBN\":\"B\"},{\"ADDR\":\"서울특별시 영등포구 신길동 3573 남서울\",\"KAPT_CODE\":\"A15085805\",\"ADDR_GBN\":\"B\"},{\"ADDR\":\"서울특별시 영등포구 신길동 3590 남서울\",\"KAPT_CODE\":\"A15085805\",\"ADDR_GBN\":\"B\"},{\"ADDR\":\"서울특별시 영등포구 신길로 108\",\"KAPT_CODE\":\"A15085805\",\"ADDR_GBN\":\"R\"}]}\n",
      "{\"resultMap_match\":{\"KAPT_CODE\":\"A15085805\",\"TOWN_CODE\":1049},\"resultMap_kapt\":{\"KAPT_NAME\":\"신길남서울\",\"CODE_SALE\":\"분양\",\"CODE_HEAT\":\"개별난방\",\"KAPT_TAREA\":32295.3,\"KAPT_DONG_CNT\":\"13\",\"KAPT_BCOMPANY\":\"근대건설\",\"KAPT_ACOMPANY\":\"성아산업\",\"KAPT_TEL\":\"02-836-7552\",\"KAPT_FAX\":\"02-836-7552\",\"KAPT_URL\":\"남서울.apti.co.kr\",\"CODE_APT\":\"아파트\",\"CODE_MGR\":\"자치관리\",\"KAPT_MGR_CNT\":\"4\",\"KAPT_CCOMPANY\":\"-\",\"CODE_SEC\":\"위탁관리\",\"KAPTD_SCNT\":\"8\",\"KAPTD_SEC_COM\":\"경진이앤지\",\"CODE_CLEAN\":\"위탁관리\",\"KAPTD_CLCNT\":\"4\",\"CODE_GARBAGE\":\"음식물쓰레기종량제\",\"CODE_DISINF\":\"위탁관리\",\"KAPTD_DCNT\":\"12\",\"DISPOSAL_TYPE\":\"분무식,독이식\",\"KAPTD_PCNT\":\"280\",\"KAPTD_PCNTU\":\"0\",\"KAPTD_CCCNT\":\"32\",\"WELFARE_FACILITY\":\"관리사무소, 노인정, 어린이놀이터, 휴게시설\",\"KAPTD_ECAPA\":\"367\",\"CODE_EMGR\":\"위탁선임\",\"CODE_WSUPPLY\":\"고가수조식\",\"CODE_STR\":\"철근콘크리트구조\",\"CODE_ECON\":\"단일계약\",\"CODE_FALARM\":\"P형\",\"CODE_ELEV\":\"-\",\"CODE_NET\":\"무\",\"KAPTD_WTIMEBUS\":\"5분이내\",\"CONVENIENT_FACILITY\":\"관공서(동사무소) 병원(성심의원) 공원(신길광장공원) 기타(돈보스코청소년센터)\",\"EDUCATION_FACILITY\":\"초등학교(대길초등학교) 중학교(대영중학교) 고등학교(대영고등학교)\",\"CODE_HALL\":\"계단식\",\"KAPT_USEDATE\":\"1974-12-28\",\"KAPT_MAREA\":24643.62,\"SUBWAY_STATION\":\"신풍\",\"SUBWAY_LINE\":\"7호선\",\"KAPTD_WTIMESUB\":\"5분이내\",\"KAPT_CODE\":\"A15085805\"},\"resultMap_kapt_areacnt\":[{\"KAPTDA_CNT\":488,\"AREA_GBN\":1,\"KAPT_CODE\":\"A15085805\"},{\"KAPTDA_CNT\":30,\"AREA_GBN\":2,\"KAPT_CODE\":\"A15085805\"},{\"KAPTDA_CNT\":0,\"AREA_GBN\":3,\"KAPT_CODE\":\"\"},{\"KAPTDA_CNT\":0,\"AREA_GBN\":4,\"KAPT_CODE\":\"\"}],\"resultMap_kapt_addrList\":[{\"ADDR\":\"서울특별시 영등포구 신길동 3111 남서울\",\"KAPT_CODE\":\"A15085805\",\"ADDR_GBN\":\"B\"},{\"ADDR\":\"서울특별시 영등포구 신길동 3586 남서울\",\"KAPT_CODE\":\"A15085805\",\"ADDR_GBN\":\"B\"},{\"ADDR\":\"서울특별시 영등포구 신길동 3002 남서울\",\"KAPT_CODE\":\"A15085805\",\"ADDR_GBN\":\"B\"},{\"ADDR\":\"서울특별시 영등포구 신길동 3591 남서울\",\"KAPT_CODE\":\"A15085805\",\"ADDR_GBN\":\"B\"},{\"ADDR\":\"서울특별시 영등포구 신길동 3583 남서울\",\"KAPT_CODE\":\"A15085805\",\"ADDR_GBN\":\"B\"},{\"ADDR\":\"서울특별시 영등포구 신길동 3573 남서울\",\"KAPT_CODE\":\"A15085805\",\"ADDR_GBN\":\"B\"},{\"ADDR\":\"서울특별시 영등포구 신길동 3590 남서울\",\"KAPT_CODE\":\"A15085805\",\"ADDR_GBN\":\"B\"},{\"ADDR\":\"서울특별시 영등포구 신길로 108\",\"KAPT_CODE\":\"A15085805\",\"ADDR_GBN\":\"R\"}]}\n",
      "10 / 23 신길남서울 처리완료\n"
     ]
    },
    {
     "name": "stderr",
     "output_type": "stream",
     "text": [
      "2018/03/22 21:24:54 example.com 200 OK\n",
      "2018/03/22 21:24:55 example.com 200 OK\n"
     ]
    },
    {
     "name": "stdout",
     "output_type": "stream",
     "text": [
      "{\"resultMap_match\":{\"KAPT_CODE\":\"A15005501\",\"TOWN_CODE\":20096267},\"resultMap_kapt\":{\"CODE_HEAT\":\"개별난방\",\"SUBWAY_STATION\":\"신풍\",\"SUBWAY_LINE\":\"7호선\",\"KAPT_PE1AREA\":0,\"KAPT_PE2AREA\":0,\"KAPT_PE3AREA\":0,\"KAPT_PEAREA\":0,\"KAPT_PE4AREA\":0,\"DISPOSAL_TYPE\":\"도포식,분무식\",\"KAPT_PE5AREA\":0,\"KAPTD_ECNTB\":0,\"KAPTD_ECNTC\":0,\"KAPT_PHAREA\":0,\"KAPTD_ECNTD\":0,\"KAPTD_SCNT\":\"4\",\"KAPTD_ECNTE\":9,\"CODE_ECON\":\"종합계약\",\"KAPT_PPAREA\":0,\"KAPTD_CCCNT\":\"112\",\"KAPTD_ECNTM\":0,\"KAPT_TEL\":\"02-834-7097\",\"WELFARE_FACILITY\":\"관리사무소, 노인정, 어린이놀이터, 자전거보관소\",\"KAPTD_ECNTP\":0,\"KAPT_FAX\":\"02-834-0420\",\"KAPT_ACC_COMPANY\":\"샛별전산\",\"KAPT_MGR_CNT\":\"5\",\"KAPT_BCOMPANY\":\"한화건설(주)\",\"CONVENIENT_FACILITY\":\"대형상가(사러가쇼핑센터)\",\"CODE_DISINF\":\"위탁관리\",\"CODE_EMGR\":\"상주선임\",\"CODE_MGR\":\"위탁관리\",\"KAPTD_PCNTU\":\"377\",\"CODE_EMAINT\":\"위탁관리\",\"KAPT_MCAREA\":6844.919,\"CODE_ELEV\":\"위탁관리\",\"KAPT_MEAREA\":0,\"CODE_NET\":\"유\",\"KAPT_MHAREA\":0,\"KAPT_USEDATE\":\"2008-06-26\",\"KAPTD_WTIMEBUS\":\"5분이내\",\"KAPT_CODE\":\"A15005501\",\"CODE_APT\":\"아파트\",\"CODE_WSUPPLY\":\"부스타방식\",\"KAPT_MPAREA\":27684.247,\"KAPT_MAREA\":27684.2474,\"KAPT_PAREA\":0,\"KAPT_TAREA\":48058.94,\"CODE_FALARM\":\"R형\",\"KAPTD_SEC_COM\":\"세계보안\",\"KAPTD_ECAPA\":\"1650\",\"CODE_STR\":\"철근콘크리트구조\",\"APPL_CODE\":null,\"KAPT_ME1AREA\":0,\"KAPT_ACOMPANY\":\"한고을\",\"KAPT_ME2AREA\":0,\"KAPT_ME3AREA\":0,\"CODE_GARBAGE\":\"거점장비수거방식\",\"KAPT_ME4AREA\":0,\"KAPT_ME5AREA\":0,\"CODE_CLTIME\":\"6\",\"CODE_HALL\":\"계단식\",\"CODE_STIME\":\"15\",\"KAPT_NAME\":\"신길뉴타운한화꿈에그린\",\"KAPT_DONG_CNT\":\"6\",\"CODE_CLEAN\":\"위탁관리\",\"CODE_SALE\":\"분양\",\"CODE_SEC\":\"위탁관리\",\"EMPTY_HO_CNT\":0,\"APPL_PRODATE\":\"\",\"KAPT_URL\":\"-\",\"KAPTD_CLCNT\":\"3\",\"KAPTD_PCNT\":\"24\",\"KAPTD_WTIMESUB\":\"5분이내\",\"KAPTD_DCNT\":\"12\",\"EDUCATION_FACILITY\":\"초등학교(대영) 중학교(대영) 고등학교(대영)\",\"KAPT_CCOMPANY\":\"서림주택\"},\"resultMap_kapt_areacnt\":[{\"KAPTDA_CNT\":null,\"AREA_GBN\":1,\"KAPT_CODE\":null},{\"KAPTDA_CNT\":147,\"AREA_GBN\":2,\"KAPT_CODE\":\"A15005501\"},{\"KAPTDA_CNT\":137,\"AREA_GBN\":3,\"KAPT_CODE\":\"A15005501\"},{\"KAPTDA_CNT\":null,\"AREA_GBN\":4,\"KAPT_CODE\":null}],\"resultMap_kapt_addrList\":[{\"ADDR\":\"서울특별시 영등포구 신길동 4937 신길뉴타운한화꿈에그린\",\"KAPT_CODE\":\"A15005501\",\"ADDR_GBN\":\"B\"},{\"ADDR\":\"서울특별시 영등포구 신길로 119\",\"KAPT_CODE\":\"A15005501\",\"ADDR_GBN\":\"R\"}]}\n",
      "{\"resultMap_match\":{\"KAPT_CODE\":\"A15005501\",\"TOWN_CODE\":20096267},\"resultMap_kapt\":{\"KAPT_NAME\":\"신길뉴타운한화꿈에그린\",\"CODE_SALE\":\"분양\",\"CODE_HEAT\":\"개별난방\",\"KAPT_TAREA\":48058.94,\"KAPT_DONG_CNT\":\"6\",\"KAPT_BCOMPANY\":\"한화건설(주)\",\"KAPT_ACOMPANY\":\"한고을\",\"KAPT_TEL\":\"02-834-7097\",\"KAPT_FAX\":\"02-834-0420\",\"KAPT_URL\":\"-\",\"CODE_APT\":\"아파트\",\"CODE_MGR\":\"위탁관리\",\"KAPT_MGR_CNT\":\"5\",\"KAPT_CCOMPANY\":\"서림주택\",\"CODE_SEC\":\"위탁관리\",\"KAPTD_SCNT\":\"4\",\"KAPTD_SEC_COM\":\"세계보안\",\"CODE_CLEAN\":\"위탁관리\",\"KAPTD_CLCNT\":\"3\",\"CODE_GARBAGE\":\"거점장비수거방식\",\"CODE_DISINF\":\"위탁관리\",\"KAPTD_DCNT\":\"12\",\"DISPOSAL_TYPE\":\"도포식,분무식\",\"KAPTD_PCNT\":\"24\",\"KAPTD_PCNTU\":\"377\",\"KAPTD_CCCNT\":\"112\",\"WELFARE_FACILITY\":\"관리사무소, 노인정, 어린이놀이터, 자전거보관소\",\"KAPTD_ECAPA\":\"1650\",\"CODE_EMGR\":\"상주선임\",\"CODE_WSUPPLY\":\"부스타방식\",\"CODE_STR\":\"철근콘크리트구조\",\"CODE_ECON\":\"종합계약\",\"CODE_FALARM\":\"R형\",\"CODE_ELEV\":\"위탁관리\",\"CODE_NET\":\"유\",\"KAPTD_WTIMEBUS\":\"5분이내\",\"CONVENIENT_FACILITY\":\"대형상가(사러가쇼핑센터)\",\"EDUCATION_FACILITY\":\"초등학교(대영) 중학교(대영) 고등학교(대영)\",\"CODE_HALL\":\"계단식\",\"KAPT_USEDATE\":\"2008-06-26\",\"KAPT_MAREA\":27684.2474,\"SUBWAY_STATION\":\"신풍\",\"SUBWAY_LINE\":\"7호선\",\"KAPTD_WTIMESUB\":\"5분이내\",\"KAPT_CODE\":\"A15005501\"},\"resultMap_kapt_areacnt\":[{\"KAPTDA_CNT\":0,\"AREA_GBN\":1,\"KAPT_CODE\":\"\"},{\"KAPTDA_CNT\":147,\"AREA_GBN\":2,\"KAPT_CODE\":\"A15005501\"},{\"KAPTDA_CNT\":137,\"AREA_GBN\":3,\"KAPT_CODE\":\"A15005501\"},{\"KAPTDA_CNT\":0,\"AREA_GBN\":4,\"KAPT_CODE\":\"\"}],\"resultMap_kapt_addrList\":[{\"ADDR\":\"서울특별시 영등포구 신길동 4937 신길뉴타운한화꿈에그린\",\"KAPT_CODE\":\"A15005501\",\"ADDR_GBN\":\"B\"},{\"ADDR\":\"서울특별시 영등포구 신길로 119\",\"KAPT_CODE\":\"A15005501\",\"ADDR_GBN\":\"R\"}]}\n",
      "11 / 23 신길뉴타운한화꿈에그린 처리완료\n",
      "{\"resultMap_match\":{\"KAPT_CODE\":\"A15083701\",\"TOWN_CODE\":1051},\"resultMap_kapt\":{\"CODE_HEAT\":\"개별난방\",\"SUBWAY_STATION\":\"대방\",\"SUBWAY_LINE\":\"1호선, 5호선\",\"KAPT_PE1AREA\":0,\"KAPT_PE2AREA\":0,\"KAPT_PE3AREA\":0,\"KAPT_PEAREA\":0,\"KAPT_PE4AREA\":0,\"DISPOSAL_TYPE\":\"분무식\",\"KAPT_PE5AREA\":0,\"KAPTD_ECNTB\":0,\"KAPTD_ECNTC\":0,\"KAPT_PHAREA\":0,\"KAPTD_ECNTD\":0,\"KAPTD_SCNT\":\"2\",\"KAPTD_ECNTE\":0,\"CODE_ECON\":\"종합계약\",\"KAPT_PPAREA\":0,\"KAPTD_CCCNT\":\"0\",\"KAPTD_ECNTM\":0,\"KAPT_TEL\":\"02-848-4188\",\"WELFARE_FACILITY\":\"관리사무소, 노인정, 어린이놀이터, 자전거보관소\",\"KAPTD_ECNTP\":2,\"KAPT_FAX\":\"02-848-4188\",\"KAPT_ACC_COMPANY\":\"-\",\"KAPT_MGR_CNT\":\"2\",\"KAPT_BCOMPANY\":\"삼두실업(주)\",\"CONVENIENT_FACILITY\":\"관공서(동사무소) 병원(성애병원) 대형상가(LG하이프라자-대방점) 공원(여의도샛강생태공원)\",\"CODE_DISINF\":\"위탁관리\",\"CODE_EMGR\":\"위탁선임\",\"CODE_MGR\":\"위탁관리\",\"KAPTD_PCNTU\":\"0\",\"CODE_EMAINT\":\"위탁관리\",\"KAPT_MCAREA\":2921.1,\"CODE_ELEV\":\"위탁관리\",\"KAPT_MEAREA\":0,\"CODE_NET\":\"무\",\"KAPT_MHAREA\":0,\"KAPT_USEDATE\":\"1987-12-12\",\"KAPTD_WTIMEBUS\":\"5~10분이내\",\"KAPT_CODE\":\"A15083701\",\"CODE_APT\":\"아파트\",\"CODE_WSUPPLY\":\"고가수조식\",\"KAPT_MPAREA\":7333.2,\"KAPT_MAREA\":7333.2,\"KAPT_PAREA\":0,\"KAPT_TAREA\":10684,\"CODE_FALARM\":\"P형\",\"KAPTD_SEC_COM\":\"신한영주택관리(주)\",\"KAPTD_ECAPA\":\"225\",\"CODE_STR\":\"철근콘크리트구조\",\"APPL_CODE\":null,\"KAPT_ME1AREA\":0,\"KAPT_ACOMPANY\":\"삼두실업(주)\",\"KAPT_ME2AREA\":0,\"KAPT_ME3AREA\":0,\"CODE_GARBAGE\":\"음식물쓰레기종량제\",\"KAPT_ME4AREA\":0,\"KAPT_ME5AREA\":0,\"CODE_CLTIME\":\"3\",\"CODE_HALL\":\"복도식\",\"CODE_STIME\":\"11\",\"KAPT_NAME\":\"신길삼두\",\"KAPT_DONG_CNT\":\"1\",\"CODE_CLEAN\":\"위탁관리(직영+위탁)\",\"CODE_SALE\":\"분양\",\"CODE_SEC\":\"위탁관리(직영+위탁)\",\"EMPTY_HO_CNT\":0,\"APPL_PRODATE\":\"\",\"KAPT_URL\":\"-\",\"KAPTD_CLCNT\":\"1\",\"KAPTD_PCNT\":\"45\",\"KAPTD_WTIMESUB\":\"5분이내\",\"KAPTD_DCNT\":\"4\",\"EDUCATION_FACILITY\":\"중학교(윤중중학교) 고등학교(한국제과고등기술학교)\",\"KAPT_CCOMPANY\":\"신한영주택관리(주)\"},\"resultMap_kapt_areacnt\":[{\"KAPTDA_CNT\":160,\"AREA_GBN\":1,\"KAPT_CODE\":\"A15083701\"},{\"KAPTDA_CNT\":null,\"AREA_GBN\":2,\"KAPT_CODE\":null},{\"KAPTDA_CNT\":null,\"AREA_GBN\":3,\"KAPT_CODE\":null},{\"KAPTDA_CNT\":null,\"AREA_GBN\":4,\"KAPT_CODE\":null}],\"resultMap_kapt_addrList\":[{\"ADDR\":\"서울특별시 영등포구 신길동 2-3 삼두아파트\",\"KAPT_CODE\":\"A15083701\",\"ADDR_GBN\":\"B\"},{\"ADDR\":\"서울특별시 영등포구 여의대방로61길 19\",\"KAPT_CODE\":\"A15083701\",\"ADDR_GBN\":\"R\"}]}\n",
      "{\"resultMap_match\":{\"KAPT_CODE\":\"A15083701\",\"TOWN_CODE\":1051},\"resultMap_kapt\":{\"KAPT_NAME\":\"신길삼두\",\"CODE_SALE\":\"분양\",\"CODE_HEAT\":\"개별난방\",\"KAPT_TAREA\":10684,\"KAPT_DONG_CNT\":\"1\",\"KAPT_BCOMPANY\":\"삼두실업(주)\",\"KAPT_ACOMPANY\":\"삼두실업(주)\",\"KAPT_TEL\":\"02-848-4188\",\"KAPT_FAX\":\"02-848-4188\",\"KAPT_URL\":\"-\",\"CODE_APT\":\"아파트\",\"CODE_MGR\":\"위탁관리\",\"KAPT_MGR_CNT\":\"2\",\"KAPT_CCOMPANY\":\"신한영주택관리(주)\",\"CODE_SEC\":\"위탁관리(직영+위탁)\",\"KAPTD_SCNT\":\"2\",\"KAPTD_SEC_COM\":\"신한영주택관리(주)\",\"CODE_CLEAN\":\"위탁관리(직영+위탁)\",\"KAPTD_CLCNT\":\"1\",\"CODE_GARBAGE\":\"음식물쓰레기종량제\",\"CODE_DISINF\":\"위탁관리\",\"KAPTD_DCNT\":\"4\",\"DISPOSAL_TYPE\":\"분무식\",\"KAPTD_PCNT\":\"45\",\"KAPTD_PCNTU\":\"0\",\"KAPTD_CCCNT\":\"0\",\"WELFARE_FACILITY\":\"관리사무소, 노인정, 어린이놀이터, 자전거보관소\",\"KAPTD_ECAPA\":\"225\",\"CODE_EMGR\":\"위탁선임\",\"CODE_WSUPPLY\":\"고가수조식\",\"CODE_STR\":\"철근콘크리트구조\",\"CODE_ECON\":\"종합계약\",\"CODE_FALARM\":\"P형\",\"CODE_ELEV\":\"위탁관리\",\"CODE_NET\":\"무\",\"KAPTD_WTIMEBUS\":\"5~10분이내\",\"CONVENIENT_FACILITY\":\"관공서(동사무소) 병원(성애병원) 대형상가(LG하이프라자-대방점) 공원(여의도샛강생태공원)\",\"EDUCATION_FACILITY\":\"중학교(윤중중학교) 고등학교(한국제과고등기술학교)\",\"CODE_HALL\":\"복도식\",\"KAPT_USEDATE\":\"1987-12-12\",\"KAPT_MAREA\":7333.2,\"SUBWAY_STATION\":\"대방\",\"SUBWAY_LINE\":\"1호선, 5호선\",\"KAPTD_WTIMESUB\":\"5분이내\",\"KAPT_CODE\":\"A15083701\"},\"resultMap_kapt_areacnt\":[{\"KAPTDA_CNT\":160,\"AREA_GBN\":1,\"KAPT_CODE\":\"A15083701\"},{\"KAPTDA_CNT\":0,\"AREA_GBN\":2,\"KAPT_CODE\":\"\"},{\"KAPTDA_CNT\":0,\"AREA_GBN\":3,\"KAPT_CODE\":\"\"},{\"KAPTDA_CNT\":0,\"AREA_GBN\":4,\"KAPT_CODE\":\"\"}],\"resultMap_kapt_addrList\":[{\"ADDR\":\"서울특별시 영등포구 신길동 2-3 삼두아파트\",\"KAPT_CODE\":\"A15083701\",\"ADDR_GBN\":\"B\"},{\"ADDR\":\"서울특별시 영등포구 여의대방로61길 19\",\"KAPT_CODE\":\"A15083701\",\"ADDR_GBN\":\"R\"}]}\n",
      "12 / 23 신길삼두 처리완료\n"
     ]
    },
    {
     "name": "stderr",
     "output_type": "stream",
     "text": [
      "2018/03/22 21:24:55 example.com 200 OK\n"
     ]
    },
    {
     "name": "stdout",
     "output_type": "stream",
     "text": [
      "{\"resultMap_match\":{\"KAPT_CODE\":\"A15005603\",\"TOWN_CODE\":1052},\"resultMap_kapt\":{\"CODE_HEAT\":\"개별난방\",\"SUBWAY_STATION\":\"신풍\",\"SUBWAY_LINE\":\"7호선\",\"KAPT_PE1AREA\":0,\"KAPT_PE2AREA\":0,\"KAPT_PE3AREA\":0,\"KAPT_PEAREA\":0,\"KAPT_PE4AREA\":0,\"DISPOSAL_TYPE\":\"도포식,분무식,독이식\",\"KAPT_PE5AREA\":0,\"KAPTD_ECNTB\":0,\"KAPTD_ECNTC\":0,\"KAPT_PHAREA\":0,\"KAPTD_ECNTD\":0,\"KAPTD_SCNT\":\"4\",\"KAPTD_ECNTE\":0,\"CODE_ECON\":\"단일계약\",\"KAPT_PPAREA\":0,\"KAPTD_CCCNT\":\"41\",\"KAPTD_ECNTM\":0,\"KAPT_TEL\":\"02-846-2273\",\"WELFARE_FACILITY\":\"관리사무소, 노인정, 어린이놀이터, 자전거보관소\",\"KAPTD_ECNTP\":4,\"KAPT_FAX\":\"02-846-2275\",\"KAPT_ACC_COMPANY\":\"에이앤비시스템(주)\",\"KAPT_MGR_CNT\":\"5\",\"KAPT_BCOMPANY\":\"삼성종합건설(주)\",\"CONVENIENT_FACILITY\":\"관공서(동사무소) 병원(원치과) 대형상가(LG하이프라자) 공원(보라매공원) 기타(돈보스코청소년센터)\",\"CODE_DISINF\":\"위탁관리\",\"CODE_EMGR\":\"상주선임\",\"CODE_MGR\":\"위탁관리\",\"KAPTD_PCNTU\":\"0\",\"CODE_EMAINT\":\"-\",\"KAPT_MCAREA\":0,\"CODE_ELEV\":\"위탁관리\",\"KAPT_MEAREA\":0,\"CODE_NET\":\"무\",\"KAPT_MHAREA\":0,\"KAPT_USEDATE\":\"1984-04-14\",\"KAPTD_WTIMEBUS\":\"5~10분이내\",\"KAPT_CODE\":\"A15005603\",\"CODE_APT\":\"아파트\",\"CODE_WSUPPLY\":\"고가수조식\",\"KAPT_MPAREA\":0,\"KAPT_MAREA\":21766.32,\"KAPT_PAREA\":0,\"KAPT_TAREA\":30549.74,\"CODE_FALARM\":\"P형\",\"KAPTD_SEC_COM\":\"희망코리아(주)\",\"KAPTD_ECAPA\":\"700\",\"CODE_STR\":\"철근콘크리트구조\",\"APPL_CODE\":null,\"KAPT_ME1AREA\":0,\"KAPT_ACOMPANY\":\"삼성종합건설(주)\",\"KAPT_ME2AREA\":0,\"KAPT_ME3AREA\":0,\"CODE_GARBAGE\":\"음식물쓰레기종량제\",\"KAPT_ME4AREA\":0,\"KAPT_ME5AREA\":0,\"CODE_CLTIME\":\"7\",\"CODE_HALL\":\"복도식\",\"CODE_STIME\":\"14\",\"KAPT_NAME\":\"신길삼성\",\"KAPT_DONG_CNT\":\"2\",\"CODE_CLEAN\":\"위탁관리\",\"CODE_SALE\":\"분양\",\"CODE_SEC\":\"위탁관리\",\"EMPTY_HO_CNT\":null,\"APPL_PRODATE\":\"\",\"KAPT_URL\":\"-\",\"KAPTD_CLCNT\":\"3\",\"KAPTD_PCNT\":\"218\",\"KAPTD_WTIMESUB\":\"5~10분이내\",\"KAPTD_DCNT\":\"12\",\"EDUCATION_FACILITY\":\"초등학교(대길초등학교) 중학교(대방중학교) 고등학교(영신고등학교)\",\"KAPT_CCOMPANY\":\"율산개발(주)\"},\"resultMap_kapt_areacnt\":[{\"KAPTDA_CNT\":120,\"AREA_GBN\":1,\"KAPT_CODE\":\"A15005603\"},{\"KAPTDA_CNT\":264,\"AREA_GBN\":2,\"KAPT_CODE\":\"A15005603\"},{\"KAPTDA_CNT\":null,\"AREA_GBN\":3,\"KAPT_CODE\":null},{\"KAPTDA_CNT\":null,\"AREA_GBN\":4,\"KAPT_CODE\":null}],\"resultMap_kapt_addrList\":[{\"ADDR\":\"서울특별시 영등포구 신길동 4759 삼성아파트\",\"KAPT_CODE\":\"A15005603\",\"ADDR_GBN\":\"B\"},{\"ADDR\":\"서울특별시 영등포구 여의대방로 45\",\"KAPT_CODE\":\"A15005603\",\"ADDR_GBN\":\"R\"}]}\n",
      "{\"resultMap_match\":{\"KAPT_CODE\":\"A15005603\",\"TOWN_CODE\":1052},\"resultMap_kapt\":{\"KAPT_NAME\":\"신길삼성\",\"CODE_SALE\":\"분양\",\"CODE_HEAT\":\"개별난방\",\"KAPT_TAREA\":30549.74,\"KAPT_DONG_CNT\":\"2\",\"KAPT_BCOMPANY\":\"삼성종합건설(주)\",\"KAPT_ACOMPANY\":\"삼성종합건설(주)\",\"KAPT_TEL\":\"02-846-2273\",\"KAPT_FAX\":\"02-846-2275\",\"KAPT_URL\":\"-\",\"CODE_APT\":\"아파트\",\"CODE_MGR\":\"위탁관리\",\"KAPT_MGR_CNT\":\"5\",\"KAPT_CCOMPANY\":\"율산개발(주)\",\"CODE_SEC\":\"위탁관리\",\"KAPTD_SCNT\":\"4\",\"KAPTD_SEC_COM\":\"희망코리아(주)\",\"CODE_CLEAN\":\"위탁관리\",\"KAPTD_CLCNT\":\"3\",\"CODE_GARBAGE\":\"음식물쓰레기종량제\",\"CODE_DISINF\":\"위탁관리\",\"KAPTD_DCNT\":\"12\",\"DISPOSAL_TYPE\":\"도포식,분무식,독이식\",\"KAPTD_PCNT\":\"218\",\"KAPTD_PCNTU\":\"0\",\"KAPTD_CCCNT\":\"41\",\"WELFARE_FACILITY\":\"관리사무소, 노인정, 어린이놀이터, 자전거보관소\",\"KAPTD_ECAPA\":\"700\",\"CODE_EMGR\":\"상주선임\",\"CODE_WSUPPLY\":\"고가수조식\",\"CODE_STR\":\"철근콘크리트구조\",\"CODE_ECON\":\"단일계약\",\"CODE_FALARM\":\"P형\",\"CODE_ELEV\":\"위탁관리\",\"CODE_NET\":\"무\",\"KAPTD_WTIMEBUS\":\"5~10분이내\",\"CONVENIENT_FACILITY\":\"관공서(동사무소) 병원(원치과) 대형상가(LG하이프라자) 공원(보라매공원) 기타(돈보스코청소년센터)\",\"EDUCATION_FACILITY\":\"초등학교(대길초등학교) 중학교(대방중학교) 고등학교(영신고등학교)\",\"CODE_HALL\":\"복도식\",\"KAPT_USEDATE\":\"1984-04-14\",\"KAPT_MAREA\":21766.32,\"SUBWAY_STATION\":\"신풍\",\"SUBWAY_LINE\":\"7호선\",\"KAPTD_WTIMESUB\":\"5~10분이내\",\"KAPT_CODE\":\"A15005603\"},\"resultMap_kapt_areacnt\":[{\"KAPTDA_CNT\":120,\"AREA_GBN\":1,\"KAPT_CODE\":\"A15005603\"},{\"KAPTDA_CNT\":264,\"AREA_GBN\":2,\"KAPT_CODE\":\"A15005603\"},{\"KAPTDA_CNT\":0,\"AREA_GBN\":3,\"KAPT_CODE\":\"\"},{\"KAPTDA_CNT\":0,\"AREA_GBN\":4,\"KAPT_CODE\":\"\"}],\"resultMap_kapt_addrList\":[{\"ADDR\":\"서울특별시 영등포구 신길동 4759 삼성아파트\",\"KAPT_CODE\":\"A15005603\",\"ADDR_GBN\":\"B\"},{\"ADDR\":\"서울특별시 영등포구 여의대방로 45\",\"KAPT_CODE\":\"A15005603\",\"ADDR_GBN\":\"R\"}]}\n",
      "13 / 23 신길삼성 처리완료\n"
     ]
    },
    {
     "name": "stderr",
     "output_type": "stream",
     "text": [
      "2018/03/22 21:24:55 example.com 200 OK\n"
     ]
    },
    {
     "name": "stdout",
     "output_type": "stream",
     "text": [
      "{\"resultMap_match\":{\"KAPT_CODE\":\"A15005402\",\"TOWN_CODE\":1053},\"resultMap_kapt\":{\"CODE_HEAT\":\"개별난방\",\"SUBWAY_STATION\":\"신풍\",\"SUBWAY_LINE\":\"1호선, 5호선, 7호선\",\"KAPT_PE1AREA\":0,\"KAPT_PE2AREA\":0,\"KAPT_PE3AREA\":0,\"KAPT_PEAREA\":0,\"KAPT_PE4AREA\":0,\"DISPOSAL_TYPE\":\"도포식,분무식,독이식\",\"KAPT_PE5AREA\":0,\"KAPTD_ECNTB\":0,\"KAPTD_ECNTC\":0,\"KAPT_PHAREA\":0,\"KAPTD_ECNTD\":0,\"KAPTD_SCNT\":\"13\",\"KAPTD_ECNTE\":18,\"CODE_ECON\":\"단일계약\",\"KAPT_PPAREA\":0,\"KAPTD_CCCNT\":\"126\",\"KAPTD_ECNTM\":0,\"KAPT_TEL\":\"02-832-7937\",\"WELFARE_FACILITY\":\"관리사무소, 노인정, 보육시설, 주민공동시설, 어린이놀이터, 자전거보관소\",\"KAPTD_ECNTP\":18,\"KAPT_FAX\":\"02-832-7938\",\"KAPT_ACC_COMPANY\":\"홍진테이타\",\"KAPT_MGR_CNT\":\"8\",\"KAPT_BCOMPANY\":\"삼성물산\",\"CONVENIENT_FACILITY\":\"관공서(동사무소) 병원(황치과) 대형상가(사러가쇼핑센터) 공원(매낙골공원)\",\"CODE_DISINF\":\"위탁관리\",\"CODE_EMGR\":\"상주선임\",\"CODE_MGR\":\"위탁관리\",\"KAPTD_PCNTU\":\"853\",\"CODE_EMAINT\":\"위탁관리\",\"KAPT_MCAREA\":15684.5,\"CODE_ELEV\":\"위탁관리\",\"KAPT_MEAREA\":0,\"CODE_NET\":\"무\",\"KAPT_MHAREA\":0,\"KAPT_USEDATE\":\"2001-06-15\",\"KAPTD_WTIMEBUS\":\"5~10분이내\",\"KAPT_CODE\":\"A15005402\",\"CODE_APT\":\"아파트\",\"CODE_WSUPPLY\":\"고가수조식\",\"KAPT_MPAREA\":68836.36,\"KAPT_MAREA\":71552.57,\"KAPT_PAREA\":0,\"KAPT_TAREA\":111955.89,\"CODE_FALARM\":\"GR형\",\"KAPTD_SEC_COM\":\"(주)엘림테크\",\"KAPTD_ECAPA\":\"3600\",\"CODE_STR\":\"철근콘크리트구조\",\"APPL_CODE\":null,\"KAPT_ME1AREA\":0,\"KAPT_ACOMPANY\":\"신길2-3지구주택재개발조합\",\"KAPT_ME2AREA\":0,\"KAPT_ME3AREA\":0,\"CODE_GARBAGE\":\"음식물쓰레기종량제\",\"KAPT_ME4AREA\":0,\"KAPT_ME5AREA\":0,\"CODE_CLTIME\":\"5\",\"CODE_HALL\":\"혼합식\",\"CODE_STIME\":\"24\",\"KAPT_NAME\":\"신길삼성래미안\",\"KAPT_DONG_CNT\":\"12\",\"CODE_CLEAN\":\"위탁관리\",\"CODE_SALE\":\"분양\",\"CODE_SEC\":\"위탁관리\",\"EMPTY_HO_CNT\":32,\"APPL_PRODATE\":\"\",\"KAPT_URL\":\"-\",\"KAPTD_CLCNT\":\"8\",\"KAPTD_PCNT\":\"122\",\"KAPTD_WTIMESUB\":\"5~10분이내\",\"KAPTD_DCNT\":\"12\",\"EDUCATION_FACILITY\":\"초등학교(우신초등학교)\",\"KAPT_CCOMPANY\":\"서일개발\"},\"resultMap_kapt_areacnt\":[{\"KAPTDA_CNT\":214,\"AREA_GBN\":1,\"KAPT_CODE\":\"A15005402\"},{\"KAPTDA_CNT\":382,\"AREA_GBN\":2,\"KAPT_CODE\":\"A15005402\"},{\"KAPTDA_CNT\":230,\"AREA_GBN\":3,\"KAPT_CODE\":\"A15005402\"},{\"KAPTDA_CNT\":null,\"AREA_GBN\":4,\"KAPT_CODE\":null}],\"resultMap_kapt_addrList\":[{\"ADDR\":\"서울특별시 영등포구 신길동 4934-17 삼성래미안아파트\",\"KAPT_CODE\":\"A15005402\",\"ADDR_GBN\":\"B\"},{\"ADDR\":\"서울특별시 영등포구 신길동 4934-2 삼성래미안아파트\",\"KAPT_CODE\":\"A15005402\",\"ADDR_GBN\":\"B\"},{\"ADDR\":\"서울특별시 영등포구 신길동 4934 삼성래미안아파트\",\"KAPT_CODE\":\"A15005402\",\"ADDR_GBN\":\"B\"},{\"ADDR\":\"서울특별시 영등포구 가마산로79길 7\",\"KAPT_CODE\":\"A15005402\",\"ADDR_GBN\":\"R\"},{\"ADDR\":\"서울특별시 영등포구 도신로48길 35\",\"KAPT_CODE\":\"A15005402\",\"ADDR_GBN\":\"R\"}]}\n",
      "{\"resultMap_match\":{\"KAPT_CODE\":\"A15005402\",\"TOWN_CODE\":1053},\"resultMap_kapt\":{\"KAPT_NAME\":\"신길삼성래미안\",\"CODE_SALE\":\"분양\",\"CODE_HEAT\":\"개별난방\",\"KAPT_TAREA\":111955.89,\"KAPT_DONG_CNT\":\"12\",\"KAPT_BCOMPANY\":\"삼성물산\",\"KAPT_ACOMPANY\":\"신길2-3지구주택재개발조합\",\"KAPT_TEL\":\"02-832-7937\",\"KAPT_FAX\":\"02-832-7938\",\"KAPT_URL\":\"-\",\"CODE_APT\":\"아파트\",\"CODE_MGR\":\"위탁관리\",\"KAPT_MGR_CNT\":\"8\",\"KAPT_CCOMPANY\":\"서일개발\",\"CODE_SEC\":\"위탁관리\",\"KAPTD_SCNT\":\"13\",\"KAPTD_SEC_COM\":\"(주)엘림테크\",\"CODE_CLEAN\":\"위탁관리\",\"KAPTD_CLCNT\":\"8\",\"CODE_GARBAGE\":\"음식물쓰레기종량제\",\"CODE_DISINF\":\"위탁관리\",\"KAPTD_DCNT\":\"12\",\"DISPOSAL_TYPE\":\"도포식,분무식,독이식\",\"KAPTD_PCNT\":\"122\",\"KAPTD_PCNTU\":\"853\",\"KAPTD_CCCNT\":\"126\",\"WELFARE_FACILITY\":\"관리사무소, 노인정, 보육시설, 주민공동시설, 어린이놀이터, 자전거보관소\",\"KAPTD_ECAPA\":\"3600\",\"CODE_EMGR\":\"상주선임\",\"CODE_WSUPPLY\":\"고가수조식\",\"CODE_STR\":\"철근콘크리트구조\",\"CODE_ECON\":\"단일계약\",\"CODE_FALARM\":\"GR형\",\"CODE_ELEV\":\"위탁관리\",\"CODE_NET\":\"무\",\"KAPTD_WTIMEBUS\":\"5~10분이내\",\"CONVENIENT_FACILITY\":\"관공서(동사무소) 병원(황치과) 대형상가(사러가쇼핑센터) 공원(매낙골공원)\",\"EDUCATION_FACILITY\":\"초등학교(우신초등학교)\",\"CODE_HALL\":\"혼합식\",\"KAPT_USEDATE\":\"2001-06-15\",\"KAPT_MAREA\":71552.57,\"SUBWAY_STATION\":\"신풍\",\"SUBWAY_LINE\":\"1호선, 5호선, 7호선\",\"KAPTD_WTIMESUB\":\"5~10분이내\",\"KAPT_CODE\":\"A15005402\"},\"resultMap_kapt_areacnt\":[{\"KAPTDA_CNT\":214,\"AREA_GBN\":1,\"KAPT_CODE\":\"A15005402\"},{\"KAPTDA_CNT\":382,\"AREA_GBN\":2,\"KAPT_CODE\":\"A15005402\"},{\"KAPTDA_CNT\":230,\"AREA_GBN\":3,\"KAPT_CODE\":\"A15005402\"},{\"KAPTDA_CNT\":0,\"AREA_GBN\":4,\"KAPT_CODE\":\"\"}],\"resultMap_kapt_addrList\":[{\"ADDR\":\"서울특별시 영등포구 신길동 4934-17 삼성래미안아파트\",\"KAPT_CODE\":\"A15005402\",\"ADDR_GBN\":\"B\"},{\"ADDR\":\"서울특별시 영등포구 신길동 4934-2 삼성래미안아파트\",\"KAPT_CODE\":\"A15005402\",\"ADDR_GBN\":\"B\"},{\"ADDR\":\"서울특별시 영등포구 신길동 4934 삼성래미안아파트\",\"KAPT_CODE\":\"A15005402\",\"ADDR_GBN\":\"B\"},{\"ADDR\":\"서울특별시 영등포구 가마산로79길 7\",\"KAPT_CODE\":\"A15005402\",\"ADDR_GBN\":\"R\"},{\"ADDR\":\"서울특별시 영등포구 도신로48길 35\",\"KAPT_CODE\":\"A15005402\",\"ADDR_GBN\":\"R\"}]}\n",
      "14 / 23 신길삼성래미안 처리완료\n"
     ]
    },
    {
     "name": "stderr",
     "output_type": "stream",
     "text": [
      "2018/03/22 21:24:55 example.com 200 OK\n"
     ]
    },
    {
     "name": "stdout",
     "output_type": "stream",
     "text": [
      "{\"resultMap_match\":{\"KAPT_CODE\":\"A15005401\",\"TOWN_CODE\":1053},\"resultMap_kapt\":{\"CODE_HEAT\":\"개별난방\",\"SUBWAY_STATION\":\"1호선-영등포역,5호선-신길역,7호선-신풍역\",\"SUBWAY_LINE\":\"1호선, 5호선, 7호선\",\"KAPT_PE1AREA\":0,\"KAPT_PE2AREA\":0,\"KAPT_PE3AREA\":0,\"KAPT_PEAREA\":0,\"KAPT_PE4AREA\":0,\"DISPOSAL_TYPE\":\"도포식,분무식\",\"KAPT_PE5AREA\":0,\"KAPTD_ECNTB\":0,\"KAPTD_ECNTC\":0,\"KAPT_PHAREA\":0,\"KAPTD_ECNTD\":0,\"KAPTD_SCNT\":\"3\",\"KAPTD_ECNTE\":0,\"CODE_ECON\":\"단일계약\",\"KAPT_PPAREA\":0,\"KAPTD_CCCNT\":\"36\",\"KAPTD_ECNTM\":0,\"KAPT_TEL\":\"02-836-3272\",\"WELFARE_FACILITY\":\"관리사무소, 노인정, 어린이놀이터, 자전거보관소\",\"KAPTD_ECNTP\":4,\"KAPT_FAX\":\"02-836-3273\",\"KAPT_ACC_COMPANY\":\"-\",\"KAPT_MGR_CNT\":\"9\",\"KAPT_BCOMPANY\":\"삼성물산주식회사\",\"CONVENIENT_FACILITY\":\"관공서(신길4동 주민센터) 병원(엔젤병원) 백화점(롯데백화점) 대형상가(사러가쇼핑센터) 공원(삼성공원)\",\"CODE_DISINF\":\"위탁관리\",\"CODE_EMGR\":\"위탁선임\",\"CODE_MGR\":\"자치관리(직영)\",\"KAPTD_PCNTU\":\"86\",\"CODE_EMAINT\":\"위탁관리\",\"KAPT_MCAREA\":8317,\"CODE_ELEV\":\"위탁관리\",\"KAPT_MEAREA\":0,\"CODE_NET\":\"무\",\"KAPT_MHAREA\":0,\"KAPT_USEDATE\":\"2001-06-15\",\"KAPTD_WTIMEBUS\":\"15~20분이내\",\"KAPT_CODE\":\"A15005401\",\"CODE_APT\":\"아파트\",\"CODE_WSUPPLY\":\"고가수조식\",\"KAPT_MPAREA\":12747.7,\"KAPT_MAREA\":12747.78,\"KAPT_PAREA\":0,\"KAPT_TAREA\":21067,\"CODE_FALARM\":\"P형\",\"KAPTD_SEC_COM\":\"(주)세원종합관리\",\"KAPTD_ECAPA\":\"850\",\"CODE_STR\":\"철근콘크리트구조\",\"APPL_CODE\":null,\"KAPT_ME1AREA\":0,\"KAPT_ACOMPANY\":\"삼성물산주식회사\",\"KAPT_ME2AREA\":0,\"KAPT_ME3AREA\":0,\"CODE_GARBAGE\":\"기타\",\"KAPT_ME4AREA\":0,\"KAPT_ME5AREA\":0,\"CODE_CLTIME\":\"6\",\"CODE_HALL\":\"복도식\",\"CODE_STIME\":\"24\",\"KAPT_NAME\":\"신길삼성제2\",\"KAPT_DONG_CNT\":\"1\",\"CODE_CLEAN\":\"위탁관리\",\"CODE_SALE\":\"임대\",\"CODE_SEC\":\"위탁관리\",\"EMPTY_HO_CNT\":4,\"APPL_PRODATE\":\"\",\"KAPT_URL\":\"happy.i-sh.co.kr/main.do?deptid=70169\",\"KAPTD_CLCNT\":\"2\",\"KAPTD_PCNT\":\"90\",\"KAPTD_WTIMESUB\":\"15~20분이내\",\"KAPTD_DCNT\":\"6\",\"EDUCATION_FACILITY\":\"초등학교(우신초등학교) 중학교(영원중학교)\",\"KAPT_CCOMPANY\":\"-\"},\"resultMap_kapt_areacnt\":[{\"KAPTDA_CNT\":387,\"AREA_GBN\":1,\"KAPT_CODE\":\"A15005401\"},{\"KAPTDA_CNT\":null,\"AREA_GBN\":2,\"KAPT_CODE\":null},{\"KAPTDA_CNT\":null,\"AREA_GBN\":3,\"KAPT_CODE\":null},{\"KAPTDA_CNT\":null,\"AREA_GBN\":4,\"KAPT_CODE\":null}],\"resultMap_kapt_addrList\":[{\"ADDR\":\"서울특별시 영등포구 신길동 4934-2 삼성래미안아파트\",\"KAPT_CODE\":\"A15005401\",\"ADDR_GBN\":\"B\"},{\"ADDR\":\"서울특별시 영등포구 신길로42길 25\",\"KAPT_CODE\":\"A15005401\",\"ADDR_GBN\":\"R\"}]}\n",
      "{\"resultMap_match\":{\"KAPT_CODE\":\"A15005401\",\"TOWN_CODE\":1053},\"resultMap_kapt\":{\"KAPT_NAME\":\"신길삼성제2\",\"CODE_SALE\":\"임대\",\"CODE_HEAT\":\"개별난방\",\"KAPT_TAREA\":21067,\"KAPT_DONG_CNT\":\"1\",\"KAPT_BCOMPANY\":\"삼성물산주식회사\",\"KAPT_ACOMPANY\":\"삼성물산주식회사\",\"KAPT_TEL\":\"02-836-3272\",\"KAPT_FAX\":\"02-836-3273\",\"KAPT_URL\":\"happy.i-sh.co.kr/main.do?deptid=70169\",\"CODE_APT\":\"아파트\",\"CODE_MGR\":\"자치관리(직영)\",\"KAPT_MGR_CNT\":\"9\",\"KAPT_CCOMPANY\":\"-\",\"CODE_SEC\":\"위탁관리\",\"KAPTD_SCNT\":\"3\",\"KAPTD_SEC_COM\":\"(주)세원종합관리\",\"CODE_CLEAN\":\"위탁관리\",\"KAPTD_CLCNT\":\"2\",\"CODE_GARBAGE\":\"기타\",\"CODE_DISINF\":\"위탁관리\",\"KAPTD_DCNT\":\"6\",\"DISPOSAL_TYPE\":\"도포식,분무식\",\"KAPTD_PCNT\":\"90\",\"KAPTD_PCNTU\":\"86\",\"KAPTD_CCCNT\":\"36\",\"WELFARE_FACILITY\":\"관리사무소, 노인정, 어린이놀이터, 자전거보관소\",\"KAPTD_ECAPA\":\"850\",\"CODE_EMGR\":\"위탁선임\",\"CODE_WSUPPLY\":\"고가수조식\",\"CODE_STR\":\"철근콘크리트구조\",\"CODE_ECON\":\"단일계약\",\"CODE_FALARM\":\"P형\",\"CODE_ELEV\":\"위탁관리\",\"CODE_NET\":\"무\",\"KAPTD_WTIMEBUS\":\"15~20분이내\",\"CONVENIENT_FACILITY\":\"관공서(신길4동 주민센터) 병원(엔젤병원) 백화점(롯데백화점) 대형상가(사러가쇼핑센터) 공원(삼성공원)\",\"EDUCATION_FACILITY\":\"초등학교(우신초등학교) 중학교(영원중학교)\",\"CODE_HALL\":\"복도식\",\"KAPT_USEDATE\":\"2001-06-15\",\"KAPT_MAREA\":12747.78,\"SUBWAY_STATION\":\"1호선-영등포역,5호선-신길역,7호선-신풍역\",\"SUBWAY_LINE\":\"1호선, 5호선, 7호선\",\"KAPTD_WTIMESUB\":\"15~20분이내\",\"KAPT_CODE\":\"A15005401\"},\"resultMap_kapt_areacnt\":[{\"KAPTDA_CNT\":387,\"AREA_GBN\":1,\"KAPT_CODE\":\"A15005401\"},{\"KAPTDA_CNT\":0,\"AREA_GBN\":2,\"KAPT_CODE\":\"\"},{\"KAPTDA_CNT\":0,\"AREA_GBN\":3,\"KAPT_CODE\":\"\"},{\"KAPTDA_CNT\":0,\"AREA_GBN\":4,\"KAPT_CODE\":\"\"}],\"resultMap_kapt_addrList\":[{\"ADDR\":\"서울특별시 영등포구 신길동 4934-2 삼성래미안아파트\",\"KAPT_CODE\":\"A15005401\",\"ADDR_GBN\":\"B\"},{\"ADDR\":\"서울특별시 영등포구 신길로42길 25\",\"KAPT_CODE\":\"A15005401\",\"ADDR_GBN\":\"R\"}]}\n",
      "15 / 23 신길삼성제2 처리완료\n"
     ]
    },
    {
     "name": "stderr",
     "output_type": "stream",
     "text": [
      "2018/03/22 21:24:55 example.com 200 OK\n"
     ]
    },
    {
     "name": "stdout",
     "output_type": "stream",
     "text": [
      "{\"resultMap_match\":{\"KAPT_CODE\":\"A15005705\",\"TOWN_CODE\":1054},\"resultMap_kapt\":{\"CODE_HEAT\":\"중앙난방\",\"SUBWAY_STATION\":\"신풍\",\"SUBWAY_LINE\":\"1호선, 7호선\",\"KAPT_PE1AREA\":0,\"KAPT_PE2AREA\":0,\"KAPT_PE3AREA\":0,\"KAPT_PEAREA\":0,\"KAPT_PE4AREA\":0,\"DISPOSAL_TYPE\":\"분무식,독이식\",\"KAPT_PE5AREA\":0,\"KAPTD_ECNTB\":0,\"KAPTD_ECNTC\":0,\"KAPT_PHAREA\":0,\"KAPTD_ECNTD\":0,\"KAPTD_SCNT\":\"22\",\"KAPTD_ECNTE\":0,\"CODE_ECON\":\"종합계약\",\"KAPT_PPAREA\":0,\"KAPTD_CCCNT\":\"147\",\"KAPTD_ECNTM\":0,\"KAPT_TEL\":\"02-833-0286~7\",\"WELFARE_FACILITY\":\"관리사무소, 노인정, 보육시설, 어린이놀이터\",\"KAPTD_ECNTP\":26,\"KAPT_FAX\":\"02-833-0289\",\"KAPT_ACC_COMPANY\":\"-\",\"KAPT_MGR_CNT\":\"14\",\"KAPT_BCOMPANY\":\"삼환기업\",\"CONVENIENT_FACILITY\":\"관공서(동사무소)\",\"CODE_DISINF\":\"위탁관리\",\"CODE_EMGR\":\"상주선임\",\"CODE_MGR\":\"위탁관리\",\"KAPTD_PCNTU\":\"608\",\"CODE_EMAINT\":\"위탁관리\",\"KAPT_MCAREA\":0,\"CODE_ELEV\":\"위탁관리\",\"KAPT_MEAREA\":0,\"CODE_NET\":\"무\",\"KAPT_MHAREA\":0,\"KAPT_USEDATE\":\"1997-05-10\",\"KAPTD_WTIMEBUS\":\"5~10분이내\",\"KAPT_CODE\":\"A15005705\",\"CODE_APT\":\"아파트\",\"CODE_WSUPPLY\":\"고가수조식\",\"KAPT_MPAREA\":117110.614,\"KAPT_MAREA\":87502.98,\"KAPT_PAREA\":0,\"KAPT_TAREA\":131665.768,\"CODE_FALARM\":\"P형\",\"KAPTD_SEC_COM\":\"(주)경진관리\",\"KAPTD_ECAPA\":\"2750\",\"CODE_STR\":\"철근콘크리트구조\",\"APPL_CODE\":null,\"KAPT_ME1AREA\":0,\"KAPT_ACOMPANY\":\"군인공제회\",\"KAPT_ME2AREA\":0,\"KAPT_ME3AREA\":0,\"CODE_GARBAGE\":\"음식물쓰레기종량제\",\"KAPT_ME4AREA\":0,\"KAPT_ME5AREA\":0,\"CODE_CLTIME\":\"5\",\"CODE_HALL\":\"계단식\",\"CODE_STIME\":\"18\",\"KAPT_NAME\":\"신길삼환\",\"KAPT_DONG_CNT\":\"11\",\"CODE_CLEAN\":\"위탁관리\",\"CODE_SALE\":\"분양\",\"CODE_SEC\":\"위탁관리\",\"EMPTY_HO_CNT\":0,\"APPL_PRODATE\":\"\",\"KAPT_URL\":\"신길삼환.apti.co.kr\",\"KAPTD_CLCNT\":\"10\",\"KAPTD_PCNT\":\"496\",\"KAPTD_WTIMESUB\":\"5~10분이내\",\"KAPTD_DCNT\":\"12\",\"EDUCATION_FACILITY\":\"초등학교(대방초등학교) 중학교(강남중교) 고등학교(서울공업고교)\",\"KAPT_CCOMPANY\":\"(주)경진관리\"},\"resultMap_kapt_areacnt\":[{\"KAPTDA_CNT\":478,\"AREA_GBN\":1,\"KAPT_CODE\":\"A15005705\"},{\"KAPTDA_CNT\":696,\"AREA_GBN\":2,\"KAPT_CODE\":\"A15005705\"},{\"KAPTDA_CNT\":null,\"AREA_GBN\":3,\"KAPT_CODE\":null},{\"KAPTDA_CNT\":null,\"AREA_GBN\":4,\"KAPT_CODE\":null}],\"resultMap_kapt_addrList\":[{\"ADDR\":\"서울특별시 영등포구 신길동 897-1 삼환아파트\",\"KAPT_CODE\":\"A15005705\",\"ADDR_GBN\":\"B\"},{\"ADDR\":\"서울특별시 영등포구 여의대방로43나길 25\",\"KAPT_CODE\":\"A15005705\",\"ADDR_GBN\":\"R\"},{\"ADDR\":\"서울특별시 영등포구 여의대방로43라길 9\",\"KAPT_CODE\":\"A15005705\",\"ADDR_GBN\":\"R\"}]}\n",
      "{\"resultMap_match\":{\"KAPT_CODE\":\"A15005705\",\"TOWN_CODE\":1054},\"resultMap_kapt\":{\"KAPT_NAME\":\"신길삼환\",\"CODE_SALE\":\"분양\",\"CODE_HEAT\":\"중앙난방\",\"KAPT_TAREA\":131665.768,\"KAPT_DONG_CNT\":\"11\",\"KAPT_BCOMPANY\":\"삼환기업\",\"KAPT_ACOMPANY\":\"군인공제회\",\"KAPT_TEL\":\"02-833-0286~7\",\"KAPT_FAX\":\"02-833-0289\",\"KAPT_URL\":\"신길삼환.apti.co.kr\",\"CODE_APT\":\"아파트\",\"CODE_MGR\":\"위탁관리\",\"KAPT_MGR_CNT\":\"14\",\"KAPT_CCOMPANY\":\"(주)경진관리\",\"CODE_SEC\":\"위탁관리\",\"KAPTD_SCNT\":\"22\",\"KAPTD_SEC_COM\":\"(주)경진관리\",\"CODE_CLEAN\":\"위탁관리\",\"KAPTD_CLCNT\":\"10\",\"CODE_GARBAGE\":\"음식물쓰레기종량제\",\"CODE_DISINF\":\"위탁관리\",\"KAPTD_DCNT\":\"12\",\"DISPOSAL_TYPE\":\"분무식,독이식\",\"KAPTD_PCNT\":\"496\",\"KAPTD_PCNTU\":\"608\",\"KAPTD_CCCNT\":\"147\",\"WELFARE_FACILITY\":\"관리사무소, 노인정, 보육시설, 어린이놀이터\",\"KAPTD_ECAPA\":\"2750\",\"CODE_EMGR\":\"상주선임\",\"CODE_WSUPPLY\":\"고가수조식\",\"CODE_STR\":\"철근콘크리트구조\",\"CODE_ECON\":\"종합계약\",\"CODE_FALARM\":\"P형\",\"CODE_ELEV\":\"위탁관리\",\"CODE_NET\":\"무\",\"KAPTD_WTIMEBUS\":\"5~10분이내\",\"CONVENIENT_FACILITY\":\"관공서(동사무소)\",\"EDUCATION_FACILITY\":\"초등학교(대방초등학교) 중학교(강남중교) 고등학교(서울공업고교)\",\"CODE_HALL\":\"계단식\",\"KAPT_USEDATE\":\"1997-05-10\",\"KAPT_MAREA\":87502.98,\"SUBWAY_STATION\":\"신풍\",\"SUBWAY_LINE\":\"1호선, 7호선\",\"KAPTD_WTIMESUB\":\"5~10분이내\",\"KAPT_CODE\":\"A15005705\"},\"resultMap_kapt_areacnt\":[{\"KAPTDA_CNT\":478,\"AREA_GBN\":1,\"KAPT_CODE\":\"A15005705\"},{\"KAPTDA_CNT\":696,\"AREA_GBN\":2,\"KAPT_CODE\":\"A15005705\"},{\"KAPTDA_CNT\":0,\"AREA_GBN\":3,\"KAPT_CODE\":\"\"},{\"KAPTDA_CNT\":0,\"AREA_GBN\":4,\"KAPT_CODE\":\"\"}],\"resultMap_kapt_addrList\":[{\"ADDR\":\"서울특별시 영등포구 신길동 897-1 삼환아파트\",\"KAPT_CODE\":\"A15005705\",\"ADDR_GBN\":\"B\"},{\"ADDR\":\"서울특별시 영등포구 여의대방로43나길 25\",\"KAPT_CODE\":\"A15005705\",\"ADDR_GBN\":\"R\"},{\"ADDR\":\"서울특별시 영등포구 여의대방로43라길 9\",\"KAPT_CODE\":\"A15005705\",\"ADDR_GBN\":\"R\"}]}\n",
      "16 / 23 신길삼환 처리완료\n"
     ]
    },
    {
     "name": "stderr",
     "output_type": "stream",
     "text": [
      "2018/03/22 21:24:55 example.com 200 OK\n",
      "2018/03/22 21:24:55 example.com 200 OK\n"
     ]
    },
    {
     "name": "stdout",
     "output_type": "stream",
     "text": [
      "{\"resultMap_match\":{\"KAPT_CODE\":\"A15086007\",\"TOWN_CODE\":1058},\"resultMap_kapt\":{\"CODE_HEAT\":\"개별난방\",\"SUBWAY_STATION\":\"신풍\",\"SUBWAY_LINE\":\"7호선\",\"KAPT_PE1AREA\":0,\"KAPT_PE2AREA\":0,\"KAPT_PE3AREA\":0,\"KAPT_PEAREA\":0,\"KAPT_PE4AREA\":0,\"DISPOSAL_TYPE\":\"분무식,독이식\",\"KAPT_PE5AREA\":0,\"KAPTD_ECNTB\":16,\"KAPTD_ECNTC\":0,\"KAPT_PHAREA\":0,\"KAPTD_ECNTD\":0,\"KAPTD_SCNT\":\"9\",\"KAPTD_ECNTE\":0,\"CODE_ECON\":\"종합계약\",\"KAPT_PPAREA\":0,\"KAPTD_CCCNT\":\"16\",\"KAPTD_ECNTM\":0,\"KAPT_TEL\":\"028320181\",\"WELFARE_FACILITY\":\"관리사무소, 노인정, 어린이놀이터, 자전거보관소\",\"KAPTD_ECNTP\":0,\"KAPT_FAX\":\"028320182\",\"KAPT_ACC_COMPANY\":\"-\",\"KAPT_MGR_CNT\":\"7\",\"KAPT_BCOMPANY\":\"우성건설\",\"CONVENIENT_FACILITY\":\"관공서(동사무소) 병원(현대의원) 공원(보라매공원) 기타(돈보스코청소년센터)\",\"CODE_DISINF\":\"위탁관리\",\"CODE_EMGR\":\"상주선임\",\"CODE_MGR\":\"위탁관리\",\"KAPTD_PCNTU\":\"0\",\"CODE_EMAINT\":\"위탁관리\",\"KAPT_MCAREA\":0,\"CODE_ELEV\":\"위탁관리\",\"KAPT_MEAREA\":0,\"CODE_NET\":\"무\",\"KAPT_MHAREA\":0,\"KAPT_USEDATE\":\"1986-09-25\",\"KAPTD_WTIMEBUS\":\"5~10분이내\",\"KAPT_CODE\":\"A15086007\",\"CODE_APT\":\"아파트\",\"CODE_WSUPPLY\":\"고가수조식\",\"KAPT_MPAREA\":0,\"KAPT_MAREA\":51973.9,\"KAPT_PAREA\":0,\"KAPT_TAREA\":68385.75,\"CODE_FALARM\":\"P형\",\"KAPTD_SEC_COM\":\"스마일종합관리\",\"KAPTD_ECAPA\":\"1870\",\"CODE_STR\":\"철근콘크리트구조\",\"APPL_CODE\":null,\"KAPT_ME1AREA\":0,\"KAPT_ACOMPANY\":\"우성건설\",\"KAPT_ME2AREA\":0,\"KAPT_ME3AREA\":0,\"CODE_GARBAGE\":\"음식물쓰레기종량제\",\"KAPT_ME4AREA\":0,\"KAPT_ME5AREA\":0,\"CODE_CLTIME\":\"5\",\"CODE_HALL\":\"혼합식\",\"CODE_STIME\":\"7\",\"KAPT_NAME\":\"신길우성2차\",\"KAPT_DONG_CNT\":\"7\",\"CODE_CLEAN\":\"위탁관리\",\"CODE_SALE\":\"분양\",\"CODE_SEC\":\"위탁관리\",\"EMPTY_HO_CNT\":0,\"APPL_PRODATE\":\"\",\"KAPT_URL\":\"-\",\"KAPTD_CLCNT\":\"6\",\"KAPTD_PCNT\":\"297\",\"KAPTD_WTIMESUB\":\"5~10분이내\",\"KAPTD_DCNT\":\"12\",\"EDUCATION_FACILITY\":\"초등학교(대길초등학교) 중학교(대방중학교) 고등학교(영신고등학교)\",\"KAPT_CCOMPANY\":\"대원종합관리(주)\"},\"resultMap_kapt_areacnt\":[{\"KAPTDA_CNT\":120,\"AREA_GBN\":1,\"KAPT_CODE\":\"A15086007\"},{\"KAPTDA_CNT\":605,\"AREA_GBN\":2,\"KAPT_CODE\":\"A15086007\"},{\"KAPTDA_CNT\":null,\"AREA_GBN\":3,\"KAPT_CODE\":null},{\"KAPTDA_CNT\":null,\"AREA_GBN\":4,\"KAPT_CODE\":null}],\"resultMap_kapt_addrList\":[{\"ADDR\":\"서울특별시 영등포구 신길동 4518 우성2\",\"KAPT_CODE\":\"A15086007\",\"ADDR_GBN\":\"B\"},{\"ADDR\":\"서울특별시 영등포구 대방천로 180\",\"KAPT_CODE\":\"A15086007\",\"ADDR_GBN\":\"R\"}]}\n",
      "{\"resultMap_match\":{\"KAPT_CODE\":\"A15086007\",\"TOWN_CODE\":1058},\"resultMap_kapt\":{\"KAPT_NAME\":\"신길우성2차\",\"CODE_SALE\":\"분양\",\"CODE_HEAT\":\"개별난방\",\"KAPT_TAREA\":68385.75,\"KAPT_DONG_CNT\":\"7\",\"KAPT_BCOMPANY\":\"우성건설\",\"KAPT_ACOMPANY\":\"우성건설\",\"KAPT_TEL\":\"028320181\",\"KAPT_FAX\":\"028320182\",\"KAPT_URL\":\"-\",\"CODE_APT\":\"아파트\",\"CODE_MGR\":\"위탁관리\",\"KAPT_MGR_CNT\":\"7\",\"KAPT_CCOMPANY\":\"대원종합관리(주)\",\"CODE_SEC\":\"위탁관리\",\"KAPTD_SCNT\":\"9\",\"KAPTD_SEC_COM\":\"스마일종합관리\",\"CODE_CLEAN\":\"위탁관리\",\"KAPTD_CLCNT\":\"6\",\"CODE_GARBAGE\":\"음식물쓰레기종량제\",\"CODE_DISINF\":\"위탁관리\",\"KAPTD_DCNT\":\"12\",\"DISPOSAL_TYPE\":\"분무식,독이식\",\"KAPTD_PCNT\":\"297\",\"KAPTD_PCNTU\":\"0\",\"KAPTD_CCCNT\":\"16\",\"WELFARE_FACILITY\":\"관리사무소, 노인정, 어린이놀이터, 자전거보관소\",\"KAPTD_ECAPA\":\"1870\",\"CODE_EMGR\":\"상주선임\",\"CODE_WSUPPLY\":\"고가수조식\",\"CODE_STR\":\"철근콘크리트구조\",\"CODE_ECON\":\"종합계약\",\"CODE_FALARM\":\"P형\",\"CODE_ELEV\":\"위탁관리\",\"CODE_NET\":\"무\",\"KAPTD_WTIMEBUS\":\"5~10분이내\",\"CONVENIENT_FACILITY\":\"관공서(동사무소) 병원(현대의원) 공원(보라매공원) 기타(돈보스코청소년센터)\",\"EDUCATION_FACILITY\":\"초등학교(대길초등학교) 중학교(대방중학교) 고등학교(영신고등학교)\",\"CODE_HALL\":\"혼합식\",\"KAPT_USEDATE\":\"1986-09-25\",\"KAPT_MAREA\":51973.9,\"SUBWAY_STATION\":\"신풍\",\"SUBWAY_LINE\":\"7호선\",\"KAPTD_WTIMESUB\":\"5~10분이내\",\"KAPT_CODE\":\"A15086007\"},\"resultMap_kapt_areacnt\":[{\"KAPTDA_CNT\":120,\"AREA_GBN\":1,\"KAPT_CODE\":\"A15086007\"},{\"KAPTDA_CNT\":605,\"AREA_GBN\":2,\"KAPT_CODE\":\"A15086007\"},{\"KAPTDA_CNT\":0,\"AREA_GBN\":3,\"KAPT_CODE\":\"\"},{\"KAPTDA_CNT\":0,\"AREA_GBN\":4,\"KAPT_CODE\":\"\"}],\"resultMap_kapt_addrList\":[{\"ADDR\":\"서울특별시 영등포구 신길동 4518 우성2\",\"KAPT_CODE\":\"A15086007\",\"ADDR_GBN\":\"B\"},{\"ADDR\":\"서울특별시 영등포구 대방천로 180\",\"KAPT_CODE\":\"A15086007\",\"ADDR_GBN\":\"R\"}]}\n",
      "17 / 23 신길우성2차 처리완료\n",
      "{\"resultMap_match\":{\"KAPT_CODE\":\"A15086004\",\"TOWN_CODE\":1059},\"resultMap_kapt\":{\"CODE_HEAT\":\"개별난방\",\"SUBWAY_STATION\":\"신풍\",\"SUBWAY_LINE\":\"7호선\",\"KAPT_PE1AREA\":0,\"KAPT_PE2AREA\":0,\"KAPT_PE3AREA\":0,\"KAPT_PEAREA\":0,\"KAPT_PE4AREA\":0,\"DISPOSAL_TYPE\":\"분무식\",\"KAPT_PE5AREA\":0,\"KAPTD_ECNTB\":0,\"KAPTD_ECNTC\":0,\"KAPT_PHAREA\":0,\"KAPTD_ECNTD\":0,\"KAPTD_SCNT\":\"9\",\"KAPTD_ECNTE\":0,\"CODE_ECON\":\"종합계약\",\"KAPT_PPAREA\":0,\"KAPTD_CCCNT\":\"60\",\"KAPTD_ECNTM\":0,\"KAPT_TEL\":\"02-848-3078\",\"WELFARE_FACILITY\":\"관리사무소, 노인정, 어린이놀이터, 자전거보관소\",\"KAPTD_ECNTP\":13,\"KAPT_FAX\":\"02-845-0811\",\"KAPT_ACC_COMPANY\":\"기웅정보통신\",\"KAPT_MGR_CNT\":\"5\",\"KAPT_BCOMPANY\":\"우성건설\",\"CONVENIENT_FACILITY\":\"관공서(동사무소) 병원(이화의원) 대형상가(하이마트-신풍점) 공원(보라매공원) 기타(돈보스코청소년센터)\",\"CODE_DISINF\":\"위탁관리(직영+위탁)\",\"CODE_EMGR\":\"위탁선임\",\"CODE_MGR\":\"자치관리\",\"KAPTD_PCNTU\":\"0\",\"CODE_EMAINT\":\"위탁관리\",\"KAPT_MCAREA\":10440.15,\"CODE_ELEV\":\"위탁관리(직영+위탁)\",\"KAPT_MEAREA\":0,\"CODE_NET\":\"무\",\"KAPT_MHAREA\":0,\"KAPT_USEDATE\":\"1989-04-11\",\"KAPTD_WTIMEBUS\":\"5~10분이내\",\"KAPT_CODE\":\"A15086004\",\"CODE_APT\":\"아파트\",\"CODE_WSUPPLY\":\"고가수조식\",\"KAPT_MPAREA\":33543.42,\"KAPT_MAREA\":33366.24,\"KAPT_PAREA\":0,\"KAPT_TAREA\":48820,\"CODE_FALARM\":\"P형\",\"KAPTD_SEC_COM\":\"-\",\"KAPTD_ECAPA\":\"950\",\"CODE_STR\":\"철근콘크리트구조\",\"APPL_CODE\":null,\"KAPT_ME1AREA\":0,\"KAPT_ACOMPANY\":\"우성건설\",\"KAPT_ME2AREA\":0,\"KAPT_ME3AREA\":0,\"CODE_GARBAGE\":\"음식물쓰레기종량제\",\"KAPT_ME4AREA\":0,\"KAPT_ME5AREA\":0,\"CODE_CLTIME\":\"7\",\"CODE_HALL\":\"혼합식\",\"CODE_STIME\":\"16\",\"KAPT_NAME\":\"신길우성3차아파트\",\"KAPT_DONG_CNT\":\"5\",\"CODE_CLEAN\":\"위탁관리(직영+위탁)\",\"CODE_SALE\":\"분양\",\"CODE_SEC\":\"자치관리\",\"EMPTY_HO_CNT\":0,\"APPL_PRODATE\":\"\",\"KAPT_URL\":\"ws3apt@hanmail.net\",\"KAPTD_CLCNT\":\"3\",\"KAPTD_PCNT\":\"192\",\"KAPTD_WTIMESUB\":\"5~10분이내\",\"KAPTD_DCNT\":\"4\",\"EDUCATION_FACILITY\":\"초등학교(대길초등학교) 고등학교(영신고등학교)\",\"KAPT_CCOMPANY\":\"-\"},\"resultMap_kapt_areacnt\":[{\"KAPTDA_CNT\":139,\"AREA_GBN\":1,\"KAPT_CODE\":\"A15086004\"},{\"KAPTDA_CNT\":338,\"AREA_GBN\":2,\"KAPT_CODE\":\"A15086004\"},{\"KAPTDA_CNT\":null,\"AREA_GBN\":3,\"KAPT_CODE\":null},{\"KAPTDA_CNT\":null,\"AREA_GBN\":4,\"KAPT_CODE\":null}],\"resultMap_kapt_addrList\":[{\"ADDR\":\"서울특별시 영등포구 신길동 4656 신길우성3차아파트\",\"KAPT_CODE\":\"A15086004\",\"ADDR_GBN\":\"B\"},{\"ADDR\":\"서울특별시 영등포구 대방천로14길 32\",\"KAPT_CODE\":\"A15086004\",\"ADDR_GBN\":\"R\"}]}\n",
      "{\"resultMap_match\":{\"KAPT_CODE\":\"A15086004\",\"TOWN_CODE\":1059},\"resultMap_kapt\":{\"KAPT_NAME\":\"신길우성3차아파트\",\"CODE_SALE\":\"분양\",\"CODE_HEAT\":\"개별난방\",\"KAPT_TAREA\":48820,\"KAPT_DONG_CNT\":\"5\",\"KAPT_BCOMPANY\":\"우성건설\",\"KAPT_ACOMPANY\":\"우성건설\",\"KAPT_TEL\":\"02-848-3078\",\"KAPT_FAX\":\"02-845-0811\",\"KAPT_URL\":\"ws3apt@hanmail.net\",\"CODE_APT\":\"아파트\",\"CODE_MGR\":\"자치관리\",\"KAPT_MGR_CNT\":\"5\",\"KAPT_CCOMPANY\":\"-\",\"CODE_SEC\":\"자치관리\",\"KAPTD_SCNT\":\"9\",\"KAPTD_SEC_COM\":\"-\",\"CODE_CLEAN\":\"위탁관리(직영+위탁)\",\"KAPTD_CLCNT\":\"3\",\"CODE_GARBAGE\":\"음식물쓰레기종량제\",\"CODE_DISINF\":\"위탁관리(직영+위탁)\",\"KAPTD_DCNT\":\"4\",\"DISPOSAL_TYPE\":\"분무식\",\"KAPTD_PCNT\":\"192\",\"KAPTD_PCNTU\":\"0\",\"KAPTD_CCCNT\":\"60\",\"WELFARE_FACILITY\":\"관리사무소, 노인정, 어린이놀이터, 자전거보관소\",\"KAPTD_ECAPA\":\"950\",\"CODE_EMGR\":\"위탁선임\",\"CODE_WSUPPLY\":\"고가수조식\",\"CODE_STR\":\"철근콘크리트구조\",\"CODE_ECON\":\"종합계약\",\"CODE_FALARM\":\"P형\",\"CODE_ELEV\":\"위탁관리(직영+위탁)\",\"CODE_NET\":\"무\",\"KAPTD_WTIMEBUS\":\"5~10분이내\",\"CONVENIENT_FACILITY\":\"관공서(동사무소) 병원(이화의원) 대형상가(하이마트-신풍점) 공원(보라매공원) 기타(돈보스코청소년센터)\",\"EDUCATION_FACILITY\":\"초등학교(대길초등학교) 고등학교(영신고등학교)\",\"CODE_HALL\":\"혼합식\",\"KAPT_USEDATE\":\"1989-04-11\",\"KAPT_MAREA\":33366.24,\"SUBWAY_STATION\":\"신풍\",\"SUBWAY_LINE\":\"7호선\",\"KAPTD_WTIMESUB\":\"5~10분이내\",\"KAPT_CODE\":\"A15086004\"},\"resultMap_kapt_areacnt\":[{\"KAPTDA_CNT\":139,\"AREA_GBN\":1,\"KAPT_CODE\":\"A15086004\"},{\"KAPTDA_CNT\":338,\"AREA_GBN\":2,\"KAPT_CODE\":\"A15086004\"},{\"KAPTDA_CNT\":0,\"AREA_GBN\":3,\"KAPT_CODE\":\"\"},{\"KAPTDA_CNT\":0,\"AREA_GBN\":4,\"KAPT_CODE\":\"\"}],\"resultMap_kapt_addrList\":[{\"ADDR\":\"서울특별시 영등포구 신길동 4656 신길우성3차아파트\",\"KAPT_CODE\":\"A15086004\",\"ADDR_GBN\":\"B\"},{\"ADDR\":\"서울특별시 영등포구 대방천로14길 32\",\"KAPT_CODE\":\"A15086004\",\"ADDR_GBN\":\"R\"}]}\n",
      "18 / 23 신길우성3차아파트 처리완료\n"
     ]
    },
    {
     "name": "stderr",
     "output_type": "stream",
     "text": [
      "2018/03/22 21:24:55 example.com 200 OK\n"
     ]
    },
    {
     "name": "stdout",
     "output_type": "stream",
     "text": [
      "{\"resultMap_match\":{\"KAPT_CODE\":\"A15005001\",\"TOWN_CODE\":1060},\"resultMap_kapt\":{\"CODE_HEAT\":\"개별난방\",\"SUBWAY_STATION\":\"신길\",\"SUBWAY_LINE\":\"1호선, 5호선\",\"KAPT_PE1AREA\":0,\"KAPT_PE2AREA\":0,\"KAPT_PE3AREA\":0,\"KAPT_PEAREA\":0,\"KAPT_PE4AREA\":0,\"DISPOSAL_TYPE\":\"분무식\",\"KAPT_PE5AREA\":0,\"KAPTD_ECNTB\":0,\"KAPTD_ECNTC\":0,\"KAPT_PHAREA\":0,\"KAPTD_ECNTD\":0,\"KAPTD_SCNT\":\"10\",\"KAPTD_ECNTE\":0,\"CODE_ECON\":\"단일계약\",\"KAPT_PPAREA\":0,\"KAPTD_CCCNT\":\"88\",\"KAPTD_ECNTM\":0,\"KAPT_TEL\":\"02)849-1156\",\"WELFARE_FACILITY\":\"관리사무소, 노인정, 어린이놀이터, 자전거보관소\",\"KAPTD_ECNTP\":17,\"KAPT_FAX\":\"02)849-1157\",\"KAPT_ACC_COMPANY\":\"이지데이터\",\"KAPT_MGR_CNT\":\"5\",\"KAPT_BCOMPANY\":\"우성건설\",\"CONVENIENT_FACILITY\":\"관공서(동사무소) 병원(서울대윤병원) 대형상가(삼성디지털프라자) 공원(영등포공원)\",\"CODE_DISINF\":\"기타\",\"CODE_EMGR\":\"상주선임\",\"CODE_MGR\":\"위탁관리\",\"KAPTD_PCNTU\":\"89\",\"CODE_EMAINT\":\"위탁관리\",\"KAPT_MCAREA\":0,\"CODE_ELEV\":\"기타\",\"KAPT_MEAREA\":0,\"CODE_NET\":\"무\",\"KAPT_MHAREA\":0,\"KAPT_USEDATE\":\"1991-05-04\",\"KAPTD_WTIMEBUS\":\"5분이내\",\"KAPT_CODE\":\"A15005001\",\"CODE_APT\":\"아파트\",\"CODE_WSUPPLY\":\"고가수조식\",\"KAPT_MPAREA\":0,\"KAPT_MAREA\":38900,\"KAPT_PAREA\":0,\"KAPT_TAREA\":53207.29,\"CODE_FALARM\":\"P형\",\"KAPTD_SEC_COM\":\"디엠지관리\",\"KAPTD_ECAPA\":\"1400\",\"CODE_STR\":\"철근콘크리트구조\",\"APPL_CODE\":null,\"KAPT_ME1AREA\":0,\"KAPT_ACOMPANY\":\"우성건설\",\"KAPT_ME2AREA\":0,\"KAPT_ME3AREA\":0,\"CODE_GARBAGE\":\"음식물쓰레기종량제\",\"KAPT_ME4AREA\":0,\"KAPT_ME5AREA\":0,\"CODE_CLTIME\":\"6\",\"CODE_HALL\":\"계단식\",\"CODE_STIME\":\"16\",\"KAPT_NAME\":\"신길우성4차\",\"KAPT_DONG_CNT\":\"4\",\"CODE_CLEAN\":\"기타\",\"CODE_SALE\":\"분양\",\"CODE_SEC\":\"기타\",\"EMPTY_HO_CNT\":0,\"APPL_PRODATE\":\"\",\"KAPT_URL\":\"우성4차.aptgate.co.kr\",\"KAPTD_CLCNT\":\"5\",\"KAPTD_PCNT\":\"203\",\"KAPTD_WTIMESUB\":\"5분이내\",\"KAPTD_DCNT\":\"12\",\"EDUCATION_FACILITY\":\"중학교(영원중교) 고등학교(영등포여고교, 장훈고등학교)\",\"KAPT_CCOMPANY\":\"(주)디엠지관리\"},\"resultMap_kapt_areacnt\":[{\"KAPTDA_CNT\":null,\"AREA_GBN\":1,\"KAPT_CODE\":null},{\"KAPTDA_CNT\":476,\"AREA_GBN\":2,\"KAPT_CODE\":\"A15005001\"},{\"KAPTDA_CNT\":null,\"AREA_GBN\":3,\"KAPT_CODE\":null},{\"KAPTDA_CNT\":null,\"AREA_GBN\":4,\"KAPT_CODE\":null}],\"resultMap_kapt_addrList\":[{\"ADDR\":\"서울특별시 영등포구 신길동 102-8 신길우성아파트\",\"KAPT_CODE\":\"A15005001\",\"ADDR_GBN\":\"B\"},{\"ADDR\":\"서울특별시 영등포구 영등포로64길 8\",\"KAPT_CODE\":\"A15005001\",\"ADDR_GBN\":\"R\"},{\"ADDR\":\"서울특별시 영등포구 영등포로64길 11\",\"KAPT_CODE\":\"A15005001\",\"ADDR_GBN\":\"R\"}]}\n",
      "{\"resultMap_match\":{\"KAPT_CODE\":\"A15005001\",\"TOWN_CODE\":1060},\"resultMap_kapt\":{\"KAPT_NAME\":\"신길우성4차\",\"CODE_SALE\":\"분양\",\"CODE_HEAT\":\"개별난방\",\"KAPT_TAREA\":53207.29,\"KAPT_DONG_CNT\":\"4\",\"KAPT_BCOMPANY\":\"우성건설\",\"KAPT_ACOMPANY\":\"우성건설\",\"KAPT_TEL\":\"02)849-1156\",\"KAPT_FAX\":\"02)849-1157\",\"KAPT_URL\":\"우성4차.aptgate.co.kr\",\"CODE_APT\":\"아파트\",\"CODE_MGR\":\"위탁관리\",\"KAPT_MGR_CNT\":\"5\",\"KAPT_CCOMPANY\":\"(주)디엠지관리\",\"CODE_SEC\":\"기타\",\"KAPTD_SCNT\":\"10\",\"KAPTD_SEC_COM\":\"디엠지관리\",\"CODE_CLEAN\":\"기타\",\"KAPTD_CLCNT\":\"5\",\"CODE_GARBAGE\":\"음식물쓰레기종량제\",\"CODE_DISINF\":\"기타\",\"KAPTD_DCNT\":\"12\",\"DISPOSAL_TYPE\":\"분무식\",\"KAPTD_PCNT\":\"203\",\"KAPTD_PCNTU\":\"89\",\"KAPTD_CCCNT\":\"88\",\"WELFARE_FACILITY\":\"관리사무소, 노인정, 어린이놀이터, 자전거보관소\",\"KAPTD_ECAPA\":\"1400\",\"CODE_EMGR\":\"상주선임\",\"CODE_WSUPPLY\":\"고가수조식\",\"CODE_STR\":\"철근콘크리트구조\",\"CODE_ECON\":\"단일계약\",\"CODE_FALARM\":\"P형\",\"CODE_ELEV\":\"기타\",\"CODE_NET\":\"무\",\"KAPTD_WTIMEBUS\":\"5분이내\",\"CONVENIENT_FACILITY\":\"관공서(동사무소) 병원(서울대윤병원) 대형상가(삼성디지털프라자) 공원(영등포공원)\",\"EDUCATION_FACILITY\":\"중학교(영원중교) 고등학교(영등포여고교, 장훈고등학교)\",\"CODE_HALL\":\"계단식\",\"KAPT_USEDATE\":\"1991-05-04\",\"KAPT_MAREA\":38900,\"SUBWAY_STATION\":\"신길\",\"SUBWAY_LINE\":\"1호선, 5호선\",\"KAPTD_WTIMESUB\":\"5분이내\",\"KAPT_CODE\":\"A15005001\"},\"resultMap_kapt_areacnt\":[{\"KAPTDA_CNT\":0,\"AREA_GBN\":1,\"KAPT_CODE\":\"\"},{\"KAPTDA_CNT\":476,\"AREA_GBN\":2,\"KAPT_CODE\":\"A15005001\"},{\"KAPTDA_CNT\":0,\"AREA_GBN\":3,\"KAPT_CODE\":\"\"},{\"KAPTDA_CNT\":0,\"AREA_GBN\":4,\"KAPT_CODE\":\"\"}],\"resultMap_kapt_addrList\":[{\"ADDR\":\"서울특별시 영등포구 신길동 102-8 신길우성아파트\",\"KAPT_CODE\":\"A15005001\",\"ADDR_GBN\":\"B\"},{\"ADDR\":\"서울특별시 영등포구 영등포로64길 8\",\"KAPT_CODE\":\"A15005001\",\"ADDR_GBN\":\"R\"},{\"ADDR\":\"서울특별시 영등포구 영등포로64길 11\",\"KAPT_CODE\":\"A15005001\",\"ADDR_GBN\":\"R\"}]}\n",
      "19 / 23 신길우성4차 처리완료\n"
     ]
    },
    {
     "name": "stderr",
     "output_type": "stream",
     "text": [
      "2018/03/22 21:24:56 example.com 200 OK\n"
     ]
    },
    {
     "name": "stdout",
     "output_type": "stream",
     "text": [
      "{\"resultMap_match\":{\"KAPT_CODE\":\"A15005301\",\"TOWN_CODE\":1061},\"resultMap_kapt\":{\"CODE_HEAT\":\"개별난방\",\"SUBWAY_STATION\":\"신풍\",\"SUBWAY_LINE\":\"2호선, 5호선, 7호선\",\"KAPT_PE1AREA\":0,\"KAPT_PE2AREA\":0,\"KAPT_PE3AREA\":0,\"KAPT_PEAREA\":0,\"KAPT_PE4AREA\":0,\"DISPOSAL_TYPE\":\"분무식,독이식\",\"KAPT_PE5AREA\":0,\"KAPTD_ECNTB\":0,\"KAPTD_ECNTC\":0,\"KAPT_PHAREA\":0,\"KAPTD_ECNTD\":0,\"KAPTD_SCNT\":\"8\",\"KAPTD_ECNTE\":0,\"CODE_ECON\":\"단일계약\",\"KAPT_PPAREA\":0,\"KAPTD_CCCNT\":\"32\",\"KAPTD_ECNTM\":0,\"KAPT_TEL\":\"02-841-9412\",\"WELFARE_FACILITY\":\"관리사무소, 노인정, 주민공동시설, 어린이놀이터, 자전거보관소\",\"KAPTD_ECNTP\":9,\"KAPT_FAX\":\"02-6673-9412\",\"KAPT_ACC_COMPANY\":\"한국전산\",\"KAPT_MGR_CNT\":\"4\",\"KAPT_BCOMPANY\":\"우성건설\",\"CONVENIENT_FACILITY\":\"관공서(동사무소) 병원(윤면소아과의원) 대형상가(사러가쇼핑센터)\",\"CODE_DISINF\":\"위탁관리(직영+위탁)\",\"CODE_EMGR\":\"위탁선임\",\"CODE_MGR\":\"위탁관리\",\"KAPTD_PCNTU\":\"85\",\"CODE_EMAINT\":\"위탁관리\",\"KAPT_MCAREA\":6724.97,\"CODE_ELEV\":\"위탁관리\",\"KAPT_MEAREA\":0,\"CODE_NET\":\"무\",\"KAPT_MHAREA\":0,\"KAPT_USEDATE\":\"1993-10-26\",\"KAPTD_WTIMEBUS\":\"10~15분이내\",\"KAPT_CODE\":\"A15005301\",\"CODE_APT\":\"아파트\",\"CODE_WSUPPLY\":\"고가수조식\",\"KAPT_MPAREA\":27278.56,\"KAPT_MAREA\":27278.58,\"KAPT_PAREA\":0,\"KAPT_TAREA\":34003.531,\"CODE_FALARM\":\"P형\",\"KAPTD_SEC_COM\":\"태림주택종합\",\"KAPTD_ECAPA\":\"750\",\"CODE_STR\":\"철근콘크리트구조\",\"APPL_CODE\":null,\"KAPT_ME1AREA\":0,\"KAPT_ACOMPANY\":\"우성건설\",\"KAPT_ME2AREA\":0,\"KAPT_ME3AREA\":0,\"CODE_GARBAGE\":\"음식물쓰레기종량제\",\"KAPT_ME4AREA\":0,\"KAPT_ME5AREA\":0,\"CODE_CLTIME\":\"6\",\"CODE_HALL\":\"계단식\",\"CODE_STIME\":\"15\",\"KAPT_NAME\":\"신길우성5차\",\"KAPT_DONG_CNT\":\"3\",\"CODE_CLEAN\":\"위탁관리(직영+위탁)\",\"CODE_SALE\":\"분양\",\"CODE_SEC\":\"자치관리(직영)\",\"EMPTY_HO_CNT\":0,\"APPL_PRODATE\":\"\",\"KAPT_URL\":\"-\",\"KAPTD_CLCNT\":\"3\",\"KAPTD_PCNT\":\"149\",\"KAPTD_WTIMESUB\":\"10~15분이내\",\"KAPTD_DCNT\":\"12\",\"EDUCATION_FACILITY\":\"초등학교(도림초등학교) 중학교(대영중교) 고등학교(대영고교)\",\"KAPT_CCOMPANY\":\"태림주택종합관리(주)\"},\"resultMap_kapt_areacnt\":[{\"KAPTDA_CNT\":null,\"AREA_GBN\":1,\"KAPT_CODE\":null},{\"KAPTDA_CNT\":321,\"AREA_GBN\":2,\"KAPT_CODE\":\"A15005301\"},{\"KAPTDA_CNT\":null,\"AREA_GBN\":3,\"KAPT_CODE\":null},{\"KAPTDA_CNT\":null,\"AREA_GBN\":4,\"KAPT_CODE\":null}],\"resultMap_kapt_addrList\":[{\"ADDR\":\"서울특별시 영등포구 신길동 4933 신길우성5차아파트\",\"KAPT_CODE\":\"A15005301\",\"ADDR_GBN\":\"B\"},{\"ADDR\":\"서울특별시 영등포구 도신로 100\",\"KAPT_CODE\":\"A15005301\",\"ADDR_GBN\":\"R\"}]}\n",
      "{\"resultMap_match\":{\"KAPT_CODE\":\"A15005301\",\"TOWN_CODE\":1061},\"resultMap_kapt\":{\"KAPT_NAME\":\"신길우성5차\",\"CODE_SALE\":\"분양\",\"CODE_HEAT\":\"개별난방\",\"KAPT_TAREA\":34003.531,\"KAPT_DONG_CNT\":\"3\",\"KAPT_BCOMPANY\":\"우성건설\",\"KAPT_ACOMPANY\":\"우성건설\",\"KAPT_TEL\":\"02-841-9412\",\"KAPT_FAX\":\"02-6673-9412\",\"KAPT_URL\":\"-\",\"CODE_APT\":\"아파트\",\"CODE_MGR\":\"위탁관리\",\"KAPT_MGR_CNT\":\"4\",\"KAPT_CCOMPANY\":\"태림주택종합관리(주)\",\"CODE_SEC\":\"자치관리(직영)\",\"KAPTD_SCNT\":\"8\",\"KAPTD_SEC_COM\":\"태림주택종합\",\"CODE_CLEAN\":\"위탁관리(직영+위탁)\",\"KAPTD_CLCNT\":\"3\",\"CODE_GARBAGE\":\"음식물쓰레기종량제\",\"CODE_DISINF\":\"위탁관리(직영+위탁)\",\"KAPTD_DCNT\":\"12\",\"DISPOSAL_TYPE\":\"분무식,독이식\",\"KAPTD_PCNT\":\"149\",\"KAPTD_PCNTU\":\"85\",\"KAPTD_CCCNT\":\"32\",\"WELFARE_FACILITY\":\"관리사무소, 노인정, 주민공동시설, 어린이놀이터, 자전거보관소\",\"KAPTD_ECAPA\":\"750\",\"CODE_EMGR\":\"위탁선임\",\"CODE_WSUPPLY\":\"고가수조식\",\"CODE_STR\":\"철근콘크리트구조\",\"CODE_ECON\":\"단일계약\",\"CODE_FALARM\":\"P형\",\"CODE_ELEV\":\"위탁관리\",\"CODE_NET\":\"무\",\"KAPTD_WTIMEBUS\":\"10~15분이내\",\"CONVENIENT_FACILITY\":\"관공서(동사무소) 병원(윤면소아과의원) 대형상가(사러가쇼핑센터)\",\"EDUCATION_FACILITY\":\"초등학교(도림초등학교) 중학교(대영중교) 고등학교(대영고교)\",\"CODE_HALL\":\"계단식\",\"KAPT_USEDATE\":\"1993-10-26\",\"KAPT_MAREA\":27278.58,\"SUBWAY_STATION\":\"신풍\",\"SUBWAY_LINE\":\"2호선, 5호선, 7호선\",\"KAPTD_WTIMESUB\":\"10~15분이내\",\"KAPT_CODE\":\"A15005301\"},\"resultMap_kapt_areacnt\":[{\"KAPTDA_CNT\":0,\"AREA_GBN\":1,\"KAPT_CODE\":\"\"},{\"KAPTDA_CNT\":321,\"AREA_GBN\":2,\"KAPT_CODE\":\"A15005301\"},{\"KAPTDA_CNT\":0,\"AREA_GBN\":3,\"KAPT_CODE\":\"\"},{\"KAPTDA_CNT\":0,\"AREA_GBN\":4,\"KAPT_CODE\":\"\"}],\"resultMap_kapt_addrList\":[{\"ADDR\":\"서울특별시 영등포구 신길동 4933 신길우성5차아파트\",\"KAPT_CODE\":\"A15005301\",\"ADDR_GBN\":\"B\"},{\"ADDR\":\"서울특별시 영등포구 도신로 100\",\"KAPT_CODE\":\"A15005301\",\"ADDR_GBN\":\"R\"}]}\n",
      "20 / 23 신길우성5차 처리완료\n"
     ]
    },
    {
     "name": "stderr",
     "output_type": "stream",
     "text": [
      "2018/03/22 21:24:56 example.com 200 OK\n"
     ]
    },
    {
     "name": "stdout",
     "output_type": "stream",
     "text": [
      "{\"resultMap_match\":{\"KAPT_CODE\":\"A15005602\",\"TOWN_CODE\":1062},\"resultMap_kapt\":{\"CODE_HEAT\":\"개별난방\",\"SUBWAY_STATION\":\"신풍\",\"SUBWAY_LINE\":\"7호선\",\"KAPT_PE1AREA\":0,\"KAPT_PE2AREA\":0,\"KAPT_PE3AREA\":0,\"KAPT_PEAREA\":0,\"KAPT_PE4AREA\":0,\"DISPOSAL_TYPE\":\"분무식\",\"KAPT_PE5AREA\":0,\"KAPTD_ECNTB\":0,\"KAPTD_ECNTC\":0,\"KAPT_PHAREA\":0,\"KAPTD_ECNTD\":0,\"KAPTD_SCNT\":\"4\",\"KAPTD_ECNTE\":0,\"CODE_ECON\":\"단일계약\",\"KAPT_PPAREA\":0,\"KAPTD_CCCNT\":\"13\",\"KAPTD_ECNTM\":0,\"KAPT_TEL\":\"02-6268-7500\",\"WELFARE_FACILITY\":\"관리사무소, 어린이놀이터, 휴게시설, 자전거보관소\",\"KAPTD_ECNTP\":2,\"KAPT_FAX\":\"842-1929\",\"KAPT_ACC_COMPANY\":\"-\",\"KAPT_MGR_CNT\":\"3\",\"KAPT_BCOMPANY\":\"우창건설(주)\",\"CONVENIENT_FACILITY\":\"관공서(동사무소) 병원(성심병원) 공원(보라매공원) 기타(돈보스코청소년센터)\",\"CODE_DISINF\":\"위탁관리\",\"CODE_EMGR\":\"위탁선임\",\"CODE_MGR\":\"위탁관리\",\"KAPTD_PCNTU\":\"0\",\"CODE_EMAINT\":\"위탁관리\",\"KAPT_MCAREA\":0,\"CODE_ELEV\":\"위탁관리\",\"KAPT_MEAREA\":0,\"CODE_NET\":\"무\",\"KAPT_MHAREA\":0,\"KAPT_USEDATE\":\"1983-08-17\",\"KAPTD_WTIMEBUS\":\"5~10분이내\",\"KAPT_CODE\":\"A15005602\",\"CODE_APT\":\"아파트\",\"CODE_WSUPPLY\":\"부스타방식\",\"KAPT_MPAREA\":18782.2,\"KAPT_MAREA\":13421.68,\"KAPT_PAREA\":0,\"KAPT_TAREA\":18782.2,\"CODE_FALARM\":\"P형\",\"KAPTD_SEC_COM\":\"(주)태룡에스디\",\"KAPTD_ECAPA\":\"500\",\"CODE_STR\":\"철근콘크리트구조\",\"APPL_CODE\":null,\"KAPT_ME1AREA\":0,\"KAPT_ACOMPANY\":\"우창건설\",\"KAPT_ME2AREA\":0,\"KAPT_ME3AREA\":0,\"CODE_GARBAGE\":\"음식물쓰레기종량제\",\"KAPT_ME4AREA\":0,\"KAPT_ME5AREA\":0,\"CODE_CLTIME\":\"6\",\"CODE_HALL\":\"복도식\",\"CODE_STIME\":\"14\",\"KAPT_NAME\":\"신길우창\",\"KAPT_DONG_CNT\":\"2\",\"CODE_CLEAN\":\"위탁관리\",\"CODE_SALE\":\"분양\",\"CODE_SEC\":\"위탁관리\",\"EMPTY_HO_CNT\":0,\"APPL_PRODATE\":\"\",\"KAPT_URL\":\"-\",\"KAPTD_CLCNT\":\"1\",\"KAPTD_PCNT\":\"163\",\"KAPTD_WTIMESUB\":\"5~10분이내\",\"KAPTD_DCNT\":\"12\",\"EDUCATION_FACILITY\":\"초등학교(대길초등학교) 중학교(대방중학교) 고등학교(영신고등학교)\",\"KAPT_CCOMPANY\":\"(주)태룡에스디\"},\"resultMap_kapt_areacnt\":[{\"KAPTDA_CNT\":72,\"AREA_GBN\":1,\"KAPT_CODE\":\"A15005602\"},{\"KAPTDA_CNT\":142,\"AREA_GBN\":2,\"KAPT_CODE\":\"A15005602\"},{\"KAPTDA_CNT\":null,\"AREA_GBN\":3,\"KAPT_CODE\":null},{\"KAPTDA_CNT\":null,\"AREA_GBN\":4,\"KAPT_CODE\":null}],\"resultMap_kapt_addrList\":[{\"ADDR\":\"서울특별시 영등포구 신길동 4501 우창아파트\",\"KAPT_CODE\":\"A15005602\",\"ADDR_GBN\":\"B\"},{\"ADDR\":\"서울특별시 영등포구 여의대방로5길 6\",\"KAPT_CODE\":\"A15005602\",\"ADDR_GBN\":\"R\"}]}\n",
      "{\"resultMap_match\":{\"KAPT_CODE\":\"A15005602\",\"TOWN_CODE\":1062},\"resultMap_kapt\":{\"KAPT_NAME\":\"신길우창\",\"CODE_SALE\":\"분양\",\"CODE_HEAT\":\"개별난방\",\"KAPT_TAREA\":18782.2,\"KAPT_DONG_CNT\":\"2\",\"KAPT_BCOMPANY\":\"우창건설(주)\",\"KAPT_ACOMPANY\":\"우창건설\",\"KAPT_TEL\":\"02-6268-7500\",\"KAPT_FAX\":\"842-1929\",\"KAPT_URL\":\"-\",\"CODE_APT\":\"아파트\",\"CODE_MGR\":\"위탁관리\",\"KAPT_MGR_CNT\":\"3\",\"KAPT_CCOMPANY\":\"(주)태룡에스디\",\"CODE_SEC\":\"위탁관리\",\"KAPTD_SCNT\":\"4\",\"KAPTD_SEC_COM\":\"(주)태룡에스디\",\"CODE_CLEAN\":\"위탁관리\",\"KAPTD_CLCNT\":\"1\",\"CODE_GARBAGE\":\"음식물쓰레기종량제\",\"CODE_DISINF\":\"위탁관리\",\"KAPTD_DCNT\":\"12\",\"DISPOSAL_TYPE\":\"분무식\",\"KAPTD_PCNT\":\"163\",\"KAPTD_PCNTU\":\"0\",\"KAPTD_CCCNT\":\"13\",\"WELFARE_FACILITY\":\"관리사무소, 어린이놀이터, 휴게시설, 자전거보관소\",\"KAPTD_ECAPA\":\"500\",\"CODE_EMGR\":\"위탁선임\",\"CODE_WSUPPLY\":\"부스타방식\",\"CODE_STR\":\"철근콘크리트구조\",\"CODE_ECON\":\"단일계약\",\"CODE_FALARM\":\"P형\",\"CODE_ELEV\":\"위탁관리\",\"CODE_NET\":\"무\",\"KAPTD_WTIMEBUS\":\"5~10분이내\",\"CONVENIENT_FACILITY\":\"관공서(동사무소) 병원(성심병원) 공원(보라매공원) 기타(돈보스코청소년센터)\",\"EDUCATION_FACILITY\":\"초등학교(대길초등학교) 중학교(대방중학교) 고등학교(영신고등학교)\",\"CODE_HALL\":\"복도식\",\"KAPT_USEDATE\":\"1983-08-17\",\"KAPT_MAREA\":13421.68,\"SUBWAY_STATION\":\"신풍\",\"SUBWAY_LINE\":\"7호선\",\"KAPTD_WTIMESUB\":\"5~10분이내\",\"KAPT_CODE\":\"A15005602\"},\"resultMap_kapt_areacnt\":[{\"KAPTDA_CNT\":72,\"AREA_GBN\":1,\"KAPT_CODE\":\"A15005602\"},{\"KAPTDA_CNT\":142,\"AREA_GBN\":2,\"KAPT_CODE\":\"A15005602\"},{\"KAPTDA_CNT\":0,\"AREA_GBN\":3,\"KAPT_CODE\":\"\"},{\"KAPTDA_CNT\":0,\"AREA_GBN\":4,\"KAPT_CODE\":\"\"}],\"resultMap_kapt_addrList\":[{\"ADDR\":\"서울특별시 영등포구 신길동 4501 우창아파트\",\"KAPT_CODE\":\"A15005602\",\"ADDR_GBN\":\"B\"},{\"ADDR\":\"서울특별시 영등포구 여의대방로5길 6\",\"KAPT_CODE\":\"A15005602\",\"ADDR_GBN\":\"R\"}]}\n",
      "21 / 23 신길우창 처리완료\n"
     ]
    },
    {
     "name": "stderr",
     "output_type": "stream",
     "text": [
      "2018/03/22 21:24:56 example.com 200 OK\n"
     ]
    },
    {
     "name": "stdout",
     "output_type": "stream",
     "text": [
      "{\"resultMap_match\":{\"KAPT_CODE\":\"A15096001\",\"TOWN_CODE\":20124858},\"resultMap_kapt\":{\"CODE_HEAT\":\"개별난방\",\"SUBWAY_STATION\":\"신풍\",\"SUBWAY_LINE\":\"1호선, 5호선\",\"KAPT_PE1AREA\":0,\"KAPT_PE2AREA\":0,\"KAPT_PE3AREA\":0,\"KAPT_PEAREA\":0,\"KAPT_PE4AREA\":0,\"DISPOSAL_TYPE\":\"분무식,독이식\",\"KAPT_PE5AREA\":0,\"KAPTD_ECNTB\":0,\"KAPTD_ECNTC\":0,\"KAPT_PHAREA\":0,\"KAPTD_ECNTD\":0,\"KAPTD_SCNT\":\"4\",\"KAPTD_ECNTE\":0,\"CODE_ECON\":\"종합계약\",\"KAPT_PPAREA\":0,\"KAPTD_CCCNT\":\"47\",\"KAPTD_ECNTM\":0,\"KAPT_TEL\":\"02-831-0924\",\"WELFARE_FACILITY\":\"관리사무소, 노인정, 주민공동시설, 어린이놀이터, 휴게시설, 커뮤니티공간, 자전거보관소\",\"KAPTD_ECNTP\":5,\"KAPT_FAX\":\"02-831-0926\",\"KAPT_ACC_COMPANY\":\"장은회계사무소\",\"KAPT_MGR_CNT\":\"4\",\"KAPT_BCOMPANY\":\"GS건설\",\"CONVENIENT_FACILITY\":\"관공서(동사무소) 병원(성애) 대형상가(사러가쇼핑센터)\",\"CODE_DISINF\":\"위탁관리\",\"CODE_EMGR\":\"상주선임\",\"CODE_MGR\":\"위탁관리\",\"KAPTD_PCNTU\":\"226\",\"CODE_EMAINT\":\"위탁관리\",\"KAPT_MCAREA\":0,\"CODE_ELEV\":\"위탁관리\",\"KAPT_MEAREA\":0,\"CODE_NET\":\"유\",\"KAPT_MHAREA\":0,\"KAPT_USEDATE\":\"2011-06-30\",\"KAPTD_WTIMEBUS\":\"5~10분이내\",\"KAPT_CODE\":\"A15096001\",\"CODE_APT\":\"아파트\",\"CODE_WSUPPLY\":\"부스타방식\",\"KAPT_MPAREA\":21074.14,\"KAPT_MAREA\":16003.72,\"KAPT_PAREA\":0,\"KAPT_TAREA\":32610.93,\"CODE_FALARM\":\"R형\",\"KAPTD_SEC_COM\":\"(주)조은세이프\",\"KAPTD_ECAPA\":\"1000\",\"CODE_STR\":\"철근콘크리트구조\",\"APPL_CODE\":null,\"KAPT_ME1AREA\":0,\"KAPT_ACOMPANY\":\"신길동제5구역재개발주택조합\",\"KAPT_ME2AREA\":0,\"KAPT_ME3AREA\":0,\"CODE_GARBAGE\":\"음식물쓰레기종량제\",\"KAPT_ME4AREA\":0,\"KAPT_ME5AREA\":0,\"CODE_CLTIME\":\"5\",\"CODE_HALL\":\"계단식\",\"CODE_STIME\":\"14\",\"KAPT_NAME\":\"신길자이\",\"KAPT_DONG_CNT\":\"4\",\"CODE_CLEAN\":\"위탁관리\",\"CODE_SALE\":\"분양\",\"CODE_SEC\":\"위탁관리\",\"EMPTY_HO_CNT\":1,\"APPL_PRODATE\":\"\",\"KAPT_URL\":\"-\",\"KAPTD_CLCNT\":\"2\",\"KAPTD_PCNT\":\"0\",\"KAPTD_WTIMESUB\":\"15~20분이내\",\"KAPTD_DCNT\":\"12\",\"EDUCATION_FACILITY\":\"초등학교(영신초등학교)\",\"KAPT_CCOMPANY\":\"일신주택관리(주)\"},\"resultMap_kapt_areacnt\":[{\"KAPTDA_CNT\":76,\"AREA_GBN\":1,\"KAPT_CODE\":\"A15096001\"},{\"KAPTDA_CNT\":86,\"AREA_GBN\":2,\"KAPT_CODE\":\"A15096001\"},{\"KAPTDA_CNT\":36,\"AREA_GBN\":3,\"KAPT_CODE\":\"A15096001\"},{\"KAPTDA_CNT\":null,\"AREA_GBN\":4,\"KAPT_CODE\":null}],\"resultMap_kapt_addrList\":[{\"ADDR\":\"서울특별시 영등포구 신길동 4938 신길자이\",\"KAPT_CODE\":\"A15096001\",\"ADDR_GBN\":\"B\"},{\"ADDR\":\"서울특별시 영등포구 가마산로79길 19\",\"KAPT_CODE\":\"A15096001\",\"ADDR_GBN\":\"R\"}]}\n",
      "{\"resultMap_match\":{\"KAPT_CODE\":\"A15096001\",\"TOWN_CODE\":20124858},\"resultMap_kapt\":{\"KAPT_NAME\":\"신길자이\",\"CODE_SALE\":\"분양\",\"CODE_HEAT\":\"개별난방\",\"KAPT_TAREA\":32610.93,\"KAPT_DONG_CNT\":\"4\",\"KAPT_BCOMPANY\":\"GS건설\",\"KAPT_ACOMPANY\":\"신길동제5구역재개발주택조합\",\"KAPT_TEL\":\"02-831-0924\",\"KAPT_FAX\":\"02-831-0926\",\"KAPT_URL\":\"-\",\"CODE_APT\":\"아파트\",\"CODE_MGR\":\"위탁관리\",\"KAPT_MGR_CNT\":\"4\",\"KAPT_CCOMPANY\":\"일신주택관리(주)\",\"CODE_SEC\":\"위탁관리\",\"KAPTD_SCNT\":\"4\",\"KAPTD_SEC_COM\":\"(주)조은세이프\",\"CODE_CLEAN\":\"위탁관리\",\"KAPTD_CLCNT\":\"2\",\"CODE_GARBAGE\":\"음식물쓰레기종량제\",\"CODE_DISINF\":\"위탁관리\",\"KAPTD_DCNT\":\"12\",\"DISPOSAL_TYPE\":\"분무식,독이식\",\"KAPTD_PCNT\":\"0\",\"KAPTD_PCNTU\":\"226\",\"KAPTD_CCCNT\":\"47\",\"WELFARE_FACILITY\":\"관리사무소, 노인정, 주민공동시설, 어린이놀이터, 휴게시설, 커뮤니티공간, 자전거보관소\",\"KAPTD_ECAPA\":\"1000\",\"CODE_EMGR\":\"상주선임\",\"CODE_WSUPPLY\":\"부스타방식\",\"CODE_STR\":\"철근콘크리트구조\",\"CODE_ECON\":\"종합계약\",\"CODE_FALARM\":\"R형\",\"CODE_ELEV\":\"위탁관리\",\"CODE_NET\":\"유\",\"KAPTD_WTIMEBUS\":\"5~10분이내\",\"CONVENIENT_FACILITY\":\"관공서(동사무소) 병원(성애) 대형상가(사러가쇼핑센터)\",\"EDUCATION_FACILITY\":\"초등학교(영신초등학교)\",\"CODE_HALL\":\"계단식\",\"KAPT_USEDATE\":\"2011-06-30\",\"KAPT_MAREA\":16003.72,\"SUBWAY_STATION\":\"신풍\",\"SUBWAY_LINE\":\"1호선, 5호선\",\"KAPTD_WTIMESUB\":\"15~20분이내\",\"KAPT_CODE\":\"A15096001\"},\"resultMap_kapt_areacnt\":[{\"KAPTDA_CNT\":76,\"AREA_GBN\":1,\"KAPT_CODE\":\"A15096001\"},{\"KAPTDA_CNT\":86,\"AREA_GBN\":2,\"KAPT_CODE\":\"A15096001\"},{\"KAPTDA_CNT\":36,\"AREA_GBN\":3,\"KAPT_CODE\":\"A15096001\"},{\"KAPTDA_CNT\":0,\"AREA_GBN\":4,\"KAPT_CODE\":\"\"}],\"resultMap_kapt_addrList\":[{\"ADDR\":\"서울특별시 영등포구 신길동 4938 신길자이\",\"KAPT_CODE\":\"A15096001\",\"ADDR_GBN\":\"B\"},{\"ADDR\":\"서울특별시 영등포구 가마산로79길 19\",\"KAPT_CODE\":\"A15096001\",\"ADDR_GBN\":\"R\"}]}\n",
      "22 / 23 신길자이 처리완료\n"
     ]
    },
    {
     "name": "stderr",
     "output_type": "stream",
     "text": [
      "2018/03/22 21:24:56 example.com 200 OK\n",
      "2018/03/22 21:24:56 example.com 200 OK\n"
     ]
    },
    {
     "name": "stdout",
     "output_type": "stream",
     "text": [
      "{\"resultMap_match\":{\"KAPT_CODE\":\"A15085404\",\"TOWN_CODE\":1064},\"resultMap_kapt\":{\"CODE_HEAT\":\"개별난방\",\"SUBWAY_STATION\":\"대방, 신풍\",\"SUBWAY_LINE\":\"1호선, 7호선\",\"KAPT_PE1AREA\":0,\"KAPT_PE2AREA\":0,\"KAPT_PE3AREA\":0,\"KAPT_PEAREA\":0,\"KAPT_PE4AREA\":0,\"DISPOSAL_TYPE\":\"도포식,기구부착식\",\"KAPT_PE5AREA\":0,\"KAPTD_ECNTB\":0,\"KAPTD_ECNTC\":0,\"KAPT_PHAREA\":0,\"KAPTD_ECNTD\":0,\"KAPTD_SCNT\":\"8\",\"KAPTD_ECNTE\":0,\"CODE_ECON\":\"단일계약\",\"KAPT_PPAREA\":0,\"KAPTD_CCCNT\":\"38\",\"KAPTD_ECNTM\":0,\"KAPT_TEL\":\"028362345\",\"WELFARE_FACILITY\":\"관리사무소, 노인정, 어린이놀이터\",\"KAPTD_ECNTP\":11,\"KAPT_FAX\":\"028362348\",\"KAPT_ACC_COMPANY\":\"홍진데이타\",\"KAPT_MGR_CNT\":\"5\",\"KAPT_BCOMPANY\":\"한국보훈복지공단\",\"CONVENIENT_FACILITY\":\"관공서(동사무소) 병원(김영준소아과)\",\"CODE_DISINF\":\"위탁관리\",\"CODE_EMGR\":\"상주선임\",\"CODE_MGR\":\"위탁관리\",\"KAPTD_PCNTU\":\"298\",\"CODE_EMAINT\":\"위탁관리\",\"KAPT_MCAREA\":0,\"CODE_ELEV\":\"위탁관리\",\"KAPT_MEAREA\":0,\"CODE_NET\":\"무\",\"KAPT_MHAREA\":0,\"KAPT_USEDATE\":\"1997-07-21\",\"KAPTD_WTIMEBUS\":\"5~10분이내\",\"KAPT_CODE\":\"A15085404\",\"CODE_APT\":\"아파트\",\"CODE_WSUPPLY\":\"부스타방식\",\"KAPT_MPAREA\":0,\"KAPT_MAREA\":36505.08,\"KAPT_PAREA\":0,\"KAPT_TAREA\":57972.21,\"CODE_FALARM\":\"P형\",\"KAPTD_SEC_COM\":\"한양시스템(주)\",\"KAPTD_ECAPA\":\"1465\",\"CODE_STR\":\"철근콘크리트구조\",\"APPL_CODE\":null,\"KAPT_ME1AREA\":0,\"KAPT_ACOMPANY\":\"한성건설\",\"KAPT_ME2AREA\":0,\"KAPT_ME3AREA\":0,\"CODE_GARBAGE\":\"음식물쓰레기종량제\",\"KAPT_ME4AREA\":0,\"KAPT_ME5AREA\":0,\"CODE_CLTIME\":\"4\",\"CODE_HALL\":\"계단식\",\"CODE_STIME\":\"24\",\"KAPT_NAME\":\"신길한성\",\"KAPT_DONG_CNT\":\"5\",\"CODE_CLEAN\":\"위탁관리\",\"CODE_SALE\":\"분양\",\"CODE_SEC\":\"위탁관리\",\"EMPTY_HO_CNT\":0,\"APPL_PRODATE\":\"\",\"KAPT_URL\":\"-\",\"KAPTD_CLCNT\":\"4\",\"KAPTD_PCNT\":\"147\",\"KAPTD_WTIMESUB\":\"5~10분이내\",\"KAPTD_DCNT\":\"12\",\"EDUCATION_FACILITY\":\"초등학교(대방초등학교) 중학교(강남중교) 고등학교(서울공업고교)\",\"KAPT_CCOMPANY\":\"대원종합관리(주)\"},\"resultMap_kapt_areacnt\":[{\"KAPTDA_CNT\":172,\"AREA_GBN\":1,\"KAPT_CODE\":\"A15085404\"},{\"KAPTDA_CNT\":144,\"AREA_GBN\":2,\"KAPT_CODE\":\"A15085404\"},{\"KAPTDA_CNT\":104,\"AREA_GBN\":3,\"KAPT_CODE\":\"A15085404\"},{\"KAPTDA_CNT\":null,\"AREA_GBN\":4,\"KAPT_CODE\":null}],\"resultMap_kapt_addrList\":[{\"ADDR\":\"서울특별시 영등포구 신길동 769-1 한성아파트\",\"KAPT_CODE\":\"A15085404\",\"ADDR_GBN\":\"B\"},{\"ADDR\":\"서울특별시 영등포구 가마산로 575\",\"KAPT_CODE\":\"A15085404\",\"ADDR_GBN\":\"R\"}]}\n",
      "{\"resultMap_match\":{\"KAPT_CODE\":\"A15085404\",\"TOWN_CODE\":1064},\"resultMap_kapt\":{\"KAPT_NAME\":\"신길한성\",\"CODE_SALE\":\"분양\",\"CODE_HEAT\":\"개별난방\",\"KAPT_TAREA\":57972.21,\"KAPT_DONG_CNT\":\"5\",\"KAPT_BCOMPANY\":\"한국보훈복지공단\",\"KAPT_ACOMPANY\":\"한성건설\",\"KAPT_TEL\":\"028362345\",\"KAPT_FAX\":\"028362348\",\"KAPT_URL\":\"-\",\"CODE_APT\":\"아파트\",\"CODE_MGR\":\"위탁관리\",\"KAPT_MGR_CNT\":\"5\",\"KAPT_CCOMPANY\":\"대원종합관리(주)\",\"CODE_SEC\":\"위탁관리\",\"KAPTD_SCNT\":\"8\",\"KAPTD_SEC_COM\":\"한양시스템(주)\",\"CODE_CLEAN\":\"위탁관리\",\"KAPTD_CLCNT\":\"4\",\"CODE_GARBAGE\":\"음식물쓰레기종량제\",\"CODE_DISINF\":\"위탁관리\",\"KAPTD_DCNT\":\"12\",\"DISPOSAL_TYPE\":\"도포식,기구부착식\",\"KAPTD_PCNT\":\"147\",\"KAPTD_PCNTU\":\"298\",\"KAPTD_CCCNT\":\"38\",\"WELFARE_FACILITY\":\"관리사무소, 노인정, 어린이놀이터\",\"KAPTD_ECAPA\":\"1465\",\"CODE_EMGR\":\"상주선임\",\"CODE_WSUPPLY\":\"부스타방식\",\"CODE_STR\":\"철근콘크리트구조\",\"CODE_ECON\":\"단일계약\",\"CODE_FALARM\":\"P형\",\"CODE_ELEV\":\"위탁관리\",\"CODE_NET\":\"무\",\"KAPTD_WTIMEBUS\":\"5~10분이내\",\"CONVENIENT_FACILITY\":\"관공서(동사무소) 병원(김영준소아과)\",\"EDUCATION_FACILITY\":\"초등학교(대방초등학교) 중학교(강남중교) 고등학교(서울공업고교)\",\"CODE_HALL\":\"계단식\",\"KAPT_USEDATE\":\"1997-07-21\",\"KAPT_MAREA\":36505.08,\"SUBWAY_STATION\":\"대방, 신풍\",\"SUBWAY_LINE\":\"1호선, 7호선\",\"KAPTD_WTIMESUB\":\"5~10분이내\",\"KAPT_CODE\":\"A15085404\"},\"resultMap_kapt_areacnt\":[{\"KAPTDA_CNT\":172,\"AREA_GBN\":1,\"KAPT_CODE\":\"A15085404\"},{\"KAPTDA_CNT\":144,\"AREA_GBN\":2,\"KAPT_CODE\":\"A15085404\"},{\"KAPTDA_CNT\":104,\"AREA_GBN\":3,\"KAPT_CODE\":\"A15085404\"},{\"KAPTDA_CNT\":0,\"AREA_GBN\":4,\"KAPT_CODE\":\"\"}],\"resultMap_kapt_addrList\":[{\"ADDR\":\"서울특별시 영등포구 신길동 769-1 한성아파트\",\"KAPT_CODE\":\"A15085404\",\"ADDR_GBN\":\"B\"},{\"ADDR\":\"서울특별시 영등포구 가마산로 575\",\"KAPT_CODE\":\"A15085404\",\"ADDR_GBN\":\"R\"}]}\n",
      "23 / 23 신길한성 처리완료\n",
      "92 개 아파트 처리 완료\n"
     ]
    },
    {
     "name": "stdout",
     "output_type": "stream",
     "text": [
      "[{{A10027073 20349595} {래미안에스티움 임대+분양 개별난방 272491.57 19 삼성물산주식회사 신길7재정비촉진구역주택재개발사업조함 028499571 02-849-9574 estium.co.kr 아파트 위탁관리 14 (주)타워피엠씨 위탁관리 16 (주)씨큐원 위탁관리 23 음식물쓰레기종량제 위탁관리 12 도포식,분무식 0 2280 206 관리사무소, 노인정, 보육시설, 문고, 주민공동시설, 어린이놀이터, 휴게시설, 커뮤니티공간, 자전거보관소 7550 상주선임 부스타방식 철골콘크리트구조 종합계약 R형 위탁관리 유 5분이내 - - 혼합식 2017-04-12 133313.49 신풍역 7호선 5분이내 A10027073} [{682 1 A10027073} {833 2 A10027073} {207 3 A10027073} {0 4 }] [{서울특별시 영등포구 신길동 4950 래미안에스티움 A10027073 B} {서울특별시 영등포구 신풍로 77 A10027073 R}]} {{A10027755 20331410} {래미안프레비뉴 임대+분양 개별난방 140645.79 12 삼성물산주식회사 조합 02-849-6655 02-849-6900 - 아파트 위탁관리 8 (주)아주관리 위탁관리 11 (주)아주관리 위탁관리 10 거점장비수거방식 위탁관리 0 - 0 1211 100 관리사무소, 노인정, 보육시설, 문고, 주민공동시설, 어린이놀이터, 커뮤니티공간, 자전거보관소 4000 상주선임 부스타방식 철골철근콘크리트구조 종합계약 R형 위탁관리 유 5~10분이내 - 초등학교() 중학교() 고등학교() 혼합식 2015-12-29 68800.87 - 7호선 5~10분이내 A10027755} [{396 1 A10027755} {535 2 A10027755} {17 3 A10027755} {0 4 }] [{서울특별시 영등포구 신길동 329-94 래미안영등포프레비뉴 A10027755 B} {서울특별시 영등포구 가마산로 442 A10027755 R}]} {{A15005002 20181850} {레전드힐스 분양 개별난방 8069.5 1 우신건설 코람코 자산신탁 028499181 028499184 - 주상복합 위탁관리 3 (주)한성세영비엔에이 위탁관리 2 한성세영비엔에이 위탁관리 1 음식물쓰레기종량제 위탁관리 12 도포식,분무식,기구부착식,독이식 73 0 8 관리사무소 950 위탁선임 부스타방식 철근콘크리트구조 단일계약 GR형 위탁관리 무 5분이내 백화점(디큐브,타임스퀘어) 초등학교(우신) 중학교(영원) 복도식 2013-07-26 2961.93 신풍 1호선, 7호선 10~15분이내 A15005002} [{216 1 A15005002} {0 2 } {0 3 } {0 4 }] [{서울특별시 영등포구 신길동 261-22 레전드힐스 A15005002 B} {서울특별시 영등포구 가마산로 468 A15005002 R}]} {{A15086006 20008680} {보라매경남아너스빌 분양 개별난방 73156.97 9 경남기업 경남기업 02-848-4779 02-833-4779 - 아파트 위탁관리 7 광인산업(주) 위탁관리 10 예주산업 위탁관리 5 음식물쓰레기종량제 위탁관리 12 도포식,분무식 125 674 154 관리사무소, 노인정, 보육시설, 문고, 주민공동시설, 어린이놀이터, 휴게시설, 자전거보관소 2391 상주선임 부스타방식 철근콘크리트구조 단일계약 R형 위탁관리 유 5~10분이내 관공서(동사무소) 병원(남수한의원) 대형상가(LG하이프라자) 공원(보라매공원) 기타(돈보스코청소년센터) 초등학교(대길초등학교) 중학교(대방중학교) 고등학교(영신고등학교) 계단식 2005-08-12 57010.79 신풍 7호선 5~10분이내 A15086006} [{92 1 A15086006} {489 2 A15086006} {88 3 A15086006} {0 4 }] [{서울특별시 영등포구 신길동 4780 보라매경남아너스빌 A15086006 B} {서울특별시 영등포구 여의대방로 25 A15086006 R}]} {{A15086001 20008679} {보라매두산위브 분양 개별난방 27724.41 2 두산건설(주) 두산건설 02-836-0385 02-836-0386 - 아파트 위탁관리 3 (주)한빛관리 위탁관리 2 (주)한빛관리 위탁관리 2 음식물쓰레기종량제 위탁관리 12 분무식 205 48 37 관리사무소, 노인정, 어린이놀이터, 자전거보관소 900 위탁선임 부스타방식 철근콘크리트구조 단일계약 GR형 위탁관리 무 5~10분이내 관공서(동사무소) 병원(김정은소아과의원) 공원(보라매공원) 기타(돈보스코청소년센터) 초등학교(대길초등학교) 중학교(대방중학교) 계단식 2005-11-10 17039.43 신풍 7호선 5~10분이내 A15086001} [{0 1 } {104 2 A15086001} {0 3 } {60 4 A15086001}] [{서울특별시 영등포구 신길동 4497 보라매두산위브 A15086001 B} {서울특별시 영등포구 여의대방로9길 5 A15086001 R}]} {{A15005102 1055} {신기목련 임대+분양 개별난방 15140 2 우정건설 주식회사 도시개발 공사 02)834-9119 02834-9122 - 아파트 위탁관리 2 유원종합관리(주) 위탁관리 2 유원종합관리(주) 위탁관리 1 거점장비수거방식 기타 2 - 102 28 24 어린이놀이터 450 위탁선임 고가수조식 철근콘크리트구조 단일계약 P형 위탁관리 무 10~15분이내 관공서(동사무소) 병원(보인의원) 대형상가(사러가쇼핑센터) 공원(근린공원) 초등학교(우신초등학교) 복도식 2000-07-11 9969.7 신풍 7호선 10~15분이내 A15005102} [{213 1 A15005102} {0 2 } {0 3 } {0 4 }] [{서울특별시 영등포구 신길동 4935 신기목련아파트 A15005102 B} {서울특별시 영등포구 신길로42가길 34 A15005102 R}]} {{A15005303 1057} {신길1차우성아파트 분양 개별난방 61767.2 6 (주)우성건설 (주)우성건설 02-833-6584 02-6673-6583 apt913.aptgate.co.kr 아파트 위탁관리 5 (주)아주관리 위탁관리 9 조은세이프 위탁관리 6 음식물쓰레기종량제 위탁관리 12 도포식,분무식,독이식 470 0 48 관리사무소, 노인정, 어린이놀이터 1760 상주선임 고가수조식 철근콘크리트구조 단일계약 P형 위탁관리 무 5분이내 관공서(동사무소) 병원(한산부인과) 대형상가(LG하이프라자) 공원(근린공원) 초등학교(대영초등학교) 중학교(대영중교) 고등학교(대영고교) 혼합식 1986-09-03 46238.48 신도림역,문래역 1호선, 2호선 5~10분이내 A15005303} [{182 1 A15005303} {506 2 A15005303} {0 3 } {0 4 }] [{서울특별시 영등포구 신길동 365 신길우성아파트 A15005303 B} {서울특별시 영등포구 도신로 68-1 A15005303 R}]} {{A15005302 1047} {신길건영 분양 개별난방 44462.75 4 LIG건영 (주)건영 844-2535 844-2535 신길건영.apti.co.kr 아파트 자치관리 4 - 자치관리 6 - 위탁관리 5 음식물쓰레기종량제 위탁관리 12 분무식,독이식 313 0 107 관리사무소, 노인정, 어린이놀이터, 자전거보관소 995 위탁선임 부스타방식 철근콘크리트구조 종합계약 P형 위탁관리 유 5~10분이내 관공서(신길3동) 병원(한산부인과) 대형상가(LG하이프라자) 공원(근린공원) 초등학교(대영초등학교) 중학교(대영중교) 고등학교(대영고교) 복도식 1985-09-04 31387.44 신풍역 1호선, 2호선, 7호선 5~10분이내 A15005302} [{0 1 } {160 2 A15005302} {226 3 A15005302} {0 4 }] [{서울특별시 영등포구 신길동 364 건영아파트 A15005302 B} {서울특별시 영등포구 도림로 313 A15005302 R}]} {{A15083703 1048} {신길경남 분양 개별난방 49860.67 5 경남건설 경남건설 02-835-7655 02-6747-7677 - 아파트 자치관리 4 - 위탁관리 4 한국보안시스템 위탁관리 4 거점장비수거방식 위탁관리 12 도포식,분무식,기구부착식,기구설치식,독이식 84 351 67 관리사무소, 노인정, 어린이놀이터 1240 위탁선임 고가수조식 철근콘크리트구조 단일계약 P형 위탁관리 무 5분이내 관공서(동사무소) 병원(서울대윤병원) 공원(여의도생태공원) 중학교(영원중교) 고등학교(장훈고교) 혼합식 1999-06-15 29601.1 신길역 1호선, 5호선 5분이내 A15083703} [{165 1 A15083703} {121 2 A15083703} {82 3 A15083703} {0 4 }] [{서울특별시 영등포구 신길동 67-1 신길동경남아파트 A15083703 B} {서울특별시 영등포구 영등포로 351 A15083703 R}]} {{A15085805 1049} {신길남서울 분양 개별난방 32295.3 13 근대건설 성아산업 02-836-7552 02-836-7552 남서울.apti.co.kr 아파트 자치관리 4 - 위탁관리 8 경진이앤지 위탁관리 4 음식물쓰레기종량제 위탁관리 12 분무식,독이식 280 0 32 관리사무소, 노인정, 어린이놀이터, 휴게시설 367 위탁선임 고가수조식 철근콘크리트구조 단일계약 P형 - 무 5분이내 관공서(동사무소) 병원(성심의원) 공원(신길광장공원) 기타(돈보스코청소년센터) 초등학교(대길초등학교) 중학교(대영중학교) 고등학교(대영고등학교) 계단식 1974-12-28 24643.62 신풍 7호선 5분이내 A15085805} [{488 1 A15085805} {30 2 A15085805} {0 3 } {0 4 }] [{서울특별시 영등포구 신길동 3111 남서울 A15085805 B} {서울특별시 영등포구 신길동 3586 남서울 A15085805 B} {서울특별시 영등포구 신길동 3002 남서울 A15085805 B} {서울특별시 영등포구 신길동 3591 남서울 A15085805 B} {서울특별시 영등포구 신길동 3583 남서울 A15085805 B} {서울특별시 영등포구 신길동 3573 남서울 A15085805 B} {서울특별시 영등포구 신길동 3590 남서울 A15085805 B} {서울특별시 영등포구 신길로 108 A15085805 R}]} {{A15005501 20096267} {신길뉴타운한화꿈에그린 분양 개별난방 48058.94 6 한화건설(주) 한고을 02-834-7097 02-834-0420 - 아파트 위탁관리 5 서림주택 위탁관리 4 세계보안 위탁관리 3 거점장비수거방식 위탁관리 12 도포식,분무식 24 377 112 관리사무소, 노인정, 어린이놀이터, 자전거보관소 1650 상주선임 부스타방식 철근콘크리트구조 종합계약 R형 위탁관리 유 5분이내 대형상가(사러가쇼핑센터) 초등학교(대영) 중학교(대영) 고등학교(대영) 계단식 2008-06-26 27684.2474 신풍 7호선 5분이내 A15005501} [{0 1 } {147 2 A15005501} {137 3 A15005501} {0 4 }] [{서울특별시 영등포구 신길동 4937 신길뉴타운한화꿈에그린 A15005501 B} {서울특별시 영등포구 신길로 119 A15005501 R}]} {{A15083701 1051} {신길삼두 분양 개별난방 10684 1 삼두실업(주) 삼두실업(주) 02-848-4188 02-848-4188 - 아파트 위탁관리 2 신한영주택관리(주) 위탁관리(직영+위탁) 2 신한영주택관리(주) 위탁관리(직영+위탁) 1 음식물쓰레기종량제 위탁관리 4 분무식 45 0 0 관리사무소, 노인정, 어린이놀이터, 자전거보관소 225 위탁선임 고가수조식 철근콘크리트구조 종합계약 P형 위탁관리 무 5~10분이내 관공서(동사무소) 병원(성애병원) 대형상가(LG하이프라자-대방점) 공원(여의도샛강생태공원) 중학교(윤중중학교) 고등학교(한국제과고등기술학교) 복도식 1987-12-12 7333.2 대방 1호선, 5호선 5분이내 A15083701} [{160 1 A15083701} {0 2 } {0 3 } {0 4 }] [{서울특별시 영등포구 신길동 2-3 삼두아파트 A15083701 B} {서울특별시 영등포구 여의대방로61길 19 A15083701 R}]} {{A15005603 1052} {신길삼성 분양 개별난방 30549.74 2 삼성종합건설(주) 삼성종합건설(주) 02-846-2273 02-846-2275 - 아파트 위탁관리 5 율산개발(주) 위탁관리 4 희망코리아(주) 위탁관리 3 음식물쓰레기종량제 위탁관리 12 도포식,분무식,독이식 218 0 41 관리사무소, 노인정, 어린이놀이터, 자전거보관소 700 상주선임 고가수조식 철근콘크리트구조 단일계약 P형 위탁관리 무 5~10분이내 관공서(동사무소) 병원(원치과) 대형상가(LG하이프라자) 공원(보라매공원) 기타(돈보스코청소년센터) 초등학교(대길초등학교) 중학교(대방중학교) 고등학교(영신고등학교) 복도식 1984-04-14 21766.32 신풍 7호선 5~10분이내 A15005603} [{120 1 A15005603} {264 2 A15005603} {0 3 } {0 4 }] [{서울특별시 영등포구 신길동 4759 삼성아파트 A15005603 B} {서울특별시 영등포구 여의대방로 45 A15005603 R}]} {{A15005402 1053} {신길삼성래미안 분양 개별난방 111955.89 12 삼성물산 신길2-3지구주택재개발조합 02-832-7937 02-832-7938 - 아파트 위탁관리 8 서일개발 위탁관리 13 (주)엘림테크 위탁관리 8 음식물쓰레기종량제 위탁관리 12 도포식,분무식,독이식 122 853 126 관리사무소, 노인정, 보육시설, 주민공동시설, 어린이놀이터, 자전거보관소 3600 상주선임 고가수조식 철근콘크리트구조 단일계약 GR형 위탁관리 무 5~10분이내 관공서(동사무소) 병원(황치과) 대형상가(사러가쇼핑센터) 공원(매낙골공원) 초등학교(우신초등학교) 혼합식 2001-06-15 71552.57 신풍 1호선, 5호선, 7호선 5~10분이내 A15005402} [{214 1 A15005402} {382 2 A15005402} {230 3 A15005402} {0 4 }] [{서울특별시 영등포구 신길동 4934-17 삼성래미안아파트 A15005402 B} {서울특별시 영등포구 신길동 4934-2 삼성래미안아파트 A15005402 B} {서울특별시 영등포구 신길동 4934 삼성래미안아파트 A15005402 B} {서울특별시 영등포구 가마산로79길 7 A15005402 R} {서울특별시 영등포구 도신로48길 35 A15005402 R}]} {{A15005401 1053} {신길삼성제2 임대 개별난방 21067 1 삼성물산주식회사 삼성물산주식회사 02-836-3272 02-836-3273 happy.i-sh.co.kr/main.do?deptid=70169 아파트 자치관리(직영) 9 - 위탁관리 3 (주)세원종합관리 위탁관리 2 기타 위탁관리 6 도포식,분무식 90 86 36 관리사무소, 노인정, 어린이놀이터, 자전거보관소 850 위탁선임 고가수조식 철근콘크리트구조 단일계약 P형 위탁관리 무 15~20분이내 관공서(신길4동 주민센터) 병원(엔젤병원) 백화점(롯데백화점) 대형상가(사러가쇼핑센터) 공원(삼성공원) 초등학교(우신초등학교) 중학교(영원중학교) 복도식 2001-06-15 12747.78 1호선-영등포역,5호선-신길역,7호선-신풍역 1호선, 5호선, 7호선 15~20분이내 A15005401} [{387 1 A15005401} {0 2 } {0 3 } {0 4 }] [{서울특별시 영등포구 신길동 4934-2 삼성래미안아파트 A15005401 B} {서울특별시 영등포구 신길로42길 25 A15005401 R}]} {{A15005705 1054} {신길삼환 분양 중앙난방 131665.768 11 삼환기업 군인공제회 02-833-0286~7 02-833-0289 신길삼환.apti.co.kr 아파트 위탁관리 14 (주)경진관리 위탁관리 22 (주)경진관리 위탁관리 10 음식물쓰레기종량제 위탁관리 12 분무식,독이식 496 608 147 관리사무소, 노인정, 보육시설, 어린이놀이터 2750 상주선임 고가수조식 철근콘크리트구조 종합계약 P형 위탁관리 무 5~10분이내 관공서(동사무소) 초등학교(대방초등학교) 중학교(강남중교) 고등학교(서울공업고교) 계단식 1997-05-10 87502.98 신풍 1호선, 7호선 5~10분이내 A15005705} [{478 1 A15005705} {696 2 A15005705} {0 3 } {0 4 }] [{서울특별시 영등포구 신길동 897-1 삼환아파트 A15005705 B} {서울특별시 영등포구 여의대방로43나길 25 A15005705 R} {서울특별시 영등포구 여의대방로43라길 9 A15005705 R}]} {{A15086007 1058} {신길우성2차 분양 개별난방 68385.75 7 우성건설 우성건설 028320181 028320182 - 아파트 위탁관리 7 대원종합관리(주) 위탁관리 9 스마일종합관리 위탁관리 6 음식물쓰레기종량제 위탁관리 12 분무식,독이식 297 0 16 관리사무소, 노인정, 어린이놀이터, 자전거보관소 1870 상주선임 고가수조식 철근콘크리트구조 종합계약 P형 위탁관리 무 5~10분이내 관공서(동사무소) 병원(현대의원) 공원(보라매공원) 기타(돈보스코청소년센터) 초등학교(대길초등학교) 중학교(대방중학교) 고등학교(영신고등학교) 혼합식 1986-09-25 51973.9 신풍 7호선 5~10분이내 A15086007} [{120 1 A15086007} {605 2 A15086007} {0 3 } {0 4 }] [{서울특별시 영등포구 신길동 4518 우성2 A15086007 B} {서울특별시 영등포구 대방천로 180 A15086007 R}]} {{A15086004 1059} {신길우성3차아파트 분양 개별난방 48820 5 우성건설 우성건설 02-848-3078 02-845-0811 ws3apt@hanmail.net 아파트 자치관리 5 - 자치관리 9 - 위탁관리(직영+위탁) 3 음식물쓰레기종량제 위탁관리(직영+위탁) 4 분무식 192 0 60 관리사무소, 노인정, 어린이놀이터, 자전거보관소 950 위탁선임 고가수조식 철근콘크리트구조 종합계약 P형 위탁관리(직영+위탁) 무 5~10분이내 관공서(동사무소) 병원(이화의원) 대형상가(하이마트-신풍점) 공원(보라매공원) 기타(돈보스코청소년센터) 초등학교(대길초등학교) 고등학교(영신고등학교) 혼합식 1989-04-11 33366.24 신풍 7호선 5~10분이내 A15086004} [{139 1 A15086004} {338 2 A15086004} {0 3 } {0 4 }] [{서울특별시 영등포구 신길동 4656 신길우성3차아파트 A15086004 B} {서울특별시 영등포구 대방천로14길 32 A15086004 R}]} {{A15005001 1060} {신길우성4차 분양 개별난방 53207.29 4 우성건설 우성건설 02)849-1156 02)849-1157 우성4차.aptgate.co.kr 아파트 위탁관리 5 (주)디엠지관리 기타 10 디엠지관리 기타 5 음식물쓰레기종량제 기타 12 분무식 203 89 88 관리사무소, 노인정, 어린이놀이터, 자전거보관소 1400 상주선임 고가수조식 철근콘크리트구조 단일계약 P형 기타 무 5분이내 관공서(동사무소) 병원(서울대윤병원) 대형상가(삼성디지털프라자) 공원(영등포공원) 중학교(영원중교) 고등학교(영등포여고교, 장훈고등학교) 계단식 1991-05-04 38900 신길 1호선, 5호선 5분이내 A15005001} [{0 1 } {476 2 A15005001} {0 3 } {0 4 }] [{서울특별시 영등포구 신길동 102-8 신길우성아파트 A15005001 B} {서울특별시 영등포구 영등포로64길 8 A15005001 R} {서울특별시 영등포구 영등포로64길 11 A15005001 R}]} {{A15005301 1061} {신길우성5차 분양 개별난방 34003.531 3 우성건설 우성건설 02-841-9412 02-6673-9412 - 아파트 위탁관리 4 태림주택종합관리(주) 자치관리(직영) 8 태림주택종합 위탁관리(직영+위탁) 3 음식물쓰레기종량제 위탁관리(직영+위탁) 12 분무식,독이식 149 85 32 관리사무소, 노인정, 주민공동시설, 어린이놀이터, 자전거보관소 750 위탁선임 고가수조식 철근콘크리트구조 단일계약 P형 위탁관리 무 10~15분이내 관공서(동사무소) 병원(윤면소아과의원) 대형상가(사러가쇼핑센터) 초등학교(도림초등학교) 중학교(대영중교) 고등학교(대영고교) 계단식 1993-10-26 27278.58 신풍 2호선, 5호선, 7호선 10~15분이내 A15005301} [{0 1 } {321 2 A15005301} {0 3 } {0 4 }] [{서울특별시 영등포구 신길동 4933 신길우성5차아파트 A15005301 B} {서울특별시 영등포구 도신로 100 A15005301 R}]} {{A15005602 1062} {신길우창 분양 개별난방 18782.2 2 우창건설(주) 우창건설 02-6268-7500 842-1929 - 아파트 위탁관리 3 (주)태룡에스디 위탁관리 4 (주)태룡에스디 위탁관리 1 음식물쓰레기종량제 위탁관리 12 분무식 163 0 13 관리사무소, 어린이놀이터, 휴게시설, 자전거보관소 500 위탁선임 부스타방식 철근콘크리트구조 단일계약 P형 위탁관리 무 5~10분이내 관공서(동사무소) 병원(성심병원) 공원(보라매공원) 기타(돈보스코청소년센터) 초등학교(대길초등학교) 중학교(대방중학교) 고등학교(영신고등학교) 복도식 1983-08-17 13421.68 신풍 7호선 5~10분이내 A15005602} [{72 1 A15005602} {142 2 A15005602} {0 3 } {0 4 }] [{서울특별시 영등포구 신길동 4501 우창아파트 A15005602 B} {서울특별시 영등포구 여의대방로5길 6 A15005602 R}]} {{A15096001 20124858} {신길자이 분양 개별난방 32610.93 4 GS건설 신길동제5구역재개발주택조합 02-831-0924 02-831-0926 - 아파트 위탁관리 4 일신주택관리(주) 위탁관리 4 (주)조은세이프 위탁관리 2 음식물쓰레기종량제 위탁관리 12 분무식,독이식 0 226 47 관리사무소, 노인정, 주민공동시설, 어린이놀이터, 휴게시설, 커뮤니티공간, 자전거보관소 1000 상주선임 부스타방식 철근콘크리트구조 종합계약 R형 위탁관리 유 5~10분이내 관공서(동사무소) 병원(성애) 대형상가(사러가쇼핑센터) 초등학교(영신초등학교) 계단식 2011-06-30 16003.72 신풍 1호선, 5호선 15~20분이내 A15096001} [{76 1 A15096001} {86 2 A15096001} {36 3 A15096001} {0 4 }] [{서울특별시 영등포구 신길동 4938 신길자이 A15096001 B} {서울특별시 영등포구 가마산로79길 19 A15096001 R}]} {{A15085404 1064} {신길한성 분양 개별난방 57972.21 5 한국보훈복지공단 한성건설 028362345 028362348 - 아파트 위탁관리 5 대원종합관리(주) 위탁관리 8 한양시스템(주) 위탁관리 4 음식물쓰레기종량제 위탁관리 12 도포식,기구부착식 147 298 38 관리사무소, 노인정, 어린이놀이터 1465 상주선임 부스타방식 철근콘크리트구조 단일계약 P형 위탁관리 무 5~10분이내 관공서(동사무소) 병원(김영준소아과) 초등학교(대방초등학교) 중학교(강남중교) 고등학교(서울공업고교) 계단식 1997-07-21 36505.08 대방, 신풍 1호선, 7호선 5~10분이내 A15085404} [{172 1 A15085404} {144 2 A15085404} {104 3 A15085404} {0 4 }] [{서울특별시 영등포구 신길동 769-1 한성아파트 A15085404 B} {서울특별시 영등포구 가마산로 575 A15085404 R}]} {{A10027073 20349595} {래미안에스티움 임대+분양 개별난방 272491.57 19 삼성물산주식회사 신길7재정비촉진구역주택재개발사업조함 028499571 02-849-9574 estium.co.kr 아파트 위탁관리 14 (주)타워피엠씨 위탁관리 16 (주)씨큐원 위탁관리 23 음식물쓰레기종량제 위탁관리 12 도포식,분무식 0 2280 206 관리사무소, 노인정, 보육시설, 문고, 주민공동시설, 어린이놀이터, 휴게시설, 커뮤니티공간, 자전거보관소 7550 상주선임 부스타방식 철골콘크리트구조 종합계약 R형 위탁관리 유 5분이내 - - 혼합식 2017-04-12 133313.49 신풍역 7호선 5분이내 A10027073} [{682 1 A10027073} {833 2 A10027073} {207 3 A10027073} {0 4 }] [{서울특별시 영등포구 신길동 4950 래미안에스티움 A10027073 B} {서울특별시 영등포구 신풍로 77 A10027073 R}]} {{A10027755 20331410} {래미안프레비뉴 임대+분양 개별난방 140645.79 12 삼성물산주식회사 조합 02-849-6655 02-849-6900 - 아파트 위탁관리 8 (주)아주관리 위탁관리 11 (주)아주관리 위탁관리 10 거점장비수거방식 위탁관리 0 - 0 1211 100 관리사무소, 노인정, 보육시설, 문고, 주민공동시설, 어린이놀이터, 커뮤니티공간, 자전거보관소 4000 상주선임 부스타방식 철골철근콘크리트구조 종합계약 R형 위탁관리 유 5~10분이내 - 초등학교() 중학교() 고등학교() 혼합식 2015-12-29 68800.87 - 7호선 5~10분이내 A10027755} [{396 1 A10027755} {535 2 A10027755} {17 3 A10027755} {0 4 }] [{서울특별시 영등포구 신길동 329-94 래미안영등포프레비뉴 A10027755 B} {서울특별시 영등포구 가마산로 442 A10027755 R}]} {{A15005002 20181850} {레전드힐스 분양 개별난방 8069.5 1 우신건설 코람코 자산신탁 028499181 028499184 - 주상복합 위탁관리 3 (주)한성세영비엔에이 위탁관리 2 한성세영비엔에이 위탁관리 1 음식물쓰레기종량제 위탁관리 12 도포식,분무식,기구부착식,독이식 73 0 8 관리사무소 950 위탁선임 부스타방식 철근콘크리트구조 단일계약 GR형 위탁관리 무 5분이내 백화점(디큐브,타임스퀘어) 초등학교(우신) 중학교(영원) 복도식 2013-07-26 2961.93 신풍 1호선, 7호선 10~15분이내 A15005002} [{216 1 A15005002} {0 2 } {0 3 } {0 4 }] [{서울특별시 영등포구 신길동 261-22 레전드힐스 A15005002 B} {서울특별시 영등포구 가마산로 468 A15005002 R}]} {{A15086006 20008680} {보라매경남아너스빌 분양 개별난방 73156.97 9 경남기업 경남기업 02-848-4779 02-833-4779 - 아파트 위탁관리 7 광인산업(주) 위탁관리 10 예주산업 위탁관리 5 음식물쓰레기종량제 위탁관리 12 도포식,분무식 125 674 154 관리사무소, 노인정, 보육시설, 문고, 주민공동시설, 어린이놀이터, 휴게시설, 자전거보관소 2391 상주선임 부스타방식 철근콘크리트구조 단일계약 R형 위탁관리 유 5~10분이내 관공서(동사무소) 병원(남수한의원) 대형상가(LG하이프라자) 공원(보라매공원) 기타(돈보스코청소년센터) 초등학교(대길초등학교) 중학교(대방중학교) 고등학교(영신고등학교) 계단식 2005-08-12 57010.79 신풍 7호선 5~10분이내 A15086006} [{92 1 A15086006} {489 2 A15086006} {88 3 A15086006} {0 4 }] [{서울특별시 영등포구 신길동 4780 보라매경남아너스빌 A15086006 B} {서울특별시 영등포구 여의대방로 25 A15086006 R}]} {{A15086001 20008679} {보라매두산위브 분양 개별난방 27724.41 2 두산건설(주) 두산건설 02-836-0385 02-836-0386 - 아파트 위탁관리 3 (주)한빛관리 위탁관리 2 (주)한빛관리 위탁관리 2 음식물쓰레기종량제 위탁관리 12 분무식 205 48 37 관리사무소, 노인정, 어린이놀이터, 자전거보관소 900 위탁선임 부스타방식 철근콘크리트구조 단일계약 GR형 위탁관리 무 5~10분이내 관공서(동사무소) 병원(김정은소아과의원) 공원(보라매공원) 기타(돈보스코청소년센터) 초등학교(대길초등학교) 중학교(대방중학교) 계단식 2005-11-10 17039.43 신풍 7호선 5~10분이내 A15086001} [{0 1 } {104 2 A15086001} {0 3 } {60 4 A15086001}] [{서울특별시 영등포구 신길동 4497 보라매두산위브 A15086001 B} {서울특별시 영등포구 여의대방로9길 5 A15086001 R}]} {{A15005102 1055} {신기목련 임대+분양 개별난방 15140 2 우정건설 주식회사 도시개발 공사 02)834-9119 02834-9122 - 아파트 위탁관리 2 유원종합관리(주) 위탁관리 2 유원종합관리(주) 위탁관리 1 거점장비수거방식 기타 2 - 102 28 24 어린이놀이터 450 위탁선임 고가수조식 철근콘크리트구조 단일계약 P형 위탁관리 무 10~15분이내 관공서(동사무소) 병원(보인의원) 대형상가(사러가쇼핑센터) 공원(근린공원) 초등학교(우신초등학교) 복도식 2000-07-11 9969.7 신풍 7호선 10~15분이내 A15005102} [{213 1 A15005102} {0 2 } {0 3 } {0 4 }] [{서울특별시 영등포구 신길동 4935 신기목련아파트 A15005102 B} {서울특별시 영등포구 신길로42가길 34 A15005102 R}]} {{A15005303 1057} {신길1차우성아파트 분양 개별난방 61767.2 6 (주)우성건설 (주)우성건설 02-833-6584 02-6673-6583 apt913.aptgate.co.kr 아파트 위탁관리 5 (주)아주관리 위탁관리 9 조은세이프 위탁관리 6 음식물쓰레기종량제 위탁관리 12 도포식,분무식,독이식 470 0 48 관리사무소, 노인정, 어린이놀이터 1760 상주선임 고가수조식 철근콘크리트구조 단일계약 P형 위탁관리 무 5분이내 관공서(동사무소) 병원(한산부인과) 대형상가(LG하이프라자) 공원(근린공원) 초등학교(대영초등학교) 중학교(대영중교) 고등학교(대영고교) 혼합식 1986-09-03 46238.48 신도림역,문래역 1호선, 2호선 5~10분이내 A15005303} [{182 1 A15005303} {506 2 A15005303} {0 3 } {0 4 }] [{서울특별시 영등포구 신길동 365 신길우성아파트 A15005303 B} {서울특별시 영등포구 도신로 68-1 A15005303 R}]} {{A15005302 1047} {신길건영 분양 개별난방 44462.75 4 LIG건영 (주)건영 844-2535 844-2535 신길건영.apti.co.kr 아파트 자치관리 4 - 자치관리 6 - 위탁관리 5 음식물쓰레기종량제 위탁관리 12 분무식,독이식 313 0 107 관리사무소, 노인정, 어린이놀이터, 자전거보관소 995 위탁선임 부스타방식 철근콘크리트구조 종합계약 P형 위탁관리 유 5~10분이내 관공서(신길3동) 병원(한산부인과) 대형상가(LG하이프라자) 공원(근린공원) 초등학교(대영초등학교) 중학교(대영중교) 고등학교(대영고교) 복도식 1985-09-04 31387.44 신풍역 1호선, 2호선, 7호선 5~10분이내 A15005302} [{0 1 } {160 2 A15005302} {226 3 A15005302} {0 4 }] [{서울특별시 영등포구 신길동 364 건영아파트 A15005302 B} {서울특별시 영등포구 도림로 313 A15005302 R}]} {{A15083703 1048} {신길경남 분양 개별난방 49860.67 5 경남건설 경남건설 02-835-7655 02-6747-7677 - 아파트 자치관리 4 - 위탁관리 4 한국보안시스템 위탁관리 4 거점장비수거방식 위탁관리 12 도포식,분무식,기구부착식,기구설치식,독이식 84 351 67 관리사무소, 노인정, 어린이놀이터 1240 위탁선임 고가수조식 철근콘크리트구조 단일계약 P형 위탁관리 무 5분이내 관공서(동사무소) 병원(서울대윤병원) 공원(여의도생태공원) 중학교(영원중교) 고등학교(장훈고교) 혼합식 1999-06-15 29601.1 신길역 1호선, 5호선 5분이내 A15083703} [{165 1 A15083703} {121 2 A15083703} {82 3 A15083703} {0 4 }] [{서울특별시 영등포구 신길동 67-1 신길동경남아파트 A15083703 B} {서울특별시 영등포구 영등포로 351 A15083703 R}]} {{A15085805 1049} {신길남서울 분양 개별난방 32295.3 13 근대건설 성아산업 02-836-7552 02-836-7552 남서울.apti.co.kr 아파트 자치관리 4 - 위탁관리 8 경진이앤지 위탁관리 4 음식물쓰레기종량제 위탁관리 12 분무식,독이식 280 0 32 관리사무소, 노인정, 어린이놀이터, 휴게시설 367 위탁선임 고가수조식 철근콘크리트구조 단일계약 P형 - 무 5분이내 관공서(동사무소) 병원(성심의원) 공원(신길광장공원) 기타(돈보스코청소년센터) 초등학교(대길초등학교) 중학교(대영중학교) 고등학교(대영고등학교) 계단식 1974-12-28 24643.62 신풍 7호선 5분이내 A15085805} [{488 1 A15085805} {30 2 A15085805} {0 3 } {0 4 }] [{서울특별시 영등포구 신길동 3111 남서울 A15085805 B} {서울특별시 영등포구 신길동 3586 남서울 A15085805 B} {서울특별시 영등포구 신길동 3002 남서울 A15085805 B} {서울특별시 영등포구 신길동 3591 남서울 A15085805 B} {서울특별시 영등포구 신길동 3583 남서울 A15085805 B} {서울특별시 영등포구 신길동 3573 남서울 A15085805 B} {서울특별시 영등포구 신길동 3590 남서울 A15085805 B} {서울특별시 영등포구 신길로 108 A15085805 R}]} {{A15005501 20096267} {신길뉴타운한화꿈에그린 분양 개별난방 48058.94 6 한화건설(주) 한고을 02-834-7097 02-834-0420 - 아파트 위탁관리 5 서림주택 위탁관리 4 세계보안 위탁관리 3 거점장비수거방식 위탁관리 12 도포식,분무식 24 377 112 관리사무소, 노인정, 어린이놀이터, 자전거보관소 1650 상주선임 부스타방식 철근콘크리트구조 종합계약 R형 위탁관리 유 5분이내 대형상가(사러가쇼핑센터) 초등학교(대영) 중학교(대영) 고등학교(대영) 계단식 2008-06-26 27684.2474 신풍 7호선 5분이내 A15005501} [{0 1 } {147 2 A15005501} {137 3 A15005501} {0 4 }] [{서울특별시 영등포구 신길동 4937 신길뉴타운한화꿈에그린 A15005501 B} {서울특별시 영등포구 신길로 119 A15005501 R}]} {{A15083701 1051} {신길삼두 분양 개별난방 10684 1 삼두실업(주) 삼두실업(주) 02-848-4188 02-848-4188 - 아파트 위탁관리 2 신한영주택관리(주) 위탁관리(직영+위탁) 2 신한영주택관리(주) 위탁관리(직영+위탁) 1 음식물쓰레기종량제 위탁관리 4 분무식 45 0 0 관리사무소, 노인정, 어린이놀이터, 자전거보관소 225 위탁선임 고가"
     ]
    },
    {
     "name": "stdout",
     "output_type": "stream",
     "text": [
      "수조식 철근콘크리트구조 종합계약 P형 위탁관리 무 5~10분이내 관공서(동사무소) 병원(성애병원) 대형상가(LG하이프라자-대방점) 공원(여의도샛강생태공원) 중학교(윤중중학교) 고등학교(한국제과고등기술학교) 복도식 1987-12-12 7333.2 대방 1호선, 5호선 5분이내 A15083701} [{160 1 A15083701} {0 2 } {0 3 } {0 4 }] [{서울특별시 영등포구 신길동 2-3 삼두아파트 A15083701 B} {서울특별시 영등포구 여의대방로61길 19 A15083701 R}]} {{A15005603 1052} {신길삼성 분양 개별난방 30549.74 2 삼성종합건설(주) 삼성종합건설(주) 02-846-2273 02-846-2275 - 아파트 위탁관리 5 율산개발(주) 위탁관리 4 희망코리아(주) 위탁관리 3 음식물쓰레기종량제 위탁관리 12 도포식,분무식,독이식 218 0 41 관리사무소, 노인정, 어린이놀이터, 자전거보관소 700 상주선임 고가수조식 철근콘크리트구조 단일계약 P형 위탁관리 무 5~10분이내 관공서(동사무소) 병원(원치과) 대형상가(LG하이프라자) 공원(보라매공원) 기타(돈보스코청소년센터) 초등학교(대길초등학교) 중학교(대방중학교) 고등학교(영신고등학교) 복도식 1984-04-14 21766.32 신풍 7호선 5~10분이내 A15005603} [{120 1 A15005603} {264 2 A15005603} {0 3 } {0 4 }] [{서울특별시 영등포구 신길동 4759 삼성아파트 A15005603 B} {서울특별시 영등포구 여의대방로 45 A15005603 R}]} {{A15005402 1053} {신길삼성래미안 분양 개별난방 111955.89 12 삼성물산 신길2-3지구주택재개발조합 02-832-7937 02-832-7938 - 아파트 위탁관리 8 서일개발 위탁관리 13 (주)엘림테크 위탁관리 8 음식물쓰레기종량제 위탁관리 12 도포식,분무식,독이식 122 853 126 관리사무소, 노인정, 보육시설, 주민공동시설, 어린이놀이터, 자전거보관소 3600 상주선임 고가수조식 철근콘크리트구조 단일계약 GR형 위탁관리 무 5~10분이내 관공서(동사무소) 병원(황치과) 대형상가(사러가쇼핑센터) 공원(매낙골공원) 초등학교(우신초등학교) 혼합식 2001-06-15 71552.57 신풍 1호선, 5호선, 7호선 5~10분이내 A15005402} [{214 1 A15005402} {382 2 A15005402} {230 3 A15005402} {0 4 }] [{서울특별시 영등포구 신길동 4934-17 삼성래미안아파트 A15005402 B} {서울특별시 영등포구 신길동 4934-2 삼성래미안아파트 A15005402 B} {서울특별시 영등포구 신길동 4934 삼성래미안아파트 A15005402 B} {서울특별시 영등포구 가마산로79길 7 A15005402 R} {서울특별시 영등포구 도신로48길 35 A15005402 R}]} {{A15005401 1053} {신길삼성제2 임대 개별난방 21067 1 삼성물산주식회사 삼성물산주식회사 02-836-3272 02-836-3273 happy.i-sh.co.kr/main.do?deptid=70169 아파트 자치관리(직영) 9 - 위탁관리 3 (주)세원종합관리 위탁관리 2 기타 위탁관리 6 도포식,분무식 90 86 36 관리사무소, 노인정, 어린이놀이터, 자전거보관소 850 위탁선임 고가수조식 철근콘크리트구조 단일계약 P형 위탁관리 무 15~20분이내 관공서(신길4동 주민센터) 병원(엔젤병원) 백화점(롯데백화점) 대형상가(사러가쇼핑센터) 공원(삼성공원) 초등학교(우신초등학교) 중학교(영원중학교) 복도식 2001-06-15 12747.78 1호선-영등포역,5호선-신길역,7호선-신풍역 1호선, 5호선, 7호선 15~20분이내 A15005401} [{387 1 A15005401} {0 2 } {0 3 } {0 4 }] [{서울특별시 영등포구 신길동 4934-2 삼성래미안아파트 A15005401 B} {서울특별시 영등포구 신길로42길 25 A15005401 R}]} {{A15005705 1054} {신길삼환 분양 중앙난방 131665.768 11 삼환기업 군인공제회 02-833-0286~7 02-833-0289 신길삼환.apti.co.kr 아파트 위탁관리 14 (주)경진관리 위탁관리 22 (주)경진관리 위탁관리 10 음식물쓰레기종량제 위탁관리 12 분무식,독이식 496 608 147 관리사무소, 노인정, 보육시설, 어린이놀이터 2750 상주선임 고가수조식 철근콘크리트구조 종합계약 P형 위탁관리 무 5~10분이내 관공서(동사무소) 초등학교(대방초등학교) 중학교(강남중교) 고등학교(서울공업고교) 계단식 1997-05-10 87502.98 신풍 1호선, 7호선 5~10분이내 A15005705} [{478 1 A15005705} {696 2 A15005705} {0 3 } {0 4 }] [{서울특별시 영등포구 신길동 897-1 삼환아파트 A15005705 B} {서울특별시 영등포구 여의대방로43나길 25 A15005705 R} {서울특별시 영등포구 여의대방로43라길 9 A15005705 R}]} {{A15086007 1058} {신길우성2차 분양 개별난방 68385.75 7 우성건설 우성건설 028320181 028320182 - 아파트 위탁관리 7 대원종합관리(주) 위탁관리 9 스마일종합관리 위탁관리 6 음식물쓰레기종량제 위탁관리 12 분무식,독이식 297 0 16 관리사무소, 노인정, 어린이놀이터, 자전거보관소 1870 상주선임 고가수조식 철근콘크리트구조 종합계약 P형 위탁관리 무 5~10분이내 관공서(동사무소) 병원(현대의원) 공원(보라매공원) 기타(돈보스코청소년센터) 초등학교(대길초등학교) 중학교(대방중학교) 고등학교(영신고등학교) 혼합식 1986-09-25 51973.9 신풍 7호선 5~10분이내 A15086007} [{120 1 A15086007} {605 2 A15086007} {0 3 } {0 4 }] [{서울특별시 영등포구 신길동 4518 우성2 A15086007 B} {서울특별시 영등포구 대방천로 180 A15086007 R}]} {{A15086004 1059} {신길우성3차아파트 분양 개별난방 48820 5 우성건설 우성건설 02-848-3078 02-845-0811 ws3apt@hanmail.net 아파트 자치관리 5 - 자치관리 9 - 위탁관리(직영+위탁) 3 음식물쓰레기종량제 위탁관리(직영+위탁) 4 분무식 192 0 60 관리사무소, 노인정, 어린이놀이터, 자전거보관소 950 위탁선임 고가수조식 철근콘크리트구조 종합계약 P형 위탁관리(직영+위탁) 무 5~10분이내 관공서(동사무소) 병원(이화의원) 대형상가(하이마트-신풍점) 공원(보라매공원) 기타(돈보스코청소년센터) 초등학교(대길초등학교) 고등학교(영신고등학교) 혼합식 1989-04-11 33366.24 신풍 7호선 5~10분이내 A15086004} [{139 1 A15086004} {338 2 A15086004} {0 3 } {0 4 }] [{서울특별시 영등포구 신길동 4656 신길우성3차아파트 A15086004 B} {서울특별시 영등포구 대방천로14길 32 A15086004 R}]} {{A15005001 1060} {신길우성4차 분양 개별난방 53207.29 4 우성건설 우성건설 02)849-1156 02)849-1157 우성4차.aptgate.co.kr 아파트 위탁관리 5 (주)디엠지관리 기타 10 디엠지관리 기타 5 음식물쓰레기종량제 기타 12 분무식 203 89 88 관리사무소, 노인정, 어린이놀이터, 자전거보관소 1400 상주선임 고가수조식 철근콘크리트구조 단일계약 P형 기타 무 5분이내 관공서(동사무소) 병원(서울대윤병원) 대형상가(삼성디지털프라자) 공원(영등포공원) 중학교(영원중교) 고등학교(영등포여고교, 장훈고등학교) 계단식 1991-05-04 38900 신길 1호선, 5호선 5분이내 A15005001} [{0 1 } {476 2 A15005001} {0 3 } {0 4 }] [{서울특별시 영등포구 신길동 102-8 신길우성아파트 A15005001 B} {서울특별시 영등포구 영등포로64길 8 A15005001 R} {서울특별시 영등포구 영등포로64길 11 A15005001 R}]} {{A15005301 1061} {신길우성5차 분양 개별난방 34003.531 3 우성건설 우성건설 02-841-9412 02-6673-9412 - 아파트 위탁관리 4 태림주택종합관리(주) 자치관리(직영) 8 태림주택종합 위탁관리(직영+위탁) 3 음식물쓰레기종량제 위탁관리(직영+위탁) 12 분무식,독이식 149 85 32 관리사무소, 노인정, 주민공동시설, 어린이놀이터, 자전거보관소 750 위탁선임 고가수조식 철근콘크리트구조 단일계약 P형 위탁관리 무 10~15분이내 관공서(동사무소) 병원(윤면소아과의원) 대형상가(사러가쇼핑센터) 초등학교(도림초등학교) 중학교(대영중교) 고등학교(대영고교) 계단식 1993-10-26 27278.58 신풍 2호선, 5호선, 7호선 10~15분이내 A15005301} [{0 1 } {321 2 A15005301} {0 3 } {0 4 }] [{서울특별시 영등포구 신길동 4933 신길우성5차아파트 A15005301 B} {서울특별시 영등포구 도신로 100 A15005301 R}]} {{A15005602 1062} {신길우창 분양 개별난방 18782.2 2 우창건설(주) 우창건설 02-6268-7500 842-1929 - 아파트 위탁관리 3 (주)태룡에스디 위탁관리 4 (주)태룡에스디 위탁관리 1 음식물쓰레기종량제 위탁관리 12 분무식 163 0 13 관리사무소, 어린이놀이터, 휴게시설, 자전거보관소 500 위탁선임 부스타방식 철근콘크리트구조 단일계약 P형 위탁관리 무 5~10분이내 관공서(동사무소) 병원(성심병원) 공원(보라매공원) 기타(돈보스코청소년센터) 초등학교(대길초등학교) 중학교(대방중학교) 고등학교(영신고등학교) 복도식 1983-08-17 13421.68 신풍 7호선 5~10분이내 A15005602} [{72 1 A15005602} {142 2 A15005602} {0 3 } {0 4 }] [{서울특별시 영등포구 신길동 4501 우창아파트 A15005602 B} {서울특별시 영등포구 여의대방로5길 6 A15005602 R}]} {{A15096001 20124858} {신길자이 분양 개별난방 32610.93 4 GS건설 신길동제5구역재개발주택조합 02-831-0924 02-831-0926 - 아파트 위탁관리 4 일신주택관리(주) 위탁관리 4 (주)조은세이프 위탁관리 2 음식물쓰레기종량제 위탁관리 12 분무식,독이식 0 226 47 관리사무소, 노인정, 주민공동시설, 어린이놀이터, 휴게시설, 커뮤니티공간, 자전거보관소 1000 상주선임 부스타방식 철근콘크리트구조 종합계약 R형 위탁관리 유 5~10분이내 관공서(동사무소) 병원(성애) 대형상가(사러가쇼핑센터) 초등학교(영신초등학교) 계단식 2011-06-30 16003.72 신풍 1호선, 5호선 15~20분이내 A15096001} [{76 1 A15096001} {86 2 A15096001} {36 3 A15096001} {0 4 }] [{서울특별시 영등포구 신길동 4938 신길자이 A15096001 B} {서울특별시 영등포구 가마산로79길 19 A15096001 R}]} {{A15085404 1064} {신길한성 분양 개별난방 57972.21 5 한국보훈복지공단 한성건설 028362345 028362348 - 아파트 위탁관리 5 대원종합관리(주) 위탁관리 8 한양시스템(주) 위탁관리 4 음식물쓰레기종량제 위탁관리 12 도포식,기구부착식 147 298 38 관리사무소, 노인정, 어린이놀이터 1465 상주선임 부스타방식 철근콘크리트구조 단일계약 P형 위탁관리 무 5~10분이내 관공서(동사무소) 병원(김영준소아과) 초등학교(대방초등학교) 중학교(강남중교) 고등학교(서울공업고교) 계단식 1997-07-21 36505.08 대방, 신풍 1호선, 7호선 5~10분이내 A15085404} [{172 1 A15085404} {144 2 A15085404} {104 3 A15085404} {0 4 }] [{서울특별시 영등포구 신길동 769-1 한성아파트 A15085404 B} {서울특별시 영등포구 가마산로 575 A15085404 R}]} {{A10027073 20349595} {래미안에스티움 임대+분양 개별난방 272491.57 19 삼성물산주식회사 신길7재정비촉진구역주택재개발사업조함 028499571 02-849-9574 estium.co.kr 아파트 위탁관리 14 (주)타워피엠씨 위탁관리 16 (주)씨큐원 위탁관리 23 음식물쓰레기종량제 위탁관리 12 도포식,분무식 0 2280 206 관리사무소, 노인정, 보육시설, 문고, 주민공동시설, 어린이놀이터, 휴게시설, 커뮤니티공간, 자전거보관소 7550 상주선임 부스타방식 철골콘크리트구조 종합계약 R형 위탁관리 유 5분이내 - - 혼합식 2017-04-12 133313.49 신풍역 7호선 5분이내 A10027073} [{682 1 A10027073} {833 2 A10027073} {207 3 A10027073} {0 4 }] [{서울특별시 영등포구 신길동 4950 래미안에스티움 A10027073 B} {서울특별시 영등포구 신풍로 77 A10027073 R}]} {{A10027755 20331410} {래미안프레비뉴 임대+분양 개별난방 140645.79 12 삼성물산주식회사 조합 02-849-6655 02-849-6900 - 아파트 위탁관리 8 (주)아주관리 위탁관리 11 (주)아주관리 위탁관리 10 거점장비수거방식 위탁관리 0 - 0 1211 100 관리사무소, 노인정, 보육시설, 문고, 주민공동시설, 어린이놀이터, 커뮤니티공간, 자전거보관소 4000 상주선임 부스타방식 철골철근콘크리트구조 종합계약 R형 위탁관리 유 5~10분이내 - 초등학교() 중학교() 고등학교() 혼합식 2015-12-29 68800.87 - 7호선 5~10분이내 A10027755} [{396 1 A10027755} {535 2 A10027755} {17 3 A10027755} {0 4 }] [{서울특별시 영등포구 신길동 329-94 래미안영등포프레비뉴 A10027755 B} {서울특별시 영등포구 가마산로 442 A10027755 R}]} {{A15005002 20181850} {레전드힐스 분양 개별난방 8069.5 1 우신건설 코람코 자산신탁 028499181 028499184 - 주상복합 위탁관리 3 (주)한성세영비엔에이 위탁관리 2 한성세영비엔에이 위탁관리 1 음식물쓰레기종량제 위탁관리 12 도포식,분무식,기구부착식,독이식 73 0 8 관리사무소 950 위탁선임 부스타방식 철근콘크리트구조 단일계약 GR형 위탁관리 무 5분이내 백화점(디큐브,타임스퀘어) 초등학교(우신) 중학교(영원) 복도식 2013-07-26 2961.93 신풍 1호선, 7호선 10~15분이내 A15005002} [{216 1 A15005002} {0 2 } {0 3 } {0 4 }] [{서울특별시 영등포구 신길동 261-22 레전드힐스 A15005002 B} {서울특별시 영등포구 가마산로 468 A15005002 R}]} {{A15086006 20008680} {보라매경남아너스빌 분양 개별난방 73156.97 9 경남기업 경남기업 02-848-4779 02-833-4779 - 아파트 위탁관리 7 광인산업(주) 위탁관리 10 예주산업 위탁관리 5 음식물쓰레기종량제 위탁관리 12 도포식,분무식 125 674 154 관리사무소, 노인정, 보육시설, 문고, 주민공동시설, 어린이놀이터, 휴게시설, 자전거보관소 2391 상주선임 부스타방식 철근콘크리트구조 단일계약 R형 위탁관리 유 5~10분이내 관공서(동사무소) 병원(남수한의원) 대형상가(LG하이프라자) 공원(보라매공원) 기타(돈보스코청소년센터) 초등학교(대길초등학교) 중학교(대방중학교) 고등학교(영신고등학교) 계단식 2005-08-12 57010.79 신풍 7호선 5~10분이내 A15086006} [{92 1 A15086006} {489 2 A15086006} {88 3 A15086006} {0 4 }] [{서울특별시 영등포구 신길동 4780 보라매경남아너스빌 A15086006 B} {서울특별시 영등포구 여의대방로 25 A15086006 R}]} {{A15086001 20008679} {보라매두산위브 분양 개별난방 27724.41 2 두산건설(주) 두산건설 02-836-0385 02-836-0386 - 아파트 위탁관리 3 (주)한빛관리 위탁관리 2 (주)한빛관리 위탁관리 2 음식물쓰레기종량제 위탁관리 12 분무식 205 48 37 관리사무소, 노인정, 어린이놀이터, 자전거보관소 900 위탁선임 부스타방식 철근콘크리트구조 단일계약 GR형 위탁관리 무 5~10분이내 관공서(동사무소) 병원(김정은소아과의원) 공원(보라매공원) 기타(돈보스코청소년센터) 초등학교(대길초등학교) 중학교(대방중학교) 계단식 2005-11-10 17039.43 신풍 7호선 5~10분이내 A15086001} [{0 1 } {104 2 A15086001} {0 3 } {60 4 A15086001}] [{서울특별시 영등포구 신길동 4497 보라매두산위브 A15086001 B} {서울특별시 영등포구 여의대방로9길 5 A15086001 R}]} {{A15005102 1055} {신기목련 임대+분양 개별난방 15140 2 우정건설 주식회사 도시개발 공사 02)834-9119 02834-9122 - 아파트 위탁관리 2 유원종합관리(주) 위탁관리 2 유원종합관리(주) 위탁관리 1 거점장비수거방식 기타 2 - 102 28 24 어린이놀이터 450 위탁선임 고가수조식 철근콘크리트구조 단일계약 P형 위탁관리 무 10~15분이내 관공서(동사무소) 병원(보인의원) 대형상가(사러가쇼핑센터) 공원(근린공원) 초등학교(우신초등학교) 복도식 2000-07-11 9969.7 신풍 7호선 10~15분이내 A15005102} [{213 1 A15005102} {0 2 } {0 3 } {0 "
     ]
    },
    {
     "name": "stdout",
     "output_type": "stream",
     "text": [
      "4 }] [{서울특별시 영등포구 신길동 4935 신기목련아파트 A15005102 B} {서울특별시 영등포구 신길로42가길 34 A15005102 R}]} {{A15005303 1057} {신길1차우성아파트 분양 개별난방 61767.2 6 (주)우성건설 (주)우성건설 02-833-6584 02-6673-6583 apt913.aptgate.co.kr 아파트 위탁관리 5 (주)아주관리 위탁관리 9 조은세이프 위탁관리 6 음식물쓰레기종량제 위탁관리 12 도포식,분무식,독이식 470 0 48 관리사무소, 노인정, 어린이놀이터 1760 상주선임 고가수조식 철근콘크리트구조 단일계약 P형 위탁관리 무 5분이내 관공서(동사무소) 병원(한산부인과) 대형상가(LG하이프라자) 공원(근린공원) 초등학교(대영초등학교) 중학교(대영중교) 고등학교(대영고교) 혼합식 1986-09-03 46238.48 신도림역,문래역 1호선, 2호선 5~10분이내 A15005303} [{182 1 A15005303} {506 2 A15005303} {0 3 } {0 4 }] [{서울특별시 영등포구 신길동 365 신길우성아파트 A15005303 B} {서울특별시 영등포구 도신로 68-1 A15005303 R}]} {{A15005302 1047} {신길건영 분양 개별난방 44462.75 4 LIG건영 (주)건영 844-2535 844-2535 신길건영.apti.co.kr 아파트 자치관리 4 - 자치관리 6 - 위탁관리 5 음식물쓰레기종량제 위탁관리 12 분무식,독이식 313 0 107 관리사무소, 노인정, 어린이놀이터, 자전거보관소 995 위탁선임 부스타방식 철근콘크리트구조 종합계약 P형 위탁관리 유 5~10분이내 관공서(신길3동) 병원(한산부인과) 대형상가(LG하이프라자) 공원(근린공원) 초등학교(대영초등학교) 중학교(대영중교) 고등학교(대영고교) 복도식 1985-09-04 31387.44 신풍역 1호선, 2호선, 7호선 5~10분이내 A15005302} [{0 1 } {160 2 A15005302} {226 3 A15005302} {0 4 }] [{서울특별시 영등포구 신길동 364 건영아파트 A15005302 B} {서울특별시 영등포구 도림로 313 A15005302 R}]} {{A15083703 1048} {신길경남 분양 개별난방 49860.67 5 경남건설 경남건설 02-835-7655 02-6747-7677 - 아파트 자치관리 4 - 위탁관리 4 한국보안시스템 위탁관리 4 거점장비수거방식 위탁관리 12 도포식,분무식,기구부착식,기구설치식,독이식 84 351 67 관리사무소, 노인정, 어린이놀이터 1240 위탁선임 고가수조식 철근콘크리트구조 단일계약 P형 위탁관리 무 5분이내 관공서(동사무소) 병원(서울대윤병원) 공원(여의도생태공원) 중학교(영원중교) 고등학교(장훈고교) 혼합식 1999-06-15 29601.1 신길역 1호선, 5호선 5분이내 A15083703} [{165 1 A15083703} {121 2 A15083703} {82 3 A15083703} {0 4 }] [{서울특별시 영등포구 신길동 67-1 신길동경남아파트 A15083703 B} {서울특별시 영등포구 영등포로 351 A15083703 R}]} {{A15085805 1049} {신길남서울 분양 개별난방 32295.3 13 근대건설 성아산업 02-836-7552 02-836-7552 남서울.apti.co.kr 아파트 자치관리 4 - 위탁관리 8 경진이앤지 위탁관리 4 음식물쓰레기종량제 위탁관리 12 분무식,독이식 280 0 32 관리사무소, 노인정, 어린이놀이터, 휴게시설 367 위탁선임 고가수조식 철근콘크리트구조 단일계약 P형 - 무 5분이내 관공서(동사무소) 병원(성심의원) 공원(신길광장공원) 기타(돈보스코청소년센터) 초등학교(대길초등학교) 중학교(대영중학교) 고등학교(대영고등학교) 계단식 1974-12-28 24643.62 신풍 7호선 5분이내 A15085805} [{488 1 A15085805} {30 2 A15085805} {0 3 } {0 4 }] [{서울특별시 영등포구 신길동 3111 남서울 A15085805 B} {서울특별시 영등포구 신길동 3586 남서울 A15085805 B} {서울특별시 영등포구 신길동 3002 남서울 A15085805 B} {서울특별시 영등포구 신길동 3591 남서울 A15085805 B} {서울특별시 영등포구 신길동 3583 남서울 A15085805 B} {서울특별시 영등포구 신길동 3573 남서울 A15085805 B} {서울특별시 영등포구 신길동 3590 남서울 A15085805 B} {서울특별시 영등포구 신길로 108 A15085805 R}]} {{A15005501 20096267} {신길뉴타운한화꿈에그린 분양 개별난방 48058.94 6 한화건설(주) 한고을 02-834-7097 02-834-0420 - 아파트 위탁관리 5 서림주택 위탁관리 4 세계보안 위탁관리 3 거점장비수거방식 위탁관리 12 도포식,분무식 24 377 112 관리사무소, 노인정, 어린이놀이터, 자전거보관소 1650 상주선임 부스타방식 철근콘크리트구조 종합계약 R형 위탁관리 유 5분이내 대형상가(사러가쇼핑센터) 초등학교(대영) 중학교(대영) 고등학교(대영) 계단식 2008-06-26 27684.2474 신풍 7호선 5분이내 A15005501} [{0 1 } {147 2 A15005501} {137 3 A15005501} {0 4 }] [{서울특별시 영등포구 신길동 4937 신길뉴타운한화꿈에그린 A15005501 B} {서울특별시 영등포구 신길로 119 A15005501 R}]} {{A15083701 1051} {신길삼두 분양 개별난방 10684 1 삼두실업(주) 삼두실업(주) 02-848-4188 02-848-4188 - 아파트 위탁관리 2 신한영주택관리(주) 위탁관리(직영+위탁) 2 신한영주택관리(주) 위탁관리(직영+위탁) 1 음식물쓰레기종량제 위탁관리 4 분무식 45 0 0 관리사무소, 노인정, 어린이놀이터, 자전거보관소 225 위탁선임 고가수조식 철근콘크리트구조 종합계약 P형 위탁관리 무 5~10분이내 관공서(동사무소) 병원(성애병원) 대형상가(LG하이프라자-대방점) 공원(여의도샛강생태공원) 중학교(윤중중학교) 고등학교(한국제과고등기술학교) 복도식 1987-12-12 7333.2 대방 1호선, 5호선 5분이내 A15083701} [{160 1 A15083701} {0 2 } {0 3 } {0 4 }] [{서울특별시 영등포구 신길동 2-3 삼두아파트 A15083701 B} {서울특별시 영등포구 여의대방로61길 19 A15083701 R}]} {{A15005603 1052} {신길삼성 분양 개별난방 30549.74 2 삼성종합건설(주) 삼성종합건설(주) 02-846-2273 02-846-2275 - 아파트 위탁관리 5 율산개발(주) 위탁관리 4 희망코리아(주) 위탁관리 3 음식물쓰레기종량제 위탁관리 12 도포식,분무식,독이식 218 0 41 관리사무소, 노인정, 어린이놀이터, 자전거보관소 700 상주선임 고가수조식 철근콘크리트구조 단일계약 P형 위탁관리 무 5~10분이내 관공서(동사무소) 병원(원치과) 대형상가(LG하이프라자) 공원(보라매공원) 기타(돈보스코청소년센터) 초등학교(대길초등학교) 중학교(대방중학교) 고등학교(영신고등학교) 복도식 1984-04-14 21766.32 신풍 7호선 5~10분이내 A15005603} [{120 1 A15005603} {264 2 A15005603} {0 3 } {0 4 }] [{서울특별시 영등포구 신길동 4759 삼성아파트 A15005603 B} {서울특별시 영등포구 여의대방로 45 A15005603 R}]} {{A15005402 1053} {신길삼성래미안 분양 개별난방 111955.89 12 삼성물산 신길2-3지구주택재개발조합 02-832-7937 02-832-7938 - 아파트 위탁관리 8 서일개발 위탁관리 13 (주)엘림테크 위탁관리 8 음식물쓰레기종량제 위탁관리 12 도포식,분무식,독이식 122 853 126 관리사무소, 노인정, 보육시설, 주민공동시설, 어린이놀이터, 자전거보관소 3600 상주선임 고가수조식 철근콘크리트구조 단일계약 GR형 위탁관리 무 5~10분이내 관공서(동사무소) 병원(황치과) 대형상가(사러가쇼핑센터) 공원(매낙골공원) 초등학교(우신초등학교) 혼합식 2001-06-15 71552.57 신풍 1호선, 5호선, 7호선 5~10분이내 A15005402} [{214 1 A15005402} {382 2 A15005402} {230 3 A15005402} {0 4 }] [{서울특별시 영등포구 신길동 4934-17 삼성래미안아파트 A15005402 B} {서울특별시 영등포구 신길동 4934-2 삼성래미안아파트 A15005402 B} {서울특별시 영등포구 신길동 4934 삼성래미안아파트 A15005402 B} {서울특별시 영등포구 가마산로79길 7 A15005402 R} {서울특별시 영등포구 도신로48길 35 A15005402 R}]} {{A15005401 1053} {신길삼성제2 임대 개별난방 21067 1 삼성물산주식회사 삼성물산주식회사 02-836-3272 02-836-3273 happy.i-sh.co.kr/main.do?deptid=70169 아파트 자치관리(직영) 9 - 위탁관리 3 (주)세원종합관리 위탁관리 2 기타 위탁관리 6 도포식,분무식 90 86 36 관리사무소, 노인정, 어린이놀이터, 자전거보관소 850 위탁선임 고가수조식 철근콘크리트구조 단일계약 P형 위탁관리 무 15~20분이내 관공서(신길4동 주민센터) 병원(엔젤병원) 백화점(롯데백화점) 대형상가(사러가쇼핑센터) 공원(삼성공원) 초등학교(우신초등학교) 중학교(영원중학교) 복도식 2001-06-15 12747.78 1호선-영등포역,5호선-신길역,7호선-신풍역 1호선, 5호선, 7호선 15~20분이내 A15005401} [{387 1 A15005401} {0 2 } {0 3 } {0 4 }] [{서울특별시 영등포구 신길동 4934-2 삼성래미안아파트 A15005401 B} {서울특별시 영등포구 신길로42길 25 A15005401 R}]} {{A15005705 1054} {신길삼환 분양 중앙난방 131665.768 11 삼환기업 군인공제회 02-833-0286~7 02-833-0289 신길삼환.apti.co.kr 아파트 위탁관리 14 (주)경진관리 위탁관리 22 (주)경진관리 위탁관리 10 음식물쓰레기종량제 위탁관리 12 분무식,독이식 496 608 147 관리사무소, 노인정, 보육시설, 어린이놀이터 2750 상주선임 고가수조식 철근콘크리트구조 종합계약 P형 위탁관리 무 5~10분이내 관공서(동사무소) 초등학교(대방초등학교) 중학교(강남중교) 고등학교(서울공업고교) 계단식 1997-05-10 87502.98 신풍 1호선, 7호선 5~10분이내 A15005705} [{478 1 A15005705} {696 2 A15005705} {0 3 } {0 4 }] [{서울특별시 영등포구 신길동 897-1 삼환아파트 A15005705 B} {서울특별시 영등포구 여의대방로43나길 25 A15005705 R} {서울특별시 영등포구 여의대방로43라길 9 A15005705 R}]} {{A15086007 1058} {신길우성2차 분양 개별난방 68385.75 7 우성건설 우성건설 028320181 028320182 - 아파트 위탁관리 7 대원종합관리(주) 위탁관리 9 스마일종합관리 위탁관리 6 음식물쓰레기종량제 위탁관리 12 분무식,독이식 297 0 16 관리사무소, 노인정, 어린이놀이터, 자전거보관소 1870 상주선임 고가수조식 철근콘크리트구조 종합계약 P형 위탁관리 무 5~10분이내 관공서(동사무소) 병원(현대의원) 공원(보라매공원) 기타(돈보스코청소년센터) 초등학교(대길초등학교) 중학교(대방중학교) 고등학교(영신고등학교) 혼합식 1986-09-25 51973.9 신풍 7호선 5~10분이내 A15086007} [{120 1 A15086007} {605 2 A15086007} {0 3 } {0 4 }] [{서울특별시 영등포구 신길동 4518 우성2 A15086007 B} {서울특별시 영등포구 대방천로 180 A15086007 R}]} {{A15086004 1059} {신길우성3차아파트 분양 개별난방 48820 5 우성건설 우성건설 02-848-3078 02-845-0811 ws3apt@hanmail.net 아파트 자치관리 5 - 자치관리 9 - 위탁관리(직영+위탁) 3 음식물쓰레기종량제 위탁관리(직영+위탁) 4 분무식 192 0 60 관리사무소, 노인정, 어린이놀이터, 자전거보관소 950 위탁선임 고가수조식 철근콘크리트구조 종합계약 P형 위탁관리(직영+위탁) 무 5~10분이내 관공서(동사무소) 병원(이화의원) 대형상가(하이마트-신풍점) 공원(보라매공원) 기타(돈보스코청소년센터) 초등학교(대길초등학교) 고등학교(영신고등학교) 혼합식 1989-04-11 33366.24 신풍 7호선 5~10분이내 A15086004} [{139 1 A15086004} {338 2 A15086004} {0 3 } {0 4 }] [{서울특별시 영등포구 신길동 4656 신길우성3차아파트 A15086004 B} {서울특별시 영등포구 대방천로14길 32 A15086004 R}]} {{A15005001 1060} {신길우성4차 분양 개별난방 53207.29 4 우성건설 우성건설 02)849-1156 02)849-1157 우성4차.aptgate.co.kr 아파트 위탁관리 5 (주)디엠지관리 기타 10 디엠지관리 기타 5 음식물쓰레기종량제 기타 12 분무식 203 89 88 관리사무소, 노인정, 어린이놀이터, 자전거보관소 1400 상주선임 고가수조식 철근콘크리트구조 단일계약 P형 기타 무 5분이내 관공서(동사무소) 병원(서울대윤병원) 대형상가(삼성디지털프라자) 공원(영등포공원) 중학교(영원중교) 고등학교(영등포여고교, 장훈고등학교) 계단식 1991-05-04 38900 신길 1호선, 5호선 5분이내 A15005001} [{0 1 } {476 2 A15005001} {0 3 } {0 4 }] [{서울특별시 영등포구 신길동 102-8 신길우성아파트 A15005001 B} {서울특별시 영등포구 영등포로64길 8 A15005001 R} {서울특별시 영등포구 영등포로64길 11 A15005001 R}]} {{A15005301 1061} {신길우성5차 분양 개별난방 34003.531 3 우성건설 우성건설 02-841-9412 02-6673-9412 - 아파트 위탁관리 4 태림주택종합관리(주) 자치관리(직영) 8 태림주택종합 위탁관리(직영+위탁) 3 음식물쓰레기종량제 위탁관리(직영+위탁) 12 분무식,독이식 149 85 32 관리사무소, 노인정, 주민공동시설, 어린이놀이터, 자전거보관소 750 위탁선임 고가수조식 철근콘크리트구조 단일계약 P형 위탁관리 무 10~15분이내 관공서(동사무소) 병원(윤면소아과의원) 대형상가(사러가쇼핑센터) 초등학교(도림초등학교) 중학교(대영중교) 고등학교(대영고교) 계단식 1993-10-26 27278.58 신풍 2호선, 5호선, 7호선 10~15분이내 A15005301} [{0 1 } {321 2 A15005301} {0 3 } {0 4 }] [{서울특별시 영등포구 신길동 4933 신길우성5차아파트 A15005301 B} {서울특별시 영등포구 도신로 100 A15005301 R}]} {{A15005602 1062} {신길우창 분양 개별난방 18782.2 2 우창건설(주) 우창건설 02-6268-7500 842-1929 - 아파트 위탁관리 3 (주)태룡에스디 위탁관리 4 (주)태룡에스디 위탁관리 1 음식물쓰레기종량제 위탁관리 12 분무식 163 0 13 관리사무소, 어린이놀이터, 휴게시설, 자전거보관소 500 위탁선임 부스타방식 철근콘크리트구조 단일계약 P형 위탁관리 무 5~10분이내 관공서(동사무소) 병원(성심병원) 공원(보라매공원) 기타(돈보스코청소년센터) 초등학교(대길초등학교) 중학교(대방중학교) 고등학교(영신고등학교) 복도식 1983-08-17 13421.68 신풍 7호선 5~10분이내 A15005602} [{72 1 A15005602} {142 2 A15005602} {0 3 } {0 4 }] [{서울특별시 영등포구 신길동 4501 우창아파트 A15005602 B} {서울특별시 영등포구 여의대방로5길 6 A15005602 R}]} {{A15096001 20124858} {신길자이 분양 개별난방 32610.93 4 GS건설 신길동제5구역재개발주택조합 02-831-0924 02-831-0926 - 아파트 위탁관리 4 일신주택관리(주) 위탁관리 4 (주)조은세이프 위탁관리 2 음식물쓰레기종량제 위탁관리 12 분무식,독이식 0 226 47 관리사무소, 노인정, 주민공동시설, 어린이놀이터, 휴게시설, 커뮤니티공간, 자전거보관소 1000 상주선임 부스타방식 철근콘크리트구조 종합계약 R형 위탁관리 유 5~10분이내 관공서(동사무소) 병원(성애) 대형상가(사러가쇼핑센터) 초등학교(영신초등학교) 계단식 2011-06-30 16003.72 신풍 1호선, 5호선 15~20분이내 A15096001} [{76 1 A15096001} {86 2 A15096001} {36 3 A15096001} {0 4 }] [{서울특별시 영등포구 신길동 4938 신길자이 A15096001 B} {서울특별시 영등포구 가마산로79길 19 A15096001 R}]} {{A15085404 1064} {신길한성 분양 개별난방 57972.21 5 한국보훈복지공단 한성건설 028362345 028362348 - 아파트 위탁관리 5 대원종합관리(주) 위탁관리 8 한양시스템(주) 위탁관리 4 음식물쓰레기종량제 위탁관리 12 도포식,기구부착식 147 298 38 관리사무소, 노인정, 어린이놀이터 1465 상주선임 부스타방식 철근콘크리트구조 단일계약 P형 위탁관리 무 5~10분이내 관공서(동사무소) 병원(김영준소아과) 초등학교(대방초등학교) 중학교(강남중교) 고등학교(서울공업고교) 계단식 1997-07-21 3650"
     ]
    },
    {
     "name": "stdout",
     "output_type": "stream",
     "text": [
      "5.08 대방, 신풍 1호선, 7호선 5~10분이내 A15085404} [{172 1 A15085404} {144 2 A15085404} {104 3 A15085404} {0 4 }] [{서울특별시 영등포구 신길동 769-1 한성아파트 A15085404 B} {서울특별시 영등포구 가마산로 575 A15085404 R}]} {{A10027073 20349595} {래미안에스티움 임대+분양 개별난방 272491.57 19 삼성물산주식회사 신길7재정비촉진구역주택재개발사업조함 028499571 02-849-9574 estium.co.kr 아파트 위탁관리 14 (주)타워피엠씨 위탁관리 16 (주)씨큐원 위탁관리 23 음식물쓰레기종량제 위탁관리 12 도포식,분무식 0 2280 206 관리사무소, 노인정, 보육시설, 문고, 주민공동시설, 어린이놀이터, 휴게시설, 커뮤니티공간, 자전거보관소 7550 상주선임 부스타방식 철골콘크리트구조 종합계약 R형 위탁관리 유 5분이내 - - 혼합식 2017-04-12 133313.49 신풍역 7호선 5분이내 A10027073} [{682 1 A10027073} {833 2 A10027073} {207 3 A10027073} {0 4 }] [{서울특별시 영등포구 신길동 4950 래미안에스티움 A10027073 B} {서울특별시 영등포구 신풍로 77 A10027073 R}]} {{A10027755 20331410} {래미안프레비뉴 임대+분양 개별난방 140645.79 12 삼성물산주식회사 조합 02-849-6655 02-849-6900 - 아파트 위탁관리 8 (주)아주관리 위탁관리 11 (주)아주관리 위탁관리 10 거점장비수거방식 위탁관리 0 - 0 1211 100 관리사무소, 노인정, 보육시설, 문고, 주민공동시설, 어린이놀이터, 커뮤니티공간, 자전거보관소 4000 상주선임 부스타방식 철골철근콘크리트구조 종합계약 R형 위탁관리 유 5~10분이내 - 초등학교() 중학교() 고등학교() 혼합식 2015-12-29 68800.87 - 7호선 5~10분이내 A10027755} [{396 1 A10027755} {535 2 A10027755} {17 3 A10027755} {0 4 }] [{서울특별시 영등포구 신길동 329-94 래미안영등포프레비뉴 A10027755 B} {서울특별시 영등포구 가마산로 442 A10027755 R}]} {{A15005002 20181850} {레전드힐스 분양 개별난방 8069.5 1 우신건설 코람코 자산신탁 028499181 028499184 - 주상복합 위탁관리 3 (주)한성세영비엔에이 위탁관리 2 한성세영비엔에이 위탁관리 1 음식물쓰레기종량제 위탁관리 12 도포식,분무식,기구부착식,독이식 73 0 8 관리사무소 950 위탁선임 부스타방식 철근콘크리트구조 단일계약 GR형 위탁관리 무 5분이내 백화점(디큐브,타임스퀘어) 초등학교(우신) 중학교(영원) 복도식 2013-07-26 2961.93 신풍 1호선, 7호선 10~15분이내 A15005002} [{216 1 A15005002} {0 2 } {0 3 } {0 4 }] [{서울특별시 영등포구 신길동 261-22 레전드힐스 A15005002 B} {서울특별시 영등포구 가마산로 468 A15005002 R}]} {{A15086006 20008680} {보라매경남아너스빌 분양 개별난방 73156.97 9 경남기업 경남기업 02-848-4779 02-833-4779 - 아파트 위탁관리 7 광인산업(주) 위탁관리 10 예주산업 위탁관리 5 음식물쓰레기종량제 위탁관리 12 도포식,분무식 125 674 154 관리사무소, 노인정, 보육시설, 문고, 주민공동시설, 어린이놀이터, 휴게시설, 자전거보관소 2391 상주선임 부스타방식 철근콘크리트구조 단일계약 R형 위탁관리 유 5~10분이내 관공서(동사무소) 병원(남수한의원) 대형상가(LG하이프라자) 공원(보라매공원) 기타(돈보스코청소년센터) 초등학교(대길초등학교) 중학교(대방중학교) 고등학교(영신고등학교) 계단식 2005-08-12 57010.79 신풍 7호선 5~10분이내 A15086006} [{92 1 A15086006} {489 2 A15086006} {88 3 A15086006} {0 4 }] [{서울특별시 영등포구 신길동 4780 보라매경남아너스빌 A15086006 B} {서울특별시 영등포구 여의대방로 25 A15086006 R}]} {{A15086001 20008679} {보라매두산위브 분양 개별난방 27724.41 2 두산건설(주) 두산건설 02-836-0385 02-836-0386 - 아파트 위탁관리 3 (주)한빛관리 위탁관리 2 (주)한빛관리 위탁관리 2 음식물쓰레기종량제 위탁관리 12 분무식 205 48 37 관리사무소, 노인정, 어린이놀이터, 자전거보관소 900 위탁선임 부스타방식 철근콘크리트구조 단일계약 GR형 위탁관리 무 5~10분이내 관공서(동사무소) 병원(김정은소아과의원) 공원(보라매공원) 기타(돈보스코청소년센터) 초등학교(대길초등학교) 중학교(대방중학교) 계단식 2005-11-10 17039.43 신풍 7호선 5~10분이내 A15086001} [{0 1 } {104 2 A15086001} {0 3 } {60 4 A15086001}] [{서울특별시 영등포구 신길동 4497 보라매두산위브 A15086001 B} {서울특별시 영등포구 여의대방로9길 5 A15086001 R}]} {{A15005102 1055} {신기목련 임대+분양 개별난방 15140 2 우정건설 주식회사 도시개발 공사 02)834-9119 02834-9122 - 아파트 위탁관리 2 유원종합관리(주) 위탁관리 2 유원종합관리(주) 위탁관리 1 거점장비수거방식 기타 2 - 102 28 24 어린이놀이터 450 위탁선임 고가수조식 철근콘크리트구조 단일계약 P형 위탁관리 무 10~15분이내 관공서(동사무소) 병원(보인의원) 대형상가(사러가쇼핑센터) 공원(근린공원) 초등학교(우신초등학교) 복도식 2000-07-11 9969.7 신풍 7호선 10~15분이내 A15005102} [{213 1 A15005102} {0 2 } {0 3 } {0 4 }] [{서울특별시 영등포구 신길동 4935 신기목련아파트 A15005102 B} {서울특별시 영등포구 신길로42가길 34 A15005102 R}]} {{A15005303 1057} {신길1차우성아파트 분양 개별난방 61767.2 6 (주)우성건설 (주)우성건설 02-833-6584 02-6673-6583 apt913.aptgate.co.kr 아파트 위탁관리 5 (주)아주관리 위탁관리 9 조은세이프 위탁관리 6 음식물쓰레기종량제 위탁관리 12 도포식,분무식,독이식 470 0 48 관리사무소, 노인정, 어린이놀이터 1760 상주선임 고가수조식 철근콘크리트구조 단일계약 P형 위탁관리 무 5분이내 관공서(동사무소) 병원(한산부인과) 대형상가(LG하이프라자) 공원(근린공원) 초등학교(대영초등학교) 중학교(대영중교) 고등학교(대영고교) 혼합식 1986-09-03 46238.48 신도림역,문래역 1호선, 2호선 5~10분이내 A15005303} [{182 1 A15005303} {506 2 A15005303} {0 3 } {0 4 }] [{서울특별시 영등포구 신길동 365 신길우성아파트 A15005303 B} {서울특별시 영등포구 도신로 68-1 A15005303 R}]} {{A15005302 1047} {신길건영 분양 개별난방 44462.75 4 LIG건영 (주)건영 844-2535 844-2535 신길건영.apti.co.kr 아파트 자치관리 4 - 자치관리 6 - 위탁관리 5 음식물쓰레기종량제 위탁관리 12 분무식,독이식 313 0 107 관리사무소, 노인정, 어린이놀이터, 자전거보관소 995 위탁선임 부스타방식 철근콘크리트구조 종합계약 P형 위탁관리 유 5~10분이내 관공서(신길3동) 병원(한산부인과) 대형상가(LG하이프라자) 공원(근린공원) 초등학교(대영초등학교) 중학교(대영중교) 고등학교(대영고교) 복도식 1985-09-04 31387.44 신풍역 1호선, 2호선, 7호선 5~10분이내 A15005302} [{0 1 } {160 2 A15005302} {226 3 A15005302} {0 4 }] [{서울특별시 영등포구 신길동 364 건영아파트 A15005302 B} {서울특별시 영등포구 도림로 313 A15005302 R}]} {{A15083703 1048} {신길경남 분양 개별난방 49860.67 5 경남건설 경남건설 02-835-7655 02-6747-7677 - 아파트 자치관리 4 - 위탁관리 4 한국보안시스템 위탁관리 4 거점장비수거방식 위탁관리 12 도포식,분무식,기구부착식,기구설치식,독이식 84 351 67 관리사무소, 노인정, 어린이놀이터 1240 위탁선임 고가수조식 철근콘크리트구조 단일계약 P형 위탁관리 무 5분이내 관공서(동사무소) 병원(서울대윤병원) 공원(여의도생태공원) 중학교(영원중교) 고등학교(장훈고교) 혼합식 1999-06-15 29601.1 신길역 1호선, 5호선 5분이내 A15083703} [{165 1 A15083703} {121 2 A15083703} {82 3 A15083703} {0 4 }] [{서울특별시 영등포구 신길동 67-1 신길동경남아파트 A15083703 B} {서울특별시 영등포구 영등포로 351 A15083703 R}]} {{A15085805 1049} {신길남서울 분양 개별난방 32295.3 13 근대건설 성아산업 02-836-7552 02-836-7552 남서울.apti.co.kr 아파트 자치관리 4 - 위탁관리 8 경진이앤지 위탁관리 4 음식물쓰레기종량제 위탁관리 12 분무식,독이식 280 0 32 관리사무소, 노인정, 어린이놀이터, 휴게시설 367 위탁선임 고가수조식 철근콘크리트구조 단일계약 P형 - 무 5분이내 관공서(동사무소) 병원(성심의원) 공원(신길광장공원) 기타(돈보스코청소년센터) 초등학교(대길초등학교) 중학교(대영중학교) 고등학교(대영고등학교) 계단식 1974-12-28 24643.62 신풍 7호선 5분이내 A15085805} [{488 1 A15085805} {30 2 A15085805} {0 3 } {0 4 }] [{서울특별시 영등포구 신길동 3111 남서울 A15085805 B} {서울특별시 영등포구 신길동 3586 남서울 A15085805 B} {서울특별시 영등포구 신길동 3002 남서울 A15085805 B} {서울특별시 영등포구 신길동 3591 남서울 A15085805 B} {서울특별시 영등포구 신길동 3583 남서울 A15085805 B} {서울특별시 영등포구 신길동 3573 남서울 A15085805 B} {서울특별시 영등포구 신길동 3590 남서울 A15085805 B} {서울특별시 영등포구 신길로 108 A15085805 R}]} {{A15005501 20096267} {신길뉴타운한화꿈에그린 분양 개별난방 48058.94 6 한화건설(주) 한고을 02-834-7097 02-834-0420 - 아파트 위탁관리 5 서림주택 위탁관리 4 세계보안 위탁관리 3 거점장비수거방식 위탁관리 12 도포식,분무식 24 377 112 관리사무소, 노인정, 어린이놀이터, 자전거보관소 1650 상주선임 부스타방식 철근콘크리트구조 종합계약 R형 위탁관리 유 5분이내 대형상가(사러가쇼핑센터) 초등학교(대영) 중학교(대영) 고등학교(대영) 계단식 2008-06-26 27684.2474 신풍 7호선 5분이내 A15005501} [{0 1 } {147 2 A15005501} {137 3 A15005501} {0 4 }] [{서울특별시 영등포구 신길동 4937 신길뉴타운한화꿈에그린 A15005501 B} {서울특별시 영등포구 신길로 119 A15005501 R}]} {{A15083701 1051} {신길삼두 분양 개별난방 10684 1 삼두실업(주) 삼두실업(주) 02-848-4188 02-848-4188 - 아파트 위탁관리 2 신한영주택관리(주) 위탁관리(직영+위탁) 2 신한영주택관리(주) 위탁관리(직영+위탁) 1 음식물쓰레기종량제 위탁관리 4 분무식 45 0 0 관리사무소, 노인정, 어린이놀이터, 자전거보관소 225 위탁선임 고가수조식 철근콘크리트구조 종합계약 P형 위탁관리 무 5~10분이내 관공서(동사무소) 병원(성애병원) 대형상가(LG하이프라자-대방점) 공원(여의도샛강생태공원) 중학교(윤중중학교) 고등학교(한국제과고등기술학교) 복도식 1987-12-12 7333.2 대방 1호선, 5호선 5분이내 A15083701} [{160 1 A15083701} {0 2 } {0 3 } {0 4 }] [{서울특별시 영등포구 신길동 2-3 삼두아파트 A15083701 B} {서울특별시 영등포구 여의대방로61길 19 A15083701 R}]} {{A15005603 1052} {신길삼성 분양 개별난방 30549.74 2 삼성종합건설(주) 삼성종합건설(주) 02-846-2273 02-846-2275 - 아파트 위탁관리 5 율산개발(주) 위탁관리 4 희망코리아(주) 위탁관리 3 음식물쓰레기종량제 위탁관리 12 도포식,분무식,독이식 218 0 41 관리사무소, 노인정, 어린이놀이터, 자전거보관소 700 상주선임 고가수조식 철근콘크리트구조 단일계약 P형 위탁관리 무 5~10분이내 관공서(동사무소) 병원(원치과) 대형상가(LG하이프라자) 공원(보라매공원) 기타(돈보스코청소년센터) 초등학교(대길초등학교) 중학교(대방중학교) 고등학교(영신고등학교) 복도식 1984-04-14 21766.32 신풍 7호선 5~10분이내 A15005603} [{120 1 A15005603} {264 2 A15005603} {0 3 } {0 4 }] [{서울특별시 영등포구 신길동 4759 삼성아파트 A15005603 B} {서울특별시 영등포구 여의대방로 45 A15005603 R}]} {{A15005402 1053} {신길삼성래미안 분양 개별난방 111955.89 12 삼성물산 신길2-3지구주택재개발조합 02-832-7937 02-832-7938 - 아파트 위탁관리 8 서일개발 위탁관리 13 (주)엘림테크 위탁관리 8 음식물쓰레기종량제 위탁관리 12 도포식,분무식,독이식 122 853 126 관리사무소, 노인정, 보육시설, 주민공동시설, 어린이놀이터, 자전거보관소 3600 상주선임 고가수조식 철근콘크리트구조 단일계약 GR형 위탁관리 무 5~10분이내 관공서(동사무소) 병원(황치과) 대형상가(사러가쇼핑센터) 공원(매낙골공원) 초등학교(우신초등학교) 혼합식 2001-06-15 71552.57 신풍 1호선, 5호선, 7호선 5~10분이내 A15005402} [{214 1 A15005402} {382 2 A15005402} {230 3 A15005402} {0 4 }] [{서울특별시 영등포구 신길동 4934-17 삼성래미안아파트 A15005402 B} {서울특별시 영등포구 신길동 4934-2 삼성래미안아파트 A15005402 B} {서울특별시 영등포구 신길동 4934 삼성래미안아파트 A15005402 B} {서울특별시 영등포구 가마산로79길 7 A15005402 R} {서울특별시 영등포구 도신로48길 35 A15005402 R}]} {{A15005401 1053} {신길삼성제2 임대 개별난방 21067 1 삼성물산주식회사 삼성물산주식회사 02-836-3272 02-836-3273 happy.i-sh.co.kr/main.do?deptid=70169 아파트 자치관리(직영) 9 - 위탁관리 3 (주)세원종합관리 위탁관리 2 기타 위탁관리 6 도포식,분무식 90 86 36 관리사무소, 노인정, 어린이놀이터, 자전거보관소 850 위탁선임 고가수조식 철근콘크리트구조 단일계약 P형 위탁관리 무 15~20분이내 관공서(신길4동 주민센터) 병원(엔젤병원) 백화점(롯데백화점) 대형상가(사러가쇼핑센터) 공원(삼성공원) 초등학교(우신초등학교) 중학교(영원중학교) 복도식 2001-06-15 12747.78 1호선-영등포역,5호선-신길역,7호선-신풍역 1호선, 5호선, 7호선 15~20분이내 A15005401} [{387 1 A15005401} {0 2 } {0 3 } {0 4 }] [{서울특별시 영등포구 신길동 4934-2 삼성래미안아파트 A15005401 B} {서울특별시 영등포구 신길로42길 25 A15005401 R}]} {{A15005705 1054} {신길삼환 분양 중앙난방 131665.768 11 삼환기업 군인공제회 02-833-0286~7 02-833-0289 신길삼환.apti.co.kr 아파트 위탁관리 14 (주)경진관리 위탁관리 22 (주)경진관리 위탁관리 10 음식물쓰레기종량제 위탁관리 12 분무식,독이식 496 608 147 관리사무소, 노인정, 보육시설, 어린이놀이터 2750 상주선임 고가수조식 철근콘크리트구조 종합계약 P형 위탁관리 무 5~10분이내 관공서(동사무소) 초등학교(대방초등학교) 중학교(강남중교) 고등학교(서울공업고교) 계단식 1997-05-10 87502.98 신풍 1호선, 7호선 5~10분이내 A15005705} [{478 1 A15005705} {696 2 A15005705} {0 3 } {0 4 }] [{서울특별시 영등포구 신길동 897-1 삼환아파트 A15005705 B} {서울특별시 영등포구 여의대방로43나길 25 A15005705 R} {서울특별시 영등포구 여의대방로43라길 9 A15005705 R}]} {{A15086007 1058} {신길우성2차 분양 개별난방 68385.75 7 우성건설 우성건설 028320181 028320182 - 아파트 위탁관리 7 대원종합관리(주) 위탁관리 9 스마일종합관리 위탁관리 6 음식물쓰레기종량제 위탁관리 12 분무식,독이식 297 0 16 관리사무소, 노인정, 어린이놀이터, 자전거보관소 1870 상주선임 고가수조식 철근콘크리트구조 종합계약 P형 위탁관리 무 5~10분이내 관공서(동사무소) 병원(현대의원) 공원(보라매공원) 기타(돈보스코청소년센터) 초등학교(대길초등학교) 중학교(대방중학교) 고등학교(영신고등학교) 혼합식 1986-09-25 51973.9 신풍 7호선 5~10분이내 A15086007} [{120 1 A15086007} {605 2 A15086007} {0 3 } {0 4 }] [{서울특별시 영등포구 신길동 4518 우성2 A15086007 B} {서울특별시 영등"
     ]
    },
    {
     "name": "stdout",
     "output_type": "stream",
     "text": [
      "포구 대방천로 180 A15086007 R}]} {{A15086004 1059} {신길우성3차아파트 분양 개별난방 48820 5 우성건설 우성건설 02-848-3078 02-845-0811 ws3apt@hanmail.net 아파트 자치관리 5 - 자치관리 9 - 위탁관리(직영+위탁) 3 음식물쓰레기종량제 위탁관리(직영+위탁) 4 분무식 192 0 60 관리사무소, 노인정, 어린이놀이터, 자전거보관소 950 위탁선임 고가수조식 철근콘크리트구조 종합계약 P형 위탁관리(직영+위탁) 무 5~10분이내 관공서(동사무소) 병원(이화의원) 대형상가(하이마트-신풍점) 공원(보라매공원) 기타(돈보스코청소년센터) 초등학교(대길초등학교) 고등학교(영신고등학교) 혼합식 1989-04-11 33366.24 신풍 7호선 5~10분이내 A15086004} [{139 1 A15086004} {338 2 A15086004} {0 3 } {0 4 }] [{서울특별시 영등포구 신길동 4656 신길우성3차아파트 A15086004 B} {서울특별시 영등포구 대방천로14길 32 A15086004 R}]} {{A15005001 1060} {신길우성4차 분양 개별난방 53207.29 4 우성건설 우성건설 02)849-1156 02)849-1157 우성4차.aptgate.co.kr 아파트 위탁관리 5 (주)디엠지관리 기타 10 디엠지관리 기타 5 음식물쓰레기종량제 기타 12 분무식 203 89 88 관리사무소, 노인정, 어린이놀이터, 자전거보관소 1400 상주선임 고가수조식 철근콘크리트구조 단일계약 P형 기타 무 5분이내 관공서(동사무소) 병원(서울대윤병원) 대형상가(삼성디지털프라자) 공원(영등포공원) 중학교(영원중교) 고등학교(영등포여고교, 장훈고등학교) 계단식 1991-05-04 38900 신길 1호선, 5호선 5분이내 A15005001} [{0 1 } {476 2 A15005001} {0 3 } {0 4 }] [{서울특별시 영등포구 신길동 102-8 신길우성아파트 A15005001 B} {서울특별시 영등포구 영등포로64길 8 A15005001 R} {서울특별시 영등포구 영등포로64길 11 A15005001 R}]} {{A15005301 1061} {신길우성5차 분양 개별난방 34003.531 3 우성건설 우성건설 02-841-9412 02-6673-9412 - 아파트 위탁관리 4 태림주택종합관리(주) 자치관리(직영) 8 태림주택종합 위탁관리(직영+위탁) 3 음식물쓰레기종량제 위탁관리(직영+위탁) 12 분무식,독이식 149 85 32 관리사무소, 노인정, 주민공동시설, 어린이놀이터, 자전거보관소 750 위탁선임 고가수조식 철근콘크리트구조 단일계약 P형 위탁관리 무 10~15분이내 관공서(동사무소) 병원(윤면소아과의원) 대형상가(사러가쇼핑센터) 초등학교(도림초등학교) 중학교(대영중교) 고등학교(대영고교) 계단식 1993-10-26 27278.58 신풍 2호선, 5호선, 7호선 10~15분이내 A15005301} [{0 1 } {321 2 A15005301} {0 3 } {0 4 }] [{서울특별시 영등포구 신길동 4933 신길우성5차아파트 A15005301 B} {서울특별시 영등포구 도신로 100 A15005301 R}]} {{A15005602 1062} {신길우창 분양 개별난방 18782.2 2 우창건설(주) 우창건설 02-6268-7500 842-1929 - 아파트 위탁관리 3 (주)태룡에스디 위탁관리 4 (주)태룡에스디 위탁관리 1 음식물쓰레기종량제 위탁관리 12 분무식 163 0 13 관리사무소, 어린이놀이터, 휴게시설, 자전거보관소 500 위탁선임 부스타방식 철근콘크리트구조 단일계약 P형 위탁관리 무 5~10분이내 관공서(동사무소) 병원(성심병원) 공원(보라매공원) 기타(돈보스코청소년센터) 초등학교(대길초등학교) 중학교(대방중학교) 고등학교(영신고등학교) 복도식 1983-08-17 13421.68 신풍 7호선 5~10분이내 A15005602} [{72 1 A15005602} {142 2 A15005602} {0 3 } {0 4 }] [{서울특별시 영등포구 신길동 4501 우창아파트 A15005602 B} {서울특별시 영등포구 여의대방로5길 6 A15005602 R}]} {{A15096001 20124858} {신길자이 분양 개별난방 32610.93 4 GS건설 신길동제5구역재개발주택조합 02-831-0924 02-831-0926 - 아파트 위탁관리 4 일신주택관리(주) 위탁관리 4 (주)조은세이프 위탁관리 2 음식물쓰레기종량제 위탁관리 12 분무식,독이식 0 226 47 관리사무소, 노인정, 주민공동시설, 어린이놀이터, 휴게시설, 커뮤니티공간, 자전거보관소 1000 상주선임 부스타방식 철근콘크리트구조 종합계약 R형 위탁관리 유 5~10분이내 관공서(동사무소) 병원(성애) 대형상가(사러가쇼핑센터) 초등학교(영신초등학교) 계단식 2011-06-30 16003.72 신풍 1호선, 5호선 15~20분이내 A15096001} [{76 1 A15096001} {86 2 A15096001} {36 3 A15096001} {0 4 }] [{서울특별시 영등포구 신길동 4938 신길자이 A15096001 B} {서울특별시 영등포구 가마산로79길 19 A15096001 R}]} {{A15085404 1064} {신길한성 분양 개별난방 57972.21 5 한국보훈복지공단 한성건설 028362345 028362348 - 아파트 위탁관리 5 대원종합관리(주) 위탁관리 8 한양시스템(주) 위탁관리 4 음식물쓰레기종량제 위탁관리 12 도포식,기구부착식 147 298 38 관리사무소, 노인정, 어린이놀이터 1465 상주선임 부스타방식 철근콘크리트구조 단일계약 P형 위탁관리 무 5~10분이내 관공서(동사무소) 병원(김영준소아과) 초등학교(대방초등학교) 중학교(강남중교) 고등학교(서울공업고교) 계단식 1997-07-21 36505.08 대방, 신풍 1호선, 7호선 5~10분이내 A15085404} [{172 1 A15085404} {144 2 A15085404} {104 3 A15085404} {0 4 }] [{서울특별시 영등포구 신길동 769-1 한성아파트 A15085404 B} {서울특별시 영등포구 가마산로 575 A15085404 R}]}]\n",
      "87186\n",
      "<nil>\n"
     ]
    }
   ],
   "source": [
    "import \"strconv\"\n",
    "\n",
    "// 지역 키워드를 주면, 아파트 정보들을 반환한다.\n",
    "func getAptBaseInfo(areaKeyword string) []AptDetailResponse {\n",
    "    \n",
    "    \n",
    "    // prepare const\n",
    "    aptListurl := \"http://www.k-apt.go.kr/kaptinfo/getKaptList.do\"\n",
    "    //aptinfourl := \"http://www.k-apt.go.kr/kaptinfo/getKaptInfo_detail.do\"\n",
    "\n",
    "    \n",
    "    // bucket\n",
    "    var aptInformations []AptDetailResponse\n",
    "    \n",
    "    \n",
    "    fmt.Println(\"법정동 목록 시작\",\"-----------\")\n",
    "    \n",
    "    // 법정동 주소의 목록을 반환\n",
    "    법정동목록 := getBjd(areaKeyword)\n",
    "    \n",
    "    fmt.Println(법정동목록)\n",
    "    \n",
    "    fmt.Println(\"법정동 목록 완료\",\"-----------\")\n",
    "    \n",
    "    // 법정동 하나씩 마다\n",
    "    for _, bjdCode := range 법정동목록{\n",
    "\n",
    "        bjdCode := bjdCode[0]\n",
    "\n",
    "        fmt.Println(bjdCode,\"아파트 목록 조회 시작\",\"-----------\")\n",
    "        \n",
    "        respListBody := getAptlistRsp(aptListurl, bjdCode)\n",
    "        // _ = respBody\n",
    "        xmlData := unMarshalAptJson(respListBody)\n",
    "        // _ = xmlData\n",
    "        \n",
    "        fmt.Println(\"아파트 목록 조회 완료\",\"-----------\")\n",
    "        \n",
    "        fmt.Println(\"아파트 목록 마샬링 시작\",\"-----------\")\n",
    "        \n",
    "        // 여러 아파트 코드를 알아내서\n",
    "        aptCodes := getAptCode(xmlData)\n",
    "\n",
    "        fmt.Println(\"아파트 목록 마샬링 완료\",\"-----------\")\n",
    "        \n",
    "        // 아파트 코드 하나마다\n",
    "        fmt.Println(\"아파트 정보 조회 시작\",\"-----------\")\n",
    "        \n",
    "        for index, kaptCode := range aptCodes{\n",
    "\n",
    "            rspDetailBody := getAptDetailtRsp(aptinfourl, kaptCode)\n",
    "            xmlData := unMarshalAptDetail(rspDetailBody)\n",
    "            \n",
    "            // 정보를 알아낸 다음 차곡차곡 끼워 넣는다.\n",
    "            aptInformations = append(aptInformations, xmlData)\n",
    "            fmt.Println(  index+1,\"/\" ,len(aptCodes) ,xmlData.세부정보.아파트이름, \"처리완료\")\n",
    "        }\n",
    "        \n",
    "        fmt.Println(len(aptInformations),\"개 아파트 처리 완료\")\n",
    "    }\n",
    "\n",
    "    return aptInformations\n",
    "}\n",
    "\n",
    "aptDetailInfo := getAptBaseInfo(\"오류동\")\n",
    "\n",
    "// 결과가 없는데 출력하려고 하면 범위 경계 오류 남.\n",
    "// panic: runtime error: slice bounds out of range\n",
    "fmt.Println(aptDetailInfo)"
   ]
  },
  {
   "cell_type": "markdown",
   "metadata": {},
   "source": [
    "## 테이블에 자료를 넣고 원하는 것만 꺼내서 csv 파일로 출력하기"
   ]
  },
  {
   "cell_type": "markdown",
   "metadata": {},
   "source": [
    "자료를 모두 담을 구조체 생성 // 이럴 바에야 json flatten 시키고 string 을 한 구조체에 담을 걸 ㅠㅠ"
   ]
  },
  {
   "cell_type": "code",
   "execution_count": 27,
   "metadata": {
    "ExecuteTime": {
     "end_time": "Z",
     "start_time": "2018-03-22T21:24:34.568Z"
    },
    "init_cell": true
   },
   "outputs": [],
   "source": [
    "열이름 := []string{\n",
    "\"아파트코드\",\n",
    "\"마을코드\",\n",
    "\"법정동주소\",\n",
    "\"도로명주소\",\n",
    "\"세대수\",\n",
    "\"전용면적60이하세대수\",\n",
    "\"전용면적60이상85이하세대수\",\n",
    "\"전용면적85이상135이하세대수\",\n",
    "\"전용면적135초과세대수\",\n",
    "\"전용면적60이하아파트코드\",\n",
    "\"전용면적60이상85이하아파트코드\",\n",
    "\"전용면적85이상135이하아파트코드\",\n",
    "\"전용면적135초과아파트코드\",\n",
    "\"아파트이름\",\n",
    "\"분양형태\",\n",
    "\"난방방식\",\n",
    "\"연면적\",\n",
    "\"동수\",\n",
    "\"시공사\",\n",
    "\"시행사\",\n",
    "\"관리사무소연락처\",\n",
    "\"관리사무소팩스\",\n",
    "\"홈페이지주소\",\n",
    "\"단지분류\",\n",
    "\"일반관리방식\",\n",
    "\"일반관리인원\",\n",
    "\"일반관리계약업체\",\n",
    "\"경비관리방식\",\n",
    "\"경비관리인원\",\n",
    "\"경비관리계약업체\",\n",
    "\"청소관리방식\",\n",
    "\"청소관리인원\",\n",
    "\"음식물처리방법\",\n",
    "\"소독관리방식\",\n",
    "\"연간소독횟수\",\n",
    "\"소독방법\",\n",
    "\"건물구조\",\n",
    "\"세대전기계약방식\",\n",
    "\"화재수신반방식\",\n",
    "\"승강기관리형태\",\n",
    "\"지상주차장대수\",\n",
    "\"지하주차장대수\",\n",
    "\"cctv대수\",\n",
    "\"부대복리시설\",\n",
    "\"수전용량\",\n",
    "\"전기안전관리자법정선임여부\",\n",
    "\"급수방식\",\n",
    "\"승객용승강기\",\n",
    "\"화물용승강기\",\n",
    "\"비상승강기\",\n",
    "\"주차관제홈네트워크\",\n",
    "\"버스정류장\",\n",
    "\"편의시설\",\n",
    "\"교육시설\",\n",
    "\"복도유형\",\n",
    "\"사용승인일\",\n",
    "\"주거전용면적\",\n",
    "\"인근지하철역\",\n",
    "\"인근지하철호선\",\n",
    "\"지하철까지시간\",\n",
    "}"
   ]
  },
  {
   "cell_type": "markdown",
   "metadata": {
    "ExecuteTime": {
     "end_time": "Z",
     "start_time": "2018-03-22T15:59:37.204Z"
    }
   },
   "source": [
    "```sql\n",
    "매치 := apt.매치정보\n",
    "세부 := apt.세부정보\n",
    "세대1 := apt.세대정보[0]\n",
    "세대2 := apt.세대정보[1]\n",
    "세대3 := apt.세대정보[2]\n",
    "세대4 := apt.세대정보[3]\n",
    "주소 := apt.주소정보[0]\n",
    "\n",
    "stmt.Exec(\n",
    "    세부.아파트코드,\n",
    "    매치.마을코드,\n",
    "    주소.법정동주소,\n",
    "    주소.주소구분,\n",
    "    세대.세대수,\n",
    "    세대1.세대수,\n",
    "    세대2.세대수,\n",
    "    세대3.세대수,\n",
    "    세대4.세대수,\n",
    "    세대1.아파트코드,\n",
    "    세대2.아파트코드,\n",
    "    세대3.아파트코드,\n",
    "    세대4.아파트코드,\n",
    "    세부.아파트이름,\n",
    "    세부.분양형태,\n",
    "    세부.난방방식,\n",
    "    세부.연면적,\n",
    "    세부.동수,\n",
    "    세부.시공사,\n",
    "    세부.시행사,\n",
    "    세부.관리사무소연락처,\n",
    "    세부.관리사무소팩스,\n",
    "    세부.홈페이지주소,\n",
    "    세부.단지분류,\n",
    "    세부.일반관리방식,\n",
    "    세부.일반관리인원,\n",
    "    세부.일반관리계약업체,\n",
    "    세부.경비관리방식,\n",
    "    세부.경비관리인원,\n",
    "    세부.경비관리계약업체,\n",
    "    세부.청소관리방식,\n",
    "    세부.청소관리인원,\n",
    "    세부.음식물처리방법,\n",
    "    세부.소독관리방식,\n",
    "    세부.연간소독횟수,\n",
    "    세부.소독방법,\n",
    "    세부.건물구조,\n",
    "    세부.세대전기계약방식,\n",
    "    세부.화재수신반방식,\n",
    "    세부.승강기관리형태,\n",
    "    세부.지상주차장대수,\n",
    "    세부.지하주차장대수,\n",
    "    세부.cctv대수,\n",
    "    세부.부대복리시설,\n",
    "    세부.수전용량,\n",
    "    세부.전기안전관리자법정선임여부,\n",
    "    세부.급수방식,\n",
    "    세부.승객용승강기,\n",
    "    세부.화물용승강기,\n",
    "    세부.비상승강기,\n",
    "    세부.주차관제홈네트워크,\n",
    "    세부.버스정류장,\n",
    "    세부.편의시설,\n",
    "    세부.교육시설,\n",
    "    세부.복도유형,\n",
    "    세부.사용승인일,\n",
    "    세부.주거전용면적,\n",
    "    세부.인근지하철역,\n",
    "    세부.인근지하철호선,\n",
    "    세부.지하철까지시간,\n",
    ")\n",
    "```"
   ]
  },
  {
   "cell_type": "code",
   "execution_count": 28,
   "metadata": {
    "ExecuteTime": {
     "end_time": "Z",
     "start_time": "2018-03-22T21:24:34.570Z"
    },
    "init_cell": true
   },
   "outputs": [],
   "source": [
    "\n",
    "func writeAptInfo(aptDetailInfo []AptDetailResponse) {\n",
    "// 접속\n",
    "db, err := sql.Open(\"postgres\", dbinfo)\n",
    "defer db.Close()\n",
    "\n",
    "\n",
    "txn, err := db.Begin()\n",
    "if err != nil {\n",
    "\tfmt.Println(err)\n",
    "}\n",
    "// func CopyIn(table string, columns ...string) string\n",
    "stmt, err := txn.Prepare(pg.CopyIn(\"아파트정보\", 열이름...))\n",
    "if err != nil {\n",
    "\tfmt.Println(err)\n",
    "}\n",
    "\n",
    "for _, apt := range aptDetailInfo {\n",
    "    \n",
    "    매치 := apt.매치정보\n",
    "    세부 := apt.세부정보\n",
    "    \n",
    "    // 세대정보와 주소가 null 로 응답되는 경우 처리\n",
    "    if len(apt.세대정보) ==4 &&  len(apt.주소정보) ==2 {\n",
    "     \n",
    "    세대1 := apt.세대정보[0]\n",
    "    세대2 := apt.세대정보[1]\n",
    "    세대3 := apt.세대정보[2]\n",
    "    세대4 := apt.세대정보[3]\n",
    "    주소1 := apt.주소정보[0]\n",
    "    주소2 := apt.주소정보[1]\n",
    "\n",
    "    \n",
    "//     _, err = stmt.Exec(int64(bjd[0]), string(bjd[1]))\n",
    "    _, err = stmt.Exec(\n",
    "        세부.아파트코드,\n",
    "        매치.마을코드,\n",
    "        주소1.법정동주소,\n",
    "        주소2.법정동주소,\n",
    "        세대1.세대수+세대2.세대수+세대3.세대수+세대4.세대수,\n",
    "        세대1.세대수,\n",
    "        세대2.세대수,\n",
    "        세대3.세대수,\n",
    "        세대4.세대수,\n",
    "        세대1.아파트코드,\n",
    "        세대2.아파트코드,\n",
    "        세대3.아파트코드,\n",
    "        세대4.아파트코드,\n",
    "        세부.아파트이름,\n",
    "        세부.분양형태,\n",
    "        세부.난방방식,\n",
    "        세부.연면적,\n",
    "        세부.동수,\n",
    "        세부.시공사,\n",
    "        세부.시행사,\n",
    "        세부.관리사무소연락처,\n",
    "        세부.관리사무소팩스,\n",
    "        세부.홈페이지주소,\n",
    "        세부.단지분류,\n",
    "        세부.일반관리방식,\n",
    "        세부.일반관리인원,\n",
    "        세부.일반관리계약업체,\n",
    "        세부.경비관리방식,\n",
    "        세부.경비관리인원,\n",
    "        세부.경비관리계약업체,\n",
    "        세부.청소관리방식,\n",
    "        세부.청소관리인원,\n",
    "        세부.음식물처리방법,\n",
    "        세부.소독관리방식,\n",
    "        세부.연간소독횟수,\n",
    "        세부.소독방법,\n",
    "        세부.건물구조,\n",
    "        세부.세대전기계약방식,\n",
    "        세부.화재수신반방식,\n",
    "        세부.승강기관리형태,\n",
    "        세부.지상주차장대수,\n",
    "        세부.지하주차장대수,\n",
    "        세부.cctv대수,\n",
    "        세부.부대복리시설,\n",
    "        세부.수전용량,\n",
    "        세부.전기안전관리자법정선임여부,\n",
    "        세부.급수방식,\n",
    "        \"\",\n",
    "        \"\",\n",
    "        \"\",\n",
    "        세부.주차관제홈네트워크,\n",
    "        세부.버스정류장,\n",
    "        세부.편의시설,\n",
    "        세부.교육시설,\n",
    "        세부.복도유형,\n",
    "        세부.사용승인일,\n",
    "        세부.주거전용면적,\n",
    "        세부.인근지하철역,\n",
    "        세부.인근지하철호선,\n",
    "        세부.지하철까지시간,\n",
    "    )\n",
    "    }else if(len(apt.세대정보) ==4 &&  len(apt.주소정보) ==1){\n",
    "        \n",
    "        세대1 := apt.세대정보[0]\n",
    "    세대2 := apt.세대정보[1]\n",
    "    세대3 := apt.세대정보[2]\n",
    "    세대4 := apt.세대정보[3]\n",
    "    주소1 := apt.주소정보[0]\n",
    "\n",
    "    \n",
    "//     _, err = stmt.Exec(int64(bjd[0]), string(bjd[1]))\n",
    "    _, err = stmt.Exec(\n",
    "        세부.아파트코드,\n",
    "        매치.마을코드,\n",
    "        주소1.법정동주소,\n",
    "        \"\",\n",
    "        세대1.세대수+세대2.세대수+세대3.세대수+세대4.세대수,\n",
    "        세대1.세대수,\n",
    "        세대2.세대수,\n",
    "        세대3.세대수,\n",
    "        세대4.세대수,\n",
    "        세대1.아파트코드,\n",
    "        세대2.아파트코드,\n",
    "        세대3.아파트코드,\n",
    "        세대4.아파트코드,\n",
    "        세부.아파트이름,\n",
    "        세부.분양형태,\n",
    "        세부.난방방식,\n",
    "        세부.연면적,\n",
    "        세부.동수,\n",
    "        세부.시공사,\n",
    "        세부.시행사,\n",
    "        세부.관리사무소연락처,\n",
    "        세부.관리사무소팩스,\n",
    "        세부.홈페이지주소,\n",
    "        세부.단지분류,\n",
    "        세부.일반관리방식,\n",
    "        세부.일반관리인원,\n",
    "        세부.일반관리계약업체,\n",
    "        세부.경비관리방식,\n",
    "        세부.경비관리인원,\n",
    "        세부.경비관리계약업체,\n",
    "        세부.청소관리방식,\n",
    "        세부.청소관리인원,\n",
    "        세부.음식물처리방법,\n",
    "        세부.소독관리방식,\n",
    "        세부.연간소독횟수,\n",
    "        세부.소독방법,\n",
    "        세부.건물구조,\n",
    "        세부.세대전기계약방식,\n",
    "        세부.화재수신반방식,\n",
    "        세부.승강기관리형태,\n",
    "        세부.지상주차장대수,\n",
    "        세부.지하주차장대수,\n",
    "        세부.cctv대수,\n",
    "        세부.부대복리시설,\n",
    "        세부.수전용량,\n",
    "        세부.전기안전관리자법정선임여부,\n",
    "        세부.급수방식,\n",
    "        \"\",\n",
    "        \"\",\n",
    "        \"\",\n",
    "        세부.주차관제홈네트워크,\n",
    "        세부.버스정류장,\n",
    "        세부.편의시설,\n",
    "        세부.교육시설,\n",
    "        세부.복도유형,\n",
    "        세부.사용승인일,\n",
    "        세부.주거전용면적,\n",
    "        세부.인근지하철역,\n",
    "        세부.인근지하철호선,\n",
    "        세부.지하철까지시간,\n",
    "    )\n",
    "}else {\n",
    "            _, err = stmt.Exec(\n",
    "        세부.아파트코드,\n",
    "        매치.마을코드,\n",
    "        \"\",\n",
    "        \"\",\n",
    "        0,\n",
    "        0,\n",
    "        0,\n",
    "        0,\n",
    "        0,\n",
    "        \"\",\n",
    "        \"\",\n",
    "        \"\",\n",
    "        \"\",\n",
    "        세부.아파트이름,\n",
    "        세부.분양형태,\n",
    "        세부.난방방식,\n",
    "        세부.연면적,\n",
    "        세부.동수,\n",
    "        세부.시공사,\n",
    "        세부.시행사,\n",
    "        세부.관리사무소연락처,\n",
    "        세부.관리사무소팩스,\n",
    "        세부.홈페이지주소,\n",
    "        세부.단지분류,\n",
    "        세부.일반관리방식,\n",
    "        세부.일반관리인원,\n",
    "        세부.일반관리계약업체,\n",
    "        세부.경비관리방식,\n",
    "        세부.경비관리인원,\n",
    "        세부.경비관리계약업체,\n",
    "        세부.청소관리방식,\n",
    "        세부.청소관리인원,\n",
    "        세부.음식물처리방법,\n",
    "        세부.소독관리방식,\n",
    "        세부.연간소독횟수,\n",
    "        세부.소독방법,\n",
    "        세부.건물구조,\n",
    "        세부.세대전기계약방식,\n",
    "        세부.화재수신반방식,\n",
    "        세부.승강기관리형태,\n",
    "        세부.지상주차장대수,\n",
    "        세부.지하주차장대수,\n",
    "        세부.cctv대수,\n",
    "        세부.부대복리시설,\n",
    "        세부.수전용량,\n",
    "        세부.전기안전관리자법정선임여부,\n",
    "        세부.급수방식,\n",
    "        \"\",\n",
    "        \"\",\n",
    "        \"\",\n",
    "        세부.주차관제홈네트워크,\n",
    "        세부.버스정류장,\n",
    "        세부.편의시설,\n",
    "        세부.교육시설,\n",
    "        세부.복도유형,\n",
    "        세부.사용승인일,\n",
    "        세부.주거전용면적,\n",
    "        세부.인근지하철역,\n",
    "        세부.인근지하철호선,\n",
    "        세부.지하철까지시간,\n",
    "    )\n",
    "    }\n",
    "        \n",
    "\tif err != nil {\n",
    "\t\tlog.Println(err)\n",
    "\t}\n",
    "}\n",
    "\n",
    "_, err = stmt.Exec()\n",
    "if err != nil {\n",
    "\tfmt.Println(err)\n",
    "}\n",
    "\n",
    "err = stmt.Close()\n",
    "if err != nil {\n",
    "\tfmt.Println(err)\n",
    "}\n",
    "\n",
    "err = txn.Commit()\n",
    "if err != nil {\n",
    "\tfmt.Println(err)\n",
    "}\n",
    "    \n",
    "}\n",
    "\n",
    "writeAptInfo(aptDetailInfo)"
   ]
  },
  {
   "cell_type": "code",
   "execution_count": 25,
   "metadata": {
    "ExecuteTime": {
     "end_time": "Z",
     "start_time": "2018-03-22T07:15:07.459Z"
    }
   },
   "outputs": [
    {
     "name": "stderr",
     "output_type": "stream",
     "text": [
      "# /tmp/go-build925817822/libgithub.com-yunabe-lgo-sess7b2274696d65223a313532313730303736353436363735393230317d-exec25.so\n",
      "github.com/yunabe/lgo/sess7b2274696d65223a313532313730303736353436363735393230317d/exec25.lgo_init: missing section for relocation target type.sz/KTjha\n",
      "github.com/yunabe/lgo/sess7b2274696d65223a313532313730303736353436363735393230317d/exec25.lgo_init: reloc 26 to non-elf symbol type.sz/KTjha (outer=type.sz/KTjha) 0\n",
      "github.com/yunabe/lgo/sess7b2274696d65223a313532313730303736353436363735393230317d/exec25.lgo_init: undefined: \"type.sz/KTjha\"\n",
      "Failed to build a shared library of github.com/yunabe/lgo/sess7b2274696d65223a313532313730303736353436363735393230317d/exec25: exit status 2\n"
     ]
    }
   ],
   "source": [
    "import (\n",
    "    \"reflect\"\n",
    "    \"fmt\"\n",
    "    \"log\"\n",
    "    \"os\"\n",
    "    \"github.com/kniren/gota/dataframe\"\n",
    "    \"github.com/kniren/gota/series\"   \n",
    ")\n",
    "reflect.TypeOf(x)\n",
    "\n",
    "df := dataframe.LoadStructs(x[0].세대정보)\n",
    "fmt.Println(df)"
   ]
  },
  {
   "cell_type": "code",
   "execution_count": null,
   "metadata": {},
   "outputs": [],
   "source": []
  }
 ],
 "metadata": {
  "celltoolbar": "Initialization Cell",
  "hide_input": false,
  "kernelspec": {
   "display_name": "Go (lgo)",
   "language": "go",
   "name": "lgo"
  },
  "language_info": {
   "file_extension": "",
   "mimetype": "",
   "name": "go",
   "version": ""
  },
  "latex_envs": {
   "LaTeX_envs_menu_present": true,
   "autoclose": false,
   "autocomplete": true,
   "bibliofile": "biblio.bib",
   "cite_by": "apalike",
   "current_citInitial": 1,
   "eqLabelWithNumbers": true,
   "eqNumInitial": 1,
   "hotkeys": {
    "equation": "Ctrl-E",
    "itemize": "Ctrl-I"
   },
   "labels_anchors": false,
   "latex_user_defs": false,
   "report_style_numbering": false,
   "user_envs_cfg": false
  },
  "toc": {
   "nav_menu": {},
   "number_sections": true,
   "sideBar": true,
   "skip_h1_title": false,
   "title_cell": "Table of Contents",
   "title_sidebar": "Contents",
   "toc_cell": false,
   "toc_position": {},
   "toc_section_display": true,
   "toc_window_display": true
  }
 },
 "nbformat": 4,
 "nbformat_minor": 2
}
