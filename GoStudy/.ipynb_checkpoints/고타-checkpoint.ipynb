{
 "cells": [
  {
   "cell_type": "markdown",
   "metadata": {},
   "source": [
    "https://github.com/kniren/gota"
   ]
  },
  {
   "cell_type": "markdown",
   "metadata": {},
   "source": [
    "## 필요 패키지"
   ]
  },
  {
   "cell_type": "code",
   "execution_count": 4,
   "metadata": {},
   "outputs": [],
   "source": [
    "import (\n",
    "    \"fmt\"\n",
    "    \"log\"\n",
    "    \"os\"\n",
    "    \"github.com/kniren/gota/dataframe\"\n",
    "    \"github.com/kniren/gota/series\"   \n",
    ")"
   ]
  },
  {
   "cell_type": "markdown",
   "metadata": {},
   "source": [
    "## 자료 생성"
   ]
  },
  {
   "cell_type": "markdown",
   "metadata": {},
   "source": [
    "### 열별로(series) 타입을 지정하고 값을 넣어 생성한다."
   ]
  },
  {
   "cell_type": "code",
   "execution_count": 7,
   "metadata": {},
   "outputs": [
    {
     "name": "stdout",
     "output_type": "stream",
     "text": [
      "[2x3] DataFrame\n",
      "\n",
      "    열1       열2    열3      \n",
      " 0: ㄱ        1     3.000000\n",
      " 1: ㄴ        2     4.000000\n",
      "    <string> <int> <float> \n",
      "\n",
      "140\n",
      "<nil>\n"
     ]
    }
   ],
   "source": [
    "df := dataframe.New(\n",
    "\tseries.New([]string{\"ㄱ\", \"ㄴ\"}, series.String, \"열1\"),\n",
    "\tseries.New([]int{1, 2}, series.Int, \"열2\"),\n",
    "\tseries.New([]float64{3.0, 4.0}, series.Float, \"열3\"),\n",
    ")\n",
    "\n",
    "fmt.Println(df)"
   ]
  },
  {
   "cell_type": "markdown",
   "metadata": {},
   "source": [
    "### 배열을 사용해 행방향으로 자료 입력"
   ]
  },
  {
   "cell_type": "code",
   "execution_count": 10,
   "metadata": {
    "scrolled": false
   },
   "outputs": [
    {
     "name": "stdout",
     "output_type": "stream",
     "text": [
      "[4x4] DataFrame\n",
      "\n",
      "    가        나     다        라     \n",
      " 0: a        4     5.100000 true  \n",
      " 1: k        5     7.000000 true  \n",
      " 2: k        4     6.000000 true  \n",
      " 3: a        2     7.100000 false \n",
      "    <string> <int> <float>  <bool>\n",
      "\n",
      "236\n",
      "<nil>\n"
     ]
    }
   ],
   "source": [
    "df := dataframe.LoadRecords(\n",
    "    [][]string{\n",
    "        []string{\"가\", \"나\", \"다\", \"라\"},\n",
    "        []string{\"a\", \"4\", \"5.1\", \"true\"},\n",
    "        []string{\"k\", \"5\", \"7.0\", \"true\"},\n",
    "        []string{\"k\", \"4\", \"6.0\", \"true\"},\n",
    "        []string{\"a\", \"2\", \"7.1\", \"false\"},\n",
    "    },\n",
    ")\n",
    "fmt.Println(df)"
   ]
  },
  {
   "cell_type": "markdown",
   "metadata": {},
   "source": [
    "### 구조체에 담아서 행방향으로 자료 입력"
   ]
  },
  {
   "cell_type": "code",
   "execution_count": 16,
   "metadata": {},
   "outputs": [
    {
     "name": "stdout",
     "output_type": "stream",
     "text": [
      "[3x4] DataFrame\n",
      "\n",
      "    Name     Age   Accuracy LgoExport_ignored\n",
      " 0: 아담       17    0.200000 true             \n",
      " 1: 후안       18    0.800000 true             \n",
      " 2: 아나       22    0.500000 true             \n",
      "    <string> <int> <float>  <bool>           \n",
      "\n",
      "260\n",
      "<nil>\n"
     ]
    }
   ],
   "source": [
    "type 사용자 struct {\n",
    "\tName     string\n",
    "\tAge      int\n",
    "\tAccuracy float64\n",
    "    ignored  bool // i소문자는 unexported 된다.\n",
    "}\n",
    "users := []User{\n",
    "\t{\"아담\", 17, 0.2, true},\n",
    "\t{\"후안\", 18, 0.8, true},\n",
    "\t{\"아나\", 22, 0.5, true},\n",
    "}\n",
    "df := dataframe.LoadStructs(users)\n",
    "fmt.Println(df)"
   ]
  },
  {
   "cell_type": "markdown",
   "metadata": {},
   "source": [
    "### 행(배열과 구조체)으로 타입지정하며 입력"
   ]
  },
  {
   "cell_type": "code",
   "execution_count": 18,
   "metadata": {
    "scrolled": true
   },
   "outputs": [
    {
     "name": "stdout",
     "output_type": "stream",
     "text": [
      "[4x4] DataFrame\n",
      "\n",
      "    가        나        다        라     \n",
      " 0: a        4.000000 5.100000 true  \n",
      " 1: k        5.000000 7.000000 true  \n",
      " 2: k        4.000000 6.000000 true  \n",
      " 3: a        2.000000 7.100000 false \n",
      "    <string> <float>  <float>  <bool>\n",
      "\n",
      "254\n",
      "<nil>\n"
     ]
    }
   ],
   "source": [
    "df := dataframe.LoadRecords(\n",
    "    [][]string{\n",
    "        []string{\"가\", \"나\", \"다\", \"라\"},\n",
    "        []string{\"a\", \"4\", \"5.1\", \"true\"},\n",
    "        []string{\"k\", \"5\", \"7.0\", \"true\"},\n",
    "        []string{\"k\", \"4\", \"6.0\", \"true\"},\n",
    "        []string{\"a\", \"2\", \"7.1\", \"false\"},\n",
    "    },\n",
    "    dataframe.DetectTypes(false),\n",
    "    dataframe.DefaultType(series.Float),\n",
    "    dataframe.WithTypes(map[string]series.Type{\n",
    "        \"가\": series.String,\n",
    "        \"라\": series.Bool,\n",
    "    }),\n",
    ")\n",
    "fmt.Println(df)"
   ]
  },
  {
   "cell_type": "markdown",
   "metadata": {},
   "source": [
    "### 맵으로 여러 묶음을 합치기"
   ]
  },
  {
   "cell_type": "code",
   "execution_count": 20,
   "metadata": {
    "scrolled": true
   },
   "outputs": [
    {
     "name": "stdout",
     "output_type": "stream",
     "text": [
      "[2x6] DataFrame\n",
      "\n",
      "    A        B     C      D        가        라       \n",
      " 0:          1     true   0.000000 a        NaN     \n",
      " 1: b        2     true   0.500000          0.200000\n",
      "    <string> <int> <bool> <float>  <string> <float> \n",
      "\n",
      "234\n",
      "<nil>\n"
     ]
    }
   ],
   "source": [
    "df := dataframe.LoadMaps(\n",
    "    []map[string]interface{}{\n",
    "        map[string]interface{}{\n",
    "            \"가\": \"a\",\n",
    "            \"B\": 1,\n",
    "            \"C\": true,\n",
    "            \"D\": 0,\n",
    "        },\n",
    "        map[string]interface{}{\n",
    "            \"A\": \"b\",\n",
    "            \"B\": 2,\n",
    "            \"C\": true,\n",
    "            \"D\": 0.5,\n",
    "            \"라\": 0.2,\n",
    "        },\n",
    "    },\n",
    ")\n",
    "\n",
    "fmt.Println(df)"
   ]
  },
  {
   "cell_type": "markdown",
   "metadata": {},
   "source": [
    "### io.Reader - cvs 형식 문자열 스트링버퍼"
   ]
  },
  {
   "cell_type": "code",
   "execution_count": 22,
   "metadata": {},
   "outputs": [
    {
     "name": "stdout",
     "output_type": "stream",
     "text": [
      "[8x5] DataFrame\n",
      "\n",
      "    Country        Date       Age   Amount     Id   \n",
      " 0: United States  2012-02-01 50    112.100000 1234 \n",
      " 1: United States  2012-02-01 32    321.310000 54320\n",
      " 2: United Kingdom 2012-02-01 17    18.200000  12345\n",
      " 3: United States  2012-02-01 32    321.310000 54320\n",
      " 4: United Kingdom 2012-02-01 NaN   18.200000  12345\n",
      " 5: United States  2012-02-01 32    321.310000 54320\n",
      " 6: United States  2012-02-01 32    321.310000 54320\n",
      " 7: Spain          2012-02-01 66    555.420000 241  \n",
      "    <string>       <string>   <int> <float>    <int>\n",
      "\n",
      "548\n",
      "<nil>\n"
     ]
    }
   ],
   "source": [
    "import \"strings\"\n",
    "\n",
    "csvStr := `\n",
    "Country,Date,Age,Amount,Id\n",
    "\"United States\",2012-02-01,50,112.1,01234\n",
    "\"United States\",2012-02-01,32,321.31,54320\n",
    "\"United Kingdom\",2012-02-01,17,18.2,12345\n",
    "\"United States\",2012-02-01,32,321.31,54320\n",
    "\"United Kingdom\",2012-02-01,NA,18.2,12345\n",
    "\"United States\",2012-02-01,32,321.31,54320\n",
    "\"United States\",2012-02-01,32,321.31,54320\n",
    "Spain,2012-02-01,66,555.42,00241\n",
    "`\n",
    "df := dataframe.ReadCSV(strings.NewReader(csvStr))\n",
    "\n",
    "fmt.Println(df)"
   ]
  },
  {
   "cell_type": "markdown",
   "metadata": {},
   "source": [
    "### io.Reader - json 형식 문자열 스트링버퍼"
   ]
  },
  {
   "cell_type": "code",
   "execution_count": 24,
   "metadata": {},
   "outputs": [
    {
     "name": "stdout",
     "output_type": "stream",
     "text": [
      "[3x3] DataFrame\n",
      "\n",
      "    COL.1 COL.2 COL.3\n",
      " 0: NaN   1     3    \n",
      " 1: 5     2     2    \n",
      " 2: 6     3     1    \n",
      "    <int> <int> <int>\n",
      "\n",
      "128\n",
      "<nil>\n"
     ]
    }
   ],
   "source": [
    "import \"strings\"\n",
    "jsonStr := `[{\"COL.2\":1,\"COL.3\":3},{\"COL.1\":5,\"COL.2\":2,\"COL.3\":2},{\"COL.1\":6,\"COL.2\":3,\"COL.3\":1}]`\n",
    "df := dataframe.ReadJSON(strings.NewReader(jsonStr))\n",
    "fmt.Println(df)"
   ]
  },
  {
   "cell_type": "markdown",
   "metadata": {},
   "source": [
    "## 자료 선택 "
   ]
  },
  {
   "cell_type": "markdown",
   "metadata": {},
   "source": [
    "### 행 - 서브셋 하위묶음 "
   ]
  },
  {
   "cell_type": "code",
   "execution_count": 27,
   "metadata": {},
   "outputs": [
    {
     "name": "stdout",
     "output_type": "stream",
     "text": [
      "[2x4] DataFrame\n",
      "\n",
      "    가        나     다        라     \n",
      " 0: a        4     5.100000 true  \n",
      " 1: a        2     7.100000 false \n",
      "    <string> <int> <float>  <bool>\n",
      "165\n",
      "<nil>\n"
     ]
    }
   ],
   "source": [
    "df := dataframe.LoadRecords(\n",
    "    [][]string{\n",
    "        []string{\"가\", \"나\", \"다\", \"라\"},\n",
    "        []string{\"a\", \"4\", \"5.1\", \"true\"},\n",
    "        []string{\"k\", \"5\", \"7.0\", \"true\"},\n",
    "        []string{\"k\", \"4\", \"6.0\", \"true\"},\n",
    "        []string{\"a\", \"2\", \"7.1\", \"false\"},\n",
    "    },\n",
    ")\n",
    "\n",
    "sub := df.Subset([]int{0,3})\n",
    "\n",
    "fmt.Print(sub)"
   ]
  },
  {
   "cell_type": "code",
   "execution_count": 1,
   "metadata": {},
   "outputs": [
    {
     "name": "stderr",
     "output_type": "stream",
     "text": [
      "2:8: undeclared name: df\n",
      "3:5: undeclared name: series\n",
      "3:46: undeclared name: series\n",
      "6:9: undeclared name: df\n",
      "7:5: undeclared name: series (and 3 more errors)\n"
     ]
    }
   ],
   "source": [
    "// Change column C with a new one\n",
    "mut := df.Mutate(\n",
    "    series.New([]string{\"a\", \"b\", \"c\", \"d\"}, series.String, \"C\"),\n",
    ")\n",
    "// Add a new column E\n",
    "mut2 := df.Mutate(\n",
    "    series.New([]string{\"a\", \"b\", \"c\", \"d\"}, series.String, \"E\"),\n",
    ")\n",
    "fmt.Println(mut)\n",
    "fmt.Println(mut2)"
   ]
  },
  {
   "cell_type": "code",
   "execution_count": null,
   "metadata": {},
   "outputs": [],
   "source": []
  }
 ],
 "metadata": {
  "hide_input": false,
  "kernelspec": {
   "display_name": "Go (lgo)",
   "language": "go",
   "name": "lgo"
  },
  "language_info": {
   "file_extension": "",
   "mimetype": "",
   "name": "go",
   "version": ""
  },
  "latex_envs": {
   "LaTeX_envs_menu_present": true,
   "autoclose": false,
   "autocomplete": true,
   "bibliofile": "biblio.bib",
   "cite_by": "apalike",
   "current_citInitial": 1,
   "eqLabelWithNumbers": true,
   "eqNumInitial": 1,
   "hotkeys": {
    "equation": "Ctrl-E",
    "itemize": "Ctrl-I"
   },
   "labels_anchors": false,
   "latex_user_defs": false,
   "report_style_numbering": false,
   "user_envs_cfg": false
  },
  "toc": {
   "nav_menu": {},
   "number_sections": true,
   "sideBar": true,
   "skip_h1_title": false,
   "title_cell": "Table of Contents",
   "title_sidebar": "Contents",
   "toc_cell": false,
   "toc_position": {},
   "toc_section_display": true,
   "toc_window_display": false
  }
 },
 "nbformat": 4,
 "nbformat_minor": 2
}
