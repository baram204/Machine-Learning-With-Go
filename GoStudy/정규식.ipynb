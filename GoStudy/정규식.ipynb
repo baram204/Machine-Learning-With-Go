{
 "cells": [
  {
   "cell_type": "code",
   "execution_count": 1,
   "metadata": {
    "ExecuteTime": {
     "end_time": "Z",
     "start_time": "2018-03-12T18:23:11.423Z"
    }
   },
   "outputs": [],
   "source": [
    "import \"bytes\"\n",
    "import \"fmt\"\n",
    "import \"regexp\""
   ]
  },
  {
   "cell_type": "markdown",
   "metadata": {},
   "source": [
    " regexp 쓰려면 반드시 컴파일과 최적화가 되어야 한다.\n",
    " 아래는 직접 쓴 것."
   ]
  },
  {
   "cell_type": "code",
   "execution_count": 2,
   "metadata": {
    "ExecuteTime": {
     "end_time": "Z",
     "start_time": "2018-03-12T18:23:18.454Z"
    }
   },
   "outputs": [
    {
     "name": "stdout",
     "output_type": "stream",
     "text": [
      "true\n",
      "5\n",
      "<nil>\n"
     ]
    }
   ],
   "source": [
    "match, _ := regexp.MatchString(\"p([a-z]+)ch\", \"peach\")\n",
    "    fmt.Println(match)"
   ]
  },
  {
   "cell_type": "markdown",
   "metadata": {},
   "source": [
    "아래는 컴파일을 하고"
   ]
  },
  {
   "cell_type": "code",
   "execution_count": 3,
   "metadata": {
    "ExecuteTime": {
     "end_time": "Z",
     "start_time": "2018-03-12T18:23:43.718Z"
    }
   },
   "outputs": [],
   "source": [
    "r, _ := regexp.Compile(\"p([a-z]+)ch\")"
   ]
  },
  {
   "cell_type": "markdown",
   "metadata": {},
   "source": [
    "주어진 문자열이 패턴에 매치되냐고 물음"
   ]
  },
  {
   "cell_type": "code",
   "execution_count": 4,
   "metadata": {
    "ExecuteTime": {
     "end_time": "Z",
     "start_time": "2018-03-12T18:24:03.798Z"
    }
   },
   "outputs": [
    {
     "name": "stdout",
     "output_type": "stream",
     "text": [
      "true\n",
      "5\n",
      "<nil>\n"
     ]
    }
   ],
   "source": [
    "fmt.Println(r.MatchString(\"peach\"))"
   ]
  },
  {
   "cell_type": "markdown",
   "metadata": {},
   "source": [
    "주어진 문자열에서 패턴에 맞는 문자열을 찾음"
   ]
  },
  {
   "cell_type": "code",
   "execution_count": 5,
   "metadata": {
    "ExecuteTime": {
     "end_time": "Z",
     "start_time": "2018-03-12T18:24:11.414Z"
    }
   },
   "outputs": [
    {
     "name": "stdout",
     "output_type": "stream",
     "text": [
      "peach\n",
      "6\n",
      "<nil>\n"
     ]
    }
   ],
   "source": [
    "fmt.Println(r.FindString(\"peach punch\"))"
   ]
  },
  {
   "cell_type": "markdown",
   "metadata": {},
   "source": [
    "주어진 문자열에서 패턴에 맞는 첫 문자열의 시작과 끝 인덱스를 찾기"
   ]
  },
  {
   "cell_type": "code",
   "execution_count": 6,
   "metadata": {
    "ExecuteTime": {
     "end_time": "Z",
     "start_time": "2018-03-12T18:24:17.536Z"
    }
   },
   "outputs": [
    {
     "name": "stdout",
     "output_type": "stream",
     "text": [
      "[0 5]\n",
      "6\n",
      "<nil>\n"
     ]
    }
   ],
   "source": [
    "fmt.Println(r.FindStringIndex(\"peach punch\"))"
   ]
  },
  {
   "cell_type": "markdown",
   "metadata": {},
   "source": [
    "주어진 문자열에서 전체 매치 패턴과 사용된 서브 패턴에 맞는 문자열을 찾는다.\n",
    "\n",
    "- 전체 p([a-z]+)ch = peach\n",
    "- 서브 ([a-z]+) => ea"
   ]
  },
  {
   "cell_type": "code",
   "execution_count": 7,
   "metadata": {
    "ExecuteTime": {
     "end_time": "Z",
     "start_time": "2018-03-12T18:24:41.582Z"
    }
   },
   "outputs": [
    {
     "name": "stdout",
     "output_type": "stream",
     "text": [
      "[peach ea]\n",
      "11\n",
      "<nil>\n"
     ]
    }
   ],
   "source": [
    "fmt.Println(r.FindStringSubmatch(\"peach punch\"))"
   ]
  },
  {
   "cell_type": "markdown",
   "metadata": {},
   "source": [
    "주어진 문자열에서 전체 매치 패턴과 사용된 서브 패턴에 맞는 문자열의 인덱스를 찾는다.\n",
    "\n",
    "- 전체 p([a-z]+)ch = 0(1 2 3)5\n",
    "- 서브 ([a-z]+) => 1 2 3\n",
    "\n",
    "첫문자열만 해당되기에 뒤에있는 punch 는 처리가 안 된다."
   ]
  },
  {
   "cell_type": "code",
   "execution_count": 8,
   "metadata": {
    "ExecuteTime": {
     "end_time": "Z",
     "start_time": "2018-03-12T18:25:11.575Z"
    }
   },
   "outputs": [
    {
     "name": "stdout",
     "output_type": "stream",
     "text": [
      "[0 5 1 3]\n",
      "10\n",
      "<nil>\n"
     ]
    }
   ],
   "source": [
    "fmt.Println(r.FindStringSubmatchIndex(\"peach punch\"))"
   ]
  },
  {
   "cell_type": "markdown",
   "metadata": {},
   "source": [
    "주어진 문자열에서 패턴에 맞는 모든 문자열을 찾는다. \n",
    "\n",
    "위에서는 첫문자열만 찾아서 반환한다."
   ]
  },
  {
   "cell_type": "code",
   "execution_count": 9,
   "metadata": {
    "ExecuteTime": {
     "end_time": "Z",
     "start_time": "2018-03-12T18:25:17.679Z"
    }
   },
   "outputs": [
    {
     "name": "stdout",
     "output_type": "stream",
     "text": [
      "[peach punch pinch]\n",
      "20\n",
      "<nil>\n"
     ]
    }
   ],
   "source": [
    " fmt.Println(r.FindAllString(\"peach punch pinch\", -1))"
   ]
  },
  {
   "cell_type": "markdown",
   "metadata": {},
   "source": [
    "주어진 문자열에서 패턴에 맞는 모든 문자열과 서브 패턴에 맞는 모든 문자열의 인덱스를 찾는다."
   ]
  },
  {
   "cell_type": "code",
   "execution_count": 10,
   "metadata": {
    "ExecuteTime": {
     "end_time": "Z",
     "start_time": "2018-03-12T18:25:23.870Z"
    }
   },
   "outputs": [
    {
     "name": "stdout",
     "output_type": "stream",
     "text": [
      "[[0 5 1 3] [6 11 7 9] [12 17 13 15]]\n",
      "37\n",
      "<nil>\n"
     ]
    }
   ],
   "source": [
    " fmt.Println(r.FindAllStringSubmatchIndex(\n",
    "        \"peach punch pinch\", -1))"
   ]
  },
  {
   "cell_type": "markdown",
   "metadata": {},
   "source": [
    "두 번째 인자에 음수가 아닌 수를 주면, 매칭할 개수를 제한한다.\n",
    "\n",
    "아래는 두 개만 찾는다."
   ]
  },
  {
   "cell_type": "code",
   "execution_count": 11,
   "metadata": {
    "ExecuteTime": {
     "end_time": "Z",
     "start_time": "2018-03-12T18:25:29.750Z"
    }
   },
   "outputs": [
    {
     "name": "stdout",
     "output_type": "stream",
     "text": [
      "[peach punch]\n",
      "14\n",
      "<nil>\n"
     ]
    }
   ],
   "source": [
    "fmt.Println(r.FindAllString(\"peach punch pinch\", 2))"
   ]
  },
  {
   "cell_type": "markdown",
   "metadata": {},
   "source": [
    "문자열 뿐 아니라 바이트에 대해서도 패턴 매치 할 수 있다."
   ]
  },
  {
   "cell_type": "code",
   "execution_count": 12,
   "metadata": {
    "ExecuteTime": {
     "end_time": "Z",
     "start_time": "2018-03-12T18:25:34.367Z"
    }
   },
   "outputs": [
    {
     "name": "stdout",
     "output_type": "stream",
     "text": [
      "true\n",
      "5\n",
      "<nil>\n"
     ]
    }
   ],
   "source": [
    " fmt.Println(r.Match([]byte(\"peach\")))"
   ]
  },
  {
   "cell_type": "markdown",
   "metadata": {},
   "source": [
    "매칭 패턴 상수를 만들려먼 컴파일이 아닌 머스트컴파일 함수를 사용한다.\n",
    "\n",
    "왜냐면 아래처럼 컴파일 하면 결과값이 두개이기 때문에 상수를 만드는데 에로사항이 있기 때문이다.\n",
    "```\n",
    "r, _ := regexp.Compile(\"p([a-z]+)ch\")\n",
    "```"
   ]
  },
  {
   "cell_type": "code",
   "execution_count": 13,
   "metadata": {
    "ExecuteTime": {
     "end_time": "Z",
     "start_time": "2018-03-12T18:25:39.374Z"
    }
   },
   "outputs": [
    {
     "name": "stdout",
     "output_type": "stream",
     "text": [
      "p([a-z]+)ch\n",
      "12\n",
      "<nil>\n"
     ]
    }
   ],
   "source": [
    "r = regexp.MustCompile(\"p([a-z]+)ch\")\n",
    "    fmt.Println(r)"
   ]
  },
  {
   "cell_type": "markdown",
   "metadata": {},
   "source": [
    "주어진 문자열에서 매칭되는 문자열을 찾아서 주어진 또다른 문자열로 치환한 하위묶음을 반환한다."
   ]
  },
  {
   "cell_type": "code",
   "execution_count": 14,
   "metadata": {
    "ExecuteTime": {
     "end_time": "Z",
     "start_time": "2018-03-12T18:25:46.758Z"
    }
   },
   "outputs": [
    {
     "name": "stdout",
     "output_type": "stream",
     "text": [
      "a <fruit>\n",
      "10\n",
      "<nil>\n"
     ]
    }
   ],
   "source": [
    "fmt.Println(r.ReplaceAllString(\"a peach\", \"<fruit>\"))"
   ]
  },
  {
   "cell_type": "markdown",
   "metadata": {},
   "source": [
    "Func 변수명은 주어진 함수로 치환할 수 있게 한다."
   ]
  },
  {
   "cell_type": "code",
   "execution_count": 15,
   "metadata": {
    "ExecuteTime": {
     "end_time": "Z",
     "start_time": "2018-03-12T18:25:53.255Z"
    }
   },
   "outputs": [
    {
     "name": "stdout",
     "output_type": "stream",
     "text": [
      "a PEACH\n",
      "8\n",
      "<nil>\n"
     ]
    }
   ],
   "source": [
    "in := []byte(\"a peach\")\n",
    "    out := r.ReplaceAllFunc(in, bytes.ToUpper)\n",
    "    fmt.Println(string(out))"
   ]
  },
  {
   "cell_type": "code",
   "execution_count": null,
   "metadata": {},
   "outputs": [],
   "source": []
  }
 ],
 "metadata": {
  "hide_input": false,
  "kernelspec": {
   "display_name": "Go (lgo)",
   "language": "go",
   "name": "lgo"
  },
  "language_info": {
   "file_extension": "",
   "mimetype": "",
   "name": "go",
   "version": ""
  },
  "latex_envs": {
   "LaTeX_envs_menu_present": true,
   "autoclose": false,
   "autocomplete": true,
   "bibliofile": "biblio.bib",
   "cite_by": "apalike",
   "current_citInitial": 1,
   "eqLabelWithNumbers": true,
   "eqNumInitial": 1,
   "hotkeys": {
    "equation": "Ctrl-E",
    "itemize": "Ctrl-I"
   },
   "labels_anchors": false,
   "latex_user_defs": false,
   "report_style_numbering": false,
   "user_envs_cfg": false
  },
  "toc": {
   "nav_menu": {},
   "number_sections": true,
   "sideBar": true,
   "skip_h1_title": false,
   "title_cell": "Table of Contents",
   "title_sidebar": "Contents",
   "toc_cell": false,
   "toc_position": {},
   "toc_section_display": true,
   "toc_window_display": false
  }
 },
 "nbformat": 4,
 "nbformat_minor": 2
}
