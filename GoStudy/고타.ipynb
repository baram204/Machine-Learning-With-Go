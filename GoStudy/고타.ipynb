{
 "cells": [
  {
   "cell_type": "code",
   "execution_count": null,
   "metadata": {},
   "outputs": [],
   "source": [
    "df := dataframe.LoadRecords(\n",
    "    [][]string{\n",
    "        []string{\"A\", \"B\", \"C\", \"D\"},\n",
    "        []string{\"a\", \"4\", \"5.1\", \"true\"},\n",
    "        []string{\"k\", \"5\", \"7.0\", \"true\"},\n",
    "        []string{\"k\", \"4\", \"6.0\", \"true\"},\n",
    "        []string{\"a\", \"2\", \"7.1\", \"false\"},\n",
    "    },\n",
    ")\n",
    "df2 := df.Set(\n",
    "    series.Ints([]int{0, 2}),\n",
    "    dataframe.LoadRecords(\n",
    "        [][]string{\n",
    "            []string{\"A\", \"B\", \"C\", \"D\"},\n",
    "            []string{\"b\", \"4\", \"6.0\", \"true\"},\n",
    "            []string{\"c\", \"3\", \"6.0\", \"false\"},\n",
    "        },\n",
    "    ),\n",
    ")\n",
    "fmt.Println(df2)"
   ]
  }
 ],
 "metadata": {
  "hide_input": false,
  "kernelspec": {
   "display_name": "Go (lgo)",
   "language": "go",
   "name": "lgo"
  },
  "language_info": {
   "file_extension": "",
   "mimetype": "",
   "name": "go",
   "version": ""
  },
  "latex_envs": {
   "LaTeX_envs_menu_present": true,
   "autoclose": false,
   "autocomplete": true,
   "bibliofile": "biblio.bib",
   "cite_by": "apalike",
   "current_citInitial": 1,
   "eqLabelWithNumbers": true,
   "eqNumInitial": 1,
   "hotkeys": {
    "equation": "Ctrl-E",
    "itemize": "Ctrl-I"
   },
   "labels_anchors": false,
   "latex_user_defs": false,
   "report_style_numbering": false,
   "user_envs_cfg": false
  },
  "toc": {
   "nav_menu": {},
   "number_sections": true,
   "sideBar": true,
   "skip_h1_title": false,
   "title_cell": "Table of Contents",
   "title_sidebar": "Contents",
   "toc_cell": false,
   "toc_position": {},
   "toc_section_display": true,
   "toc_window_display": false
  }
 },
 "nbformat": 4,
 "nbformat_minor": 2
}
