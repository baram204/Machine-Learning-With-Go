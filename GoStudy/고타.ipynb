{
 "cells": [
  {
   "cell_type": "markdown",
   "metadata": {},
   "source": [
    "# GOTA API 예시"
   ]
  },
  {
   "cell_type": "markdown",
   "metadata": {},
   "source": [
    "https://github.com/kniren/gota"
   ]
  },
  {
   "cell_type": "markdown",
   "metadata": {},
   "source": [
    "## 필요 패키지"
   ]
  },
  {
   "cell_type": "code",
   "execution_count": 2,
   "metadata": {
    "ExecuteTime": {
     "end_time": "Z",
     "start_time": "2018-03-14T04:41:45.132Z"
    }
   },
   "outputs": [],
   "source": [
    "import (\n",
    "    \"fmt\"\n",
    "    \"log\"\n",
    "    \"os\"\n",
    "    \"github.com/kniren/gota/dataframe\"\n",
    "    \"github.com/kniren/gota/series\"   \n",
    ")"
   ]
  },
  {
   "cell_type": "markdown",
   "metadata": {},
   "source": [
    "## 자료 생성"
   ]
  },
  {
   "cell_type": "markdown",
   "metadata": {},
   "source": [
    "### 열별로(series) 타입을 지정하고 값을 넣어 생성한다."
   ]
  },
  {
   "cell_type": "code",
   "execution_count": 7,
   "metadata": {},
   "outputs": [
    {
     "name": "stdout",
     "output_type": "stream",
     "text": [
      "[2x3] DataFrame\n",
      "\n",
      "    열1       열2    열3      \n",
      " 0: ㄱ        1     3.000000\n",
      " 1: ㄴ        2     4.000000\n",
      "    <string> <int> <float> \n",
      "\n",
      "140\n",
      "<nil>\n"
     ]
    }
   ],
   "source": [
    "df := dataframe.New(\n",
    "\tseries.New([]string{\"ㄱ\", \"ㄴ\"}, series.String, \"열1\"),\n",
    "\tseries.New([]int{1, 2}, series.Int, \"열2\"),\n",
    "\tseries.New([]float64{3.0, 4.0}, series.Float, \"열3\"),\n",
    ")\n",
    "\n",
    "fmt.Println(df)"
   ]
  },
  {
   "cell_type": "markdown",
   "metadata": {},
   "source": [
    "### 배열을 사용해 행방향으로 자료 입력"
   ]
  },
  {
   "cell_type": "code",
   "execution_count": 10,
   "metadata": {},
   "outputs": [
    {
     "name": "stdout",
     "output_type": "stream",
     "text": [
      "[4x4] DataFrame\n",
      "\n",
      "    가        나     다        라     \n",
      " 0: a        4     5.100000 true  \n",
      " 1: k        5     7.000000 true  \n",
      " 2: k        4     6.000000 true  \n",
      " 3: a        2     7.100000 false \n",
      "    <string> <int> <float>  <bool>\n",
      "\n",
      "236\n",
      "<nil>\n"
     ]
    }
   ],
   "source": [
    "df := dataframe.LoadRecords(\n",
    "    [][]string{\n",
    "        []string{\"가\", \"나\", \"다\", \"라\"},\n",
    "        []string{\"a\", \"4\", \"5.1\", \"true\"},\n",
    "        []string{\"k\", \"5\", \"7.0\", \"true\"},\n",
    "        []string{\"k\", \"4\", \"6.0\", \"true\"},\n",
    "        []string{\"a\", \"2\", \"7.1\", \"false\"},\n",
    "    },\n",
    ")\n",
    "fmt.Println(df)"
   ]
  },
  {
   "cell_type": "markdown",
   "metadata": {
    "heading_collapsed": true
   },
   "source": [
    "### 구조체에 담아서 행방향으로 자료 입력"
   ]
  },
  {
   "cell_type": "code",
   "execution_count": 16,
   "metadata": {
    "hidden": true
   },
   "outputs": [
    {
     "name": "stdout",
     "output_type": "stream",
     "text": [
      "[3x4] DataFrame\n",
      "\n",
      "    Name     Age   Accuracy LgoExport_ignored\n",
      " 0: 아담       17    0.200000 true             \n",
      " 1: 후안       18    0.800000 true             \n",
      " 2: 아나       22    0.500000 true             \n",
      "    <string> <int> <float>  <bool>           \n",
      "\n",
      "260\n",
      "<nil>\n"
     ]
    }
   ],
   "source": [
    "type 사용자 struct {\n",
    "\tName     string\n",
    "\tAge      int\n",
    "\tAccuracy float64\n",
    "    ignored  bool // i소문자는 unexported 된다.\n",
    "}\n",
    "users := []User{\n",
    "\t{\"아담\", 17, 0.2, true},\n",
    "\t{\"후안\", 18, 0.8, true},\n",
    "\t{\"아나\", 22, 0.5, true},\n",
    "}\n",
    "df := dataframe.LoadStructs(users)\n",
    "fmt.Println(df)"
   ]
  },
  {
   "cell_type": "markdown",
   "metadata": {},
   "source": [
    "### 행(배열과 구조체)으로 타입지정하며 입력"
   ]
  },
  {
   "cell_type": "markdown",
   "metadata": {},
   "source": [
    "불러오기 옵션 https://godoc.org/github.com/kniren/gota/dataframe#LoadOption"
   ]
  },
  {
   "cell_type": "code",
   "execution_count": 18,
   "metadata": {
    "scrolled": true
   },
   "outputs": [
    {
     "name": "stdout",
     "output_type": "stream",
     "text": [
      "[4x4] DataFrame\n",
      "\n",
      "    가        나        다        라     \n",
      " 0: a        4.000000 5.100000 true  \n",
      " 1: k        5.000000 7.000000 true  \n",
      " 2: k        4.000000 6.000000 true  \n",
      " 3: a        2.000000 7.100000 false \n",
      "    <string> <float>  <float>  <bool>\n",
      "\n",
      "254\n",
      "<nil>\n"
     ]
    }
   ],
   "source": [
    "df := dataframe.LoadRecords(\n",
    "    [][]string{\n",
    "        []string{\"가\", \"나\", \"다\", \"라\"},\n",
    "        []string{\"a\", \"4\", \"5.1\", \"true\"},\n",
    "        []string{\"k\", \"5\", \"7.0\", \"true\"},\n",
    "        []string{\"k\", \"4\", \"6.0\", \"true\"},\n",
    "        []string{\"a\", \"2\", \"7.1\", \"false\"},\n",
    "    },\n",
    "    dataframe.DetectTypes(false),\n",
    "    dataframe.DefaultType(series.Float),\n",
    "    dataframe.WithTypes(map[string]series.Type{\n",
    "        \"가\": series.String,\n",
    "        \"라\": series.Bool,\n",
    "    }),\n",
    ")\n",
    "fmt.Println(df)"
   ]
  },
  {
   "cell_type": "markdown",
   "metadata": {},
   "source": [
    "### 행 불러오기 옵션"
   ]
  },
  {
   "cell_type": "markdown",
   "metadata": {},
   "source": [
    "https://godoc.org/github.com/kniren/gota/dataframe#LoadOption\n",
    "\n",
    "func DefaultType(t series.Type) LoadOption\n",
    "DefaultType sets the defaultType option for loadOptions.\n",
    "\n",
    "func DetectTypes(b bool) LoadOption\n",
    "DetectTypes sets the detectTypes option for loadOptions.\n",
    "\n",
    "func HasHeader(b bool) LoadOption\n",
    "HasHeader sets the hasHeader option for loadOptions.\n",
    "\n",
    "func NaNValues(nanValues []string) LoadOption\n",
    "NaNValues sets the nanValues option for loadOptions.\n",
    "\n",
    "func Names(names ...string) LoadOption\n",
    "Names sets the names option for loadOptions.\n",
    "\n",
    "func WithDelimiter(b rune) LoadOption\n",
    "WithDelimiter sets the csv delimiter other than ',', for example '\\t'\n",
    "\n",
    "func WithTypes(coltypes map[string]series.Type) LoadOption"
   ]
  },
  {
   "cell_type": "markdown",
   "metadata": {},
   "source": [
    "### 맵으로 여러 묶음을 합치기"
   ]
  },
  {
   "cell_type": "code",
   "execution_count": 20,
   "metadata": {},
   "outputs": [
    {
     "name": "stdout",
     "output_type": "stream",
     "text": [
      "[2x6] DataFrame\n",
      "\n",
      "    A        B     C      D        가        라       \n",
      " 0:          1     true   0.000000 a        NaN     \n",
      " 1: b        2     true   0.500000          0.200000\n",
      "    <string> <int> <bool> <float>  <string> <float> \n",
      "\n",
      "234\n",
      "<nil>\n"
     ]
    }
   ],
   "source": [
    "df := dataframe.LoadMaps(\n",
    "    []map[string]interface{}{\n",
    "        map[string]interface{}{\n",
    "            \"가\": \"a\",\n",
    "            \"B\": 1,\n",
    "            \"C\": true,\n",
    "            \"D\": 0,\n",
    "        },\n",
    "        map[string]interface{}{\n",
    "            \"A\": \"b\",\n",
    "            \"B\": 2,\n",
    "            \"C\": true,\n",
    "            \"D\": 0.5,\n",
    "            \"라\": 0.2,\n",
    "        },\n",
    "    },\n",
    ")\n",
    "\n",
    "fmt.Println(df)"
   ]
  },
  {
   "cell_type": "markdown",
   "metadata": {},
   "source": [
    "### 행열자료 불러오기 Matrix"
   ]
  },
  {
   "cell_type": "code",
   "execution_count": 40,
   "metadata": {
    "ExecuteTime": {
     "end_time": "Z",
     "start_time": "2018-03-15T05:41:36.812Z"
    }
   },
   "outputs": [
    {
     "name": "stdout",
     "output_type": "stream",
     "text": [
      "[2x2] DataFrame\n",
      "\n",
      "    X0        X1       \n",
      " 0: 1.200000  -5.700000\n",
      " 1: -2.400000 7.300000 \n",
      "    <float>   <float>  \n",
      "\n",
      "114\n",
      "<nil>\n"
     ]
    }
   ],
   "source": [
    "import\t\"github.com/gonum/matrix/mat64\"\n",
    "\n",
    "data := []float64{1.2, -5.7, -2.4, 7.3}\n",
    "\n",
    "// 2 by 2 matrix\n",
    "a := mat64.NewDense(2, 2, data)\n",
    "\n",
    "df := dataframe.LoadMatrix(a)\n",
    "\n",
    "fmt.Println(df)"
   ]
  },
  {
   "cell_type": "markdown",
   "metadata": {},
   "source": [
    "### io.Reader - cvs 형식 문자열 스트링버퍼"
   ]
  },
  {
   "cell_type": "code",
   "execution_count": 22,
   "metadata": {},
   "outputs": [
    {
     "name": "stdout",
     "output_type": "stream",
     "text": [
      "[8x5] DataFrame\n",
      "\n",
      "    Country        Date       Age   Amount     Id   \n",
      " 0: United States  2012-02-01 50    112.100000 1234 \n",
      " 1: United States  2012-02-01 32    321.310000 54320\n",
      " 2: United Kingdom 2012-02-01 17    18.200000  12345\n",
      " 3: United States  2012-02-01 32    321.310000 54320\n",
      " 4: United Kingdom 2012-02-01 NaN   18.200000  12345\n",
      " 5: United States  2012-02-01 32    321.310000 54320\n",
      " 6: United States  2012-02-01 32    321.310000 54320\n",
      " 7: Spain          2012-02-01 66    555.420000 241  \n",
      "    <string>       <string>   <int> <float>    <int>\n",
      "\n",
      "548\n",
      "<nil>\n"
     ]
    }
   ],
   "source": [
    "import \"strings\"\n",
    "\n",
    "csvStr := `\n",
    "Country,Date,Age,Amount,Id\n",
    "\"United States\",2012-02-01,50,112.1,01234\n",
    "\"United States\",2012-02-01,32,321.31,54320\n",
    "\"United Kingdom\",2012-02-01,17,18.2,12345\n",
    "\"United States\",2012-02-01,32,321.31,54320\n",
    "\"United Kingdom\",2012-02-01,NA,18.2,12345\n",
    "\"United States\",2012-02-01,32,321.31,54320\n",
    "\"United States\",2012-02-01,32,321.31,54320\n",
    "Spain,2012-02-01,66,555.42,00241\n",
    "`\n",
    "df := dataframe.ReadCSV(strings.NewReader(csvStr))\n",
    "\n",
    "fmt.Println(df)"
   ]
  },
  {
   "cell_type": "markdown",
   "metadata": {
    "heading_collapsed": true
   },
   "source": [
    "### io.Reader - json 형식 문자열 스트링버퍼"
   ]
  },
  {
   "cell_type": "code",
   "execution_count": 24,
   "metadata": {
    "hidden": true
   },
   "outputs": [
    {
     "name": "stdout",
     "output_type": "stream",
     "text": [
      "[3x3] DataFrame\n",
      "\n",
      "    COL.1 COL.2 COL.3\n",
      " 0: NaN   1     3    \n",
      " 1: 5     2     2    \n",
      " 2: 6     3     1    \n",
      "    <int> <int> <int>\n",
      "\n",
      "128\n",
      "<nil>\n"
     ]
    }
   ],
   "source": [
    "import \"strings\"\n",
    "jsonStr := `[{\"COL.2\":1,\"COL.3\":3},{\"COL.1\":5,\"COL.2\":2,\"COL.3\":2},{\"COL.1\":6,\"COL.2\":3,\"COL.3\":1}]`\n",
    "df := dataframe.ReadJSON(strings.NewReader(jsonStr))\n",
    "fmt.Println(df)"
   ]
  },
  {
   "cell_type": "markdown",
   "metadata": {},
   "source": [
    "## 자료 선택 "
   ]
  },
  {
   "cell_type": "markdown",
   "metadata": {},
   "source": [
    "### 행 - 서브셋 하위묶음 "
   ]
  },
  {
   "cell_type": "code",
   "execution_count": 4,
   "metadata": {
    "ExecuteTime": {
     "end_time": "Z",
     "start_time": "2018-03-14T02:39:39.419Z"
    }
   },
   "outputs": [
    {
     "name": "stdout",
     "output_type": "stream",
     "text": [
      "[2x4] DataFrame\n",
      "\n",
      "    가        나     다        라     \n",
      " 0: a        4     5.100000 true  \n",
      " 1: a        2     7.100000 false \n",
      "    <string> <int> <float>  <bool>\n",
      "165\n",
      "<nil>\n"
     ]
    }
   ],
   "source": [
    "df := dataframe.LoadRecords(\n",
    "    [][]string{\n",
    "        []string{\"가\", \"나\", \"다\", \"라\"},\n",
    "        []string{\"a\", \"4\", \"5.1\", \"true\"},\n",
    "        []string{\"k\", \"5\", \"7.0\", \"true\"},\n",
    "        []string{\"k\", \"4\", \"6.0\", \"true\"},\n",
    "        []string{\"a\", \"2\", \"7.1\", \"false\"},\n",
    "    },\n",
    ")\n",
    "\n",
    "sub := df.Subset([]int{0,3})\n",
    "\n",
    "fmt.Print(sub)"
   ]
  },
  {
   "cell_type": "markdown",
   "metadata": {},
   "source": [
    "### 행 - 필터 서브셋보다 더 복잡한 묶음"
   ]
  },
  {
   "cell_type": "markdown",
   "metadata": {},
   "source": [
    "fil 처럼 필터를 복함해서 쓰면 OR, 아래 fil2 처럼 기존 필터에 체인으로 적용하면 AND"
   ]
  },
  {
   "cell_type": "code",
   "execution_count": 19,
   "metadata": {
    "ExecuteTime": {
     "end_time": "Z",
     "start_time": "2018-03-14T03:21:39.799Z"
    }
   },
   "outputs": [
    {
     "name": "stdout",
     "output_type": "stream",
     "text": [
      "[2x4] DataFrame\n",
      "\n",
      "    가        나     다        라     \n",
      " 0: k        5     7.000000 true  \n",
      " 1: a        2     7.100000 false \n",
      "    <string> <int> <float>  <bool>\n",
      " [1x4] DataFrame\n",
      "\n",
      "    가        나     다        라     \n",
      " 0: k        5     7.000000 true  \n",
      "    <string> <int> <float>  <bool>\n",
      "\n",
      "297\n",
      "<nil>\n"
     ]
    }
   ],
   "source": [
    "fil := df.Filter(\n",
    "    // 한 필터 내에서 조합되는 조건들은 OR\n",
    "    dataframe.F{\"가\", series.Eq, \"a\"}, // OR\n",
    "    dataframe.F{\"나\", series.Greater, 4},\n",
    ") \n",
    "// 한 번 더 걸러냄. And 로\n",
    "fil2 := fil.Filter( // And\n",
    "    dataframe.F{\"라\", series.Eq, true},\n",
    ")\n",
    "fmt.Println(fil,fil2)"
   ]
  },
  {
   "cell_type": "markdown",
   "metadata": {},
   "source": [
    "### 열 - 셀렉트"
   ]
  },
  {
   "cell_type": "markdown",
   "metadata": {},
   "source": [
    "선택 인덱스 종류 https://godoc.org/github.com/kniren/gota/dataframe#SelectIndexes\n",
    "\n",
    "```\n",
    "int              // Matches the given index number\n",
    "[]int            // Matches all given index numbers\n",
    "[]bool           // Matches all columns marked as true\n",
    "string           // Matches the column with the matching column name\n",
    "[]string         // Matches all columns with the matching column names\n",
    "Series [Int]     // Same as []int\n",
    "Series [Bool]    // Same as []bool\n",
    "Series [String]  // Same as []string\n",
    "```"
   ]
  },
  {
   "cell_type": "code",
   "execution_count": 23,
   "metadata": {
    "ExecuteTime": {
     "end_time": "Z",
     "start_time": "2018-03-14T03:24:08.805Z"
    }
   },
   "outputs": [
    {
     "name": "stdout",
     "output_type": "stream",
     "text": [
      "[4x2] DataFrame\n",
      "\n",
      "    나     다       \n",
      " 0: 4     6.000000\n",
      " 1: 5     7.000000\n",
      " 2: 3     7.000000\n",
      " 3: 2     7.100000\n",
      "    <int> <float> \n",
      " [4x2] DataFrame\n",
      "\n",
      "    가        라     \n",
      " 0: z        false \n",
      " 1: k        true  \n",
      " 2: x        false \n",
      " 3: a        false \n",
      "    <string> <bool>\n",
      "\n",
      "278\n",
      "<nil>\n"
     ]
    }
   ],
   "source": [
    "sel1 := df.Select([]int{1, 2})\n",
    "sel2 := df.Select([]string{\"가\", \"라\"})\n",
    "fmt.Println(sel1,sel2)"
   ]
  },
  {
   "cell_type": "markdown",
   "metadata": {},
   "source": [
    "## 자료 정렬"
   ]
  },
  {
   "cell_type": "markdown",
   "metadata": {},
   "source": [
    "###  열 - 어레인지"
   ]
  },
  {
   "cell_type": "code",
   "execution_count": 29,
   "metadata": {
    "ExecuteTime": {
     "end_time": "Z",
     "start_time": "2018-03-14T03:25:56.655Z"
    }
   },
   "outputs": [
    {
     "name": "stdout",
     "output_type": "stream",
     "text": [
      "[4x4] DataFrame\n",
      "\n",
      "    가        나     다        라     \n",
      " 0: a        2     7.100000 false \n",
      " 1: k        5     7.000000 true  \n",
      " 2: x        3     7.000000 false \n",
      " 3: z        4     6.000000 false \n",
      "    <string> <int> <float>  <bool>\n",
      " [4x4] DataFrame\n",
      "\n",
      "    가        나     다        라     \n",
      " 0: k        5     7.000000 true  \n",
      " 1: z        4     6.000000 false \n",
      " 2: x        3     7.000000 false \n",
      " 3: a        2     7.100000 false \n",
      "    <string> <int> <float>  <bool>\n",
      "\n",
      "472\n",
      "<nil>\n"
     ]
    }
   ],
   "source": [
    "sorted가 := df.Arrange(\n",
    "    dataframe.Sort(\"가\"),    // Sort in ascending order\n",
    ")\n",
    "sorted라 := df.Arrange(\n",
    "    dataframe.RevSort(\"라\"), // Sort in descending order\n",
    ")\n",
    "fmt.Println(sorted가,sorted라)"
   ]
  },
  {
   "cell_type": "markdown",
   "metadata": {},
   "source": [
    "## 값 업데이트 및 추가"
   ]
  },
  {
   "cell_type": "markdown",
   "metadata": {},
   "source": [
    "### 행 - Set 으로 같은 형태의 값을 덮어씌운다"
   ]
  },
  {
   "cell_type": "markdown",
   "metadata": {},
   "source": [
    "단점이 있다면 원본을 바로 수정해 버린다."
   ]
  },
  {
   "cell_type": "code",
   "execution_count": 15,
   "metadata": {
    "ExecuteTime": {
     "end_time": "Z",
     "start_time": "2018-03-14T02:46:09.278Z"
    },
    "scrolled": true
   },
   "outputs": [
    {
     "name": "stdout",
     "output_type": "stream",
     "text": [
      "[4x4] DataFrame\n",
      "\n",
      "    가        나     다        라     \n",
      " 0: z        4     6.000000 false \n",
      " 1: k        5     7.000000 true  \n",
      " 2: x        3     7.000000 false \n",
      " 3: a        2     7.100000 false \n",
      "    <string> <int> <float>  <bool>\n",
      "235\n",
      "<nil>\n"
     ]
    }
   ],
   "source": [
    "df.Set(\n",
    "    // 번째와 2번째 행을\n",
    "    []int{0, 2},\n",
    "    // 다음 데이터 프레임값으로 업데이트\n",
    "    dataframe.LoadRecords(\n",
    "        [][]string{\n",
    "            []string{\"가\", \"나\", \"다\", \"라\"},\n",
    "            []string{\"z\", \"4\", \"6.0\", \"false\"},\n",
    "            []string{\"x\", \"3\", \"7.0\", \"false\"},\n",
    "        },\n",
    "    ),\n",
    ")\n",
    "fmt.Print(df)"
   ]
  },
  {
   "cell_type": "markdown",
   "metadata": {},
   "source": [
    "그러니 복사해서 쓰자."
   ]
  },
  {
   "cell_type": "code",
   "execution_count": null,
   "metadata": {},
   "outputs": [],
   "source": [
    "df2 := df.Copy\n",
    "\n",
    "df2.Set(\n",
    "    // 번째와 2번째 행을\n",
    "    []int{0, 2},\n",
    "    // 다음 데이터 프레임값으로 업데이트\n",
    "    dataframe.LoadRecords(\n",
    "        [][]string{\n",
    "            []string{\"가\", \"나\", \"다\", \"라\"},\n",
    "            []string{\"z\", \"4\", \"6.0\", \"false\"},\n",
    "            []string{\"x\", \"3\", \"7.0\", \"false\"},\n",
    "        },\n",
    "    ),\n",
    ")\n",
    "fmt.Print(df)"
   ]
  },
  {
   "cell_type": "markdown",
   "metadata": {},
   "source": [
    "### 열 - Mutate 수정 및 추가"
   ]
  },
  {
   "cell_type": "markdown",
   "metadata": {},
   "source": [
    "이것은 원본을 수정하지 않는다. 굿"
   ]
  },
  {
   "cell_type": "code",
   "execution_count": 34,
   "metadata": {
    "ExecuteTime": {
     "end_time": "Z",
     "start_time": "2018-03-14T03:31:42.695Z"
    }
   },
   "outputs": [
    {
     "name": "stdout",
     "output_type": "stream",
     "text": [
      "[4x4] DataFrame\n",
      "\n",
      "    가        나     다        라     \n",
      " 0: z        4     a        false \n",
      " 1: k        5     b        true  \n",
      " 2: x        3     c        false \n",
      " 3: a        2     d        false \n",
      "    <string> <int> <string> <bool>\n",
      " [4x5] DataFrame\n",
      "\n",
      "    가        나     다        라      마       \n",
      " 0: z        4     6.000000 false  a       \n",
      " 1: k        5     7.000000 true   b       \n",
      " 2: x        3     7.000000 false  c       \n",
      " 3: a        2     7.100000 false  d       \n",
      "    <string> <int> <float>  <bool> <string>\n",
      "\n",
      "528\n",
      "<nil>\n"
     ]
    }
   ],
   "source": [
    "// 다 열의 시리즈 타입과 값을 변경\n",
    "mut := df.Mutate(\n",
    "    series.New([]string{\"a\", \"b\", \"c\", \"d\"}, series.String, \"다\"),\n",
    ")\n",
    "// 새로운 마 열 추가\n",
    "mut2 := df.Mutate(\n",
    "    series.New([]string{\"a\", \"b\", \"c\", \"d\"}, series.String, \"마\"),\n",
    ")\n",
    "\n",
    "fmt.Println(mut,mut2)"
   ]
  },
  {
   "cell_type": "markdown",
   "metadata": {},
   "source": [
    "### 열 이름 하나 바꾸기"
   ]
  },
  {
   "cell_type": "code",
   "execution_count": 97,
   "metadata": {
    "ExecuteTime": {
     "end_time": "Z",
     "start_time": "2018-03-15T10:55:36.480Z"
    }
   },
   "outputs": [
    {
     "name": "stdout",
     "output_type": "stream",
     "text": [
      "[3x4] DataFrame\n",
      "\n",
      "    가        나     다        라     \n",
      " 0: ㄱ        4     5.100000 true  \n",
      " 1: ㄴ        5     7.000000 true  \n",
      " 2: 좌        9     7.100000 false \n",
      "    <string> <int> <float>  <bool>\n",
      "\n",
      "207\n",
      "<nil>\n"
     ]
    }
   ],
   "source": [
    "a := dataframe.LoadRecords(\n",
    "    [][]string{\n",
    "        []string{\"가\", \"좌키\", \"다\", \"라\"},\n",
    "        []string{\"ㄱ\", \"4\", \"5.1\", \"true\"},\n",
    "        []string{\"ㄴ\", \"5\", \"7.0\", \"true\"},\n",
    "        []string{\"좌\", \"9\", \"7.1\", \"false\"},\n",
    "    },\n",
    ")\n",
    "\n",
    "a = a.Rename(\"나\", \"좌키\")\n",
    "\n",
    "fmt.Println(a)"
   ]
  },
  {
   "cell_type": "markdown",
   "metadata": {},
   "source": [
    "### 열 이름 모두 바꾸기"
   ]
  },
  {
   "cell_type": "markdown",
   "metadata": {},
   "source": [
    "이것도 원본 자료 자체를 바꿔버린다. 그리 좋은 메소드는 아닌 듯.."
   ]
  },
  {
   "cell_type": "code",
   "execution_count": 108,
   "metadata": {
    "ExecuteTime": {
     "end_time": "Z",
     "start_time": "2018-03-15T11:03:34.175Z"
    }
   },
   "outputs": [
    {
     "name": "stdout",
     "output_type": "stream",
     "text": [
      "[3x4] DataFrame\n",
      "\n",
      "    강        낭     당        랑     \n",
      " 0: ㄱ        4     5.100000 true  \n",
      " 1: ㄴ        5     7.000000 true  \n",
      " 2: 좌        9     7.100000 false \n",
      "    <string> <int> <float>  <bool>\n",
      "\n",
      "207\n",
      "<nil>\n"
     ]
    }
   ],
   "source": [
    "a := dataframe.LoadRecords(\n",
    "    [][]string{\n",
    "        []string{\"가\", \"좌키\", \"다\", \"라\"},\n",
    "        []string{\"ㄱ\", \"4\", \"5.1\", \"true\"},\n",
    "        []string{\"ㄴ\", \"5\", \"7.0\", \"true\"},\n",
    "        []string{\"좌\", \"9\", \"7.1\", \"false\"},\n",
    "    },\n",
    ")\n",
    "\n",
    "// cannot use a.SetNames(\"강\", \"낭\", \"당\", \"랑\") (value of type error) as github.com/kniren/gota/dataframe.DataFrame value in assignment\n",
    "// a = a.SetNames(\"강\", \"낭\", \"당\", \"랑\")\n",
    "// a is dataframe and is not equal to nil\n",
    "\n",
    "a.SetNames(\"강\", \"낭\", \"당\", \"랑\")\n",
    "\n",
    "import \"reflect\"\n",
    "\n",
    "reflect.TypeOf(a)\n",
    "\n",
    "\n",
    "fmt.Println(a)"
   ]
  },
  {
   "cell_type": "markdown",
   "metadata": {},
   "source": [
    "##  조인"
   ]
  },
  {
   "cell_type": "markdown",
   "metadata": {
    "ExecuteTime": {
     "end_time": "Z",
     "start_time": "2018-03-14T03:39:23.495Z"
    }
   },
   "source": []
  },
  {
   "cell_type": "markdown",
   "metadata": {},
   "source": [
    "### 이너조인"
   ]
  },
  {
   "cell_type": "markdown",
   "metadata": {},
   "source": [
    "![](https://community.toadworld.com/cfs-filesystemfile/__key/communityserver-components-secureimagefileviewer/communityserver-wikis-components-files-00-00-00-00-06/JP1C_5F00_151.gif_2D00_550x0.png\n",
    ")\n",
    "\n",
    "리차드와 우드가 매뉴팩처링 값을 가지고 있는 것을 유의. 값이 없으면 복사해버린다."
   ]
  },
  {
   "cell_type": "code",
   "execution_count": 53,
   "metadata": {
    "ExecuteTime": {
     "end_time": "Z",
     "start_time": "2018-03-14T03:57:23.257Z"
    }
   },
   "outputs": [
    {
     "name": "stdout",
     "output_type": "stream",
     "text": [
      "[4x6] DataFrame\n",
      "\n",
      "    키     사        라_0    가        다        라_1   \n",
      " 0: 4     2        false  ㄱ        5.100000 true  \n",
      " 1: 4     2        false  ㄷ        6.000000 true  \n",
      " 2: 2     8        false  ㄹ        7.100000 false \n",
      " 3: 5     9        false  ㄴ        7.000000 true  \n",
      "    <int> <string> <bool> <string> <float>  <bool>\n",
      "\n",
      "344\n",
      "<nil>\n"
     ]
    }
   ],
   "source": [
    "좌 := dataframe.LoadRecords(\n",
    "    [][]string{\n",
    "        []string{\"가\", \"키\", \"다\", \"라\"},\n",
    "        []string{\"ㄱ\", \"4\", \"5.1\", \"true\"},\n",
    "        []string{\"ㄴ\", \"5\", \"7.0\", \"true\"},\n",
    "        []string{\"ㄷ\", \"4\", \"6.0\", \"true\"},\n",
    "        []string{\"ㄹ\", \"2\", \"7.1\", \"false\"},\n",
    "        []string{\"좌측에만있는요소\", \"9\", \"7.1\", \"false\"},\n",
    "    },\n",
    ")\n",
    "우 := dataframe.LoadRecords(\n",
    "    [][]string{\n",
    "        []string{\"키\", \"사\", \"라\"},\n",
    "        []string{\"10\", \"우측에만 있는 요소\", \"true\"},\n",
    "        []string{\"4\", \"2\", \"false\"},\n",
    "        []string{\"2\", \"8\", \"false\"},\n",
    "        []string{\"5\", \"9\", \"false\"},\n",
    "    },\n",
    ")\n",
    "join := 우.InnerJoin(좌, \"키\")\n",
    "fmt.Println(join)"
   ]
  },
  {
   "cell_type": "markdown",
   "metadata": {},
   "source": [
    "df2 는 라가 하나 뿐이라서 . 가_1 과 사 가 df의 세개의 트루줄마다 복제된다."
   ]
  },
  {
   "cell_type": "markdown",
   "metadata": {},
   "source": [
    "### Leftjoin"
   ]
  },
  {
   "cell_type": "markdown",
   "metadata": {},
   "source": [
    "좌측에 있는 것중 우축에 있는 것만 가져온다."
   ]
  },
  {
   "cell_type": "markdown",
   "metadata": {},
   "source": [
    "![](https://www.w3resource.com/w3r_images/sqlite-left-join-pictorial-example1.gif)"
   ]
  },
  {
   "cell_type": "code",
   "execution_count": 51,
   "metadata": {
    "ExecuteTime": {
     "end_time": "Z",
     "start_time": "2018-03-14T03:56:55.289Z"
    }
   },
   "outputs": [
    {
     "name": "stdout",
     "output_type": "stream",
     "text": [
      "[5x6] DataFrame\n",
      "\n",
      "    키     가        다        라_0    사        라_1   \n",
      " 0: 4     ㄱ        5.100000 true   2        false \n",
      " 1: 5     ㄴ        7.000000 true   9        false \n",
      " 2: 4     ㄷ        6.000000 true   2        false \n",
      " 3: 2     ㄹ        7.100000 false  8        false \n",
      " 4: 9     좌측에만있는요소 7.100000 false  NaN      NaN   \n",
      "    <int> <string> <float>  <bool> <string> <bool>\n",
      "\n",
      "411\n",
      "<nil>\n"
     ]
    }
   ],
   "source": [
    "좌 := dataframe.LoadRecords(\n",
    "    [][]string{\n",
    "        []string{\"가\", \"키\", \"다\", \"라\"},\n",
    "        []string{\"ㄱ\", \"4\", \"5.1\", \"true\"},\n",
    "        []string{\"ㄴ\", \"5\", \"7.0\", \"true\"},\n",
    "        []string{\"ㄷ\", \"4\", \"6.0\", \"true\"},\n",
    "        []string{\"ㄹ\", \"2\", \"7.1\", \"false\"},\n",
    "        []string{\"좌측에만있는요소\", \"9\", \"7.1\", \"false\"},\n",
    "    },\n",
    ")\n",
    "우 := dataframe.LoadRecords(\n",
    "    [][]string{\n",
    "        []string{\"키\", \"사\", \"라\"},\n",
    "        []string{\"10\", \"우측에만 있는 요소\", \"true\"},\n",
    "        []string{\"4\", \"2\", \"false\"},\n",
    "        []string{\"2\", \"8\", \"false\"},\n",
    "        []string{\"5\", \"9\", \"false\"},\n",
    "    },\n",
    ")\n",
    "// 좌측 키값에는 1이 없다. 즉 결과는 우측 키값인\n",
    "join := 좌.LeftJoin(우, \"키\")\n",
    "fmt.Println(join)"
   ]
  },
  {
   "cell_type": "markdown",
   "metadata": {},
   "source": [
    "### Rightjoin"
   ]
  },
  {
   "cell_type": "markdown",
   "metadata": {},
   "source": [
    "우측 키에 있는 것만 좌측과 결합해서 가져온다."
   ]
  },
  {
   "cell_type": "code",
   "execution_count": 54,
   "metadata": {
    "ExecuteTime": {
     "end_time": "Z",
     "start_time": "2018-03-14T04:15:20.137Z"
    }
   },
   "outputs": [
    {
     "name": "stdout",
     "output_type": "stream",
     "text": [
      "DataFrame error: join keys not specified\n",
      "41\n",
      "<nil>\n"
     ]
    }
   ],
   "source": [
    "좌 := dataframe.LoadRecords(\n",
    "    [][]string{\n",
    "        []string{\"가\", \"키\", \"다\", \"라\"},\n",
    "        []string{\"ㄱ\", \"4\", \"5.1\", \"true\"},\n",
    "        []string{\"ㄴ\", \"5\", \"7.0\", \"true\"},\n",
    "        []string{\"ㄷ\", \"4\", \"6.0\", \"true\"},\n",
    "        []string{\"ㄹ\", \"2\", \"7.1\", \"false\"},\n",
    "        []string{\"좌측에만있는요소\", \"9\", \"7.1\", \"false\"},\n",
    "    },\n",
    ")\n",
    "우 := dataframe.LoadRecords(\n",
    "    [][]string{\n",
    "        []string{\"키\", \"사\", \"라\"},\n",
    "        []string{\"1\", \"우측에만 있는 요소\", \"true\"},\n",
    "        []string{\"4\", \"2\", \"false\"},\n",
    "        []string{\"2\", \"8\", \"false\"},\n",
    "        []string{\"5\", \"9\", \"false\"},\n",
    "    },\n",
    ")\n",
    "// 좌측 키값에는 1이 없다. 즉 결과는 우측 키값인\n",
    "join := 좌.RightJoin(우, \"키\")\n",
    "fmt.Println(join)"
   ]
  },
  {
   "cell_type": "markdown",
   "metadata": {},
   "source": [
    "### outerjoin"
   ]
  },
  {
   "cell_type": "markdown",
   "metadata": {},
   "source": [
    "![](https://www.w3schools.com/sql/img_fulljoin.gif)\n",
    "\n",
    "The FULL OUTER JOIN keyword return all records when there is a match in either left (table1) or right (table2) table records.\n",
    "두 테이블의 어느 한쪽이라도 맞는 모든 레코드를 반환한다."
   ]
  },
  {
   "cell_type": "code",
   "execution_count": 69,
   "metadata": {
    "ExecuteTime": {
     "end_time": "Z",
     "start_time": "2018-03-15T06:22:20.045Z"
    }
   },
   "outputs": [
    {
     "name": "stdout",
     "output_type": "stream",
     "text": [
      "[6x6] DataFrame\n",
      "\n",
      "    키     가        다        라_0    사          라_1   \n",
      " 0: 4     ㄱ        5.100000 true   2          false \n",
      " 1: 4     ㄴ        6.000000 true   2          false \n",
      " 2: 5     ㄷ        7.000000 true   9          false \n",
      " 3: 2     ㄹ        7.100000 false  8          false \n",
      " 4: 9     좌측에만있는요소 7.100000 false  NaN        NaN   \n",
      " 5: 1     NaN      NaN      NaN    우측에만 있는 요소 true  \n",
      "    <int> <string> <float>  <bool> <string>   <bool>\n",
      "\n",
      "494\n",
      "<nil>\n"
     ]
    }
   ],
   "source": [
    "좌 := dataframe.LoadRecords(\n",
    "    [][]string{\n",
    "        []string{\"가\", \"키\", \"다\", \"라\"},\n",
    "        []string{\"ㄱ\", \"4\", \"5.1\", \"true\"},\n",
    "        []string{\"ㄴ\", \"4\", \"6.0\", \"true\"},\n",
    "        []string{\"ㄷ\", \"5\", \"7.0\", \"true\"},\n",
    "        []string{\"ㄹ\", \"2\", \"7.1\", \"false\"},\n",
    "        []string{\"좌측에만있는요소\", \"9\", \"7.1\", \"false\"},\n",
    "    },\n",
    ")\n",
    "우 := dataframe.LoadRecords(\n",
    "    [][]string{\n",
    "        []string{\"키\", \"사\", \"라\"},\n",
    "        []string{\"1\", \"우측에만 있는 요소\", \"true\"},\n",
    "        []string{\"4\", \"2\", \"false\"},\n",
    "        []string{\"2\", \"8\", \"false\"},\n",
    "        []string{\"5\", \"9\", \"false\"},\n",
    "    },\n",
    ")\n",
    "// 좌측 키값에는 1이 없다. 즉 결과는 우측 키값인\n",
    "join := 좌.OuterJoin(우, \"키\")\n",
    "fmt.Println(join)"
   ]
  },
  {
   "cell_type": "markdown",
   "metadata": {},
   "source": [
    "### Crossjoin"
   ]
  },
  {
   "cell_type": "markdown",
   "metadata": {},
   "source": [
    "연관이 없는 두 테이블의 모든 열을 조합하는 것.\n",
    "수학의 경우의수, 조합할 때 그 조합이다."
   ]
  },
  {
   "cell_type": "markdown",
   "metadata": {},
   "source": [
    "![](https://www.w3resource.com/w3r_images/sqlite-cross-join-pictorial-presentation.gif)"
   ]
  },
  {
   "cell_type": "code",
   "execution_count": 67,
   "metadata": {
    "ExecuteTime": {
     "end_time": "Z",
     "start_time": "2018-03-14T04:23:25.401Z"
    }
   },
   "outputs": [
    {
     "name": "stdout",
     "output_type": "stream",
     "text": [
      "[9x7] DataFrame\n",
      "\n",
      "    가        좌키    다        라_0    우키    사        라_1   \n",
      " 0: ㄱ        4     5.100000 true   1     우        true  \n",
      " 1: ㄱ        4     5.100000 true   4     2        false \n",
      " 2: ㄱ        4     5.100000 true   2     8        false \n",
      " 3: ㄴ        5     7.000000 true   1     우        true  \n",
      " 4: ㄴ        5     7.000000 true   4     2        false \n",
      " 5: ㄴ        5     7.000000 true   2     8        false \n",
      " 6: 좌        9     7.100000 false  1     우        true  \n",
      " 7: 좌        9     7.100000 false  4     2        false \n",
      " 8: 좌        9     7.100000 false  2     8        false \n",
      "    <string> <int> <float>  <bool> <int> <string> <bool>\n",
      "\n",
      "[9x7] DataFrame\n",
      "\n",
      "    가        좌키    다        라_0    우키    사        라_1   \n",
      " 0: ㄱ        4     5.100000 true   1     우        true  \n",
      " 1: ㄴ        5     7.000000 true   1     우        true  \n",
      " 2: 좌        9     7.100000 false  1     우        true  \n",
      " 3: ㄱ        4     5.100000 true   2     8        false \n",
      " 4: ㄴ        5     7.000000 true   2     8        false \n",
      " 5: 좌        9     7.100000 false  2     8        false \n",
      " 6: ㄱ        4     5.100000 true   4     2        false \n",
      " 7: ㄴ        5     7.000000 true   4     2        false \n",
      " 8: 좌        9     7.100000 false  4     2        false \n",
      "    <string> <int> <float>  <bool> <int> <string> <bool>\n",
      "\n",
      "687\n",
      "<nil>\n"
     ]
    }
   ],
   "source": [
    "좌 := dataframe.LoadRecords(\n",
    "    [][]string{\n",
    "        []string{\"가\", \"좌키\", \"다\", \"라\"},\n",
    "        []string{\"ㄱ\", \"4\", \"5.1\", \"true\"},\n",
    "        []string{\"ㄴ\", \"5\", \"7.0\", \"true\"},\n",
    "        []string{\"좌\", \"9\", \"7.1\", \"false\"},\n",
    "    },\n",
    ")\n",
    "우 := dataframe.LoadRecords(\n",
    "    [][]string{\n",
    "        []string{\"우키\", \"사\", \"라\"},\n",
    "        []string{\"1\", \"우\", \"true\"},\n",
    "        []string{\"4\", \"2\", \"false\"},\n",
    "        []string{\"2\", \"8\", \"false\"},\n",
    "    },\n",
    ")\n",
    "// 모든 경우의 수인 조합\n",
    "join := 좌.CrossJoin(우)\n",
    "fmt.Println(join)\n",
    "\n",
    "joinSort := join.Arrange(dataframe.Sort(\"우키\"))\n",
    "fmt.Println(joinSort)"
   ]
  },
  {
   "cell_type": "markdown",
   "metadata": {},
   "source": [
    "## 처리하기"
   ]
  },
  {
   "cell_type": "markdown",
   "metadata": {},
   "source": [
    "###  합치기"
   ]
  },
  {
   "cell_type": "code",
   "execution_count": 43,
   "metadata": {
    "ExecuteTime": {
     "end_time": "Z",
     "start_time": "2018-03-15T05:47:44.947Z"
    }
   },
   "outputs": [
    {
     "name": "stdout",
     "output_type": "stream",
     "text": [
      "[3x7] DataFrame\n",
      "\n",
      "    가        좌키    다        라_0    우키    사        라_1   \n",
      " 0: ㄱ        4     5.100000 true   1     우        true  \n",
      " 1: ㄴ        5     7.000000 true   4     2        false \n",
      " 2: 좌        9     7.100000 false  2     8        false \n",
      "    <string> <int> <float>  <bool> <int> <string> <bool>\n",
      "\n",
      "DataFrame error: rbind: column names are not compatible\n",
      "56\n",
      "<nil>\n"
     ]
    }
   ],
   "source": [
    "좌 := dataframe.LoadRecords(\n",
    "    [][]string{\n",
    "        []string{\"가\", \"좌키\", \"다\", \"라\"},\n",
    "        []string{\"ㄱ\", \"4\", \"5.1\", \"true\"},\n",
    "        []string{\"ㄴ\", \"5\", \"7.0\", \"true\"},\n",
    "        []string{\"좌\", \"9\", \"7.1\", \"false\"},\n",
    "    },\n",
    ")\n",
    "우 := dataframe.LoadRecords(\n",
    "    [][]string{\n",
    "        []string{\"우키\", \"사\", \"라\"},\n",
    "        []string{\"1\", \"우\", \"true\"},\n",
    "        []string{\"4\", \"2\", \"false\"},\n",
    "        []string{\"2\", \"8\", \"false\"},\n",
    "    },\n",
    ")\n",
    "\n",
    "cbind := 좌.CBind(우)\n",
    "fmt.Println(cbind)"
   ]
  },
  {
   "cell_type": "code",
   "execution_count": 45,
   "metadata": {
    "ExecuteTime": {
     "end_time": "Z",
     "start_time": "2018-03-15T05:49:24.203Z"
    }
   },
   "outputs": [
    {
     "name": "stdout",
     "output_type": "stream",
     "text": [
      "[6x4] DataFrame\n",
      "\n",
      "    가        좌키    다        라     \n",
      " 0: ㄱ        4     5.100000 true  \n",
      " 1: ㄴ        5     7.000000 true  \n",
      " 2: 좌        9     7.100000 false \n",
      " 3: 우        1     5.100000 true  \n",
      " 4: 2        4     7.000000 false \n",
      " 5: 8        2     7.100000 false \n",
      "    <string> <int> <float>  <bool>\n",
      "\n",
      "316\n",
      "<nil>\n"
     ]
    }
   ],
   "source": [
    "좌 := dataframe.LoadRecords(\n",
    "    [][]string{\n",
    "        []string{\"가\", \"좌키\", \"다\", \"라\"},\n",
    "        []string{\"ㄱ\", \"4\", \"5.1\", \"true\"},\n",
    "        []string{\"ㄴ\", \"5\", \"7.0\", \"true\"},\n",
    "        []string{\"좌\", \"9\", \"7.1\", \"false\"},\n",
    "    },\n",
    ")\n",
    "우 := dataframe.LoadRecords(\n",
    "    [][]string{\n",
    "        []string{\"좌키\", \"가\", \"다\", \"라\"},\n",
    "        []string{\"1\", \"우\",\"5.1\", \"true\"},\n",
    "        []string{\"4\", \"2\", \"7.0\", \"false\"},\n",
    "        []string{\"2\", \"8\", \"7.1\", \"false\"},\n",
    "    },\n",
    ")\n",
    "\n",
    "rbind := 좌.RBind(우)\n",
    "fmt.Println(rbind)"
   ]
  },
  {
   "cell_type": "markdown",
   "metadata": {},
   "source": [
    "### 분리하기"
   ]
  },
  {
   "cell_type": "markdown",
   "metadata": {},
   "source": [
    "특정열을 분리시켜서 시리즈 타입으로 반환받는다."
   ]
  },
  {
   "cell_type": "code",
   "execution_count": 53,
   "metadata": {
    "ExecuteTime": {
     "end_time": "Z",
     "start_time": "2018-03-15T05:58:11.307Z"
    }
   },
   "outputs": [
    {
     "name": "stdout",
     "output_type": "stream",
     "text": [
      "[4 5 9]\n",
      "series.Series\n"
     ]
    }
   ],
   "source": [
    "df := dataframe.LoadRecords(\n",
    "    [][]string{\n",
    "        []string{\"가\", \"좌키\", \"다\", \"라\"},\n",
    "        []string{\"1\", \"4\", \"5.1\", \"6\"},\n",
    "        []string{\"2\", \"5\", \"7.0\", \"4\"},\n",
    "        []string{\"6\", \"9\", \"7.1\", \"10\"},\n",
    "    },\n",
    ")\n",
    "\n",
    "a := df.Col(\"좌키\")\n",
    "\n",
    "fmt.Println(a)\n",
    "\n",
    "import \"reflect\"\n",
    "\n",
    "reflect.TypeOf(a)"
   ]
  },
  {
   "cell_type": "markdown",
   "metadata": {},
   "source": [
    "시리즈 구조체"
   ]
  },
  {
   "cell_type": "code",
   "execution_count": null,
   "metadata": {},
   "outputs": [],
   "source": [
    "type Series struct {\n",
    "    Name string // The name of the series\n",
    "\n",
    "    Err error // If there are errors they are stored here\n",
    "    // contains filtered or unexported fields\n",
    "}"
   ]
  },
  {
   "cell_type": "markdown",
   "metadata": {},
   "source": [
    "### 제거하기"
   ]
  },
  {
   "cell_type": "markdown",
   "metadata": {},
   "source": [
    "특정열을 제거한 결과를 돌려준다."
   ]
  },
  {
   "cell_type": "code",
   "execution_count": 60,
   "metadata": {
    "ExecuteTime": {
     "end_time": "Z",
     "start_time": "2018-03-15T06:04:29.291Z"
    }
   },
   "outputs": [
    {
     "name": "stdout",
     "output_type": "stream",
     "text": [
      "[3x3] DataFrame\n",
      "\n",
      "    가     다        라    \n",
      " 0: 1     5.100000 6    \n",
      " 1: 2     7.000000 4    \n",
      " 2: 6     7.100000 10   \n",
      "    <int> <float>  <int>\n",
      "\n",
      "149\n",
      "<nil>\n"
     ]
    }
   ],
   "source": [
    "df := dataframe.LoadRecords(\n",
    "    [][]string{\n",
    "        []string{\"가\", \"좌키\", \"다\", \"라\"},\n",
    "        []string{\"1\", \"4\", \"5.1\", \"6\"},\n",
    "        []string{\"2\", \"5\", \"7.0\", \"4\"},\n",
    "        []string{\"6\", \"9\", \"7.1\", \"10\"},\n",
    "    },\n",
    ")\n",
    "\n",
    "a := df.Drop(\"좌키\")\n",
    "\n",
    "fmt.Println(a)"
   ]
  },
  {
   "cell_type": "markdown",
   "metadata": {},
   "source": [
    "### 함수 적용"
   ]
  },
  {
   "cell_type": "code",
   "execution_count": 36,
   "metadata": {
    "ExecuteTime": {
     "end_time": "Z",
     "start_time": "2018-03-14T10:26:51.018Z"
    }
   },
   "outputs": [
    {
     "name": "stdout",
     "output_type": "stream",
     "text": [
      "[1x4] DataFrame\n",
      "\n",
      "    가        좌키       다        라       \n",
      " 0: 3.000000 6.000000 6.400000 6.666667\n",
      "    <float>  <float>  <float>  <float> \n",
      "\n",
      "[3x1] DataFrame\n",
      "\n",
      "    X0      \n",
      " 0: 4.025000\n",
      " 1: 4.500000\n",
      " 2: 8.025000\n",
      "    <float> \n",
      "\n",
      "83\n",
      "<nil>\n"
     ]
    }
   ],
   "source": [
    "df := dataframe.LoadRecords(\n",
    "    [][]string{\n",
    "        []string{\"가\", \"좌키\", \"다\", \"라\"},\n",
    "        []string{\"1\", \"4\", \"5.1\", \"6\"},\n",
    "        []string{\"2\", \"5\", \"7.0\", \"4\"},\n",
    "        []string{\"6\", \"9\", \"7.1\", \"10\"},\n",
    "    },\n",
    ")\n",
    "mean := func(s series.Series) series.Series {\n",
    "    floats := s.Float()\n",
    "    sum := 0.0\n",
    "    for _, f := range floats {\n",
    "        sum += f\n",
    "    }\n",
    "    return series.Floats(sum / float64(len(floats)))\n",
    "}\n",
    "fmt.Println(df.Capply(mean))\n",
    "\n",
    "\n",
    "fmt.Println(df.Rapply(mean))"
   ]
  },
  {
   "cell_type": "markdown",
   "metadata": {},
   "source": [
    "## 변환 내보내기"
   ]
  },
  {
   "cell_type": "markdown",
   "metadata": {},
   "source": [
    "### 데이터프레임을 문자열로 [][]string 변환"
   ]
  },
  {
   "cell_type": "code",
   "execution_count": 126,
   "metadata": {
    "ExecuteTime": {
     "end_time": "Z",
     "start_time": "2018-03-15T13:59:45.861Z"
    }
   },
   "outputs": [
    {
     "name": "stdout",
     "output_type": "stream",
     "text": [
      "[3x4] DataFrame\n",
      "\n",
      "    가     좌키    다        라    \n",
      " 0: 1     4     5.100000 6    \n",
      " 1: 2     5     7.000000 4    \n",
      " 2: 6     9     7.100000 10   \n",
      "    <int> <int> <float>  <int>\n",
      "\n",
      "[3x4]\n",
      "6\n",
      "<nil>\n"
     ]
    }
   ],
   "source": [
    "df := dataframe.LoadRecords(\n",
    "    [][]string{\n",
    "        []string{\"가\", \"좌키\", \"다\", \"라\"},\n",
    "        []string{\"1\", \"4\", \"5.1\", \"6\"},\n",
    "        []string{\"2\", \"5\", \"7.0\", \"4\"},\n",
    "        []string{\"6\", \"9\", \"7.1\", \"10\"},\n",
    "    },\n",
    ")\n",
    "\n",
    "str := df.String()\n",
    "\n",
    "fmt.Println(str)\n",
    "\n",
    "// 문자열이니 조작이 가능함.\n",
    "fmt.Println(str[:5])\n"
   ]
  },
  {
   "cell_type": "markdown",
   "metadata": {},
   "source": [
    "### 데이터프레임을 배열 혹은 슬라이스로 [][]string 변환"
   ]
  },
  {
   "cell_type": "code",
   "execution_count": 71,
   "metadata": {
    "ExecuteTime": {
     "end_time": "Z",
     "start_time": "2018-03-15T08:20:39.933Z"
    }
   },
   "outputs": [
    {
     "name": "stdout",
     "output_type": "stream",
     "text": [
      "[[가 좌키 다 라] [1 4 5.100000 6] [2 5 7.000000 4] [6 9 7.100000 10]]\n",
      "75\n",
      "<nil>\n"
     ]
    }
   ],
   "source": [
    "df := dataframe.LoadRecords(\n",
    "    [][]string{\n",
    "        []string{\"가\", \"좌키\", \"다\", \"라\"},\n",
    "        []string{\"1\", \"4\", \"5.1\", \"6\"},\n",
    "        []string{\"2\", \"5\", \"7.0\", \"4\"},\n",
    "        []string{\"6\", \"9\", \"7.1\", \"10\"},\n",
    "    },\n",
    ")\n",
    "\n",
    "fmt.Println(df.Records())\n"
   ]
  },
  {
   "cell_type": "markdown",
   "metadata": {},
   "source": [
    "### 데이터프레임을 CSV 로 변환"
   ]
  },
  {
   "cell_type": "markdown",
   "metadata": {},
   "source": [
    "인자로 io.writer 를 받는데... 아래처럼 파일 접속을 넘겼는데도 되네.\n",
    "\n",
    "https://gobyexample.com/writing-files"
   ]
  },
  {
   "cell_type": "code",
   "execution_count": 122,
   "metadata": {
    "ExecuteTime": {
     "end_time": "Z",
     "start_time": "2018-03-15T13:56:33.153Z"
    }
   },
   "outputs": [
    {
     "name": "stdout",
     "output_type": "stream",
     "text": [
      "*os.File\n",
      "9\n",
      "<nil>\n"
     ]
    }
   ],
   "source": [
    "import (\n",
    "    \"io/ioutil\"\n",
    "    \"os\"\n",
    "    \"reflect\"\n",
    ")\n",
    "\n",
    "df := dataframe.LoadRecords(\n",
    "    [][]string{\n",
    "        []string{\"가\", \"좌키\", \"다\", \"라\"},\n",
    "        []string{\"1\", \"4\", \"5.1\", \"6\"},\n",
    "        []string{\"2\", \"5\", \"7.0\", \"4\"},\n",
    "        []string{\"6\", \"9\", \"7.1\", \"10\"},\n",
    "    },\n",
    ")\n",
    "\n",
    "f, err := os.Create(\"./df.csv\")\n",
    "defer f.Close()\n",
    "\n",
    "// 해더 false 하면 자료만 쓴다.\n",
    "// df.WriteCSV(f, dataframe.WriteHeader(false))\n",
    "df.WriteCSV(f)\n",
    "\n",
    "fmt.Println(reflect.TypeOf(f))\n"
   ]
  },
  {
   "cell_type": "markdown",
   "metadata": {},
   "source": [
    "### 데이터프레임을 JSON 으로 변환"
   ]
  },
  {
   "cell_type": "code",
   "execution_count": 115,
   "metadata": {
    "ExecuteTime": {
     "end_time": "Z",
     "start_time": "2018-03-15T13:56:33.153Z"
    }
   },
   "outputs": [
    {
     "name": "stdout",
     "output_type": "stream",
     "text": [
      "*os.File\n",
      "9\n",
      "<nil>\n"
     ]
    }
   ],
   "source": [
    "import (\n",
    "    \"io/ioutil\"\n",
    "    \"os\"\n",
    "    \"reflect\"\n",
    ")\n",
    "\n",
    "df := dataframe.LoadRecords(\n",
    "    [][]string{\n",
    "        []string{\"가\", \"좌키\", \"다\", \"라\"},\n",
    "        []string{\"1\", \"4\", \"5.1\", \"6\"},\n",
    "        []string{\"2\", \"5\", \"7.0\", \"4\"},\n",
    "        []string{\"6\", \"9\", \"7.1\", \"10\"},\n",
    "    },\n",
    ")\n",
    "\n",
    "f, err := os.Create(\"./df.json\")\n",
    "defer f.Close()\n",
    "\n",
    "\n",
    "df.WriteJSON(f)\n",
    "\n",
    "fmt.Println(reflect.TypeOf(f))"
   ]
  },
  {
   "cell_type": "markdown",
   "metadata": {},
   "source": [
    "## 내부 정보 확인"
   ]
  },
  {
   "cell_type": "markdown",
   "metadata": {},
   "source": [
    "### 행열 개수 확인"
   ]
  },
  {
   "cell_type": "code",
   "execution_count": 67,
   "metadata": {
    "ExecuteTime": {
     "end_time": "Z",
     "start_time": "2018-03-15T06:15:21.517Z"
    }
   },
   "outputs": [
    {
     "name": "stdout",
     "output_type": "stream",
     "text": [
      "4 4\n",
      "4\n",
      "<nil>\n"
     ]
    }
   ],
   "source": [
    "df := dataframe.LoadRecords(\n",
    "    [][]string{\n",
    "        []string{\"A\", \"B\", \"C\", \"D\"},\n",
    "        []string{\"a\", \"4\", \"5.1\", \"true\"},\n",
    "        []string{\"b\", \"4\", \"6.0\", \"true\"},\n",
    "        []string{\"c\", \"3\", \"6.0\", \"false\"},\n",
    "        []string{\"a\", \"2\", \"7.1\", \"false\"},\n",
    "    },\n",
    ")\n",
    "\n",
    "ncol := df.Ncol()\n",
    "nrow := df.Nrow()\n",
    "fmt.Println(ncol,nrow)"
   ]
  },
  {
   "cell_type": "markdown",
   "metadata": {},
   "source": [
    "### 열 이름 확인"
   ]
  },
  {
   "cell_type": "code",
   "execution_count": 65,
   "metadata": {
    "ExecuteTime": {
     "end_time": "Z",
     "start_time": "2018-03-15T06:15:21.517Z"
    }
   },
   "outputs": [
    {
     "name": "stdout",
     "output_type": "stream",
     "text": [
      "[A B C D]\n",
      "10\n",
      "<nil>\n"
     ]
    }
   ],
   "source": [
    "df := dataframe.LoadRecords(\n",
    "    [][]string{\n",
    "        []string{\"A\", \"B\", \"C\", \"D\"},\n",
    "        []string{\"a\", \"4\", \"5.1\", \"true\"},\n",
    "        []string{\"b\", \"4\", \"6.0\", \"true\"},\n",
    "        []string{\"c\", \"3\", \"6.0\", \"false\"},\n",
    "        []string{\"a\", \"2\", \"7.1\", \"false\"},\n",
    "    },\n",
    ")\n",
    "\n",
    "// row 4(index 3), column  3(index 2)\n",
    "names := df.Names()\n",
    "fmt.Println(names)"
   ]
  },
  {
   "cell_type": "markdown",
   "metadata": {},
   "source": [
    "### 열 타입 확인"
   ]
  },
  {
   "cell_type": "code",
   "execution_count": 109,
   "metadata": {
    "ExecuteTime": {
     "end_time": "Z",
     "start_time": "2018-03-15T11:28:42.252Z"
    }
   },
   "outputs": [
    {
     "name": "stdout",
     "output_type": "stream",
     "text": [
      "[string int float bool]\n",
      "24\n",
      "<nil>\n"
     ]
    }
   ],
   "source": [
    "df := dataframe.LoadRecords(\n",
    "    [][]string{\n",
    "        []string{\"A\", \"B\", \"C\", \"D\"},\n",
    "        []string{\"a\", \"4\", \"5.1\", \"true\"},\n",
    "        []string{\"b\", \"4\", \"6.0\", \"true\"},\n",
    "        []string{\"c\", \"3\", \"6.0\", \"false\"},\n",
    "        []string{\"a\", \"2\", \"7.1\", \"false\"},\n",
    "    },\n",
    ")\n",
    "\n",
    "// row 4(index 3), column  3(index 2)\n",
    "types := df.Types()\n",
    "fmt.Println(types)"
   ]
  },
  {
   "cell_type": "markdown",
   "metadata": {},
   "source": [
    "### 특정 원소 확인"
   ]
  },
  {
   "cell_type": "code",
   "execution_count": 62,
   "metadata": {
    "ExecuteTime": {
     "end_time": "Z",
     "start_time": "2018-03-15T06:12:26.591Z"
    }
   },
   "outputs": [
    {
     "name": "stdout",
     "output_type": "stream",
     "text": [
      "7.100000\n",
      "9\n",
      "<nil>\n"
     ]
    }
   ],
   "source": [
    "df := dataframe.LoadRecords(\n",
    "    [][]string{\n",
    "        []string{\"A\", \"B\", \"C\", \"D\"},\n",
    "        []string{\"a\", \"4\", \"5.1\", \"true\"},\n",
    "        []string{\"b\", \"4\", \"6.0\", \"true\"},\n",
    "        []string{\"c\", \"3\", \"6.0\", \"false\"},\n",
    "        []string{\"a\", \"2\", \"7.1\", \"false\"},\n",
    "    },\n",
    ")\n",
    "\n",
    "// row 4(index 3), column  3(index 2)\n",
    "el := df.Elem(3,2)\n",
    "fmt.Println(el)"
   ]
  },
  {
   "cell_type": "markdown",
   "metadata": {},
   "source": [
    "### 통계 요약 출력"
   ]
  },
  {
   "cell_type": "code",
   "execution_count": 55,
   "metadata": {
    "ExecuteTime": {
     "end_time": "Z",
     "start_time": "2018-03-15T05:59:02.243Z"
    },
    "scrolled": true
   },
   "outputs": [
    {
     "name": "stdout",
     "output_type": "stream",
     "text": [
      "[7x5] DataFrame\n",
      "\n",
      "    column   A        B        C        D       \n",
      " 0: mean     -        3.250000 6.050000 0.500000\n",
      " 1: stddev   -        0.957427 0.818535 0.577350\n",
      " 2: min      a        2.000000 5.100000 0.000000\n",
      " 3: 25%      -        2.000000 5.100000 0.000000\n",
      " 4: 50%      -        3.000000 6.000000 0.000000\n",
      " 5: 75%      -        4.000000 6.000000 1.000000\n",
      " 6: max      c        4.000000 7.100000 1.000000\n",
      "    <string> <string> <float>  <float>  <float> \n",
      "\n",
      "459\n",
      "<nil>\n"
     ]
    }
   ],
   "source": [
    "df := dataframe.LoadRecords(\n",
    "    [][]string{\n",
    "        []string{\"A\", \"B\", \"C\", \"D\"},\n",
    "        []string{\"a\", \"4\", \"5.1\", \"true\"},\n",
    "        []string{\"b\", \"4\", \"6.0\", \"true\"},\n",
    "        []string{\"c\", \"3\", \"6.0\", \"false\"},\n",
    "        []string{\"a\", \"2\", \"7.1\", \"false\"},\n",
    "    },\n",
    ")\n",
    "fmt.Println(df.Describe())"
   ]
  },
  {
   "cell_type": "markdown",
   "metadata": {},
   "source": [
    "### 몇차원(dimensions)인지 출력"
   ]
  },
  {
   "cell_type": "code",
   "execution_count": 58,
   "metadata": {
    "ExecuteTime": {
     "end_time": "Z",
     "start_time": "2018-03-15T06:03:04.661Z"
    }
   },
   "outputs": [
    {
     "name": "stdout",
     "output_type": "stream",
     "text": [
      "4 4\n",
      "4\n",
      "<nil>\n"
     ]
    }
   ],
   "source": [
    "df := dataframe.LoadRecords(\n",
    "    [][]string{\n",
    "        []string{\"A\", \"B\", \"C\", \"D\"},\n",
    "        []string{\"a\", \"4\", \"5.1\", \"true\"},\n",
    "        []string{\"b\", \"4\", \"6.0\", \"true\"},\n",
    "        []string{\"c\", \"3\", \"6.0\", \"false\"},\n",
    "        []string{\"a\", \"2\", \"7.1\", \"false\"},\n",
    "    },\n",
    ")\n",
    "fmt.Println(df.Dims())"
   ]
  },
  {
   "cell_type": "markdown",
   "metadata": {},
   "source": [
    "## 수행 체이닝"
   ]
  },
  {
   "cell_type": "code",
   "execution_count": 28,
   "metadata": {
    "ExecuteTime": {
     "end_time": "Z",
     "start_time": "2018-03-14T06:03:23.712Z"
    }
   },
   "outputs": [
    {
     "name": "stdout",
     "output_type": "stream",
     "text": [
      "[1x3] DataFrame\n",
      "\n",
      "    가        나     다       \n",
      " 0: ㄱ        4     5.100000\n",
      "    <string> <int> <float> \n",
      "\n",
      "110\n",
      "<nil>\n"
     ]
    }
   ],
   "source": [
    "a := dataframe.LoadRecords(\n",
    "    [][]string{\n",
    "        []string{\"가\", \"좌키\", \"다\", \"라\"},\n",
    "        []string{\"ㄱ\", \"4\", \"5.1\", \"true\"},\n",
    "        []string{\"ㄴ\", \"5\", \"7.0\", \"true\"},\n",
    "        []string{\"좌\", \"9\", \"7.1\", \"false\"},\n",
    "    },\n",
    ")\n",
    "\n",
    "a = a.Rename(\"나\", \"좌키\").\n",
    "    Filter(dataframe.F{\"나\", \"<\", 9}).\n",
    "    Filter(dataframe.F{\"라\", \"==\", \"true\"}).\n",
    "    Select([]string{\"가\",\"나\", \"다\"}).\n",
    "    Subset([]int{0})\n",
    "\n",
    "fmt.Println(a)"
   ]
  },
  {
   "cell_type": "code",
   "execution_count": null,
   "metadata": {},
   "outputs": [],
   "source": []
  }
 ],
 "metadata": {
  "hide_input": false,
  "kernelspec": {
   "display_name": "Go (lgo)",
   "language": "go",
   "name": "lgo"
  },
  "language_info": {
   "file_extension": "",
   "mimetype": "",
   "name": "go",
   "version": ""
  },
  "latex_envs": {
   "LaTeX_envs_menu_present": true,
   "autoclose": false,
   "autocomplete": true,
   "bibliofile": "biblio.bib",
   "cite_by": "apalike",
   "current_citInitial": 1,
   "eqLabelWithNumbers": true,
   "eqNumInitial": 1,
   "hotkeys": {
    "equation": "Ctrl-E",
    "itemize": "Ctrl-I"
   },
   "labels_anchors": false,
   "latex_user_defs": false,
   "report_style_numbering": false,
   "user_envs_cfg": false
  },
  "toc": {
   "nav_menu": {
    "height": "279px",
    "width": "394px"
   },
   "number_sections": true,
   "sideBar": true,
   "skip_h1_title": false,
   "title_cell": "Table of Contents",
   "title_sidebar": "Contents",
   "toc_cell": false,
   "toc_position": {},
   "toc_section_display": true,
   "toc_window_display": false
  }
 },
 "nbformat": 4,
 "nbformat_minor": 2
}
