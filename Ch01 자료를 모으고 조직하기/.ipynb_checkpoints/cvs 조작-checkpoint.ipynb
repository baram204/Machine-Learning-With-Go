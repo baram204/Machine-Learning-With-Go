{
 "cells": [
  {
   "cell_type": "code",
   "execution_count": 1,
   "metadata": {},
   "outputs": [
    {
     "name": "stdout",
     "output_type": "stream",
     "text": [
      "[[5.1 3.5 1.4 0.2 Iris-setosa] [4.9 3.0 1.4 0.2 Iris-setosa] [4.7 3.2 1.3 0.2 Iris-setosa] [7.0 3.2 4.7 1.4 Iris-versicolor] [6.4 3.2 4.5 1.5 Iris-versicolor] [6.9 3.1 4.9 1.5 Iris-versicolor] [5.5 2.3 4.0 1.3 Iris-versicolor] [6.5 2.8 4.6 1.5 Iris-versicolor]]\n",
      "262\n",
      "<nil>\n"
     ]
    }
   ],
   "source": [
    "import (\n",
    "\"strings\"\n",
    "     \"encoding/csv\"\n",
    "    \"fmt\"\n",
    "    )\n",
    "\n",
    "csvStr := `\n",
    "5.1,3.5,1.4,0.2,Iris-setosa\n",
    "4.9,3.0,1.4,0.2,Iris-setosa\n",
    "4.7,3.2,1.3,0.2,Iris-setosa\n",
    "7.0,3.2,4.7,1.4,Iris-versicolor\n",
    "6.4,3.2,4.5,1.5,Iris-versicolor\n",
    "6.9,3.1,4.9,1.5,Iris-versicolor\n",
    "5.5,2.3,4.0,1.3,Iris-versicolor\n",
    "6.5,2.8,4.6,1.5,Iris-versicolor\n",
    "`\n",
    "\n",
    "df := strings.NewReader(csvStr)\n",
    "r := csv.NewReader(df)\n",
    "rawCSVData1, err := r.ReadAll()\n",
    "\n",
    "// this printed well\n",
    "fmt.Println(rawCSVData1)\n",
    "\n",
    "\n"
   ]
  },
  {
   "cell_type": "code",
   "execution_count": 2,
   "metadata": {},
   "outputs": [
    {
     "name": "stdout",
     "output_type": "stream",
     "text": [
      "[5.1 3.5 1.4 0.2 Iris-setosa]\n",
      "[5.1 3.5 1.4 0.2 Iris-setosa]\n",
      "[4.9 3.0 1.4 0.2 Iris-setosa]\n",
      "[4.9 3.0 1.4 0.2]\n",
      "Iris-setosa\n"
     ]
    }
   ],
   "source": [
    "row := rawCSVData1[0]\n",
    "\n",
    "// expect [5.1 3.5 1.4 0.2 Iris-setosa]\n",
    "// but    [5.1 3.5 1.4 Iris-setosa Iris-setosa]\n",
    "fmt.Println(row)\n",
    "\n",
    "// expect [5.1 3.5 1.4 0.2 Iris-setosa]\n",
    "// but    [5.1 3.5 1.4 Iris-setosa Iris-setosa]\n",
    "for i := 0; i<1;i++{\n",
    "    fmt.Println(rawCSVData1[i])\n",
    "}\n",
    "\n",
    "\n",
    "// expect [5.1 3.5 1.4 0.2 Iris-setosa]\n",
    "// but    [4.9 3.0 1.4 Iris-setosa Iris-setosa]\n",
    "for ind, row := range rawCSVData1 {\n",
    "    if ind == 1 {\n",
    "        \n",
    "        // expect [5.1 3.5 1.4 0.2 Iris-setosa]\n",
    "        // but    [4.9 3.0 1.4 Iris-setosa Iris-setosa]\n",
    "        fmt.Println(row)\n",
    "        \n",
    "        // expect [4.9 3.0 1.4 0.2]\n",
    "        // but    [4.9 3.0 1.4 Iris-setosa]\n",
    "        fmt.Println(row[0:4])\n",
    "        \n",
    "        // expect Iris-setosa\n",
    "        // yes  Iris-setosa\n",
    "        \n",
    "        fmt.Println(row[4])\n",
    "\n",
    "    }\n",
    "}"
   ]
  },
  {
   "cell_type": "code",
   "execution_count": 2,
   "metadata": {
    "scrolled": true
   },
   "outputs": [
    {
     "name": "stdout",
     "output_type": "stream",
     "text": [
      "[[5.1 3.5 1.4 0.2 'Iris-setosa'] [4.9 3.0 1.4 0.2 'Iris-setosa'] [4.7 3.2 1.3 0.2 'Iris-setosa'] [7.0 3.2 4.7 1.4 'Iris-versicolor'] [6.4 3.2 4.5 1.5 'Iris-versicolor'] [6.9 3.1 4.9 1.5 'Iris-versicolor'] [5.5 2.3 4.0 1.3 'Iris-versicolor'] [6.5 2.8 4.6 1.5 'Iris-versicolor']]\n",
      "[5.1 3.5 1.4 0.2 'Iris-setosa']\n",
      "[5.1 3.5 1.4 0.2 Iris-setosa]\n",
      "[4.9 3.0 1.4 0.2 Iris-setosa]\n",
      "[4.9 3.0 1.4 0.2]\n",
      "Iris-setosa\n"
     ]
    }
   ],
   "source": [
    "\t// 빈 슬라이스\n",
    "rawCSVData2 := [][]string{}\n",
    "\n",
    "\n",
    "for _, row := range rawCSVData1{\n",
    "    // 문자열만 홑따움표 처리\n",
    "    singleQuoted := []string{\n",
    "       row[0], row[1], row[2], row[3],\"'\"+row[4]+\"'\"}\n",
    "\n",
    "    // 완성된 \n",
    "    rawCSVData2 = append(rawCSVData2, singleQuoted)\n",
    "    }\n",
    "fmt.Println(rawCSVData2)\n",
    "\n",
    "row := rawCSVData2[0]\n",
    "\n",
    "// expect [5.1 3.5 1.4 0.2 Iris-setosa]\n",
    "// but    [5.1 3.5 1.4 Iris-setosa Iris-setosa]\n",
    "fmt.Println(row)\n",
    "\n",
    "// expect [5.1 3.5 1.4 0.2 Iris-setosa]\n",
    "// but    [5.1 3.5 1.4 Iris-setosa Iris-setosa]\n",
    "for i := 0; i<1;i++{\n",
    "    fmt.Println(rawCSVData1[i])\n",
    "}\n",
    "\n",
    "\n",
    "// expect [5.1 3.5 1.4 0.2 Iris-setosa]\n",
    "// but    [4.9 3.0 1.4 Iris-setosa Iris-setosa]\n",
    "for ind, row := range rawCSVData1 {\n",
    "    if ind == 1 {\n",
    "        \n",
    "        // expect [5.1 3.5 1.4 0.2 Iris-setosa]\n",
    "        // but    [4.9 3.0 1.4 Iris-setosa Iris-setosa]\n",
    "        fmt.Println(row)\n",
    "        \n",
    "        // expect [4.9 3.0 1.4 0.2]\n",
    "        // but    [4.9 3.0 1.4 Iris-setosa]\n",
    "        fmt.Println(row[0:4])\n",
    "        \n",
    "        // expect Iris-setosa\n",
    "        // yes  Iris-setosa\n",
    "        \n",
    "        fmt.Println(row[4])\n",
    "\n",
    "    }\n",
    "}\n"
   ]
  },
  {
   "cell_type": "code",
   "execution_count": null,
   "metadata": {},
   "outputs": [],
   "source": [
    "// 빈 슬라이스\n",
    "rawCSVData4 := [][]string{}\n",
    "\n",
    "\n",
    "for _, row := range rawCSVData1{\n",
    "    // 문자열만 홑따움표 처리\n",
    "    singleQuoted := []string{\n",
    "        row[0],\n",
    "        row[1],\n",
    "        row[2],\n",
    "        row[3],\n",
    "        \"'\"+row[4]+\"'\"}\n",
    "\n",
    "    // 완성된 \n",
    "    rawCSVData4 = append(rawCSVData4, singleQuoted)\n",
    "    }\n",
    "fmt.Println(rawCSVData4)"
   ]
  },
  {
   "cell_type": "code",
   "execution_count": null,
   "metadata": {},
   "outputs": [],
   "source": [
    "rawCSVData333 := [][]string{}\n",
    "\n",
    "\n",
    "row := rawCSVData1[0]\n",
    "numbers := rawCSVData1[0][:4]\n",
    "names := rawCSVData1[0][4]\n",
    "\n",
    "fmt.Println(numbers)\n",
    "fmt.Println(names)\n",
    "\n",
    "for _, row := range rawCSVData1{\n",
    "    \n",
    "    rawCSVData333 = append(rawCSVData333, append(row[0:3],row[4]))\n",
    "    \n",
    "    \n",
    "    }\n",
    "fmt.Println(rawCSVData333)"
   ]
  }
 ],
 "metadata": {
  "hide_input": false,
  "kernelspec": {
   "display_name": "Go (lgo)",
   "language": "go",
   "name": "lgo"
  },
  "language_info": {
   "file_extension": "",
   "mimetype": "",
   "name": "go",
   "version": ""
  },
  "latex_envs": {
   "LaTeX_envs_menu_present": true,
   "autoclose": false,
   "autocomplete": true,
   "bibliofile": "biblio.bib",
   "cite_by": "apalike",
   "current_citInitial": 1,
   "eqLabelWithNumbers": true,
   "eqNumInitial": 1,
   "hotkeys": {
    "equation": "Ctrl-E",
    "itemize": "Ctrl-I"
   },
   "labels_anchors": false,
   "latex_user_defs": false,
   "report_style_numbering": false,
   "user_envs_cfg": false
  },
  "toc": {
   "nav_menu": {},
   "number_sections": true,
   "sideBar": true,
   "skip_h1_title": false,
   "title_cell": "Table of Contents",
   "title_sidebar": "Contents",
   "toc_cell": false,
   "toc_position": {},
   "toc_section_display": true,
   "toc_window_display": false
  }
 },
 "nbformat": 4,
 "nbformat_minor": 2
}
