{
 "cells": [
  {
   "cell_type": "markdown",
   "metadata": {},
   "source": [
    "# CSV 파일 입출력"
   ]
  },
  {
   "cell_type": "markdown",
   "metadata": {},
   "source": [
    "## 필요 패키지"
   ]
  },
  {
   "cell_type": "code",
   "execution_count": 39,
   "metadata": {
    "hide_input": false
   },
   "outputs": [],
   "source": [
    "import (\n",
    "    \"encoding/csv\"\n",
    "    \"fmt\"\n",
    "    \"log\"\n",
    "    \"os\"\n",
    ")"
   ]
  },
  {
   "cell_type": "markdown",
   "metadata": {},
   "source": [
    "## 현재 위치 확인"
   ]
  },
  {
   "cell_type": "code",
   "execution_count": 5,
   "metadata": {
    "code_folding": []
   },
   "outputs": [
    {
     "name": "stdout",
     "output_type": "stream",
     "text": [
      "/mlgo_execercise/Ch01_Gather_And_Organiz_data\n",
      "46\n",
      "<nil>\n"
     ]
    }
   ],
   "source": [
    "    dir, err := os.Getwd()\n",
    "\n",
    "    if err != nil {\n",
    "        log.Fatal(err)\n",
    "    }\n",
    "\n",
    "    fmt.Println(dir)"
   ]
  },
  {
   "cell_type": "markdown",
   "metadata": {},
   "source": [
    "## 파일 열고 닫기"
   ]
  },
  {
   "cell_type": "markdown",
   "metadata": {},
   "source": [
    "좀 더 자세한 내용은 [여기](https://stackoverflow.com/questions/36111777/golang-how-to-read-a-text-file)\n",
    "\n",
    "파일로 향하는 포인터를 얻는다."
   ]
  },
  {
   "cell_type": "code",
   "execution_count": 59,
   "metadata": {},
   "outputs": [],
   "source": [
    "    // 데이터 셋 파일 열면서 결과와 오류 받기.\n",
    "    f, err := os.Open(\"./data/iris.csv\")\n",
    "    if err != nil {\n",
    "        log.Fatal(err)\n",
    "    }\n",
    "    // 모든 작업이 마친 후 열린 파일을 닫히도록 미리 작업을 지연시켜 놓는다.\n",
    "    // \tdefer f.Close()"
   ]
  },
  {
   "cell_type": "markdown",
   "metadata": {},
   "source": [
    "> defer 를 주석처리한 이유는 아래쪽에서 연결을 쓸 것인데 닫아 버리면 커널이 죽어 버리기 때문이다."
   ]
  },
  {
   "cell_type": "markdown",
   "metadata": {},
   "source": [
    "# 내용 읽기"
   ]
  },
  {
   "cell_type": "markdown",
   "metadata": {},
   "source": [
    "접속을 새 리더객체를 만드는데 사용한 뒤.\n",
    "\n",
    "`r1 := csv.NewReader(f)`\n",
    "\n",
    "리더객체를 통해서 실제로 자료를 읽어낸다.\n",
    "\n",
    "`rawCSVData1, err := r1.ReadAll()`\n"
   ]
  },
  {
   "cell_type": "markdown",
   "metadata": {},
   "source": [
    "## 한번에 전부 읽기"
   ]
  },
  {
   "cell_type": "code",
   "execution_count": 41,
   "metadata": {
    "code_folding": [],
    "scrolled": true
   },
   "outputs": [
    {
     "name": "stdout",
     "output_type": "stream",
     "text": [
      "[[5.1 3.5 1.4 0.2 Iris-setosa] [4.9 3.0 1.4 0.2 Iris-setosa] [4.7 3.2 1.3 0.2 Iris-setosa] [4.6 3.1 1.5 0.2 Iris-setosa] [5.0 3.6 1.4 0.2 Iris-setosa] [5.4 3.9 1.7 0.4 Iris-setosa] [4.6 3.4 1.4 0.3 Iris-setosa] [5.0 3.4 1.5 0.2 Iris-setosa] [4.4 2.9 1.4 0.2 Iris-setosa] [4.9 3.1 1.5 0.1 Iris-setosa] [5.4 3.7 1.5 0.2 Iris-setosa] [4.8 3.4 1.6 0.2 Iris-setosa] [4.8 3.0 1.4 0.1 Iris-setosa] [4.3 3.0 1.1 0.1 Iris-setosa] [5.8 4.0 1.2 0.2 Iris-setosa] [5.7 4.4 1.5 0.4 Iris-setosa] [5.4 3.9 1.3 0.4 Iris-setosa] [5.1 3.5 1.4 0.3 Iris-setosa] [5.7 3.8 1.7 0.3 Iris-setosa] [5.1 3.8 1.5 0.3 Iris-setosa] [5.4 3.4 1.7 0.2 Iris-setosa] [5.1 3.7 1.5 0.4 Iris-setosa] [4.6 3.6 1.0 0.2 Iris-setosa] [5.1 3.3 1.7 0.5 Iris-setosa] [4.8 3.4 1.9 0.2 Iris-setosa] [5.0 3.0 1.6 0.2 Iris-setosa] [5.0 3.4 1.6 0.4 Iris-setosa] [5.2 3.5 1.5 0.2 Iris-setosa] [5.2 3.4 1.4 0.2 Iris-setosa] [4.7 3.2 1.6 0.2 Iris-setosa] [4.8 3.1 1.6 0.2 Iris-setosa] [5.4 3.4 1.5 0.4 Iris-setosa] [5.2 4.1 1.5 0.1 Iris-setosa] [5.5 4.2 1.4 0.2 Iris-setosa] [4.9 3.1 1.5 0.1 Iris-setosa] [5.0 3.2 1.2 0.2 Iris-setosa] [5.5 3.5 1.3 0.2 Iris-setosa] [4.9 3.1 1.5 0.1 Iris-setosa] [4.4 3.0 1.3 0.2 Iris-setosa] [5.1 3.4 1.5 0.2 Iris-setosa] [5.0 3.5 1.3 0.3 Iris-setosa] [4.5 2.3 1.3 0.3 Iris-setosa] [4.4 3.2 1.3 0.2 Iris-setosa] [5.0 3.5 1.6 0.6 Iris-setosa] [5.1 3.8 1.9 0.4 Iris-setosa] [4.8 3.0 1.4 0.3 Iris-setosa] [5.1 3.8 1.6 0.2 Iris-setosa] [4.6 3.2 1.4 0.2 Iris-setosa] [5.3 3.7 1.5 0.2 Iris-setosa] [5.0 3.3 1.4 0.2 Iris-setosa] [7.0 3.2 4.7 1.4 Iris-versicolor] [6.4 3.2 4.5 1.5 Iris-versicolor] [6.9 3.1 4.9 1.5 Iris-versicolor] [5.5 2.3 4.0 1.3 Iris-versicolor] [6.5 2.8 4.6 1.5 Iris-versicolor] [5.7 2.8 4.5 1.3 Iris-versicolor] [6.3 3.3 4.7 1.6 Iris-versicolor] [4.9 2.4 3.3 1.0 Iris-versicolor] [6.6 2.9 4.6 1.3 Iris-versicolor] [5.2 2.7 3.9 1.4 Iris-versicolor] [5.0 2.0 3.5 1.0 Iris-versicolor] [5.9 3.0 4.2 1.5 Iris-versicolor] [6.0 2.2 4.0 1.0 Iris-versicolor] [6.1 2.9 4.7 1.4 Iris-versicolor] [5.6 2.9 3.6 1.3 Iris-versicolor] [6.7 3.1 4.4 1.4 Iris-versicolor] [5.6 3.0 4.5 1.5 Iris-versicolor] [5.8 2.7 4.1 1.0 Iris-versicolor] [6.2 2.2 4.5 1.5 Iris-versicolor] [5.6 2.5 3.9 1.1 Iris-versicolor] [5.9 3.2 4.8 1.8 Iris-versicolor] [6.1 2.8 4.0 1.3 Iris-versicolor] [6.3 2.5 4.9 1.5 Iris-versicolor] [6.1 2.8 4.7 1.2 Iris-versicolor] [6.4 2.9 4.3 1.3 Iris-versicolor] [6.6 3.0 4.4 1.4 Iris-versicolor] [6.8 2.8 4.8 1.4 Iris-versicolor] [6.7 3.0 5.0 1.7 Iris-versicolor] [6.0 2.9 4.5 1.5 Iris-versicolor] [5.7 2.6 3.5 1.0 Iris-versicolor] [5.5 2.4 3.8 1.1 Iris-versicolor] [5.5 2.4 3.7 1.0 Iris-versicolor] [5.8 2.7 3.9 1.2 Iris-versicolor] [6.0 2.7 5.1 1.6 Iris-versicolor] [5.4 3.0 4.5 1.5 Iris-versicolor] [6.0 3.4 4.5 1.6 Iris-versicolor] [6.7 3.1 4.7 1.5 Iris-versicolor] [6.3 2.3 4.4 1.3 Iris-versicolor] [5.6 3.0 4.1 1.3 Iris-versicolor] [5.5 2.5 4.0 1.3 Iris-versicolor] [5.5 2.6 4.4 1.2 Iris-versicolor] [6.1 3.0 4.6 1.4 Iris-versicolor] [5.8 2.6 4.0 1.2 Iris-versicolor] [5.0 2.3 3.3 1.0 Iris-versicolor] [5.6 2.7 4.2 1.3 Iris-versicolor] [5.7 3.0 4.2 1.2 Iris-versicolor] [5.7 2.9 4.2 1.3 Iris-versicolor] [6.2 2.9 4.3 1.3 Iris-versicolor] [5.1 2.5 3.0 1.1 Iris-versicolor] [5.7 2.8 4.1 1.3 Iris-versicolor] [6.3 3.3 6.0 2.5 Iris-virginica] [5.8 2.7 5.1 1.9 Iris-virginica] [7.1 3.0 5.9 2.1 Iris-virginica] [6.3 2.9 5.6 1.8 Iris-virginica] [6.5 3.0 5.8 2.2 Iris-virginica] [7.6 3.0 6.6 2.1 Iris-virginica] [4.9 2.5 4.5 1.7 Iris-virginica] [7.3 2.9 6.3 1.8 Iris-virginica] [6.7 2.5 5.8 1.8 Iris-virginica] [7.2 3.6 6.1 2.5 Iris-virginica] [6.5 3.2 5.1 2.0 Iris-virginica] [6.4 2.7 5.3 1.9 Iris-virginica] [6.8 3.0 5.5 2.1 Iris-virginica] [5.7 2.5 5.0 2.0 Iris-virginica] [5.8 2.8 5.1 2.4 Iris-virginica] [6.4 3.2 5.3 2.3 Iris-virginica] [6.5 3.0 5.5 1.8 Iris-virginica] [7.7 3.8 6.7 2.2 Iris-virginica] [7.7 2.6 6.9 2.3 Iris-virginica] [6.0 2.2 5.0 1.5 Iris-virginica] [6.9 3.2 5.7 2.3 Iris-virginica] [5.6 2.8 4.9 2.0 Iris-virginica] [7.7 2.8 6.7 2.0 Iris-virginica] [6.3 2.7 4.9 1.8 Iris-virginica] [6.7 3.3 5.7 2.1 Iris-virginica] [7.2 3.2 6.0 1.8 Iris-virginica] [6.2 2.8 4.8 1.8 Iris-virginica] [6.1 3.0 4.9 1.8 Iris-virginica] [6.4 2.8 5.6 2.1 Iris-virginica] [7.2 3.0 5.8 1.6 Iris-virginica] [7.4 2.8 6.1 1.9 Iris-virginica] [7.9 3.8 6.4 2.0 Iris-virginica] [6.4 2.8 5.6 2.2 Iris-virginica] [6.3 2.8 5.1 1.5 Iris-virginica] [6.1 2.6 5.6 1.4 Iris-virginica] [7.7 3.0 6.1 2.3 Iris-virginica] [6.3 3.4 5.6 2.4 Iris-virginica] [6.4 3.1 5.5 1.8 Iris-virginica] [6.0 3.0 4.8 1.8 Iris-virginica] [6.9 3.1 5.4 2.1 Iris-virginica] [6.7 3.1 5.6 2.4 Iris-virginica] [6.9 3.1 5.1 2.3 Iris-virginica] [5.8 2.7 5.1 1.9 Iris-virginica] [6.8 3.2 5.9 2.3 Iris-virginica] [6.7 3.3 5.7 2.5 Iris-virginica] [6.7 3.0 5.2 2.3 Iris-virginica] [6.3 2.5 5.0 1.9 Iris-virginica] [6.5 3.0 5.2 2.0 Iris-virginica] [6.2 3.4 5.4 2.3 Iris-virginica] [5.9 3.0 5.1 1.8 Iris-virginica]]\n",
      "4852\n",
      "<nil>\n"
     ]
    }
   ],
   "source": [
    "    // CSV 열린 접속으로 리더를 만들고\n",
    "    r1 := csv.NewReader(f)\n",
    "    // 모두 읽기 시도 후 결과와 오류를 받는다.\n",
    "    rawCSVData1, err := r1.ReadAll()\n",
    "    if err != nil {\n",
    "        log.Fatal(err)\n",
    "    }\n",
    "    fmt.Println(rawCSVData1)"
   ]
  },
  {
   "cell_type": "markdown",
   "metadata": {},
   "source": [
    "## 한 줄씩 읽기"
   ]
  },
  {
   "cell_type": "markdown",
   "metadata": {},
   "source": [
    "추출된 한 줄 값을 자료 묶음(dataset)에 집어 넣으려면 append 를 사용한다.\n",
    "\n",
    "```\n",
    "var 자료묶음 타입\n",
    "자료묶음= append(자료묶음, 추출값)\n",
    "```"
   ]
  },
  {
   "cell_type": "markdown",
   "metadata": {},
   "source": [
    "스칼라 for comphrension 같은 고의 for range 로 컬렉션 순회 동작을 할 수 있다.\n",
    "\n",
    "```\n",
    "for 인덱스, 값 := range 컬렉션{\n",
    "    fmt.Println(인덱스,값)\n",
    "}\n",
    "```"
   ]
  },
  {
   "cell_type": "markdown",
   "metadata": {},
   "source": [
    "파일의 끝 오류 검출을 위해 io 패키지 필요"
   ]
  },
  {
   "cell_type": "code",
   "execution_count": 17,
   "metadata": {},
   "outputs": [],
   "source": [
    "import (\n",
    "    \"io\"\n",
    ")"
   ]
  },
  {
   "cell_type": "code",
   "execution_count": 65,
   "metadata": {
    "scrolled": true
   },
   "outputs": [
    {
     "name": "stdout",
     "output_type": "stream",
     "text": [
      "[5.1 3.5 1.4 0.2 Iris-setosa]\n",
      "[4.9 3.0 1.4 0.2 Iris-setosa]\n",
      "[4.7 3.2 1.3 0.2 Iris-setosa]\n",
      "[4.6 3.1 1.5 0.2 Iris-setosa]\n",
      "[5.0 3.6 1.4 0.2 Iris-setosa]\n",
      "[5.4 3.9 1.7 0.4 Iris-setosa]\n",
      "[4.6 3.4 1.4 0.3 Iris-setosa]\n",
      "[5.0 3.4 1.5 0.2 Iris-setosa]\n",
      "[4.4 2.9 1.4 0.2 Iris-setosa]\n",
      "[4.9 3.1 1.5 0.1 Iris-setosa]\n",
      "[5.4 3.7 1.5 0.2 Iris-setosa]\n",
      "[4.8 3.4 1.6 0.2 Iris-setosa]\n",
      "[4.8 3.0 1.4 0.1 Iris-setosa]\n",
      "[4.3 3.0 1.1 0.1 Iris-setosa]\n",
      "[5.8 4.0 1.2 0.2 Iris-setosa]\n",
      "[5.7 4.4 1.5 0.4 Iris-setosa]\n",
      "[5.4 3.9 1.3 0.4 Iris-setosa]\n",
      "[5.1 3.5 1.4 0.3 Iris-setosa]\n",
      "[5.7 3.8 1.7 0.3 Iris-setosa]\n",
      "[5.1 3.8 1.5 0.3 Iris-setosa]\n",
      "[5.4 3.4 1.7 0.2 Iris-setosa]\n",
      "[5.1 3.7 1.5 0.4 Iris-setosa]\n",
      "[4.6 3.6 1.0 0.2 Iris-setosa]\n",
      "[5.1 3.3 1.7 0.5 Iris-setosa]\n",
      "[4.8 3.4 1.9 0.2 Iris-setosa]\n",
      "[5.0 3.0 1.6 0.2 Iris-setosa]\n",
      "[5.0 3.4 1.6 0.4 Iris-setosa]\n",
      "[5.2 3.5 1.5 0.2 Iris-setosa]\n",
      "[5.2 3.4 1.4 0.2 Iris-setosa]\n",
      "[4.7 3.2 1.6 0.2 Iris-setosa]\n",
      "[4.8 3.1 1.6 0.2 Iris-setosa]\n",
      "[5.4 3.4 1.5 0.4 Iris-setosa]\n",
      "[5.2 4.1 1.5 0.1 Iris-setosa]\n",
      "[5.5 4.2 1.4 0.2 Iris-setosa]\n",
      "[4.9 3.1 1.5 0.1 Iris-setosa]\n",
      "[5.0 3.2 1.2 0.2 Iris-setosa]\n",
      "[5.5 3.5 1.3 0.2 Iris-setosa]\n",
      "[4.9 3.1 1.5 0.1 Iris-setosa]\n",
      "[4.4 3.0 1.3 0.2 Iris-setosa]\n",
      "[5.1 3.4 1.5 0.2 Iris-setosa]\n",
      "[5.0 3.5 1.3 0.3 Iris-setosa]\n",
      "[4.5 2.3 1.3 0.3 Iris-setosa]\n",
      "[4.4 3.2 1.3 0.2 Iris-setosa]\n",
      "[5.0 3.5 1.6 0.6 Iris-setosa]\n",
      "[5.1 3.8 1.9 0.4 Iris-setosa]\n",
      "[4.8 3.0 1.4 0.3 Iris-setosa]\n",
      "[5.1 3.8 1.6 0.2 Iris-setosa]\n",
      "[4.6 3.2 1.4 0.2 Iris-setosa]\n",
      "[5.3 3.7 1.5 0.2 Iris-setosa]\n",
      "[5.0 3.3 1.4 0.2 Iris-setosa]\n",
      "[7.0 3.2 4.7 1.4 Iris-versicolor]\n",
      "[6.4 3.2 4.5 1.5 Iris-versicolor]\n",
      "[6.9 3.1 4.9 1.5 Iris-versicolor]\n",
      "[5.5 2.3 4.0 1.3 Iris-versicolor]\n",
      "[6.5 2.8 4.6 1.5 Iris-versicolor]\n",
      "[5.7 2.8 4.5 1.3 Iris-versicolor]\n",
      "[6.3 3.3 4.7 1.6 Iris-versicolor]\n",
      "[4.9 2.4 3.3 1.0 Iris-versicolor]\n",
      "[6.6 2.9 4.6 1.3 Iris-versicolor]\n",
      "[5.2 2.7 3.9 1.4 Iris-versicolor]\n",
      "[5.0 2.0 3.5 1.0 Iris-versicolor]\n",
      "[5.9 3.0 4.2 1.5 Iris-versicolor]\n",
      "[6.0 2.2 4.0 1.0 Iris-versicolor]\n",
      "[6.1 2.9 4.7 1.4 Iris-versicolor]\n",
      "[5.6 2.9 3.6 1.3 Iris-versicolor]\n",
      "[6.7 3.1 4.4 1.4 Iris-versicolor]\n",
      "[5.6 3.0 4.5 1.5 Iris-versicolor]\n",
      "[5.8 2.7 4.1 1.0 Iris-versicolor]\n",
      "[6.2 2.2 4.5 1.5 Iris-versicolor]\n",
      "[5.6 2.5 3.9 1.1 Iris-versicolor]\n",
      "[5.9 3.2 4.8 1.8 Iris-versicolor]\n",
      "[6.1 2.8 4.0 1.3 Iris-versicolor]\n",
      "[6.3 2.5 4.9 1.5 Iris-versicolor]\n",
      "[6.1 2.8 4.7 1.2 Iris-versicolor]\n",
      "[6.4 2.9 4.3 1.3 Iris-versicolor]\n",
      "[6.6 3.0 4.4 1.4 Iris-versicolor]\n",
      "[6.8 2.8 4.8 1.4 Iris-versicolor]\n",
      "[6.7 3.0 5.0 1.7 Iris-versicolor]\n",
      "[6.0 2.9 4.5 1.5 Iris-versicolor]\n",
      "[5.7 2.6 3.5 1.0 Iris-versicolor]\n",
      "[5.5 2.4 3.8 1.1 Iris-versicolor]\n",
      "[5.5 2.4 3.7 1.0 Iris-versicolor]\n",
      "[5.8 2.7 3.9 1.2 Iris-versicolor]\n",
      "[6.0 2.7 5.1 1.6 Iris-versicolor]\n",
      "[5.4 3.0 4.5 1.5 Iris-versicolor]\n",
      "[6.0 3.4 4.5 1.6 Iris-versicolor]\n",
      "[6.7 3.1 4.7 1.5 Iris-versicolor]\n",
      "[6.3 2.3 4.4 1.3 Iris-versicolor]\n",
      "[5.6 3.0 4.1 1.3 Iris-versicolor]\n",
      "[5.5 2.5 4.0 1.3 Iris-versicolor]\n",
      "[5.5 2.6 4.4 1.2 Iris-versicolor]\n",
      "[6.1 3.0 4.6 1.4 Iris-versicolor]\n",
      "[5.8 2.6 4.0 1.2 Iris-versicolor]\n",
      "[5.0 2.3 3.3 1.0 Iris-versicolor]\n",
      "[5.6 2.7 4.2 1.3 Iris-versicolor]\n",
      "[5.7 3.0 4.2 1.2 Iris-versicolor]\n",
      "[5.7 2.9 4.2 1.3 Iris-versicolor]\n",
      "[6.2 2.9 4.3 1.3 Iris-versicolor]\n",
      "[5.1 2.5 3.0 1.1 Iris-versicolor]\n",
      "[5.7 2.8 4.1 1.3 Iris-versicolor]\n",
      "[6.3 3.3 6.0 2.5 Iris-virginica]\n",
      "[5.8 2.7 5.1 1.9 Iris-virginica]\n",
      "[7.1 3.0 5.9 2.1 Iris-virginica]\n",
      "[6.3 2.9 5.6 1.8 Iris-virginica]\n",
      "[6.5 3.0 5.8 2.2 Iris-virginica]\n",
      "[7.6 3.0 6.6 2.1 Iris-virginica]\n",
      "[4.9 2.5 4.5 1.7 Iris-virginica]\n",
      "[7.3 2.9 6.3 1.8 Iris-virginica]\n",
      "[6.7 2.5 5.8 1.8 Iris-virginica]\n",
      "[7.2 3.6 6.1 2.5 Iris-virginica]\n",
      "[6.5 3.2 5.1 2.0 Iris-virginica]\n",
      "[6.4 2.7 5.3 1.9 Iris-virginica]\n",
      "[6.8 3.0 5.5 2.1 Iris-virginica]\n",
      "[5.7 2.5 5.0 2.0 Iris-virginica]\n",
      "[5.8 2.8 5.1 2.4 Iris-virginica]\n",
      "[6.4 3.2 5.3 2.3 Iris-virginica]\n",
      "[6.5 3.0 5.5 1.8 Iris-virginica]\n",
      "[7.7 3.8 6.7 2.2 Iris-virginica]\n",
      "[7.7 2.6 6.9 2.3 Iris-virginica]\n",
      "[6.0 2.2 5.0 1.5 Iris-virginica]\n",
      "[6.9 3.2 5.7 2.3 Iris-virginica]\n",
      "[5.6 2.8 4.9 2.0 Iris-virginica]\n",
      "[7.7 2.8 6.7 2.0 Iris-virginica]\n",
      "[6.3 2.7 4.9 1.8 Iris-virginica]\n",
      "[6.7 3.3 5.7 2.1 Iris-virginica]\n",
      "[7.2 3.2 6.0 1.8 Iris-virginica]\n",
      "[6.2 2.8 4.8 1.8 Iris-virginica]\n",
      "[6.1 3.0 4.9 1.8 Iris-virginica]\n",
      "[6.4 2.8 5.6 2.1 Iris-virginica]\n",
      "[7.2 3.0 5.8 1.6 Iris-virginica]\n",
      "[7.4 2.8 6.1 1.9 Iris-virginica]\n",
      "[7.9 3.8 6.4 2.0 Iris-virginica]\n",
      "[6.4 2.8 5.6 2.2 Iris-virginica]\n",
      "[6.3 2.8 5.1 1.5 Iris-virginica]\n",
      "[6.1 2.6 5.6 1.4 Iris-virginica]\n",
      "[7.7 3.0 6.1 2.3 Iris-virginica]\n",
      "[6.3 3.4 5.6 2.4 Iris-virginica]\n",
      "[6.4 3.1 5.5 1.8 Iris-virginica]\n",
      "[6.0 3.0 4.8 1.8 Iris-virginica]\n",
      "[6.9 3.1 5.4 2.1 Iris-virginica]\n",
      "[6.7 3.1 5.6 2.4 Iris-virginica]\n",
      "[6.9 3.1 5.1 2.3 Iris-virginica]\n",
      "[5.8 2.7 5.1 1.9 Iris-virginica]\n",
      "[6.8 3.2 5.9 2.3 Iris-virginica]\n",
      "[6.7 3.3 5.7 2.5 Iris-virginica]\n",
      "[6.7 3.0 5.2 2.3 Iris-virginica]\n",
      "[6.3 2.5 5.0 1.9 Iris-virginica]\n",
      "[6.5 3.0 5.2 2.0 Iris-virginica]\n",
      "[6.2 3.4 5.4 2.3 Iris-virginica]\n",
      "[5.9 3.0 5.1 1.8 Iris-virginica]\n"
     ]
    }
   ],
   "source": [
    "func main() {\n",
    "\n",
    "    // 데이터 셋 파일 열면서 결과와 오류 받기.\n",
    "    f, err := os.Open(\"./data/iris.csv\")\n",
    "    if err != nil {\n",
    "        log.Fatal(err)\n",
    "    }\n",
    "    // 모든 작업이 마친 후 열린 파일을 닫히도록 미리 작업을 지연시켜 놓는다.\n",
    "    defer f.Close()\n",
    "    \n",
    "    r2 := csv.NewReader(f)\n",
    "    r2.FieldsPerRecord = -1\n",
    "\n",
    "\n",
    "    var rawCSVData [][]string\n",
    "\n",
    "\n",
    "    for {\n",
    "\n",
    "        // 한 줄을 읽어온다.\n",
    "        record, err := r2.Read()\n",
    "        // 그리고 오류가 파일의 끝(End of file)이라면\n",
    "        if err == io.EOF {\n",
    "            // 중단!\n",
    "            break\n",
    "        }\n",
    "\n",
    "        // EOF 가 아닌 다른 오류라면 출력하고 계속한다.\n",
    "        if err != nil {\n",
    "            log.Println(err)\n",
    "            continue\n",
    "        }\n",
    "\n",
    "        rawCSVData = append(rawCSVData, record)\n",
    "\n",
    "    }\n",
    "\n",
    "    for _, record := range rawCSVData {\n",
    "        fmt.Println(record)\n",
    "    }\n",
    "}\n",
    "\n",
    "main()"
   ]
  },
  {
   "cell_type": "markdown",
   "metadata": {},
   "source": [
    "## 필드 개수 제한 및 유효성 검증"
   ]
  },
  {
   "cell_type": "markdown",
   "metadata": {},
   "source": [
    "자료를 레코드(줄) 단위로 읽을 때 한 줄에 있어야 할 필드(열)의 개수를 설정할 수 있다.\n",
    "    \n",
    "    ```\n",
    "    // Create a new CSV reader reading from the opened file.\n",
    "\treader := csv.NewReader(f)\n",
    "\n",
    "\t// 한 행에 5 개의 필드가 있어야 한다고 설정한다.\n",
    "\t// 즉 5개가 있는지 유효성 검증을 할 수 있게 되는 것이다.\n",
    "\treader.FieldsPerRecord = 5\n",
    "    ```"
   ]
  },
  {
   "cell_type": "markdown",
   "metadata": {},
   "source": [
    "다음처럼 원본 자료를 입력한 상태에서 한 필드 당 레코드는 5개여야 한다고 정해보자.\n",
    "\n",
    "행|자료|예외사항\n",
    "--|--|--\n",
    "그외|5.7, 4.4, 1.5, 0.4, Iris-setosa| 4열까지 숫자, 5열 문자\n",
    "16|5.4, 3.9, 1.|3열만 있고 2열 부족\n",
    "17|5.4, 3.9, 1.3, 0.4, blah, Iris-setosa| 갑자기 6번째 열이 있음"
   ]
  },
  {
   "cell_type": "code",
   "execution_count": 82,
   "metadata": {
    "scrolled": true
   },
   "outputs": [
    {
     "name": "stderr",
     "output_type": "stream",
     "text": [
      "2018/02/28 00:51:33 line 16, column 0: wrong number of fields in line\n",
      "2018/02/28 00:51:33 line 17, column 0: wrong number of fields in line\n"
     ]
    },
    {
     "name": "stdout",
     "output_type": "stream",
     "text": [
      "parsed 148 lines successfully\n",
      "[[5.1 3.5 1.4 0.2 Iris-setosa] [4.9 3.0 1.4 0.2 Iris-setosa] [4.7 3.2 1.3 0.2 Iris-setosa] [4.6 3.1 1.5 0.2 Iris-setosa] [5.0 3.6 1.4 0.2 Iris-setosa] [5.4 3.9 1.7 0.4 Iris-setosa] [4.6 3.4 1.4 0.3 Iris-setosa] [5.0 3.4 1.5 0.2 Iris-setosa] [4.4 2.9 1.4 0.2 Iris-setosa] [4.9 3.1 1.5 0.1 Iris-setosa] [5.4 3.7 1.5 0.2 Iris-setosa] [4.8 3.4 1.6 0.2 Iris-setosa] [4.8 3.0 1.4 0.1 Iris-setosa] [4.3 3.0 1.1 0.1 Iris-setosa] [5.8 4.0 1.2 0.2 Iris-setosa] [5.1 3.5 1.4 0.3 Iris-setosa] [5.7 3.8 1.7 0.3 Iris-setosa] [5.1 3.8 1.5 0.3 Iris-setosa] [5.4 3.4 1.7 0.2 Iris-setosa] [5.1 3.7 1.5 0.4 Iris-setosa] [4.6 3.6 1.0 0.2 Iris-setosa] [5.1 3.3 1.7 0.5 Iris-setosa] [4.8 3.4 1.9 0.2 Iris-setosa] [5.0 3.0 1.6 0.2 Iris-setosa] [5.0 3.4 1.6 0.4 Iris-setosa] [5.2 3.5 1.5 0.2 Iris-setosa] [5.2 3.4 1.4 0.2 Iris-setosa] [4.7 3.2 1.6 0.2 Iris-setosa] [4.8 3.1 1.6 0.2 Iris-setosa] [5.4 3.4 1.5 0.4 Iris-setosa] [5.2 4.1 1.5 0.1 Iris-setosa] [5.5 4.2 1.4 0.2 Iris-setosa] [4.9 3.1 1.5 0.1 Iris-setosa] [5.0 3.2 1.2 0.2 Iris-setosa] [5.5 3.5 1.3 0.2 Iris-setosa] [4.9 3.1 1.5 0.1 Iris-setosa] [4.4 3.0 1.3 0.2 Iris-setosa] [5.1 3.4 1.5 0.2 Iris-setosa] [5.0 3.5 1.3 0.3 Iris-setosa] [4.5 2.3 1.3 0.3 Iris-setosa] [4.4 3.2 1.3 0.2 Iris-setosa] [5.0 3.5 1.6 0.6 Iris-setosa] [5.1 3.8 1.9 0.4 Iris-setosa] [4.8 3.0 1.4 0.3 Iris-setosa] [5.1 3.8 1.6 0.2 Iris-setosa] [4.6 3.2 1.4 0.2 Iris-setosa] [5.3 3.7 1.5 0.2 Iris-setosa] [5.0 3.3 1.4 0.2 Iris-setosa] [7.0 3.2 4.7 1.4 Iris-versicolor] [6.4 3.2 4.5 1.5 Iris-versicolor] [6.9 3.1 4.9 1.5 Iris-versicolor] [5.5 2.3 4.0 1.3 Iris-versicolor] [6.5 2.8 4.6 1.5 Iris-versicolor] [5.7 2.8 4.5 1.3 Iris-versicolor] [6.3 3.3 4.7 1.6 Iris-versicolor] [4.9 2.4 3.3 1.0 Iris-versicolor] [6.6 2.9 4.6 1.3 Iris-versicolor] [5.2 2.7 3.9 1.4 Iris-versicolor] [5.0 2.0 3.5 1.0 Iris-versicolor] [5.9 3.0 4.2 1.5 Iris-versicolor] [6.0 2.2 4.0 1.0 Iris-versicolor] [6.1 2.9 4.7 1.4 Iris-versicolor] [5.6 2.9 3.6 1.3 Iris-versicolor] [6.7 3.1 4.4 1.4 Iris-versicolor] [5.6 3.0 4.5 1.5 Iris-versicolor] [5.8 2.7 4.1 1.0 Iris-versicolor] [6.2 2.2 4.5 1.5 Iris-versicolor] [5.6 2.5 3.9 1.1 Iris-versicolor] [5.9 3.2 4.8 1.8 Iris-versicolor] [6.1 2.8 4.0 1.3 Iris-versicolor] [6.3 2.5 4.9 1.5 Iris-versicolor] [6.1 2.8 4.7 1.2 Iris-versicolor] [6.4 2.9 4.3 1.3 Iris-versicolor] [6.6 3.0 4.4 1.4 Iris-versicolor] [6.8 2.8 4.8 1.4 Iris-versicolor] [6.7 3.0 5.0 1.7 Iris-versicolor] [6.0 2.9 4.5 1.5 Iris-versicolor] [5.7 2.6 3.5 1.0 Iris-versicolor] [5.5 2.4 3.8 1.1 Iris-versicolor] [5.5 2.4 3.7 1.0 Iris-versicolor] [5.8 2.7 3.9 1.2 Iris-versicolor] [6.0 2.7 5.1 1.6 Iris-versicolor] [5.4 3.0 4.5 1.5 Iris-versicolor] [6.0 3.4 4.5 1.6 Iris-versicolor] [6.7 3.1 4.7 1.5 Iris-versicolor] [6.3 2.3 4.4 1.3 Iris-versicolor] [5.6 3.0 4.1 1.3 Iris-versicolor] [5.5 2.5 4.0 1.3 Iris-versicolor] [5.5 2.6 4.4 1.2 Iris-versicolor] [6.1 3.0 4.6 1.4 Iris-versicolor] [5.8 2.6 4.0 1.2 Iris-versicolor] [5.0 2.3 3.3 1.0 Iris-versicolor] [5.6 2.7 4.2 1.3 Iris-versicolor] [5.7 3.0 4.2 1.2 Iris-versicolor] [5.7 2.9 4.2 1.3 Iris-versicolor] [6.2 2.9 4.3 1.3 Iris-versicolor] [5.1 2.5 3.0 1.1 Iris-versicolor] [5.7 2.8 4.1 1.3 Iris-versicolor] [6.3 3.3 6.0 2.5 Iris-virginica] [5.8 2.7 5.1 1.9 Iris-virginica] [7.1 3.0 5.9 2.1 Iris-virginica] [6.3 2.9 5.6 1.8 Iris-virginica] [6.5 3.0 5.8 2.2 Iris-virginica] [7.6 3.0 6.6 2.1 Iris-virginica] [4.9 2.5 4.5 1.7 Iris-virginica] [7.3 2.9 6.3 1.8 Iris-virginica] [6.7 2.5 5.8 1.8 Iris-virginica] [7.2 3.6 6.1 2.5 Iris-virginica] [6.5 3.2 5.1 2.0 Iris-virginica] [6.4 2.7 5.3 1.9 Iris-virginica] [6.8 3.0 5.5 2.1 Iris-virginica] [5.7 2.5 5.0 2.0 Iris-virginica] [5.8 2.8 5.1 2.4 Iris-virginica] [6.4 3.2 5.3 2.3 Iris-virginica] [6.5 3.0 5.5 1.8 Iris-virginica] [7.7 3.8 6.7 2.2 Iris-virginica] [7.7 2.6 6.9 2.3 Iris-virginica] [6.0 2.2 5.0 1.5 Iris-virginica] [6.9 3.2 5.7 2.3 Iris-virginica] [5.6 2.8 4.9 2.0 Iris-virginica] [7.7 2.8 6.7 2.0 Iris-virginica] [6.3 2.7 4.9 1.8 Iris-virginica] [6.7 3.3 5.7 2.1 Iris-virginica] [7.2 3.2 6.0 1.8 Iris-virginica] [6.2 2.8 4.8 1.8 Iris-virginica] [6.1 3.0 4.9 1.8 Iris-virginica] [6.4 2.8 5.6 2.1 Iris-virginica] [7.2 3.0 5.8 1.6 Iris-virginica] [7.4 2.8 6.1 1.9 Iris-virginica] [7.9 3.8 6.4 2.0 Iris-virginica] [6.4 2.8 5.6 2.2 Iris-virginica] [6.3 2.8 5.1 1.5 Iris-virginica] [6.1 2.6 5.6 1.4 Iris-virginica] [7.7 3.0 6.1 2.3 Iris-virginica] [6.3 3.4 5.6 2.4 Iris-virginica] [6.4 3.1 5.5 1.8 Iris-virginica] [6.0 3.0 4.8 1.8 Iris-virginica] [6.9 3.1 5.4 2.1 Iris-virginica] [6.7 3.1 5.6 2.4 Iris-virginica] [6.9 3.1 5.1 2.3 Iris-virginica] [5.8 2.7 5.1 1.9 Iris-virginica] [6.8 3.2 5.9 2.3 Iris-virginica] [6.7 3.3 5.7 2.5 Iris-virginica] [6.7 3.0 5.2 2.3 Iris-virginica] [6.3 2.5 5.0 1.9 Iris-virginica] [6.5 3.0 5.2 2.0 Iris-virginica] [6.2 3.4 5.4 2.3 Iris-virginica] [5.9 3.0 5.1 1.8 Iris-virginica]]\n"
     ]
    }
   ],
   "source": [
    "import (\n",
    "    \"encoding/csv\"\n",
    "    \"fmt\"\n",
    "    \"io\"\n",
    "    \"log\"\n",
    "    \"os\"\n",
    ")\n",
    "\n",
    "func main() {\n",
    "\n",
    "    // Open the iris dataset file.\n",
    "    f, err := os.Open(\"./data/iris_unexpected_fields.csv\")\n",
    "    if err != nil {\n",
    "        log.Fatal(err)\n",
    "    }\n",
    "    defer f.Close()\n",
    "\n",
    "    reader := csv.NewReader(f)\n",
    "\n",
    "    // 한 행에 5 개의 필드가 있어야 한다고 설정한다.\n",
    "    // 즉 5개가 있는지 유효성 검증을 할 수 있게 되는 것이다.\n",
    "    reader.FieldsPerRecord = 5\n",
    "\n",
    "    // rawCSVData will hold our successfully parsed rows.\n",
    "    var rawCSVData [][]string\n",
    "\n",
    "    // Read in the records one by one.\n",
    "    for {\n",
    "\n",
    "        record, err := reader.Read()\n",
    "        if err == io.EOF {\n",
    "            break\n",
    "        }\n",
    "\n",
    "        // 해석 오류가 있으면 출력하고 계속 진행한다.\n",
    "        if err != nil {\n",
    "            log.Println(err)\n",
    "            continue\n",
    "        }\n",
    "\n",
    "        rawCSVData = append(rawCSVData, record)\n",
    "    }\n",
    "\n",
    "    fmt.Printf(\"parsed %d lines successfully\\n\", len(rawCSVData))\n",
    "    fmt.Println(rawCSVData)\n",
    "}\n",
    "\n",
    "main()"
   ]
  },
  {
   "cell_type": "markdown",
   "metadata": {},
   "source": [
    "해당 줄에 대한 검증이 잘 되어서 오류가 출력되었다."
   ]
  },
  {
   "cell_type": "markdown",
   "metadata": {},
   "source": [
    "## 타입 지정 및 유효성(공백 등)검증"
   ]
  },
  {
   "cell_type": "markdown",
   "metadata": {},
   "source": [
    "필드 개수 뿐 아니라. 별도의 타입을 지정하고 해당 타입에 맞는 값인지도 검증할 수있다.\n",
    "\n",
    "레코드에 해당하는 구조체를 만들고 내부 필드를 레코드의 필드 타입으로 맞춘다."
   ]
  },
  {
   "cell_type": "markdown",
   "metadata": {},
   "source": [
    "다음처럼 원본 자료를 입력한 상태라고 보자.\n",
    "\n",
    "행|자료|예외사항\n",
    "--|--|--\n",
    " 5|5.0,string,1.4,0.2,Iris-setosa| flaot64 이여야 하는데 문자열 타입\n",
    "36|5.0,3.2,1.2,string,Iris-setosa| flaot64 이여야 하는데 문자열 타입\n",
    "52|6.4,3.2,4.5,1.5,| 5열이 비었다. "
   ]
  },
  {
   "cell_type": "code",
   "execution_count": 2,
   "metadata": {
    "scrolled": false
   },
   "outputs": [
    {
     "name": "stderr",
     "output_type": "stream",
     "text": [
      "2018/03/02 06:39:49 5 줄에 인덱스 1 타입이 float64가 아니다.\n",
      "2018/03/02 06:39:49 21 줄에 인덱스 1 타입이 float64가 아니다.\n",
      "2018/03/02 06:39:49 36 줄에 인덱스 3 타입이 float64가 아니다.\n",
      "2018/03/02 06:39:49 52 번째 줄 4 인덱스의 값이 없다.\n",
      "2018/03/02 06:39:49 97 줄에 인덱스 0 타입이 float64가 아니다.\n",
      "2018/03/02 06:39:49 127 줄에 인덱스 1 타입이 float64가 아니다.\n",
      "2018/03/02 06:39:49 135 줄에 인덱스 0 타입이 float64가 아니다.\n"
     ]
    },
    {
     "name": "stdout",
     "output_type": "stream",
     "text": [
      "successfully parsed 143 lines\n"
     ]
    }
   ],
   "source": [
    "import (\n",
    "    \"encoding/csv\"\n",
    "    \"fmt\"\n",
    "    \"io\"\n",
    "    \"log\"\n",
    "    \"os\"\n",
    "    \"strconv\"\n",
    ")\n",
    "\n",
    "// CSVRecord 타입은 성공적으로 해석됐을 때의 행의 필드 값을 담는다.\n",
    "type CSVRecord struct {\n",
    "    SepalLength float64\n",
    "    SepalWidth  float64\n",
    "    PetalLength float64\n",
    "    PetalWidth  float64\n",
    "    Species     string\n",
    "    ParseError  error\n",
    "}\n",
    "\n",
    "func main() {\n",
    "\n",
    "    f, err := os.Open(\"./data/iris_mixed_types.csv\")\n",
    "    if err != nil {\n",
    "        log.Fatal(err)\n",
    "    }\n",
    "    defer f.Close()\n",
    "\n",
    "    reader := csv.NewReader(f)\n",
    "\n",
    "    // 한행에 해당하는 구조체를 여러 개 담을 수 있는 자료묶음 변수를 선언.\n",
    "    var csvData []CSVRecord\n",
    "\n",
    "    // 라인은 로깅을 추적하는데 도움을 준다.\n",
    "    line := 1\n",
    "\n",
    "    for {\n",
    "\n",
    "        // 레코드를 읽는다.\n",
    "        record, err := reader.Read()\n",
    "        if err == io.EOF {\n",
    "            break\n",
    "        }\n",
    "\n",
    "        // 하나의 레코드를 위한 구조체 변수 선언\n",
    "        var csvRecord CSVRecord\n",
    "\n",
    "        // 한행의 한 열씩(인덱스,열값) 꺼내서 순회한다. \n",
    "        for idx, value := range record {\n",
    "\n",
    "            // 인덱스가 4인 필드(5번째 필드)\n",
    "            if idx == 4 {\n",
    "\n",
    "                // 빈 문자열인지 확인해서 비어있으면 레코드 오류필드에 \n",
    "                // 내용을 기록 후 for 문을 건너 뛴다.\n",
    "                if value == \"\" {\n",
    "                    log.Printf(\"%d 번째 줄 %d 인덱스의 값이 없다.\\n\", line, idx)\n",
    "                    csvRecord.ParseError = fmt.Errorf(\"Empty string value\")\n",
    "                    break\n",
    "                }\n",
    "\n",
    "                csvRecord.Species = value\n",
    "                \n",
    "                // for 문을 건너 뛴다.\n",
    "                continue\n",
    "            }\n",
    "\n",
    "            // 인덱스가 4가 아닌, 다른 것들(otherwise)에 대해서는 float64 타입으로 값을 해석한다.\n",
    "            var floatValue float64\n",
    "\n",
    "            // 만약 값이 플롯으로 해석이 안 되면, 기록을 남기고 해석 루프를 중단한다.\n",
    "            if floatValue, err = strconv.ParseFloat(value, 64); err != nil {\n",
    "                log.Printf(\"%d 줄에 인덱스 %d 타입이 float64가 아니다.\\n\", line, idx)\n",
    "                csvRecord.ParseError = fmt.Errorf(\"Could not parse float\")\n",
    "                break\n",
    "                // 현재 for 문을 빠져 나가기 때문에 아래 문이 실행이 안된다.\n",
    "                // 즉, 오류가 나는 행은 값이 빠져있고, 데이터 묶음도 오염되지 않는다.\n",
    "            }\n",
    "\n",
    "            // CVSRecord 변수에다가 각각의 해석 값을 저장한다.\n",
    "            // 인덱스 번호에 맞춰서.\n",
    "            switch idx {\n",
    "            case 0:\n",
    "                csvRecord.SepalLength = floatValue\n",
    "            case 1:\n",
    "                csvRecord.SepalWidth = floatValue\n",
    "            case 2:\n",
    "                csvRecord.PetalLength = floatValue\n",
    "            case 3:\n",
    "                csvRecord.PetalWidth = floatValue\n",
    "            }\n",
    "        }\n",
    "\n",
    "        // 성공적으로 해석된 레코드 하나를 전체 레코드를 담으려고 생성한 슬라이스에 적용한다.\n",
    "        if csvRecord.ParseError == nil {\n",
    "            csvData = append(csvData, csvRecord)\n",
    "        }\n",
    "\n",
    "        // 줄 숫자세는 카운터를 증가시킨다.\n",
    "        line++\n",
    "    }\n",
    "\n",
    "    // 결과를 출력한다.\n",
    "    fmt.Printf(\"successfully parsed %d lines\\n\", len(csvData))\n",
    "}\n",
    "main()"
   ]
  },
  {
   "cell_type": "markdown",
   "metadata": {},
   "source": [
    "break, continue, goto 작동.\n",
    "\n",
    "- break : for, switch, select 문을 빠져 나간다.\n",
    "- continue : for 중간에서 바로 for 시작으로 간다.\n",
    "- goto : 라벨 지정된 곳으로 이동한다. \n",
    "\n",
    "> goto 라벨은 라벨로 가서 라벨을 시작하지만.  \n",
    "> break 라벨은 라벨로 간 다음 그 라벨 다음 것을 시작한다.\n",
    "\n",
    "http://golang.site/go/article/8-Go-반복문 참조."
   ]
  },
  {
   "cell_type": "markdown",
   "metadata": {},
   "source": [
    "**strconv**로 타입을 변화시키고, 타입 검증도한다.\n",
    "\n",
    "```\n",
    "if floatValue, err = strconv.ParseFloat(value, 64); err != nil {\n",
    "    오류 났을 때 코드\n",
    "}\n",
    "```\n",
    "\n",
    " 주어진 값을 64비트 float 으로 해석을 시도해서 err 가 비어있지 않다면 ...."
   ]
  },
  {
   "cell_type": "markdown",
   "metadata": {},
   "source": [
    "# 자료 가공하기 "
   ]
  },
  {
   "cell_type": "markdown",
   "metadata": {},
   "source": [
    "## 데이터프레임으로 CSV 자료 가공하기"
   ]
  },
  {
   "cell_type": "markdown",
   "metadata": {},
   "source": [
    "자료묶음의 일부 혹은 하위묶음을 선택하고 필터링 하는 표준화된 방법을 제공하는 것이 바로 데이터프레임이고 여기서는 gota 를 사용한다."
   ]
  },
  {
   "cell_type": "markdown",
   "metadata": {},
   "source": [
    "lgo 의 경우, 컨테이너에서 \n",
    "\n",
    "```\n",
    "go get github.com/kniren/gota/dataframe\n",
    "```\n",
    "\n",
    "해준 후 \n",
    "\n",
    "```\n",
    "lgo install\n",
    "```\n",
    "\n",
    "해줘야 lgo 에서 제대로 인식을 하게 된다."
   ]
  },
  {
   "cell_type": "code",
   "execution_count": 3,
   "metadata": {},
   "outputs": [
    {
     "name": "stderr",
     "output_type": "stream",
     "text": [
      "6:5: could not import github.com/kniren/gota/dataframe (can't find import: \"github.com/kniren/gota/dataframe\")\n"
     ]
    }
   ],
   "source": [
    "import (\n",
    "    \"fmt\"\n",
    "    \"log\"\n",
    "    \"os\"\n",
    "    // > go get github.com/kniren/gota/dataframe\n",
    "    \"github.com/kniren/gota/dataframe\"\n",
    ")\n",
    "\n",
    "\n",
    "// Open the CSV file.\n",
    "irisFile, err := os.Open(\"./data/iris_labeled.csv\")\n",
    "if err != nil {\n",
    "    log.Fatal(err)\n",
    "}\n",
    "defer irisFile.Close()\n",
    "\n",
    "// CSV 파일로부터 데이터프레임을 생성한다.\n",
    "// 열의 타입은 유추될(inferred) 것이다.\n",
    "irisDF := dataframe.ReadCSV(irisFile)\n",
    "\n",
    "// 건전성 확인 후, stdout 으로 레코드들을 보여준다.\n",
    "// Gota 가 데이터프레임을 프리티 출력해줄 것이다.\n",
    "fmt.Println(irisDF)\n"
   ]
  },
  {
   "cell_type": "markdown",
   "metadata": {},
   "source": [
    "## 자료묶음을거르고 하위묶음 선택하기"
   ]
  },
  {
   "cell_type": "markdown",
   "metadata": {},
   "source": [
    "데이터 프레임 객체 생성 후 필터 만들기"
   ]
  },
  {
   "cell_type": "code",
   "execution_count": 3,
   "metadata": {},
   "outputs": [],
   "source": [
    "    // CVS 파일 접속 생성\n",
    "    irisFile, err := os.Open(\"./data/iris_labeled.csv\")\n",
    "    if err != nil {\n",
    "        log.Fatal(err)\n",
    "    }\n",
    "    defer irisFile.Close()\n",
    "\n",
    "    // 데이터 프레임워크 객체 생성\n",
    "    irisDF := dataframe.ReadCSV(irisFile)\n",
    "\n",
    "    // 데이터 프레임을 위한 필터를 생성\n",
    "    filter := dataframe.F{\n",
    "        Colname:    \"species\", // 필터 적용될 대상 열 이름\n",
    "        Comparator: \"==\",      //  필터 연산자\n",
    "        Comparando: \"Iris-versicolor\", // 연산 기준값\n",
    "    }"
   ]
  },
  {
   "cell_type": "markdown",
   "metadata": {},
   "source": [
    "데이터프레임 객체에다가 필터를 넘겨 주고 출력"
   ]
  },
  {
   "cell_type": "code",
   "execution_count": 4,
   "metadata": {},
   "outputs": [
    {
     "name": "stdout",
     "output_type": "stream",
     "text": [
      "[50x5] DataFrame\n",
      "\n",
      "    sepal_length sepal_width petal_length petal_width species        \n",
      " 0: 7.000000     3.200000    4.700000     1.400000    Iris-versicolor\n",
      " 1: 6.400000     3.200000    4.500000     1.500000    Iris-versicolor\n",
      " 2: 6.900000     3.100000    4.900000     1.500000    Iris-versicolor\n",
      " 3: 5.500000     2.300000    4.000000     1.300000    Iris-versicolor\n",
      " 4: 6.500000     2.800000    4.600000     1.500000    Iris-versicolor\n",
      " 5: 5.700000     2.800000    4.500000     1.300000    Iris-versicolor\n",
      " 6: 6.300000     3.300000    4.700000     1.600000    Iris-versicolor\n",
      " 7: 4.900000     2.400000    3.300000     1.000000    Iris-versicolor\n",
      " 8: 6.600000     2.900000    4.600000     1.300000    Iris-versicolor\n",
      " 9: 5.200000     2.700000    3.900000     1.400000    Iris-versicolor\n",
      "    ...          ...         ...          ...         ...            \n",
      "    <float>      <float>     <float>      <float>     <string>       \n",
      "\n",
      "929\n",
      "<nil>\n"
     ]
    }
   ],
   "source": [
    "    // species 열이 \"Iris-versicolor\" 를 가진 레코드들만 추려서 보기 위해서\n",
    "    // 필터를 적용한(거른)다.\n",
    "    versicolorDF := irisDF.Filter(filter)\n",
    "    if versicolorDF.Err != nil {\n",
    "        log.Fatal(versicolorDF.Err)\n",
    "    }\n",
    "\n",
    "    // Output the results to standard out.\n",
    "    fmt.Println(versicolorDF)"
   ]
  },
  {
   "cell_type": "code",
   "execution_count": 8,
   "metadata": {},
   "outputs": [
    {
     "name": "stdout",
     "output_type": "stream",
     "text": [
      "[50x2] DataFrame\n",
      "\n",
      "    sepal_width species        \n",
      " 0: 3.200000    Iris-versicolor\n",
      " 1: 3.200000    Iris-versicolor\n",
      " 2: 3.100000    Iris-versicolor\n",
      " 3: 2.300000    Iris-versicolor\n",
      " 4: 2.800000    Iris-versicolor\n",
      " 5: 2.800000    Iris-versicolor\n",
      " 6: 3.300000    Iris-versicolor\n",
      " 7: 2.400000    Iris-versicolor\n",
      " 8: 2.900000    Iris-versicolor\n",
      " 9: 2.700000    Iris-versicolor\n",
      "    ...         ...            \n",
      "    <float>     <string>       \n",
      "\n",
      "435\n",
      "<nil>\n"
     ]
    }
   ],
   "source": [
    "    // 한번 더 필터링 하는 데,\n",
    "    // sepal_width 와 species 열만 선택한다.\n",
    "    versicolorDF = irisDF.Filter(filter).\n",
    "        Select([]string{\"sepal_width\", \"species\"})\n",
    "    fmt.Println(versicolorDF)"
   ]
  },
  {
   "cell_type": "code",
   "execution_count": 10,
   "metadata": {},
   "outputs": [
    {
     "name": "stdout",
     "output_type": "stream",
     "text": [
      "[3x2] DataFrame\n",
      "\n",
      "    sepal_width species        \n",
      " 0: 3.200000    Iris-versicolor\n",
      " 1: 2.800000    Iris-versicolor\n",
      " 2: 2.700000    Iris-versicolor\n",
      "    <float>     <string>       \n",
      "\n",
      "178\n",
      "<nil>\n"
     ]
    }
   ],
   "source": [
    "    // 한 번 더 필터링 하는 데,\n",
    "    // sepal_width 와 species 열의 첫 세 레코드(0,4,9)만 선택한다.\n",
    "    versicolorDF = irisDF.Filter(filter).\n",
    "        Select([]string{\"sepal_width\", \"species\"}).\n",
    "        Subset([]int{0, 4, 9})\n",
    "    fmt.Println(versicolorDF)\n"
   ]
  },
  {
   "cell_type": "code",
   "execution_count": 1,
   "metadata": {},
   "outputs": [
    {
     "name": "stderr",
     "output_type": "stream",
     "text": [
      "1:1: undeclared name: fmt\n",
      "1:13: undeclared name: versicolorDF\n"
     ]
    }
   ],
   "source": [
    "fmt.Println(versicolorDF[0])"
   ]
  },
  {
   "cell_type": "code",
   "execution_count": null,
   "metadata": {},
   "outputs": [],
   "source": []
  }
 ],
 "metadata": {
  "hide_input": false,
  "kernelspec": {
   "display_name": "Go (lgo)",
   "language": "go",
   "name": "lgo"
  },
  "language_info": {
   "file_extension": "",
   "mimetype": "",
   "name": "go",
   "version": ""
  },
  "latex_envs": {
   "LaTeX_envs_menu_present": true,
   "autoclose": false,
   "autocomplete": true,
   "bibliofile": "biblio.bib",
   "cite_by": "apalike",
   "current_citInitial": 1,
   "eqLabelWithNumbers": true,
   "eqNumInitial": 1,
   "hotkeys": {
    "equation": "Ctrl-E",
    "itemize": "Ctrl-I"
   },
   "labels_anchors": false,
   "latex_user_defs": false,
   "report_style_numbering": false,
   "user_envs_cfg": false
  },
  "toc": {
   "nav_menu": {
    "height": "232px",
    "width": "304px"
   },
   "number_sections": true,
   "sideBar": true,
   "skip_h1_title": false,
   "title_cell": "Table of Contents",
   "title_sidebar": "Contents",
   "toc_cell": false,
   "toc_position": {},
   "toc_section_display": true,
   "toc_window_display": true
  },
  "varInspector": {
   "cols": {
    "lenName": 16,
    "lenType": 16,
    "lenVar": 40
   },
   "kernels_config": {
    "python": {
     "delete_cmd_postfix": "",
     "delete_cmd_prefix": "del ",
     "library": "var_list.py",
     "varRefreshCmd": "print(var_dic_list())"
    },
    "r": {
     "delete_cmd_postfix": ") ",
     "delete_cmd_prefix": "rm(",
     "library": "var_list.r",
     "varRefreshCmd": "cat(var_dic_list()) "
    }
   },
   "types_to_exclude": [
    "module",
    "function",
    "builtin_function_or_method",
    "instance",
    "_Feature"
   ],
   "window_display": false
  }
 },
 "nbformat": 4,
 "nbformat_minor": 2
}
