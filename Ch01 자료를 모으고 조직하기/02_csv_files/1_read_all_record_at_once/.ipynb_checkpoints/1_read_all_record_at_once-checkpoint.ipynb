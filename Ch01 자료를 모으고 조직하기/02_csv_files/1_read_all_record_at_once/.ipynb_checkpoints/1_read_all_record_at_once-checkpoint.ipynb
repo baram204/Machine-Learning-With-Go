{
 "cells": [
  {
   "cell_type": "code",
   "execution_count": 1,
   "metadata": {},
   "outputs": [],
   "source": [
    "import (\n",
    "    \"encoding/csv\"\n",
    "    \"fmt\"\n",
    "    \"io\"\n",
    "    \"log\"\n",
    "    \"os\"\n",
    "    )\n",
    "\n",
    "    func main() {\n",
    "\n",
    "    // Open the iris dataset file.\n",
    "    f, err := os.Open(\"../data/iris.csv\")\n",
    "    if err != nil {\n",
    "        log.Fatal(err)\n",
    "    }\n",
    "    defer f.Close()\n",
    "\n",
    "    // Create a new CSV reader reading from the opened file.\n",
    "    reader := csv.NewReader(f)\n",
    "    reader.FieldsPerRecord = -1\n",
    "\n",
    "    // 레코드(행)을 해석해서 담을 변수를 설정\n",
    "    var rawCSVData [][]string\n",
    "\n",
    "    // 레코드 하나(한 줄) 씩 읽는다.\n",
    "    for {\n",
    "\n",
    "        // READ() 로 한줄 씩 읽는다. []string 형태일 것으로 예측한다.\n",
    "        record, err := reader.Read()\n",
    "        // 읽고 난 뒤에는 파일의 끝(EOF) 인지 입출력에게 물어봐 체크한다.\n",
    "        if err == io.EOF {\n",
    "            break\n",
    "        }\n",
    "\n",
    "        // 기존 변수에, 읽어들인 새 레코드 한 줄을 추가한다.\n",
    "        rawCSVData = append(rawCSVData, record)\n",
    "//         fmt.Println(rawCSVData)\n",
    "    }\n",
    "\n",
    "    fmt.Println(rawCSVData)\n",
    "}"
   ]
  },
  {
   "cell_type": "code",
   "execution_count": 2,
   "metadata": {},
   "outputs": [
    {
     "name": "stdout",
     "output_type": "stream",
     "text": [
      "[[5.1 3.5 1.4 0.2 Iris-setosa] [4.9 3.0 1.4 0.2 Iris-setosa] [4.7 3.2 1.3 0.2 Iris-setosa] [4.6 3.1 1.5 0.2 Iris-setosa] [5.0 3.6 1.4 0.2 Iris-setosa] [5.4 3.9 1.7 0.4 Iris-setosa] [4.6 3.4 1.4 0.3 Iris-setosa] [5.0 3.4 1.5 0.2 Iris-setosa] [4.4 2.9 1.4 0.2 Iris-setosa] [4.9 3.1 1.5 0.1 Iris-setosa] [5.4 3.7 1.5 0.2 Iris-setosa] [4.8 3.4 1.6 0.2 Iris-setosa] [4.8 3.0 1.4 0.1 Iris-setosa] [4.3 3.0 1.1 0.1 Iris-setosa] [5.8 4.0 1.2 0.2 Iris-setosa] [5.7 4.4 1.5 0.4 Iris-setosa] [5.4 3.9 1.3 0.4 Iris-setosa] [5.1 3.5 1.4 0.3 Iris-setosa] [5.7 3.8 1.7 0.3 Iris-setosa] [5.1 3.8 1.5 0.3 Iris-setosa] [5.4 3.4 1.7 0.2 Iris-setosa] [5.1 3.7 1.5 0.4 Iris-setosa] [4.6 3.6 1.0 0.2 Iris-setosa] [5.1 3.3 1.7 0.5 Iris-setosa] [4.8 3.4 1.9 0.2 Iris-setosa] [5.0 3.0 1.6 0.2 Iris-setosa] [5.0 3.4 1.6 0.4 Iris-setosa] [5.2 3.5 1.5 0.2 Iris-setosa] [5.2 3.4 1.4 0.2 Iris-setosa] [4.7 3.2 1.6 0.2 Iris-setosa] [4.8 3.1 1.6 0.2 Iris-setosa] [5.4 3.4 1.5 0.4 Iris-setosa] [5.2 4.1 1.5 0.1 Iris-setosa] [5.5 4.2 1.4 0.2 Iris-setosa] [4.9 3.1 1.5 0.1 Iris-setosa] [5.0 3.2 1.2 0.2 Iris-setosa] [5.5 3.5 1.3 0.2 Iris-setosa] [4.9 3.1 1.5 0.1 Iris-setosa] [4.4 3.0 1.3 0.2 Iris-setosa] [5.1 3.4 1.5 0.2 Iris-setosa] [5.0 3.5 1.3 0.3 Iris-setosa] [4.5 2.3 1.3 0.3 Iris-setosa] [4.4 3.2 1.3 0.2 Iris-setosa] [5.0 3.5 1.6 0.6 Iris-setosa] [5.1 3.8 1.9 0.4 Iris-setosa] [4.8 3.0 1.4 0.3 Iris-setosa] [5.1 3.8 1.6 0.2 Iris-setosa] [4.6 3.2 1.4 0.2 Iris-setosa] [5.3 3.7 1.5 0.2 Iris-setosa] [5.0 3.3 1.4 0.2 Iris-setosa] [7.0 3.2 4.7 1.4 Iris-versicolor] [6.4 3.2 4.5 1.5 Iris-versicolor] [6.9 3.1 4.9 1.5 Iris-versicolor] [5.5 2.3 4.0 1.3 Iris-versicolor] [6.5 2.8 4.6 1.5 Iris-versicolor] [5.7 2.8 4.5 1.3 Iris-versicolor] [6.3 3.3 4.7 1.6 Iris-versicolor] [4.9 2.4 3.3 1.0 Iris-versicolor] [6.6 2.9 4.6 1.3 Iris-versicolor] [5.2 2.7 3.9 1.4 Iris-versicolor] [5.0 2.0 3.5 1.0 Iris-versicolor] [5.9 3.0 4.2 1.5 Iris-versicolor] [6.0 2.2 4.0 1.0 Iris-versicolor] [6.1 2.9 4.7 1.4 Iris-versicolor] [5.6 2.9 3.6 1.3 Iris-versicolor] [6.7 3.1 4.4 1.4 Iris-versicolor] [5.6 3.0 4.5 1.5 Iris-versicolor] [5.8 2.7 4.1 1.0 Iris-versicolor] [6.2 2.2 4.5 1.5 Iris-versicolor] [5.6 2.5 3.9 1.1 Iris-versicolor] [5.9 3.2 4.8 1.8 Iris-versicolor] [6.1 2.8 4.0 1.3 Iris-versicolor] [6.3 2.5 4.9 1.5 Iris-versicolor] [6.1 2.8 4.7 1.2 Iris-versicolor] [6.4 2.9 4.3 1.3 Iris-versicolor] [6.6 3.0 4.4 1.4 Iris-versicolor] [6.8 2.8 4.8 1.4 Iris-versicolor] [6.7 3.0 5.0 1.7 Iris-versicolor] [6.0 2.9 4.5 1.5 Iris-versicolor] [5.7 2.6 3.5 1.0 Iris-versicolor] [5.5 2.4 3.8 1.1 Iris-versicolor] [5.5 2.4 3.7 1.0 Iris-versicolor] [5.8 2.7 3.9 1.2 Iris-versicolor] [6.0 2.7 5.1 1.6 Iris-versicolor] [5.4 3.0 4.5 1.5 Iris-versicolor] [6.0 3.4 4.5 1.6 Iris-versicolor] [6.7 3.1 4.7 1.5 Iris-versicolor] [6.3 2.3 4.4 1.3 Iris-versicolor] [5.6 3.0 4.1 1.3 Iris-versicolor] [5.5 2.5 4.0 1.3 Iris-versicolor] [5.5 2.6 4.4 1.2 Iris-versicolor] [6.1 3.0 4.6 1.4 Iris-versicolor] [5.8 2.6 4.0 1.2 Iris-versicolor] [5.0 2.3 3.3 1.0 Iris-versicolor] [5.6 2.7 4.2 1.3 Iris-versicolor] [5.7 3.0 4.2 1.2 Iris-versicolor] [5.7 2.9 4.2 1.3 Iris-versicolor] [6.2 2.9 4.3 1.3 Iris-versicolor] [5.1 2.5 3.0 1.1 Iris-versicolor] [5.7 2.8 4.1 1.3 Iris-versicolor] [6.3 3.3 6.0 2.5 Iris-virginica] [5.8 2.7 5.1 1.9 Iris-virginica] [7.1 3.0 5.9 2.1 Iris-virginica] [6.3 2.9 5.6 1.8 Iris-virginica] [6.5 3.0 5.8 2.2 Iris-virginica] [7.6 3.0 6.6 2.1 Iris-virginica] [4.9 2.5 4.5 1.7 Iris-virginica] [7.3 2.9 6.3 1.8 Iris-virginica] [6.7 2.5 5.8 1.8 Iris-virginica] [7.2 3.6 6.1 2.5 Iris-virginica] [6.5 3.2 5.1 2.0 Iris-virginica] [6.4 2.7 5.3 1.9 Iris-virginica] [6.8 3.0 5.5 2.1 Iris-virginica] [5.7 2.5 5.0 2.0 Iris-virginica] [5.8 2.8 5.1 2.4 Iris-virginica] [6.4 3.2 5.3 2.3 Iris-virginica] [6.5 3.0 5.5 1.8 Iris-virginica] [7.7 3.8 6.7 2.2 Iris-virginica] [7.7 2.6 6.9 2.3 Iris-virginica] [6.0 2.2 5.0 1.5 Iris-virginica] [6.9 3.2 5.7 2.3 Iris-virginica] [5.6 2.8 4.9 2.0 Iris-virginica] [7.7 2.8 6.7 2.0 Iris-virginica] [6.3 2.7 4.9 1.8 Iris-virginica] [6.7 3.3 5.7 2.1 Iris-virginica] [7.2 3.2 6.0 1.8 Iris-virginica] [6.2 2.8 4.8 1.8 Iris-virginica] [6.1 3.0 4.9 1.8 Iris-virginica] [6.4 2.8 5.6 2.1 Iris-virginica] [7.2 3.0 5.8 1.6 Iris-virginica] [7.4 2.8 6.1 1.9 Iris-virginica] [7.9 3.8 6.4 2.0 Iris-virginica] [6.4 2.8 5.6 2.2 Iris-virginica] [6.3 2.8 5.1 1.5 Iris-virginica] [6.1 2.6 5.6 1.4 Iris-virginica] [7.7 3.0 6.1 2.3 Iris-virginica] [6.3 3.4 5.6 2.4 Iris-virginica] [6.4 3.1 5.5 1.8 Iris-virginica] [6.0 3.0 4.8 1.8 Iris-virginica] [6.9 3.1 5.4 2.1 Iris-virginica] [6.7 3.1 5.6 2.4 Iris-virginica] [6.9 3.1 5.1 2.3 Iris-virginica] [5.8 2.7 5.1 1.9 Iris-virginica] [6.8 3.2 5.9 2.3 Iris-virginica] [6.7 3.3 5.7 2.5 Iris-virginica] [6.7 3.0 5.2 2.3 Iris-virginica] [6.3 2.5 5.0 1.9 Iris-virginica] [6.5 3.0 5.2 2.0 Iris-virginica] [6.2 3.4 5.4 2.3 Iris-virginica] [5.9 3.0 5.1 1.8 Iris-virginica]]\n"
     ]
    }
   ],
   "source": [
    "main()"
   ]
  },
  {
   "cell_type": "code",
   "execution_count": null,
   "metadata": {},
   "outputs": [],
   "source": []
  }
 ],
 "metadata": {
  "kernelspec": {
   "display_name": "Go (lgo)",
   "language": "go",
   "name": "lgo"
  },
  "language_info": {
   "file_extension": "",
   "mimetype": "",
   "name": "go",
   "version": ""
  }
 },
 "nbformat": 4,
 "nbformat_minor": 2
}
