{
 "cells": [
  {
   "cell_type": "code",
   "execution_count": null,
   "metadata": {},
   "outputs": [],
   "source": [
    "import (\n",
    "\t\"encoding/csv\"\n",
    "\t\"fmt\"\n",
    "\t\"io\"\n",
    "\t\"log\"\n",
    "\t\"os\"\n",
    ")\n",
    "\n",
    "func main() {\n",
    "\n",
    "\t// Open the iris dataset file.\n",
    "\tf, err := os.Open(\"../data/iris.csv\")\n",
    "\tif err != nil {\n",
    "\t\tlog.Fatal(err)\n",
    "\t}\n",
    "\tdefer f.Close()\n",
    "\n",
    "\t// Create a new CSV reader reading from the opened file.\n",
    "\treader := csv.NewReader(f)\n",
    "\treader.FieldsPerRecord = -1\n",
    "\n",
    "\t// 레코드(행)을 해석해서 담을 변수를 설정\n",
    "\tvar rawCSVData [][]string\n",
    "\n",
    "\t// 레코드 하나(한 줄) 씩 읽는다.\n",
    "\tfor {\n",
    "\n",
    "\t\t// READ() 로 한줄 씩 읽는다. []string 형태일 것으로 예측한다.\n",
    "\t\trecord, err := reader.Read()\n",
    "\t\t// 읽고 난 뒤에는 파일의 끝(EOF) 인지 입출력에게 물어봐 체크한다.\n",
    "\t\tif err == io.EOF {\n",
    "\t\t\tbreak\n",
    "\t\t}\n",
    "\n",
    "\t\t// 기존 변수에, 읽어들인 새 레코드 한 줄을 추가한다.\n",
    "\t\trawCSVData = append(rawCSVData, record)\n",
    "\t\tfmt.Println(rawCSVData)\n",
    "\t}\n",
    "\n",
    "\tfmt.Println(rawCSVData)\n",
    "}\n"
   ]
  }
 ],
 "metadata": {
  "kernelspec": {
   "display_name": "Go (lgo)",
   "language": "go",
   "name": "lgo"
  },
  "language_info": {
   "file_extension": "",
   "mimetype": "",
   "name": "go",
   "version": ""
  }
 },
 "nbformat": 4,
 "nbformat_minor": 2
}
