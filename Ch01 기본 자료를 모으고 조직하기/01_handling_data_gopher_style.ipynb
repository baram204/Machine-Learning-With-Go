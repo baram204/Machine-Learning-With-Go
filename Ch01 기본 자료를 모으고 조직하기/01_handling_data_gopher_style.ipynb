{
 "cells": [
  {
   "cell_type": "markdown",
   "metadata": {},
   "source": [
    "# 패키지 임포트 및 작업 경로 확인\n",
    "\n",
    "필요한 패키지 임포트"
   ]
  },
  {
   "cell_type": "code",
   "execution_count": 2,
   "metadata": {},
   "outputs": [],
   "source": [
    "import (\n",
    "\t\"encoding/csv\"\n",
    "\t\"fmt\"\n",
    "\t\"log\"\n",
    "\t\"os\"\n",
    "\t\"strconv\"\n",
    ")"
   ]
  },
  {
   "cell_type": "markdown",
   "metadata": {},
   "source": [
    "현재 작업 경로를 출력한다. 즉, 해당 경로 내부에 csv 파일을 놓으면 읽을 수 있다."
   ]
  },
  {
   "cell_type": "code",
   "execution_count": 3,
   "metadata": {},
   "outputs": [
    {
     "name": "stdout",
     "output_type": "stream",
     "text": [
      "/mlgo_execercise/Ch01_Gather_And_Organiz_data/01_handling_data_gopher_style\n",
      "76\n",
      "<nil>\n"
     ]
    }
   ],
   "source": [
    "  dir, err := os.Getwd()\n",
    "\tif err != nil {\n",
    "\t\tlog.Fatal(err)\n",
    "\t}\n",
    "  fmt.Println(dir)"
   ]
  },
  {
   "cell_type": "markdown",
   "metadata": {},
   "source": [
    "# 파일 읽기\n",
    "\n",
    "1. 파일을 열어서 접속을 만든다.\n",
    "2. 이 접속을 매개변수로 리더 객체를 만든다.\n",
    "3. 만들어진 리더 객체로 내용을 읽느다."
   ]
  },
  {
   "cell_type": "code",
   "execution_count": 5,
   "metadata": {},
   "outputs": [],
   "source": [
    "func main() {\n",
    "\n",
    "    /*\n",
    "        1. 고에서는 어떤 작업을 시도하면 오류를 꼭 검출한다.\n",
    "        2. 고에서는 자료의 타입을 명시한다.\n",
    "     */\n",
    "\n",
    "    // CSV 파일을 열어서, 결과와 오류를 받고\n",
    "    f, err := os.Open(\"myfile.csv\")\n",
    "    // 오류 검증해서 있으면 로그 출력\n",
    "    if err != nil {\n",
    "        log.Fatal(err)\n",
    "    }\n",
    "\n",
    "    // CSV 열린 접속으로 리더를 만들고\n",
    "    r := csv.NewReader(f)\n",
    "    // 모두 읽기 시도 후 결과와 오류를 받는다.\n",
    "    records, err := r.ReadAll()\n",
    "    if err != nil {\n",
    "        log.Fatal(err)\n",
    "    }\n",
    "\n",
    "    //  최대 값을 정수 열에서 가져온다.\n",
    "    // 최대정수를 저장할 변수 타입을 정의\n",
    "    var intMax int\n",
    "\n",
    "    fmt.Println(\"모든 레코드를 조사하며 큰 수를 찾습니다\")\n",
    "    \n",
    "    // for records 를 순회하면서 인덱스를 _, 값을 record 로 받아서\n",
    "    for _, record := range records {\n",
    "\n",
    "        // 문자열을 정수로 변환해서 결과와 오류를 얻는다.\n",
    "        intVal, err := strconv.Atoi(record[0])\n",
    "        if err != nil {\n",
    "            log.Fatal(err)\n",
    "        }\n",
    "\n",
    "        // 적절한 최대값으로 교체한다.\n",
    "        if intVal > intMax {\n",
    "            intMax = intVal\n",
    "            fmt.Println(\"더 큰수 발견\", intMax)\n",
    "        }\n",
    "    }\n",
    "\n",
    "    // 최대 수를 출력한다.\n",
    "    fmt.Println(\"최종 최대 정수는\",intMax)\n",
    "}\n"
   ]
  },
  {
   "cell_type": "code",
   "execution_count": 6,
   "metadata": {},
   "outputs": [
    {
     "name": "stdout",
     "output_type": "stream",
     "text": [
      "모든 레코드를 조사하며 큰 수를 찾습니다\n",
      "더 큰수 발견 1\n",
      "더 큰수 발견 2\n",
      "더 큰수 발견 3\n",
      "최종 최대 정수는 3\n"
     ]
    }
   ],
   "source": [
    "main()"
   ]
  }
 ],
 "metadata": {
  "kernelspec": {
   "display_name": "Go (lgo)",
   "language": "go",
   "name": "lgo"
  },
  "language_info": {
   "file_extension": "",
   "mimetype": "",
   "name": "go",
   "version": ""
  }
 },
 "nbformat": 4,
 "nbformat_minor": 2
}
